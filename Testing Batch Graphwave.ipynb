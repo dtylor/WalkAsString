{
 "cells": [
  {
   "cell_type": "code",
   "execution_count": 1,
   "metadata": {
    "collapsed": true
   },
   "outputs": [],
   "source": [
    "from utilities import load_graph_kernel_graph"
   ]
  },
  {
   "cell_type": "code",
   "execution_count": 2,
   "metadata": {
    "collapsed": true
   },
   "outputs": [],
   "source": [
    "G = load_graph_kernel_graph('../datasets/MUTAG/')"
   ]
  },
  {
   "cell_type": "code",
   "execution_count": 8,
   "metadata": {},
   "outputs": [],
   "source": [
    "from graphwave import graphwave\n",
    "from graphwave.utils import utils\n",
    "import numpy as np"
   ]
  },
  {
   "cell_type": "code",
   "execution_count": 14,
   "metadata": {},
   "outputs": [],
   "source": [
    "chi, heat_print, taus = graphwave.graphwave_alg(\n",
    "            G, np.linspace(0, 10, 25), taus='auto', verbose=True)"
   ]
  },
  {
   "cell_type": "code",
   "execution_count": 19,
   "metadata": {},
   "outputs": [
    {
     "data": {
      "text/plain": [
       "(3371, 100)"
      ]
     },
     "execution_count": 19,
     "metadata": {},
     "output_type": "execute_result"
    }
   ],
   "source": [
    "chi.shape"
   ]
  },
  {
   "cell_type": "code",
   "execution_count": 20,
   "metadata": {},
   "outputs": [
    {
     "data": {
      "text/plain": [
       "array([[1.        , 0.        , 0.99999504, ..., 0.00231403, 0.99889803,\n",
       "        0.0023854 ],\n",
       "       [1.        , 0.        , 0.99999503, ..., 0.00230394, 0.99887877,\n",
       "        0.00237394],\n",
       "       [1.        , 0.        , 0.99999598, ..., 0.00237809, 0.99900477,\n",
       "        0.00245824],\n",
       "       ...,\n",
       "       [1.        , 0.        , 0.99999163, ..., 0.00244056, 0.9982227 ,\n",
       "        0.00247638],\n",
       "       [1.        , 0.        , 0.99999636, ..., 0.00172031, 0.99925763,\n",
       "        0.00177547],\n",
       "       [1.        , 0.        , 0.99999636, ..., 0.00172031, 0.99925763,\n",
       "        0.00177547]])"
      ]
     },
     "execution_count": 20,
     "metadata": {},
     "output_type": "execute_result"
    }
   ],
   "source": []
  },
  {
   "cell_type": "code",
   "execution_count": null,
   "metadata": {
    "collapsed": true
   },
   "outputs": [],
   "source": []
  }
 ],
 "metadata": {
  "kernelspec": {
   "display_name": "Python 3",
   "language": "python",
   "name": "python3"
  },
  "language_info": {
   "codemirror_mode": {
    "name": "ipython",
    "version": 3
   },
   "file_extension": ".py",
   "mimetype": "text/x-python",
   "name": "python",
   "nbconvert_exporter": "python",
   "pygments_lexer": "ipython3",
   "version": "3.6.8"
  }
 },
 "nbformat": 4,
 "nbformat_minor": 2
}
