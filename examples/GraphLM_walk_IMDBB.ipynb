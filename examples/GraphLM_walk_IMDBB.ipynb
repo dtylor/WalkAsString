{
  "nbformat": 4,
  "nbformat_minor": 0,
  "metadata": {
    "colab": {
      "name": "GraphLM_walk_IMDBB.ipynb",
      "provenance": [],
      "collapsed_sections": [],
      "machine_shape": "hm"
    },
    "kernelspec": {
      "name": "python3",
      "display_name": "Python 3"
    },
    "accelerator": "GPU"
  },
  "cells": [
    {
      "cell_type": "code",
      "metadata": {
        "id": "aKsDT-UyFobJ",
        "colab_type": "code",
        "outputId": "e23e2279-56e2-4766-af2e-4a7fda45b88a",
        "colab": {
          "base_uri": "https://localhost:8080/",
          "height": 232
        }
      },
      "source": [
        "!git clone https://github.com/dtylor/WalkRNN.git\n",
        "%cd WalkRNN\n",
        "!ls"
      ],
      "execution_count": 0,
      "outputs": [
        {
          "output_type": "stream",
          "text": [
            "Cloning into 'WalkRNN'...\n",
            "remote: Enumerating objects: 96, done.\u001b[K\n",
            "remote: Counting objects:   1% (1/96)\u001b[K\rremote: Counting objects:   2% (2/96)\u001b[K\rremote: Counting objects:   3% (3/96)\u001b[K\rremote: Counting objects:   4% (4/96)\u001b[K\rremote: Counting objects:   5% (5/96)\u001b[K\rremote: Counting objects:   6% (6/96)\u001b[K\rremote: Counting objects:   7% (7/96)\u001b[K\rremote: Counting objects:   8% (8/96)\u001b[K\rremote: Counting objects:   9% (9/96)\u001b[K\rremote: Counting objects:  10% (10/96)\u001b[K\rremote: Counting objects:  11% (11/96)\u001b[K\rremote: Counting objects:  12% (12/96)\u001b[K\rremote: Counting objects:  13% (13/96)\u001b[K\rremote: Counting objects:  14% (14/96)\u001b[K\rremote: Counting objects:  15% (15/96)\u001b[K\rremote: Counting objects:  16% (16/96)\u001b[K\rremote: Counting objects:  17% (17/96)\u001b[K\rremote: Counting objects:  18% (18/96)\u001b[K\rremote: Counting objects:  19% (19/96)\u001b[K\rremote: Counting objects:  20% (20/96)\u001b[K\rremote: Counting objects:  21% (21/96)\u001b[K\rremote: Counting objects:  22% (22/96)\u001b[K\rremote: Counting objects:  23% (23/96)\u001b[K\rremote: Counting objects:  25% (24/96)\u001b[K\rremote: Counting objects:  26% (25/96)\u001b[K\rremote: Counting objects:  27% (26/96)\u001b[K\rremote: Counting objects:  28% (27/96)\u001b[K\rremote: Counting objects:  29% (28/96)\u001b[K\rremote: Counting objects:  30% (29/96)\u001b[K\rremote: Counting objects:  31% (30/96)\u001b[K\rremote: Counting objects:  32% (31/96)\u001b[K\rremote: Counting objects:  33% (32/96)\u001b[K\rremote: Counting objects:  34% (33/96)\u001b[K\rremote: Counting objects:  35% (34/96)\u001b[K\rremote: Counting objects:  36% (35/96)\u001b[K\rremote: Counting objects:  37% (36/96)\u001b[K\rremote: Counting objects:  38% (37/96)\u001b[K\rremote: Counting objects:  39% (38/96)\u001b[K\rremote: Counting objects:  40% (39/96)\u001b[K\rremote: Counting objects:  41% (40/96)\u001b[K\rremote: Counting objects:  42% (41/96)\u001b[K\rremote: Counting objects:  43% (42/96)\u001b[K\rremote: Counting objects:  44% (43/96)\u001b[K\rremote: Counting objects:  45% (44/96)\u001b[K\rremote: Counting objects:  46% (45/96)\u001b[K\rremote: Counting objects:  47% (46/96)\u001b[K\rremote: Counting objects:  48% (47/96)\u001b[K\rremote: Counting objects:  50% (48/96)\u001b[K\rremote: Counting objects:  51% (49/96)\u001b[K\rremote: Counting objects:  52% (50/96)\u001b[K\rremote: Counting objects:  53% (51/96)\u001b[K\rremote: Counting objects:  54% (52/96)\u001b[K\rremote: Counting objects:  55% (53/96)\u001b[K\rremote: Counting objects:  56% (54/96)\u001b[K\rremote: Counting objects:  57% (55/96)\u001b[K\rremote: Counting objects:  58% (56/96)\u001b[K\rremote: Counting objects:  59% (57/96)\u001b[K\rremote: Counting objects:  60% (58/96)\u001b[K\rremote: Counting objects:  61% (59/96)\u001b[K\rremote: Counting objects:  62% (60/96)\u001b[K\rremote: Counting objects:  63% (61/96)\u001b[K\rremote: Counting objects:  64% (62/96)\u001b[K\rremote: Counting objects:  65% (63/96)\u001b[K\rremote: Counting objects:  66% (64/96)\u001b[K\rremote: Counting objects:  67% (65/96)\u001b[K\rremote: Counting objects:  68% (66/96)\u001b[K\rremote: Counting objects:  69% (67/96)\u001b[K\rremote: Counting objects:  70% (68/96)\u001b[K\rremote: Counting objects:  71% (69/96)\u001b[K\rremote: Counting objects:  72% (70/96)\u001b[K\rremote: Counting objects:  73% (71/96)\u001b[K\rremote: Counting objects:  75% (72/96)\u001b[K\rremote: Counting objects:  76% (73/96)\u001b[K\rremote: Counting objects:  77% (74/96)\u001b[K\rremote: Counting objects:  78% (75/96)\u001b[K\rremote: Counting objects:  79% (76/96)\u001b[K\rremote: Counting objects:  80% (77/96)\u001b[K\rremote: Counting objects:  81% (78/96)\u001b[K\rremote: Counting objects:  82% (79/96)\u001b[K\rremote: Counting objects:  83% (80/96)\u001b[K\rremote: Counting objects:  84% (81/96)\u001b[K\rremote: Counting objects:  85% (82/96)\u001b[K\rremote: Counting objects:  86% (83/96)\u001b[K\rremote: Counting objects:  87% (84/96)\u001b[K\rremote: Counting objects:  88% (85/96)\u001b[K\rremote: Counting objects:  89% (86/96)\u001b[K\rremote: Counting objects:  90% (87/96)\u001b[K\rremote: Counting objects:  91% (88/96)\u001b[K\rremote: Counting objects:  92% (89/96)\u001b[K\rremote: Counting objects:  93% (90/96)\u001b[K\rremote: Counting objects:  94% (91/96)\u001b[K\rremote: Counting objects:  95% (92/96)\u001b[K\rremote: Counting objects:  96% (93/96)\u001b[K\rremote: Counting objects:  97% (94/96)\u001b[K\rremote: Counting objects:  98% (95/96)\u001b[K\rremote: Counting objects: 100% (96/96)\u001b[K\rremote: Counting objects: 100% (96/96), done.\u001b[K\n",
            "remote: Compressing objects:   1% (1/87)\u001b[K\rremote: Compressing objects:   2% (2/87)\u001b[K\rremote: Compressing objects:   3% (3/87)\u001b[K\rremote: Compressing objects:   4% (4/87)\u001b[K\rremote: Compressing objects:   5% (5/87)\u001b[K\rremote: Compressing objects:   6% (6/87)\u001b[K\rremote: Compressing objects:   8% (7/87)\u001b[K\rremote: Compressing objects:   9% (8/87)\u001b[K\rremote: Compressing objects:  10% (9/87)\u001b[K\rremote: Compressing objects:  11% (10/87)\u001b[K\rremote: Compressing objects:  12% (11/87)\u001b[K\rremote: Compressing objects:  13% (12/87)\u001b[K\rremote: Compressing objects:  14% (13/87)\u001b[K\rremote: Compressing objects:  16% (14/87)\u001b[K\rremote: Compressing objects:  17% (15/87)\u001b[K\rremote: Compressing objects:  18% (16/87)\u001b[K\rremote: Compressing objects:  19% (17/87)\u001b[K\rremote: Compressing objects:  20% (18/87)\u001b[K\rremote: Compressing objects:  21% (19/87)\u001b[K\rremote: Compressing objects:  22% (20/87)\u001b[K\rremote: Compressing objects:  24% (21/87)\u001b[K\rremote: Compressing objects:  25% (22/87)\u001b[K\rremote: Compressing objects:  26% (23/87)\u001b[K\rremote: Compressing objects:  27% (24/87)\u001b[K\rremote: Compressing objects:  28% (25/87)\u001b[K\rremote: Compressing objects:  29% (26/87)\u001b[K\rremote: Compressing objects:  31% (27/87)\u001b[K\rremote: Compressing objects:  32% (28/87)\u001b[K\rremote: Compressing objects:  33% (29/87)\u001b[K\rremote: Compressing objects:  34% (30/87)\u001b[K\rremote: Compressing objects:  35% (31/87)\u001b[K\rremote: Compressing objects:  36% (32/87)\u001b[K\rremote: Compressing objects:  37% (33/87)\u001b[K\rremote: Compressing objects:  39% (34/87)\u001b[K\rremote: Compressing objects:  40% (35/87)\u001b[K\rremote: Compressing objects:  41% (36/87)\u001b[K\rremote: Compressing objects:  42% (37/87)\u001b[K\rremote: Compressing objects:  43% (38/87)\u001b[K\rremote: Compressing objects:  44% (39/87)\u001b[K\rremote: Compressing objects:  45% (40/87)\u001b[K\rremote: Compressing objects:  47% (41/87)\u001b[K\rremote: Compressing objects:  48% (42/87)\u001b[K\rremote: Compressing objects:  49% (43/87)\u001b[K\rremote: Compressing objects:  50% (44/87)\u001b[K\rremote: Compressing objects:  51% (45/87)\u001b[K\rremote: Compressing objects:  52% (46/87)\u001b[K\rremote: Compressing objects:  54% (47/87)\u001b[K\rremote: Compressing objects:  55% (48/87)\u001b[K\rremote: Compressing objects:  56% (49/87)\u001b[K\rremote: Compressing objects:  57% (50/87)\u001b[K\rremote: Compressing objects:  58% (51/87)\u001b[K\rremote: Compressing objects:  59% (52/87)\u001b[K\rremote: Compressing objects:  60% (53/87)\u001b[K\rremote: Compressing objects:  62% (54/87)\u001b[K\rremote: Compressing objects:  63% (55/87)\u001b[K\rremote: Compressing objects:  64% (56/87)\u001b[K\rremote: Compressing objects:  65% (57/87)\u001b[K\rremote: Compressing objects:  66% (58/87)\u001b[K\rremote: Compressing objects:  67% (59/87)\u001b[K\rremote: Compressing objects:  68% (60/87)\u001b[K\rremote: Compressing objects:  70% (61/87)\u001b[K\rremote: Compressing objects:  71% (62/87)\u001b[K\rremote: Compressing objects:  72% (63/87)\u001b[K\rremote: Compressing objects:  73% (64/87)\u001b[K\rremote: Compressing objects:  74% (65/87)\u001b[K\rremote: Compressing objects:  75% (66/87)\u001b[K\rremote: Compressing objects:  77% (67/87)\u001b[K\rremote: Compressing objects:  78% (68/87)\u001b[K\rremote: Compressing objects:  79% (69/87)\u001b[K\rremote: Compressing objects:  80% (70/87)\u001b[K\rremote: Compressing objects:  81% (71/87)\u001b[K\rremote: Compressing objects:  82% (72/87)\u001b[K\rremote: Compressing objects:  83% (73/87)\u001b[K\rremote: Compressing objects:  85% (74/87)\u001b[K\rremote: Compressing objects:  86% (75/87)\u001b[K\rremote: Compressing objects:  87% (76/87)\u001b[K\rremote: Compressing objects:  88% (77/87)\u001b[K\rremote: Compressing objects:  89% (78/87)\u001b[K\rremote: Compressing objects:  90% (79/87)\u001b[K\rremote: Compressing objects:  91% (80/87)\u001b[K\rremote: Compressing objects:  93% (81/87)\u001b[K\rremote: Compressing objects:  94% (82/87)\u001b[K\rremote: Compressing objects:  95% (83/87)\u001b[K\rremote: Compressing objects:  96% (84/87)\u001b[K\rremote: Compressing objects:  97% (85/87)\u001b[K\rremote: Compressing objects:  98% (86/87)\u001b[K\rremote: Compressing objects: 100% (87/87)\u001b[K\rremote: Compressing objects: 100% (87/87), done.\u001b[K\n",
            "Receiving objects:   0% (1/422)   \rReceiving objects:   1% (5/422)   \rReceiving objects:   2% (9/422)   \rReceiving objects:   3% (13/422)   \rReceiving objects:   4% (17/422)   \rReceiving objects:   5% (22/422)   \rReceiving objects:   6% (26/422)   \rReceiving objects:   7% (30/422)   \rReceiving objects:   8% (34/422)   \rReceiving objects:   9% (38/422)   \rReceiving objects:  10% (43/422)   \rReceiving objects:  11% (47/422)   \rReceiving objects:  12% (51/422)   \rReceiving objects:  13% (55/422)   \rReceiving objects:  14% (60/422)   \rReceiving objects:  15% (64/422)   \rReceiving objects:  16% (68/422)   \rReceiving objects:  17% (72/422)   \rReceiving objects:  18% (76/422)   \rReceiving objects:  19% (81/422)   \rReceiving objects:  20% (85/422)   \rReceiving objects:  21% (89/422)   \rReceiving objects:  22% (93/422)   \rReceiving objects:  23% (98/422)   \rReceiving objects:  24% (102/422)   \rReceiving objects:  25% (106/422)   \rReceiving objects:  26% (110/422)   \rReceiving objects:  27% (114/422)   \rReceiving objects:  28% (119/422)   \rReceiving objects:  29% (123/422)   \rReceiving objects:  30% (127/422)   \rReceiving objects:  31% (131/422)   \rReceiving objects:  32% (136/422)   \rReceiving objects:  33% (140/422)   \rReceiving objects:  34% (144/422)   \rReceiving objects:  35% (148/422)   \rReceiving objects:  36% (152/422)   \rReceiving objects:  37% (157/422)   \rReceiving objects:  38% (161/422)   \rReceiving objects:  39% (165/422)   \rReceiving objects:  40% (169/422)   \rReceiving objects:  41% (174/422)   \rReceiving objects:  42% (178/422)   \rReceiving objects:  43% (182/422)   \rReceiving objects:  44% (186/422)   \rReceiving objects:  45% (190/422)   \rReceiving objects:  46% (195/422)   \rReceiving objects:  47% (199/422)   \rReceiving objects:  48% (203/422)   \rReceiving objects:  49% (207/422)   \rReceiving objects:  50% (211/422)   \rReceiving objects:  51% (216/422)   \rReceiving objects:  52% (220/422)   \rReceiving objects:  53% (224/422)   \rReceiving objects:  54% (228/422)   \rReceiving objects:  55% (233/422)   \rReceiving objects:  56% (237/422)   \rReceiving objects:  57% (241/422)   \rReceiving objects:  58% (245/422)   \rReceiving objects:  59% (249/422)   \rReceiving objects:  60% (254/422)   \rReceiving objects:  61% (258/422)   \rReceiving objects:  62% (262/422)   \rReceiving objects:  63% (266/422)   \rReceiving objects:  64% (271/422)   \rReceiving objects:  65% (275/422)   \rReceiving objects:  66% (279/422)   \rReceiving objects:  67% (283/422)   \rReceiving objects:  68% (287/422)   \rReceiving objects:  69% (292/422)   \rReceiving objects:  70% (296/422)   \rReceiving objects:  71% (300/422)   \rReceiving objects:  72% (304/422)   \rReceiving objects:  73% (309/422)   \rReceiving objects:  74% (313/422)   \rReceiving objects:  75% (317/422)   \rReceiving objects:  76% (321/422)   \rReceiving objects:  77% (325/422)   \rReceiving objects:  78% (330/422)   \rReceiving objects:  79% (334/422)   \rReceiving objects:  80% (338/422)   \rReceiving objects:  81% (342/422)   \rReceiving objects:  82% (347/422)   \rReceiving objects:  83% (351/422)   \rReceiving objects:  84% (355/422)   \rReceiving objects:  85% (359/422)   \rReceiving objects:  86% (363/422)   \rReceiving objects:  87% (368/422)   \rReceiving objects:  88% (372/422)   \rReceiving objects:  89% (376/422)   \rReceiving objects:  90% (380/422)   \rReceiving objects:  91% (385/422)   \rReceiving objects:  92% (389/422)   \rReceiving objects:  93% (393/422)   \rReceiving objects:  94% (397/422)   \rReceiving objects:  95% (401/422)   \rremote: Total 422 (delta 43), reused 26 (delta 7), pack-reused 326\u001b[K\n",
            "Receiving objects:  96% (406/422)   \rReceiving objects:  97% (410/422)   \rReceiving objects:  98% (414/422)   \rReceiving objects:  99% (418/422)   \rReceiving objects: 100% (422/422)   \rReceiving objects: 100% (422/422), 2.87 MiB | 8.65 MiB/s, done.\n",
            "Resolving deltas:   0% (0/223)   \rResolving deltas:   1% (4/223)   \rResolving deltas:  21% (49/223)   \rResolving deltas:  22% (51/223)   \rResolving deltas:  23% (52/223)   \rResolving deltas:  24% (54/223)   \rResolving deltas:  25% (56/223)   \rResolving deltas:  26% (58/223)   \rResolving deltas:  27% (62/223)   \rResolving deltas:  37% (84/223)   \rResolving deltas:  38% (86/223)   \rResolving deltas:  39% (88/223)   \rResolving deltas:  41% (93/223)   \rResolving deltas:  42% (95/223)   \rResolving deltas:  44% (100/223)   \rResolving deltas:  52% (118/223)   \rResolving deltas:  60% (135/223)   \rResolving deltas:  65% (146/223)   \rResolving deltas:  69% (154/223)   \rResolving deltas:  71% (160/223)   \rResolving deltas:  72% (161/223)   \rResolving deltas:  73% (164/223)   \rResolving deltas:  78% (175/223)   \rResolving deltas:  83% (187/223)   \rResolving deltas:  85% (190/223)   \rResolving deltas:  91% (204/223)   \rResolving deltas:  92% (207/223)   \rResolving deltas:  93% (208/223)   \rResolving deltas:  94% (211/223)   \rResolving deltas:  95% (212/223)   \rResolving deltas:  96% (215/223)   \rResolving deltas:  97% (217/223)   \rResolving deltas:  99% (221/223)   \rResolving deltas: 100% (223/223)   \rResolving deltas: 100% (223/223), done.\n",
            "/content/WalkRNN/WalkRNN\n",
            "Demonstration.ipynb  LICENSE-3RD-PARTY.txt  MUTAG.ipynb     test.py\n",
            "examples\t     LICENSE.md\t\t    n2v\t\t    TODO\n",
            "graphwave\t     module.py\t\t    OrgChart.ipynb  utilities.py\n",
            "__init__.py\t     Motivation.ipynb\t    README.md\n"
          ],
          "name": "stdout"
        }
      ]
    },
    {
      "cell_type": "code",
      "metadata": {
        "id": "9l1y-ni-R5NO",
        "colab_type": "code",
        "outputId": "f6920373-39e2-4c51-c41e-667943611d58",
        "colab": {
          "base_uri": "https://localhost:8080/",
          "height": 106
        }
      },
      "source": [
        " !curl https://course-v3.fast.ai/setup/colab | bash"
      ],
      "execution_count": 0,
      "outputs": [
        {
          "output_type": "stream",
          "text": [
            "  % Total    % Received % Xferd  Average Speed   Time    Time     Time  Current\n",
            "                                 Dload  Upload   Total   Spent    Left  Speed\n",
            "\r  0     0    0     0    0     0      0      0 --:--:-- --:--:-- --:--:--     0\r100   287  100   287    0     0   1603      0 --:--:-- --:--:-- --:--:--  1603\n",
            "bash: line 1: syntax error near unexpected token `newline'\n",
            "bash: line 1: `<!DOCTYPE HTML PUBLIC \"-//IETF//DTD HTML 2.0//EN\">'\n"
          ],
          "name": "stdout"
        }
      ]
    },
    {
      "cell_type": "code",
      "metadata": {
        "id": "6_JKMi182dqZ",
        "colab_type": "code",
        "colab": {}
      },
      "source": [
        "import fastai\n",
        "import pandas as pd"
      ],
      "execution_count": 0,
      "outputs": []
    },
    {
      "cell_type": "code",
      "metadata": {
        "id": "SVCw0bb7m2Cj",
        "colab_type": "code",
        "outputId": "d8d1ff1c-9bed-4562-a87f-ab7a5bc20e07",
        "colab": {
          "base_uri": "https://localhost:8080/",
          "height": 718
        }
      },
      "source": [
        "from fastai.utils.show_install import *\n",
        "show_install()"
      ],
      "execution_count": 0,
      "outputs": [
        {
          "output_type": "stream",
          "text": [
            "\n",
            "\n",
            "```text\n",
            "=== Software === \n",
            "python        : 3.6.8\n",
            "fastai        : 1.0.57\n",
            "fastprogress  : 0.1.21\n",
            "torch         : 1.2.0\n",
            "nvidia driver : 418.67\n",
            "torch cuda    : 10.0.130 / is available\n",
            "torch cudnn   : 7602 / is enabled\n",
            "\n",
            "=== Hardware === \n",
            "nvidia gpus   : 1\n",
            "torch devices : 1\n",
            "  - gpu0      : 11441MB | Tesla K80\n",
            "\n",
            "=== Environment === \n",
            "platform      : Linux-4.14.137+-x86_64-with-Ubuntu-18.04-bionic\n",
            "distro        : #1 SMP Thu Aug 8 02:47:02 PDT 2019\n",
            "conda env     : Unknown\n",
            "python        : /usr/bin/python3\n",
            "sys.path      : \n",
            "/env/python\n",
            "/usr/lib/python36.zip\n",
            "/usr/lib/python3.6\n",
            "/usr/lib/python3.6/lib-dynload\n",
            "/usr/local/lib/python3.6/dist-packages\n",
            "/usr/lib/python3/dist-packages\n",
            "/usr/local/lib/python3.6/dist-packages/IPython/extensions\n",
            "/root/.ipython\n",
            "../\n",
            "```\n",
            "\n",
            "Please make sure to include opening/closing ``` when you paste into forums/github to make the reports appear formatted as code sections.\n",
            "\n",
            "Optional package(s) to enhance the diagnostics can be installed with:\n",
            "pip install distro\n",
            "Once installed, re-run this utility to get the additional information\n"
          ],
          "name": "stdout"
        }
      ]
    },
    {
      "cell_type": "code",
      "metadata": {
        "id": "uFXCHxZwZrpI",
        "colab_type": "code",
        "outputId": "278bcd5a-610e-44f4-cd1d-94431e407e96",
        "colab": {
          "base_uri": "https://localhost:8080/",
          "height": 52
        }
      },
      "source": [
        "str(fastai.__dict__['version'])\n",
        "!more /usr/local/lib/python3.6/dist-packages/fastai/version.py"
      ],
      "execution_count": 0,
      "outputs": [
        {
          "output_type": "stream",
          "text": [
            "__all__ = ['__version__']\n",
            "__version__ = '1.0.57'\n"
          ],
          "name": "stdout"
        }
      ]
    },
    {
      "cell_type": "code",
      "metadata": {
        "id": "GGf5xZN9StwG",
        "colab_type": "code",
        "outputId": "91a44390-9020-466e-a982-d1be5b9e023d",
        "colab": {
          "base_uri": "https://localhost:8080/",
          "height": 88
        }
      },
      "source": [
        "!ls"
      ],
      "execution_count": 0,
      "outputs": [
        {
          "output_type": "stream",
          "text": [
            "Demonstration.ipynb  LICENSE-3RD-PARTY.txt  MUTAG.ipynb     test.py\n",
            "examples\t     LICENSE.md\t\t    n2v\t\t    TODO\n",
            "graphwave\t     module.py\t\t    OrgChart.ipynb  utilities.py\n",
            "__init__.py\t     Motivation.ipynb\t    README.md\n"
          ],
          "name": "stdout"
        }
      ]
    },
    {
      "cell_type": "code",
      "metadata": {
        "id": "EDz9suwf15gG",
        "colab_type": "code",
        "colab": {}
      },
      "source": [
        "from google.colab import drive"
      ],
      "execution_count": 0,
      "outputs": []
    },
    {
      "cell_type": "code",
      "metadata": {
        "id": "-6FICw3t19b_",
        "colab_type": "code",
        "outputId": "6f8a51e1-8905-4581-d9ca-18ff20ec34d8",
        "colab": {
          "base_uri": "https://localhost:8080/",
          "height": 34
        }
      },
      "source": [
        "drive.mount(\"/content/drive\")"
      ],
      "execution_count": 0,
      "outputs": [
        {
          "output_type": "stream",
          "text": [
            "Drive already mounted at /content/drive; to attempt to forcibly remount, call drive.mount(\"/content/drive\", force_remount=True).\n"
          ],
          "name": "stdout"
        }
      ]
    },
    {
      "cell_type": "code",
      "metadata": {
        "id": "E593LDBV2Xcl",
        "colab_type": "code",
        "outputId": "959e8e8d-773c-4b29-97c1-ebefba3a81f8",
        "colab": {
          "base_uri": "https://localhost:8080/",
          "height": 34
        }
      },
      "source": [
        "from utilities import load_graph_kernel_graph, load_graph_kernel_labels, transform_graph\n",
        "\n",
        "\n",
        "Gkern = load_graph_kernel_graph(\"./examples/data/IMDB-BINARY\")\n",
        "y = load_graph_kernel_labels(\"./examples/data/IMDB-BINARY\")\n"
      ],
      "execution_count": 0,
      "outputs": [
        {
          "output_type": "stream",
          "text": [
            "DONE\n"
          ],
          "name": "stdout"
        }
      ]
    },
    {
      "cell_type": "code",
      "metadata": {
        "id": "NP6gBvIe1p_O",
        "colab_type": "code",
        "outputId": "4594165a-b853-4e98-8564-5938a2abe454",
        "colab": {
          "base_uri": "https://localhost:8080/",
          "height": 34
        }
      },
      "source": [
        "Gkern.nodes[12]"
      ],
      "execution_count": 0,
      "outputs": [
        {
          "output_type": "execute_result",
          "data": {
            "text/plain": [
              "{'component': 1}"
            ]
          },
          "metadata": {
            "tags": []
          },
          "execution_count": 82
        }
      ]
    },
    {
      "cell_type": "code",
      "metadata": {
        "id": "PBpNWKMOxX8t",
        "colab_type": "code",
        "outputId": "bb6fc737-6a4d-4d58-b634-485d0196f536",
        "colab": {
          "base_uri": "https://localhost:8080/",
          "height": 34
        }
      },
      "source": [
        "#Transform networkx property graph into a format prepared for WalkRNN\n",
        "G, current_vocab_size = transform_graph(Gkern, params={'num_kmeans_clusters': 4, \"num_pca_components\": 6, \"num_batch\":500, 'num_att_kmeans_clusters': 10})"
      ],
      "execution_count": 0,
      "outputs": [
        {
          "output_type": "stream",
          "text": [
            "finished graphwave_alg batches\n"
          ],
          "name": "stdout"
        }
      ]
    },
    {
      "cell_type": "code",
      "metadata": {
        "id": "VrpaL8E63HvN",
        "colab_type": "code",
        "outputId": "a7ff1793-d7dc-4e02-eec2-fb63ac10e741",
        "colab": {
          "base_uri": "https://localhost:8080/",
          "height": 34
        }
      },
      "source": [
        "G.nodes[12]"
      ],
      "execution_count": 0,
      "outputs": [
        {
          "output_type": "execute_result",
          "data": {
            "text/plain": [
              "{'component': 1, 'structure': 3}"
            ]
          },
          "metadata": {
            "tags": []
          },
          "execution_count": 84
        }
      ]
    },
    {
      "cell_type": "code",
      "metadata": {
        "id": "bzBaGdbeZxn7",
        "colab_type": "code",
        "colab": {}
      },
      "source": [
        "import matplotlib.pyplot as plt\n",
        "import networkx as nx\n",
        "# create number for each group to allow use of colormap\n",
        "from itertools import count\n",
        "\n",
        "\n",
        "def plotGW(tmpG, comp_no):\n",
        " # get unique groups\n",
        " groups = set(nx.get_node_attributes(tmpG,'structure').values())\n",
        "\n",
        " mapping = dict(zip(sorted(groups),count()))\n",
        "  \n",
        " comp_nodes = [x for x,y in tmpG.nodes(data=True) if y['component']==comp_no]\n",
        " print(len(comp_nodes))\n",
        " subgraph = tmpG.subgraph(comp_nodes)\n",
        " nodes = subgraph.nodes()\n",
        " colors = [mapping[subgraph.node[n]['structure']] for n in nodes]\n",
        "\n",
        " # drawing nodes and edges separately so we can capture collection for colobar\n",
        " pos = nx.spring_layout(subgraph)\n",
        " ec = nx.draw_networkx_edges(subgraph, pos, with_labels=True,alpha=0.2)\n",
        " nc = nx.draw_networkx_nodes(subgraph, pos, nodelist=nodes, node_color=colors, \n",
        "                            with_labels=True, node_size=100, cmap=plt.cm.jet, vmin=0,vmax=3)\n",
        " plt.colorbar(nc)\n",
        " plt.axis('off')\n",
        " plt.show()\n",
        " print(nx.get_node_attributes(subgraph,'structure'))\n",
        " "
      ],
      "execution_count": 0,
      "outputs": []
    },
    {
      "cell_type": "code",
      "metadata": {
        "id": "_u-PlMacGYHK",
        "colab_type": "code",
        "outputId": "b44827d3-855f-4345-8ef7-5fdc8241ffdc",
        "colab": {
          "base_uri": "https://localhost:8080/",
          "height": 294
        }
      },
      "source": [
        "\n",
        "plotGW(G,1)"
      ],
      "execution_count": 0,
      "outputs": [
        {
          "output_type": "stream",
          "text": [
            "20\n"
          ],
          "name": "stdout"
        },
        {
          "output_type": "display_data",
          "data": {
            "image/png": "[encoded data removed]",
            "text/plain": [
              "<Figure size 432x288 with 2 Axes>"
            ]
          },
          "metadata": {
            "tags": []
          }
        },
        {
          "output_type": "stream",
          "text": [
            "{1: 3, 2: 1, 3: 2, 4: 3, 5: 3, 6: 3, 7: 0, 8: 3, 9: 1, 10: 3, 11: 3, 12: 3, 13: 0, 14: 3, 15: 1, 16: 3, 17: 3, 18: 1, 19: 1, 20: 0}\n"
          ],
          "name": "stdout"
        }
      ]
    },
    {
      "cell_type": "code",
      "metadata": {
        "id": "pAF7Mu8Tvp4t",
        "colab_type": "code",
        "outputId": "b67fdc5b-5e86-43ad-83ce-0b7950d56d34",
        "colab": {
          "base_uri": "https://localhost:8080/",
          "height": 294
        }
      },
      "source": [
        "plotGW(G,2)"
      ],
      "execution_count": 0,
      "outputs": [
        {
          "output_type": "stream",
          "text": [
            "32\n"
          ],
          "name": "stdout"
        },
        {
          "output_type": "display_data",
          "data": {
            "image/png": "[encoded data removed]",
            "text/plain": [
              "<Figure size 432x288 with 2 Axes>"
            ]
          },
          "metadata": {
            "tags": []
          }
        },
        {
          "output_type": "stream",
          "text": [
            "{21: 3, 22: 3, 23: 3, 24: 1, 25: 1, 26: 1, 27: 3, 28: 3, 29: 3, 30: 3, 31: 3, 32: 3, 33: 3, 34: 1, 35: 2, 36: 3, 37: 3, 38: 3, 39: 3, 40: 3, 41: 1, 42: 1, 43: 3, 44: 2, 45: 3, 46: 3, 47: 1, 48: 3, 49: 1, 50: 1, 51: 3, 52: 3}\n"
          ],
          "name": "stdout"
        }
      ]
    },
    {
      "cell_type": "code",
      "metadata": {
        "id": "TUllgenOGfMt",
        "colab_type": "code",
        "outputId": "d5dddb2c-5b39-4727-ec38-270cbb46eab4",
        "colab": {
          "base_uri": "https://localhost:8080/",
          "height": 294
        }
      },
      "source": [
        "plotGW(G,3)"
      ],
      "execution_count": 0,
      "outputs": [
        {
          "output_type": "stream",
          "text": [
            "21\n"
          ],
          "name": "stdout"
        },
        {
          "output_type": "display_data",
          "data": {
            "image/png": "[encoded data removed]",
            "text/plain": [
              "<Figure size 432x288 with 2 Axes>"
            ]
          },
          "metadata": {
            "tags": []
          }
        },
        {
          "output_type": "stream",
          "text": [
            "{53: 0, 54: 3, 55: 2, 56: 0, 57: 3, 58: 0, 59: 0, 60: 0, 61: 3, 62: 3, 63: 3, 64: 0, 65: 0, 66: 3, 67: 3, 68: 3, 69: 3, 70: 3, 71: 3, 72: 0, 73: 0}\n"
          ],
          "name": "stdout"
        }
      ]
    },
    {
      "cell_type": "code",
      "metadata": {
        "id": "XIpyDNCaM5SS",
        "colab_type": "code",
        "outputId": "370b3bd7-f009-47e4-98ca-f3c7e2a47bd6",
        "colab": {
          "base_uri": "https://localhost:8080/",
          "height": 294
        }
      },
      "source": [
        "plotGW(G,151)"
      ],
      "execution_count": 0,
      "outputs": [
        {
          "output_type": "stream",
          "text": [
            "14\n"
          ],
          "name": "stdout"
        },
        {
          "output_type": "display_data",
          "data": {
            "image/png": "[encoded data removed]",
            "text/plain": [
              "<Figure size 432x288 with 2 Axes>"
            ]
          },
          "metadata": {
            "tags": []
          }
        },
        {
          "output_type": "stream",
          "text": [
            "{3008: 0, 3009: 3, 3010: 3, 3011: 0, 3012: 0, 3013: 0, 3014: 2, 3015: 3, 3016: 0, 3017: 0, 3018: 3, 3019: 3, 3020: 3, 3007: 0}\n"
          ],
          "name": "stdout"
        }
      ]
    },
    {
      "cell_type": "code",
      "metadata": {
        "id": "vNY1lkrIRF15",
        "colab_type": "code",
        "outputId": "4d1a1601-5c6e-4293-b277-71a842a32464",
        "colab": {
          "base_uri": "https://localhost:8080/",
          "height": 294
        }
      },
      "source": [
        "plotGW(G,11)"
      ],
      "execution_count": 0,
      "outputs": [
        {
          "output_type": "stream",
          "text": [
            "12\n"
          ],
          "name": "stdout"
        },
        {
          "output_type": "display_data",
          "data": {
            "image/png": "[encoded data removed]",
            "text/plain": [
              "<Figure size 432x288 with 2 Axes>"
            ]
          },
          "metadata": {
            "tags": []
          }
        },
        {
          "output_type": "stream",
          "text": [
            "{243: 0, 244: 0, 245: 0, 246: 0, 247: 0, 248: 0, 249: 0, 250: 0, 251: 2, 252: 0, 253: 0, 254: 0}\n"
          ],
          "name": "stdout"
        }
      ]
    },
    {
      "cell_type": "code",
      "metadata": {
        "id": "atiOOj03RKPJ",
        "colab_type": "code",
        "outputId": "90ac4a6f-db27-4056-db86-c2e7ac6fd88c",
        "colab": {
          "base_uri": "https://localhost:8080/",
          "height": 294
        }
      },
      "source": [
        "plotGW(G,160)"
      ],
      "execution_count": 0,
      "outputs": [
        {
          "output_type": "stream",
          "text": [
            "15\n"
          ],
          "name": "stdout"
        },
        {
          "output_type": "display_data",
          "data": {
            "image/png": "[encoded data removed]",
            "text/plain": [
              "<Figure size 432x288 with 2 Axes>"
            ]
          },
          "metadata": {
            "tags": []
          }
        },
        {
          "output_type": "stream",
          "text": [
            "{3185: 0, 3186: 0, 3187: 0, 3188: 0, 3189: 0, 3190: 0, 3191: 0, 3192: 0, 3193: 0, 3194: 0, 3195: 0, 3196: 0, 3197: 0, 3198: 0, 3199: 0}\n"
          ],
          "name": "stdout"
        }
      ]
    },
    {
      "cell_type": "code",
      "metadata": {
        "id": "_-QuZA4MRMri",
        "colab_type": "code",
        "outputId": "f1924210-9900-4d82-db18-b898f3bb1ee7",
        "colab": {
          "base_uri": "https://localhost:8080/",
          "height": 294
        }
      },
      "source": [
        "plotGW(G,18)"
      ],
      "execution_count": 0,
      "outputs": [
        {
          "output_type": "stream",
          "text": [
            "12\n"
          ],
          "name": "stdout"
        },
        {
          "output_type": "display_data",
          "data": {
            "image/png": "[encoded data removed]",
            "text/plain": [
              "<Figure size 432x288 with 2 Axes>"
            ]
          },
          "metadata": {
            "tags": []
          }
        },
        {
          "output_type": "stream",
          "text": [
            "{418: 0, 419: 0, 420: 3, 421: 0, 422: 3, 423: 3, 424: 0, 425: 3, 426: 0, 427: 0, 428: 0, 429: 0}\n"
          ],
          "name": "stdout"
        }
      ]
    },
    {
      "cell_type": "code",
      "metadata": {
        "id": "m26A0mUrRPIR",
        "colab_type": "code",
        "outputId": "39a21bc2-6e28-428a-a772-4be47a481f73",
        "colab": {
          "base_uri": "https://localhost:8080/",
          "height": 294
        }
      },
      "source": [
        "plotGW(G,140)"
      ],
      "execution_count": 0,
      "outputs": [
        {
          "output_type": "stream",
          "text": [
            "17\n"
          ],
          "name": "stdout"
        },
        {
          "output_type": "display_data",
          "data": {
            "image/png": "[encoded data removed]",
            "text/plain": [
              "<Figure size 432x288 with 2 Axes>"
            ]
          },
          "metadata": {
            "tags": []
          }
        },
        {
          "output_type": "stream",
          "text": [
            "{2816: 0, 2817: 1, 2818: 1, 2819: 3, 2820: 3, 2821: 0, 2822: 2, 2823: 3, 2824: 3, 2825: 2, 2826: 3, 2810: 0, 2811: 0, 2812: 0, 2813: 3, 2814: 0, 2815: 0}\n"
          ],
          "name": "stdout"
        }
      ]
    },
    {
      "cell_type": "code",
      "metadata": {
        "id": "V099nA0W3_Ke",
        "colab_type": "code",
        "colab": {}
      },
      "source": [
        "from module import walk_as_string"
      ],
      "execution_count": 0,
      "outputs": []
    },
    {
      "cell_type": "code",
      "metadata": {
        "id": "ZS0mgPZo4PED",
        "colab_type": "code",
        "outputId": "e69bdd45-6224-430e-ee38-a4f296d7a045",
        "colab": {
          "base_uri": "https://localhost:8080/",
          "height": 484
        }
      },
      "source": [
        "walks = walk_as_string(G, componentLabels = y)"
      ],
      "execution_count": 0,
      "outputs": [
        {
          "output_type": "stream",
          "text": [
            "Walk iteration:\n",
            "('1', '/', '20')\n",
            "('2', '/', '20')\n",
            "('3', '/', '20')\n",
            "('4', '/', '20')\n",
            "('5', '/', '20')\n",
            "('6', '/', '20')\n",
            "('7', '/', '20')\n",
            "('8', '/', '20')\n",
            "('9', '/', '20')\n",
            "('10', '/', '20')\n",
            "('11', '/', '20')\n",
            "('12', '/', '20')\n",
            "('13', '/', '20')\n",
            "('14', '/', '20')\n",
            "('15', '/', '20')\n",
            "('16', '/', '20')\n",
            "('17', '/', '20')\n",
            "('18', '/', '20')\n",
            "('19', '/', '20')\n",
            "('20', '/', '20')\n"
          ],
          "name": "stdout"
        },
        {
          "output_type": "stream",
          "text": [
            "/content/WalkRNN/module.py:140: FutureWarning: Method .as_matrix will be removed in a future version. Use .values instead.\n",
            "  sorted_walks = pd.DataFrame(walks).sort_values(0).as_matrix()\n"
          ],
          "name": "stderr"
        },
        {
          "output_type": "stream",
          "text": [
            "[ 1  6 10  6 11  3 15 20  4 13 15 18 20  4 13 20 18 19 15 13  7  4 17  4 17 12  7  9 18 20]\n",
            "[ 1  3  7  9 13  2 13  7 20  9  7 13  2 18  7  3  1  6  5 11 10  3  4  7 13 15 19  9 18  7]\n",
            "[ 1  3 19 18 19  2 13 12  7  3  9  3 18  9  2 15  7 15 13 18 15 19  9 19  3  4 13 18 15 13]\n"
          ],
          "name": "stdout"
        }
      ]
    },
    {
      "cell_type": "code",
      "metadata": {
        "id": "AVzunvIC1-6B",
        "colab_type": "code",
        "colab": {}
      },
      "source": [
        "from fastai.text import *\n",
        "from sklearn.model_selection import train_test_split\n",
        "import numpy"
      ],
      "execution_count": 0,
      "outputs": []
    },
    {
      "cell_type": "code",
      "metadata": {
        "id": "kwjfuvQZhwmT",
        "colab_type": "code",
        "outputId": "fb331c6f-8fb5-4602-a190-b4237355412f",
        "colab": {
          "base_uri": "https://localhost:8080/",
          "height": 189
        }
      },
      "source": [
        "walks.head()"
      ],
      "execution_count": 0,
      "outputs": [
        {
          "output_type": "execute_result",
          "data": {
            "text/html": [
              "<div>\n",
              "<style scoped>\n",
              "    .dataframe tbody tr th:only-of-type {\n",
              "        vertical-align: middle;\n",
              "    }\n",
              "\n",
              "    .dataframe tbody tr th {\n",
              "        vertical-align: top;\n",
              "    }\n",
              "\n",
              "    .dataframe thead th {\n",
              "        text-align: right;\n",
              "    }\n",
              "</style>\n",
              "<table border=\"1\" class=\"dataframe\">\n",
              "  <thead>\n",
              "    <tr style=\"text-align: right;\">\n",
              "      <th></th>\n",
              "      <th>walk</th>\n",
              "      <th>label</th>\n",
              "      <th>start_node</th>\n",
              "      <th>component</th>\n",
              "    </tr>\n",
              "  </thead>\n",
              "  <tbody>\n",
              "    <tr>\n",
              "      <th>0</th>\n",
              "      <td>3  3  3  3  3  2  1  0  3  0  1  1  0  3  0  0...</td>\n",
              "      <td>0</td>\n",
              "      <td>1</td>\n",
              "      <td>1</td>\n",
              "    </tr>\n",
              "    <tr>\n",
              "      <th>1</th>\n",
              "      <td>3  2  0  1  0  1  0  0  0  1  0  0  1  1  0  2...</td>\n",
              "      <td>0</td>\n",
              "      <td>1</td>\n",
              "      <td>1</td>\n",
              "    </tr>\n",
              "    <tr>\n",
              "      <th>2</th>\n",
              "      <td>3  2  1  1  1  1  0  3  0  2  1  2  1  1  1  1...</td>\n",
              "      <td>0</td>\n",
              "      <td>1</td>\n",
              "      <td>1</td>\n",
              "    </tr>\n",
              "    <tr>\n",
              "      <th>3</th>\n",
              "      <td>3  3  2  3  3  3  2  1  2  3  3  2  1  0  3  3...</td>\n",
              "      <td>0</td>\n",
              "      <td>1</td>\n",
              "      <td>1</td>\n",
              "    </tr>\n",
              "    <tr>\n",
              "      <th>4</th>\n",
              "      <td>3  3  2  1  0  3  2  0  3  3  0  1  1  1  0  1...</td>\n",
              "      <td>0</td>\n",
              "      <td>1</td>\n",
              "      <td>1</td>\n",
              "    </tr>\n",
              "  </tbody>\n",
              "</table>\n",
              "</div>"
            ],
            "text/plain": [
              "                                                walk  ...  component\n",
              "0  3  3  3  3  3  2  1  0  3  0  1  1  0  3  0  0...  ...          1\n",
              "1  3  2  0  1  0  1  0  0  0  1  0  0  1  1  0  2...  ...          1\n",
              "2  3  2  1  1  1  1  0  3  0  2  1  2  1  1  1  1...  ...          1\n",
              "3  3  3  2  3  3  3  2  1  2  3  3  2  1  0  3  3...  ...          1\n",
              "4  3  3  2  1  0  3  2  0  3  3  0  1  1  1  0  1...  ...          1\n",
              "\n",
              "[5 rows x 4 columns]"
            ]
          },
          "metadata": {
            "tags": []
          },
          "execution_count": 97
        }
      ]
    },
    {
      "cell_type": "code",
      "metadata": {
        "id": "o1VO6MkuiVqB",
        "colab_type": "code",
        "outputId": "15ac04c0-a3a2-4e7e-8058-dbc5c236af28",
        "colab": {
          "base_uri": "https://localhost:8080/",
          "height": 34
        }
      },
      "source": [
        "walks.shape"
      ],
      "execution_count": 0,
      "outputs": [
        {
          "output_type": "execute_result",
          "data": {
            "text/plain": [
              "(395460, 4)"
            ]
          },
          "metadata": {
            "tags": []
          },
          "execution_count": 98
        }
      ]
    },
    {
      "cell_type": "code",
      "metadata": {
        "id": "7wNVf9JKdmfy",
        "colab_type": "code",
        "colab": {}
      },
      "source": [
        "from sklearn.model_selection import train_test_split\n",
        "import numpy\n",
        "data = list(set(walks.component))\n",
        "x_traina ,x_test = train_test_split(data,test_size=0.1)    \n",
        "x_train ,x_val = train_test_split(x_traina,test_size=0.2)  \n"
      ],
      "execution_count": 0,
      "outputs": []
    },
    {
      "cell_type": "code",
      "metadata": {
        "id": "76ro7tvTdxrl",
        "colab_type": "code",
        "outputId": "6f346e8c-0ffb-4b37-9e6b-70d4aabd8a9a",
        "colab": {
          "base_uri": "https://localhost:8080/",
          "height": 34
        }
      },
      "source": [
        "train_tmp = pd.DataFrame(x_train)\n",
        "train_tmp.columns = ['component']\n",
        "df_train = pd.merge(walks, train_tmp, on='component', sort=False)\n",
        "df_train.shape"
      ],
      "execution_count": 0,
      "outputs": [
        {
          "output_type": "execute_result",
          "data": {
            "text/plain": [
              "(284180, 4)"
            ]
          },
          "metadata": {
            "tags": []
          },
          "execution_count": 100
        }
      ]
    },
    {
      "cell_type": "code",
      "metadata": {
        "id": "xDBYiP6Hd2Dd",
        "colab_type": "code",
        "outputId": "fc5795e4-4cc4-4e1c-9946-a5ef531b75a5",
        "colab": {
          "base_uri": "https://localhost:8080/",
          "height": 34
        }
      },
      "source": [
        "test_tmp = pd.DataFrame(x_test)\n",
        "test_tmp.columns = ['component']\n",
        "df_test = pd.merge(walks, test_tmp, on='component', sort=False)\n",
        "df_test.shape"
      ],
      "execution_count": 0,
      "outputs": [
        {
          "output_type": "execute_result",
          "data": {
            "text/plain": [
              "(38600, 4)"
            ]
          },
          "metadata": {
            "tags": []
          },
          "execution_count": 101
        }
      ]
    },
    {
      "cell_type": "code",
      "metadata": {
        "id": "bjLmYukLeCHq",
        "colab_type": "code",
        "outputId": "33921a92-50f7-48ed-d2ee-31603ca73ceb",
        "colab": {
          "base_uri": "https://localhost:8080/",
          "height": 34
        }
      },
      "source": [
        "val_tmp = pd.DataFrame(x_val)\n",
        "val_tmp.columns = ['component']\n",
        "df_val = pd.merge(walks, val_tmp, on='component', sort=False)\n",
        "df_val.shape"
      ],
      "execution_count": 0,
      "outputs": [
        {
          "output_type": "execute_result",
          "data": {
            "text/plain": [
              "(72680, 4)"
            ]
          },
          "metadata": {
            "tags": []
          },
          "execution_count": 102
        }
      ]
    },
    {
      "cell_type": "code",
      "metadata": {
        "id": "jUebKPZo9j7H",
        "colab_type": "code",
        "colab": {}
      },
      "source": [
        "!mkdir result\n",
        "mypath = './result'"
      ],
      "execution_count": 0,
      "outputs": []
    },
    {
      "cell_type": "code",
      "metadata": {
        "id": "nIiT5y-B6Pbl",
        "colab_type": "code",
        "colab": {}
      },
      "source": [
        "data_lm = TextLMDataBunch.from_df(train_df=df_train[['walk', 'label']], valid_df=df_val[[\n",
        "                                  'walk', 'label']],  path=mypath, text_cols='walk', label_cols='label')\n"
      ],
      "execution_count": 0,
      "outputs": []
    },
    {
      "cell_type": "code",
      "metadata": {
        "id": "PGky3pxO94ym",
        "colab_type": "code",
        "colab": {}
      },
      "source": [
        "data_lm.save('data_lm.pkl')"
      ],
      "execution_count": 0,
      "outputs": []
    },
    {
      "cell_type": "code",
      "metadata": {
        "id": "TMrIxld1OHnu",
        "colab_type": "code",
        "outputId": "f146dbd0-bc7b-4e41-b84b-701fa1ec0a9c",
        "colab": {
          "base_uri": "https://localhost:8080/",
          "height": 52
        }
      },
      "source": [
        "!ls -l ./result"
      ],
      "execution_count": 0,
      "outputs": [
        {
          "output_type": "stream",
          "text": [
            "total 118740\n",
            "-rw-r--r-- 1 root root 121589096 Sep 30 21:45 data_lm.pkl\n"
          ],
          "name": "stdout"
        }
      ]
    },
    {
      "cell_type": "code",
      "metadata": {
        "id": "toyh21Rp9_Yn",
        "colab_type": "code",
        "colab": {}
      },
      "source": [
        "bs = 32\n",
        "# load the data (can be used in the future as well to prevent reprocessing)\n",
        "data_lm = load_data(mypath, 'data_lm.pkl', bs=bs)\n"
      ],
      "execution_count": 0,
      "outputs": []
    },
    {
      "cell_type": "code",
      "metadata": {
        "id": "ig9trRhkLccB",
        "colab_type": "code",
        "outputId": "ca93f274-0eab-4241-eca2-450bde15d4dc",
        "colab": {
          "base_uri": "https://localhost:8080/",
          "height": 189
        }
      },
      "source": [
        "data_lm.show_batch() # take a look at the batch fed into the GPU"
      ],
      "execution_count": 0,
      "outputs": [
        {
          "output_type": "display_data",
          "data": {
            "text/html": [
              "<table border=\"1\" class=\"dataframe\">\n",
              "  <thead>\n",
              "    <tr style=\"text-align: right;\">\n",
              "      <th>idx</th>\n",
              "      <th>text</th>\n",
              "    </tr>\n",
              "  </thead>\n",
              "  <tbody>\n",
              "    <tr>\n",
              "      <td>0</td>\n",
              "      <td>0 1 0 xxwrep 5 1 2 3 0 1 1 0 xxbos 3 3 2 3 3 3 2 1 2 3 3 2 1 0 3 3 0 1 0 1 1 0 1 1 1 2 3 2 3 0 xxbos 3 3 2 1 0 3 2 0 3 3 0 1 1 1 0 1 0 3 3 0 1 0 3 2 3 3</td>\n",
              "    </tr>\n",
              "    <tr>\n",
              "      <td>1</td>\n",
              "      <td>xxbos xxwrep 29 0 0 xxbos xxwrep 29 0 0 xxbos xxwrep 29 0 0 xxbos xxwrep 29 0 0 xxbos xxwrep 29 0 0 xxbos xxwrep 29 0 0 xxbos xxwrep 29 0 0 xxbos xxwrep 29 0 0 xxbos xxwrep 29 0 0 xxbos xxwrep 29 0 0 xxbos xxwrep 29 0 0 xxbos xxwrep 29 0 0 xxbos xxwrep 29 0 0 xxbos xxwrep 29 0 0</td>\n",
              "    </tr>\n",
              "    <tr>\n",
              "      <td>2</td>\n",
              "      <td>0 0 1 2 3 3 1 2 3 0 1 0 0 0 1 3 xxbos xxwrep 4 3 2 0 1 1 0 1 0 0 2 0 1 1 0 1 3 0 2 1 0 1 0 0 0 1 1 0 xxbos xxwrep 6 3 2 3 3 1 2 xxwrep 7 3 2 3 3 3 2 1 0 1 0 0 0 2</td>\n",
              "    </tr>\n",
              "    <tr>\n",
              "      <td>3</td>\n",
              "      <td>2 xxwrep 4 3 2 xxwrep 10 3 2 xxwrep 5 1 2 3 2 3 2 3 xxbos xxwrep 5 3 2 3 2 xxwrep 6 3 2 xxwrep 6 3 2 xxwrep 7 1 1 xxbos 3 3 3 2 3 3 2 xxwrep 10 3 2 1 3 3 3 1 3 3 2 3 2 3 3 xxbos 3 3 3 2 3 1 2 xxwrep</td>\n",
              "    </tr>\n",
              "    <tr>\n",
              "      <td>4</td>\n",
              "      <td>3 3 1 3 1 2 1 3 3 3 xxbos 3 2 1 3 3 1 3 3 xxwrep 6 1 3 3 1 3 1 1 3 1 3 2 xxwrep 5 1 3 xxbos 3 1 3 3 2 1 3 1 3 3 3 xxwrep 12 1 3 2 3 3 2 1 3 xxbos 3 2 3 3 3 1 1 3 2 xxwrep 6</td>\n",
              "    </tr>\n",
              "  </tbody>\n",
              "</table>"
            ],
            "text/plain": [
              "<IPython.core.display.HTML object>"
            ]
          },
          "metadata": {
            "tags": []
          }
        }
      ]
    },
    {
      "cell_type": "code",
      "metadata": {
        "id": "vCOueJDZXNCJ",
        "colab_type": "code",
        "colab": {}
      },
      "source": [
        "awd_lstm_lm_config = dict(emb_sz=400, n_hid=600, n_layers=1, pad_token=1, qrnn=False, bidir=False, output_p=0.1, hidden_p=0.15, input_p=0.25, embed_p=0.02, weight_p=0.2, tie_weights=True, out_bias=True)\n",
        "awd_lstm_clas_config = dict(emb_sz=400, n_hid=600, n_layers=1, pad_token=1, qrnn=False, bidir=False, output_p=0.4,  hidden_p=0.3, input_p=0.4, embed_p=0.05, weight_p=0.5)"
      ],
      "execution_count": 0,
      "outputs": []
    },
    {
      "cell_type": "code",
      "metadata": {
        "id": "mFr6Dq5d-B6E",
        "colab_type": "code",
        "outputId": "f57587ec-266f-412a-b5de-6cd761333384",
        "colab": {
          "base_uri": "https://localhost:8080/",
          "height": 877
        }
      },
      "source": [
        "\n",
        "learn = language_model_learner(data_lm,arch=AWD_LSTM,config= awd_lstm_lm_config,drop_mult=1.9, callback_fns=ShowGraph,pretrained=False)\n",
        "learn.lr_find()\n",
        "learn.recorder.plot()\n",
        "learn.fit_one_cycle(1, 1e-2, moms=(0.8,0.7))\n",
        "learn.recorder.plot_losses()\n",
        "learn.save('fit-head')\n",
        "\n"
      ],
      "execution_count": 0,
      "outputs": [
        {
          "output_type": "display_data",
          "data": {
            "text/html": [
              ""
            ],
            "text/plain": [
              "<IPython.core.display.HTML object>"
            ]
          },
          "metadata": {
            "tags": []
          }
        },
        {
          "output_type": "stream",
          "text": [
            "LR Finder is complete, type {learner_name}.recorder.plot() to see the graph.\n"
          ],
          "name": "stdout"
        },
        {
          "output_type": "display_data",
          "data": {
            "text/html": [
              "<table border=\"1\" class=\"dataframe\">\n",
              "  <thead>\n",
              "    <tr style=\"text-align: left;\">\n",
              "      <th>epoch</th>\n",
              "      <th>train_loss</th>\n",
              "      <th>valid_loss</th>\n",
              "      <th>accuracy</th>\n",
              "      <th>time</th>\n",
              "    </tr>\n",
              "  </thead>\n",
              "  <tbody>\n",
              "    <tr>\n",
              "      <td>0</td>\n",
              "      <td>1.110198</td>\n",
              "      <td>1.072808</td>\n",
              "      <td>0.554394</td>\n",
              "      <td>01:23</td>\n",
              "    </tr>\n",
              "  </tbody>\n",
              "</table>"
            ],
            "text/plain": [
              "<IPython.core.display.HTML object>"
            ]
          },
          "metadata": {
            "tags": []
          }
        },
        {
          "output_type": "display_data",
          "data": {
            "image/png": "[encoded data removed]",
            "text/plain": [
              "<Figure size 432x288 with 1 Axes>"
            ]
          },
          "metadata": {
            "tags": []
          }
        },
        {
          "output_type": "display_data",
          "data": {
            "image/png": "[encoded data removed]",
            "text/plain": [
              "<Figure size 432x288 with 1 Axes>"
            ]
          },
          "metadata": {
            "tags": []
          }
        },
        {
          "output_type": "display_data",
          "data": {
            "image/png": "[encoded data removed]",
            "text/plain": [
              "<Figure size 432x288 with 1 Axes>"
            ]
          },
          "metadata": {
            "tags": []
          }
        }
      ]
    },
    {
      "cell_type": "code",
      "metadata": {
        "id": "7LiPMqtHGbIv",
        "colab_type": "code",
        "outputId": "a7fe1de4-edd8-47f7-fa7a-76cf55ac5705",
        "colab": {
          "base_uri": "https://localhost:8080/",
          "height": 301
        }
      },
      "source": [
        "learn.unfreeze()\n",
        "learn.lr_find()\n",
        "learn.recorder.plot()"
      ],
      "execution_count": 0,
      "outputs": [
        {
          "output_type": "display_data",
          "data": {
            "text/html": [
              ""
            ],
            "text/plain": [
              "<IPython.core.display.HTML object>"
            ]
          },
          "metadata": {
            "tags": []
          }
        },
        {
          "output_type": "stream",
          "text": [
            "LR Finder is complete, type {learner_name}.recorder.plot() to see the graph.\n"
          ],
          "name": "stdout"
        },
        {
          "output_type": "display_data",
          "data": {
            "image/png": "[encoded data removed]",
            "text/plain": [
              "<Figure size 432x288 with 1 Axes>"
            ]
          },
          "metadata": {
            "tags": []
          }
        }
      ]
    },
    {
      "cell_type": "code",
      "metadata": {
        "id": "6TE19CDyHA54",
        "colab_type": "code",
        "outputId": "a16f861a-415c-4aeb-b23b-7487dfe8944a",
        "colab": {
          "base_uri": "https://localhost:8080/",
          "height": 469
        }
      },
      "source": [
        "learn.fit_one_cycle(6, .01, moms=(0.8,0.7))"
      ],
      "execution_count": 0,
      "outputs": [
        {
          "output_type": "display_data",
          "data": {
            "text/html": [
              "<table border=\"1\" class=\"dataframe\">\n",
              "  <thead>\n",
              "    <tr style=\"text-align: left;\">\n",
              "      <th>epoch</th>\n",
              "      <th>train_loss</th>\n",
              "      <th>valid_loss</th>\n",
              "      <th>accuracy</th>\n",
              "      <th>time</th>\n",
              "    </tr>\n",
              "  </thead>\n",
              "  <tbody>\n",
              "    <tr>\n",
              "      <td>0</td>\n",
              "      <td>1.130570</td>\n",
              "      <td>1.078122</td>\n",
              "      <td>0.552499</td>\n",
              "      <td>01:22</td>\n",
              "    </tr>\n",
              "    <tr>\n",
              "      <td>1</td>\n",
              "      <td>1.121426</td>\n",
              "      <td>1.084018</td>\n",
              "      <td>0.543229</td>\n",
              "      <td>01:21</td>\n",
              "    </tr>\n",
              "    <tr>\n",
              "      <td>2</td>\n",
              "      <td>1.105719</td>\n",
              "      <td>1.078315</td>\n",
              "      <td>0.547379</td>\n",
              "      <td>01:22</td>\n",
              "    </tr>\n",
              "    <tr>\n",
              "      <td>3</td>\n",
              "      <td>1.091431</td>\n",
              "      <td>1.052374</td>\n",
              "      <td>0.561015</td>\n",
              "      <td>01:22</td>\n",
              "    </tr>\n",
              "    <tr>\n",
              "      <td>4</td>\n",
              "      <td>1.070814</td>\n",
              "      <td>1.035715</td>\n",
              "      <td>0.563487</td>\n",
              "      <td>01:22</td>\n",
              "    </tr>\n",
              "    <tr>\n",
              "      <td>5</td>\n",
              "      <td>1.071661</td>\n",
              "      <td>1.027964</td>\n",
              "      <td>0.569084</td>\n",
              "      <td>01:22</td>\n",
              "    </tr>\n",
              "  </tbody>\n",
              "</table>"
            ],
            "text/plain": [
              "<IPython.core.display.HTML object>"
            ]
          },
          "metadata": {
            "tags": []
          }
        },
        {
          "output_type": "display_data",
          "data": {
            "image/png": "[encoded data removed]",
            "text/plain": [
              "<Figure size 432x288 with 1 Axes>"
            ]
          },
          "metadata": {
            "tags": []
          }
        }
      ]
    },
    {
      "cell_type": "code",
      "metadata": {
        "id": "NcovqscTHKID",
        "colab_type": "code",
        "colab": {}
      },
      "source": [
        "learn.save('fit-head')"
      ],
      "execution_count": 0,
      "outputs": []
    },
    {
      "cell_type": "code",
      "metadata": {
        "id": "IbxpqRfHJFEG",
        "colab_type": "code",
        "colab": {}
      },
      "source": [
        "learn.save_encoder('fine_tuned_enc3')"
      ],
      "execution_count": 0,
      "outputs": []
    },
    {
      "cell_type": "code",
      "metadata": {
        "id": "GbfYoP9NJ6Ai",
        "colab_type": "code",
        "outputId": "1f912f16-86ef-4d12-91ce-2bbd8ffa889c",
        "colab": {
          "base_uri": "https://localhost:8080/",
          "height": 189
        }
      },
      "source": [
        "df = walks.sample(frac=1).reset_index(drop=True)\n",
        "df['index1']=df.index\n",
        "\n",
        "g = df.groupby('component')\n",
        "df['RN'] = g['index1'].rank(method='min')\n",
        "\n",
        "df[df['component']==1].head()\n"
      ],
      "execution_count": 0,
      "outputs": [
        {
          "output_type": "execute_result",
          "data": {
            "text/html": [
              "<div>\n",
              "<style scoped>\n",
              "    .dataframe tbody tr th:only-of-type {\n",
              "        vertical-align: middle;\n",
              "    }\n",
              "\n",
              "    .dataframe tbody tr th {\n",
              "        vertical-align: top;\n",
              "    }\n",
              "\n",
              "    .dataframe thead th {\n",
              "        text-align: right;\n",
              "    }\n",
              "</style>\n",
              "<table border=\"1\" class=\"dataframe\">\n",
              "  <thead>\n",
              "    <tr style=\"text-align: right;\">\n",
              "      <th></th>\n",
              "      <th>walk</th>\n",
              "      <th>label</th>\n",
              "      <th>start_node</th>\n",
              "      <th>component</th>\n",
              "      <th>index1</th>\n",
              "      <th>RN</th>\n",
              "    </tr>\n",
              "  </thead>\n",
              "  <tbody>\n",
              "    <tr>\n",
              "      <th>359</th>\n",
              "      <td>1  0  1  1  1  1  1  1  1  1  0  1  0  1  1  1...</td>\n",
              "      <td>0</td>\n",
              "      <td>19</td>\n",
              "      <td>1</td>\n",
              "      <td>359</td>\n",
              "      <td>1.0</td>\n",
              "    </tr>\n",
              "    <tr>\n",
              "      <th>3372</th>\n",
              "      <td>0  3  2  1  1  2  0  3  2  1  1  0  1  1  1  1...</td>\n",
              "      <td>0</td>\n",
              "      <td>20</td>\n",
              "      <td>1</td>\n",
              "      <td>3372</td>\n",
              "      <td>2.0</td>\n",
              "    </tr>\n",
              "    <tr>\n",
              "      <th>4512</th>\n",
              "      <td>0  1  0  1  1  0  1  0  0  2  3  2  1  0  1  2...</td>\n",
              "      <td>0</td>\n",
              "      <td>13</td>\n",
              "      <td>1</td>\n",
              "      <td>4512</td>\n",
              "      <td>3.0</td>\n",
              "    </tr>\n",
              "    <tr>\n",
              "      <th>5249</th>\n",
              "      <td>3  3  0  3  0  1  0  1  1  0  0  3  0  0  3  0...</td>\n",
              "      <td>0</td>\n",
              "      <td>8</td>\n",
              "      <td>1</td>\n",
              "      <td>5249</td>\n",
              "      <td>4.0</td>\n",
              "    </tr>\n",
              "    <tr>\n",
              "      <th>9662</th>\n",
              "      <td>3  0  0  2  3  3  3  2  3  0  1  0  1  0  3  0...</td>\n",
              "      <td>0</td>\n",
              "      <td>4</td>\n",
              "      <td>1</td>\n",
              "      <td>9662</td>\n",
              "      <td>5.0</td>\n",
              "    </tr>\n",
              "  </tbody>\n",
              "</table>\n",
              "</div>"
            ],
            "text/plain": [
              "                                                   walk  label  ...  index1   RN\n",
              "359   1  0  1  1  1  1  1  1  1  1  0  1  0  1  1  1...      0  ...     359  1.0\n",
              "3372  0  3  2  1  1  2  0  3  2  1  1  0  1  1  1  1...      0  ...    3372  2.0\n",
              "4512  0  1  0  1  1  0  1  0  0  2  3  2  1  0  1  2...      0  ...    4512  3.0\n",
              "5249  3  3  0  3  0  1  0  1  1  0  0  3  0  0  3  0...      0  ...    5249  4.0\n",
              "9662  3  0  0  2  3  3  3  2  3  0  1  0  1  0  3  0...      0  ...    9662  5.0\n",
              "\n",
              "[5 rows x 6 columns]"
            ]
          },
          "metadata": {
            "tags": []
          },
          "execution_count": 115
        }
      ]
    },
    {
      "cell_type": "markdown",
      "metadata": {
        "id": "s8b2JK0FxJJJ",
        "colab_type": "text"
      },
      "source": [
        "Choose a path per node and concatenate for entire component"
      ]
    },
    {
      "cell_type": "code",
      "metadata": {
        "id": "nMOusXPKxEaI",
        "colab_type": "code",
        "outputId": "abf04abf-4190-499f-b0a0-61dcf730c58b",
        "colab": {
          "base_uri": "https://localhost:8080/",
          "height": 217
        }
      },
      "source": [
        "df.groupby('component')['walk'].apply(lambda x: ', '.join(x))\n",
        "\n",
        "def f(x):\n",
        "     return Series(dict(label = x['label'].min(), text =  ', '.join(x['walk'])))\n",
        "df_text_comp = df[(df['RN']<=9.0)].groupby('component').apply(f)\n",
        "df_text_comp.head()"
      ],
      "execution_count": 0,
      "outputs": [
        {
          "output_type": "execute_result",
          "data": {
            "text/html": [
              "<div>\n",
              "<style scoped>\n",
              "    .dataframe tbody tr th:only-of-type {\n",
              "        vertical-align: middle;\n",
              "    }\n",
              "\n",
              "    .dataframe tbody tr th {\n",
              "        vertical-align: top;\n",
              "    }\n",
              "\n",
              "    .dataframe thead th {\n",
              "        text-align: right;\n",
              "    }\n",
              "</style>\n",
              "<table border=\"1\" class=\"dataframe\">\n",
              "  <thead>\n",
              "    <tr style=\"text-align: right;\">\n",
              "      <th></th>\n",
              "      <th>label</th>\n",
              "      <th>text</th>\n",
              "    </tr>\n",
              "    <tr>\n",
              "      <th>component</th>\n",
              "      <th></th>\n",
              "      <th></th>\n",
              "    </tr>\n",
              "  </thead>\n",
              "  <tbody>\n",
              "    <tr>\n",
              "      <th>1</th>\n",
              "      <td>0</td>\n",
              "      <td>1  0  1  1  1  1  1  1  1  1  0  1  0  1  1  1...</td>\n",
              "    </tr>\n",
              "    <tr>\n",
              "      <th>2</th>\n",
              "      <td>0</td>\n",
              "      <td>3  2  3  3  2  1  1  1  1  2  1  1  1  1  1  1...</td>\n",
              "    </tr>\n",
              "    <tr>\n",
              "      <th>3</th>\n",
              "      <td>0</td>\n",
              "      <td>0  0  0  0  0  0  0  0  0  2  0  0  2  3  3  2...</td>\n",
              "    </tr>\n",
              "    <tr>\n",
              "      <th>4</th>\n",
              "      <td>0</td>\n",
              "      <td>3  1  3  1  1  3  2  1  3  3  3  2  3  3  2  3...</td>\n",
              "    </tr>\n",
              "    <tr>\n",
              "      <th>5</th>\n",
              "      <td>0</td>\n",
              "      <td>3  3  3  3  0  0  0  0  0  0  0  0  0  0  3  3...</td>\n",
              "    </tr>\n",
              "  </tbody>\n",
              "</table>\n",
              "</div>"
            ],
            "text/plain": [
              "           label                                               text\n",
              "component                                                          \n",
              "1              0  1  0  1  1  1  1  1  1  1  1  0  1  0  1  1  1...\n",
              "2              0  3  2  3  3  2  1  1  1  1  2  1  1  1  1  1  1...\n",
              "3              0  0  0  0  0  0  0  0  0  0  2  0  0  2  3  3  2...\n",
              "4              0  3  1  3  1  1  3  2  1  3  3  3  2  3  3  2  3...\n",
              "5              0  3  3  3  3  0  0  0  0  0  0  0  0  0  0  3  3..."
            ]
          },
          "metadata": {
            "tags": []
          },
          "execution_count": 116
        }
      ]
    },
    {
      "cell_type": "code",
      "metadata": {
        "id": "S0Nmn3qUxR6l",
        "colab_type": "code",
        "outputId": "c88361f5-b27b-4eeb-8654-ee9cad4e71ff",
        "colab": {
          "base_uri": "https://localhost:8080/",
          "height": 217
        }
      },
      "source": [
        "df_text_comp['component']= df_text_comp.index\n",
        "df_text_comp.index.names = ['comp']\n",
        "df_text_comp.head()"
      ],
      "execution_count": 0,
      "outputs": [
        {
          "output_type": "execute_result",
          "data": {
            "text/html": [
              "<div>\n",
              "<style scoped>\n",
              "    .dataframe tbody tr th:only-of-type {\n",
              "        vertical-align: middle;\n",
              "    }\n",
              "\n",
              "    .dataframe tbody tr th {\n",
              "        vertical-align: top;\n",
              "    }\n",
              "\n",
              "    .dataframe thead th {\n",
              "        text-align: right;\n",
              "    }\n",
              "</style>\n",
              "<table border=\"1\" class=\"dataframe\">\n",
              "  <thead>\n",
              "    <tr style=\"text-align: right;\">\n",
              "      <th></th>\n",
              "      <th>label</th>\n",
              "      <th>text</th>\n",
              "      <th>component</th>\n",
              "    </tr>\n",
              "    <tr>\n",
              "      <th>comp</th>\n",
              "      <th></th>\n",
              "      <th></th>\n",
              "      <th></th>\n",
              "    </tr>\n",
              "  </thead>\n",
              "  <tbody>\n",
              "    <tr>\n",
              "      <th>1</th>\n",
              "      <td>0</td>\n",
              "      <td>1  0  1  1  1  1  1  1  1  1  0  1  0  1  1  1...</td>\n",
              "      <td>1</td>\n",
              "    </tr>\n",
              "    <tr>\n",
              "      <th>2</th>\n",
              "      <td>0</td>\n",
              "      <td>3  2  3  3  2  1  1  1  1  2  1  1  1  1  1  1...</td>\n",
              "      <td>2</td>\n",
              "    </tr>\n",
              "    <tr>\n",
              "      <th>3</th>\n",
              "      <td>0</td>\n",
              "      <td>0  0  0  0  0  0  0  0  0  2  0  0  2  3  3  2...</td>\n",
              "      <td>3</td>\n",
              "    </tr>\n",
              "    <tr>\n",
              "      <th>4</th>\n",
              "      <td>0</td>\n",
              "      <td>3  1  3  1  1  3  2  1  3  3  3  2  3  3  2  3...</td>\n",
              "      <td>4</td>\n",
              "    </tr>\n",
              "    <tr>\n",
              "      <th>5</th>\n",
              "      <td>0</td>\n",
              "      <td>3  3  3  3  0  0  0  0  0  0  0  0  0  0  3  3...</td>\n",
              "      <td>5</td>\n",
              "    </tr>\n",
              "  </tbody>\n",
              "</table>\n",
              "</div>"
            ],
            "text/plain": [
              "      label                                               text  component\n",
              "comp                                                                     \n",
              "1         0  1  0  1  1  1  1  1  1  1  1  0  1  0  1  1  1...          1\n",
              "2         0  3  2  3  3  2  1  1  1  1  2  1  1  1  1  1  1...          2\n",
              "3         0  0  0  0  0  0  0  0  0  0  2  0  0  2  3  3  2...          3\n",
              "4         0  3  1  3  1  1  3  2  1  3  3  3  2  3  3  2  3...          4\n",
              "5         0  3  3  3  3  0  0  0  0  0  0  0  0  0  0  3  3...          5"
            ]
          },
          "metadata": {
            "tags": []
          },
          "execution_count": 117
        }
      ]
    },
    {
      "cell_type": "code",
      "metadata": {
        "id": "rPXVjJv8xcJ1",
        "colab_type": "code",
        "outputId": "c75d6be9-d1f4-42f4-cee7-69e734c51e94",
        "colab": {
          "base_uri": "https://localhost:8080/",
          "height": 34
        }
      },
      "source": [
        "train = pd.merge(df_text_comp, train_tmp, on='component', sort=False)\n",
        "test =  pd.merge(df_text_comp, test_tmp, on='component', sort=False)\n",
        "val =  pd.merge(df_text_comp, val_tmp, on='component', sort=False)\n",
        "(train.shape,val.shape, test.shape, train.shape[0]/df_text_comp.shape[0])"
      ],
      "execution_count": 0,
      "outputs": [
        {
          "output_type": "execute_result",
          "data": {
            "text/plain": [
              "((720, 3), (180, 3), (100, 3), 0.72)"
            ]
          },
          "metadata": {
            "tags": []
          },
          "execution_count": 118
        }
      ]
    },
    {
      "cell_type": "code",
      "metadata": {
        "id": "rvWss3Ai2yTy",
        "colab_type": "code",
        "colab": {}
      },
      "source": [
        "bs=32#48\n",
        "\n",
        "data_clas = TextClasDataBunch.from_df(train_df=train[['text','label']],valid_df=val[['text','label']],  path=mypath, text_cols='text',label_cols = 'label', vocab=data_lm.vocab)\n"
      ],
      "execution_count": 0,
      "outputs": []
    },
    {
      "cell_type": "code",
      "metadata": {
        "id": "3ME-gd6I_zOk",
        "colab_type": "code",
        "colab": {}
      },
      "source": [
        "data_clas.save('tmp_clas')"
      ],
      "execution_count": 0,
      "outputs": []
    },
    {
      "cell_type": "code",
      "metadata": {
        "id": "ecomF0xU_25Q",
        "colab_type": "code",
        "colab": {}
      },
      "source": [
        "data_clas = load_data(mypath, 'tmp_clas', bs=bs)\n"
      ],
      "execution_count": 0,
      "outputs": []
    },
    {
      "cell_type": "code",
      "metadata": {
        "id": "l6dtwG6C_5_d",
        "colab_type": "code",
        "outputId": "6cbd071a-c9dc-4e31-88f0-2ae92fefcee7",
        "colab": {
          "base_uri": "https://localhost:8080/",
          "height": 189
        }
      },
      "source": [
        "data_clas.show_batch()"
      ],
      "execution_count": 0,
      "outputs": [
        {
          "output_type": "display_data",
          "data": {
            "text/html": [
              "<table border=\"1\" class=\"dataframe\">\n",
              "  <thead>\n",
              "    <tr style=\"text-align: right;\">\n",
              "      <th>text</th>\n",
              "      <th>target</th>\n",
              "    </tr>\n",
              "  </thead>\n",
              "  <tbody>\n",
              "    <tr>\n",
              "      <td>xxbos 3 3 1 1 3 1 1 3 1 1 1 0 1 0 1 0 1 0 1 3 3 1 1 3 1 3 3 0 1 3 xxunk 0 1 1 2 1 1 2 1 1 2 xxwrep 5 1 3 1 3 1 0 1 1 0 2 1 1 1 2 1 2 xxunk 1 1 1 3 1 3 1 1 0</td>\n",
              "      <td>1</td>\n",
              "    </tr>\n",
              "    <tr>\n",
              "      <td>xxbos 1 1 3 1 3 1 2 3 1 3 2 3 3 1 2 3 2 3 3 3 1 1 3 1 3 1 3 3 1 3 xxunk 3 2 3 3 1 3 3 1 xxwrep 5 3 1 3 3 1 3 2 3 3 2 xxwrep 4 3 1 2 3 1 xxunk 3 1 2 3 1 1 3 2 3 2</td>\n",
              "      <td>0</td>\n",
              "    </tr>\n",
              "    <tr>\n",
              "      <td>xxbos 3 1 3 1 1 3 3 3 1 3 3 1 1 1 2 3 3 1 3 3 2 3 1 3 1 3 2 1 1 1 xxunk 3 3 2 2 3 3 2 3 1 3 3 1 xxwrep 4 3 1 3 2 xxwrep 5 3 1 3 3 3 1 3 xxunk 3 1 3 2 xxwrep 4 3 2 3 3</td>\n",
              "      <td>0</td>\n",
              "    </tr>\n",
              "    <tr>\n",
              "      <td>xxbos 3 0 0 3 3 3 0 3 0 0 0 3 3 3 0 1 1 0 0 3 0 3 0 0 0 3 3 0 3 0 xxunk 1 0 3 0 3 3 3 0 0 1 0 1 0 0 0 3 0 3 0 1 xxwrep 4 0 3 3 1 1 1 0 xxunk 3 3 0 3 0 0 0 1</td>\n",
              "      <td>0</td>\n",
              "    </tr>\n",
              "    <tr>\n",
              "      <td>xxbos 2 1 1 0 1 0 1 1 3 1 3 1 1 2 3 3 2 3 2 0 2 3 0 3 0 1 0 1 1 1 xxunk 3 1 1 0 3 2 0 3 0 1 0 1 0 2 3 3 2 3 2 3 0 0 1 1 xxwrep 4 0 1 2 xxunk 0 3 2 1 1 1 0 0</td>\n",
              "      <td>0</td>\n",
              "    </tr>\n",
              "  </tbody>\n",
              "</table>"
            ],
            "text/plain": [
              "<IPython.core.display.HTML object>"
            ]
          },
          "metadata": {
            "tags": []
          }
        }
      ]
    },
    {
      "cell_type": "code",
      "metadata": {
        "id": "okrm4fCq_8qy",
        "colab_type": "code",
        "colab": {}
      },
      "source": [
        "learn = text_classifier_learner(data_clas,arch=AWD_LSTM,config = awd_lstm_clas_config, drop_mult=2.0,pretrained=False)\n",
        "learn.load_encoder('fine_tuned_enc3')\n",
        "learn.freeze()"
      ],
      "execution_count": 0,
      "outputs": []
    },
    {
      "cell_type": "code",
      "metadata": {
        "id": "gH1pge_xAFgV",
        "colab_type": "code",
        "colab": {}
      },
      "source": [
        "gc.collect();"
      ],
      "execution_count": 0,
      "outputs": []
    },
    {
      "cell_type": "code",
      "metadata": {
        "id": "HKyJuUtRABmY",
        "colab_type": "code",
        "outputId": "d89015db-0305-484b-9983-95c7cfabc9bc",
        "colab": {
          "base_uri": "https://localhost:8080/",
          "height": 34
        }
      },
      "source": [
        "learn.lr_find()"
      ],
      "execution_count": 0,
      "outputs": [
        {
          "output_type": "display_data",
          "data": {
            "text/html": [
              ""
            ],
            "text/plain": [
              "<IPython.core.display.HTML object>"
            ]
          },
          "metadata": {
            "tags": []
          }
        },
        {
          "output_type": "stream",
          "text": [
            "LR Finder is complete, type {learner_name}.recorder.plot() to see the graph.\n"
          ],
          "name": "stdout"
        }
      ]
    },
    {
      "cell_type": "code",
      "metadata": {
        "id": "_2jcnRSJAJed",
        "colab_type": "code",
        "outputId": "b93b9f39-2bcb-4809-b7fe-88309448d4fe",
        "colab": {
          "base_uri": "https://localhost:8080/",
          "height": 283
        }
      },
      "source": [
        "learn.recorder.plot()"
      ],
      "execution_count": 0,
      "outputs": [
        {
          "output_type": "display_data",
          "data": {
            "image/png": "[encoded data removed]",
            "text/plain": [
              "<Figure size 432x288 with 1 Axes>"
            ]
          },
          "metadata": {
            "tags": []
          }
        }
      ]
    },
    {
      "cell_type": "code",
      "metadata": {
        "id": "OX1HOp3tANAB",
        "colab_type": "code",
        "outputId": "a4ecba98-c7ed-47dc-d6c5-747a2d7568a6",
        "colab": {
          "base_uri": "https://localhost:8080/",
          "height": 75
        }
      },
      "source": [
        "learn.fit_one_cycle(1, 5e-02, moms=(0.8,0.7))"
      ],
      "execution_count": 0,
      "outputs": [
        {
          "output_type": "display_data",
          "data": {
            "text/html": [
              "<table border=\"1\" class=\"dataframe\">\n",
              "  <thead>\n",
              "    <tr style=\"text-align: left;\">\n",
              "      <th>epoch</th>\n",
              "      <th>train_loss</th>\n",
              "      <th>valid_loss</th>\n",
              "      <th>accuracy</th>\n",
              "      <th>time</th>\n",
              "    </tr>\n",
              "  </thead>\n",
              "  <tbody>\n",
              "    <tr>\n",
              "      <td>0</td>\n",
              "      <td>0.793015</td>\n",
              "      <td>0.667901</td>\n",
              "      <td>0.627778</td>\n",
              "      <td>00:01</td>\n",
              "    </tr>\n",
              "  </tbody>\n",
              "</table>"
            ],
            "text/plain": [
              "<IPython.core.display.HTML object>"
            ]
          },
          "metadata": {
            "tags": []
          }
        }
      ]
    },
    {
      "cell_type": "code",
      "metadata": {
        "id": "DQGSYD4TAS9b",
        "colab_type": "code",
        "colab": {}
      },
      "source": [
        "def predict(test,learn):\n",
        "  predictions=[]\n",
        "  for index, row in test.iterrows():\n",
        "    p=learn.predict(row['text'])\n",
        "    #print((row['label'],str(p[0])))\n",
        "    predictions.append((row['text'],str(row['label']),str(p[0])))\n",
        "  dfpred = pd.DataFrame(predictions)\n",
        "  dfpred.columns=['text','label','prediction']\n",
        "  match=dfpred[(dfpred['label']==dfpred['prediction'])]\n",
        "  #match.head()\n",
        "  print((dfpred.shape[0], match.shape[0],match.shape[0]/dfpred.shape[0]))"
      ],
      "execution_count": 0,
      "outputs": []
    },
    {
      "cell_type": "code",
      "metadata": {
        "id": "K_qijpQiAW1a",
        "colab_type": "code",
        "outputId": "525ecca9-f1dd-431d-83a1-ec91e5df30bf",
        "colab": {
          "base_uri": "https://localhost:8080/",
          "height": 75
        }
      },
      "source": [
        "learn.fit_one_cycle(1, 5e-02, moms=(0.8,0.7))"
      ],
      "execution_count": 0,
      "outputs": [
        {
          "output_type": "display_data",
          "data": {
            "text/html": [
              "<table border=\"1\" class=\"dataframe\">\n",
              "  <thead>\n",
              "    <tr style=\"text-align: left;\">\n",
              "      <th>epoch</th>\n",
              "      <th>train_loss</th>\n",
              "      <th>valid_loss</th>\n",
              "      <th>accuracy</th>\n",
              "      <th>time</th>\n",
              "    </tr>\n",
              "  </thead>\n",
              "  <tbody>\n",
              "    <tr>\n",
              "      <td>0</td>\n",
              "      <td>0.711031</td>\n",
              "      <td>0.658412</td>\n",
              "      <td>0.627778</td>\n",
              "      <td>00:01</td>\n",
              "    </tr>\n",
              "  </tbody>\n",
              "</table>"
            ],
            "text/plain": [
              "<IPython.core.display.HTML object>"
            ]
          },
          "metadata": {
            "tags": []
          }
        }
      ]
    },
    {
      "cell_type": "code",
      "metadata": {
        "id": "mrcF2ywpA7N4",
        "colab_type": "code",
        "outputId": "96e7e0d7-485e-4879-cc6c-af68c97437e6",
        "colab": {
          "base_uri": "https://localhost:8080/",
          "height": 274
        }
      },
      "source": [
        "learn.unfreeze()\n",
        "learn.fit_one_cycle(8, slice(5e-3/(2.6**4),5e-03), moms=(0.8,0.7))\n",
        "\n"
      ],
      "execution_count": 0,
      "outputs": [
        {
          "output_type": "display_data",
          "data": {
            "text/html": [
              "<table border=\"1\" class=\"dataframe\">\n",
              "  <thead>\n",
              "    <tr style=\"text-align: left;\">\n",
              "      <th>epoch</th>\n",
              "      <th>train_loss</th>\n",
              "      <th>valid_loss</th>\n",
              "      <th>accuracy</th>\n",
              "      <th>time</th>\n",
              "    </tr>\n",
              "  </thead>\n",
              "  <tbody>\n",
              "    <tr>\n",
              "      <td>0</td>\n",
              "      <td>0.702425</td>\n",
              "      <td>0.645166</td>\n",
              "      <td>0.622222</td>\n",
              "      <td>00:02</td>\n",
              "    </tr>\n",
              "    <tr>\n",
              "      <td>1</td>\n",
              "      <td>0.693483</td>\n",
              "      <td>0.632905</td>\n",
              "      <td>0.622222</td>\n",
              "      <td>00:02</td>\n",
              "    </tr>\n",
              "    <tr>\n",
              "      <td>2</td>\n",
              "      <td>0.679089</td>\n",
              "      <td>0.620984</td>\n",
              "      <td>0.627778</td>\n",
              "      <td>00:02</td>\n",
              "    </tr>\n",
              "    <tr>\n",
              "      <td>3</td>\n",
              "      <td>0.660886</td>\n",
              "      <td>0.676979</td>\n",
              "      <td>0.555556</td>\n",
              "      <td>00:02</td>\n",
              "    </tr>\n",
              "    <tr>\n",
              "      <td>4</td>\n",
              "      <td>0.660224</td>\n",
              "      <td>0.659712</td>\n",
              "      <td>0.555556</td>\n",
              "      <td>00:02</td>\n",
              "    </tr>\n",
              "    <tr>\n",
              "      <td>5</td>\n",
              "      <td>0.649553</td>\n",
              "      <td>0.652349</td>\n",
              "      <td>0.561111</td>\n",
              "      <td>00:02</td>\n",
              "    </tr>\n",
              "    <tr>\n",
              "      <td>6</td>\n",
              "      <td>0.641957</td>\n",
              "      <td>0.635968</td>\n",
              "      <td>0.566667</td>\n",
              "      <td>00:02</td>\n",
              "    </tr>\n",
              "    <tr>\n",
              "      <td>7</td>\n",
              "      <td>0.632489</td>\n",
              "      <td>0.624294</td>\n",
              "      <td>0.605556</td>\n",
              "      <td>00:02</td>\n",
              "    </tr>\n",
              "  </tbody>\n",
              "</table>"
            ],
            "text/plain": [
              "<IPython.core.display.HTML object>"
            ]
          },
          "metadata": {
            "tags": []
          }
        }
      ]
    },
    {
      "cell_type": "code",
      "metadata": {
        "id": "5eJzDroiA-Ls",
        "colab_type": "code",
        "outputId": "9b32b2e8-6073-4a67-88ba-57e9b27aba40",
        "colab": {
          "base_uri": "https://localhost:8080/",
          "height": 34
        }
      },
      "source": [
        "predict(test,learn)"
      ],
      "execution_count": 0,
      "outputs": [
        {
          "output_type": "stream",
          "text": [
            "(100, 68, 0.68)\n"
          ],
          "name": "stdout"
        }
      ]
    },
    {
      "cell_type": "code",
      "metadata": {
        "id": "OncJ5AWmgDzf",
        "colab_type": "code",
        "outputId": "e37c7eb2-4536-4b8d-fc46-2afbf5cb6e39",
        "colab": {
          "base_uri": "https://localhost:8080/",
          "height": 502
        }
      },
      "source": [
        "learn.fit_one_cycle(16, slice(5e-3/(2.6**4),5e-3), moms=(0.8,0.7))"
      ],
      "execution_count": 0,
      "outputs": [
        {
          "output_type": "display_data",
          "data": {
            "text/html": [
              "<table border=\"1\" class=\"dataframe\">\n",
              "  <thead>\n",
              "    <tr style=\"text-align: left;\">\n",
              "      <th>epoch</th>\n",
              "      <th>train_loss</th>\n",
              "      <th>valid_loss</th>\n",
              "      <th>accuracy</th>\n",
              "      <th>time</th>\n",
              "    </tr>\n",
              "  </thead>\n",
              "  <tbody>\n",
              "    <tr>\n",
              "      <td>0</td>\n",
              "      <td>0.644399</td>\n",
              "      <td>0.646089</td>\n",
              "      <td>0.550000</td>\n",
              "      <td>00:02</td>\n",
              "    </tr>\n",
              "    <tr>\n",
              "      <td>1</td>\n",
              "      <td>0.652948</td>\n",
              "      <td>0.684375</td>\n",
              "      <td>0.516667</td>\n",
              "      <td>00:02</td>\n",
              "    </tr>\n",
              "    <tr>\n",
              "      <td>2</td>\n",
              "      <td>0.654645</td>\n",
              "      <td>0.627151</td>\n",
              "      <td>0.605556</td>\n",
              "      <td>00:02</td>\n",
              "    </tr>\n",
              "    <tr>\n",
              "      <td>3</td>\n",
              "      <td>0.647806</td>\n",
              "      <td>0.637093</td>\n",
              "      <td>0.583333</td>\n",
              "      <td>00:03</td>\n",
              "    </tr>\n",
              "    <tr>\n",
              "      <td>4</td>\n",
              "      <td>0.642150</td>\n",
              "      <td>0.628102</td>\n",
              "      <td>0.572222</td>\n",
              "      <td>00:02</td>\n",
              "    </tr>\n",
              "    <tr>\n",
              "      <td>5</td>\n",
              "      <td>0.641997</td>\n",
              "      <td>0.638728</td>\n",
              "      <td>0.588889</td>\n",
              "      <td>00:02</td>\n",
              "    </tr>\n",
              "    <tr>\n",
              "      <td>6</td>\n",
              "      <td>0.647338</td>\n",
              "      <td>0.678676</td>\n",
              "      <td>0.555556</td>\n",
              "      <td>00:02</td>\n",
              "    </tr>\n",
              "    <tr>\n",
              "      <td>7</td>\n",
              "      <td>0.646619</td>\n",
              "      <td>0.678303</td>\n",
              "      <td>0.505556</td>\n",
              "      <td>00:02</td>\n",
              "    </tr>\n",
              "    <tr>\n",
              "      <td>8</td>\n",
              "      <td>0.639442</td>\n",
              "      <td>0.647952</td>\n",
              "      <td>0.577778</td>\n",
              "      <td>00:02</td>\n",
              "    </tr>\n",
              "    <tr>\n",
              "      <td>9</td>\n",
              "      <td>0.634890</td>\n",
              "      <td>0.658796</td>\n",
              "      <td>0.522222</td>\n",
              "      <td>00:02</td>\n",
              "    </tr>\n",
              "    <tr>\n",
              "      <td>10</td>\n",
              "      <td>0.637973</td>\n",
              "      <td>0.687676</td>\n",
              "      <td>0.516667</td>\n",
              "      <td>00:02</td>\n",
              "    </tr>\n",
              "    <tr>\n",
              "      <td>11</td>\n",
              "      <td>0.636955</td>\n",
              "      <td>0.665445</td>\n",
              "      <td>0.544444</td>\n",
              "      <td>00:02</td>\n",
              "    </tr>\n",
              "    <tr>\n",
              "      <td>12</td>\n",
              "      <td>0.632379</td>\n",
              "      <td>0.676831</td>\n",
              "      <td>0.522222</td>\n",
              "      <td>00:02</td>\n",
              "    </tr>\n",
              "    <tr>\n",
              "      <td>13</td>\n",
              "      <td>0.635544</td>\n",
              "      <td>0.652722</td>\n",
              "      <td>0.583333</td>\n",
              "      <td>00:02</td>\n",
              "    </tr>\n",
              "    <tr>\n",
              "      <td>14</td>\n",
              "      <td>0.628469</td>\n",
              "      <td>0.664542</td>\n",
              "      <td>0.533333</td>\n",
              "      <td>00:02</td>\n",
              "    </tr>\n",
              "    <tr>\n",
              "      <td>15</td>\n",
              "      <td>0.627300</td>\n",
              "      <td>0.668813</td>\n",
              "      <td>0.533333</td>\n",
              "      <td>00:02</td>\n",
              "    </tr>\n",
              "  </tbody>\n",
              "</table>"
            ],
            "text/plain": [
              "<IPython.core.display.HTML object>"
            ]
          },
          "metadata": {
            "tags": []
          }
        }
      ]
    },
    {
      "cell_type": "code",
      "metadata": {
        "id": "04zsWdlpgFwq",
        "colab_type": "code",
        "outputId": "9a2c01bd-e4a9-4462-f28d-080bbc23312b",
        "colab": {
          "base_uri": "https://localhost:8080/",
          "height": 34
        }
      },
      "source": [
        "predict(test,learn)"
      ],
      "execution_count": 0,
      "outputs": [
        {
          "output_type": "stream",
          "text": [
            "(100, 64, 0.64)\n"
          ],
          "name": "stdout"
        }
      ]
    },
    {
      "cell_type": "code",
      "metadata": {
        "id": "vkbWeFl5gMg_",
        "colab_type": "code",
        "outputId": "e5edd69b-4b68-4848-aabb-a72ab60edd04",
        "colab": {
          "base_uri": "https://localhost:8080/",
          "height": 502
        }
      },
      "source": [
        "learn.fit_one_cycle(16, slice(5e-3/(2.6**4),5e-3), moms=(0.8,0.7))"
      ],
      "execution_count": 0,
      "outputs": [
        {
          "output_type": "display_data",
          "data": {
            "text/html": [
              "<table border=\"1\" class=\"dataframe\">\n",
              "  <thead>\n",
              "    <tr style=\"text-align: left;\">\n",
              "      <th>epoch</th>\n",
              "      <th>train_loss</th>\n",
              "      <th>valid_loss</th>\n",
              "      <th>accuracy</th>\n",
              "      <th>time</th>\n",
              "    </tr>\n",
              "  </thead>\n",
              "  <tbody>\n",
              "    <tr>\n",
              "      <td>0</td>\n",
              "      <td>0.624457</td>\n",
              "      <td>0.681608</td>\n",
              "      <td>0.516667</td>\n",
              "      <td>00:02</td>\n",
              "    </tr>\n",
              "    <tr>\n",
              "      <td>1</td>\n",
              "      <td>0.624883</td>\n",
              "      <td>0.675728</td>\n",
              "      <td>0.538889</td>\n",
              "      <td>00:02</td>\n",
              "    </tr>\n",
              "    <tr>\n",
              "      <td>2</td>\n",
              "      <td>0.620675</td>\n",
              "      <td>0.652854</td>\n",
              "      <td>0.583333</td>\n",
              "      <td>00:02</td>\n",
              "    </tr>\n",
              "    <tr>\n",
              "      <td>3</td>\n",
              "      <td>0.622193</td>\n",
              "      <td>0.637452</td>\n",
              "      <td>0.577778</td>\n",
              "      <td>00:02</td>\n",
              "    </tr>\n",
              "    <tr>\n",
              "      <td>4</td>\n",
              "      <td>0.630909</td>\n",
              "      <td>0.672764</td>\n",
              "      <td>0.516667</td>\n",
              "      <td>00:02</td>\n",
              "    </tr>\n",
              "    <tr>\n",
              "      <td>5</td>\n",
              "      <td>0.630529</td>\n",
              "      <td>0.685286</td>\n",
              "      <td>0.544444</td>\n",
              "      <td>00:02</td>\n",
              "    </tr>\n",
              "    <tr>\n",
              "      <td>6</td>\n",
              "      <td>0.622058</td>\n",
              "      <td>0.636966</td>\n",
              "      <td>0.594444</td>\n",
              "      <td>00:02</td>\n",
              "    </tr>\n",
              "    <tr>\n",
              "      <td>7</td>\n",
              "      <td>0.613850</td>\n",
              "      <td>0.619169</td>\n",
              "      <td>0.616667</td>\n",
              "      <td>00:02</td>\n",
              "    </tr>\n",
              "    <tr>\n",
              "      <td>8</td>\n",
              "      <td>0.620335</td>\n",
              "      <td>0.635904</td>\n",
              "      <td>0.588889</td>\n",
              "      <td>00:02</td>\n",
              "    </tr>\n",
              "    <tr>\n",
              "      <td>9</td>\n",
              "      <td>0.618726</td>\n",
              "      <td>0.624474</td>\n",
              "      <td>0.600000</td>\n",
              "      <td>00:02</td>\n",
              "    </tr>\n",
              "    <tr>\n",
              "      <td>10</td>\n",
              "      <td>0.625491</td>\n",
              "      <td>0.616884</td>\n",
              "      <td>0.661111</td>\n",
              "      <td>00:02</td>\n",
              "    </tr>\n",
              "    <tr>\n",
              "      <td>11</td>\n",
              "      <td>0.617888</td>\n",
              "      <td>0.627527</td>\n",
              "      <td>0.627778</td>\n",
              "      <td>00:02</td>\n",
              "    </tr>\n",
              "    <tr>\n",
              "      <td>12</td>\n",
              "      <td>0.609184</td>\n",
              "      <td>0.616489</td>\n",
              "      <td>0.633333</td>\n",
              "      <td>00:03</td>\n",
              "    </tr>\n",
              "    <tr>\n",
              "      <td>13</td>\n",
              "      <td>0.609668</td>\n",
              "      <td>0.595583</td>\n",
              "      <td>0.677778</td>\n",
              "      <td>00:02</td>\n",
              "    </tr>\n",
              "    <tr>\n",
              "      <td>14</td>\n",
              "      <td>0.606396</td>\n",
              "      <td>0.619138</td>\n",
              "      <td>0.650000</td>\n",
              "      <td>00:02</td>\n",
              "    </tr>\n",
              "    <tr>\n",
              "      <td>15</td>\n",
              "      <td>0.603139</td>\n",
              "      <td>0.608463</td>\n",
              "      <td>0.661111</td>\n",
              "      <td>00:02</td>\n",
              "    </tr>\n",
              "  </tbody>\n",
              "</table>"
            ],
            "text/plain": [
              "<IPython.core.display.HTML object>"
            ]
          },
          "metadata": {
            "tags": []
          }
        }
      ]
    },
    {
      "cell_type": "code",
      "metadata": {
        "id": "UgNaWWnHgNpW",
        "colab_type": "code",
        "outputId": "a8709963-3ca8-4617-86f6-4a2c1909bd3e",
        "colab": {
          "base_uri": "https://localhost:8080/",
          "height": 34
        }
      },
      "source": [
        "predict(test,learn)"
      ],
      "execution_count": 0,
      "outputs": [
        {
          "output_type": "stream",
          "text": [
            "(100, 68, 0.68)\n"
          ],
          "name": "stdout"
        }
      ]
    },
    {
      "cell_type": "code",
      "metadata": {
        "id": "pRkTF6TFrP4w",
        "colab_type": "code",
        "outputId": "367a14db-7f7e-4997-d529-a9e3e435c56e",
        "colab": {
          "base_uri": "https://localhost:8080/",
          "height": 502
        }
      },
      "source": [
        "learn.fit_one_cycle(16, slice(5e-3/(2.6**4),5e-3), moms=(0.8,0.7))"
      ],
      "execution_count": 0,
      "outputs": [
        {
          "output_type": "display_data",
          "data": {
            "text/html": [
              "<table border=\"1\" class=\"dataframe\">\n",
              "  <thead>\n",
              "    <tr style=\"text-align: left;\">\n",
              "      <th>epoch</th>\n",
              "      <th>train_loss</th>\n",
              "      <th>valid_loss</th>\n",
              "      <th>accuracy</th>\n",
              "      <th>time</th>\n",
              "    </tr>\n",
              "  </thead>\n",
              "  <tbody>\n",
              "    <tr>\n",
              "      <td>0</td>\n",
              "      <td>0.614341</td>\n",
              "      <td>0.615103</td>\n",
              "      <td>0.650000</td>\n",
              "      <td>00:02</td>\n",
              "    </tr>\n",
              "    <tr>\n",
              "      <td>1</td>\n",
              "      <td>0.611924</td>\n",
              "      <td>0.620915</td>\n",
              "      <td>0.633333</td>\n",
              "      <td>00:02</td>\n",
              "    </tr>\n",
              "    <tr>\n",
              "      <td>2</td>\n",
              "      <td>0.605283</td>\n",
              "      <td>0.604273</td>\n",
              "      <td>0.666667</td>\n",
              "      <td>00:02</td>\n",
              "    </tr>\n",
              "    <tr>\n",
              "      <td>3</td>\n",
              "      <td>0.603028</td>\n",
              "      <td>0.699527</td>\n",
              "      <td>0.616667</td>\n",
              "      <td>00:02</td>\n",
              "    </tr>\n",
              "    <tr>\n",
              "      <td>4</td>\n",
              "      <td>0.606755</td>\n",
              "      <td>0.604268</td>\n",
              "      <td>0.694444</td>\n",
              "      <td>00:02</td>\n",
              "    </tr>\n",
              "    <tr>\n",
              "      <td>5</td>\n",
              "      <td>0.602433</td>\n",
              "      <td>0.615652</td>\n",
              "      <td>0.661111</td>\n",
              "      <td>00:02</td>\n",
              "    </tr>\n",
              "    <tr>\n",
              "      <td>6</td>\n",
              "      <td>0.609722</td>\n",
              "      <td>0.625225</td>\n",
              "      <td>0.650000</td>\n",
              "      <td>00:02</td>\n",
              "    </tr>\n",
              "    <tr>\n",
              "      <td>7</td>\n",
              "      <td>0.611891</td>\n",
              "      <td>0.623654</td>\n",
              "      <td>0.605556</td>\n",
              "      <td>00:02</td>\n",
              "    </tr>\n",
              "    <tr>\n",
              "      <td>8</td>\n",
              "      <td>0.612775</td>\n",
              "      <td>0.638333</td>\n",
              "      <td>0.544444</td>\n",
              "      <td>00:02</td>\n",
              "    </tr>\n",
              "    <tr>\n",
              "      <td>9</td>\n",
              "      <td>0.611398</td>\n",
              "      <td>0.643231</td>\n",
              "      <td>0.555556</td>\n",
              "      <td>00:02</td>\n",
              "    </tr>\n",
              "    <tr>\n",
              "      <td>10</td>\n",
              "      <td>0.610155</td>\n",
              "      <td>0.610101</td>\n",
              "      <td>0.650000</td>\n",
              "      <td>00:02</td>\n",
              "    </tr>\n",
              "    <tr>\n",
              "      <td>11</td>\n",
              "      <td>0.600959</td>\n",
              "      <td>0.626696</td>\n",
              "      <td>0.616667</td>\n",
              "      <td>00:02</td>\n",
              "    </tr>\n",
              "    <tr>\n",
              "      <td>12</td>\n",
              "      <td>0.596882</td>\n",
              "      <td>0.621976</td>\n",
              "      <td>0.605556</td>\n",
              "      <td>00:02</td>\n",
              "    </tr>\n",
              "    <tr>\n",
              "      <td>13</td>\n",
              "      <td>0.594437</td>\n",
              "      <td>0.610326</td>\n",
              "      <td>0.644444</td>\n",
              "      <td>00:02</td>\n",
              "    </tr>\n",
              "    <tr>\n",
              "      <td>14</td>\n",
              "      <td>0.600035</td>\n",
              "      <td>0.628781</td>\n",
              "      <td>0.622222</td>\n",
              "      <td>00:02</td>\n",
              "    </tr>\n",
              "    <tr>\n",
              "      <td>15</td>\n",
              "      <td>0.596247</td>\n",
              "      <td>0.620302</td>\n",
              "      <td>0.616667</td>\n",
              "      <td>00:02</td>\n",
              "    </tr>\n",
              "  </tbody>\n",
              "</table>"
            ],
            "text/plain": [
              "<IPython.core.display.HTML object>"
            ]
          },
          "metadata": {
            "tags": []
          }
        }
      ]
    },
    {
      "cell_type": "code",
      "metadata": {
        "id": "yCdbebAxrUuk",
        "colab_type": "code",
        "outputId": "33f1aea8-e3d9-4b24-c3b9-2026c1883875",
        "colab": {
          "base_uri": "https://localhost:8080/",
          "height": 34
        }
      },
      "source": [
        "predict(test,learn)"
      ],
      "execution_count": 0,
      "outputs": [
        {
          "output_type": "stream",
          "text": [
            "(100, 68, 0.68)\n"
          ],
          "name": "stdout"
        }
      ]
    },
    {
      "cell_type": "code",
      "metadata": {
        "id": "rgWg8fxpsP-a",
        "colab_type": "code",
        "outputId": "5a347586-9e9d-47c8-9e4c-592d38960d53",
        "colab": {
          "base_uri": "https://localhost:8080/",
          "height": 502
        }
      },
      "source": [
        "learn.fit_one_cycle(16, slice(5e-3/(2.6**4),5e-3), moms=(0.8,0.7))"
      ],
      "execution_count": 0,
      "outputs": [
        {
          "output_type": "display_data",
          "data": {
            "text/html": [
              "<table border=\"1\" class=\"dataframe\">\n",
              "  <thead>\n",
              "    <tr style=\"text-align: left;\">\n",
              "      <th>epoch</th>\n",
              "      <th>train_loss</th>\n",
              "      <th>valid_loss</th>\n",
              "      <th>accuracy</th>\n",
              "      <th>time</th>\n",
              "    </tr>\n",
              "  </thead>\n",
              "  <tbody>\n",
              "    <tr>\n",
              "      <td>0</td>\n",
              "      <td>0.592590</td>\n",
              "      <td>0.601370</td>\n",
              "      <td>0.661111</td>\n",
              "      <td>00:03</td>\n",
              "    </tr>\n",
              "    <tr>\n",
              "      <td>1</td>\n",
              "      <td>0.597188</td>\n",
              "      <td>0.649562</td>\n",
              "      <td>0.555556</td>\n",
              "      <td>00:02</td>\n",
              "    </tr>\n",
              "    <tr>\n",
              "      <td>2</td>\n",
              "      <td>0.589534</td>\n",
              "      <td>0.619764</td>\n",
              "      <td>0.655556</td>\n",
              "      <td>00:02</td>\n",
              "    </tr>\n",
              "    <tr>\n",
              "      <td>3</td>\n",
              "      <td>0.599874</td>\n",
              "      <td>0.624596</td>\n",
              "      <td>0.588889</td>\n",
              "      <td>00:02</td>\n",
              "    </tr>\n",
              "    <tr>\n",
              "      <td>4</td>\n",
              "      <td>0.602120</td>\n",
              "      <td>0.614644</td>\n",
              "      <td>0.605556</td>\n",
              "      <td>00:02</td>\n",
              "    </tr>\n",
              "    <tr>\n",
              "      <td>5</td>\n",
              "      <td>0.603796</td>\n",
              "      <td>0.631555</td>\n",
              "      <td>0.655556</td>\n",
              "      <td>00:02</td>\n",
              "    </tr>\n",
              "    <tr>\n",
              "      <td>6</td>\n",
              "      <td>0.600083</td>\n",
              "      <td>0.639931</td>\n",
              "      <td>0.633333</td>\n",
              "      <td>00:02</td>\n",
              "    </tr>\n",
              "    <tr>\n",
              "      <td>7</td>\n",
              "      <td>0.610045</td>\n",
              "      <td>0.637710</td>\n",
              "      <td>0.627778</td>\n",
              "      <td>00:02</td>\n",
              "    </tr>\n",
              "    <tr>\n",
              "      <td>8</td>\n",
              "      <td>0.603824</td>\n",
              "      <td>0.653783</td>\n",
              "      <td>0.616667</td>\n",
              "      <td>00:02</td>\n",
              "    </tr>\n",
              "    <tr>\n",
              "      <td>9</td>\n",
              "      <td>0.600265</td>\n",
              "      <td>0.606302</td>\n",
              "      <td>0.677778</td>\n",
              "      <td>00:02</td>\n",
              "    </tr>\n",
              "    <tr>\n",
              "      <td>10</td>\n",
              "      <td>0.604780</td>\n",
              "      <td>0.628744</td>\n",
              "      <td>0.650000</td>\n",
              "      <td>00:02</td>\n",
              "    </tr>\n",
              "    <tr>\n",
              "      <td>11</td>\n",
              "      <td>0.596753</td>\n",
              "      <td>0.630043</td>\n",
              "      <td>0.622222</td>\n",
              "      <td>00:02</td>\n",
              "    </tr>\n",
              "    <tr>\n",
              "      <td>12</td>\n",
              "      <td>0.590978</td>\n",
              "      <td>0.641477</td>\n",
              "      <td>0.650000</td>\n",
              "      <td>00:02</td>\n",
              "    </tr>\n",
              "    <tr>\n",
              "      <td>13</td>\n",
              "      <td>0.583114</td>\n",
              "      <td>0.623415</td>\n",
              "      <td>0.661111</td>\n",
              "      <td>00:02</td>\n",
              "    </tr>\n",
              "    <tr>\n",
              "      <td>14</td>\n",
              "      <td>0.592193</td>\n",
              "      <td>0.625342</td>\n",
              "      <td>0.661111</td>\n",
              "      <td>00:02</td>\n",
              "    </tr>\n",
              "    <tr>\n",
              "      <td>15</td>\n",
              "      <td>0.589079</td>\n",
              "      <td>0.651485</td>\n",
              "      <td>0.594444</td>\n",
              "      <td>00:02</td>\n",
              "    </tr>\n",
              "  </tbody>\n",
              "</table>"
            ],
            "text/plain": [
              "<IPython.core.display.HTML object>"
            ]
          },
          "metadata": {
            "tags": []
          }
        }
      ]
    },
    {
      "cell_type": "code",
      "metadata": {
        "id": "sW0JUNvvsTJ8",
        "colab_type": "code",
        "outputId": "769402b3-ccbf-40b6-e548-480563560f0f",
        "colab": {
          "base_uri": "https://localhost:8080/",
          "height": 34
        }
      },
      "source": [
        "predict(test,learn)"
      ],
      "execution_count": 0,
      "outputs": [
        {
          "output_type": "stream",
          "text": [
            "(100, 67, 0.67)\n"
          ],
          "name": "stdout"
        }
      ]
    },
    {
      "cell_type": "code",
      "metadata": {
        "id": "ZJRBYaAesvDx",
        "colab_type": "code",
        "outputId": "d7109054-bef2-4277-c290-81e605f470e5",
        "colab": {
          "base_uri": "https://localhost:8080/",
          "height": 502
        }
      },
      "source": [
        "learn.fit_one_cycle(16, slice(5e-3/(2.6**4),5e-3), moms=(0.8,0.7))"
      ],
      "execution_count": 0,
      "outputs": [
        {
          "output_type": "display_data",
          "data": {
            "text/html": [
              "<table border=\"1\" class=\"dataframe\">\n",
              "  <thead>\n",
              "    <tr style=\"text-align: left;\">\n",
              "      <th>epoch</th>\n",
              "      <th>train_loss</th>\n",
              "      <th>valid_loss</th>\n",
              "      <th>accuracy</th>\n",
              "      <th>time</th>\n",
              "    </tr>\n",
              "  </thead>\n",
              "  <tbody>\n",
              "    <tr>\n",
              "      <td>0</td>\n",
              "      <td>0.588658</td>\n",
              "      <td>0.638752</td>\n",
              "      <td>0.627778</td>\n",
              "      <td>00:02</td>\n",
              "    </tr>\n",
              "    <tr>\n",
              "      <td>1</td>\n",
              "      <td>0.578407</td>\n",
              "      <td>0.656180</td>\n",
              "      <td>0.600000</td>\n",
              "      <td>00:02</td>\n",
              "    </tr>\n",
              "    <tr>\n",
              "      <td>2</td>\n",
              "      <td>0.586030</td>\n",
              "      <td>0.614343</td>\n",
              "      <td>0.677778</td>\n",
              "      <td>00:02</td>\n",
              "    </tr>\n",
              "    <tr>\n",
              "      <td>3</td>\n",
              "      <td>0.589267</td>\n",
              "      <td>0.618876</td>\n",
              "      <td>0.705556</td>\n",
              "      <td>00:02</td>\n",
              "    </tr>\n",
              "    <tr>\n",
              "      <td>4</td>\n",
              "      <td>0.593548</td>\n",
              "      <td>0.664771</td>\n",
              "      <td>0.611111</td>\n",
              "      <td>00:02</td>\n",
              "    </tr>\n",
              "    <tr>\n",
              "      <td>5</td>\n",
              "      <td>0.598017</td>\n",
              "      <td>0.654694</td>\n",
              "      <td>0.572222</td>\n",
              "      <td>00:02</td>\n",
              "    </tr>\n",
              "    <tr>\n",
              "      <td>6</td>\n",
              "      <td>0.603855</td>\n",
              "      <td>0.655077</td>\n",
              "      <td>0.594444</td>\n",
              "      <td>00:02</td>\n",
              "    </tr>\n",
              "    <tr>\n",
              "      <td>7</td>\n",
              "      <td>0.603855</td>\n",
              "      <td>0.688907</td>\n",
              "      <td>0.561111</td>\n",
              "      <td>00:02</td>\n",
              "    </tr>\n",
              "    <tr>\n",
              "      <td>8</td>\n",
              "      <td>0.594923</td>\n",
              "      <td>0.634538</td>\n",
              "      <td>0.638889</td>\n",
              "      <td>00:02</td>\n",
              "    </tr>\n",
              "    <tr>\n",
              "      <td>9</td>\n",
              "      <td>0.589462</td>\n",
              "      <td>0.672330</td>\n",
              "      <td>0.594444</td>\n",
              "      <td>00:02</td>\n",
              "    </tr>\n",
              "    <tr>\n",
              "      <td>10</td>\n",
              "      <td>0.588200</td>\n",
              "      <td>0.671254</td>\n",
              "      <td>0.594444</td>\n",
              "      <td>00:02</td>\n",
              "    </tr>\n",
              "    <tr>\n",
              "      <td>11</td>\n",
              "      <td>0.587535</td>\n",
              "      <td>0.670337</td>\n",
              "      <td>0.600000</td>\n",
              "      <td>00:02</td>\n",
              "    </tr>\n",
              "    <tr>\n",
              "      <td>12</td>\n",
              "      <td>0.587398</td>\n",
              "      <td>0.661473</td>\n",
              "      <td>0.638889</td>\n",
              "      <td>00:02</td>\n",
              "    </tr>\n",
              "    <tr>\n",
              "      <td>13</td>\n",
              "      <td>0.588462</td>\n",
              "      <td>0.645165</td>\n",
              "      <td>0.644444</td>\n",
              "      <td>00:02</td>\n",
              "    </tr>\n",
              "    <tr>\n",
              "      <td>14</td>\n",
              "      <td>0.581645</td>\n",
              "      <td>0.664504</td>\n",
              "      <td>0.605556</td>\n",
              "      <td>00:02</td>\n",
              "    </tr>\n",
              "    <tr>\n",
              "      <td>15</td>\n",
              "      <td>0.580415</td>\n",
              "      <td>0.664020</td>\n",
              "      <td>0.605556</td>\n",
              "      <td>00:02</td>\n",
              "    </tr>\n",
              "  </tbody>\n",
              "</table>"
            ],
            "text/plain": [
              "<IPython.core.display.HTML object>"
            ]
          },
          "metadata": {
            "tags": []
          }
        }
      ]
    },
    {
      "cell_type": "code",
      "metadata": {
        "id": "e6aRVcvvsvbZ",
        "colab_type": "code",
        "outputId": "d151654f-f0e2-4ed1-fc2b-0774f5b9bc24",
        "colab": {
          "base_uri": "https://localhost:8080/",
          "height": 34
        }
      },
      "source": [
        "predict(test,learn)"
      ],
      "execution_count": 0,
      "outputs": [
        {
          "output_type": "stream",
          "text": [
            "(100, 68, 0.68)\n"
          ],
          "name": "stdout"
        }
      ]
    },
    {
      "cell_type": "code",
      "metadata": {
        "id": "HzVkknomtUyO",
        "colab_type": "code",
        "outputId": "1eb1c6b6-0fe1-491d-ba61-d26c80a6a48a",
        "colab": {
          "base_uri": "https://localhost:8080/",
          "height": 502
        }
      },
      "source": [
        "learn.fit_one_cycle(16, slice(5e-3/(2.6**4),5e-3), moms=(0.8,0.7))"
      ],
      "execution_count": 0,
      "outputs": [
        {
          "output_type": "display_data",
          "data": {
            "text/html": [
              "<table border=\"1\" class=\"dataframe\">\n",
              "  <thead>\n",
              "    <tr style=\"text-align: left;\">\n",
              "      <th>epoch</th>\n",
              "      <th>train_loss</th>\n",
              "      <th>valid_loss</th>\n",
              "      <th>accuracy</th>\n",
              "      <th>time</th>\n",
              "    </tr>\n",
              "  </thead>\n",
              "  <tbody>\n",
              "    <tr>\n",
              "      <td>0</td>\n",
              "      <td>0.561708</td>\n",
              "      <td>0.624031</td>\n",
              "      <td>0.655556</td>\n",
              "      <td>00:03</td>\n",
              "    </tr>\n",
              "    <tr>\n",
              "      <td>1</td>\n",
              "      <td>0.577097</td>\n",
              "      <td>0.636894</td>\n",
              "      <td>0.666667</td>\n",
              "      <td>00:02</td>\n",
              "    </tr>\n",
              "    <tr>\n",
              "      <td>2</td>\n",
              "      <td>0.582124</td>\n",
              "      <td>0.608195</td>\n",
              "      <td>0.666667</td>\n",
              "      <td>00:02</td>\n",
              "    </tr>\n",
              "    <tr>\n",
              "      <td>3</td>\n",
              "      <td>0.580827</td>\n",
              "      <td>0.615066</td>\n",
              "      <td>0.650000</td>\n",
              "      <td>00:02</td>\n",
              "    </tr>\n",
              "    <tr>\n",
              "      <td>4</td>\n",
              "      <td>0.588348</td>\n",
              "      <td>0.600223</td>\n",
              "      <td>0.700000</td>\n",
              "      <td>00:02</td>\n",
              "    </tr>\n",
              "    <tr>\n",
              "      <td>5</td>\n",
              "      <td>0.591890</td>\n",
              "      <td>0.622062</td>\n",
              "      <td>0.666667</td>\n",
              "      <td>00:02</td>\n",
              "    </tr>\n",
              "    <tr>\n",
              "      <td>6</td>\n",
              "      <td>0.591249</td>\n",
              "      <td>0.624468</td>\n",
              "      <td>0.633333</td>\n",
              "      <td>00:02</td>\n",
              "    </tr>\n",
              "    <tr>\n",
              "      <td>7</td>\n",
              "      <td>0.593311</td>\n",
              "      <td>0.596799</td>\n",
              "      <td>0.694444</td>\n",
              "      <td>00:02</td>\n",
              "    </tr>\n",
              "    <tr>\n",
              "      <td>8</td>\n",
              "      <td>0.584529</td>\n",
              "      <td>0.605807</td>\n",
              "      <td>0.655556</td>\n",
              "      <td>00:02</td>\n",
              "    </tr>\n",
              "    <tr>\n",
              "      <td>9</td>\n",
              "      <td>0.575001</td>\n",
              "      <td>0.620716</td>\n",
              "      <td>0.644444</td>\n",
              "      <td>00:02</td>\n",
              "    </tr>\n",
              "    <tr>\n",
              "      <td>10</td>\n",
              "      <td>0.580564</td>\n",
              "      <td>0.603998</td>\n",
              "      <td>0.661111</td>\n",
              "      <td>00:02</td>\n",
              "    </tr>\n",
              "    <tr>\n",
              "      <td>11</td>\n",
              "      <td>0.580542</td>\n",
              "      <td>0.599238</td>\n",
              "      <td>0.666667</td>\n",
              "      <td>00:03</td>\n",
              "    </tr>\n",
              "    <tr>\n",
              "      <td>12</td>\n",
              "      <td>0.574344</td>\n",
              "      <td>0.624276</td>\n",
              "      <td>0.638889</td>\n",
              "      <td>00:02</td>\n",
              "    </tr>\n",
              "    <tr>\n",
              "      <td>13</td>\n",
              "      <td>0.577332</td>\n",
              "      <td>0.607885</td>\n",
              "      <td>0.650000</td>\n",
              "      <td>00:02</td>\n",
              "    </tr>\n",
              "    <tr>\n",
              "      <td>14</td>\n",
              "      <td>0.578014</td>\n",
              "      <td>0.612238</td>\n",
              "      <td>0.644444</td>\n",
              "      <td>00:02</td>\n",
              "    </tr>\n",
              "    <tr>\n",
              "      <td>15</td>\n",
              "      <td>0.572332</td>\n",
              "      <td>0.622755</td>\n",
              "      <td>0.638889</td>\n",
              "      <td>00:02</td>\n",
              "    </tr>\n",
              "  </tbody>\n",
              "</table>"
            ],
            "text/plain": [
              "<IPython.core.display.HTML object>"
            ]
          },
          "metadata": {
            "tags": []
          }
        }
      ]
    },
    {
      "cell_type": "code",
      "metadata": {
        "id": "67iKejMxtWOH",
        "colab_type": "code",
        "outputId": "243b90e9-cd69-4ff6-bb0c-e7ae8a8eada7",
        "colab": {
          "base_uri": "https://localhost:8080/",
          "height": 34
        }
      },
      "source": [
        "predict(test,learn)"
      ],
      "execution_count": 0,
      "outputs": [
        {
          "output_type": "stream",
          "text": [
            "(100, 67, 0.67)\n"
          ],
          "name": "stdout"
        }
      ]
    },
    {
      "cell_type": "code",
      "metadata": {
        "id": "u75jzNXaBIQE",
        "colab_type": "code",
        "outputId": "d2a86e3e-2b58-4b93-a0a7-12792f16ee5c",
        "colab": {
          "base_uri": "https://localhost:8080/",
          "height": 556
        }
      },
      "source": [
        "learn.model"
      ],
      "execution_count": 0,
      "outputs": [
        {
          "output_type": "execute_result",
          "data": {
            "text/plain": [
              "SequentialRNN(\n",
              "  (0): MultiBatchEncoder(\n",
              "    (module): AWD_LSTM(\n",
              "      (encoder): Embedding(40, 400, padding_idx=1)\n",
              "      (encoder_dp): EmbeddingDropout(\n",
              "        (emb): Embedding(40, 400, padding_idx=1)\n",
              "      )\n",
              "      (rnns): ModuleList(\n",
              "        (0): WeightDropout(\n",
              "          (module): LSTM(400, 400, batch_first=True)\n",
              "        )\n",
              "      )\n",
              "      (input_dp): RNNDropout()\n",
              "      (hidden_dps): ModuleList(\n",
              "        (0): RNNDropout()\n",
              "      )\n",
              "    )\n",
              "  )\n",
              "  (1): PoolingLinearClassifier(\n",
              "    (layers): Sequential(\n",
              "      (0): BatchNorm1d(1200, eps=1e-05, momentum=0.1, affine=True, track_running_stats=True)\n",
              "      (1): Dropout(p=0.8, inplace=False)\n",
              "      (2): Linear(in_features=1200, out_features=50, bias=True)\n",
              "      (3): ReLU(inplace=True)\n",
              "      (4): BatchNorm1d(50, eps=1e-05, momentum=0.1, affine=True, track_running_stats=True)\n",
              "      (5): Dropout(p=0.1, inplace=False)\n",
              "      (6): Linear(in_features=50, out_features=2, bias=True)\n",
              "    )\n",
              "  )\n",
              ")"
            ]
          },
          "metadata": {
            "tags": []
          },
          "execution_count": 144
        }
      ]
    }
  ]
}