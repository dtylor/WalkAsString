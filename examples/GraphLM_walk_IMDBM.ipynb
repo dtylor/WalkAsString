{
  "nbformat": 4,
  "nbformat_minor": 0,
  "metadata": {
    "colab": {
      "name": "GraphLM_walk_IMDBM.ipynb",
      "provenance": [],
      "collapsed_sections": [],
      "machine_shape": "hm"
    },
    "kernelspec": {
      "name": "python3",
      "display_name": "Python 3"
    },
    "accelerator": "GPU"
  },
  "cells": [
    {
      "cell_type": "code",
      "metadata": {
        "id": "aKsDT-UyFobJ",
        "colab_type": "code",
        "outputId": "fc514c21-c89a-4aa2-aa1e-6b9ec4151c41",
        "colab": {
          "base_uri": "https://localhost:8080/",
          "height": 232
        }
      },
      "source": [
        "!git clone https://github.com/dtylor/WalkRNN.git\n",
        "%cd WalkRNN\n",
        "!ls"
      ],
      "execution_count": 1,
      "outputs": [
        {
          "output_type": "stream",
          "text": [
            "Cloning into 'WalkRNN'...\n",
            "remote: Enumerating objects: 104, done.\u001b[K\n",
            "remote: Counting objects: 100% (104/104), done.\u001b[K\n",
            "remote: Compressing objects: 100% (93/93), done.\u001b[K\n",
            "remote: Total 430 (delta 48), reused 31 (delta 9), pack-reused 326\u001b[K\n",
            "Receiving objects: 100% (430/430), 3.43 MiB | 6.38 MiB/s, done.\n",
            "Resolving deltas: 100% (228/228), done.\n",
            "/content/WalkRNN\n",
            "Demonstration.ipynb  LICENSE-3RD-PARTY.txt  MUTAG.ipynb     test.py\n",
            "examples\t     LICENSE.md\t\t    n2v\t\t    TODO\n",
            "graphwave\t     module.py\t\t    OrgChart.ipynb  utilities.py\n",
            "__init__.py\t     Motivation.ipynb\t    README.md\n"
          ],
          "name": "stdout"
        }
      ]
    },
    {
      "cell_type": "code",
      "metadata": {
        "id": "9l1y-ni-R5NO",
        "colab_type": "code",
        "outputId": "2782737c-2599-47e9-eb6e-6dc97a9081ba",
        "colab": {
          "base_uri": "https://localhost:8080/",
          "height": 106
        }
      },
      "source": [
        " !curl https://course-v3.fast.ai/setup/colab | bash"
      ],
      "execution_count": 2,
      "outputs": [
        {
          "output_type": "stream",
          "text": [
            "  % Total    % Received % Xferd  Average Speed   Time    Time     Time  Current\n",
            "                                 Dload  Upload   Total   Spent    Left  Speed\n",
            "\r  0     0    0     0    0     0      0      0 --:--:-- --:--:-- --:--:--     0\r100   287  100   287    0     0    495      0 --:--:-- --:--:-- --:--:--   495\n",
            "bash: line 1: syntax error near unexpected token `newline'\n",
            "bash: line 1: `<!DOCTYPE HTML PUBLIC \"-//IETF//DTD HTML 2.0//EN\">'\n"
          ],
          "name": "stdout"
        }
      ]
    },
    {
      "cell_type": "code",
      "metadata": {
        "id": "6_JKMi182dqZ",
        "colab_type": "code",
        "colab": {}
      },
      "source": [
        "import fastai\n",
        "import pandas as pd"
      ],
      "execution_count": 0,
      "outputs": []
    },
    {
      "cell_type": "code",
      "metadata": {
        "id": "SVCw0bb7m2Cj",
        "colab_type": "code",
        "outputId": "698a39f6-2778-45a2-bfcb-c8c1f8a6b65b",
        "colab": {
          "base_uri": "https://localhost:8080/",
          "height": 700
        }
      },
      "source": [
        "from fastai.utils.show_install import *\n",
        "show_install()"
      ],
      "execution_count": 4,
      "outputs": [
        {
          "output_type": "stream",
          "text": [
            "\n",
            "\n",
            "```text\n",
            "=== Software === \n",
            "python        : 3.6.8\n",
            "fastai        : 1.0.57\n",
            "fastprogress  : 0.1.21\n",
            "torch         : 1.2.0\n",
            "nvidia driver : 418.67\n",
            "torch cuda    : 10.0.130 / is available\n",
            "torch cudnn   : 7602 / is enabled\n",
            "\n",
            "=== Hardware === \n",
            "nvidia gpus   : 1\n",
            "torch devices : 1\n",
            "  - gpu0      : 11441MB | Tesla K80\n",
            "\n",
            "=== Environment === \n",
            "platform      : Linux-4.14.137+-x86_64-with-Ubuntu-18.04-bionic\n",
            "distro        : #1 SMP Thu Aug 8 02:47:02 PDT 2019\n",
            "conda env     : Unknown\n",
            "python        : /usr/bin/python3\n",
            "sys.path      : \n",
            "/env/python\n",
            "/usr/lib/python36.zip\n",
            "/usr/lib/python3.6\n",
            "/usr/lib/python3.6/lib-dynload\n",
            "/usr/local/lib/python3.6/dist-packages\n",
            "/usr/lib/python3/dist-packages\n",
            "/usr/local/lib/python3.6/dist-packages/IPython/extensions\n",
            "/root/.ipython\n",
            "```\n",
            "\n",
            "Please make sure to include opening/closing ``` when you paste into forums/github to make the reports appear formatted as code sections.\n",
            "\n",
            "Optional package(s) to enhance the diagnostics can be installed with:\n",
            "pip install distro\n",
            "Once installed, re-run this utility to get the additional information\n"
          ],
          "name": "stdout"
        }
      ]
    },
    {
      "cell_type": "code",
      "metadata": {
        "id": "uFXCHxZwZrpI",
        "colab_type": "code",
        "outputId": "bfca73ac-cb4a-45d8-a25a-83910d485104",
        "colab": {
          "base_uri": "https://localhost:8080/",
          "height": 52
        }
      },
      "source": [
        "str(fastai.__dict__['version'])\n",
        "!more /usr/local/lib/python3.6/dist-packages/fastai/version.py"
      ],
      "execution_count": 5,
      "outputs": [
        {
          "output_type": "stream",
          "text": [
            "__all__ = ['__version__']\n",
            "__version__ = '1.0.57'\n"
          ],
          "name": "stdout"
        }
      ]
    },
    {
      "cell_type": "code",
      "metadata": {
        "id": "GGf5xZN9StwG",
        "colab_type": "code",
        "outputId": "38280372-1377-4320-a9d9-243b6a008a0c",
        "colab": {
          "base_uri": "https://localhost:8080/",
          "height": 88
        }
      },
      "source": [
        "!ls"
      ],
      "execution_count": 6,
      "outputs": [
        {
          "output_type": "stream",
          "text": [
            "Demonstration.ipynb  LICENSE-3RD-PARTY.txt  MUTAG.ipynb     test.py\n",
            "examples\t     LICENSE.md\t\t    n2v\t\t    TODO\n",
            "graphwave\t     module.py\t\t    OrgChart.ipynb  utilities.py\n",
            "__init__.py\t     Motivation.ipynb\t    README.md\n"
          ],
          "name": "stdout"
        }
      ]
    },
    {
      "cell_type": "code",
      "metadata": {
        "id": "EDz9suwf15gG",
        "colab_type": "code",
        "colab": {}
      },
      "source": [
        "from google.colab import drive"
      ],
      "execution_count": 0,
      "outputs": []
    },
    {
      "cell_type": "code",
      "metadata": {
        "id": "-6FICw3t19b_",
        "colab_type": "code",
        "outputId": "84048aea-2b23-4a78-d0ab-a339f02402d1",
        "colab": {
          "base_uri": "https://localhost:8080/",
          "height": 126
        }
      },
      "source": [
        "drive.mount(\"/content/drive\")"
      ],
      "execution_count": 8,
      "outputs": [
        {
          "output_type": "stream",
          "text": [
            "Go to this URL in a browser: https://accounts.google.com/o/oauth2/auth?client_id=947318989803-6bn6qk8qdgf4n4g3pfee6491hc0brc4i.apps.googleusercontent.com&redirect_uri=urn%3Aietf%3Awg%3Aoauth%3A2.0%3Aoob&scope=email%20https%3A%2F%2Fwww.googleapis.com%2Fauth%2Fdocs.test%20https%3A%2F%2Fwww.googleapis.com%2Fauth%2Fdrive%20https%3A%2F%2Fwww.googleapis.com%2Fauth%2Fdrive.photos.readonly%20https%3A%2F%2Fwww.googleapis.com%2Fauth%2Fpeopleapi.readonly&response_type=code\n",
            "\n",
            "Enter your authorization code:\n",
            "··········\n",
            "Mounted at /content/drive\n"
          ],
          "name": "stdout"
        }
      ]
    },
    {
      "cell_type": "code",
      "metadata": {
        "id": "E593LDBV2Xcl",
        "colab_type": "code",
        "outputId": "e132cdd5-bad1-4240-d6b3-ec9d45005f1b",
        "colab": {
          "base_uri": "https://localhost:8080/",
          "height": 34
        }
      },
      "source": [
        "from utilities import load_graph_kernel_graph, load_graph_kernel_labels, transform_graph\n",
        "\n",
        "\n",
        "Gkern = load_graph_kernel_graph(\"./examples/data/IMDB-MULTI\")\n",
        "y = load_graph_kernel_labels(\"./examples/data/IMDB-MULTI\")\n"
      ],
      "execution_count": 9,
      "outputs": [
        {
          "output_type": "stream",
          "text": [
            "DONE\n"
          ],
          "name": "stdout"
        }
      ]
    },
    {
      "cell_type": "code",
      "metadata": {
        "id": "NP6gBvIe1p_O",
        "colab_type": "code",
        "outputId": "f27c8ed9-eea5-40cc-b207-97dbf39722a7",
        "colab": {
          "base_uri": "https://localhost:8080/",
          "height": 34
        }
      },
      "source": [
        "Gkern.nodes[12]"
      ],
      "execution_count": 10,
      "outputs": [
        {
          "output_type": "execute_result",
          "data": {
            "text/plain": [
              "{'component': 2}"
            ]
          },
          "metadata": {
            "tags": []
          },
          "execution_count": 10
        }
      ]
    },
    {
      "cell_type": "code",
      "metadata": {
        "id": "PBpNWKMOxX8t",
        "colab_type": "code",
        "outputId": "3cad53ff-7eb5-44b4-cea2-9e75d4cfb42a",
        "colab": {
          "base_uri": "https://localhost:8080/",
          "height": 34
        }
      },
      "source": [
        "#Transform networkx property graph into a format prepared for WalkRNN\n",
        "G, current_vocab_size = transform_graph(Gkern, params={'num_kmeans_clusters': 4, \"num_pca_components\": 6, \"num_batch\":500, 'num_att_kmeans_clusters': 10})"
      ],
      "execution_count": 11,
      "outputs": [
        {
          "output_type": "stream",
          "text": [
            "finished graphwave_alg batches\n"
          ],
          "name": "stdout"
        }
      ]
    },
    {
      "cell_type": "code",
      "metadata": {
        "id": "VrpaL8E63HvN",
        "colab_type": "code",
        "outputId": "49bd9a42-4298-4e24-b99c-80dd1fcb8f27",
        "colab": {
          "base_uri": "https://localhost:8080/",
          "height": 34
        }
      },
      "source": [
        "G.nodes[12]"
      ],
      "execution_count": 12,
      "outputs": [
        {
          "output_type": "execute_result",
          "data": {
            "text/plain": [
              "{'component': 2, 'structure': 1}"
            ]
          },
          "metadata": {
            "tags": []
          },
          "execution_count": 12
        }
      ]
    },
    {
      "cell_type": "code",
      "metadata": {
        "id": "bzBaGdbeZxn7",
        "colab_type": "code",
        "colab": {}
      },
      "source": [
        "import matplotlib.pyplot as plt\n",
        "import networkx as nx\n",
        "# create number for each group to allow use of colormap\n",
        "from itertools import count\n",
        "\n",
        "\n",
        "def plotGW(tmpG, comp_no):\n",
        " # get unique groups\n",
        " groups = set(nx.get_node_attributes(tmpG,'structure').values())\n",
        "\n",
        " mapping = dict(zip(sorted(groups),count()))\n",
        "  \n",
        " comp_nodes = [x for x,y in tmpG.nodes(data=True) if y['component']==comp_no]\n",
        " print(len(comp_nodes))\n",
        " subgraph = tmpG.subgraph(comp_nodes)\n",
        " nodes = subgraph.nodes()\n",
        " colors = [mapping[subgraph.node[n]['structure']] for n in nodes]\n",
        "\n",
        " # drawing nodes and edges separately so we can capture collection for colobar\n",
        " pos = nx.spring_layout(subgraph)\n",
        " ec = nx.draw_networkx_edges(subgraph, pos, with_labels=True,alpha=0.2)\n",
        " nc = nx.draw_networkx_nodes(subgraph, pos, nodelist=nodes, node_color=colors, \n",
        "                            with_labels=True, node_size=100, cmap=plt.cm.jet, vmin=0,vmax=3)\n",
        " plt.colorbar(nc)\n",
        " plt.axis('off')\n",
        " plt.show()\n",
        " print(nx.get_node_attributes(subgraph,'structure'))\n",
        " "
      ],
      "execution_count": 0,
      "outputs": []
    },
    {
      "cell_type": "code",
      "metadata": {
        "id": "_u-PlMacGYHK",
        "colab_type": "code",
        "outputId": "73207c8d-b64c-4e32-e3a3-adc000682b20",
        "colab": {
          "base_uri": "https://localhost:8080/",
          "height": 294
        }
      },
      "source": [
        "\n",
        "plotGW(G,1)"
      ],
      "execution_count": 14,
      "outputs": [
        {
          "output_type": "stream",
          "text": [
            "7\n"
          ],
          "name": "stdout"
        },
        {
          "output_type": "display_data",
          "data": {
            "image/png": "[encoded data removed]",
            "text/plain": [
              "<Figure size 432x288 with 2 Axes>"
            ]
          },
          "metadata": {
            "tags": []
          }
        },
        {
          "output_type": "stream",
          "text": [
            "{1: 0, 2: 0, 3: 0, 4: 0, 5: 0, 6: 0, 7: 0}\n"
          ],
          "name": "stdout"
        }
      ]
    },
    {
      "cell_type": "code",
      "metadata": {
        "id": "pAF7Mu8Tvp4t",
        "colab_type": "code",
        "outputId": "abccb99d-6f32-4991-ec9a-780a0c8b1ad3",
        "colab": {
          "base_uri": "https://localhost:8080/",
          "height": 294
        }
      },
      "source": [
        "plotGW(G,2)"
      ],
      "execution_count": 15,
      "outputs": [
        {
          "output_type": "stream",
          "text": [
            "13\n"
          ],
          "name": "stdout"
        },
        {
          "output_type": "display_data",
          "data": {
            "image/png": "[encoded data removed]",
            "text/plain": [
              "<Figure size 432x288 with 2 Axes>"
            ]
          },
          "metadata": {
            "tags": []
          }
        },
        {
          "output_type": "stream",
          "text": [
            "{8: 1, 9: 1, 10: 1, 11: 1, 12: 1, 13: 1, 14: 1, 15: 1, 16: 3, 17: 1, 18: 1, 19: 1, 20: 1}\n"
          ],
          "name": "stdout"
        }
      ]
    },
    {
      "cell_type": "code",
      "metadata": {
        "id": "TUllgenOGfMt",
        "colab_type": "code",
        "outputId": "0f1f3b5e-9be0-45d6-ca9e-b9a29fe33695",
        "colab": {
          "base_uri": "https://localhost:8080/",
          "height": 294
        }
      },
      "source": [
        "plotGW(G,3)"
      ],
      "execution_count": 16,
      "outputs": [
        {
          "output_type": "stream",
          "text": [
            "7\n"
          ],
          "name": "stdout"
        },
        {
          "output_type": "display_data",
          "data": {
            "image/png": "[encoded data removed]",
            "text/plain": [
              "<Figure size 432x288 with 2 Axes>"
            ]
          },
          "metadata": {
            "tags": []
          }
        },
        {
          "output_type": "stream",
          "text": [
            "{21: 0, 22: 0, 23: 0, 24: 0, 25: 0, 26: 0, 27: 0}\n"
          ],
          "name": "stdout"
        }
      ]
    },
    {
      "cell_type": "code",
      "metadata": {
        "id": "XIpyDNCaM5SS",
        "colab_type": "code",
        "outputId": "267865fc-1aac-4ca9-b3d0-b6ce532f8639",
        "colab": {
          "base_uri": "https://localhost:8080/",
          "height": 294
        }
      },
      "source": [
        "plotGW(G,151)"
      ],
      "execution_count": 17,
      "outputs": [
        {
          "output_type": "stream",
          "text": [
            "11\n"
          ],
          "name": "stdout"
        },
        {
          "output_type": "display_data",
          "data": {
            "image/png": "[encoded data removed]",
            "text/plain": [
              "<Figure size 432x288 with 2 Axes>"
            ]
          },
          "metadata": {
            "tags": []
          }
        },
        {
          "output_type": "stream",
          "text": [
            "{2080: 0, 2081: 0, 2082: 0, 2083: 0, 2084: 0, 2085: 0, 2086: 0, 2087: 0, 2077: 0, 2078: 0, 2079: 0}\n"
          ],
          "name": "stdout"
        }
      ]
    },
    {
      "cell_type": "code",
      "metadata": {
        "id": "vNY1lkrIRF15",
        "colab_type": "code",
        "outputId": "98093562-e293-44e4-e682-14fc8e9f34d1",
        "colab": {
          "base_uri": "https://localhost:8080/",
          "height": 294
        }
      },
      "source": [
        "plotGW(G,11)"
      ],
      "execution_count": 18,
      "outputs": [
        {
          "output_type": "stream",
          "text": [
            "8\n"
          ],
          "name": "stdout"
        },
        {
          "output_type": "display_data",
          "data": {
            "image/png": "[encoded data removed]",
            "text/plain": [
              "<Figure size 432x288 with 2 Axes>"
            ]
          },
          "metadata": {
            "tags": []
          }
        },
        {
          "output_type": "stream",
          "text": [
            "{103: 0, 104: 0, 105: 0, 106: 0, 107: 0, 108: 0, 109: 0, 110: 0}\n"
          ],
          "name": "stdout"
        }
      ]
    },
    {
      "cell_type": "code",
      "metadata": {
        "id": "atiOOj03RKPJ",
        "colab_type": "code",
        "outputId": "b29ba20b-dcfa-4f99-fc13-7ea0c246014b",
        "colab": {
          "base_uri": "https://localhost:8080/",
          "height": 294
        }
      },
      "source": [
        "plotGW(G,160)"
      ],
      "execution_count": 19,
      "outputs": [
        {
          "output_type": "stream",
          "text": [
            "26\n"
          ],
          "name": "stdout"
        },
        {
          "output_type": "display_data",
          "data": {
            "image/png": "[encoded data removed]",
            "text/plain": [
              "<Figure size 432x288 with 2 Axes>"
            ]
          },
          "metadata": {
            "tags": []
          }
        },
        {
          "output_type": "stream",
          "text": [
            "{2191: 1, 2192: 1, 2193: 1, 2194: 1, 2195: 2, 2196: 2, 2197: 2, 2198: 2, 2199: 1, 2200: 1, 2201: 2, 2202: 1, 2203: 2, 2204: 1, 2205: 2, 2206: 2, 2207: 2, 2208: 1, 2209: 2, 2210: 1, 2211: 2, 2212: 2, 2213: 2, 2214: 1, 2215: 2, 2216: 1}\n"
          ],
          "name": "stdout"
        }
      ]
    },
    {
      "cell_type": "code",
      "metadata": {
        "id": "_-QuZA4MRMri",
        "colab_type": "code",
        "outputId": "79dfd4ea-5703-4318-cbf4-035970b7183c",
        "colab": {
          "base_uri": "https://localhost:8080/",
          "height": 294
        }
      },
      "source": [
        "plotGW(G,18)"
      ],
      "execution_count": 20,
      "outputs": [
        {
          "output_type": "stream",
          "text": [
            "7\n"
          ],
          "name": "stdout"
        },
        {
          "output_type": "display_data",
          "data": {
            "image/png": "[encoded data removed]",
            "text/plain": [
              "<Figure size 432x288 with 2 Axes>"
            ]
          },
          "metadata": {
            "tags": []
          }
        },
        {
          "output_type": "stream",
          "text": [
            "{195: 0, 196: 0, 197: 0, 198: 0, 199: 0, 200: 0, 201: 0}\n"
          ],
          "name": "stdout"
        }
      ]
    },
    {
      "cell_type": "code",
      "metadata": {
        "id": "m26A0mUrRPIR",
        "colab_type": "code",
        "outputId": "55c34b41-bc9d-4d76-ed5f-9bbeb849f8a5",
        "colab": {
          "base_uri": "https://localhost:8080/",
          "height": 294
        }
      },
      "source": [
        "plotGW(G,140)"
      ],
      "execution_count": 21,
      "outputs": [
        {
          "output_type": "stream",
          "text": [
            "11\n"
          ],
          "name": "stdout"
        },
        {
          "output_type": "display_data",
          "data": {
            "image/png": "[encoded data removed]",
            "text/plain": [
              "<Figure size 432x288 with 2 Axes>"
            ]
          },
          "metadata": {
            "tags": []
          }
        },
        {
          "output_type": "stream",
          "text": [
            "{1960: 0, 1961: 1, 1962: 1, 1963: 1, 1964: 0, 1965: 0, 1966: 0, 1967: 0, 1968: 0, 1969: 1, 1970: 1}\n"
          ],
          "name": "stdout"
        }
      ]
    },
    {
      "cell_type": "code",
      "metadata": {
        "id": "V099nA0W3_Ke",
        "colab_type": "code",
        "colab": {}
      },
      "source": [
        "from module import walk_as_string"
      ],
      "execution_count": 0,
      "outputs": []
    },
    {
      "cell_type": "code",
      "metadata": {
        "id": "ZS0mgPZo4PED",
        "colab_type": "code",
        "outputId": "aa688e40-1f34-4b8e-aa0e-3f1161542aac",
        "colab": {
          "base_uri": "https://localhost:8080/",
          "height": 484
        }
      },
      "source": [
        "walks = walk_as_string(G, componentLabels = y)"
      ],
      "execution_count": 23,
      "outputs": [
        {
          "output_type": "stream",
          "text": [
            "Walk iteration:\n",
            "('1', '/', '20')\n",
            "('2', '/', '20')\n",
            "('3', '/', '20')\n",
            "('4', '/', '20')\n",
            "('5', '/', '20')\n",
            "('6', '/', '20')\n",
            "('7', '/', '20')\n",
            "('8', '/', '20')\n",
            "('9', '/', '20')\n",
            "('10', '/', '20')\n",
            "('11', '/', '20')\n",
            "('12', '/', '20')\n",
            "('13', '/', '20')\n",
            "('14', '/', '20')\n",
            "('15', '/', '20')\n",
            "('16', '/', '20')\n",
            "('17', '/', '20')\n",
            "('18', '/', '20')\n",
            "('19', '/', '20')\n",
            "('20', '/', '20')\n"
          ],
          "name": "stdout"
        },
        {
          "output_type": "stream",
          "text": [
            "/content/WalkRNN/module.py:140: FutureWarning: Method .as_matrix will be removed in a future version. Use .values instead.\n",
            "  sorted_walks = pd.DataFrame(walks).sort_values(0).as_matrix()\n"
          ],
          "name": "stderr"
        },
        {
          "output_type": "stream",
          "text": [
            "[1 7 1 7 1 3 7 3 6 4 1 2 4 6 2 5 3 6 5 2 5 7 2 3 5 2 1 5 4 7]\n",
            "[1 5 7 6 2 3 4 5 7 1 2 1 7 1 5 6 3 1 5 1 5 7 2 4 3 4 6 4 6 1]\n",
            "[1 3 7 2 5 2 4 1 4 6 5 6 4 1 6 5 1 3 5 3 6 1 3 4 6 3 7 4 1 6]\n"
          ],
          "name": "stdout"
        }
      ]
    },
    {
      "cell_type": "code",
      "metadata": {
        "id": "AVzunvIC1-6B",
        "colab_type": "code",
        "colab": {}
      },
      "source": [
        "from fastai.text import *\n",
        "from sklearn.model_selection import train_test_split\n",
        "import numpy"
      ],
      "execution_count": 0,
      "outputs": []
    },
    {
      "cell_type": "code",
      "metadata": {
        "id": "kwjfuvQZhwmT",
        "colab_type": "code",
        "outputId": "d0fe4bcb-742b-4562-c7b0-d1a83de27ee0",
        "colab": {
          "base_uri": "https://localhost:8080/",
          "height": 189
        }
      },
      "source": [
        "walks.head()"
      ],
      "execution_count": 25,
      "outputs": [
        {
          "output_type": "execute_result",
          "data": {
            "text/html": [
              "<div>\n",
              "<style scoped>\n",
              "    .dataframe tbody tr th:only-of-type {\n",
              "        vertical-align: middle;\n",
              "    }\n",
              "\n",
              "    .dataframe tbody tr th {\n",
              "        vertical-align: top;\n",
              "    }\n",
              "\n",
              "    .dataframe thead th {\n",
              "        text-align: right;\n",
              "    }\n",
              "</style>\n",
              "<table border=\"1\" class=\"dataframe\">\n",
              "  <thead>\n",
              "    <tr style=\"text-align: right;\">\n",
              "      <th></th>\n",
              "      <th>walk</th>\n",
              "      <th>label</th>\n",
              "      <th>start_node</th>\n",
              "      <th>component</th>\n",
              "    </tr>\n",
              "  </thead>\n",
              "  <tbody>\n",
              "    <tr>\n",
              "      <th>0</th>\n",
              "      <td>0  0  0  0  0  0  0  0  0  0  0  0  0  0  0  0...</td>\n",
              "      <td>1</td>\n",
              "      <td>1</td>\n",
              "      <td>1</td>\n",
              "    </tr>\n",
              "    <tr>\n",
              "      <th>1</th>\n",
              "      <td>0  0  0  0  0  0  0  0  0  0  0  0  0  0  0  0...</td>\n",
              "      <td>1</td>\n",
              "      <td>1</td>\n",
              "      <td>1</td>\n",
              "    </tr>\n",
              "    <tr>\n",
              "      <th>2</th>\n",
              "      <td>0  0  0  0  0  0  0  0  0  0  0  0  0  0  0  0...</td>\n",
              "      <td>1</td>\n",
              "      <td>1</td>\n",
              "      <td>1</td>\n",
              "    </tr>\n",
              "    <tr>\n",
              "      <th>3</th>\n",
              "      <td>0  0  0  0  0  0  0  0  0  0  0  0  0  0  0  0...</td>\n",
              "      <td>1</td>\n",
              "      <td>1</td>\n",
              "      <td>1</td>\n",
              "    </tr>\n",
              "    <tr>\n",
              "      <th>4</th>\n",
              "      <td>0  0  0  0  0  0  0  0  0  0  0  0  0  0  0  0...</td>\n",
              "      <td>1</td>\n",
              "      <td>1</td>\n",
              "      <td>1</td>\n",
              "    </tr>\n",
              "  </tbody>\n",
              "</table>\n",
              "</div>"
            ],
            "text/plain": [
              "                                                walk  ...  component\n",
              "0  0  0  0  0  0  0  0  0  0  0  0  0  0  0  0  0...  ...          1\n",
              "1  0  0  0  0  0  0  0  0  0  0  0  0  0  0  0  0...  ...          1\n",
              "2  0  0  0  0  0  0  0  0  0  0  0  0  0  0  0  0...  ...          1\n",
              "3  0  0  0  0  0  0  0  0  0  0  0  0  0  0  0  0...  ...          1\n",
              "4  0  0  0  0  0  0  0  0  0  0  0  0  0  0  0  0...  ...          1\n",
              "\n",
              "[5 rows x 4 columns]"
            ]
          },
          "metadata": {
            "tags": []
          },
          "execution_count": 25
        }
      ]
    },
    {
      "cell_type": "code",
      "metadata": {
        "id": "o1VO6MkuiVqB",
        "colab_type": "code",
        "outputId": "bd9a6a12-edc7-4d62-8cef-7c54a121cd93",
        "colab": {
          "base_uri": "https://localhost:8080/",
          "height": 34
        }
      },
      "source": [
        "walks.shape"
      ],
      "execution_count": 26,
      "outputs": [
        {
          "output_type": "execute_result",
          "data": {
            "text/plain": [
              "(390040, 4)"
            ]
          },
          "metadata": {
            "tags": []
          },
          "execution_count": 26
        }
      ]
    },
    {
      "cell_type": "code",
      "metadata": {
        "id": "7wNVf9JKdmfy",
        "colab_type": "code",
        "colab": {}
      },
      "source": [
        "from sklearn.model_selection import train_test_split\n",
        "import numpy\n",
        "data = list(set(walks.component))\n",
        "x_traina ,x_test = train_test_split(data,test_size=0.1)    \n",
        "x_train ,x_val = train_test_split(x_traina,test_size=0.2)  \n"
      ],
      "execution_count": 0,
      "outputs": []
    },
    {
      "cell_type": "code",
      "metadata": {
        "id": "76ro7tvTdxrl",
        "colab_type": "code",
        "outputId": "49b06f4e-a714-4997-a411-b32e238f4cb8",
        "colab": {
          "base_uri": "https://localhost:8080/",
          "height": 34
        }
      },
      "source": [
        "train_tmp = pd.DataFrame(x_train)\n",
        "train_tmp.columns = ['component']\n",
        "df_train = pd.merge(walks, train_tmp, on='component', sort=False)\n",
        "df_train.shape"
      ],
      "execution_count": 28,
      "outputs": [
        {
          "output_type": "execute_result",
          "data": {
            "text/plain": [
              "(281560, 4)"
            ]
          },
          "metadata": {
            "tags": []
          },
          "execution_count": 28
        }
      ]
    },
    {
      "cell_type": "code",
      "metadata": {
        "id": "xDBYiP6Hd2Dd",
        "colab_type": "code",
        "outputId": "76fa6e7d-c28c-42a0-a29c-55b2b23a7b04",
        "colab": {
          "base_uri": "https://localhost:8080/",
          "height": 34
        }
      },
      "source": [
        "test_tmp = pd.DataFrame(x_test)\n",
        "test_tmp.columns = ['component']\n",
        "df_test = pd.merge(walks, test_tmp, on='component', sort=False)\n",
        "df_test.shape"
      ],
      "execution_count": 29,
      "outputs": [
        {
          "output_type": "execute_result",
          "data": {
            "text/plain": [
              "(34560, 4)"
            ]
          },
          "metadata": {
            "tags": []
          },
          "execution_count": 29
        }
      ]
    },
    {
      "cell_type": "code",
      "metadata": {
        "id": "bjLmYukLeCHq",
        "colab_type": "code",
        "outputId": "dfc96cd0-3161-4c7d-bdda-1d77bc2106d6",
        "colab": {
          "base_uri": "https://localhost:8080/",
          "height": 34
        }
      },
      "source": [
        "val_tmp = pd.DataFrame(x_val)\n",
        "val_tmp.columns = ['component']\n",
        "df_val = pd.merge(walks, val_tmp, on='component', sort=False)\n",
        "df_val.shape"
      ],
      "execution_count": 30,
      "outputs": [
        {
          "output_type": "execute_result",
          "data": {
            "text/plain": [
              "(73920, 4)"
            ]
          },
          "metadata": {
            "tags": []
          },
          "execution_count": 30
        }
      ]
    },
    {
      "cell_type": "code",
      "metadata": {
        "id": "jUebKPZo9j7H",
        "colab_type": "code",
        "colab": {}
      },
      "source": [
        "!mkdir result\n",
        "mypath = './result'"
      ],
      "execution_count": 0,
      "outputs": []
    },
    {
      "cell_type": "code",
      "metadata": {
        "id": "nIiT5y-B6Pbl",
        "colab_type": "code",
        "colab": {}
      },
      "source": [
        "data_lm = TextLMDataBunch.from_df(train_df=df_train[['walk', 'label']], valid_df=df_val[[\n",
        "                                  'walk', 'label']],  path=mypath, text_cols='walk', label_cols='label')\n"
      ],
      "execution_count": 0,
      "outputs": []
    },
    {
      "cell_type": "code",
      "metadata": {
        "id": "PGky3pxO94ym",
        "colab_type": "code",
        "colab": {}
      },
      "source": [
        "data_lm.save('data_lm.pkl')"
      ],
      "execution_count": 0,
      "outputs": []
    },
    {
      "cell_type": "code",
      "metadata": {
        "id": "TMrIxld1OHnu",
        "colab_type": "code",
        "outputId": "3fbb9950-a160-44f0-a063-16115e5df1d2",
        "colab": {
          "base_uri": "https://localhost:8080/",
          "height": 52
        }
      },
      "source": [
        "!ls -l ./result"
      ],
      "execution_count": 34,
      "outputs": [
        {
          "output_type": "stream",
          "text": [
            "total 107596\n",
            "-rw-r--r-- 1 root root 110174352 Sep 30 22:09 data_lm.pkl\n"
          ],
          "name": "stdout"
        }
      ]
    },
    {
      "cell_type": "code",
      "metadata": {
        "id": "toyh21Rp9_Yn",
        "colab_type": "code",
        "colab": {}
      },
      "source": [
        "bs = 32\n",
        "# load the data (can be used in the future as well to prevent reprocessing)\n",
        "data_lm = load_data(mypath, 'data_lm.pkl', bs=bs)\n"
      ],
      "execution_count": 0,
      "outputs": []
    },
    {
      "cell_type": "code",
      "metadata": {
        "id": "ig9trRhkLccB",
        "colab_type": "code",
        "outputId": "e56d84c1-afda-4655-de8c-fde0f37272f1",
        "colab": {
          "base_uri": "https://localhost:8080/",
          "height": 189
        }
      },
      "source": [
        "data_lm.show_batch() # take a look at the batch fed into the GPU"
      ],
      "execution_count": 36,
      "outputs": [
        {
          "output_type": "display_data",
          "data": {
            "text/html": [
              "<table border=\"1\" class=\"dataframe\">\n",
              "  <thead>\n",
              "    <tr style=\"text-align: right;\">\n",
              "      <th>idx</th>\n",
              "      <th>text</th>\n",
              "    </tr>\n",
              "  </thead>\n",
              "  <tbody>\n",
              "    <tr>\n",
              "      <td>0</td>\n",
              "      <td>xxbos xxwrep 29 0 0 xxbos xxwrep 29 0 0 xxbos xxwrep 29 0 0 xxbos xxwrep 29 0 0 xxbos xxwrep 29 0 0 xxbos xxwrep 29 0 0 xxbos xxwrep 29 0 0 xxbos xxwrep 29 0 0 xxbos xxwrep 29 0 0 xxbos xxwrep 29 0 0 xxbos xxwrep 29 0 0 xxbos xxwrep 29 0 0 xxbos xxwrep 29 0 0 xxbos xxwrep 29 0 0</td>\n",
              "    </tr>\n",
              "    <tr>\n",
              "      <td>1</td>\n",
              "      <td>0 xxbos xxwrep 29 0 0 xxbos xxwrep 29 0 0 xxbos xxwrep 29 0 0 xxbos xxwrep 29 0 0 xxbos xxwrep 29 0 0 xxbos xxwrep 29 0 0 xxbos xxwrep 29 0 0 xxbos xxwrep 29 0 0 xxbos xxwrep 29 0 0 xxbos xxwrep 29 0 0 xxbos xxwrep 29 0 0 xxbos xxwrep 29 0 0 xxbos xxwrep 29 0 0 xxbos xxwrep 29 0</td>\n",
              "    </tr>\n",
              "    <tr>\n",
              "      <td>2</td>\n",
              "      <td>xxwrep 4 1 2 xxbos 2 2 2 1 2 1 2 2 1 1 2 2 1 xxwrep 4 2 1 2 2 1 1 1 xxwrep 6 2 2 xxbos 2 3 xxwrep 7 2 1 1 2 3 2 1 3 2 2 1 2 1 xxwrep 4 2 3 2 1 2 2 xxbos 2 2 1 xxwrep 6 2 1 3 2 1 2 2</td>\n",
              "    </tr>\n",
              "    <tr>\n",
              "      <td>3</td>\n",
              "      <td>20 1 1 xxbos xxwrep 5 1 0 1 0 1 0 xxwrep 8 1 3 xxwrep 7 1 3 1 1 0 xxbos 1 1 0 1 0 xxwrep 6 1 0 xxwrep 11 1 3 1 1 0 3 1 1 xxbos xxwrep 4 1 0 xxwrep 16 1 0 3 xxwrep 6 1 1 xxbos 1 0 xxwrep 4 1 0 1 0 xxwrep 11 1 0</td>\n",
              "    </tr>\n",
              "    <tr>\n",
              "      <td>4</td>\n",
              "      <td>2 2 1 2 2 1 2 1 2 1 xxwrep 8 2 1 1 2 1 1 2 1 2 2 2 xxbos 1 1 2 1 2 xxwrep 7 1 xxwrep 6 2 1 2 2 2 1 2 1 1 1 2 1 2 xxbos 1 2 1 2 2 1 2 1 1 1 xxwrep 4 2 1 xxwrep 4 2 1 1 2 1 1</td>\n",
              "    </tr>\n",
              "  </tbody>\n",
              "</table>"
            ],
            "text/plain": [
              "<IPython.core.display.HTML object>"
            ]
          },
          "metadata": {
            "tags": []
          }
        }
      ]
    },
    {
      "cell_type": "code",
      "metadata": {
        "id": "vCOueJDZXNCJ",
        "colab_type": "code",
        "colab": {}
      },
      "source": [
        "awd_lstm_lm_config = dict(emb_sz=400, n_hid=600, n_layers=1, pad_token=1, qrnn=False, bidir=False, output_p=0.1, hidden_p=0.15, input_p=0.25, embed_p=0.02, weight_p=0.2, tie_weights=True, out_bias=True)\n",
        "awd_lstm_clas_config = dict(emb_sz=400, n_hid=600, n_layers=1, pad_token=1, qrnn=False, bidir=False, output_p=0.4,  hidden_p=0.3, input_p=0.4, embed_p=0.05, weight_p=0.5)"
      ],
      "execution_count": 0,
      "outputs": []
    },
    {
      "cell_type": "code",
      "metadata": {
        "id": "mFr6Dq5d-B6E",
        "colab_type": "code",
        "outputId": "57a6ce2f-71c5-45da-f7e7-f19287113d76",
        "colab": {
          "base_uri": "https://localhost:8080/",
          "height": 877
        }
      },
      "source": [
        "\n",
        "learn = language_model_learner(data_lm,arch=AWD_LSTM,config= awd_lstm_lm_config,drop_mult=1.9, callback_fns=ShowGraph,pretrained=False)\n",
        "learn.lr_find()\n",
        "learn.recorder.plot()\n",
        "learn.fit_one_cycle(1, 1e-2, moms=(0.8,0.7))\n",
        "learn.recorder.plot_losses()\n",
        "learn.save('fit-head')\n",
        "\n"
      ],
      "execution_count": 38,
      "outputs": [
        {
          "output_type": "display_data",
          "data": {
            "text/html": [
              ""
            ],
            "text/plain": [
              "<IPython.core.display.HTML object>"
            ]
          },
          "metadata": {
            "tags": []
          }
        },
        {
          "output_type": "stream",
          "text": [
            "LR Finder is complete, type {learner_name}.recorder.plot() to see the graph.\n"
          ],
          "name": "stdout"
        },
        {
          "output_type": "display_data",
          "data": {
            "text/html": [
              "<table border=\"1\" class=\"dataframe\">\n",
              "  <thead>\n",
              "    <tr style=\"text-align: left;\">\n",
              "      <th>epoch</th>\n",
              "      <th>train_loss</th>\n",
              "      <th>valid_loss</th>\n",
              "      <th>accuracy</th>\n",
              "      <th>time</th>\n",
              "    </tr>\n",
              "  </thead>\n",
              "  <tbody>\n",
              "    <tr>\n",
              "      <td>0</td>\n",
              "      <td>1.003807</td>\n",
              "      <td>0.925975</td>\n",
              "      <td>0.623682</td>\n",
              "      <td>01:05</td>\n",
              "    </tr>\n",
              "  </tbody>\n",
              "</table>"
            ],
            "text/plain": [
              "<IPython.core.display.HTML object>"
            ]
          },
          "metadata": {
            "tags": []
          }
        },
        {
          "output_type": "display_data",
          "data": {
            "image/png": "[encoded data removed]",
            "text/plain": [
              "<Figure size 432x288 with 1 Axes>"
            ]
          },
          "metadata": {
            "tags": []
          }
        },
        {
          "output_type": "display_data",
          "data": {
            "image/png": "[encoded data removed]",
            "text/plain": [
              "<Figure size 432x288 with 1 Axes>"
            ]
          },
          "metadata": {
            "tags": []
          }
        },
        {
          "output_type": "display_data",
          "data": {
            "image/png": "[encoded data removed]",
            "text/plain": [
              "<Figure size 432x288 with 1 Axes>"
            ]
          },
          "metadata": {
            "tags": []
          }
        }
      ]
    },
    {
      "cell_type": "code",
      "metadata": {
        "id": "7LiPMqtHGbIv",
        "colab_type": "code",
        "outputId": "57dbb7df-e2fa-444b-89b7-3133f065ed3f",
        "colab": {
          "base_uri": "https://localhost:8080/",
          "height": 301
        }
      },
      "source": [
        "learn.unfreeze()\n",
        "learn.lr_find()\n",
        "learn.recorder.plot()"
      ],
      "execution_count": 39,
      "outputs": [
        {
          "output_type": "display_data",
          "data": {
            "text/html": [
              ""
            ],
            "text/plain": [
              "<IPython.core.display.HTML object>"
            ]
          },
          "metadata": {
            "tags": []
          }
        },
        {
          "output_type": "stream",
          "text": [
            "LR Finder is complete, type {learner_name}.recorder.plot() to see the graph.\n"
          ],
          "name": "stdout"
        },
        {
          "output_type": "display_data",
          "data": {
            "image/png": "[encoded data removed]",
            "text/plain": [
              "<Figure size 432x288 with 1 Axes>"
            ]
          },
          "metadata": {
            "tags": []
          }
        }
      ]
    },
    {
      "cell_type": "code",
      "metadata": {
        "id": "6TE19CDyHA54",
        "colab_type": "code",
        "outputId": "4faf2b98-9b7f-4c9b-aed9-f38d6382bc7b",
        "colab": {
          "base_uri": "https://localhost:8080/",
          "height": 469
        }
      },
      "source": [
        "learn.fit_one_cycle(6, .01, moms=(0.8,0.7))"
      ],
      "execution_count": 40,
      "outputs": [
        {
          "output_type": "display_data",
          "data": {
            "text/html": [
              "<table border=\"1\" class=\"dataframe\">\n",
              "  <thead>\n",
              "    <tr style=\"text-align: left;\">\n",
              "      <th>epoch</th>\n",
              "      <th>train_loss</th>\n",
              "      <th>valid_loss</th>\n",
              "      <th>accuracy</th>\n",
              "      <th>time</th>\n",
              "    </tr>\n",
              "  </thead>\n",
              "  <tbody>\n",
              "    <tr>\n",
              "      <td>0</td>\n",
              "      <td>1.009874</td>\n",
              "      <td>0.936290</td>\n",
              "      <td>0.618575</td>\n",
              "      <td>01:06</td>\n",
              "    </tr>\n",
              "    <tr>\n",
              "      <td>1</td>\n",
              "      <td>1.015465</td>\n",
              "      <td>0.937564</td>\n",
              "      <td>0.614121</td>\n",
              "      <td>01:05</td>\n",
              "    </tr>\n",
              "    <tr>\n",
              "      <td>2</td>\n",
              "      <td>0.996756</td>\n",
              "      <td>0.924689</td>\n",
              "      <td>0.620987</td>\n",
              "      <td>01:05</td>\n",
              "    </tr>\n",
              "    <tr>\n",
              "      <td>3</td>\n",
              "      <td>0.979153</td>\n",
              "      <td>0.910464</td>\n",
              "      <td>0.624263</td>\n",
              "      <td>01:05</td>\n",
              "    </tr>\n",
              "    <tr>\n",
              "      <td>4</td>\n",
              "      <td>0.968291</td>\n",
              "      <td>0.892190</td>\n",
              "      <td>0.632268</td>\n",
              "      <td>01:05</td>\n",
              "    </tr>\n",
              "    <tr>\n",
              "      <td>5</td>\n",
              "      <td>0.954231</td>\n",
              "      <td>0.886190</td>\n",
              "      <td>0.633921</td>\n",
              "      <td>01:05</td>\n",
              "    </tr>\n",
              "  </tbody>\n",
              "</table>"
            ],
            "text/plain": [
              "<IPython.core.display.HTML object>"
            ]
          },
          "metadata": {
            "tags": []
          }
        },
        {
          "output_type": "display_data",
          "data": {
            "image/png": "[encoded data removed]",
            "text/plain": [
              "<Figure size 432x288 with 1 Axes>"
            ]
          },
          "metadata": {
            "tags": []
          }
        }
      ]
    },
    {
      "cell_type": "code",
      "metadata": {
        "id": "NcovqscTHKID",
        "colab_type": "code",
        "colab": {}
      },
      "source": [
        "learn.save('fit-head')"
      ],
      "execution_count": 0,
      "outputs": []
    },
    {
      "cell_type": "code",
      "metadata": {
        "id": "IbxpqRfHJFEG",
        "colab_type": "code",
        "colab": {}
      },
      "source": [
        "learn.save_encoder('fine_tuned_enc3')"
      ],
      "execution_count": 0,
      "outputs": []
    },
    {
      "cell_type": "code",
      "metadata": {
        "id": "GbfYoP9NJ6Ai",
        "colab_type": "code",
        "outputId": "0b08ce95-a809-477c-c4b6-38a71cee1af5",
        "colab": {
          "base_uri": "https://localhost:8080/",
          "height": 189
        }
      },
      "source": [
        "df = walks.sample(frac=1).reset_index(drop=True)\n",
        "df['index1']=df.index\n",
        "\n",
        "g = df.groupby('component')\n",
        "df['RN'] = g['index1'].rank(method='min')\n",
        "\n",
        "df[df['component']==1].head()\n"
      ],
      "execution_count": 43,
      "outputs": [
        {
          "output_type": "execute_result",
          "data": {
            "text/html": [
              "<div>\n",
              "<style scoped>\n",
              "    .dataframe tbody tr th:only-of-type {\n",
              "        vertical-align: middle;\n",
              "    }\n",
              "\n",
              "    .dataframe tbody tr th {\n",
              "        vertical-align: top;\n",
              "    }\n",
              "\n",
              "    .dataframe thead th {\n",
              "        text-align: right;\n",
              "    }\n",
              "</style>\n",
              "<table border=\"1\" class=\"dataframe\">\n",
              "  <thead>\n",
              "    <tr style=\"text-align: right;\">\n",
              "      <th></th>\n",
              "      <th>walk</th>\n",
              "      <th>label</th>\n",
              "      <th>start_node</th>\n",
              "      <th>component</th>\n",
              "      <th>index1</th>\n",
              "      <th>RN</th>\n",
              "    </tr>\n",
              "  </thead>\n",
              "  <tbody>\n",
              "    <tr>\n",
              "      <th>3047</th>\n",
              "      <td>0  0  0  0  0  0  0  0  0  0  0  0  0  0  0  0...</td>\n",
              "      <td>1</td>\n",
              "      <td>5</td>\n",
              "      <td>1</td>\n",
              "      <td>3047</td>\n",
              "      <td>1.0</td>\n",
              "    </tr>\n",
              "    <tr>\n",
              "      <th>4793</th>\n",
              "      <td>0  0  0  0  0  0  0  0  0  0  0  0  0  0  0  0...</td>\n",
              "      <td>1</td>\n",
              "      <td>7</td>\n",
              "      <td>1</td>\n",
              "      <td>4793</td>\n",
              "      <td>2.0</td>\n",
              "    </tr>\n",
              "    <tr>\n",
              "      <th>14717</th>\n",
              "      <td>0  0  0  0  0  0  0  0  0  0  0  0  0  0  0  0...</td>\n",
              "      <td>1</td>\n",
              "      <td>3</td>\n",
              "      <td>1</td>\n",
              "      <td>14717</td>\n",
              "      <td>3.0</td>\n",
              "    </tr>\n",
              "    <tr>\n",
              "      <th>23095</th>\n",
              "      <td>0  0  0  0  0  0  0  0  0  0  0  0  0  0  0  0...</td>\n",
              "      <td>1</td>\n",
              "      <td>4</td>\n",
              "      <td>1</td>\n",
              "      <td>23095</td>\n",
              "      <td>4.0</td>\n",
              "    </tr>\n",
              "    <tr>\n",
              "      <th>27696</th>\n",
              "      <td>0  0  0  0  0  0  0  0  0  0  0  0  0  0  0  0...</td>\n",
              "      <td>1</td>\n",
              "      <td>6</td>\n",
              "      <td>1</td>\n",
              "      <td>27696</td>\n",
              "      <td>5.0</td>\n",
              "    </tr>\n",
              "  </tbody>\n",
              "</table>\n",
              "</div>"
            ],
            "text/plain": [
              "                                                    walk  label  ...  index1   RN\n",
              "3047   0  0  0  0  0  0  0  0  0  0  0  0  0  0  0  0...      1  ...    3047  1.0\n",
              "4793   0  0  0  0  0  0  0  0  0  0  0  0  0  0  0  0...      1  ...    4793  2.0\n",
              "14717  0  0  0  0  0  0  0  0  0  0  0  0  0  0  0  0...      1  ...   14717  3.0\n",
              "23095  0  0  0  0  0  0  0  0  0  0  0  0  0  0  0  0...      1  ...   23095  4.0\n",
              "27696  0  0  0  0  0  0  0  0  0  0  0  0  0  0  0  0...      1  ...   27696  5.0\n",
              "\n",
              "[5 rows x 6 columns]"
            ]
          },
          "metadata": {
            "tags": []
          },
          "execution_count": 43
        }
      ]
    },
    {
      "cell_type": "markdown",
      "metadata": {
        "id": "s8b2JK0FxJJJ",
        "colab_type": "text"
      },
      "source": [
        "Choose a path per node and concatenate for entire component"
      ]
    },
    {
      "cell_type": "code",
      "metadata": {
        "id": "nMOusXPKxEaI",
        "colab_type": "code",
        "outputId": "f4a91da5-ba03-44a5-ebab-2f542f0d3b88",
        "colab": {
          "base_uri": "https://localhost:8080/",
          "height": 217
        }
      },
      "source": [
        "df.groupby('component')['walk'].apply(lambda x: ', '.join(x))\n",
        "\n",
        "def f(x):\n",
        "     return Series(dict(label = x['label'].min(), text =  ', '.join(x['walk'])))\n",
        "df_text_comp = df[(df['RN']<=9.0)].groupby('component').apply(f)\n",
        "df_text_comp.head()"
      ],
      "execution_count": 44,
      "outputs": [
        {
          "output_type": "execute_result",
          "data": {
            "text/html": [
              "<div>\n",
              "<style scoped>\n",
              "    .dataframe tbody tr th:only-of-type {\n",
              "        vertical-align: middle;\n",
              "    }\n",
              "\n",
              "    .dataframe tbody tr th {\n",
              "        vertical-align: top;\n",
              "    }\n",
              "\n",
              "    .dataframe thead th {\n",
              "        text-align: right;\n",
              "    }\n",
              "</style>\n",
              "<table border=\"1\" class=\"dataframe\">\n",
              "  <thead>\n",
              "    <tr style=\"text-align: right;\">\n",
              "      <th></th>\n",
              "      <th>label</th>\n",
              "      <th>text</th>\n",
              "    </tr>\n",
              "    <tr>\n",
              "      <th>component</th>\n",
              "      <th></th>\n",
              "      <th></th>\n",
              "    </tr>\n",
              "  </thead>\n",
              "  <tbody>\n",
              "    <tr>\n",
              "      <th>1</th>\n",
              "      <td>1</td>\n",
              "      <td>0  0  0  0  0  0  0  0  0  0  0  0  0  0  0  0...</td>\n",
              "    </tr>\n",
              "    <tr>\n",
              "      <th>2</th>\n",
              "      <td>1</td>\n",
              "      <td>1  1  1  1  1  1  1  1  1  1  1  1  3  1  1  1...</td>\n",
              "    </tr>\n",
              "    <tr>\n",
              "      <th>3</th>\n",
              "      <td>1</td>\n",
              "      <td>0  0  0  0  0  0  0  0  0  0  0  0  0  0  0  0...</td>\n",
              "    </tr>\n",
              "    <tr>\n",
              "      <th>4</th>\n",
              "      <td>1</td>\n",
              "      <td>0  0  0  0  0  0  0  0  0  0  0  0  0  0  0  0...</td>\n",
              "    </tr>\n",
              "    <tr>\n",
              "      <th>5</th>\n",
              "      <td>1</td>\n",
              "      <td>0  0  0  0  0  0  1  0  1  0  0  0  0  1  0  1...</td>\n",
              "    </tr>\n",
              "  </tbody>\n",
              "</table>\n",
              "</div>"
            ],
            "text/plain": [
              "           label                                               text\n",
              "component                                                          \n",
              "1              1  0  0  0  0  0  0  0  0  0  0  0  0  0  0  0  0...\n",
              "2              1  1  1  1  1  1  1  1  1  1  1  1  1  3  1  1  1...\n",
              "3              1  0  0  0  0  0  0  0  0  0  0  0  0  0  0  0  0...\n",
              "4              1  0  0  0  0  0  0  0  0  0  0  0  0  0  0  0  0...\n",
              "5              1  0  0  0  0  0  0  1  0  1  0  0  0  0  1  0  1..."
            ]
          },
          "metadata": {
            "tags": []
          },
          "execution_count": 44
        }
      ]
    },
    {
      "cell_type": "code",
      "metadata": {
        "id": "S0Nmn3qUxR6l",
        "colab_type": "code",
        "outputId": "08650b2e-12dd-4cf4-c0ee-b3e525db6e1d",
        "colab": {
          "base_uri": "https://localhost:8080/",
          "height": 217
        }
      },
      "source": [
        "df_text_comp['component']= df_text_comp.index\n",
        "df_text_comp.index.names = ['comp']\n",
        "df_text_comp.head()"
      ],
      "execution_count": 45,
      "outputs": [
        {
          "output_type": "execute_result",
          "data": {
            "text/html": [
              "<div>\n",
              "<style scoped>\n",
              "    .dataframe tbody tr th:only-of-type {\n",
              "        vertical-align: middle;\n",
              "    }\n",
              "\n",
              "    .dataframe tbody tr th {\n",
              "        vertical-align: top;\n",
              "    }\n",
              "\n",
              "    .dataframe thead th {\n",
              "        text-align: right;\n",
              "    }\n",
              "</style>\n",
              "<table border=\"1\" class=\"dataframe\">\n",
              "  <thead>\n",
              "    <tr style=\"text-align: right;\">\n",
              "      <th></th>\n",
              "      <th>label</th>\n",
              "      <th>text</th>\n",
              "      <th>component</th>\n",
              "    </tr>\n",
              "    <tr>\n",
              "      <th>comp</th>\n",
              "      <th></th>\n",
              "      <th></th>\n",
              "      <th></th>\n",
              "    </tr>\n",
              "  </thead>\n",
              "  <tbody>\n",
              "    <tr>\n",
              "      <th>1</th>\n",
              "      <td>1</td>\n",
              "      <td>0  0  0  0  0  0  0  0  0  0  0  0  0  0  0  0...</td>\n",
              "      <td>1</td>\n",
              "    </tr>\n",
              "    <tr>\n",
              "      <th>2</th>\n",
              "      <td>1</td>\n",
              "      <td>1  1  1  1  1  1  1  1  1  1  1  1  3  1  1  1...</td>\n",
              "      <td>2</td>\n",
              "    </tr>\n",
              "    <tr>\n",
              "      <th>3</th>\n",
              "      <td>1</td>\n",
              "      <td>0  0  0  0  0  0  0  0  0  0  0  0  0  0  0  0...</td>\n",
              "      <td>3</td>\n",
              "    </tr>\n",
              "    <tr>\n",
              "      <th>4</th>\n",
              "      <td>1</td>\n",
              "      <td>0  0  0  0  0  0  0  0  0  0  0  0  0  0  0  0...</td>\n",
              "      <td>4</td>\n",
              "    </tr>\n",
              "    <tr>\n",
              "      <th>5</th>\n",
              "      <td>1</td>\n",
              "      <td>0  0  0  0  0  0  1  0  1  0  0  0  0  1  0  1...</td>\n",
              "      <td>5</td>\n",
              "    </tr>\n",
              "  </tbody>\n",
              "</table>\n",
              "</div>"
            ],
            "text/plain": [
              "      label                                               text  component\n",
              "comp                                                                     \n",
              "1         1  0  0  0  0  0  0  0  0  0  0  0  0  0  0  0  0...          1\n",
              "2         1  1  1  1  1  1  1  1  1  1  1  1  1  3  1  1  1...          2\n",
              "3         1  0  0  0  0  0  0  0  0  0  0  0  0  0  0  0  0...          3\n",
              "4         1  0  0  0  0  0  0  0  0  0  0  0  0  0  0  0  0...          4\n",
              "5         1  0  0  0  0  0  0  1  0  1  0  0  0  0  1  0  1...          5"
            ]
          },
          "metadata": {
            "tags": []
          },
          "execution_count": 45
        }
      ]
    },
    {
      "cell_type": "code",
      "metadata": {
        "id": "rPXVjJv8xcJ1",
        "colab_type": "code",
        "outputId": "10ce70fa-d957-444e-e0f4-f25c58b6de5a",
        "colab": {
          "base_uri": "https://localhost:8080/",
          "height": 34
        }
      },
      "source": [
        "train = pd.merge(df_text_comp, train_tmp, on='component', sort=False)\n",
        "test =  pd.merge(df_text_comp, test_tmp, on='component', sort=False)\n",
        "val =  pd.merge(df_text_comp, val_tmp, on='component', sort=False)\n",
        "(train.shape,val.shape, test.shape, train.shape[0]/df_text_comp.shape[0])"
      ],
      "execution_count": 46,
      "outputs": [
        {
          "output_type": "execute_result",
          "data": {
            "text/plain": [
              "((1080, 3), (270, 3), (150, 3), 0.72)"
            ]
          },
          "metadata": {
            "tags": []
          },
          "execution_count": 46
        }
      ]
    },
    {
      "cell_type": "code",
      "metadata": {
        "id": "rvWss3Ai2yTy",
        "colab_type": "code",
        "colab": {}
      },
      "source": [
        "bs=32#48\n",
        "\n",
        "data_clas = TextClasDataBunch.from_df(train_df=train[['text','label']],valid_df=val[['text','label']],  path=mypath, text_cols='text',label_cols = 'label', vocab=data_lm.vocab)\n"
      ],
      "execution_count": 0,
      "outputs": []
    },
    {
      "cell_type": "code",
      "metadata": {
        "id": "3ME-gd6I_zOk",
        "colab_type": "code",
        "colab": {}
      },
      "source": [
        "data_clas.save('tmp_clas')"
      ],
      "execution_count": 0,
      "outputs": []
    },
    {
      "cell_type": "code",
      "metadata": {
        "id": "ecomF0xU_25Q",
        "colab_type": "code",
        "colab": {}
      },
      "source": [
        "data_clas = load_data(mypath, 'tmp_clas', bs=bs)\n"
      ],
      "execution_count": 0,
      "outputs": []
    },
    {
      "cell_type": "code",
      "metadata": {
        "id": "l6dtwG6C_5_d",
        "colab_type": "code",
        "outputId": "599af85f-5a4c-4a5b-8bc2-7ee977324f12",
        "colab": {
          "base_uri": "https://localhost:8080/",
          "height": 189
        }
      },
      "source": [
        "data_clas.show_batch()"
      ],
      "execution_count": 50,
      "outputs": [
        {
          "output_type": "display_data",
          "data": {
            "text/html": [
              "<table border=\"1\" class=\"dataframe\">\n",
              "  <thead>\n",
              "    <tr style=\"text-align: right;\">\n",
              "      <th>text</th>\n",
              "      <th>target</th>\n",
              "    </tr>\n",
              "  </thead>\n",
              "  <tbody>\n",
              "    <tr>\n",
              "      <td>xxbos 2 0 2 0 2 0 2 1 2 0 2 1 0 0 1 2 0 2 2 0 2 0 1 2 1 2 2 2 0 0 xxunk 1 0 2 1 2 1 0 2 xxwrep 4 0 2 1 0 2 2 0 1 0 2 0 2 0 2 2 0 1 2 2 xxunk 1 0 0 2 1 0 2 2</td>\n",
              "      <td>3</td>\n",
              "    </tr>\n",
              "    <tr>\n",
              "      <td>xxbos 3 1 2 1 2 2 3 2 2 3 2 1 2 1 3 2 1 2 2 3 2 1 1 3 2 2 3 3 2 2 xxunk 2 1 1 3 2 2 3 1 2 1 1 2 3 2 3 1 2 2 3 1 3 3 2 3 1 3 3 2 3 3 xxunk 1 1 3 3 2 3 2</td>\n",
              "      <td>3</td>\n",
              "    </tr>\n",
              "    <tr>\n",
              "      <td>xxbos 1 1 0 1 1 1 0 1 0 1 0 1 3 0 1 0 0 1 0 0 3 0 3 1 0 1 3 0 1 0 xxunk 0 1 0 1 3 1 1 0 0 1 0 1 0 1 1 0 1 1 1 0 1 0 0 1 0 1 3 0 1 0 xxunk 1 0 0 1 1 0 1</td>\n",
              "      <td>2</td>\n",
              "    </tr>\n",
              "    <tr>\n",
              "      <td>xxbos xxwrep 4 0 1 xxwrep 5 0 1 0 0 1 0 1 0 0 1 xxwrep 4 0 1 1 0 0 1 1 0 xxunk 0 1 0 1 1 0 1 1 1 0 1 0 1 0 0 1 0 0 1 0 1 0 1 0 1 0 0 1 0 1 xxunk 1 0 1 1 0 0 1 0 1 1 0</td>\n",
              "      <td>1</td>\n",
              "    </tr>\n",
              "    <tr>\n",
              "      <td>xxbos 3 1 1 2 1 1 2 1 1 1 2 3 xxwrep 4 2 3 1 1 3 1 3 1 2 2 3 1 2 1 1 xxunk 1 2 1 1 2 1 1 1 2 1 2 1 2 3 1 3 2 1 3 2 1 1 2 1 1 2 1 3 1 1 xxunk 1 1 1 2 2 1 2 3</td>\n",
              "      <td>3</td>\n",
              "    </tr>\n",
              "  </tbody>\n",
              "</table>"
            ],
            "text/plain": [
              "<IPython.core.display.HTML object>"
            ]
          },
          "metadata": {
            "tags": []
          }
        }
      ]
    },
    {
      "cell_type": "code",
      "metadata": {
        "id": "okrm4fCq_8qy",
        "colab_type": "code",
        "colab": {}
      },
      "source": [
        "learn = text_classifier_learner(data_clas,arch=AWD_LSTM,config = awd_lstm_clas_config, drop_mult=2.0,pretrained=False)\n",
        "learn.load_encoder('fine_tuned_enc3')\n",
        "learn.freeze()"
      ],
      "execution_count": 0,
      "outputs": []
    },
    {
      "cell_type": "code",
      "metadata": {
        "id": "gH1pge_xAFgV",
        "colab_type": "code",
        "colab": {}
      },
      "source": [
        "gc.collect();"
      ],
      "execution_count": 0,
      "outputs": []
    },
    {
      "cell_type": "code",
      "metadata": {
        "id": "HKyJuUtRABmY",
        "colab_type": "code",
        "outputId": "f5239661-8ae8-4f12-863d-8af68eee1976",
        "colab": {
          "base_uri": "https://localhost:8080/",
          "height": 34
        }
      },
      "source": [
        "learn.lr_find()"
      ],
      "execution_count": 53,
      "outputs": [
        {
          "output_type": "display_data",
          "data": {
            "text/html": [
              ""
            ],
            "text/plain": [
              "<IPython.core.display.HTML object>"
            ]
          },
          "metadata": {
            "tags": []
          }
        },
        {
          "output_type": "stream",
          "text": [
            "LR Finder is complete, type {learner_name}.recorder.plot() to see the graph.\n"
          ],
          "name": "stdout"
        }
      ]
    },
    {
      "cell_type": "code",
      "metadata": {
        "id": "_2jcnRSJAJed",
        "colab_type": "code",
        "outputId": "2e5a6151-014f-4da0-f003-581902f9108f",
        "colab": {
          "base_uri": "https://localhost:8080/",
          "height": 283
        }
      },
      "source": [
        "learn.recorder.plot()"
      ],
      "execution_count": 54,
      "outputs": [
        {
          "output_type": "display_data",
          "data": {
            "image/png": "[encoded data removed]",
            "text/plain": [
              "<Figure size 432x288 with 1 Axes>"
            ]
          },
          "metadata": {
            "tags": []
          }
        }
      ]
    },
    {
      "cell_type": "code",
      "metadata": {
        "id": "OX1HOp3tANAB",
        "colab_type": "code",
        "outputId": "79f803ac-1b7e-4588-a647-05a62ecfaa32",
        "colab": {
          "base_uri": "https://localhost:8080/",
          "height": 75
        }
      },
      "source": [
        "learn.fit_one_cycle(1, 5e-02, moms=(0.8,0.7))"
      ],
      "execution_count": 55,
      "outputs": [
        {
          "output_type": "display_data",
          "data": {
            "text/html": [
              "<table border=\"1\" class=\"dataframe\">\n",
              "  <thead>\n",
              "    <tr style=\"text-align: left;\">\n",
              "      <th>epoch</th>\n",
              "      <th>train_loss</th>\n",
              "      <th>valid_loss</th>\n",
              "      <th>accuracy</th>\n",
              "      <th>time</th>\n",
              "    </tr>\n",
              "  </thead>\n",
              "  <tbody>\n",
              "    <tr>\n",
              "      <td>0</td>\n",
              "      <td>1.194649</td>\n",
              "      <td>1.063249</td>\n",
              "      <td>0.481481</td>\n",
              "      <td>00:01</td>\n",
              "    </tr>\n",
              "  </tbody>\n",
              "</table>"
            ],
            "text/plain": [
              "<IPython.core.display.HTML object>"
            ]
          },
          "metadata": {
            "tags": []
          }
        }
      ]
    },
    {
      "cell_type": "code",
      "metadata": {
        "id": "DQGSYD4TAS9b",
        "colab_type": "code",
        "colab": {}
      },
      "source": [
        "def predict(test,learn):\n",
        "  predictions=[]\n",
        "  for index, row in test.iterrows():\n",
        "    p=learn.predict(row['text'])\n",
        "    #print((row['label'],str(p[0])))\n",
        "    predictions.append((row['text'],str(row['label']),str(p[0])))\n",
        "  dfpred = pd.DataFrame(predictions)\n",
        "  dfpred.columns=['text','label','prediction']\n",
        "  match=dfpred[(dfpred['label']==dfpred['prediction'])]\n",
        "  #match.head()\n",
        "  print((dfpred.shape[0], match.shape[0],match.shape[0]/dfpred.shape[0]))"
      ],
      "execution_count": 0,
      "outputs": []
    },
    {
      "cell_type": "code",
      "metadata": {
        "id": "K_qijpQiAW1a",
        "colab_type": "code",
        "outputId": "55090bb0-c63c-44eb-ba53-85bd05027565",
        "colab": {
          "base_uri": "https://localhost:8080/",
          "height": 75
        }
      },
      "source": [
        "learn.fit_one_cycle(1, 5e-02, moms=(0.8,0.7))"
      ],
      "execution_count": 57,
      "outputs": [
        {
          "output_type": "display_data",
          "data": {
            "text/html": [
              "<table border=\"1\" class=\"dataframe\">\n",
              "  <thead>\n",
              "    <tr style=\"text-align: left;\">\n",
              "      <th>epoch</th>\n",
              "      <th>train_loss</th>\n",
              "      <th>valid_loss</th>\n",
              "      <th>accuracy</th>\n",
              "      <th>time</th>\n",
              "    </tr>\n",
              "  </thead>\n",
              "  <tbody>\n",
              "    <tr>\n",
              "      <td>0</td>\n",
              "      <td>1.144717</td>\n",
              "      <td>1.118922</td>\n",
              "      <td>0.314815</td>\n",
              "      <td>00:01</td>\n",
              "    </tr>\n",
              "  </tbody>\n",
              "</table>"
            ],
            "text/plain": [
              "<IPython.core.display.HTML object>"
            ]
          },
          "metadata": {
            "tags": []
          }
        }
      ]
    },
    {
      "cell_type": "code",
      "metadata": {
        "id": "mrcF2ywpA7N4",
        "colab_type": "code",
        "outputId": "f28a42b8-6436-4a5e-d846-cd5579102b6b",
        "colab": {
          "base_uri": "https://localhost:8080/",
          "height": 274
        }
      },
      "source": [
        "learn.unfreeze()\n",
        "learn.fit_one_cycle(8, slice(5e-3/(2.6**4),5e-03), moms=(0.8,0.7))\n",
        "\n"
      ],
      "execution_count": 58,
      "outputs": [
        {
          "output_type": "display_data",
          "data": {
            "text/html": [
              "<table border=\"1\" class=\"dataframe\">\n",
              "  <thead>\n",
              "    <tr style=\"text-align: left;\">\n",
              "      <th>epoch</th>\n",
              "      <th>train_loss</th>\n",
              "      <th>valid_loss</th>\n",
              "      <th>accuracy</th>\n",
              "      <th>time</th>\n",
              "    </tr>\n",
              "  </thead>\n",
              "  <tbody>\n",
              "    <tr>\n",
              "      <td>0</td>\n",
              "      <td>1.088754</td>\n",
              "      <td>1.096300</td>\n",
              "      <td>0.355556</td>\n",
              "      <td>00:02</td>\n",
              "    </tr>\n",
              "    <tr>\n",
              "      <td>1</td>\n",
              "      <td>1.088621</td>\n",
              "      <td>1.082690</td>\n",
              "      <td>0.351852</td>\n",
              "      <td>00:02</td>\n",
              "    </tr>\n",
              "    <tr>\n",
              "      <td>2</td>\n",
              "      <td>1.075776</td>\n",
              "      <td>1.050498</td>\n",
              "      <td>0.459259</td>\n",
              "      <td>00:02</td>\n",
              "    </tr>\n",
              "    <tr>\n",
              "      <td>3</td>\n",
              "      <td>1.070803</td>\n",
              "      <td>1.035587</td>\n",
              "      <td>0.481481</td>\n",
              "      <td>00:02</td>\n",
              "    </tr>\n",
              "    <tr>\n",
              "      <td>4</td>\n",
              "      <td>1.064950</td>\n",
              "      <td>1.043317</td>\n",
              "      <td>0.474074</td>\n",
              "      <td>00:02</td>\n",
              "    </tr>\n",
              "    <tr>\n",
              "      <td>5</td>\n",
              "      <td>1.063980</td>\n",
              "      <td>1.044572</td>\n",
              "      <td>0.396296</td>\n",
              "      <td>00:02</td>\n",
              "    </tr>\n",
              "    <tr>\n",
              "      <td>6</td>\n",
              "      <td>1.061510</td>\n",
              "      <td>1.032609</td>\n",
              "      <td>0.474074</td>\n",
              "      <td>00:02</td>\n",
              "    </tr>\n",
              "    <tr>\n",
              "      <td>7</td>\n",
              "      <td>1.063586</td>\n",
              "      <td>1.036374</td>\n",
              "      <td>0.466667</td>\n",
              "      <td>00:02</td>\n",
              "    </tr>\n",
              "  </tbody>\n",
              "</table>"
            ],
            "text/plain": [
              "<IPython.core.display.HTML object>"
            ]
          },
          "metadata": {
            "tags": []
          }
        }
      ]
    },
    {
      "cell_type": "code",
      "metadata": {
        "id": "5eJzDroiA-Ls",
        "colab_type": "code",
        "outputId": "3854ebf0-ef8c-4c27-ed2f-3d7bf76354ca",
        "colab": {
          "base_uri": "https://localhost:8080/",
          "height": 34
        }
      },
      "source": [
        "predict(test,learn)"
      ],
      "execution_count": 59,
      "outputs": [
        {
          "output_type": "stream",
          "text": [
            "(150, 63, 0.42)\n"
          ],
          "name": "stdout"
        }
      ]
    },
    {
      "cell_type": "code",
      "metadata": {
        "id": "OncJ5AWmgDzf",
        "colab_type": "code",
        "outputId": "5cee3393-e46a-44ee-eed0-25c4be7ada74",
        "colab": {
          "base_uri": "https://localhost:8080/",
          "height": 502
        }
      },
      "source": [
        "learn.fit_one_cycle(16, slice(5e-3/(2.6**4),5e-3), moms=(0.8,0.7))"
      ],
      "execution_count": 60,
      "outputs": [
        {
          "output_type": "display_data",
          "data": {
            "text/html": [
              "<table border=\"1\" class=\"dataframe\">\n",
              "  <thead>\n",
              "    <tr style=\"text-align: left;\">\n",
              "      <th>epoch</th>\n",
              "      <th>train_loss</th>\n",
              "      <th>valid_loss</th>\n",
              "      <th>accuracy</th>\n",
              "      <th>time</th>\n",
              "    </tr>\n",
              "  </thead>\n",
              "  <tbody>\n",
              "    <tr>\n",
              "      <td>0</td>\n",
              "      <td>1.049573</td>\n",
              "      <td>1.032466</td>\n",
              "      <td>0.474074</td>\n",
              "      <td>00:02</td>\n",
              "    </tr>\n",
              "    <tr>\n",
              "      <td>1</td>\n",
              "      <td>1.058047</td>\n",
              "      <td>1.034649</td>\n",
              "      <td>0.470370</td>\n",
              "      <td>00:03</td>\n",
              "    </tr>\n",
              "    <tr>\n",
              "      <td>2</td>\n",
              "      <td>1.055935</td>\n",
              "      <td>1.022165</td>\n",
              "      <td>0.474074</td>\n",
              "      <td>00:02</td>\n",
              "    </tr>\n",
              "    <tr>\n",
              "      <td>3</td>\n",
              "      <td>1.050529</td>\n",
              "      <td>1.019767</td>\n",
              "      <td>0.433333</td>\n",
              "      <td>00:02</td>\n",
              "    </tr>\n",
              "    <tr>\n",
              "      <td>4</td>\n",
              "      <td>1.054433</td>\n",
              "      <td>1.014872</td>\n",
              "      <td>0.477778</td>\n",
              "      <td>00:02</td>\n",
              "    </tr>\n",
              "    <tr>\n",
              "      <td>5</td>\n",
              "      <td>1.051698</td>\n",
              "      <td>1.019928</td>\n",
              "      <td>0.503704</td>\n",
              "      <td>00:02</td>\n",
              "    </tr>\n",
              "    <tr>\n",
              "      <td>6</td>\n",
              "      <td>1.059136</td>\n",
              "      <td>1.024310</td>\n",
              "      <td>0.470370</td>\n",
              "      <td>00:02</td>\n",
              "    </tr>\n",
              "    <tr>\n",
              "      <td>7</td>\n",
              "      <td>1.060156</td>\n",
              "      <td>1.019743</td>\n",
              "      <td>0.488889</td>\n",
              "      <td>00:02</td>\n",
              "    </tr>\n",
              "    <tr>\n",
              "      <td>8</td>\n",
              "      <td>1.056873</td>\n",
              "      <td>1.012662</td>\n",
              "      <td>0.492593</td>\n",
              "      <td>00:02</td>\n",
              "    </tr>\n",
              "    <tr>\n",
              "      <td>9</td>\n",
              "      <td>1.054143</td>\n",
              "      <td>1.012832</td>\n",
              "      <td>0.481481</td>\n",
              "      <td>00:02</td>\n",
              "    </tr>\n",
              "    <tr>\n",
              "      <td>10</td>\n",
              "      <td>1.057073</td>\n",
              "      <td>1.011753</td>\n",
              "      <td>0.477778</td>\n",
              "      <td>00:02</td>\n",
              "    </tr>\n",
              "    <tr>\n",
              "      <td>11</td>\n",
              "      <td>1.054917</td>\n",
              "      <td>1.016002</td>\n",
              "      <td>0.477778</td>\n",
              "      <td>00:02</td>\n",
              "    </tr>\n",
              "    <tr>\n",
              "      <td>12</td>\n",
              "      <td>1.057845</td>\n",
              "      <td>1.013332</td>\n",
              "      <td>0.474074</td>\n",
              "      <td>00:02</td>\n",
              "    </tr>\n",
              "    <tr>\n",
              "      <td>13</td>\n",
              "      <td>1.054726</td>\n",
              "      <td>1.012549</td>\n",
              "      <td>0.481481</td>\n",
              "      <td>00:02</td>\n",
              "    </tr>\n",
              "    <tr>\n",
              "      <td>14</td>\n",
              "      <td>1.047971</td>\n",
              "      <td>1.012251</td>\n",
              "      <td>0.485185</td>\n",
              "      <td>00:02</td>\n",
              "    </tr>\n",
              "    <tr>\n",
              "      <td>15</td>\n",
              "      <td>1.040399</td>\n",
              "      <td>1.013626</td>\n",
              "      <td>0.488889</td>\n",
              "      <td>00:02</td>\n",
              "    </tr>\n",
              "  </tbody>\n",
              "</table>"
            ],
            "text/plain": [
              "<IPython.core.display.HTML object>"
            ]
          },
          "metadata": {
            "tags": []
          }
        }
      ]
    },
    {
      "cell_type": "code",
      "metadata": {
        "id": "04zsWdlpgFwq",
        "colab_type": "code",
        "outputId": "49f5ce0d-e9df-4583-e317-48e34bbffbd1",
        "colab": {
          "base_uri": "https://localhost:8080/",
          "height": 34
        }
      },
      "source": [
        "predict(test,learn)"
      ],
      "execution_count": 61,
      "outputs": [
        {
          "output_type": "stream",
          "text": [
            "(150, 67, 0.44666666666666666)\n"
          ],
          "name": "stdout"
        }
      ]
    },
    {
      "cell_type": "code",
      "metadata": {
        "id": "vkbWeFl5gMg_",
        "colab_type": "code",
        "outputId": "6b06525f-85de-4ca4-feee-b48f93421657",
        "colab": {
          "base_uri": "https://localhost:8080/",
          "height": 502
        }
      },
      "source": [
        "learn.fit_one_cycle(16, slice(5e-3/(2.6**4),5e-3), moms=(0.8,0.7))"
      ],
      "execution_count": 62,
      "outputs": [
        {
          "output_type": "display_data",
          "data": {
            "text/html": [
              "<table border=\"1\" class=\"dataframe\">\n",
              "  <thead>\n",
              "    <tr style=\"text-align: left;\">\n",
              "      <th>epoch</th>\n",
              "      <th>train_loss</th>\n",
              "      <th>valid_loss</th>\n",
              "      <th>accuracy</th>\n",
              "      <th>time</th>\n",
              "    </tr>\n",
              "  </thead>\n",
              "  <tbody>\n",
              "    <tr>\n",
              "      <td>0</td>\n",
              "      <td>1.061641</td>\n",
              "      <td>1.015513</td>\n",
              "      <td>0.477778</td>\n",
              "      <td>00:02</td>\n",
              "    </tr>\n",
              "    <tr>\n",
              "      <td>1</td>\n",
              "      <td>1.043862</td>\n",
              "      <td>1.012626</td>\n",
              "      <td>0.488889</td>\n",
              "      <td>00:02</td>\n",
              "    </tr>\n",
              "    <tr>\n",
              "      <td>2</td>\n",
              "      <td>1.043586</td>\n",
              "      <td>1.007565</td>\n",
              "      <td>0.485185</td>\n",
              "      <td>00:02</td>\n",
              "    </tr>\n",
              "    <tr>\n",
              "      <td>3</td>\n",
              "      <td>1.053554</td>\n",
              "      <td>1.011247</td>\n",
              "      <td>0.492593</td>\n",
              "      <td>00:02</td>\n",
              "    </tr>\n",
              "    <tr>\n",
              "      <td>4</td>\n",
              "      <td>1.038764</td>\n",
              "      <td>1.010285</td>\n",
              "      <td>0.518519</td>\n",
              "      <td>00:02</td>\n",
              "    </tr>\n",
              "    <tr>\n",
              "      <td>5</td>\n",
              "      <td>1.043753</td>\n",
              "      <td>1.011006</td>\n",
              "      <td>0.503704</td>\n",
              "      <td>00:02</td>\n",
              "    </tr>\n",
              "    <tr>\n",
              "      <td>6</td>\n",
              "      <td>1.052183</td>\n",
              "      <td>1.021208</td>\n",
              "      <td>0.492593</td>\n",
              "      <td>00:02</td>\n",
              "    </tr>\n",
              "    <tr>\n",
              "      <td>7</td>\n",
              "      <td>1.049059</td>\n",
              "      <td>1.019716</td>\n",
              "      <td>0.433333</td>\n",
              "      <td>00:03</td>\n",
              "    </tr>\n",
              "    <tr>\n",
              "      <td>8</td>\n",
              "      <td>1.045472</td>\n",
              "      <td>1.010499</td>\n",
              "      <td>0.511111</td>\n",
              "      <td>00:03</td>\n",
              "    </tr>\n",
              "    <tr>\n",
              "      <td>9</td>\n",
              "      <td>1.046663</td>\n",
              "      <td>1.009075</td>\n",
              "      <td>0.511111</td>\n",
              "      <td>00:02</td>\n",
              "    </tr>\n",
              "    <tr>\n",
              "      <td>10</td>\n",
              "      <td>1.049003</td>\n",
              "      <td>1.014470</td>\n",
              "      <td>0.507407</td>\n",
              "      <td>00:02</td>\n",
              "    </tr>\n",
              "    <tr>\n",
              "      <td>11</td>\n",
              "      <td>1.043302</td>\n",
              "      <td>1.015925</td>\n",
              "      <td>0.500000</td>\n",
              "      <td>00:02</td>\n",
              "    </tr>\n",
              "    <tr>\n",
              "      <td>12</td>\n",
              "      <td>1.037465</td>\n",
              "      <td>1.010887</td>\n",
              "      <td>0.507407</td>\n",
              "      <td>00:02</td>\n",
              "    </tr>\n",
              "    <tr>\n",
              "      <td>13</td>\n",
              "      <td>1.037051</td>\n",
              "      <td>1.012743</td>\n",
              "      <td>0.511111</td>\n",
              "      <td>00:02</td>\n",
              "    </tr>\n",
              "    <tr>\n",
              "      <td>14</td>\n",
              "      <td>1.043313</td>\n",
              "      <td>1.000787</td>\n",
              "      <td>0.500000</td>\n",
              "      <td>00:02</td>\n",
              "    </tr>\n",
              "    <tr>\n",
              "      <td>15</td>\n",
              "      <td>1.041366</td>\n",
              "      <td>1.012718</td>\n",
              "      <td>0.507407</td>\n",
              "      <td>00:02</td>\n",
              "    </tr>\n",
              "  </tbody>\n",
              "</table>"
            ],
            "text/plain": [
              "<IPython.core.display.HTML object>"
            ]
          },
          "metadata": {
            "tags": []
          }
        }
      ]
    },
    {
      "cell_type": "code",
      "metadata": {
        "id": "UgNaWWnHgNpW",
        "colab_type": "code",
        "outputId": "1529fd66-9b10-4eda-f737-688b505b39ee",
        "colab": {
          "base_uri": "https://localhost:8080/",
          "height": 34
        }
      },
      "source": [
        "predict(test,learn)"
      ],
      "execution_count": 63,
      "outputs": [
        {
          "output_type": "stream",
          "text": [
            "(150, 71, 0.47333333333333333)\n"
          ],
          "name": "stdout"
        }
      ]
    },
    {
      "cell_type": "code",
      "metadata": {
        "id": "pRkTF6TFrP4w",
        "colab_type": "code",
        "outputId": "236e8596-2452-40ad-9cb2-3171223df8db",
        "colab": {
          "base_uri": "https://localhost:8080/",
          "height": 502
        }
      },
      "source": [
        "learn.fit_one_cycle(16, slice(5e-3/(2.6**4),5e-3), moms=(0.8,0.7))"
      ],
      "execution_count": 64,
      "outputs": [
        {
          "output_type": "display_data",
          "data": {
            "text/html": [
              "<table border=\"1\" class=\"dataframe\">\n",
              "  <thead>\n",
              "    <tr style=\"text-align: left;\">\n",
              "      <th>epoch</th>\n",
              "      <th>train_loss</th>\n",
              "      <th>valid_loss</th>\n",
              "      <th>accuracy</th>\n",
              "      <th>time</th>\n",
              "    </tr>\n",
              "  </thead>\n",
              "  <tbody>\n",
              "    <tr>\n",
              "      <td>0</td>\n",
              "      <td>1.053506</td>\n",
              "      <td>1.008506</td>\n",
              "      <td>0.507407</td>\n",
              "      <td>00:02</td>\n",
              "    </tr>\n",
              "    <tr>\n",
              "      <td>1</td>\n",
              "      <td>1.046727</td>\n",
              "      <td>1.011234</td>\n",
              "      <td>0.514815</td>\n",
              "      <td>00:02</td>\n",
              "    </tr>\n",
              "    <tr>\n",
              "      <td>2</td>\n",
              "      <td>1.052445</td>\n",
              "      <td>1.019031</td>\n",
              "      <td>0.503704</td>\n",
              "      <td>00:02</td>\n",
              "    </tr>\n",
              "    <tr>\n",
              "      <td>3</td>\n",
              "      <td>1.049469</td>\n",
              "      <td>1.001765</td>\n",
              "      <td>0.511111</td>\n",
              "      <td>00:02</td>\n",
              "    </tr>\n",
              "    <tr>\n",
              "      <td>4</td>\n",
              "      <td>1.045844</td>\n",
              "      <td>1.007884</td>\n",
              "      <td>0.525926</td>\n",
              "      <td>00:02</td>\n",
              "    </tr>\n",
              "    <tr>\n",
              "      <td>5</td>\n",
              "      <td>1.039733</td>\n",
              "      <td>0.994081</td>\n",
              "      <td>0.507407</td>\n",
              "      <td>00:02</td>\n",
              "    </tr>\n",
              "    <tr>\n",
              "      <td>6</td>\n",
              "      <td>1.046120</td>\n",
              "      <td>1.014679</td>\n",
              "      <td>0.411111</td>\n",
              "      <td>00:02</td>\n",
              "    </tr>\n",
              "    <tr>\n",
              "      <td>7</td>\n",
              "      <td>1.050584</td>\n",
              "      <td>1.011116</td>\n",
              "      <td>0.411111</td>\n",
              "      <td>00:02</td>\n",
              "    </tr>\n",
              "    <tr>\n",
              "      <td>8</td>\n",
              "      <td>1.052579</td>\n",
              "      <td>1.012144</td>\n",
              "      <td>0.414815</td>\n",
              "      <td>00:02</td>\n",
              "    </tr>\n",
              "    <tr>\n",
              "      <td>9</td>\n",
              "      <td>1.048388</td>\n",
              "      <td>1.011620</td>\n",
              "      <td>0.414815</td>\n",
              "      <td>00:02</td>\n",
              "    </tr>\n",
              "    <tr>\n",
              "      <td>10</td>\n",
              "      <td>1.043508</td>\n",
              "      <td>1.003308</td>\n",
              "      <td>0.488889</td>\n",
              "      <td>00:02</td>\n",
              "    </tr>\n",
              "    <tr>\n",
              "      <td>11</td>\n",
              "      <td>1.036806</td>\n",
              "      <td>1.008282</td>\n",
              "      <td>0.488889</td>\n",
              "      <td>00:02</td>\n",
              "    </tr>\n",
              "    <tr>\n",
              "      <td>12</td>\n",
              "      <td>1.031464</td>\n",
              "      <td>1.005969</td>\n",
              "      <td>0.500000</td>\n",
              "      <td>00:02</td>\n",
              "    </tr>\n",
              "    <tr>\n",
              "      <td>13</td>\n",
              "      <td>1.036532</td>\n",
              "      <td>1.002136</td>\n",
              "      <td>0.500000</td>\n",
              "      <td>00:02</td>\n",
              "    </tr>\n",
              "    <tr>\n",
              "      <td>14</td>\n",
              "      <td>1.043418</td>\n",
              "      <td>1.004547</td>\n",
              "      <td>0.496296</td>\n",
              "      <td>00:02</td>\n",
              "    </tr>\n",
              "    <tr>\n",
              "      <td>15</td>\n",
              "      <td>1.042140</td>\n",
              "      <td>1.000036</td>\n",
              "      <td>0.496296</td>\n",
              "      <td>00:02</td>\n",
              "    </tr>\n",
              "  </tbody>\n",
              "</table>"
            ],
            "text/plain": [
              "<IPython.core.display.HTML object>"
            ]
          },
          "metadata": {
            "tags": []
          }
        }
      ]
    },
    {
      "cell_type": "code",
      "metadata": {
        "id": "yCdbebAxrUuk",
        "colab_type": "code",
        "outputId": "8f957f5e-12ef-407d-9bb7-73b4ce3212c7",
        "colab": {
          "base_uri": "https://localhost:8080/",
          "height": 34
        }
      },
      "source": [
        "predict(test,learn)"
      ],
      "execution_count": 65,
      "outputs": [
        {
          "output_type": "stream",
          "text": [
            "(150, 70, 0.4666666666666667)\n"
          ],
          "name": "stdout"
        }
      ]
    },
    {
      "cell_type": "code",
      "metadata": {
        "id": "rgWg8fxpsP-a",
        "colab_type": "code",
        "outputId": "67554043-25f9-4ad2-9bec-51c5c7ed9cce",
        "colab": {
          "base_uri": "https://localhost:8080/",
          "height": 502
        }
      },
      "source": [
        "learn.fit_one_cycle(16, slice(5e-3/(2.6**4),5e-3), moms=(0.8,0.7))"
      ],
      "execution_count": 66,
      "outputs": [
        {
          "output_type": "display_data",
          "data": {
            "text/html": [
              "<table border=\"1\" class=\"dataframe\">\n",
              "  <thead>\n",
              "    <tr style=\"text-align: left;\">\n",
              "      <th>epoch</th>\n",
              "      <th>train_loss</th>\n",
              "      <th>valid_loss</th>\n",
              "      <th>accuracy</th>\n",
              "      <th>time</th>\n",
              "    </tr>\n",
              "  </thead>\n",
              "  <tbody>\n",
              "    <tr>\n",
              "      <td>0</td>\n",
              "      <td>1.044045</td>\n",
              "      <td>0.999810</td>\n",
              "      <td>0.492593</td>\n",
              "      <td>00:02</td>\n",
              "    </tr>\n",
              "    <tr>\n",
              "      <td>1</td>\n",
              "      <td>1.040542</td>\n",
              "      <td>0.996985</td>\n",
              "      <td>0.488889</td>\n",
              "      <td>00:02</td>\n",
              "    </tr>\n",
              "    <tr>\n",
              "      <td>2</td>\n",
              "      <td>1.047182</td>\n",
              "      <td>0.999609</td>\n",
              "      <td>0.488889</td>\n",
              "      <td>00:02</td>\n",
              "    </tr>\n",
              "    <tr>\n",
              "      <td>3</td>\n",
              "      <td>1.049361</td>\n",
              "      <td>1.013769</td>\n",
              "      <td>0.500000</td>\n",
              "      <td>00:02</td>\n",
              "    </tr>\n",
              "    <tr>\n",
              "      <td>4</td>\n",
              "      <td>1.050149</td>\n",
              "      <td>1.003627</td>\n",
              "      <td>0.518519</td>\n",
              "      <td>00:02</td>\n",
              "    </tr>\n",
              "    <tr>\n",
              "      <td>5</td>\n",
              "      <td>1.047709</td>\n",
              "      <td>1.004855</td>\n",
              "      <td>0.492593</td>\n",
              "      <td>00:02</td>\n",
              "    </tr>\n",
              "    <tr>\n",
              "      <td>6</td>\n",
              "      <td>1.050695</td>\n",
              "      <td>1.004156</td>\n",
              "      <td>0.492593</td>\n",
              "      <td>00:02</td>\n",
              "    </tr>\n",
              "    <tr>\n",
              "      <td>7</td>\n",
              "      <td>1.045926</td>\n",
              "      <td>1.005638</td>\n",
              "      <td>0.522222</td>\n",
              "      <td>00:02</td>\n",
              "    </tr>\n",
              "    <tr>\n",
              "      <td>8</td>\n",
              "      <td>1.041294</td>\n",
              "      <td>1.007682</td>\n",
              "      <td>0.522222</td>\n",
              "      <td>00:02</td>\n",
              "    </tr>\n",
              "    <tr>\n",
              "      <td>9</td>\n",
              "      <td>1.041391</td>\n",
              "      <td>1.003133</td>\n",
              "      <td>0.525926</td>\n",
              "      <td>00:02</td>\n",
              "    </tr>\n",
              "    <tr>\n",
              "      <td>10</td>\n",
              "      <td>1.036013</td>\n",
              "      <td>1.006795</td>\n",
              "      <td>0.503704</td>\n",
              "      <td>00:02</td>\n",
              "    </tr>\n",
              "    <tr>\n",
              "      <td>11</td>\n",
              "      <td>1.044518</td>\n",
              "      <td>1.006466</td>\n",
              "      <td>0.429630</td>\n",
              "      <td>00:02</td>\n",
              "    </tr>\n",
              "    <tr>\n",
              "      <td>12</td>\n",
              "      <td>1.041002</td>\n",
              "      <td>1.003244</td>\n",
              "      <td>0.429630</td>\n",
              "      <td>00:02</td>\n",
              "    </tr>\n",
              "    <tr>\n",
              "      <td>13</td>\n",
              "      <td>1.038214</td>\n",
              "      <td>1.010885</td>\n",
              "      <td>0.511111</td>\n",
              "      <td>00:02</td>\n",
              "    </tr>\n",
              "    <tr>\n",
              "      <td>14</td>\n",
              "      <td>1.036252</td>\n",
              "      <td>1.010397</td>\n",
              "      <td>0.511111</td>\n",
              "      <td>00:02</td>\n",
              "    </tr>\n",
              "    <tr>\n",
              "      <td>15</td>\n",
              "      <td>1.035922</td>\n",
              "      <td>1.010293</td>\n",
              "      <td>0.496296</td>\n",
              "      <td>00:02</td>\n",
              "    </tr>\n",
              "  </tbody>\n",
              "</table>"
            ],
            "text/plain": [
              "<IPython.core.display.HTML object>"
            ]
          },
          "metadata": {
            "tags": []
          }
        }
      ]
    },
    {
      "cell_type": "code",
      "metadata": {
        "id": "sW0JUNvvsTJ8",
        "colab_type": "code",
        "outputId": "8168c21f-72fa-41f8-fb3e-a4f977341b37",
        "colab": {
          "base_uri": "https://localhost:8080/",
          "height": 34
        }
      },
      "source": [
        "predict(test,learn)"
      ],
      "execution_count": 67,
      "outputs": [
        {
          "output_type": "stream",
          "text": [
            "(150, 68, 0.4533333333333333)\n"
          ],
          "name": "stdout"
        }
      ]
    },
    {
      "cell_type": "code",
      "metadata": {
        "id": "ZJRBYaAesvDx",
        "colab_type": "code",
        "outputId": "3ad4e538-9927-4a11-b68b-9d8a9f03b25e",
        "colab": {
          "base_uri": "https://localhost:8080/",
          "height": 502
        }
      },
      "source": [
        "learn.fit_one_cycle(16, slice(5e-3/(2.6**4),5e-3), moms=(0.8,0.7))"
      ],
      "execution_count": 68,
      "outputs": [
        {
          "output_type": "display_data",
          "data": {
            "text/html": [
              "<table border=\"1\" class=\"dataframe\">\n",
              "  <thead>\n",
              "    <tr style=\"text-align: left;\">\n",
              "      <th>epoch</th>\n",
              "      <th>train_loss</th>\n",
              "      <th>valid_loss</th>\n",
              "      <th>accuracy</th>\n",
              "      <th>time</th>\n",
              "    </tr>\n",
              "  </thead>\n",
              "  <tbody>\n",
              "    <tr>\n",
              "      <td>0</td>\n",
              "      <td>1.028158</td>\n",
              "      <td>1.008221</td>\n",
              "      <td>0.518519</td>\n",
              "      <td>00:02</td>\n",
              "    </tr>\n",
              "    <tr>\n",
              "      <td>1</td>\n",
              "      <td>1.029149</td>\n",
              "      <td>1.004828</td>\n",
              "      <td>0.503704</td>\n",
              "      <td>00:02</td>\n",
              "    </tr>\n",
              "    <tr>\n",
              "      <td>2</td>\n",
              "      <td>1.041817</td>\n",
              "      <td>1.013989</td>\n",
              "      <td>0.500000</td>\n",
              "      <td>00:02</td>\n",
              "    </tr>\n",
              "    <tr>\n",
              "      <td>3</td>\n",
              "      <td>1.038229</td>\n",
              "      <td>1.011353</td>\n",
              "      <td>0.444444</td>\n",
              "      <td>00:02</td>\n",
              "    </tr>\n",
              "    <tr>\n",
              "      <td>4</td>\n",
              "      <td>1.033649</td>\n",
              "      <td>1.004143</td>\n",
              "      <td>0.511111</td>\n",
              "      <td>00:02</td>\n",
              "    </tr>\n",
              "    <tr>\n",
              "      <td>5</td>\n",
              "      <td>1.028268</td>\n",
              "      <td>1.006963</td>\n",
              "      <td>0.437037</td>\n",
              "      <td>00:03</td>\n",
              "    </tr>\n",
              "    <tr>\n",
              "      <td>6</td>\n",
              "      <td>1.037227</td>\n",
              "      <td>1.014367</td>\n",
              "      <td>0.444444</td>\n",
              "      <td>00:02</td>\n",
              "    </tr>\n",
              "    <tr>\n",
              "      <td>7</td>\n",
              "      <td>1.044698</td>\n",
              "      <td>1.009421</td>\n",
              "      <td>0.429630</td>\n",
              "      <td>00:02</td>\n",
              "    </tr>\n",
              "    <tr>\n",
              "      <td>8</td>\n",
              "      <td>1.041969</td>\n",
              "      <td>1.012979</td>\n",
              "      <td>0.422222</td>\n",
              "      <td>00:02</td>\n",
              "    </tr>\n",
              "    <tr>\n",
              "      <td>9</td>\n",
              "      <td>1.039990</td>\n",
              "      <td>1.010720</td>\n",
              "      <td>0.496296</td>\n",
              "      <td>00:02</td>\n",
              "    </tr>\n",
              "    <tr>\n",
              "      <td>10</td>\n",
              "      <td>1.028699</td>\n",
              "      <td>1.004768</td>\n",
              "      <td>0.514815</td>\n",
              "      <td>00:02</td>\n",
              "    </tr>\n",
              "    <tr>\n",
              "      <td>11</td>\n",
              "      <td>1.032508</td>\n",
              "      <td>1.004313</td>\n",
              "      <td>0.444444</td>\n",
              "      <td>00:02</td>\n",
              "    </tr>\n",
              "    <tr>\n",
              "      <td>12</td>\n",
              "      <td>1.027312</td>\n",
              "      <td>1.009699</td>\n",
              "      <td>0.429630</td>\n",
              "      <td>00:02</td>\n",
              "    </tr>\n",
              "    <tr>\n",
              "      <td>13</td>\n",
              "      <td>1.028804</td>\n",
              "      <td>1.002843</td>\n",
              "      <td>0.444444</td>\n",
              "      <td>00:02</td>\n",
              "    </tr>\n",
              "    <tr>\n",
              "      <td>14</td>\n",
              "      <td>1.029775</td>\n",
              "      <td>1.009542</td>\n",
              "      <td>0.444444</td>\n",
              "      <td>00:03</td>\n",
              "    </tr>\n",
              "    <tr>\n",
              "      <td>15</td>\n",
              "      <td>1.032027</td>\n",
              "      <td>1.006166</td>\n",
              "      <td>0.437037</td>\n",
              "      <td>00:02</td>\n",
              "    </tr>\n",
              "  </tbody>\n",
              "</table>"
            ],
            "text/plain": [
              "<IPython.core.display.HTML object>"
            ]
          },
          "metadata": {
            "tags": []
          }
        }
      ]
    },
    {
      "cell_type": "code",
      "metadata": {
        "id": "e6aRVcvvsvbZ",
        "colab_type": "code",
        "outputId": "c14a139d-c548-47cf-e36f-56d26cbb7e4b",
        "colab": {
          "base_uri": "https://localhost:8080/",
          "height": 34
        }
      },
      "source": [
        "predict(test,learn)"
      ],
      "execution_count": 69,
      "outputs": [
        {
          "output_type": "stream",
          "text": [
            "(150, 67, 0.44666666666666666)\n"
          ],
          "name": "stdout"
        }
      ]
    },
    {
      "cell_type": "code",
      "metadata": {
        "id": "HzVkknomtUyO",
        "colab_type": "code",
        "outputId": "c4c74bc9-3f44-4fa6-d60b-1ed9b719519d",
        "colab": {
          "base_uri": "https://localhost:8080/",
          "height": 502
        }
      },
      "source": [
        "learn.fit_one_cycle(16, slice(5e-3/(2.6**4),5e-3), moms=(0.8,0.7))"
      ],
      "execution_count": 70,
      "outputs": [
        {
          "output_type": "display_data",
          "data": {
            "text/html": [
              "<table border=\"1\" class=\"dataframe\">\n",
              "  <thead>\n",
              "    <tr style=\"text-align: left;\">\n",
              "      <th>epoch</th>\n",
              "      <th>train_loss</th>\n",
              "      <th>valid_loss</th>\n",
              "      <th>accuracy</th>\n",
              "      <th>time</th>\n",
              "    </tr>\n",
              "  </thead>\n",
              "  <tbody>\n",
              "    <tr>\n",
              "      <td>0</td>\n",
              "      <td>1.031553</td>\n",
              "      <td>1.004933</td>\n",
              "      <td>0.440741</td>\n",
              "      <td>00:02</td>\n",
              "    </tr>\n",
              "    <tr>\n",
              "      <td>1</td>\n",
              "      <td>1.023805</td>\n",
              "      <td>1.011415</td>\n",
              "      <td>0.451852</td>\n",
              "      <td>00:02</td>\n",
              "    </tr>\n",
              "    <tr>\n",
              "      <td>2</td>\n",
              "      <td>1.033957</td>\n",
              "      <td>1.000801</td>\n",
              "      <td>0.448148</td>\n",
              "      <td>00:02</td>\n",
              "    </tr>\n",
              "    <tr>\n",
              "      <td>3</td>\n",
              "      <td>1.035032</td>\n",
              "      <td>1.005342</td>\n",
              "      <td>0.514815</td>\n",
              "      <td>00:02</td>\n",
              "    </tr>\n",
              "    <tr>\n",
              "      <td>4</td>\n",
              "      <td>1.047833</td>\n",
              "      <td>1.012195</td>\n",
              "      <td>0.444444</td>\n",
              "      <td>00:02</td>\n",
              "    </tr>\n",
              "    <tr>\n",
              "      <td>5</td>\n",
              "      <td>1.048251</td>\n",
              "      <td>1.021981</td>\n",
              "      <td>0.444444</td>\n",
              "      <td>00:02</td>\n",
              "    </tr>\n",
              "    <tr>\n",
              "      <td>6</td>\n",
              "      <td>1.040237</td>\n",
              "      <td>1.015597</td>\n",
              "      <td>0.440741</td>\n",
              "      <td>00:03</td>\n",
              "    </tr>\n",
              "    <tr>\n",
              "      <td>7</td>\n",
              "      <td>1.034863</td>\n",
              "      <td>1.007288</td>\n",
              "      <td>0.444444</td>\n",
              "      <td>00:02</td>\n",
              "    </tr>\n",
              "    <tr>\n",
              "      <td>8</td>\n",
              "      <td>1.030868</td>\n",
              "      <td>0.995356</td>\n",
              "      <td>0.514815</td>\n",
              "      <td>00:02</td>\n",
              "    </tr>\n",
              "    <tr>\n",
              "      <td>9</td>\n",
              "      <td>1.028563</td>\n",
              "      <td>0.995866</td>\n",
              "      <td>0.518519</td>\n",
              "      <td>00:02</td>\n",
              "    </tr>\n",
              "    <tr>\n",
              "      <td>10</td>\n",
              "      <td>1.038776</td>\n",
              "      <td>1.005109</td>\n",
              "      <td>0.440741</td>\n",
              "      <td>00:02</td>\n",
              "    </tr>\n",
              "    <tr>\n",
              "      <td>11</td>\n",
              "      <td>1.040426</td>\n",
              "      <td>1.000402</td>\n",
              "      <td>0.448148</td>\n",
              "      <td>00:02</td>\n",
              "    </tr>\n",
              "    <tr>\n",
              "      <td>12</td>\n",
              "      <td>1.038495</td>\n",
              "      <td>1.005365</td>\n",
              "      <td>0.507407</td>\n",
              "      <td>00:02</td>\n",
              "    </tr>\n",
              "    <tr>\n",
              "      <td>13</td>\n",
              "      <td>1.029359</td>\n",
              "      <td>1.006953</td>\n",
              "      <td>0.518519</td>\n",
              "      <td>00:02</td>\n",
              "    </tr>\n",
              "    <tr>\n",
              "      <td>14</td>\n",
              "      <td>1.022794</td>\n",
              "      <td>1.005259</td>\n",
              "      <td>0.507407</td>\n",
              "      <td>00:02</td>\n",
              "    </tr>\n",
              "    <tr>\n",
              "      <td>15</td>\n",
              "      <td>1.029109</td>\n",
              "      <td>1.002980</td>\n",
              "      <td>0.511111</td>\n",
              "      <td>00:02</td>\n",
              "    </tr>\n",
              "  </tbody>\n",
              "</table>"
            ],
            "text/plain": [
              "<IPython.core.display.HTML object>"
            ]
          },
          "metadata": {
            "tags": []
          }
        }
      ]
    },
    {
      "cell_type": "code",
      "metadata": {
        "id": "67iKejMxtWOH",
        "colab_type": "code",
        "outputId": "779a5c11-91ca-464d-dcfb-6acbef201e6e",
        "colab": {
          "base_uri": "https://localhost:8080/",
          "height": 34
        }
      },
      "source": [
        "predict(test,learn)"
      ],
      "execution_count": 71,
      "outputs": [
        {
          "output_type": "stream",
          "text": [
            "(150, 69, 0.46)\n"
          ],
          "name": "stdout"
        }
      ]
    },
    {
      "cell_type": "code",
      "metadata": {
        "id": "u75jzNXaBIQE",
        "colab_type": "code",
        "outputId": "d47bb39d-30c8-4a89-a195-a64f4c60f6d2",
        "colab": {
          "base_uri": "https://localhost:8080/",
          "height": 556
        }
      },
      "source": [
        "learn.model"
      ],
      "execution_count": 72,
      "outputs": [
        {
          "output_type": "execute_result",
          "data": {
            "text/plain": [
              "SequentialRNN(\n",
              "  (0): MultiBatchEncoder(\n",
              "    (module): AWD_LSTM(\n",
              "      (encoder): Embedding(40, 400, padding_idx=1)\n",
              "      (encoder_dp): EmbeddingDropout(\n",
              "        (emb): Embedding(40, 400, padding_idx=1)\n",
              "      )\n",
              "      (rnns): ModuleList(\n",
              "        (0): WeightDropout(\n",
              "          (module): LSTM(400, 400, batch_first=True)\n",
              "        )\n",
              "      )\n",
              "      (input_dp): RNNDropout()\n",
              "      (hidden_dps): ModuleList(\n",
              "        (0): RNNDropout()\n",
              "      )\n",
              "    )\n",
              "  )\n",
              "  (1): PoolingLinearClassifier(\n",
              "    (layers): Sequential(\n",
              "      (0): BatchNorm1d(1200, eps=1e-05, momentum=0.1, affine=True, track_running_stats=True)\n",
              "      (1): Dropout(p=0.8, inplace=False)\n",
              "      (2): Linear(in_features=1200, out_features=50, bias=True)\n",
              "      (3): ReLU(inplace=True)\n",
              "      (4): BatchNorm1d(50, eps=1e-05, momentum=0.1, affine=True, track_running_stats=True)\n",
              "      (5): Dropout(p=0.1, inplace=False)\n",
              "      (6): Linear(in_features=50, out_features=3, bias=True)\n",
              "    )\n",
              "  )\n",
              ")"
            ]
          },
          "metadata": {
            "tags": []
          },
          "execution_count": 72
        }
      ]
    }
  ]
}