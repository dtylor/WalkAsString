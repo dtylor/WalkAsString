{
 "cells": [
  {
   "cell_type": "code",
   "execution_count": null,
   "metadata": {},
   "outputs": [],
   "source": [
    "!rm -r WalkRNN"
   ]
  },
  {
   "cell_type": "code",
   "execution_count": 1,
   "metadata": {},
   "outputs": [
    {
     "name": "stdout",
     "output_type": "stream",
     "text": [
      "fatal: destination path 'WalkRNN' already exists and is not an empty directory.\r\n"
     ]
    }
   ],
   "source": [
    "!git clone https://github.com/dtylor/WalkRNN.git"
   ]
  },
  {
   "cell_type": "code",
   "execution_count": 2,
   "metadata": {},
   "outputs": [
    {
     "name": "stdout",
     "output_type": "stream",
     "text": [
      "/notebooks/WalkRNN\n",
      "Demonstration.ipynb    Motivation.ipynb  __init__.py  module.py\n",
      "LICENSE-3RD-PARTY.txt  OrgChart.ipynb\t __pycache__  n2v\n",
      "LICENSE.md\t       README.md\t examples     test.py\n",
      "MUTAG.ipynb\t       TODO\t\t graphwave    utilities.py\n"
     ]
    }
   ],
   "source": [
    "%cd WalkRNN\n",
    "!ls"
   ]
  },
  {
   "cell_type": "code",
   "execution_count": 3,
   "metadata": {},
   "outputs": [
    {
     "name": "stdout",
     "output_type": "stream",
     "text": [
      "Solving environment: done\n",
      "\n",
      "\n",
      "==> WARNING: A newer version of conda exists. <==\n",
      "  current version: 4.5.12\n",
      "  latest version: 4.7.12\n",
      "\n",
      "Please update conda by running\n",
      "\n",
      "    $ conda update -n base -c defaults conda\n",
      "\n",
      "\n",
      "\n",
      "# All requested packages already installed.\n",
      "\n"
     ]
    }
   ],
   "source": [
    "!conda install fastai  -c fastai -c pytorch --yes\n"
   ]
  },
  {
   "cell_type": "code",
   "execution_count": 4,
   "metadata": {},
   "outputs": [],
   "source": [
    "import fastai\n",
    "import pandas as pd"
   ]
  },
  {
   "cell_type": "code",
   "execution_count": 5,
   "metadata": {},
   "outputs": [
    {
     "name": "stdout",
     "output_type": "stream",
     "text": [
      "\n",
      "\n",
      "```text\n",
      "=== Software === \n",
      "python        : 3.6.7\n",
      "fastai        : 1.0.58\n",
      "fastprogress  : 0.1.21\n",
      "torch         : 1.0.0\n",
      "nvidia driver : 418.67\n",
      "torch cuda    : 9.0.176 / is available\n",
      "torch cudnn   : 7401 / is enabled\n",
      "\n",
      "=== Hardware === \n",
      "nvidia gpus   : 1\n",
      "torch devices : 1\n",
      "  - gpu0      : 8126MB | Quadro M4000\n",
      "\n",
      "=== Environment === \n",
      "platform      : Linux-4.4.0-130-generic-x86_64-with-debian-stretch-sid\n",
      "distro        : #156-Ubuntu SMP Thu Jun 14 08:53:28 UTC 2018\n",
      "conda env     : fastai\n",
      "python        : /opt/conda/envs/fastai/bin/python\n",
      "sys.path      : /opt/conda/envs/fastai/lib/python36.zip\n",
      "/opt/conda/envs/fastai/lib/python3.6\n",
      "/opt/conda/envs/fastai/lib/python3.6/lib-dynload\n",
      "\n",
      "/opt/conda/envs/fastai/lib/python3.6/site-packages\n",
      "/opt/conda/envs/fastai/lib/python3.6/site-packages/IPython/extensions\n",
      "/root/.ipython\n",
      "```\n",
      "\n",
      "Please make sure to include opening/closing ``` when you paste into forums/github to make the reports appear formatted as code sections.\n",
      "\n",
      "Optional package(s) to enhance the diagnostics can be installed with:\n",
      "pip install distro\n",
      "Once installed, re-run this utility to get the additional information\n"
     ]
    }
   ],
   "source": [
    "from fastai.utils.show_install import *\n",
    "show_install()"
   ]
  },
  {
   "cell_type": "code",
   "execution_count": 6,
   "metadata": {},
   "outputs": [
    {
     "name": "stdout",
     "output_type": "stream",
     "text": [
      "Requirement already up-to-date: scikit-learn in /opt/conda/envs/fastai/lib/python3.6/site-packages (0.21.3)\r\n",
      "Requirement already satisfied, skipping upgrade: numpy>=1.11.0 in /opt/conda/envs/fastai/lib/python3.6/site-packages (from scikit-learn) (1.15.4)\r\n",
      "Requirement already satisfied, skipping upgrade: joblib>=0.11 in /opt/conda/envs/fastai/lib/python3.6/site-packages (from scikit-learn) (0.14.0)\r\n",
      "Requirement already satisfied, skipping upgrade: scipy>=0.17.0 in /opt/conda/envs/fastai/lib/python3.6/site-packages (from scikit-learn) (1.2.0)\r\n"
     ]
    }
   ],
   "source": [
    "!pip install -U scikit-learn"
   ]
  },
  {
   "cell_type": "code",
   "execution_count": 7,
   "metadata": {},
   "outputs": [
    {
     "name": "stdout",
     "output_type": "stream",
     "text": [
      "Requirement already satisfied: networkx in /opt/conda/envs/fastai/lib/python3.6/site-packages (2.3)\n",
      "Requirement already satisfied: decorator>=4.3.0 in /opt/conda/envs/fastai/lib/python3.6/site-packages (from networkx) (4.3.0)\n"
     ]
    }
   ],
   "source": [
    "!pip install networkx"
   ]
  },
  {
   "cell_type": "code",
   "execution_count": 8,
   "metadata": {},
   "outputs": [
    {
     "name": "stdout",
     "output_type": "stream",
     "text": [
      "Requirement already satisfied: seaborn in /opt/conda/envs/fastai/lib/python3.6/site-packages (0.9.0)\n",
      "Requirement already satisfied: matplotlib>=1.4.3 in /opt/conda/envs/fastai/lib/python3.6/site-packages (from seaborn) (3.0.2)\n",
      "Requirement already satisfied: pandas>=0.15.2 in /opt/conda/envs/fastai/lib/python3.6/site-packages (from seaborn) (0.23.4)\n",
      "Requirement already satisfied: numpy>=1.9.3 in /opt/conda/envs/fastai/lib/python3.6/site-packages (from seaborn) (1.15.4)\n",
      "Requirement already satisfied: scipy>=0.14.0 in /opt/conda/envs/fastai/lib/python3.6/site-packages (from seaborn) (1.2.0)\n",
      "Requirement already satisfied: cycler>=0.10 in /opt/conda/envs/fastai/lib/python3.6/site-packages (from matplotlib>=1.4.3->seaborn) (0.10.0)\n",
      "Requirement already satisfied: kiwisolver>=1.0.1 in /opt/conda/envs/fastai/lib/python3.6/site-packages (from matplotlib>=1.4.3->seaborn) (1.0.1)\n",
      "Requirement already satisfied: pyparsing!=2.0.4,!=2.1.2,!=2.1.6,>=2.0.1 in /opt/conda/envs/fastai/lib/python3.6/site-packages (from matplotlib>=1.4.3->seaborn) (2.3.1)\n",
      "Requirement already satisfied: python-dateutil>=2.1 in /opt/conda/envs/fastai/lib/python3.6/site-packages (from matplotlib>=1.4.3->seaborn) (2.7.5)\n",
      "Requirement already satisfied: pytz>=2011k in /opt/conda/envs/fastai/lib/python3.6/site-packages (from pandas>=0.15.2->seaborn) (2018.9)\n",
      "Requirement already satisfied: six in /opt/conda/envs/fastai/lib/python3.6/site-packages (from cycler>=0.10->matplotlib>=1.4.3->seaborn) (1.12.0)\n",
      "Requirement already satisfied: setuptools in /opt/conda/envs/fastai/lib/python3.6/site-packages (from kiwisolver>=1.0.1->matplotlib>=1.4.3->seaborn) (40.6.3)\n"
     ]
    }
   ],
   "source": [
    "!pip install seaborn"
   ]
  },
  {
   "cell_type": "code",
   "execution_count": 9,
   "metadata": {},
   "outputs": [
    {
     "name": "stdout",
     "output_type": "stream",
     "text": [
      "DONE\n"
     ]
    }
   ],
   "source": [
    "from utilities import load_graph_kernel_graph, load_graph_kernel_labels, transform_graph\n",
    "\n",
    "\n",
    "Gkern = load_graph_kernel_graph(\"./examples/data/DD\")\n",
    "y = load_graph_kernel_labels(\"./examples/data/DD\")\n"
   ]
  },
  {
   "cell_type": "code",
   "execution_count": 10,
   "metadata": {},
   "outputs": [
    {
     "name": "stdout",
     "output_type": "stream",
     "text": [
      "54452\n"
     ]
    }
   ],
   "source": [
    "import random, networkx as nx\n",
    "components = set(nx.get_node_attributes(Gkern,'component').values())\n",
    "comp_sm = random.sample(list(components),200)\n",
    "nodes_small =[x for comp in comp_sm for x,y in Gkern.nodes(data=True) if y['component']==comp] \n",
    "print(len(nodes_small))\n",
    "Gsm = Gkern.subgraph(nodes_small)"
   ]
  },
  {
   "cell_type": "code",
   "execution_count": 11,
   "metadata": {},
   "outputs": [
    {
     "name": "stdout",
     "output_type": "stream",
     "text": [
      "finished graphwave_alg batches\n"
     ]
    }
   ],
   "source": [
    "#Transform networkx property graph into a format prepared for WalkRNN\n",
    "G, current_vocab_size = transform_graph(Gsm, params={'num_kmeans_clusters': 4, \"num_pca_components\": 5, \"num_batch\":50, 'num_att_kmeans_clusters': 10})"
   ]
  },
  {
   "cell_type": "code",
   "execution_count": 12,
   "metadata": {},
   "outputs": [],
   "source": [
    "import matplotlib.pyplot as plt\n",
    "import networkx as nx\n",
    "# create number for each group to allow use of colormap\n",
    "from itertools import count\n",
    "\n",
    "\n",
    "def plotGW(tmpG, comp_no):\n",
    " # get unique groups\n",
    " groups = set(nx.get_node_attributes(tmpG,'structure').values())\n",
    "\n",
    " mapping = dict(zip(sorted(groups),count()))\n",
    "  \n",
    " comp_nodes = [x for x,y in tmpG.nodes(data=True) if y['component']==comp_no]\n",
    " print(len(comp_nodes))\n",
    " subgraph = tmpG.subgraph(comp_nodes)\n",
    " nodes = subgraph.nodes()\n",
    " colors = [mapping[subgraph.node[n]['structure']] for n in nodes]\n",
    "\n",
    " # drawing nodes and edges separately so we can capture collection for colobar\n",
    " pos = nx.spring_layout(subgraph)\n",
    " ec = nx.draw_networkx_edges(subgraph, pos, with_labels=True,alpha=0.2)\n",
    " nc = nx.draw_networkx_nodes(subgraph, pos, nodelist=nodes, node_color=colors, \n",
    "                            with_labels=True, node_size=100, cmap=plt.cm.jet, vmin=0,vmax=5)\n",
    " plt.colorbar(nc)\n",
    " plt.axis('off')\n",
    " plt.show()\n",
    " print(nx.get_node_attributes(subgraph,'structure'))\n",
    " "
   ]
  },
  {
   "cell_type": "code",
   "execution_count": 13,
   "metadata": {},
   "outputs": [
    {
     "name": "stdout",
     "output_type": "stream",
     "text": [
      "353\n"
     ]
    },
    {
     "data": {
      "image/png": "[encoded data removed]",
      "text/plain": [
       "<Figure size 432x288 with 2 Axes>"
      ]
     },
     "metadata": {
      "needs_background": "light"
     },
     "output_type": "display_data"
    },
    {
     "name": "stdout",
     "output_type": "stream",
     "text": [
      "{297520: 41, 297521: 41, 297522: 38, 297523: 40, 297524: 40, 297525: 38, 297526: 40, 297527: 40, 297528: 40, 297529: 40, 297530: 38, 297531: 40, 297532: 41, 297533: 41, 297534: 41, 297535: 41, 297536: 41, 297537: 41, 297538: 41, 297539: 40, 297540: 39, 297541: 41, 297542: 40, 297543: 41, 297544: 41, 297545: 40, 297546: 41, 297547: 40, 297548: 40, 297549: 41, 297550: 40, 297551: 40, 297552: 38, 297553: 41, 297554: 41, 297555: 40, 297556: 40, 297557: 40, 297558: 41, 297559: 40, 297560: 40, 297561: 41, 297562: 40, 297563: 41, 297564: 41, 297565: 41, 297566: 41, 297567: 40, 297568: 40, 297569: 41, 297570: 41, 297571: 40, 297572: 40, 297573: 41, 297574: 41, 297575: 41, 297576: 40, 297577: 38, 297578: 38, 297579: 41, 297580: 40, 297581: 41, 297582: 41, 297583: 40, 297584: 40, 297585: 40, 297586: 40, 297587: 41, 297588: 40, 297589: 40, 297590: 40, 297591: 40, 297592: 41, 297593: 40, 297594: 41, 297595: 41, 297596: 41, 297597: 40, 297598: 40, 297599: 40, 297600: 41, 297601: 41, 297602: 40, 297603: 41, 297604: 40, 297605: 41, 297606: 41, 297607: 41, 297608: 41, 297609: 41, 297610: 41, 297611: 41, 297612: 41, 297613: 40, 297614: 41, 297615: 40, 297616: 41, 297617: 40, 297618: 40, 297619: 40, 297620: 40, 297621: 40, 297622: 40, 297623: 40, 297624: 40, 297625: 40, 297626: 40, 297627: 40, 297628: 40, 297629: 40, 297630: 40, 297631: 41, 297632: 40, 297633: 40, 297634: 40, 297635: 40, 297636: 40, 297637: 40, 297638: 40, 297639: 40, 297640: 40, 297641: 38, 297642: 40, 297643: 40, 297644: 40, 297645: 40, 297646: 40, 297647: 41, 297648: 40, 297649: 40, 297650: 40, 297651: 40, 297652: 40, 297653: 40, 297654: 40, 297655: 40, 297656: 40, 297657: 40, 297658: 40, 297659: 40, 297660: 41, 297661: 40, 297662: 40, 297663: 40, 297664: 40, 297665: 40, 297666: 40, 297667: 40, 297668: 40, 297669: 41, 297670: 41, 297671: 40, 297672: 41, 297673: 40, 297674: 40, 297675: 40, 297676: 38, 297677: 40, 297678: 41, 297679: 40, 297680: 41, 297681: 40, 297682: 41, 297683: 41, 297684: 40, 297685: 40, 297686: 38, 297687: 38, 297688: 40, 297689: 40, 297690: 40, 297691: 40, 297692: 40, 297693: 38, 297694: 40, 297695: 40, 297696: 40, 297697: 40, 297698: 40, 297699: 40, 297700: 40, 297701: 40, 297702: 40, 297703: 40, 297704: 40, 297705: 40, 297706: 40, 297707: 40, 297708: 40, 297709: 40, 297710: 40, 297711: 40, 297712: 41, 297713: 40, 297714: 41, 297715: 41, 297716: 41, 297717: 41, 297718: 41, 297719: 41, 297720: 41, 297721: 41, 297722: 40, 297723: 41, 297724: 41, 297725: 40, 297726: 40, 297727: 38, 297728: 40, 297729: 40, 297730: 40, 297731: 41, 297732: 40, 297733: 40, 297734: 38, 297735: 40, 297736: 40, 297737: 41, 297738: 41, 297739: 40, 297740: 40, 297741: 41, 297742: 40, 297743: 40, 297744: 41, 297745: 41, 297746: 41, 297747: 41, 297748: 38, 297749: 40, 297750: 40, 297751: 40, 297752: 41, 297753: 40, 297754: 40, 297755: 40, 297756: 41, 297757: 41, 297758: 40, 297759: 40, 297760: 40, 297761: 40, 297762: 40, 297763: 40, 297764: 41, 297765: 41, 297766: 40, 297767: 41, 297768: 40, 297769: 40, 297770: 41, 297771: 40, 297772: 41, 297773: 41, 297774: 41, 297775: 41, 297776: 41, 297777: 41, 297778: 41, 297779: 41, 297780: 40, 297781: 38, 297782: 40, 297783: 40, 297784: 40, 297785: 40, 297786: 38, 297787: 40, 297788: 40, 297789: 40, 297790: 40, 297791: 41, 297792: 41, 297793: 41, 297794: 41, 297795: 41, 297796: 40, 297797: 41, 297798: 41, 297799: 41, 297800: 40, 297801: 41, 297802: 40, 297803: 40, 297804: 40, 297805: 40, 297806: 40, 297807: 40, 297808: 40, 297809: 40, 297810: 40, 297811: 41, 297812: 41, 297813: 41, 297814: 40, 297815: 41, 297816: 41, 297817: 41, 297818: 41, 297819: 41, 297820: 40, 297821: 40, 297822: 40, 297823: 40, 297824: 40, 297825: 40, 297826: 40, 297827: 40, 297828: 40, 297829: 40, 297830: 38, 297831: 38, 297832: 41, 297833: 40, 297834: 38, 297835: 40, 297836: 38, 297837: 40, 297838: 40, 297839: 40, 297840: 40, 297841: 40, 297842: 40, 297843: 41, 297844: 40, 297845: 40, 297846: 40, 297847: 40, 297848: 41, 297849: 38, 297850: 40, 297851: 40, 297852: 40, 297853: 40, 297854: 40, 297855: 40, 297856: 38, 297857: 40, 297858: 40, 297859: 40, 297860: 40, 297861: 40, 297862: 40, 297863: 40, 297864: 41, 297865: 38, 297866: 40, 297867: 40, 297868: 41, 297869: 40, 297870: 41, 297871: 41, 297872: 41}\n"
     ]
    }
   ],
   "source": [
    "plotGW(G,comp_sm[1])"
   ]
  },
  {
   "cell_type": "code",
   "execution_count": 14,
   "metadata": {},
   "outputs": [
    {
     "name": "stdout",
     "output_type": "stream",
     "text": [
      "59\n"
     ]
    },
    {
     "data": {
      "image/png": "[encoded data removed]",
      "text/plain": [
       "<Figure size 432x288 with 2 Axes>"
      ]
     },
     "metadata": {
      "needs_background": "light"
     },
     "output_type": "display_data"
    },
    {
     "name": "stdout",
     "output_type": "stream",
     "text": [
      "{308992: 38, 308993: 40, 308994: 40, 308995: 40, 308996: 40, 308997: 40, 308998: 40, 308999: 41, 309000: 40, 309001: 40, 309002: 38, 309003: 40, 309004: 40, 309005: 40, 309006: 38, 309007: 41, 309008: 41, 309009: 41, 309010: 41, 309011: 41, 309012: 40, 309013: 41, 309014: 40, 309015: 40, 309016: 40, 309017: 40, 309018: 40, 309019: 41, 309020: 40, 309021: 40, 309022: 40, 309023: 40, 309024: 40, 309025: 41, 309026: 41, 309027: 38, 309028: 41, 309029: 41, 308971: 41, 308972: 40, 308973: 40, 308974: 40, 308975: 40, 308976: 41, 308977: 41, 308978: 41, 308979: 41, 308980: 41, 308981: 38, 308982: 38, 308983: 40, 308984: 41, 308985: 41, 308986: 40, 308987: 41, 308988: 38, 308989: 38, 308990: 41, 308991: 38}\n"
     ]
    }
   ],
   "source": [
    "plotGW(G,comp_sm[2])"
   ]
  },
  {
   "cell_type": "code",
   "execution_count": 15,
   "metadata": {},
   "outputs": [
    {
     "name": "stdout",
     "output_type": "stream",
     "text": [
      "201\n"
     ]
    },
    {
     "data": {
      "image/png": "[encoded data removed]",
      "text/plain": [
       "<Figure size 432x288 with 2 Axes>"
      ]
     },
     "metadata": {
      "needs_background": "light"
     },
     "output_type": "display_data"
    },
    {
     "name": "stdout",
     "output_type": "stream",
     "text": [
      "{311578: 40, 311579: 40, 311580: 40, 311581: 40, 311582: 40, 311583: 40, 311584: 40, 311585: 40, 311586: 40, 311587: 40, 311588: 38, 311589: 40, 311590: 40, 311591: 38, 311592: 40, 311593: 41, 311594: 38, 311595: 40, 311596: 40, 311597: 38, 311598: 40, 311599: 40, 311600: 40, 311601: 40, 311602: 40, 311603: 40, 311604: 40, 311605: 40, 311606: 40, 311607: 40, 311608: 40, 311609: 40, 311610: 40, 311611: 41, 311612: 40, 311613: 41, 311614: 40, 311615: 41, 311616: 40, 311617: 40, 311618: 40, 311619: 40, 311620: 40, 311621: 40, 311622: 38, 311623: 40, 311624: 40, 311625: 40, 311626: 40, 311627: 38, 311628: 40, 311629: 38, 311630: 40, 311631: 41, 311632: 40, 311633: 40, 311634: 40, 311635: 40, 311636: 38, 311637: 40, 311638: 38, 311639: 41, 311640: 40, 311641: 40, 311642: 41, 311643: 41, 311644: 41, 311645: 40, 311646: 41, 311647: 41, 311648: 41, 311649: 38, 311650: 41, 311651: 41, 311652: 40, 311653: 41, 311654: 41, 311655: 41, 311656: 40, 311657: 40, 311658: 40, 311659: 40, 311660: 40, 311661: 41, 311662: 41, 311663: 40, 311664: 41, 311665: 41, 311666: 41, 311667: 41, 311668: 41, 311669: 41, 311670: 41, 311671: 40, 311672: 41, 311673: 41, 311674: 40, 311675: 40, 311676: 41, 311677: 40, 311678: 41, 311679: 40, 311680: 40, 311681: 40, 311682: 41, 311683: 40, 311684: 40, 311685: 41, 311686: 41, 311687: 41, 311688: 41, 311689: 41, 311690: 41, 311691: 41, 311692: 41, 311693: 41, 311694: 41, 311695: 41, 311696: 41, 311697: 41, 311698: 41, 311699: 41, 311700: 41, 311701: 41, 311702: 41, 311703: 41, 311704: 40, 311705: 40, 311706: 41, 311707: 41, 311708: 41, 311709: 41, 311710: 41, 311711: 41, 311712: 41, 311713: 41, 311714: 40, 311715: 40, 311716: 40, 311717: 41, 311718: 40, 311719: 41, 311720: 40, 311721: 40, 311722: 40, 311723: 38, 311724: 41, 311725: 41, 311726: 41, 311727: 40, 311728: 41, 311729: 41, 311730: 41, 311731: 40, 311732: 41, 311733: 41, 311734: 41, 311735: 41, 311736: 41, 311737: 41, 311738: 40, 311739: 41, 311740: 41, 311741: 41, 311742: 41, 311743: 40, 311744: 41, 311745: 41, 311746: 41, 311747: 41, 311748: 40, 311749: 38, 311750: 41, 311751: 41, 311752: 40, 311753: 41, 311754: 41, 311755: 40, 311756: 40, 311757: 41, 311758: 40, 311759: 41, 311760: 41, 311761: 41, 311762: 40, 311763: 41, 311764: 40, 311765: 41, 311766: 40, 311767: 41, 311768: 41, 311769: 40, 311770: 41, 311771: 41, 311772: 41, 311773: 40, 311774: 41, 311775: 41, 311776: 41, 311777: 41, 311778: 41}\n"
     ]
    }
   ],
   "source": [
    "plotGW(G,comp_sm[3])"
   ]
  },
  {
   "cell_type": "code",
   "execution_count": 16,
   "metadata": {},
   "outputs": [
    {
     "name": "stdout",
     "output_type": "stream",
     "text": [
      "347\n"
     ]
    },
    {
     "data": {
      "image/png": "[encoded data removed]",
      "text/plain": [
       "<Figure size 432x288 with 2 Axes>"
      ]
     },
     "metadata": {
      "needs_background": "light"
     },
     "output_type": "display_data"
    },
    {
     "name": "stdout",
     "output_type": "stream",
     "text": [
      "{47117: 39, 47118: 39, 47119: 39, 47120: 38, 47121: 39, 47122: 39, 47123: 39, 47124: 39, 47125: 39, 47126: 39, 47127: 38, 47128: 39, 47129: 39, 47130: 39, 47131: 39, 47132: 39, 47133: 38, 47134: 39, 47135: 39, 47136: 39, 47137: 38, 47138: 39, 47139: 38, 47140: 39, 47141: 39, 47142: 38, 47143: 39, 47144: 39, 47145: 39, 47146: 39, 47147: 39, 47148: 39, 47149: 39, 47150: 39, 47151: 39, 47152: 39, 47153: 38, 47154: 39, 47155: 39, 47156: 39, 47157: 39, 47158: 39, 47159: 39, 47160: 38, 47161: 39, 47162: 39, 47163: 38, 47164: 39, 47165: 38, 47166: 38, 47167: 38, 47168: 39, 47169: 38, 47170: 39, 47171: 38, 47172: 39, 47173: 39, 47174: 38, 47175: 39, 47176: 39, 47177: 39, 47178: 39, 47179: 39, 47180: 39, 47181: 39, 47182: 39, 47183: 39, 47184: 39, 47185: 39, 47186: 39, 47187: 39, 47188: 39, 47189: 39, 47190: 39, 47191: 39, 47192: 39, 47193: 39, 47194: 39, 47195: 39, 47196: 39, 47197: 39, 47198: 39, 47199: 39, 47200: 38, 47201: 39, 47202: 39, 47203: 39, 47204: 39, 47205: 39, 47206: 39, 47207: 39, 47208: 39, 47209: 39, 47210: 39, 47211: 38, 47212: 39, 47213: 39, 47214: 39, 47215: 39, 47216: 39, 47217: 39, 47218: 39, 47219: 39, 47220: 39, 47221: 39, 47222: 38, 47223: 39, 47224: 39, 47225: 39, 47226: 39, 47227: 39, 47228: 39, 47229: 39, 47230: 39, 47231: 39, 47232: 39, 47233: 38, 47234: 39, 47235: 39, 47236: 39, 47237: 39, 47238: 39, 47239: 39, 47240: 39, 47241: 38, 47242: 39, 47243: 39, 47244: 39, 47245: 39, 47246: 39, 47247: 39, 47248: 39, 47249: 39, 47250: 39, 47251: 39, 47252: 39, 47253: 39, 47254: 39, 47255: 39, 47256: 38, 47257: 39, 47258: 39, 47259: 39, 47260: 39, 47261: 39, 47262: 39, 47263: 39, 47264: 39, 47265: 39, 47266: 39, 47267: 39, 47268: 39, 47269: 39, 47270: 39, 47271: 38, 47272: 39, 47273: 39, 47274: 39, 47275: 39, 47276: 39, 47277: 39, 47278: 39, 47279: 39, 47280: 39, 47281: 39, 47282: 39, 47283: 39, 47284: 39, 47285: 39, 47286: 39, 47287: 39, 47288: 39, 47289: 39, 47290: 39, 47291: 39, 47292: 39, 47293: 39, 47294: 39, 47295: 39, 47296: 39, 47297: 38, 47298: 39, 47299: 39, 47300: 39, 47301: 39, 47302: 39, 47303: 39, 47304: 39, 47305: 39, 47306: 39, 47307: 39, 47308: 39, 47309: 39, 47310: 39, 47311: 39, 47312: 39, 47313: 39, 47314: 39, 47315: 39, 47316: 39, 47317: 39, 47318: 39, 47319: 39, 47320: 39, 47321: 39, 47322: 38, 47323: 39, 47324: 39, 47325: 39, 47326: 39, 47327: 38, 47328: 39, 47329: 39, 47330: 39, 47331: 39, 47332: 39, 47333: 39, 47334: 39, 47335: 39, 47336: 39, 47337: 39, 47338: 39, 47339: 39, 47340: 39, 47341: 38, 47342: 38, 47343: 39, 47344: 39, 47345: 39, 47346: 39, 47347: 39, 47348: 39, 47349: 39, 47350: 39, 47351: 39, 47352: 39, 47353: 39, 47354: 39, 47355: 38, 47356: 39, 47357: 39, 47358: 39, 47359: 39, 47360: 39, 47361: 39, 47362: 39, 47363: 39, 47364: 39, 47365: 39, 47366: 39, 47367: 39, 47368: 39, 47369: 39, 47370: 39, 47371: 39, 47372: 39, 47373: 39, 47374: 39, 47375: 39, 47376: 39, 47377: 38, 47378: 39, 47379: 39, 47380: 39, 47381: 38, 47382: 39, 47383: 38, 47384: 39, 47385: 39, 47386: 39, 47387: 38, 47388: 39, 47389: 39, 47390: 39, 47391: 38, 47392: 39, 47393: 38, 47394: 39, 47395: 39, 47396: 39, 47397: 39, 47398: 38, 47399: 39, 47400: 39, 47401: 39, 47402: 39, 47403: 39, 47404: 39, 47405: 39, 47406: 39, 47407: 39, 47408: 39, 47409: 39, 47410: 39, 47411: 39, 47412: 39, 47413: 39, 47414: 39, 47415: 38, 47416: 39, 47417: 39, 47418: 39, 47419: 39, 47420: 38, 47421: 38, 47422: 39, 47423: 39, 47424: 39, 47425: 39, 47426: 39, 47427: 38, 47428: 39, 47429: 39, 47430: 39, 47431: 39, 47432: 38, 47433: 38, 47434: 39, 47435: 39, 47436: 39, 47437: 39, 47438: 39, 47439: 39, 47440: 38, 47441: 38, 47442: 39, 47443: 39, 47444: 38, 47445: 39, 47446: 38, 47447: 39, 47448: 39, 47449: 39, 47450: 39, 47451: 39, 47452: 39, 47453: 39, 47454: 39, 47455: 39, 47456: 39, 47457: 39, 47458: 39, 47459: 39, 47460: 39, 47461: 39, 47462: 39, 47463: 39}\n"
     ]
    }
   ],
   "source": [
    "plotGW(G,comp_sm[101])"
   ]
  },
  {
   "cell_type": "code",
   "execution_count": 17,
   "metadata": {},
   "outputs": [
    {
     "name": "stdout",
     "output_type": "stream",
     "text": [
      "534\n"
     ]
    },
    {
     "data": {
      "image/png": "[encoded data removed]",
      "text/plain": [
       "<Figure size 432x288 with 2 Axes>"
      ]
     },
     "metadata": {
      "needs_background": "light"
     },
     "output_type": "display_data"
    },
    {
     "name": "stdout",
     "output_type": "stream",
     "text": [
      "{21338: 39, 21339: 39, 21340: 39, 21341: 39, 21342: 39, 21343: 39, 21344: 39, 21345: 39, 21346: 39, 21347: 39, 21348: 39, 21349: 39, 21350: 39, 21351: 39, 21352: 39, 21353: 39, 21354: 39, 21355: 39, 21356: 39, 21357: 39, 21358: 39, 21359: 39, 21360: 39, 21361: 39, 21362: 38, 21363: 39, 21364: 39, 21365: 39, 21366: 39, 21367: 39, 21368: 39, 21369: 39, 21370: 39, 21371: 39, 21372: 39, 21373: 39, 21374: 39, 21375: 38, 21376: 39, 21377: 39, 21378: 39, 21379: 39, 21380: 39, 21381: 39, 21382: 39, 21383: 39, 21384: 39, 21385: 39, 21386: 39, 21387: 38, 21388: 39, 21389: 39, 21390: 38, 21391: 38, 21392: 39, 21393: 39, 21394: 38, 21395: 39, 21396: 39, 21397: 39, 21398: 39, 21399: 38, 21400: 39, 21401: 39, 21402: 38, 21403: 38, 21404: 39, 21405: 39, 21406: 39, 21407: 38, 21408: 39, 21409: 39, 21410: 39, 21411: 38, 21412: 38, 21413: 39, 21414: 39, 21415: 39, 21416: 38, 21417: 38, 21418: 39, 21419: 38, 21420: 39, 21421: 38, 21422: 39, 21423: 39, 21424: 38, 21425: 39, 21426: 38, 21427: 39, 21428: 38, 21429: 39, 21430: 39, 21431: 39, 21432: 39, 21433: 39, 21434: 39, 21435: 39, 21436: 39, 21437: 38, 21438: 39, 21439: 39, 21440: 39, 21441: 39, 21442: 38, 21443: 39, 21444: 38, 21445: 38, 21446: 39, 21447: 39, 21448: 39, 21449: 39, 21450: 39, 21451: 38, 21452: 39, 21453: 39, 21454: 39, 21455: 39, 21456: 39, 21457: 38, 21458: 39, 21459: 39, 21460: 39, 21461: 38, 21462: 39, 21463: 39, 21464: 39, 21465: 39, 21466: 39, 21467: 39, 21468: 39, 21469: 38, 21470: 38, 21471: 39, 21472: 39, 21473: 39, 21474: 39, 21475: 39, 21476: 39, 21477: 38, 21478: 39, 21479: 38, 21480: 41, 21481: 38, 21482: 38, 21483: 39, 21484: 39, 21485: 39, 21486: 39, 21487: 39, 21488: 39, 21489: 39, 21490: 39, 21491: 39, 21492: 38, 21493: 39, 21494: 39, 21495: 39, 21496: 38, 21497: 39, 21498: 39, 21499: 39, 21500: 39, 21501: 39, 21502: 39, 21503: 38, 21504: 39, 21505: 39, 21506: 39, 21507: 38, 21508: 39, 21509: 39, 21510: 39, 21511: 39, 21512: 39, 21513: 39, 21514: 39, 21515: 38, 21516: 39, 21517: 39, 21518: 39, 21519: 39, 21520: 39, 21521: 39, 21522: 39, 21523: 39, 21524: 39, 21525: 39, 21526: 39, 21527: 39, 21528: 39, 21529: 39, 21530: 39, 21531: 39, 21532: 39, 21533: 39, 21534: 38, 21535: 39, 21536: 38, 21537: 39, 21538: 39, 21539: 39, 21540: 39, 21541: 39, 21542: 39, 21543: 39, 21544: 39, 21545: 39, 21546: 39, 21547: 39, 21548: 39, 21549: 39, 21550: 39, 21551: 38, 21552: 39, 21553: 39, 21554: 39, 21555: 38, 21556: 39, 21557: 39, 21558: 39, 21559: 39, 21560: 38, 21561: 39, 21562: 39, 21563: 39, 21564: 38, 21565: 38, 21566: 38, 21567: 39, 21568: 39, 21569: 39, 21570: 39, 21571: 39, 21572: 39, 21573: 38, 21574: 39, 21575: 39, 21576: 39, 21577: 39, 21578: 39, 21579: 39, 21580: 38, 21581: 39, 21582: 39, 21583: 39, 21584: 39, 21585: 39, 21586: 38, 21587: 39, 21588: 39, 21589: 39, 21590: 39, 21591: 39, 21592: 39, 21593: 39, 21594: 39, 21595: 39, 21596: 39, 21597: 39, 21598: 39, 21599: 39, 21600: 39, 21601: 39, 21602: 39, 21603: 39, 21604: 39, 21605: 39, 21606: 38, 21607: 38, 21608: 38, 21609: 41, 21610: 39, 21611: 39, 21612: 39, 21613: 38, 21614: 38, 21615: 39, 21616: 39, 21617: 38, 21618: 39, 21619: 38, 21620: 39, 21621: 39, 21622: 39, 21623: 39, 21624: 39, 21625: 39, 21626: 39, 21627: 39, 21628: 39, 21629: 39, 21630: 39, 21631: 39, 21632: 39, 21633: 39, 21634: 39, 21635: 39, 21636: 39, 21637: 39, 21638: 39, 21639: 39, 21640: 39, 21641: 39, 21642: 39, 21643: 39, 21644: 39, 21645: 38, 21646: 39, 21647: 39, 21648: 39, 21649: 39, 21650: 39, 21651: 39, 21652: 39, 21653: 39, 21654: 39, 21655: 39, 21656: 39, 21657: 38, 21658: 39, 21659: 39, 21660: 39, 21661: 39, 21662: 38, 21663: 38, 21664: 38, 21665: 38, 21666: 38, 21667: 39, 21668: 39, 21669: 39, 21670: 39, 21671: 39, 21672: 38, 21673: 39, 21674: 39, 21675: 39, 21676: 39, 21677: 39, 21678: 39, 21679: 38, 21680: 39, 21681: 39, 21682: 39, 21683: 39, 21684: 39, 21685: 39, 21686: 39, 21687: 38, 21688: 38, 21689: 39, 21690: 39, 21691: 39, 21692: 39, 21693: 39, 21694: 39, 21695: 39, 21696: 39, 21697: 38, 21698: 38, 21699: 39, 21700: 39, 21701: 39, 21702: 39, 21703: 38, 21704: 39, 21705: 38, 21706: 39, 21707: 39, 21708: 39, 21709: 39, 21710: 39, 21711: 39, 21712: 38, 21713: 39, 21714: 39, 21715: 39, 21716: 39, 21717: 38, 21718: 39, 21719: 39, 21720: 39, 21721: 39, 21722: 39, 21723: 39, 21724: 39, 21725: 39, 21726: 39, 21727: 39, 21728: 39, 21729: 39, 21730: 39, 21731: 39, 21732: 38, 21733: 39, 21734: 39, 21735: 39, 21736: 39, 21737: 39, 21738: 39, 21739: 39, 21740: 39, 21741: 39, 21742: 39, 21743: 39, 21744: 39, 21745: 39, 21746: 38, 21747: 39, 21748: 39, 21749: 39, 21750: 39, 21751: 39, 21752: 39, 21753: 39, 21754: 39, 21755: 39, 21756: 38, 21757: 39, 21758: 39, 21759: 39, 21760: 39, 21761: 39, 21762: 39, 21763: 39, 21764: 39, 21765: 38, 21766: 39, 21767: 39, 21768: 38, 21769: 39, 21770: 39, 21771: 39, 21772: 39, 21773: 38, 21774: 39, 21775: 39, 21776: 39, 21777: 39, 21778: 39, 21779: 39, 21780: 39, 21781: 38, 21782: 39, 21783: 39, 21784: 39, 21785: 38, 21786: 39, 21787: 39, 21788: 39, 21789: 38, 21790: 39, 21791: 39, 21792: 39, 21793: 39, 21794: 39, 21795: 39, 21796: 38, 21797: 39, 21798: 39, 21799: 39, 21800: 39, 21801: 39, 21802: 39, 21803: 39, 21804: 38, 21805: 39, 21806: 39, 21807: 39, 21808: 39, 21809: 39, 21810: 39, 21811: 39, 21812: 39, 21813: 39, 21814: 39, 21815: 39, 21816: 39, 21817: 39, 21818: 39, 21819: 39, 21820: 39, 21821: 39, 21822: 39, 21823: 38, 21824: 39, 21825: 39, 21826: 39, 21827: 39, 21828: 38, 21829: 39, 21830: 39, 21831: 39, 21832: 39, 21833: 39, 21834: 39, 21835: 39, 21836: 39, 21837: 39, 21838: 39, 21839: 39, 21840: 39, 21841: 39, 21842: 39, 21843: 39, 21844: 39, 21845: 39, 21846: 39, 21847: 39, 21848: 39, 21849: 39, 21850: 38, 21851: 39, 21852: 38, 21853: 39, 21854: 39, 21855: 38, 21856: 39, 21857: 39, 21858: 39, 21859: 39, 21860: 39, 21861: 39, 21862: 39, 21863: 39, 21864: 39, 21865: 39, 21866: 39, 21867: 39, 21868: 39, 21869: 38, 21870: 39, 21871: 39}\n"
     ]
    }
   ],
   "source": [
    "plotGW(G,comp_sm[51])"
   ]
  },
  {
   "cell_type": "code",
   "execution_count": 18,
   "metadata": {},
   "outputs": [
    {
     "name": "stdout",
     "output_type": "stream",
     "text": [
      "Walk iteration:\n",
      "('1', '/', '20')\n",
      "('2', '/', '20')\n",
      "('3', '/', '20')\n",
      "('4', '/', '20')\n",
      "('5', '/', '20')\n",
      "('6', '/', '20')\n",
      "('7', '/', '20')\n",
      "('8', '/', '20')\n",
      "('9', '/', '20')\n",
      "('10', '/', '20')\n",
      "('11', '/', '20')\n",
      "('12', '/', '20')\n",
      "('13', '/', '20')\n",
      "('14', '/', '20')\n",
      "('15', '/', '20')\n",
      "('16', '/', '20')\n",
      "('17', '/', '20')\n",
      "('18', '/', '20')\n",
      "('19', '/', '20')\n",
      "('20', '/', '20')\n"
     ]
    },
    {
     "name": "stderr",
     "output_type": "stream",
     "text": [
      "/notebooks/WalkRNN/module.py:140: FutureWarning: Method .as_matrix will be removed in a future version. Use .values instead.\n",
      "  sorted_walks = pd.DataFrame(walks).sort_values(0).as_matrix()\n"
     ]
    },
    {
     "name": "stdout",
     "output_type": "stream",
     "text": [
      "[328 500 421 422 421 499 542 416 417 418 499 418 499 418 643 499 420 499 541 540 628 543 540 510 543 628 543 540 628\n",
      " 542 499 421 331 328 329 332 329 331 500 331]\n",
      "[328 421 422 417 424 423 445 444 445 423 422 487 354 487 422 417 420 354 562 563 576 533 532 533 575 539 535 536 539\n",
      " 533 535 533 535 534 535 539 563 556 562 561]\n",
      "[328 418 643 599 605 606 548 546 475 476 548 648 548 547 546 475 476 384 490 488 491 488 489 488 489 488 491 384 383\n",
      " 386 385 386 385 384 385 384 491 384 385 384]\n"
     ]
    }
   ],
   "source": [
    "from module import walk_as_string\n",
    "walks = walk_as_string(G, componentLabels = y,params={'num_walks': 20, 'walk_length': 40})"
   ]
  },
  {
   "cell_type": "code",
   "execution_count": 19,
   "metadata": {},
   "outputs": [],
   "source": [
    "from fastai.text import *\n",
    "from sklearn.model_selection import train_test_split\n",
    "import numpy\n"
   ]
  },
  {
   "cell_type": "code",
   "execution_count": 20,
   "metadata": {},
   "outputs": [
    {
     "data": {
      "text/html": [
       "<div>\n",
       "<style scoped>\n",
       "    .dataframe tbody tr th:only-of-type {\n",
       "        vertical-align: middle;\n",
       "    }\n",
       "\n",
       "    .dataframe tbody tr th {\n",
       "        vertical-align: top;\n",
       "    }\n",
       "\n",
       "    .dataframe thead th {\n",
       "        text-align: right;\n",
       "    }\n",
       "</style>\n",
       "<table border=\"1\" class=\"dataframe\">\n",
       "  <thead>\n",
       "    <tr style=\"text-align: right;\">\n",
       "      <th></th>\n",
       "      <th>walk</th>\n",
       "      <th>label</th>\n",
       "      <th>start_node</th>\n",
       "      <th>component</th>\n",
       "    </tr>\n",
       "  </thead>\n",
       "  <tbody>\n",
       "    <tr>\n",
       "      <th>0</th>\n",
       "      <td>18 38  15 38  0 38  0 39  0 38  9 38  10 39  3...</td>\n",
       "      <td>1</td>\n",
       "      <td>328</td>\n",
       "      <td>2</td>\n",
       "    </tr>\n",
       "    <tr>\n",
       "      <th>1</th>\n",
       "      <td>18 38  0 38  0 39  7 39  15 39  9 39  10 39  7...</td>\n",
       "      <td>1</td>\n",
       "      <td>328</td>\n",
       "      <td>2</td>\n",
       "    </tr>\n",
       "    <tr>\n",
       "      <th>2</th>\n",
       "      <td>18 38  19 39  6 39  10 39  11 39  14 39  10 39...</td>\n",
       "      <td>1</td>\n",
       "      <td>328</td>\n",
       "      <td>2</td>\n",
       "    </tr>\n",
       "    <tr>\n",
       "      <th>3</th>\n",
       "      <td>18 38  15 38  7 39  10 39  10 39  7 39  10 39 ...</td>\n",
       "      <td>1</td>\n",
       "      <td>328</td>\n",
       "      <td>2</td>\n",
       "    </tr>\n",
       "    <tr>\n",
       "      <th>4</th>\n",
       "      <td>18 38  0 38  18 38  10 39  18 38  0 38  18 38 ...</td>\n",
       "      <td>1</td>\n",
       "      <td>328</td>\n",
       "      <td>2</td>\n",
       "    </tr>\n",
       "  </tbody>\n",
       "</table>\n",
       "</div>"
      ],
      "text/plain": [
       "                                                walk  label  start_node  \\\n",
       "0  18 38  15 38  0 38  0 39  0 38  9 38  10 39  3...      1         328   \n",
       "1  18 38  0 38  0 39  7 39  15 39  9 39  10 39  7...      1         328   \n",
       "2  18 38  19 39  6 39  10 39  11 39  14 39  10 39...      1         328   \n",
       "3  18 38  15 38  7 39  10 39  10 39  7 39  10 39 ...      1         328   \n",
       "4  18 38  0 38  18 38  10 39  18 38  0 38  18 38 ...      1         328   \n",
       "\n",
       "   component  \n",
       "0          2  \n",
       "1          2  \n",
       "2          2  \n",
       "3          2  \n",
       "4          2  "
      ]
     },
     "execution_count": 20,
     "metadata": {},
     "output_type": "execute_result"
    }
   ],
   "source": [
    "walks.head()"
   ]
  },
  {
   "cell_type": "code",
   "execution_count": 21,
   "metadata": {},
   "outputs": [
    {
     "data": {
      "text/plain": [
       "(1089040, 4)"
      ]
     },
     "execution_count": 21,
     "metadata": {},
     "output_type": "execute_result"
    }
   ],
   "source": [
    "walks.shape"
   ]
  },
  {
   "cell_type": "code",
   "execution_count": 22,
   "metadata": {},
   "outputs": [],
   "source": [
    "from sklearn.model_selection import train_test_split\n",
    "import numpy\n",
    "data = list(set(walks.component))\n",
    "x_traina ,x_test = train_test_split(data,test_size=0.1)    \n",
    "x_train ,x_val = train_test_split(x_traina,test_size=0.2)  \n"
   ]
  },
  {
   "cell_type": "code",
   "execution_count": 23,
   "metadata": {},
   "outputs": [
    {
     "data": {
      "text/plain": [
       "(787280, 4)"
      ]
     },
     "execution_count": 23,
     "metadata": {},
     "output_type": "execute_result"
    }
   ],
   "source": [
    "train_tmp = pd.DataFrame(x_train)\n",
    "train_tmp.columns = ['component']\n",
    "df_train = pd.merge(walks, train_tmp, on='component', sort=False)\n",
    "df_train.shape"
   ]
  },
  {
   "cell_type": "code",
   "execution_count": 24,
   "metadata": {},
   "outputs": [
    {
     "data": {
      "text/plain": [
       "(101320, 4)"
      ]
     },
     "execution_count": 24,
     "metadata": {},
     "output_type": "execute_result"
    }
   ],
   "source": [
    "test_tmp = pd.DataFrame(x_test)\n",
    "test_tmp.columns = ['component']\n",
    "df_test = pd.merge(walks, test_tmp, on='component', sort=False)\n",
    "df_test.shape"
   ]
  },
  {
   "cell_type": "code",
   "execution_count": 25,
   "metadata": {},
   "outputs": [
    {
     "data": {
      "text/plain": [
       "(200440, 4)"
      ]
     },
     "execution_count": 25,
     "metadata": {},
     "output_type": "execute_result"
    }
   ],
   "source": [
    "val_tmp = pd.DataFrame(x_val)\n",
    "val_tmp.columns = ['component']\n",
    "df_val = pd.merge(walks, val_tmp, on='component', sort=False)\n",
    "df_val.shape"
   ]
  },
  {
   "cell_type": "code",
   "execution_count": 26,
   "metadata": {},
   "outputs": [],
   "source": [
    "!mkdir result\n",
    "mypath = './result'"
   ]
  },
  {
   "cell_type": "code",
   "execution_count": 27,
   "metadata": {},
   "outputs": [],
   "source": [
    "data_lm = TextLMDataBunch.from_df(train_df=df_train[['walk', 'label']], valid_df=df_val[[\n",
    "                                  'walk', 'label']],  path=mypath, text_cols='walk', label_cols='label')\n"
   ]
  },
  {
   "cell_type": "code",
   "execution_count": 28,
   "metadata": {},
   "outputs": [],
   "source": [
    "data_lm.save('data_lm1.pkl')"
   ]
  },
  {
   "cell_type": "code",
   "execution_count": 29,
   "metadata": {},
   "outputs": [
    {
     "name": "stdout",
     "output_type": "stream",
     "text": [
      "total 901720\r\n",
      "-rw-r--r-- 1 root root 923358841 Oct  2 17:23 data_lm1.pkl\r\n"
     ]
    }
   ],
   "source": [
    "!ls -l ./result"
   ]
  },
  {
   "cell_type": "code",
   "execution_count": 30,
   "metadata": {},
   "outputs": [],
   "source": [
    "bs = 32\n",
    "# load the data (can be used in the future as well to prevent reprocessing)\n",
    "data_lm = load_data(mypath, 'data_lm1.pkl', bs=bs)"
   ]
  },
  {
   "cell_type": "code",
   "execution_count": 31,
   "metadata": {},
   "outputs": [
    {
     "data": {
      "text/html": [
       "<table border=\"1\" class=\"dataframe\">\n",
       "  <thead>\n",
       "    <tr style=\"text-align: right;\">\n",
       "      <th>idx</th>\n",
       "      <th>text</th>\n",
       "    </tr>\n",
       "  </thead>\n",
       "  <tbody>\n",
       "    <tr>\n",
       "      <td>0</td>\n",
       "      <td>39 7 39 10 39 10 39 15 38 10 39 xxbos 18 38 0 38 0 39 7 39 15 39 9 39 10 39 7 39 10 39 9 39 0 39 13 38 16 38 13 38 0 39 7 39 2 39 16 38 9 39 11 39 9 39 5 39 11 38 5 39 10 39 3 38 9 39 14 39 3 38</td>\n",
       "    </tr>\n",
       "    <tr>\n",
       "      <td>1</td>\n",
       "      <td>10 39 7 39 13 39 15 38 10 39 7 39 13 39 10 39 11 38 1 39 2 39 0 39 2 39 0 39 10 39 2 39 18 39 16 39 0 39 16 39 9 39 0 39 9 39 1 39 2 39 16 39 xxbos 7 39 2 39 11 39 7 39 11 39 18 39 11 39 7 39 12</td>\n",
       "    </tr>\n",
       "    <tr>\n",
       "      <td>2</td>\n",
       "      <td>38 19 39 7 39 9 39 3 39 15 39 xxbos 7 39 10 38 9 39 19 38 9 39 19 38 3 39 1 38 3 39 11 39 14 39 11 39 10 39 10 39 19 38 10 39 3 39 7 39 11 39 14 39 0 39 10 39 9 39 9 39 5 38 11 39 14 38 19 39 6 39</td>\n",
       "    </tr>\n",
       "    <tr>\n",
       "      <td>3</td>\n",
       "      <td>13 39 19 38 1 39 19 38 15 39 0 39 15 39 15 39 15 39 0 39 13 39 19 38 0 39 0 39 15 38 0 39 0 39 0 39 12 39 15 39 7 39 12 39 0 39 10 39 0 39 9 39 xxbos 10 39 10 39 9 39 9 39 10 39 10 39 19 39 18 39 19</td>\n",
       "    </tr>\n",
       "    <tr>\n",
       "      <td>4</td>\n",
       "      <td>39 14 39 10 39 4 39 13 39 14 39 xxbos 15 39 13 39 9 38 2 39 16 39 0 38 13 38 13 38 0 38 13 38 10 39 13 38 16 39 0 38 16 39 14 39 9 38 1 39 7 39 1 39 8 39 7 39 0 38 4 39 7 39 7 39 19 38 15 39 18 39</td>\n",
       "    </tr>\n",
       "  </tbody>\n",
       "</table>"
      ],
      "text/plain": [
       "<IPython.core.display.HTML object>"
      ]
     },
     "metadata": {},
     "output_type": "display_data"
    }
   ],
   "source": [
    "data_lm.show_batch() # take a look at the batch fed into the GPU"
   ]
  },
  {
   "cell_type": "code",
   "execution_count": 32,
   "metadata": {},
   "outputs": [],
   "source": [
    "awd_lstm_lm_config = dict(emb_sz=400, n_hid=600, n_layers=1, pad_token=1, qrnn=False, bidir=False, output_p=0.1, hidden_p=0.15, input_p=0.25, embed_p=0.02, weight_p=0.2, tie_weights=True, out_bias=True)\n",
    "awd_lstm_clas_config = dict(emb_sz=400, n_hid=600, n_layers=1, pad_token=1, qrnn=False, bidir=False, output_p=0.4,  hidden_p=0.3, input_p=0.4, embed_p=0.05, weight_p=0.5)"
   ]
  },
  {
   "cell_type": "code",
   "execution_count": 33,
   "metadata": {},
   "outputs": [
    {
     "data": {
      "text/html": [],
      "text/plain": [
       "<IPython.core.display.HTML object>"
      ]
     },
     "metadata": {},
     "output_type": "display_data"
    },
    {
     "name": "stdout",
     "output_type": "stream",
     "text": [
      "LR Finder is complete, type {learner_name}.recorder.plot() to see the graph.\n"
     ]
    },
    {
     "data": {
      "text/html": [
       "<table border=\"1\" class=\"dataframe\">\n",
       "  <thead>\n",
       "    <tr style=\"text-align: left;\">\n",
       "      <th>epoch</th>\n",
       "      <th>train_loss</th>\n",
       "      <th>valid_loss</th>\n",
       "      <th>accuracy</th>\n",
       "      <th>time</th>\n",
       "    </tr>\n",
       "  </thead>\n",
       "  <tbody>\n",
       "    <tr>\n",
       "      <td>0</td>\n",
       "      <td>1.654917</td>\n",
       "      <td>1.601938</td>\n",
       "      <td>0.489542</td>\n",
       "      <td>14:08</td>\n",
       "    </tr>\n",
       "  </tbody>\n",
       "</table>"
      ],
      "text/plain": [
       "<IPython.core.display.HTML object>"
      ]
     },
     "metadata": {},
     "output_type": "display_data"
    },
    {
     "data": {
      "image/png": "[encoded data removed]",
      "text/plain": [
       "<Figure size 432x288 with 1 Axes>"
      ]
     },
     "metadata": {},
     "output_type": "display_data"
    },
    {
     "data": {
      "image/png": "[encoded data removed]",
      "text/plain": [
       "<Figure size 432x288 with 1 Axes>"
      ]
     },
     "metadata": {
      "needs_background": "light"
     },
     "output_type": "display_data"
    },
    {
     "data": {
      "image/png": "[encoded data removed]",
      "text/plain": [
       "<Figure size 432x288 with 1 Axes>"
      ]
     },
     "metadata": {
      "needs_background": "light"
     },
     "output_type": "display_data"
    }
   ],
   "source": [
    "#learn = language_model_learner(data_lm, emb_sz=400, drop_mult=1.9, nl=1,nh = 600, callback_fns=ShowGraph)\n",
    "learn = language_model_learner(data_lm,arch=AWD_LSTM,config= awd_lstm_lm_config,drop_mult=1.9, callback_fns=ShowGraph,pretrained=False)\n",
    "learn.lr_find()\n",
    "learn.recorder.plot()\n",
    "learn.fit_one_cycle(1, 1e-2, moms=(0.8,0.7))\n",
    "learn.recorder.plot_losses()\n",
    "learn.save('fit-head')\n"
   ]
  },
  {
   "cell_type": "code",
   "execution_count": 34,
   "metadata": {},
   "outputs": [
    {
     "data": {
      "text/html": [],
      "text/plain": [
       "<IPython.core.display.HTML object>"
      ]
     },
     "metadata": {},
     "output_type": "display_data"
    },
    {
     "name": "stdout",
     "output_type": "stream",
     "text": [
      "LR Finder is complete, type {learner_name}.recorder.plot() to see the graph.\n"
     ]
    },
    {
     "data": {
      "image/png": "[encoded data removed]",
      "text/plain": [
       "<Figure size 432x288 with 1 Axes>"
      ]
     },
     "metadata": {
      "needs_background": "light"
     },
     "output_type": "display_data"
    }
   ],
   "source": [
    "learn.unfreeze()\n",
    "learn.lr_find()\n",
    "learn.recorder.plot()"
   ]
  },
  {
   "cell_type": "code",
   "execution_count": 35,
   "metadata": {},
   "outputs": [
    {
     "data": {
      "text/html": [
       "\n",
       "    <div>\n",
       "        <style>\n",
       "            /* Turns off some styling */\n",
       "            progress {\n",
       "                /* gets rid of default border in Firefox and Opera. */\n",
       "                border: none;\n",
       "                /* Needs to be in here for Safari polyfill so background images work as expected. */\n",
       "                background-size: auto;\n",
       "            }\n",
       "            .progress-bar-interrupted, .progress-bar-interrupted::-webkit-progress-bar {\n",
       "                background: #F44336;\n",
       "            }\n",
       "        </style>\n",
       "      <progress value='2' class='' max='4', style='width:300px; height:20px; vertical-align: middle;'></progress>\n",
       "      50.00% [2/4 28:34<28:34]\n",
       "    </div>\n",
       "    \n",
       "<table border=\"1\" class=\"dataframe\">\n",
       "  <thead>\n",
       "    <tr style=\"text-align: left;\">\n",
       "      <th>epoch</th>\n",
       "      <th>train_loss</th>\n",
       "      <th>valid_loss</th>\n",
       "      <th>accuracy</th>\n",
       "      <th>time</th>\n",
       "    </tr>\n",
       "  </thead>\n",
       "  <tbody>\n",
       "    <tr>\n",
       "      <td>0</td>\n",
       "      <td>1.694761</td>\n",
       "      <td>1.632175</td>\n",
       "      <td>0.481134</td>\n",
       "      <td>14:15</td>\n",
       "    </tr>\n",
       "    <tr>\n",
       "      <td>1</td>\n",
       "      <td>1.684396</td>\n",
       "      <td>1.624387</td>\n",
       "      <td>0.486694</td>\n",
       "      <td>14:16</td>\n",
       "    </tr>\n",
       "  </tbody>\n",
       "</table><p>\n",
       "\n",
       "    <div>\n",
       "        <style>\n",
       "            /* Turns off some styling */\n",
       "            progress {\n",
       "                /* gets rid of default border in Firefox and Opera. */\n",
       "                border: none;\n",
       "                /* Needs to be in here for Safari polyfill so background images work as expected. */\n",
       "                background-size: auto;\n",
       "            }\n",
       "            .progress-bar-interrupted, .progress-bar-interrupted::-webkit-progress-bar {\n",
       "                background: #F44336;\n",
       "            }\n",
       "        </style>\n",
       "      <progress value='0' class='progress-bar-interrupted' max='28469', style='width:300px; height:20px; vertical-align: middle;'></progress>\n",
       "      Interrupted\n",
       "    </div>\n",
       "    "
      ],
      "text/plain": [
       "<IPython.core.display.HTML object>"
      ]
     },
     "metadata": {},
     "output_type": "display_data"
    },
    {
     "data": {
      "image/png": "[encoded data removed]",
      "text/plain": [
       "<Figure size 432x288 with 1 Axes>"
      ]
     },
     "metadata": {},
     "output_type": "display_data"
    },
    {
     "ename": "KeyboardInterrupt",
     "evalue": "",
     "output_type": "error",
     "traceback": [
      "\u001b[0;31m---------------------------------------------------------------------------\u001b[0m",
      "\u001b[0;31mKeyboardInterrupt\u001b[0m                         Traceback (most recent call last)",
      "\u001b[0;32m<ipython-input-35-0cadd70d40d9>\u001b[0m in \u001b[0;36m<module>\u001b[0;34m\u001b[0m\n\u001b[0;32m----> 1\u001b[0;31m \u001b[0mlearn\u001b[0m\u001b[0;34m.\u001b[0m\u001b[0mfit_one_cycle\u001b[0m\u001b[0;34m(\u001b[0m\u001b[0;36m4\u001b[0m\u001b[0;34m,\u001b[0m \u001b[0;36m.01\u001b[0m\u001b[0;34m,\u001b[0m \u001b[0mmoms\u001b[0m\u001b[0;34m=\u001b[0m\u001b[0;34m(\u001b[0m\u001b[0;36m0.8\u001b[0m\u001b[0;34m,\u001b[0m\u001b[0;36m0.7\u001b[0m\u001b[0;34m)\u001b[0m\u001b[0;34m)\u001b[0m\u001b[0;34m\u001b[0m\u001b[0;34m\u001b[0m\u001b[0m\n\u001b[0m",
      "\u001b[0;32m/opt/conda/envs/fastai/lib/python3.6/site-packages/fastai/train.py\u001b[0m in \u001b[0;36mfit_one_cycle\u001b[0;34m(learn, cyc_len, max_lr, moms, div_factor, pct_start, final_div, wd, callbacks, tot_epochs, start_epoch)\u001b[0m\n\u001b[1;32m     21\u001b[0m     callbacks.append(OneCycleScheduler(learn, max_lr, moms=moms, div_factor=div_factor, pct_start=pct_start,\n\u001b[1;32m     22\u001b[0m                                        final_div=final_div, tot_epochs=tot_epochs, start_epoch=start_epoch))\n\u001b[0;32m---> 23\u001b[0;31m     \u001b[0mlearn\u001b[0m\u001b[0;34m.\u001b[0m\u001b[0mfit\u001b[0m\u001b[0;34m(\u001b[0m\u001b[0mcyc_len\u001b[0m\u001b[0;34m,\u001b[0m \u001b[0mmax_lr\u001b[0m\u001b[0;34m,\u001b[0m \u001b[0mwd\u001b[0m\u001b[0;34m=\u001b[0m\u001b[0mwd\u001b[0m\u001b[0;34m,\u001b[0m \u001b[0mcallbacks\u001b[0m\u001b[0;34m=\u001b[0m\u001b[0mcallbacks\u001b[0m\u001b[0;34m)\u001b[0m\u001b[0;34m\u001b[0m\u001b[0;34m\u001b[0m\u001b[0m\n\u001b[0m\u001b[1;32m     24\u001b[0m \u001b[0;34m\u001b[0m\u001b[0m\n\u001b[1;32m     25\u001b[0m def fit_fc(learn:Learner, tot_epochs:int=1, lr:float=defaults.lr,  moms:Tuple[float,float]=(0.95,0.85), start_pct:float=0.72,\n",
      "\u001b[0;32m/opt/conda/envs/fastai/lib/python3.6/site-packages/fastai/basic_train.py\u001b[0m in \u001b[0;36mfit\u001b[0;34m(self, epochs, lr, wd, callbacks)\u001b[0m\n\u001b[1;32m    198\u001b[0m         \u001b[0;32melse\u001b[0m\u001b[0;34m:\u001b[0m \u001b[0mself\u001b[0m\u001b[0;34m.\u001b[0m\u001b[0mopt\u001b[0m\u001b[0;34m.\u001b[0m\u001b[0mlr\u001b[0m\u001b[0;34m,\u001b[0m\u001b[0mself\u001b[0m\u001b[0;34m.\u001b[0m\u001b[0mopt\u001b[0m\u001b[0;34m.\u001b[0m\u001b[0mwd\u001b[0m \u001b[0;34m=\u001b[0m \u001b[0mlr\u001b[0m\u001b[0;34m,\u001b[0m\u001b[0mwd\u001b[0m\u001b[0;34m\u001b[0m\u001b[0;34m\u001b[0m\u001b[0m\n\u001b[1;32m    199\u001b[0m         \u001b[0mcallbacks\u001b[0m \u001b[0;34m=\u001b[0m \u001b[0;34m[\u001b[0m\u001b[0mcb\u001b[0m\u001b[0;34m(\u001b[0m\u001b[0mself\u001b[0m\u001b[0;34m)\u001b[0m \u001b[0;32mfor\u001b[0m \u001b[0mcb\u001b[0m \u001b[0;32min\u001b[0m \u001b[0mself\u001b[0m\u001b[0;34m.\u001b[0m\u001b[0mcallback_fns\u001b[0m \u001b[0;34m+\u001b[0m \u001b[0mlistify\u001b[0m\u001b[0;34m(\u001b[0m\u001b[0mdefaults\u001b[0m\u001b[0;34m.\u001b[0m\u001b[0mextra_callback_fns\u001b[0m\u001b[0;34m)\u001b[0m\u001b[0;34m]\u001b[0m \u001b[0;34m+\u001b[0m \u001b[0mlistify\u001b[0m\u001b[0;34m(\u001b[0m\u001b[0mcallbacks\u001b[0m\u001b[0;34m)\u001b[0m\u001b[0;34m\u001b[0m\u001b[0;34m\u001b[0m\u001b[0m\n\u001b[0;32m--> 200\u001b[0;31m         \u001b[0mfit\u001b[0m\u001b[0;34m(\u001b[0m\u001b[0mepochs\u001b[0m\u001b[0;34m,\u001b[0m \u001b[0mself\u001b[0m\u001b[0;34m,\u001b[0m \u001b[0mmetrics\u001b[0m\u001b[0;34m=\u001b[0m\u001b[0mself\u001b[0m\u001b[0;34m.\u001b[0m\u001b[0mmetrics\u001b[0m\u001b[0;34m,\u001b[0m \u001b[0mcallbacks\u001b[0m\u001b[0;34m=\u001b[0m\u001b[0mself\u001b[0m\u001b[0;34m.\u001b[0m\u001b[0mcallbacks\u001b[0m\u001b[0;34m+\u001b[0m\u001b[0mcallbacks\u001b[0m\u001b[0;34m)\u001b[0m\u001b[0;34m\u001b[0m\u001b[0;34m\u001b[0m\u001b[0m\n\u001b[0m\u001b[1;32m    201\u001b[0m \u001b[0;34m\u001b[0m\u001b[0m\n\u001b[1;32m    202\u001b[0m     \u001b[0;32mdef\u001b[0m \u001b[0mcreate_opt\u001b[0m\u001b[0;34m(\u001b[0m\u001b[0mself\u001b[0m\u001b[0;34m,\u001b[0m \u001b[0mlr\u001b[0m\u001b[0;34m:\u001b[0m\u001b[0mFloats\u001b[0m\u001b[0;34m,\u001b[0m \u001b[0mwd\u001b[0m\u001b[0;34m:\u001b[0m\u001b[0mFloats\u001b[0m\u001b[0;34m=\u001b[0m\u001b[0;36m0.\u001b[0m\u001b[0;34m)\u001b[0m\u001b[0;34m->\u001b[0m\u001b[0;32mNone\u001b[0m\u001b[0;34m:\u001b[0m\u001b[0;34m\u001b[0m\u001b[0;34m\u001b[0m\u001b[0m\n",
      "\u001b[0;32m/opt/conda/envs/fastai/lib/python3.6/site-packages/fastai/basic_train.py\u001b[0m in \u001b[0;36mfit\u001b[0;34m(epochs, learn, callbacks, metrics)\u001b[0m\n\u001b[1;32m     99\u001b[0m             \u001b[0;32mfor\u001b[0m \u001b[0mxb\u001b[0m\u001b[0;34m,\u001b[0m\u001b[0myb\u001b[0m \u001b[0;32min\u001b[0m \u001b[0mprogress_bar\u001b[0m\u001b[0;34m(\u001b[0m\u001b[0mlearn\u001b[0m\u001b[0;34m.\u001b[0m\u001b[0mdata\u001b[0m\u001b[0;34m.\u001b[0m\u001b[0mtrain_dl\u001b[0m\u001b[0;34m,\u001b[0m \u001b[0mparent\u001b[0m\u001b[0;34m=\u001b[0m\u001b[0mpbar\u001b[0m\u001b[0;34m)\u001b[0m\u001b[0;34m:\u001b[0m\u001b[0;34m\u001b[0m\u001b[0;34m\u001b[0m\u001b[0m\n\u001b[1;32m    100\u001b[0m                 \u001b[0mxb\u001b[0m\u001b[0;34m,\u001b[0m \u001b[0myb\u001b[0m \u001b[0;34m=\u001b[0m \u001b[0mcb_handler\u001b[0m\u001b[0;34m.\u001b[0m\u001b[0mon_batch_begin\u001b[0m\u001b[0;34m(\u001b[0m\u001b[0mxb\u001b[0m\u001b[0;34m,\u001b[0m \u001b[0myb\u001b[0m\u001b[0;34m)\u001b[0m\u001b[0;34m\u001b[0m\u001b[0;34m\u001b[0m\u001b[0m\n\u001b[0;32m--> 101\u001b[0;31m                 \u001b[0mloss\u001b[0m \u001b[0;34m=\u001b[0m \u001b[0mloss_batch\u001b[0m\u001b[0;34m(\u001b[0m\u001b[0mlearn\u001b[0m\u001b[0;34m.\u001b[0m\u001b[0mmodel\u001b[0m\u001b[0;34m,\u001b[0m \u001b[0mxb\u001b[0m\u001b[0;34m,\u001b[0m \u001b[0myb\u001b[0m\u001b[0;34m,\u001b[0m \u001b[0mlearn\u001b[0m\u001b[0;34m.\u001b[0m\u001b[0mloss_func\u001b[0m\u001b[0;34m,\u001b[0m \u001b[0mlearn\u001b[0m\u001b[0;34m.\u001b[0m\u001b[0mopt\u001b[0m\u001b[0;34m,\u001b[0m \u001b[0mcb_handler\u001b[0m\u001b[0;34m)\u001b[0m\u001b[0;34m\u001b[0m\u001b[0;34m\u001b[0m\u001b[0m\n\u001b[0m\u001b[1;32m    102\u001b[0m                 \u001b[0;32mif\u001b[0m \u001b[0mcb_handler\u001b[0m\u001b[0;34m.\u001b[0m\u001b[0mon_batch_end\u001b[0m\u001b[0;34m(\u001b[0m\u001b[0mloss\u001b[0m\u001b[0;34m)\u001b[0m\u001b[0;34m:\u001b[0m \u001b[0;32mbreak\u001b[0m\u001b[0;34m\u001b[0m\u001b[0;34m\u001b[0m\u001b[0m\n\u001b[1;32m    103\u001b[0m \u001b[0;34m\u001b[0m\u001b[0m\n",
      "\u001b[0;32m/opt/conda/envs/fastai/lib/python3.6/site-packages/fastai/basic_train.py\u001b[0m in \u001b[0;36mloss_batch\u001b[0;34m(model, xb, yb, loss_func, opt, cb_handler)\u001b[0m\n\u001b[1;32m     31\u001b[0m \u001b[0;34m\u001b[0m\u001b[0m\n\u001b[1;32m     32\u001b[0m     \u001b[0;32mif\u001b[0m \u001b[0mopt\u001b[0m \u001b[0;32mis\u001b[0m \u001b[0;32mnot\u001b[0m \u001b[0;32mNone\u001b[0m\u001b[0;34m:\u001b[0m\u001b[0;34m\u001b[0m\u001b[0;34m\u001b[0m\u001b[0m\n\u001b[0;32m---> 33\u001b[0;31m         \u001b[0mloss\u001b[0m\u001b[0;34m,\u001b[0m\u001b[0mskip_bwd\u001b[0m \u001b[0;34m=\u001b[0m \u001b[0mcb_handler\u001b[0m\u001b[0;34m.\u001b[0m\u001b[0mon_backward_begin\u001b[0m\u001b[0;34m(\u001b[0m\u001b[0mloss\u001b[0m\u001b[0;34m)\u001b[0m\u001b[0;34m\u001b[0m\u001b[0;34m\u001b[0m\u001b[0m\n\u001b[0m\u001b[1;32m     34\u001b[0m         \u001b[0;32mif\u001b[0m \u001b[0;32mnot\u001b[0m \u001b[0mskip_bwd\u001b[0m\u001b[0;34m:\u001b[0m                     \u001b[0mloss\u001b[0m\u001b[0;34m.\u001b[0m\u001b[0mbackward\u001b[0m\u001b[0;34m(\u001b[0m\u001b[0;34m)\u001b[0m\u001b[0;34m\u001b[0m\u001b[0;34m\u001b[0m\u001b[0m\n\u001b[1;32m     35\u001b[0m         \u001b[0;32mif\u001b[0m \u001b[0;32mnot\u001b[0m \u001b[0mcb_handler\u001b[0m\u001b[0;34m.\u001b[0m\u001b[0mon_backward_end\u001b[0m\u001b[0;34m(\u001b[0m\u001b[0;34m)\u001b[0m\u001b[0;34m:\u001b[0m \u001b[0mopt\u001b[0m\u001b[0;34m.\u001b[0m\u001b[0mstep\u001b[0m\u001b[0;34m(\u001b[0m\u001b[0;34m)\u001b[0m\u001b[0;34m\u001b[0m\u001b[0;34m\u001b[0m\u001b[0m\n",
      "\u001b[0;32m/opt/conda/envs/fastai/lib/python3.6/site-packages/fastai/callback.py\u001b[0m in \u001b[0;36mon_backward_begin\u001b[0;34m(self, loss)\u001b[0m\n\u001b[1;32m    288\u001b[0m     \u001b[0;32mdef\u001b[0m \u001b[0mon_backward_begin\u001b[0m\u001b[0;34m(\u001b[0m\u001b[0mself\u001b[0m\u001b[0;34m,\u001b[0m \u001b[0mloss\u001b[0m\u001b[0;34m:\u001b[0m\u001b[0mTensor\u001b[0m\u001b[0;34m)\u001b[0m\u001b[0;34m->\u001b[0m\u001b[0mTuple\u001b[0m\u001b[0;34m[\u001b[0m\u001b[0mAny\u001b[0m\u001b[0;34m,\u001b[0m\u001b[0mAny\u001b[0m\u001b[0;34m]\u001b[0m\u001b[0;34m:\u001b[0m\u001b[0;34m\u001b[0m\u001b[0;34m\u001b[0m\u001b[0m\n\u001b[1;32m    289\u001b[0m         \u001b[0;34m\"Handle gradient calculation on `loss`.\"\u001b[0m\u001b[0;34m\u001b[0m\u001b[0;34m\u001b[0m\u001b[0m\n\u001b[0;32m--> 290\u001b[0;31m         \u001b[0mself\u001b[0m\u001b[0;34m.\u001b[0m\u001b[0msmoothener\u001b[0m\u001b[0;34m.\u001b[0m\u001b[0madd_value\u001b[0m\u001b[0;34m(\u001b[0m\u001b[0mloss\u001b[0m\u001b[0;34m.\u001b[0m\u001b[0mfloat\u001b[0m\u001b[0;34m(\u001b[0m\u001b[0;34m)\u001b[0m\u001b[0;34m.\u001b[0m\u001b[0mdetach\u001b[0m\u001b[0;34m(\u001b[0m\u001b[0;34m)\u001b[0m\u001b[0;34m.\u001b[0m\u001b[0mcpu\u001b[0m\u001b[0;34m(\u001b[0m\u001b[0;34m)\u001b[0m\u001b[0;34m)\u001b[0m\u001b[0;34m\u001b[0m\u001b[0;34m\u001b[0m\u001b[0m\n\u001b[0m\u001b[1;32m    291\u001b[0m         \u001b[0mself\u001b[0m\u001b[0;34m.\u001b[0m\u001b[0mstate_dict\u001b[0m\u001b[0;34m[\u001b[0m\u001b[0;34m'last_loss'\u001b[0m\u001b[0;34m]\u001b[0m\u001b[0;34m,\u001b[0m \u001b[0mself\u001b[0m\u001b[0;34m.\u001b[0m\u001b[0mstate_dict\u001b[0m\u001b[0;34m[\u001b[0m\u001b[0;34m'smooth_loss'\u001b[0m\u001b[0;34m]\u001b[0m \u001b[0;34m=\u001b[0m \u001b[0mloss\u001b[0m\u001b[0;34m,\u001b[0m \u001b[0mself\u001b[0m\u001b[0;34m.\u001b[0m\u001b[0msmoothener\u001b[0m\u001b[0;34m.\u001b[0m\u001b[0msmooth\u001b[0m\u001b[0;34m\u001b[0m\u001b[0;34m\u001b[0m\u001b[0m\n\u001b[1;32m    292\u001b[0m         \u001b[0mself\u001b[0m\u001b[0;34m(\u001b[0m\u001b[0;34m'backward_begin'\u001b[0m\u001b[0;34m,\u001b[0m \u001b[0mcall_mets\u001b[0m\u001b[0;34m=\u001b[0m\u001b[0;32mFalse\u001b[0m\u001b[0;34m)\u001b[0m\u001b[0;34m\u001b[0m\u001b[0;34m\u001b[0m\u001b[0m\n",
      "\u001b[0;31mKeyboardInterrupt\u001b[0m: "
     ]
    },
    {
     "data": {
      "image/png": "[encoded data removed]",
      "text/plain": [
       "<Figure size 432x288 with 1 Axes>"
      ]
     },
     "metadata": {
      "needs_background": "light"
     },
     "output_type": "display_data"
    }
   ],
   "source": [
    "learn.fit_one_cycle(4, .01, moms=(0.8,0.7))"
   ]
  },
  {
   "cell_type": "code",
   "execution_count": 45,
   "metadata": {},
   "outputs": [],
   "source": [
    "learn.save('fit-head')"
   ]
  },
  {
   "cell_type": "code",
   "execution_count": 46,
   "metadata": {},
   "outputs": [],
   "source": [
    "learn.save_encoder('fine_tuned_enc3')"
   ]
  },
  {
   "cell_type": "code",
   "execution_count": 47,
   "metadata": {},
   "outputs": [
    {
     "data": {
      "text/html": [
       "<div>\n",
       "<style scoped>\n",
       "    .dataframe tbody tr th:only-of-type {\n",
       "        vertical-align: middle;\n",
       "    }\n",
       "\n",
       "    .dataframe tbody tr th {\n",
       "        vertical-align: top;\n",
       "    }\n",
       "\n",
       "    .dataframe thead th {\n",
       "        text-align: right;\n",
       "    }\n",
       "</style>\n",
       "<table border=\"1\" class=\"dataframe\">\n",
       "  <thead>\n",
       "    <tr style=\"text-align: right;\">\n",
       "      <th></th>\n",
       "      <th>walk</th>\n",
       "      <th>label</th>\n",
       "      <th>start_node</th>\n",
       "      <th>component</th>\n",
       "      <th>index1</th>\n",
       "      <th>RN</th>\n",
       "    </tr>\n",
       "  </thead>\n",
       "  <tbody>\n",
       "  </tbody>\n",
       "</table>\n",
       "</div>"
      ],
      "text/plain": [
       "Empty DataFrame\n",
       "Columns: [walk, label, start_node, component, index1, RN]\n",
       "Index: []"
      ]
     },
     "execution_count": 47,
     "metadata": {},
     "output_type": "execute_result"
    }
   ],
   "source": [
    "df = walks.sample(frac=1).reset_index(drop=True)\n",
    "df['index1']=df.index\n",
    "\n",
    "g = df.groupby('component')\n",
    "df['RN'] = g['index1'].rank(method='min')\n",
    "\n",
    "df[df['component']==1].head()\n"
   ]
  },
  {
   "cell_type": "code",
   "execution_count": 48,
   "metadata": {},
   "outputs": [
    {
     "data": {
      "text/html": [
       "<div>\n",
       "<style scoped>\n",
       "    .dataframe tbody tr th:only-of-type {\n",
       "        vertical-align: middle;\n",
       "    }\n",
       "\n",
       "    .dataframe tbody tr th {\n",
       "        vertical-align: top;\n",
       "    }\n",
       "\n",
       "    .dataframe thead th {\n",
       "        text-align: right;\n",
       "    }\n",
       "</style>\n",
       "<table border=\"1\" class=\"dataframe\">\n",
       "  <thead>\n",
       "    <tr style=\"text-align: right;\">\n",
       "      <th></th>\n",
       "      <th>label</th>\n",
       "      <th>text</th>\n",
       "    </tr>\n",
       "    <tr>\n",
       "      <th>component</th>\n",
       "      <th></th>\n",
       "      <th></th>\n",
       "    </tr>\n",
       "  </thead>\n",
       "  <tbody>\n",
       "    <tr>\n",
       "      <th>2</th>\n",
       "      <td>1</td>\n",
       "      <td>16 39  19 39  16 39  16 39  19 39  16 39  10 3...</td>\n",
       "    </tr>\n",
       "    <tr>\n",
       "      <th>11</th>\n",
       "      <td>1</td>\n",
       "      <td>1 39  16 38  19 39  10 39  19 39  16 38  10 39...</td>\n",
       "    </tr>\n",
       "    <tr>\n",
       "      <th>17</th>\n",
       "      <td>1</td>\n",
       "      <td>4 39  10 39  10 38  3 39  4 39  3 39  7 39  3 ...</td>\n",
       "    </tr>\n",
       "    <tr>\n",
       "      <th>30</th>\n",
       "      <td>1</td>\n",
       "      <td>15 38  7 39  11 39  7 38  6 39  2 39  7 38  11...</td>\n",
       "    </tr>\n",
       "    <tr>\n",
       "      <th>37</th>\n",
       "      <td>1</td>\n",
       "      <td>14 39  15 39  3 38  15 39  10 39  15 39  10 39...</td>\n",
       "    </tr>\n",
       "  </tbody>\n",
       "</table>\n",
       "</div>"
      ],
      "text/plain": [
       "           label                                               text\n",
       "component                                                          \n",
       "2              1  16 39  19 39  16 39  16 39  19 39  16 39  10 3...\n",
       "11             1  1 39  16 38  19 39  10 39  19 39  16 38  10 39...\n",
       "17             1  4 39  10 39  10 38  3 39  4 39  3 39  7 39  3 ...\n",
       "30             1  15 38  7 39  11 39  7 38  6 39  2 39  7 38  11...\n",
       "37             1  14 39  15 39  3 38  15 39  10 39  15 39  10 39..."
      ]
     },
     "execution_count": 48,
     "metadata": {},
     "output_type": "execute_result"
    }
   ],
   "source": [
    "df.groupby('component')['walk'].apply(lambda x: ', '.join(x))\n",
    "\n",
    "def f(x):\n",
    "     return Series(dict(label = x['label'].min(), text =  ', '.join(x['walk'])))\n",
    "df_text_comp = df[(df['RN']<=9.0)].groupby('component').apply(f)\n",
    "df_text_comp.head()"
   ]
  },
  {
   "cell_type": "code",
   "execution_count": 49,
   "metadata": {},
   "outputs": [
    {
     "data": {
      "text/html": [
       "<div>\n",
       "<style scoped>\n",
       "    .dataframe tbody tr th:only-of-type {\n",
       "        vertical-align: middle;\n",
       "    }\n",
       "\n",
       "    .dataframe tbody tr th {\n",
       "        vertical-align: top;\n",
       "    }\n",
       "\n",
       "    .dataframe thead th {\n",
       "        text-align: right;\n",
       "    }\n",
       "</style>\n",
       "<table border=\"1\" class=\"dataframe\">\n",
       "  <thead>\n",
       "    <tr style=\"text-align: right;\">\n",
       "      <th></th>\n",
       "      <th>label</th>\n",
       "      <th>text</th>\n",
       "      <th>component</th>\n",
       "    </tr>\n",
       "    <tr>\n",
       "      <th>comp</th>\n",
       "      <th></th>\n",
       "      <th></th>\n",
       "      <th></th>\n",
       "    </tr>\n",
       "  </thead>\n",
       "  <tbody>\n",
       "    <tr>\n",
       "      <th>2</th>\n",
       "      <td>1</td>\n",
       "      <td>16 39  19 39  16 39  16 39  19 39  16 39  10 3...</td>\n",
       "      <td>2</td>\n",
       "    </tr>\n",
       "    <tr>\n",
       "      <th>11</th>\n",
       "      <td>1</td>\n",
       "      <td>1 39  16 38  19 39  10 39  19 39  16 38  10 39...</td>\n",
       "      <td>11</td>\n",
       "    </tr>\n",
       "    <tr>\n",
       "      <th>17</th>\n",
       "      <td>1</td>\n",
       "      <td>4 39  10 39  10 38  3 39  4 39  3 39  7 39  3 ...</td>\n",
       "      <td>17</td>\n",
       "    </tr>\n",
       "    <tr>\n",
       "      <th>30</th>\n",
       "      <td>1</td>\n",
       "      <td>15 38  7 39  11 39  7 38  6 39  2 39  7 38  11...</td>\n",
       "      <td>30</td>\n",
       "    </tr>\n",
       "    <tr>\n",
       "      <th>37</th>\n",
       "      <td>1</td>\n",
       "      <td>14 39  15 39  3 38  15 39  10 39  15 39  10 39...</td>\n",
       "      <td>37</td>\n",
       "    </tr>\n",
       "  </tbody>\n",
       "</table>\n",
       "</div>"
      ],
      "text/plain": [
       "      label                                               text  component\n",
       "comp                                                                     \n",
       "2         1  16 39  19 39  16 39  16 39  19 39  16 39  10 3...          2\n",
       "11        1  1 39  16 38  19 39  10 39  19 39  16 38  10 39...         11\n",
       "17        1  4 39  10 39  10 38  3 39  4 39  3 39  7 39  3 ...         17\n",
       "30        1  15 38  7 39  11 39  7 38  6 39  2 39  7 38  11...         30\n",
       "37        1  14 39  15 39  3 38  15 39  10 39  15 39  10 39...         37"
      ]
     },
     "execution_count": 49,
     "metadata": {},
     "output_type": "execute_result"
    }
   ],
   "source": [
    "df_text_comp['component']= df_text_comp.index\n",
    "df_text_comp.index.names = ['comp']\n",
    "df_text_comp.head()"
   ]
  },
  {
   "cell_type": "code",
   "execution_count": 50,
   "metadata": {},
   "outputs": [
    {
     "data": {
      "text/plain": [
       "((144, 3), (36, 3), (20, 3), 0.72)"
      ]
     },
     "execution_count": 50,
     "metadata": {},
     "output_type": "execute_result"
    }
   ],
   "source": [
    "train = pd.merge(df_text_comp, train_tmp, on='component', sort=False)\n",
    "test =  pd.merge(df_text_comp, test_tmp, on='component', sort=False)\n",
    "val =  pd.merge(df_text_comp, val_tmp, on='component', sort=False)\n",
    "(train.shape,val.shape, test.shape, train.shape[0]/df_text_comp.shape[0])"
   ]
  },
  {
   "cell_type": "code",
   "execution_count": 51,
   "metadata": {},
   "outputs": [],
   "source": [
    "bs=32#48\n",
    "\n",
    "data_clas = TextClasDataBunch.from_df(train_df=train[['text','label']],valid_df=val[['text','label']],  path=mypath, text_cols='text',label_cols = 'label', vocab=data_lm.vocab)\n"
   ]
  },
  {
   "cell_type": "code",
   "execution_count": 52,
   "metadata": {},
   "outputs": [],
   "source": [
    "data_clas.save('tmp_clas1')"
   ]
  },
  {
   "cell_type": "code",
   "execution_count": 53,
   "metadata": {},
   "outputs": [],
   "source": [
    "data_clas = load_data(mypath, 'tmp_clas1', bs=bs)"
   ]
  },
  {
   "cell_type": "code",
   "execution_count": 54,
   "metadata": {},
   "outputs": [
    {
     "data": {
      "text/html": [
       "<table border=\"1\" class=\"dataframe\">\n",
       "  <thead>\n",
       "    <tr style=\"text-align: right;\">\n",
       "      <th>text</th>\n",
       "      <th>target</th>\n",
       "    </tr>\n",
       "  </thead>\n",
       "  <tbody>\n",
       "    <tr>\n",
       "      <td>xxbos 6 39 9 38 7 38 6 39 9 38 6 39 6 39 13 39 5 38 12 39 11 39 16 39 10 39 16 39 0 39 16 39 0 39 3 39 0 39 3 39 6 39 7 39 1 39 2 39 16 39 14 38 16 39 9 39 14 39 6 39 17 39 9 39 16 39 14 38 7</td>\n",
       "      <td>1</td>\n",
       "    </tr>\n",
       "    <tr>\n",
       "      <td>xxbos 5 39 11 39 15 38 16 38 2 38 18 38 3 38 6 38 14 38 5 39 2 39 8 38 3 38 15 38 15 38 17 39 0 39 1 38 0 39 17 39 3 38 18 38 2 38 5 39 11 39 5 38 10 38 5 39 18 38 2 38 2 38 16 38 2 38 18 38 2</td>\n",
       "      <td>1</td>\n",
       "    </tr>\n",
       "    <tr>\n",
       "      <td>xxbos 1 41 18 40 2 38 3 38 2 38 6 38 9 40 11 40 11 40 18 40 2 38 2 40 18 40 2 40 15 41 19 40 15 41 15 40 2 40 2 40 18 40 3 38 6 38 19 38 3 40 19 38 18 40 11 40 13 38 8 40 16 40 3 40 19 38 6 38 19</td>\n",
       "      <td>2</td>\n",
       "    </tr>\n",
       "    <tr>\n",
       "      <td>xxbos 1 38 9 38 8 41 15 40 4 40 19 38 5 38 8 38 9 38 10 40 8 38 5 38 19 38 15 40 4 40 15 40 5 38 19 38 4 40 15 40 5 38 8 38 10 40 9 38 1 38 10 40 8 41 10 40 8 41 19 38 5 38 15 40 8 41 19 38 10</td>\n",
       "      <td>2</td>\n",
       "    </tr>\n",
       "    <tr>\n",
       "      <td>xxbos 3 38 14 39 3 38 2 38 0 38 8 38 14 39 5 38 16 39 8 38 0 38 1 38 8 38 14 39 2 38 3 38 5 38 3 38 5 38 15 39 8 38 1 38 0 38 6 39 0 38 8 38 16 39 5 38 16 39 0 38 8 38 14 39 5 38 14 39 2</td>\n",
       "      <td>1</td>\n",
       "    </tr>\n",
       "  </tbody>\n",
       "</table>"
      ],
      "text/plain": [
       "<IPython.core.display.HTML object>"
      ]
     },
     "metadata": {},
     "output_type": "display_data"
    }
   ],
   "source": [
    "data_clas.show_batch()"
   ]
  },
  {
   "cell_type": "code",
   "execution_count": 55,
   "metadata": {},
   "outputs": [],
   "source": [
    "#learn = text_classifier_learner(data_clas, emb_sz=400, drop_mult=1.9, nl=1,nh = 600)\n",
    "learn = text_classifier_learner(data_clas,arch=AWD_LSTM,config = awd_lstm_clas_config, drop_mult=2.0,pretrained=False)\n",
    "learn.load_encoder('fine_tuned_enc3')\n",
    "learn.freeze()"
   ]
  },
  {
   "cell_type": "code",
   "execution_count": 56,
   "metadata": {},
   "outputs": [
    {
     "data": {
      "text/html": [],
      "text/plain": [
       "<IPython.core.display.HTML object>"
      ]
     },
     "metadata": {},
     "output_type": "display_data"
    },
    {
     "name": "stdout",
     "output_type": "stream",
     "text": [
      "LR Finder is complete, type {learner_name}.recorder.plot() to see the graph.\n"
     ]
    }
   ],
   "source": [
    "learn.lr_find()"
   ]
  },
  {
   "cell_type": "code",
   "execution_count": 57,
   "metadata": {},
   "outputs": [
    {
     "data": {
      "image/png": "[encoded data removed]",
      "text/plain": [
       "<Figure size 432x288 with 1 Axes>"
      ]
     },
     "metadata": {
      "needs_background": "light"
     },
     "output_type": "display_data"
    }
   ],
   "source": [
    "learn.recorder.plot()"
   ]
  },
  {
   "cell_type": "code",
   "execution_count": 58,
   "metadata": {},
   "outputs": [
    {
     "data": {
      "text/html": [
       "<table border=\"1\" class=\"dataframe\">\n",
       "  <thead>\n",
       "    <tr style=\"text-align: left;\">\n",
       "      <th>epoch</th>\n",
       "      <th>train_loss</th>\n",
       "      <th>valid_loss</th>\n",
       "      <th>accuracy</th>\n",
       "      <th>time</th>\n",
       "    </tr>\n",
       "  </thead>\n",
       "  <tbody>\n",
       "    <tr>\n",
       "      <td>0</td>\n",
       "      <td>0.452556</td>\n",
       "      <td>0.602855</td>\n",
       "      <td>0.666667</td>\n",
       "      <td>00:02</td>\n",
       "    </tr>\n",
       "  </tbody>\n",
       "</table>"
      ],
      "text/plain": [
       "<IPython.core.display.HTML object>"
      ]
     },
     "metadata": {},
     "output_type": "display_data"
    }
   ],
   "source": [
    "learn.fit_one_cycle(1, 5e-02, moms=(0.8,0.7))"
   ]
  },
  {
   "cell_type": "code",
   "execution_count": 59,
   "metadata": {},
   "outputs": [],
   "source": [
    "def predict(test,learn):\n",
    "  predictions=[]\n",
    "  for index, row in test.iterrows():\n",
    "    p=learn.predict(row['text'])\n",
    "    #print((row['label'],str(p[0])))\n",
    "    predictions.append((row['text'],str(row['label']),str(p[0])))\n",
    "  dfpred = pd.DataFrame(predictions)\n",
    "  dfpred.columns=['text','label','prediction']\n",
    "  match=dfpred[(dfpred['label']==dfpred['prediction'])]\n",
    "  #match.head()\n",
    "  print((dfpred.shape[0], match.shape[0],match.shape[0]/dfpred.shape[0]))"
   ]
  },
  {
   "cell_type": "code",
   "execution_count": 60,
   "metadata": {},
   "outputs": [
    {
     "data": {
      "text/html": [
       "<table border=\"1\" class=\"dataframe\">\n",
       "  <thead>\n",
       "    <tr style=\"text-align: left;\">\n",
       "      <th>epoch</th>\n",
       "      <th>train_loss</th>\n",
       "      <th>valid_loss</th>\n",
       "      <th>accuracy</th>\n",
       "      <th>time</th>\n",
       "    </tr>\n",
       "  </thead>\n",
       "  <tbody>\n",
       "    <tr>\n",
       "      <td>0</td>\n",
       "      <td>0.258980</td>\n",
       "      <td>0.430088</td>\n",
       "      <td>0.944444</td>\n",
       "      <td>00:02</td>\n",
       "    </tr>\n",
       "  </tbody>\n",
       "</table>"
      ],
      "text/plain": [
       "<IPython.core.display.HTML object>"
      ]
     },
     "metadata": {},
     "output_type": "display_data"
    }
   ],
   "source": [
    "learn.fit_one_cycle(1, 5e-02, moms=(0.8,0.7))"
   ]
  },
  {
   "cell_type": "code",
   "execution_count": 61,
   "metadata": {},
   "outputs": [
    {
     "data": {
      "text/html": [
       "<table border=\"1\" class=\"dataframe\">\n",
       "  <thead>\n",
       "    <tr style=\"text-align: left;\">\n",
       "      <th>epoch</th>\n",
       "      <th>train_loss</th>\n",
       "      <th>valid_loss</th>\n",
       "      <th>accuracy</th>\n",
       "      <th>time</th>\n",
       "    </tr>\n",
       "  </thead>\n",
       "  <tbody>\n",
       "    <tr>\n",
       "      <td>0</td>\n",
       "      <td>0.274365</td>\n",
       "      <td>0.406596</td>\n",
       "      <td>0.944444</td>\n",
       "      <td>00:03</td>\n",
       "    </tr>\n",
       "    <tr>\n",
       "      <td>1</td>\n",
       "      <td>0.261783</td>\n",
       "      <td>0.402246</td>\n",
       "      <td>0.944444</td>\n",
       "      <td>00:03</td>\n",
       "    </tr>\n",
       "    <tr>\n",
       "      <td>2</td>\n",
       "      <td>0.256659</td>\n",
       "      <td>0.377461</td>\n",
       "      <td>0.944444</td>\n",
       "      <td>00:03</td>\n",
       "    </tr>\n",
       "    <tr>\n",
       "      <td>3</td>\n",
       "      <td>0.222390</td>\n",
       "      <td>0.340119</td>\n",
       "      <td>0.944444</td>\n",
       "      <td>00:03</td>\n",
       "    </tr>\n",
       "    <tr>\n",
       "      <td>4</td>\n",
       "      <td>0.217500</td>\n",
       "      <td>0.302469</td>\n",
       "      <td>0.944444</td>\n",
       "      <td>00:03</td>\n",
       "    </tr>\n",
       "    <tr>\n",
       "      <td>5</td>\n",
       "      <td>0.221610</td>\n",
       "      <td>0.273771</td>\n",
       "      <td>0.916667</td>\n",
       "      <td>00:03</td>\n",
       "    </tr>\n",
       "    <tr>\n",
       "      <td>6</td>\n",
       "      <td>0.221661</td>\n",
       "      <td>0.263034</td>\n",
       "      <td>0.916667</td>\n",
       "      <td>00:03</td>\n",
       "    </tr>\n",
       "    <tr>\n",
       "      <td>7</td>\n",
       "      <td>0.222362</td>\n",
       "      <td>0.249925</td>\n",
       "      <td>0.916667</td>\n",
       "      <td>00:03</td>\n",
       "    </tr>\n",
       "  </tbody>\n",
       "</table>"
      ],
      "text/plain": [
       "<IPython.core.display.HTML object>"
      ]
     },
     "metadata": {},
     "output_type": "display_data"
    }
   ],
   "source": [
    "learn.unfreeze()\n",
    "learn.fit_one_cycle(8, slice(5e-3/(2.6**4),5e-03), moms=(0.8,0.7))\n"
   ]
  },
  {
   "cell_type": "code",
   "execution_count": 62,
   "metadata": {},
   "outputs": [
    {
     "name": "stdout",
     "output_type": "stream",
     "text": [
      "(20, 18, 0.9)\n"
     ]
    }
   ],
   "source": [
    "predict(test,learn)"
   ]
  },
  {
   "cell_type": "code",
   "execution_count": 63,
   "metadata": {},
   "outputs": [
    {
     "data": {
      "text/html": [
       "<table border=\"1\" class=\"dataframe\">\n",
       "  <thead>\n",
       "    <tr style=\"text-align: left;\">\n",
       "      <th>epoch</th>\n",
       "      <th>train_loss</th>\n",
       "      <th>valid_loss</th>\n",
       "      <th>accuracy</th>\n",
       "      <th>time</th>\n",
       "    </tr>\n",
       "  </thead>\n",
       "  <tbody>\n",
       "    <tr>\n",
       "      <td>0</td>\n",
       "      <td>0.145963</td>\n",
       "      <td>0.240307</td>\n",
       "      <td>0.916667</td>\n",
       "      <td>00:03</td>\n",
       "    </tr>\n",
       "    <tr>\n",
       "      <td>1</td>\n",
       "      <td>0.154006</td>\n",
       "      <td>0.215097</td>\n",
       "      <td>0.916667</td>\n",
       "      <td>00:03</td>\n",
       "    </tr>\n",
       "    <tr>\n",
       "      <td>2</td>\n",
       "      <td>0.160041</td>\n",
       "      <td>0.189672</td>\n",
       "      <td>0.916667</td>\n",
       "      <td>00:03</td>\n",
       "    </tr>\n",
       "    <tr>\n",
       "      <td>3</td>\n",
       "      <td>0.166756</td>\n",
       "      <td>0.181370</td>\n",
       "      <td>0.916667</td>\n",
       "      <td>00:03</td>\n",
       "    </tr>\n",
       "    <tr>\n",
       "      <td>4</td>\n",
       "      <td>0.173861</td>\n",
       "      <td>0.172474</td>\n",
       "      <td>0.944444</td>\n",
       "      <td>00:03</td>\n",
       "    </tr>\n",
       "    <tr>\n",
       "      <td>5</td>\n",
       "      <td>0.173161</td>\n",
       "      <td>0.162464</td>\n",
       "      <td>0.916667</td>\n",
       "      <td>00:03</td>\n",
       "    </tr>\n",
       "    <tr>\n",
       "      <td>6</td>\n",
       "      <td>0.170920</td>\n",
       "      <td>0.153169</td>\n",
       "      <td>0.916667</td>\n",
       "      <td>00:03</td>\n",
       "    </tr>\n",
       "    <tr>\n",
       "      <td>7</td>\n",
       "      <td>0.176355</td>\n",
       "      <td>0.148268</td>\n",
       "      <td>0.944444</td>\n",
       "      <td>00:03</td>\n",
       "    </tr>\n",
       "    <tr>\n",
       "      <td>8</td>\n",
       "      <td>0.173936</td>\n",
       "      <td>0.146040</td>\n",
       "      <td>0.944444</td>\n",
       "      <td>00:03</td>\n",
       "    </tr>\n",
       "    <tr>\n",
       "      <td>9</td>\n",
       "      <td>0.178697</td>\n",
       "      <td>0.150644</td>\n",
       "      <td>0.944444</td>\n",
       "      <td>00:03</td>\n",
       "    </tr>\n",
       "    <tr>\n",
       "      <td>10</td>\n",
       "      <td>0.183128</td>\n",
       "      <td>0.150356</td>\n",
       "      <td>0.944444</td>\n",
       "      <td>00:03</td>\n",
       "    </tr>\n",
       "    <tr>\n",
       "      <td>11</td>\n",
       "      <td>0.182939</td>\n",
       "      <td>0.150077</td>\n",
       "      <td>0.944444</td>\n",
       "      <td>00:03</td>\n",
       "    </tr>\n",
       "    <tr>\n",
       "      <td>12</td>\n",
       "      <td>0.185733</td>\n",
       "      <td>0.150709</td>\n",
       "      <td>0.944444</td>\n",
       "      <td>00:03</td>\n",
       "    </tr>\n",
       "    <tr>\n",
       "      <td>13</td>\n",
       "      <td>0.186422</td>\n",
       "      <td>0.152409</td>\n",
       "      <td>0.944444</td>\n",
       "      <td>00:03</td>\n",
       "    </tr>\n",
       "    <tr>\n",
       "      <td>14</td>\n",
       "      <td>0.179700</td>\n",
       "      <td>0.151789</td>\n",
       "      <td>0.944444</td>\n",
       "      <td>00:03</td>\n",
       "    </tr>\n",
       "    <tr>\n",
       "      <td>15</td>\n",
       "      <td>0.177616</td>\n",
       "      <td>0.152958</td>\n",
       "      <td>0.944444</td>\n",
       "      <td>00:03</td>\n",
       "    </tr>\n",
       "  </tbody>\n",
       "</table>"
      ],
      "text/plain": [
       "<IPython.core.display.HTML object>"
      ]
     },
     "metadata": {},
     "output_type": "display_data"
    }
   ],
   "source": [
    "learn.fit_one_cycle(16, slice(5e-3/(2.6**4),5e-3), moms=(0.8,0.7))"
   ]
  },
  {
   "cell_type": "code",
   "execution_count": 64,
   "metadata": {},
   "outputs": [
    {
     "name": "stdout",
     "output_type": "stream",
     "text": [
      "(20, 19, 0.95)\n"
     ]
    }
   ],
   "source": [
    "predict(test,learn)"
   ]
  },
  {
   "cell_type": "code",
   "execution_count": 65,
   "metadata": {},
   "outputs": [
    {
     "data": {
      "text/html": [
       "<table border=\"1\" class=\"dataframe\">\n",
       "  <thead>\n",
       "    <tr style=\"text-align: left;\">\n",
       "      <th>epoch</th>\n",
       "      <th>train_loss</th>\n",
       "      <th>valid_loss</th>\n",
       "      <th>accuracy</th>\n",
       "      <th>time</th>\n",
       "    </tr>\n",
       "  </thead>\n",
       "  <tbody>\n",
       "    <tr>\n",
       "      <td>0</td>\n",
       "      <td>0.178381</td>\n",
       "      <td>0.152643</td>\n",
       "      <td>0.944444</td>\n",
       "      <td>00:03</td>\n",
       "    </tr>\n",
       "    <tr>\n",
       "      <td>1</td>\n",
       "      <td>0.169276</td>\n",
       "      <td>0.148907</td>\n",
       "      <td>0.944444</td>\n",
       "      <td>00:03</td>\n",
       "    </tr>\n",
       "    <tr>\n",
       "      <td>2</td>\n",
       "      <td>0.164947</td>\n",
       "      <td>0.145031</td>\n",
       "      <td>0.944444</td>\n",
       "      <td>00:03</td>\n",
       "    </tr>\n",
       "    <tr>\n",
       "      <td>3</td>\n",
       "      <td>0.163111</td>\n",
       "      <td>0.144075</td>\n",
       "      <td>0.944444</td>\n",
       "      <td>00:03</td>\n",
       "    </tr>\n",
       "    <tr>\n",
       "      <td>4</td>\n",
       "      <td>0.163895</td>\n",
       "      <td>0.138169</td>\n",
       "      <td>0.944444</td>\n",
       "      <td>00:03</td>\n",
       "    </tr>\n",
       "    <tr>\n",
       "      <td>5</td>\n",
       "      <td>0.165391</td>\n",
       "      <td>0.136406</td>\n",
       "      <td>0.944444</td>\n",
       "      <td>00:03</td>\n",
       "    </tr>\n",
       "    <tr>\n",
       "      <td>6</td>\n",
       "      <td>0.166668</td>\n",
       "      <td>0.143236</td>\n",
       "      <td>0.916667</td>\n",
       "      <td>00:03</td>\n",
       "    </tr>\n",
       "    <tr>\n",
       "      <td>7</td>\n",
       "      <td>0.168503</td>\n",
       "      <td>0.139774</td>\n",
       "      <td>0.944444</td>\n",
       "      <td>00:03</td>\n",
       "    </tr>\n",
       "    <tr>\n",
       "      <td>8</td>\n",
       "      <td>0.168597</td>\n",
       "      <td>0.138390</td>\n",
       "      <td>0.944444</td>\n",
       "      <td>00:03</td>\n",
       "    </tr>\n",
       "    <tr>\n",
       "      <td>9</td>\n",
       "      <td>0.160635</td>\n",
       "      <td>0.137875</td>\n",
       "      <td>0.944444</td>\n",
       "      <td>00:03</td>\n",
       "    </tr>\n",
       "    <tr>\n",
       "      <td>10</td>\n",
       "      <td>0.153060</td>\n",
       "      <td>0.136307</td>\n",
       "      <td>0.944444</td>\n",
       "      <td>00:03</td>\n",
       "    </tr>\n",
       "    <tr>\n",
       "      <td>11</td>\n",
       "      <td>0.157284</td>\n",
       "      <td>0.137201</td>\n",
       "      <td>0.944444</td>\n",
       "      <td>00:03</td>\n",
       "    </tr>\n",
       "    <tr>\n",
       "      <td>12</td>\n",
       "      <td>0.157515</td>\n",
       "      <td>0.136111</td>\n",
       "      <td>0.944444</td>\n",
       "      <td>00:03</td>\n",
       "    </tr>\n",
       "    <tr>\n",
       "      <td>13</td>\n",
       "      <td>0.156877</td>\n",
       "      <td>0.135897</td>\n",
       "      <td>0.944444</td>\n",
       "      <td>00:03</td>\n",
       "    </tr>\n",
       "    <tr>\n",
       "      <td>14</td>\n",
       "      <td>0.157348</td>\n",
       "      <td>0.135402</td>\n",
       "      <td>0.944444</td>\n",
       "      <td>00:03</td>\n",
       "    </tr>\n",
       "    <tr>\n",
       "      <td>15</td>\n",
       "      <td>0.158281</td>\n",
       "      <td>0.136626</td>\n",
       "      <td>0.944444</td>\n",
       "      <td>00:03</td>\n",
       "    </tr>\n",
       "  </tbody>\n",
       "</table>"
      ],
      "text/plain": [
       "<IPython.core.display.HTML object>"
      ]
     },
     "metadata": {},
     "output_type": "display_data"
    }
   ],
   "source": [
    "learn.fit_one_cycle(16, slice(5e-3/(2.6**4),5e-3), moms=(0.8,0.7))"
   ]
  },
  {
   "cell_type": "code",
   "execution_count": 66,
   "metadata": {},
   "outputs": [
    {
     "name": "stdout",
     "output_type": "stream",
     "text": [
      "(20, 19, 0.95)\n"
     ]
    }
   ],
   "source": [
    "predict(test,learn)"
   ]
  },
  {
   "cell_type": "code",
   "execution_count": 67,
   "metadata": {},
   "outputs": [
    {
     "data": {
      "text/html": [
       "<table border=\"1\" class=\"dataframe\">\n",
       "  <thead>\n",
       "    <tr style=\"text-align: left;\">\n",
       "      <th>epoch</th>\n",
       "      <th>train_loss</th>\n",
       "      <th>valid_loss</th>\n",
       "      <th>accuracy</th>\n",
       "      <th>time</th>\n",
       "    </tr>\n",
       "  </thead>\n",
       "  <tbody>\n",
       "    <tr>\n",
       "      <td>0</td>\n",
       "      <td>0.140545</td>\n",
       "      <td>0.137546</td>\n",
       "      <td>0.944444</td>\n",
       "      <td>00:03</td>\n",
       "    </tr>\n",
       "    <tr>\n",
       "      <td>1</td>\n",
       "      <td>0.128690</td>\n",
       "      <td>0.136054</td>\n",
       "      <td>0.944444</td>\n",
       "      <td>00:03</td>\n",
       "    </tr>\n",
       "    <tr>\n",
       "      <td>2</td>\n",
       "      <td>0.133176</td>\n",
       "      <td>0.132037</td>\n",
       "      <td>0.944444</td>\n",
       "      <td>00:03</td>\n",
       "    </tr>\n",
       "    <tr>\n",
       "      <td>3</td>\n",
       "      <td>0.143421</td>\n",
       "      <td>0.129972</td>\n",
       "      <td>0.944444</td>\n",
       "      <td>00:03</td>\n",
       "    </tr>\n",
       "    <tr>\n",
       "      <td>4</td>\n",
       "      <td>0.144440</td>\n",
       "      <td>0.125078</td>\n",
       "      <td>0.944444</td>\n",
       "      <td>00:03</td>\n",
       "    </tr>\n",
       "    <tr>\n",
       "      <td>5</td>\n",
       "      <td>0.146769</td>\n",
       "      <td>0.125737</td>\n",
       "      <td>0.944444</td>\n",
       "      <td>00:03</td>\n",
       "    </tr>\n",
       "    <tr>\n",
       "      <td>6</td>\n",
       "      <td>0.146516</td>\n",
       "      <td>0.127214</td>\n",
       "      <td>0.944444</td>\n",
       "      <td>00:03</td>\n",
       "    </tr>\n",
       "    <tr>\n",
       "      <td>7</td>\n",
       "      <td>0.142354</td>\n",
       "      <td>0.122844</td>\n",
       "      <td>0.944444</td>\n",
       "      <td>00:03</td>\n",
       "    </tr>\n",
       "    <tr>\n",
       "      <td>8</td>\n",
       "      <td>0.161544</td>\n",
       "      <td>0.126256</td>\n",
       "      <td>0.944444</td>\n",
       "      <td>00:03</td>\n",
       "    </tr>\n",
       "    <tr>\n",
       "      <td>9</td>\n",
       "      <td>0.158800</td>\n",
       "      <td>0.132158</td>\n",
       "      <td>0.944444</td>\n",
       "      <td>00:03</td>\n",
       "    </tr>\n",
       "    <tr>\n",
       "      <td>10</td>\n",
       "      <td>0.160630</td>\n",
       "      <td>0.129360</td>\n",
       "      <td>0.944444</td>\n",
       "      <td>00:03</td>\n",
       "    </tr>\n",
       "    <tr>\n",
       "      <td>11</td>\n",
       "      <td>0.161610</td>\n",
       "      <td>0.129117</td>\n",
       "      <td>0.944444</td>\n",
       "      <td>00:03</td>\n",
       "    </tr>\n",
       "    <tr>\n",
       "      <td>12</td>\n",
       "      <td>0.162271</td>\n",
       "      <td>0.125480</td>\n",
       "      <td>0.944444</td>\n",
       "      <td>00:03</td>\n",
       "    </tr>\n",
       "    <tr>\n",
       "      <td>13</td>\n",
       "      <td>0.163020</td>\n",
       "      <td>0.129094</td>\n",
       "      <td>0.944444</td>\n",
       "      <td>00:03</td>\n",
       "    </tr>\n",
       "    <tr>\n",
       "      <td>14</td>\n",
       "      <td>0.162260</td>\n",
       "      <td>0.130294</td>\n",
       "      <td>0.944444</td>\n",
       "      <td>00:03</td>\n",
       "    </tr>\n",
       "    <tr>\n",
       "      <td>15</td>\n",
       "      <td>0.163012</td>\n",
       "      <td>0.131022</td>\n",
       "      <td>0.944444</td>\n",
       "      <td>00:03</td>\n",
       "    </tr>\n",
       "  </tbody>\n",
       "</table>"
      ],
      "text/plain": [
       "<IPython.core.display.HTML object>"
      ]
     },
     "metadata": {},
     "output_type": "display_data"
    }
   ],
   "source": [
    "learn.fit_one_cycle(16, slice(5e-3/(2.6**4),5e-3), moms=(0.8,0.7))"
   ]
  },
  {
   "cell_type": "code",
   "execution_count": 68,
   "metadata": {},
   "outputs": [
    {
     "name": "stdout",
     "output_type": "stream",
     "text": [
      "(20, 19, 0.95)\n"
     ]
    }
   ],
   "source": [
    "predict(test,learn)"
   ]
  },
  {
   "cell_type": "code",
   "execution_count": 69,
   "metadata": {},
   "outputs": [
    {
     "data": {
      "text/html": [
       "<table border=\"1\" class=\"dataframe\">\n",
       "  <thead>\n",
       "    <tr style=\"text-align: left;\">\n",
       "      <th>epoch</th>\n",
       "      <th>train_loss</th>\n",
       "      <th>valid_loss</th>\n",
       "      <th>accuracy</th>\n",
       "      <th>time</th>\n",
       "    </tr>\n",
       "  </thead>\n",
       "  <tbody>\n",
       "    <tr>\n",
       "      <td>0</td>\n",
       "      <td>0.146228</td>\n",
       "      <td>0.132849</td>\n",
       "      <td>0.944444</td>\n",
       "      <td>00:03</td>\n",
       "    </tr>\n",
       "    <tr>\n",
       "      <td>1</td>\n",
       "      <td>0.152115</td>\n",
       "      <td>0.132538</td>\n",
       "      <td>0.944444</td>\n",
       "      <td>00:03</td>\n",
       "    </tr>\n",
       "    <tr>\n",
       "      <td>2</td>\n",
       "      <td>0.147303</td>\n",
       "      <td>0.134542</td>\n",
       "      <td>0.944444</td>\n",
       "      <td>00:03</td>\n",
       "    </tr>\n",
       "    <tr>\n",
       "      <td>3</td>\n",
       "      <td>0.151868</td>\n",
       "      <td>0.136391</td>\n",
       "      <td>0.944444</td>\n",
       "      <td>00:03</td>\n",
       "    </tr>\n",
       "    <tr>\n",
       "      <td>4</td>\n",
       "      <td>0.148573</td>\n",
       "      <td>0.142561</td>\n",
       "      <td>0.944444</td>\n",
       "      <td>00:03</td>\n",
       "    </tr>\n",
       "    <tr>\n",
       "      <td>5</td>\n",
       "      <td>0.140270</td>\n",
       "      <td>0.139659</td>\n",
       "      <td>0.944444</td>\n",
       "      <td>00:03</td>\n",
       "    </tr>\n",
       "    <tr>\n",
       "      <td>6</td>\n",
       "      <td>0.140893</td>\n",
       "      <td>0.150481</td>\n",
       "      <td>0.944444</td>\n",
       "      <td>00:03</td>\n",
       "    </tr>\n",
       "    <tr>\n",
       "      <td>7</td>\n",
       "      <td>0.144799</td>\n",
       "      <td>0.161495</td>\n",
       "      <td>0.944444</td>\n",
       "      <td>00:03</td>\n",
       "    </tr>\n",
       "    <tr>\n",
       "      <td>8</td>\n",
       "      <td>0.140631</td>\n",
       "      <td>0.162712</td>\n",
       "      <td>0.944444</td>\n",
       "      <td>00:03</td>\n",
       "    </tr>\n",
       "    <tr>\n",
       "      <td>9</td>\n",
       "      <td>0.139772</td>\n",
       "      <td>0.160838</td>\n",
       "      <td>0.944444</td>\n",
       "      <td>00:03</td>\n",
       "    </tr>\n",
       "    <tr>\n",
       "      <td>10</td>\n",
       "      <td>0.141364</td>\n",
       "      <td>0.165038</td>\n",
       "      <td>0.944444</td>\n",
       "      <td>00:03</td>\n",
       "    </tr>\n",
       "    <tr>\n",
       "      <td>11</td>\n",
       "      <td>0.141492</td>\n",
       "      <td>0.161216</td>\n",
       "      <td>0.944444</td>\n",
       "      <td>00:03</td>\n",
       "    </tr>\n",
       "    <tr>\n",
       "      <td>12</td>\n",
       "      <td>0.145082</td>\n",
       "      <td>0.158156</td>\n",
       "      <td>0.944444</td>\n",
       "      <td>00:03</td>\n",
       "    </tr>\n",
       "    <tr>\n",
       "      <td>13</td>\n",
       "      <td>0.141655</td>\n",
       "      <td>0.160683</td>\n",
       "      <td>0.944444</td>\n",
       "      <td>00:03</td>\n",
       "    </tr>\n",
       "    <tr>\n",
       "      <td>14</td>\n",
       "      <td>0.140479</td>\n",
       "      <td>0.153847</td>\n",
       "      <td>0.944444</td>\n",
       "      <td>00:03</td>\n",
       "    </tr>\n",
       "    <tr>\n",
       "      <td>15</td>\n",
       "      <td>0.139092</td>\n",
       "      <td>0.153634</td>\n",
       "      <td>0.944444</td>\n",
       "      <td>00:03</td>\n",
       "    </tr>\n",
       "  </tbody>\n",
       "</table>"
      ],
      "text/plain": [
       "<IPython.core.display.HTML object>"
      ]
     },
     "metadata": {},
     "output_type": "display_data"
    }
   ],
   "source": [
    "learn.fit_one_cycle(16, slice(5e-3/(2.6**4),5e-3), moms=(0.8,0.7))"
   ]
  },
  {
   "cell_type": "code",
   "execution_count": 70,
   "metadata": {},
   "outputs": [
    {
     "name": "stdout",
     "output_type": "stream",
     "text": [
      "(20, 19, 0.95)\n"
     ]
    }
   ],
   "source": [
    "predict(test,learn)"
   ]
  },
  {
   "cell_type": "code",
   "execution_count": 71,
   "metadata": {},
   "outputs": [
    {
     "data": {
      "text/html": [
       "<table border=\"1\" class=\"dataframe\">\n",
       "  <thead>\n",
       "    <tr style=\"text-align: left;\">\n",
       "      <th>epoch</th>\n",
       "      <th>train_loss</th>\n",
       "      <th>valid_loss</th>\n",
       "      <th>accuracy</th>\n",
       "      <th>time</th>\n",
       "    </tr>\n",
       "  </thead>\n",
       "  <tbody>\n",
       "    <tr>\n",
       "      <td>0</td>\n",
       "      <td>0.160517</td>\n",
       "      <td>0.152989</td>\n",
       "      <td>0.944444</td>\n",
       "      <td>00:03</td>\n",
       "    </tr>\n",
       "    <tr>\n",
       "      <td>1</td>\n",
       "      <td>0.181226</td>\n",
       "      <td>0.153570</td>\n",
       "      <td>0.944444</td>\n",
       "      <td>00:03</td>\n",
       "    </tr>\n",
       "    <tr>\n",
       "      <td>2</td>\n",
       "      <td>0.171640</td>\n",
       "      <td>0.153925</td>\n",
       "      <td>0.944444</td>\n",
       "      <td>00:03</td>\n",
       "    </tr>\n",
       "    <tr>\n",
       "      <td>3</td>\n",
       "      <td>0.156201</td>\n",
       "      <td>0.150360</td>\n",
       "      <td>0.944444</td>\n",
       "      <td>00:03</td>\n",
       "    </tr>\n",
       "    <tr>\n",
       "      <td>4</td>\n",
       "      <td>0.144809</td>\n",
       "      <td>0.160459</td>\n",
       "      <td>0.944444</td>\n",
       "      <td>00:03</td>\n",
       "    </tr>\n",
       "    <tr>\n",
       "      <td>5</td>\n",
       "      <td>0.142971</td>\n",
       "      <td>0.149513</td>\n",
       "      <td>0.944444</td>\n",
       "      <td>00:03</td>\n",
       "    </tr>\n",
       "    <tr>\n",
       "      <td>6</td>\n",
       "      <td>0.148294</td>\n",
       "      <td>0.163959</td>\n",
       "      <td>0.944444</td>\n",
       "      <td>00:03</td>\n",
       "    </tr>\n",
       "    <tr>\n",
       "      <td>7</td>\n",
       "      <td>0.160024</td>\n",
       "      <td>0.156656</td>\n",
       "      <td>0.944444</td>\n",
       "      <td>00:03</td>\n",
       "    </tr>\n",
       "    <tr>\n",
       "      <td>8</td>\n",
       "      <td>0.160134</td>\n",
       "      <td>0.152804</td>\n",
       "      <td>0.944444</td>\n",
       "      <td>00:03</td>\n",
       "    </tr>\n",
       "    <tr>\n",
       "      <td>9</td>\n",
       "      <td>0.160091</td>\n",
       "      <td>0.154794</td>\n",
       "      <td>0.944444</td>\n",
       "      <td>00:03</td>\n",
       "    </tr>\n",
       "    <tr>\n",
       "      <td>10</td>\n",
       "      <td>0.154709</td>\n",
       "      <td>0.155409</td>\n",
       "      <td>0.944444</td>\n",
       "      <td>00:03</td>\n",
       "    </tr>\n",
       "    <tr>\n",
       "      <td>11</td>\n",
       "      <td>0.155630</td>\n",
       "      <td>0.148998</td>\n",
       "      <td>0.944444</td>\n",
       "      <td>00:03</td>\n",
       "    </tr>\n",
       "    <tr>\n",
       "      <td>12</td>\n",
       "      <td>0.153800</td>\n",
       "      <td>0.150798</td>\n",
       "      <td>0.944444</td>\n",
       "      <td>00:03</td>\n",
       "    </tr>\n",
       "    <tr>\n",
       "      <td>13</td>\n",
       "      <td>0.154449</td>\n",
       "      <td>0.152331</td>\n",
       "      <td>0.944444</td>\n",
       "      <td>00:03</td>\n",
       "    </tr>\n",
       "    <tr>\n",
       "      <td>14</td>\n",
       "      <td>0.158576</td>\n",
       "      <td>0.152673</td>\n",
       "      <td>0.944444</td>\n",
       "      <td>00:03</td>\n",
       "    </tr>\n",
       "    <tr>\n",
       "      <td>15</td>\n",
       "      <td>0.151473</td>\n",
       "      <td>0.158215</td>\n",
       "      <td>0.944444</td>\n",
       "      <td>00:03</td>\n",
       "    </tr>\n",
       "  </tbody>\n",
       "</table>"
      ],
      "text/plain": [
       "<IPython.core.display.HTML object>"
      ]
     },
     "metadata": {},
     "output_type": "display_data"
    }
   ],
   "source": [
    "learn.fit_one_cycle(16, slice(5e-3/(2.6**4),5e-3), moms=(0.8,0.7))"
   ]
  },
  {
   "cell_type": "code",
   "execution_count": 72,
   "metadata": {},
   "outputs": [
    {
     "name": "stdout",
     "output_type": "stream",
     "text": [
      "(20, 19, 0.95)\n"
     ]
    }
   ],
   "source": [
    "predict(test,learn)"
   ]
  },
  {
   "cell_type": "code",
   "execution_count": 73,
   "metadata": {},
   "outputs": [
    {
     "data": {
      "text/html": [
       "<table border=\"1\" class=\"dataframe\">\n",
       "  <thead>\n",
       "    <tr style=\"text-align: left;\">\n",
       "      <th>epoch</th>\n",
       "      <th>train_loss</th>\n",
       "      <th>valid_loss</th>\n",
       "      <th>accuracy</th>\n",
       "      <th>time</th>\n",
       "    </tr>\n",
       "  </thead>\n",
       "  <tbody>\n",
       "    <tr>\n",
       "      <td>0</td>\n",
       "      <td>0.159627</td>\n",
       "      <td>0.152604</td>\n",
       "      <td>0.944444</td>\n",
       "      <td>00:03</td>\n",
       "    </tr>\n",
       "    <tr>\n",
       "      <td>1</td>\n",
       "      <td>0.154220</td>\n",
       "      <td>0.154874</td>\n",
       "      <td>0.944444</td>\n",
       "      <td>00:03</td>\n",
       "    </tr>\n",
       "    <tr>\n",
       "      <td>2</td>\n",
       "      <td>0.161210</td>\n",
       "      <td>0.154931</td>\n",
       "      <td>0.944444</td>\n",
       "      <td>00:03</td>\n",
       "    </tr>\n",
       "    <tr>\n",
       "      <td>3</td>\n",
       "      <td>0.155993</td>\n",
       "      <td>0.146962</td>\n",
       "      <td>0.944444</td>\n",
       "      <td>00:03</td>\n",
       "    </tr>\n",
       "    <tr>\n",
       "      <td>4</td>\n",
       "      <td>0.146986</td>\n",
       "      <td>0.160278</td>\n",
       "      <td>0.944444</td>\n",
       "      <td>00:03</td>\n",
       "    </tr>\n",
       "    <tr>\n",
       "      <td>5</td>\n",
       "      <td>0.143360</td>\n",
       "      <td>0.154011</td>\n",
       "      <td>0.944444</td>\n",
       "      <td>00:03</td>\n",
       "    </tr>\n",
       "    <tr>\n",
       "      <td>6</td>\n",
       "      <td>0.143556</td>\n",
       "      <td>0.156010</td>\n",
       "      <td>0.944444</td>\n",
       "      <td>00:03</td>\n",
       "    </tr>\n",
       "    <tr>\n",
       "      <td>7</td>\n",
       "      <td>0.151564</td>\n",
       "      <td>0.149320</td>\n",
       "      <td>0.944444</td>\n",
       "      <td>00:03</td>\n",
       "    </tr>\n",
       "    <tr>\n",
       "      <td>8</td>\n",
       "      <td>0.153183</td>\n",
       "      <td>0.143271</td>\n",
       "      <td>0.944444</td>\n",
       "      <td>00:03</td>\n",
       "    </tr>\n",
       "    <tr>\n",
       "      <td>9</td>\n",
       "      <td>0.149164</td>\n",
       "      <td>0.141453</td>\n",
       "      <td>0.944444</td>\n",
       "      <td>00:03</td>\n",
       "    </tr>\n",
       "    <tr>\n",
       "      <td>10</td>\n",
       "      <td>0.143896</td>\n",
       "      <td>0.140201</td>\n",
       "      <td>0.944444</td>\n",
       "      <td>00:03</td>\n",
       "    </tr>\n",
       "    <tr>\n",
       "      <td>11</td>\n",
       "      <td>0.139515</td>\n",
       "      <td>0.135540</td>\n",
       "      <td>0.944444</td>\n",
       "      <td>00:03</td>\n",
       "    </tr>\n",
       "    <tr>\n",
       "      <td>12</td>\n",
       "      <td>0.133772</td>\n",
       "      <td>0.135581</td>\n",
       "      <td>0.944444</td>\n",
       "      <td>00:03</td>\n",
       "    </tr>\n",
       "    <tr>\n",
       "      <td>13</td>\n",
       "      <td>0.131369</td>\n",
       "      <td>0.144456</td>\n",
       "      <td>0.944444</td>\n",
       "      <td>00:03</td>\n",
       "    </tr>\n",
       "    <tr>\n",
       "      <td>14</td>\n",
       "      <td>0.134335</td>\n",
       "      <td>0.143987</td>\n",
       "      <td>0.944444</td>\n",
       "      <td>00:03</td>\n",
       "    </tr>\n",
       "    <tr>\n",
       "      <td>15</td>\n",
       "      <td>0.136182</td>\n",
       "      <td>0.149760</td>\n",
       "      <td>0.944444</td>\n",
       "      <td>00:03</td>\n",
       "    </tr>\n",
       "  </tbody>\n",
       "</table>"
      ],
      "text/plain": [
       "<IPython.core.display.HTML object>"
      ]
     },
     "metadata": {},
     "output_type": "display_data"
    }
   ],
   "source": [
    "learn.fit_one_cycle(16, slice(5e-3/(2.6**4),5e-3), moms=(0.8,0.7))"
   ]
  },
  {
   "cell_type": "code",
   "execution_count": 74,
   "metadata": {},
   "outputs": [
    {
     "name": "stdout",
     "output_type": "stream",
     "text": [
      "(20, 19, 0.95)\n"
     ]
    }
   ],
   "source": [
    "predict(test,learn)"
   ]
  },
  {
   "cell_type": "code",
   "execution_count": 75,
   "metadata": {},
   "outputs": [
    {
     "data": {
      "text/plain": [
       "SequentialRNN(\n",
       "  (0): MultiBatchEncoder(\n",
       "    (module): AWD_LSTM(\n",
       "      (encoder): Embedding(48, 400, padding_idx=1)\n",
       "      (encoder_dp): EmbeddingDropout(\n",
       "        (emb): Embedding(48, 400, padding_idx=1)\n",
       "      )\n",
       "      (rnns): ModuleList(\n",
       "        (0): WeightDropout(\n",
       "          (module): LSTM(400, 400, batch_first=True)\n",
       "        )\n",
       "      )\n",
       "      (input_dp): RNNDropout()\n",
       "      (hidden_dps): ModuleList(\n",
       "        (0): RNNDropout()\n",
       "      )\n",
       "    )\n",
       "  )\n",
       "  (1): PoolingLinearClassifier(\n",
       "    (layers): Sequential(\n",
       "      (0): BatchNorm1d(1200, eps=1e-05, momentum=0.1, affine=True, track_running_stats=True)\n",
       "      (1): Dropout(p=0.8)\n",
       "      (2): Linear(in_features=1200, out_features=50, bias=True)\n",
       "      (3): ReLU(inplace)\n",
       "      (4): BatchNorm1d(50, eps=1e-05, momentum=0.1, affine=True, track_running_stats=True)\n",
       "      (5): Dropout(p=0.1)\n",
       "      (6): Linear(in_features=50, out_features=2, bias=True)\n",
       "    )\n",
       "  )\n",
       ")"
      ]
     },
     "execution_count": 75,
     "metadata": {},
     "output_type": "execute_result"
    }
   ],
   "source": [
    "learn.model"
   ]
  },
  {
   "cell_type": "code",
   "execution_count": null,
   "metadata": {},
   "outputs": [],
   "source": []
  },
  {
   "cell_type": "code",
   "execution_count": null,
   "metadata": {},
   "outputs": [],
   "source": []
  },
  {
   "cell_type": "code",
   "execution_count": null,
   "metadata": {},
   "outputs": [],
   "source": []
  }
 ],
 "metadata": {
  "kernelspec": {
   "display_name": "Python 3",
   "language": "python",
   "name": "python3"
  },
  "language_info": {
   "codemirror_mode": {
    "name": "ipython",
    "version": 3
   },
   "file_extension": ".py",
   "mimetype": "text/x-python",
   "name": "python",
   "nbconvert_exporter": "python",
   "pygments_lexer": "ipython3",
   "version": "3.6.7"
  }
 },
 "nbformat": 4,
 "nbformat_minor": 2
}
