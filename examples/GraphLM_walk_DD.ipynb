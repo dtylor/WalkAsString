{
 "cells": [
  {
   "cell_type": "code",
   "execution_count": 1,
   "metadata": {},
   "outputs": [],
   "source": [
    "!rm -r WalkRNN"
   ]
  },
  {
   "cell_type": "code",
   "execution_count": 2,
   "metadata": {},
   "outputs": [
    {
     "name": "stdout",
     "output_type": "stream",
     "text": [
      "Cloning into 'WalkRNN'...\n",
      "remote: Enumerating objects: 22, done.\u001b[K\n",
      "remote: Counting objects: 100% (22/22), done.\u001b[K\n",
      "remote: Compressing objects: 100% (18/18), done.\u001b[K\n",
      "remote: Total 474 (delta 7), reused 17 (delta 4), pack-reused 452\u001b[K\n",
      "Receiving objects: 100% (474/474), 9.86 MiB | 0 bytes/s, done.\n",
      "Resolving deltas: 100% (254/254), done.\n",
      "Checking connectivity... done.\n"
     ]
    }
   ],
   "source": [
    "!git clone https://github.com/dtylor/WalkRNN.git"
   ]
  },
  {
   "cell_type": "code",
   "execution_count": 3,
   "metadata": {},
   "outputs": [
    {
     "name": "stdout",
     "output_type": "stream",
     "text": [
      "/notebooks/WalkRNN\n",
      "Demonstration.ipynb    MUTAG.ipynb\t README.md    examples\t n2v\n",
      "LICENSE-3RD-PARTY.txt  Motivation.ipynb  TODO\t      graphwave  test.py\n",
      "LICENSE.md\t       OrgChart.ipynb\t __init__.py  module.py  utilities.py\n"
     ]
    }
   ],
   "source": [
    "%cd WalkRNN\n",
    "!ls"
   ]
  },
  {
   "cell_type": "code",
   "execution_count": 4,
   "metadata": {},
   "outputs": [
    {
     "name": "stdout",
     "output_type": "stream",
     "text": [
      "Solving environment: done\n",
      "\n",
      "\n",
      "==> WARNING: A newer version of conda exists. <==\n",
      "  current version: 4.5.12\n",
      "  latest version: 4.7.12\n",
      "\n",
      "Please update conda by running\n",
      "\n",
      "    $ conda update -n base -c defaults conda\n",
      "\n",
      "\n",
      "\n",
      "# All requested packages already installed.\n",
      "\n"
     ]
    }
   ],
   "source": [
    "!conda install fastai  -c fastai -c pytorch --yes\n"
   ]
  },
  {
   "cell_type": "code",
   "execution_count": 5,
   "metadata": {},
   "outputs": [],
   "source": [
    "import fastai\n",
    "import pandas as pd"
   ]
  },
  {
   "cell_type": "code",
   "execution_count": 6,
   "metadata": {},
   "outputs": [
    {
     "name": "stdout",
     "output_type": "stream",
     "text": [
      "\n",
      "\n",
      "```text\n",
      "=== Software === \n",
      "python        : 3.6.7\n",
      "fastai        : 1.0.58\n",
      "fastprogress  : 0.1.21\n",
      "torch         : 1.0.0\n",
      "nvidia driver : 418.67\n",
      "torch cuda    : 9.0.176 / is available\n",
      "torch cudnn   : 7401 / is enabled\n",
      "\n",
      "=== Hardware === \n",
      "nvidia gpus   : 1\n",
      "torch devices : 1\n",
      "  - gpu0      : 8126MB | Quadro M4000\n",
      "\n",
      "=== Environment === \n",
      "platform      : Linux-4.4.0-130-generic-x86_64-with-debian-stretch-sid\n",
      "distro        : #156-Ubuntu SMP Thu Jun 14 08:53:28 UTC 2018\n",
      "conda env     : fastai\n",
      "python        : /opt/conda/envs/fastai/bin/python\n",
      "sys.path      : /opt/conda/envs/fastai/lib/python36.zip\n",
      "/opt/conda/envs/fastai/lib/python3.6\n",
      "/opt/conda/envs/fastai/lib/python3.6/lib-dynload\n",
      "\n",
      "/opt/conda/envs/fastai/lib/python3.6/site-packages\n",
      "/opt/conda/envs/fastai/lib/python3.6/site-packages/IPython/extensions\n",
      "/root/.ipython\n",
      "```\n",
      "\n",
      "Please make sure to include opening/closing ``` when you paste into forums/github to make the reports appear formatted as code sections.\n",
      "\n",
      "Optional package(s) to enhance the diagnostics can be installed with:\n",
      "pip install distro\n",
      "Once installed, re-run this utility to get the additional information\n"
     ]
    }
   ],
   "source": [
    "from fastai.utils.show_install import *\n",
    "show_install()"
   ]
  },
  {
   "cell_type": "code",
   "execution_count": 7,
   "metadata": {},
   "outputs": [
    {
     "name": "stdout",
     "output_type": "stream",
     "text": [
      "Requirement already up-to-date: scikit-learn in /opt/conda/envs/fastai/lib/python3.6/site-packages (0.21.3)\n",
      "Requirement already satisfied, skipping upgrade: numpy>=1.11.0 in /opt/conda/envs/fastai/lib/python3.6/site-packages (from scikit-learn) (1.15.4)\n",
      "Requirement already satisfied, skipping upgrade: scipy>=0.17.0 in /opt/conda/envs/fastai/lib/python3.6/site-packages (from scikit-learn) (1.2.0)\n",
      "Requirement already satisfied, skipping upgrade: joblib>=0.11 in /opt/conda/envs/fastai/lib/python3.6/site-packages (from scikit-learn) (0.14.0)\n"
     ]
    }
   ],
   "source": [
    "!pip install -U scikit-learn"
   ]
  },
  {
   "cell_type": "code",
   "execution_count": 8,
   "metadata": {},
   "outputs": [
    {
     "name": "stdout",
     "output_type": "stream",
     "text": [
      "Requirement already satisfied: networkx in /opt/conda/envs/fastai/lib/python3.6/site-packages (2.3)\r\n",
      "Requirement already satisfied: decorator>=4.3.0 in /opt/conda/envs/fastai/lib/python3.6/site-packages (from networkx) (4.3.0)\r\n"
     ]
    }
   ],
   "source": [
    "!pip install networkx"
   ]
  },
  {
   "cell_type": "code",
   "execution_count": 9,
   "metadata": {},
   "outputs": [
    {
     "name": "stdout",
     "output_type": "stream",
     "text": [
      "Requirement already satisfied: seaborn in /opt/conda/envs/fastai/lib/python3.6/site-packages (0.9.0)\n",
      "Requirement already satisfied: matplotlib>=1.4.3 in /opt/conda/envs/fastai/lib/python3.6/site-packages (from seaborn) (3.0.2)\n",
      "Requirement already satisfied: scipy>=0.14.0 in /opt/conda/envs/fastai/lib/python3.6/site-packages (from seaborn) (1.2.0)\n",
      "Requirement already satisfied: numpy>=1.9.3 in /opt/conda/envs/fastai/lib/python3.6/site-packages (from seaborn) (1.15.4)\n",
      "Requirement already satisfied: pandas>=0.15.2 in /opt/conda/envs/fastai/lib/python3.6/site-packages (from seaborn) (0.23.4)\n",
      "Requirement already satisfied: cycler>=0.10 in /opt/conda/envs/fastai/lib/python3.6/site-packages (from matplotlib>=1.4.3->seaborn) (0.10.0)\n",
      "Requirement already satisfied: kiwisolver>=1.0.1 in /opt/conda/envs/fastai/lib/python3.6/site-packages (from matplotlib>=1.4.3->seaborn) (1.0.1)\n",
      "Requirement already satisfied: pyparsing!=2.0.4,!=2.1.2,!=2.1.6,>=2.0.1 in /opt/conda/envs/fastai/lib/python3.6/site-packages (from matplotlib>=1.4.3->seaborn) (2.3.1)\n",
      "Requirement already satisfied: python-dateutil>=2.1 in /opt/conda/envs/fastai/lib/python3.6/site-packages (from matplotlib>=1.4.3->seaborn) (2.7.5)\n",
      "Requirement already satisfied: pytz>=2011k in /opt/conda/envs/fastai/lib/python3.6/site-packages (from pandas>=0.15.2->seaborn) (2018.9)\n",
      "Requirement already satisfied: six in /opt/conda/envs/fastai/lib/python3.6/site-packages (from cycler>=0.10->matplotlib>=1.4.3->seaborn) (1.12.0)\n",
      "Requirement already satisfied: setuptools in /opt/conda/envs/fastai/lib/python3.6/site-packages (from kiwisolver>=1.0.1->matplotlib>=1.4.3->seaborn) (40.6.3)\n"
     ]
    }
   ],
   "source": [
    "!pip install seaborn"
   ]
  },
  {
   "cell_type": "code",
   "execution_count": 10,
   "metadata": {},
   "outputs": [
    {
     "name": "stdout",
     "output_type": "stream",
     "text": [
      "DONE\n"
     ]
    }
   ],
   "source": [
    "from utilities import load_graph_kernel_graph, load_graph_kernel_labels, transform_graph\n",
    "\n",
    "\n",
    "Gkern = load_graph_kernel_graph(\"./examples/data/DD\")\n",
    "y = load_graph_kernel_labels(\"./examples/data/DD\")\n"
   ]
  },
  {
   "cell_type": "code",
   "execution_count": 11,
   "metadata": {},
   "outputs": [
    {
     "name": "stdout",
     "output_type": "stream",
     "text": [
      "143973\n"
     ]
    }
   ],
   "source": [
    "import random, networkx as nx\n",
    "components = set(nx.get_node_attributes(Gkern,'component').values())\n",
    "comp_sm = random.sample(list(components),500)\n",
    "nodes_small =[x for comp in comp_sm for x,y in Gkern.nodes(data=True) if y['component']==comp] \n",
    "print(len(nodes_small))\n",
    "Gsm = Gkern.subgraph(nodes_small)"
   ]
  },
  {
   "cell_type": "code",
   "execution_count": 12,
   "metadata": {},
   "outputs": [
    {
     "name": "stdout",
     "output_type": "stream",
     "text": [
      "finished graphwave_alg batches\n"
     ]
    }
   ],
   "source": [
    "#Transform networkx property graph into a format prepared for WalkRNN\n",
    "G, current_vocab_size = transform_graph(Gsm, params={'num_kmeans_clusters': 4, \"num_pca_components\": 5, \"num_batch\":10, 'num_att_kmeans_clusters': 10})"
   ]
  },
  {
   "cell_type": "code",
   "execution_count": 13,
   "metadata": {},
   "outputs": [],
   "source": [
    "import matplotlib.pyplot as plt\n",
    "import networkx as nx\n",
    "# create number for each group to allow use of colormap\n",
    "from itertools import count\n",
    "\n",
    "\n",
    "def plotGW(tmpG, comp_no):\n",
    " # get unique groups\n",
    " groups = set(nx.get_node_attributes(tmpG,'structure').values())\n",
    "\n",
    " mapping = dict(zip(sorted(groups),count()))\n",
    "  \n",
    " comp_nodes = [x for x,y in tmpG.nodes(data=True) if y['component']==comp_no]\n",
    " print(len(comp_nodes))\n",
    " subgraph = tmpG.subgraph(comp_nodes)\n",
    " nodes = subgraph.nodes()\n",
    " colors = [mapping[subgraph.node[n]['structure']] for n in nodes]\n",
    "\n",
    " # drawing nodes and edges separately so we can capture collection for colobar\n",
    " pos = nx.spring_layout(subgraph)\n",
    " ec = nx.draw_networkx_edges(subgraph, pos, with_labels=True,alpha=0.2)\n",
    " nc = nx.draw_networkx_nodes(subgraph, pos, nodelist=nodes, node_color=colors, \n",
    "                            with_labels=True, node_size=100, cmap=plt.cm.jet, vmin=0,vmax=5)\n",
    " plt.colorbar(nc)\n",
    " plt.axis('off')\n",
    " plt.show()\n",
    " print(nx.get_node_attributes(subgraph,'structure'))\n",
    " "
   ]
  },
  {
   "cell_type": "code",
   "execution_count": 14,
   "metadata": {},
   "outputs": [
    {
     "name": "stdout",
     "output_type": "stream",
     "text": [
      "140\n"
     ]
    },
    {
     "data": {
      "image/png": "[encoded data removed]",
      "text/plain": [
       "<Figure size 432x288 with 2 Axes>"
      ]
     },
     "metadata": {
      "needs_background": "light"
     },
     "output_type": "display_data"
    },
    {
     "name": "stdout",
     "output_type": "stream",
     "text": [
      "{289962: 1, 289963: 2, 289964: 1, 289965: 1, 289966: 2, 289967: 1, 289968: 2, 289969: 1, 289970: 1, 289971: 1, 289972: 1, 289973: 3, 289974: 1, 289975: 3, 289976: 1, 289977: 1, 289978: 1, 289979: 1, 289980: 1, 289981: 1, 289982: 1, 289983: 1, 289984: 1, 289985: 3, 289986: 1, 289987: 3, 289988: 1, 289989: 1, 289990: 3, 289991: 1, 289992: 1, 289993: 3, 289994: 1, 289995: 1, 289996: 3, 289997: 1, 289998: 3, 289999: 1, 290000: 1, 290001: 1, 290002: 1, 290003: 1, 290004: 1, 290005: 1, 290006: 1, 290007: 1, 290008: 1, 290009: 3, 290010: 1, 290011: 1, 290012: 1, 290013: 1, 290014: 3, 290015: 1, 290016: 1, 290017: 3, 290018: 1, 290019: 1, 290020: 1, 290021: 3, 290022: 1, 290023: 3, 290024: 3, 290025: 1, 290026: 3, 290027: 1, 290028: 1, 290029: 1, 290030: 1, 290031: 1, 290032: 1, 290033: 1, 290034: 1, 290035: 1, 290036: 1, 290037: 1, 290038: 2, 290039: 1, 290040: 1, 290041: 3, 290042: 3, 290043: 3, 290044: 1, 290045: 3, 290046: 1, 290047: 1, 290048: 1, 290049: 3, 290050: 1, 290051: 1, 290052: 1, 290053: 3, 290054: 1, 290055: 3, 290056: 3, 290057: 3, 290058: 1, 290059: 1, 290060: 1, 290061: 3, 290062: 1, 290063: 3, 290064: 3, 290065: 3, 290066: 1, 290067: 1, 290068: 3, 290069: 3, 290070: 3, 290071: 1, 290072: 1, 290073: 3, 290074: 1, 290075: 1, 290076: 1, 290077: 1, 290078: 1, 290079: 1, 290080: 1, 290081: 1, 290082: 1, 290083: 1, 290084: 1, 290085: 1, 290086: 3, 290087: 1, 290088: 1, 290089: 1, 290090: 1, 290091: 1, 290092: 3, 290093: 3, 290094: 1, 290095: 3, 290096: 1, 290097: 1, 290098: 1, 290099: 1, 290100: 1, 290101: 1}\n"
     ]
    }
   ],
   "source": [
    "plotGW(G,comp_sm[1])"
   ]
  },
  {
   "cell_type": "code",
   "execution_count": 15,
   "metadata": {},
   "outputs": [
    {
     "name": "stdout",
     "output_type": "stream",
     "text": [
      "99\n"
     ]
    },
    {
     "data": {
      "image/png": "[encoded data removed]",
      "text/plain": [
       "<Figure size 432x288 with 2 Axes>"
      ]
     },
     "metadata": {
      "needs_background": "light"
     },
     "output_type": "display_data"
    },
    {
     "name": "stdout",
     "output_type": "stream",
     "text": [
      "{136828: 3, 136829: 3, 136830: 0, 136831: 3, 136832: 0, 136833: 0, 136834: 3, 136835: 3, 136836: 0, 136837: 3, 136838: 0, 136839: 0, 136840: 0, 136841: 3, 136842: 3, 136843: 3, 136844: 3, 136845: 3, 136846: 3, 136847: 0, 136848: 0, 136849: 0, 136850: 3, 136851: 3, 136852: 3, 136853: 3, 136854: 3, 136855: 0, 136856: 0, 136857: 0, 136858: 0, 136859: 0, 136860: 0, 136861: 0, 136862: 0, 136863: 0, 136864: 0, 136865: 0, 136866: 3, 136867: 0, 136868: 0, 136869: 3, 136870: 3, 136871: 3, 136872: 0, 136873: 3, 136874: 0, 136875: 0, 136876: 0, 136877: 0, 136878: 0, 136879: 0, 136880: 3, 136881: 0, 136882: 0, 136883: 0, 136884: 3, 136885: 0, 136886: 3, 136887: 0, 136888: 0, 136889: 0, 136890: 0, 136891: 0, 136892: 0, 136893: 0, 136894: 3, 136895: 3, 136896: 0, 136897: 0, 136898: 3, 136899: 3, 136900: 0, 136901: 0, 136902: 3, 136903: 3, 136904: 3, 136905: 0, 136906: 0, 136907: 3, 136908: 0, 136909: 0, 136910: 0, 136911: 3, 136912: 0, 136913: 3, 136914: 0, 136915: 0, 136916: 0, 136917: 0, 136918: 3, 136919: 3, 136920: 3, 136921: 0, 136922: 3, 136923: 3, 136924: 0, 136925: 3, 136926: 0}\n"
     ]
    }
   ],
   "source": [
    "plotGW(G,comp_sm[2])"
   ]
  },
  {
   "cell_type": "code",
   "execution_count": 16,
   "metadata": {},
   "outputs": [
    {
     "name": "stdout",
     "output_type": "stream",
     "text": [
      "183\n"
     ]
    },
    {
     "data": {
      "image/png": "[encoded data removed]",
      "text/plain": [
       "<Figure size 432x288 with 2 Axes>"
      ]
     },
     "metadata": {
      "needs_background": "light"
     },
     "output_type": "display_data"
    },
    {
     "name": "stdout",
     "output_type": "stream",
     "text": [
      "{322048: 1, 322049: 1, 322050: 1, 322051: 1, 322052: 3, 322053: 1, 322054: 3, 322055: 1, 322056: 1, 322057: 1, 322058: 1, 322059: 1, 322060: 1, 322061: 1, 322062: 1, 322063: 1, 322064: 1, 322065: 1, 322066: 1, 322067: 1, 322068: 1, 322069: 1, 322070: 1, 322071: 1, 322072: 1, 322073: 1, 322074: 1, 322075: 3, 322076: 1, 322077: 1, 322078: 1, 322079: 1, 322080: 1, 322081: 1, 322082: 1, 322083: 3, 322084: 1, 322085: 1, 322086: 1, 322087: 1, 322088: 3, 322089: 1, 322090: 1, 322091: 1, 322092: 1, 321910: 1, 321911: 1, 321912: 1, 321913: 1, 321914: 1, 321915: 1, 321916: 1, 321917: 3, 321918: 1, 321919: 1, 321920: 1, 321921: 3, 321922: 1, 321923: 1, 321924: 1, 321925: 1, 321926: 1, 321927: 1, 321928: 1, 321929: 1, 321930: 1, 321931: 1, 321932: 3, 321933: 1, 321934: 1, 321935: 1, 321936: 1, 321937: 1, 321938: 1, 321939: 1, 321940: 1, 321941: 1, 321942: 1, 321943: 1, 321944: 1, 321945: 1, 321946: 1, 321947: 1, 321948: 1, 321949: 1, 321950: 1, 321951: 1, 321952: 1, 321953: 1, 321954: 1, 321955: 1, 321956: 1, 321957: 1, 321958: 1, 321959: 1, 321960: 1, 321961: 3, 321962: 3, 321963: 3, 321964: 1, 321965: 1, 321966: 1, 321967: 1, 321968: 1, 321969: 1, 321970: 1, 321971: 1, 321972: 1, 321973: 1, 321974: 1, 321975: 1, 321976: 1, 321977: 3, 321978: 1, 321979: 3, 321980: 1, 321981: 1, 321982: 1, 321983: 1, 321984: 1, 321985: 1, 321986: 1, 321987: 1, 321988: 1, 321989: 1, 321990: 1, 321991: 1, 321992: 1, 321993: 1, 321994: 1, 321995: 1, 321996: 1, 321997: 1, 321998: 1, 321999: 1, 322000: 1, 322001: 1, 322002: 1, 322003: 1, 322004: 3, 322005: 1, 322006: 1, 322007: 1, 322008: 1, 322009: 1, 322010: 1, 322011: 3, 322012: 1, 322013: 1, 322014: 1, 322015: 1, 322016: 1, 322017: 1, 322018: 1, 322019: 1, 322020: 1, 322021: 1, 322022: 1, 322023: 1, 322024: 1, 322025: 1, 322026: 1, 322027: 1, 322028: 3, 322029: 1, 322030: 1, 322031: 1, 322032: 1, 322033: 1, 322034: 1, 322035: 1, 322036: 1, 322037: 3, 322038: 1, 322039: 1, 322040: 3, 322041: 1, 322042: 1, 322043: 1, 322044: 1, 322045: 1, 322046: 1, 322047: 3}\n"
     ]
    }
   ],
   "source": [
    "plotGW(G,comp_sm[3])"
   ]
  },
  {
   "cell_type": "code",
   "execution_count": 17,
   "metadata": {},
   "outputs": [
    {
     "name": "stdout",
     "output_type": "stream",
     "text": [
      "447\n"
     ]
    },
    {
     "data": {
      "image/png": "[encoded data removed]",
      "text/plain": [
       "<Figure size 432x288 with 2 Axes>"
      ]
     },
     "metadata": {
      "needs_background": "light"
     },
     "output_type": "display_data"
    },
    {
     "name": "stdout",
     "output_type": "stream",
     "text": [
      "{22637: 0, 22638: 0, 22639: 0, 22640: 3, 22641: 0, 22642: 3, 22643: 0, 22644: 0, 22645: 0, 22646: 0, 22647: 0, 22648: 0, 22649: 0, 22650: 0, 22651: 0, 22652: 0, 22653: 3, 22654: 3, 22655: 3, 22656: 3, 22657: 3, 22658: 0, 22659: 0, 22660: 0, 22661: 0, 22662: 0, 22663: 3, 22664: 0, 22665: 0, 22666: 3, 22667: 0, 22668: 3, 22669: 0, 22670: 0, 22671: 0, 22672: 0, 22673: 3, 22674: 0, 22675: 3, 22676: 0, 22677: 0, 22678: 0, 22679: 3, 22680: 0, 22681: 0, 22682: 3, 22683: 3, 22684: 3, 22685: 3, 22686: 0, 22687: 3, 22688: 3, 22689: 0, 22690: 3, 22691: 0, 22692: 0, 22693: 0, 22694: 3, 22695: 0, 22696: 0, 22697: 0, 22698: 0, 22699: 0, 22700: 0, 22701: 0, 22702: 0, 22703: 0, 22704: 0, 22705: 0, 22706: 0, 22707: 0, 22708: 0, 22709: 0, 22710: 3, 22711: 0, 22712: 0, 22713: 0, 22714: 3, 22715: 0, 22716: 0, 22717: 3, 22718: 0, 22719: 0, 22720: 0, 22721: 0, 22722: 0, 22723: 0, 22724: 3, 22725: 0, 22726: 0, 22727: 0, 22728: 0, 22729: 0, 22730: 0, 22731: 3, 22732: 0, 22733: 0, 22734: 0, 22735: 0, 22736: 0, 22737: 3, 22738: 0, 22739: 0, 22740: 0, 22741: 0, 22742: 0, 22743: 0, 22744: 3, 22745: 0, 22746: 0, 22747: 3, 22748: 0, 22749: 0, 22750: 0, 22751: 0, 22752: 0, 22753: 0, 22754: 3, 22755: 3, 22756: 0, 22757: 0, 22758: 0, 22759: 3, 22760: 0, 22761: 3, 22762: 3, 22763: 0, 22764: 0, 22765: 0, 22766: 0, 22767: 3, 22768: 3, 22769: 0, 22770: 0, 22771: 3, 22772: 0, 22773: 0, 22774: 0, 22775: 0, 22776: 0, 22777: 0, 22778: 0, 22779: 0, 22780: 0, 22781: 0, 22782: 0, 22783: 0, 22784: 0, 22785: 0, 22786: 0, 22787: 3, 22788: 3, 22789: 0, 22790: 0, 22791: 3, 22792: 3, 22793: 0, 22794: 0, 22795: 0, 22796: 0, 22797: 0, 22798: 0, 22799: 0, 22800: 0, 22801: 3, 22802: 0, 22803: 3, 22804: 3, 22805: 0, 22806: 3, 22807: 0, 22808: 0, 22809: 0, 22810: 0, 22811: 0, 22812: 0, 22813: 0, 22814: 0, 22815: 0, 22816: 3, 22817: 0, 22818: 0, 22819: 0, 22820: 0, 22821: 0, 22822: 3, 22823: 0, 22824: 0, 22825: 0, 22826: 0, 22827: 3, 22828: 0, 22829: 0, 22830: 3, 22831: 0, 22832: 3, 22833: 3, 22834: 0, 22835: 0, 22836: 0, 22837: 0, 22838: 0, 22839: 0, 22840: 0, 22841: 0, 22842: 0, 22843: 0, 22844: 0, 22845: 0, 22846: 0, 22847: 0, 22848: 3, 22849: 0, 22850: 0, 22851: 3, 22852: 0, 22853: 3, 22854: 3, 22855: 0, 22856: 0, 22857: 0, 22858: 3, 22859: 0, 22860: 0, 22861: 0, 22862: 0, 22863: 3, 22864: 0, 22865: 0, 22866: 0, 22867: 0, 22868: 0, 22869: 0, 22870: 0, 22871: 0, 22872: 0, 22873: 0, 22874: 0, 22875: 0, 22876: 3, 22877: 0, 22878: 3, 22879: 0, 22880: 0, 22881: 0, 22882: 3, 22883: 0, 22884: 0, 22885: 3, 22886: 0, 22887: 3, 22888: 0, 22889: 0, 22890: 0, 22891: 0, 22892: 0, 22893: 3, 22894: 0, 22895: 0, 22896: 0, 22897: 0, 22898: 3, 22899: 3, 22900: 0, 22901: 0, 22902: 3, 22903: 3, 22904: 0, 22905: 3, 22906: 0, 22907: 0, 22908: 3, 22909: 0, 22910: 0, 22911: 0, 22912: 0, 22913: 0, 22914: 3, 22915: 0, 22916: 0, 22917: 0, 22918: 0, 22919: 0, 22920: 0, 22921: 0, 22922: 3, 22923: 0, 22924: 0, 22925: 3, 22926: 0, 22927: 0, 22928: 0, 22929: 0, 22930: 3, 22931: 3, 22932: 0, 22933: 0, 22934: 0, 22935: 3, 22936: 0, 22937: 0, 22938: 3, 22939: 0, 22940: 0, 22941: 0, 22942: 3, 22943: 0, 22944: 0, 22945: 0, 22946: 0, 22947: 0, 22948: 0, 22949: 3, 22950: 3, 22951: 3, 22952: 0, 22953: 3, 22954: 0, 22955: 0, 22956: 0, 22957: 3, 22958: 0, 22959: 0, 22960: 0, 22961: 0, 22962: 0, 22963: 0, 22964: 0, 22965: 0, 22966: 3, 22967: 0, 22968: 3, 22969: 0, 22970: 0, 22971: 0, 22972: 0, 22973: 0, 22974: 3, 22975: 0, 22976: 0, 22977: 3, 22978: 0, 22979: 3, 22980: 0, 22981: 0, 22982: 0, 22983: 0, 22984: 0, 22985: 3, 22986: 0, 22987: 0, 22988: 3, 22989: 0, 22990: 0, 22991: 0, 22992: 3, 22993: 0, 22994: 0, 22995: 0, 22996: 0, 22997: 3, 22998: 0, 22999: 0, 23000: 0, 23001: 0, 23002: 0, 23003: 0, 23004: 0, 23005: 0, 23006: 0, 23007: 0, 23008: 0, 23009: 0, 23010: 3, 23011: 0, 23012: 0, 23013: 3, 23014: 0, 23015: 0, 23016: 0, 23017: 0, 23018: 0, 23019: 0, 23020: 3, 23021: 0, 23022: 0, 23023: 0, 23024: 0, 23025: 0, 23026: 0, 23027: 0, 23028: 0, 23029: 3, 23030: 0, 23031: 3, 23032: 0, 23033: 0, 23034: 0, 23035: 3, 23036: 0, 23037: 0, 23038: 0, 23039: 0, 23040: 0, 23041: 0, 23042: 3, 23043: 3, 23044: 0, 23045: 0, 23046: 0, 23047: 0, 23048: 0, 23049: 3, 23050: 0, 23051: 0, 23052: 0, 23053: 3, 23054: 0, 23055: 3, 23056: 3, 23057: 0, 23058: 0, 23059: 0, 23060: 0, 23061: 0, 23062: 0, 23063: 0, 23064: 0, 23065: 3, 23066: 3, 23067: 3, 23068: 3, 23069: 0, 23070: 0, 23071: 0, 23072: 0, 23073: 0, 23074: 0, 23075: 0, 23076: 0, 23077: 0, 23078: 0, 23079: 0, 23080: 0, 23081: 0, 23082: 0, 23083: 0}\n"
     ]
    }
   ],
   "source": [
    "plotGW(G,comp_sm[101])"
   ]
  },
  {
   "cell_type": "code",
   "execution_count": 18,
   "metadata": {},
   "outputs": [
    {
     "name": "stdout",
     "output_type": "stream",
     "text": [
      "358\n"
     ]
    },
    {
     "data": {
      "image/png": "[encoded data removed]",
      "text/plain": [
       "<Figure size 432x288 with 2 Axes>"
      ]
     },
     "metadata": {
      "needs_background": "light"
     },
     "output_type": "display_data"
    },
    {
     "name": "stdout",
     "output_type": "stream",
     "text": [
      "{109421: 0, 109422: 0, 109423: 0, 109424: 0, 109425: 0, 109426: 0, 109427: 0, 109428: 0, 109429: 0, 109430: 0, 109431: 0, 109432: 0, 109433: 0, 109434: 0, 109435: 0, 109436: 0, 109437: 0, 109438: 0, 109439: 0, 109440: 0, 109441: 0, 109442: 0, 109443: 3, 109444: 0, 109445: 0, 109446: 0, 109447: 0, 109448: 0, 109449: 0, 109450: 0, 109451: 0, 109452: 0, 109453: 0, 109454: 0, 109455: 0, 109456: 0, 109457: 0, 109458: 0, 109459: 0, 109460: 0, 109461: 0, 109462: 0, 109463: 0, 109464: 0, 109465: 0, 109466: 0, 109467: 0, 109468: 0, 109469: 0, 109470: 0, 109471: 0, 109472: 0, 109473: 0, 109474: 0, 109475: 0, 109476: 0, 109477: 0, 109478: 0, 109479: 0, 109480: 0, 109481: 0, 109482: 0, 109483: 0, 109484: 0, 109485: 0, 109486: 0, 109487: 0, 109488: 0, 109489: 0, 109490: 0, 109491: 0, 109492: 0, 109493: 0, 109494: 0, 109495: 0, 109496: 0, 109497: 0, 109498: 0, 109499: 0, 109500: 0, 109501: 0, 109502: 0, 109503: 0, 109504: 0, 109505: 0, 109506: 0, 109507: 0, 109508: 0, 109509: 0, 109510: 0, 109511: 0, 109512: 0, 109513: 0, 109514: 0, 109515: 0, 109516: 0, 109517: 0, 109518: 0, 109519: 0, 109520: 0, 109521: 0, 109522: 0, 109523: 0, 109524: 0, 109525: 0, 109526: 0, 109527: 0, 109528: 0, 109529: 0, 109530: 0, 109531: 0, 109532: 0, 109533: 0, 109534: 0, 109535: 0, 109536: 0, 109537: 0, 109538: 0, 109539: 0, 109540: 0, 109541: 0, 109542: 0, 109543: 0, 109544: 0, 109545: 0, 109546: 0, 109547: 0, 109548: 0, 109549: 0, 109550: 0, 109551: 0, 109552: 0, 109553: 0, 109554: 0, 109555: 0, 109556: 0, 109557: 0, 109558: 0, 109559: 0, 109560: 0, 109561: 0, 109562: 0, 109563: 0, 109564: 0, 109565: 0, 109566: 0, 109567: 0, 109568: 0, 109569: 0, 109570: 0, 109571: 0, 109572: 0, 109573: 0, 109574: 0, 109575: 0, 109576: 0, 109577: 0, 109578: 0, 109579: 0, 109580: 0, 109581: 0, 109582: 0, 109583: 0, 109584: 0, 109585: 0, 109586: 0, 109587: 0, 109588: 0, 109589: 0, 109590: 0, 109591: 0, 109592: 0, 109593: 0, 109594: 0, 109595: 0, 109596: 0, 109597: 0, 109598: 0, 109599: 0, 109600: 0, 109601: 0, 109602: 0, 109603: 0, 109604: 0, 109605: 0, 109606: 0, 109607: 0, 109608: 0, 109609: 0, 109610: 0, 109611: 0, 109612: 0, 109613: 0, 109614: 0, 109615: 0, 109616: 0, 109617: 0, 109618: 0, 109619: 0, 109620: 0, 109621: 0, 109622: 0, 109623: 0, 109624: 0, 109625: 0, 109626: 0, 109627: 0, 109628: 0, 109629: 0, 109630: 0, 109631: 0, 109632: 0, 109633: 0, 109634: 0, 109635: 0, 109636: 0, 109637: 0, 109638: 0, 109639: 0, 109640: 0, 109641: 0, 109642: 0, 109643: 0, 109644: 0, 109645: 0, 109646: 0, 109647: 0, 109648: 0, 109649: 0, 109650: 0, 109651: 0, 109652: 0, 109653: 0, 109654: 0, 109655: 0, 109656: 0, 109657: 0, 109658: 0, 109659: 0, 109660: 0, 109661: 0, 109662: 0, 109663: 0, 109664: 0, 109665: 0, 109666: 0, 109667: 0, 109668: 0, 109669: 0, 109670: 0, 109671: 0, 109672: 0, 109673: 0, 109674: 0, 109675: 0, 109676: 0, 109677: 0, 109678: 0, 109679: 0, 109680: 0, 109681: 0, 109682: 0, 109683: 0, 109684: 0, 109685: 0, 109686: 0, 109687: 0, 109688: 0, 109689: 0, 109690: 0, 109691: 0, 109692: 0, 109693: 0, 109694: 0, 109695: 0, 109696: 0, 109697: 0, 109698: 0, 109699: 0, 109700: 0, 109701: 0, 109702: 0, 109703: 0, 109704: 0, 109705: 0, 109706: 0, 109707: 0, 109708: 0, 109709: 0, 109710: 0, 109711: 0, 109712: 0, 109713: 0, 109714: 0, 109715: 0, 109716: 0, 109717: 0, 109718: 0, 109719: 0, 109720: 0, 109721: 0, 109722: 0, 109723: 0, 109724: 0, 109725: 0, 109726: 0, 109727: 0, 109728: 0, 109729: 0, 109730: 0, 109731: 0, 109732: 0, 109733: 0, 109734: 0, 109735: 0, 109736: 0, 109737: 0, 109738: 0, 109739: 0, 109740: 0, 109741: 0, 109742: 0, 109743: 0, 109744: 0, 109745: 0, 109746: 0, 109747: 0, 109748: 0, 109749: 0, 109750: 0, 109751: 0, 109752: 0, 109753: 0, 109754: 0, 109755: 0, 109756: 0, 109757: 0, 109758: 0, 109759: 0, 109760: 0, 109761: 0, 109762: 0, 109763: 0, 109764: 0, 109765: 0, 109766: 0, 109767: 0, 109768: 0, 109769: 0, 109770: 0, 109771: 0, 109772: 0, 109773: 0, 109774: 0, 109775: 0, 109776: 0, 109777: 0, 109778: 0}\n"
     ]
    }
   ],
   "source": [
    "plotGW(G,comp_sm[51])"
   ]
  },
  {
   "cell_type": "code",
   "execution_count": 19,
   "metadata": {},
   "outputs": [
    {
     "data": {
      "text/plain": [
       "{'component': 446, 'structure': 3, 'label_0': 19}"
      ]
     },
     "execution_count": 19,
     "metadata": {},
     "output_type": "execute_result"
    }
   ],
   "source": [
    "G.nodes()[nodes_small[1]]"
   ]
  },
  {
   "cell_type": "code",
   "execution_count": 20,
   "metadata": {},
   "outputs": [
    {
     "name": "stdout",
     "output_type": "stream",
     "text": [
      "Walk iteration:\n",
      "('1', '/', '20')\n",
      "('2', '/', '20')\n",
      "('3', '/', '20')\n",
      "('4', '/', '20')\n",
      "('5', '/', '20')\n",
      "('6', '/', '20')\n",
      "('7', '/', '20')\n",
      "('8', '/', '20')\n",
      "('9', '/', '20')\n",
      "('10', '/', '20')\n",
      "('11', '/', '20')\n",
      "('12', '/', '20')\n",
      "('13', '/', '20')\n",
      "('14', '/', '20')\n",
      "('15', '/', '20')\n",
      "('16', '/', '20')\n",
      "('17', '/', '20')\n",
      "('18', '/', '20')\n",
      "('19', '/', '20')\n",
      "('20', '/', '20')\n"
     ]
    },
    {
     "name": "stderr",
     "output_type": "stream",
     "text": [
      "/notebooks/WalkRNN/module.py:140: FutureWarning: Method .as_matrix will be removed in a future version. Use .values instead.\n",
      "  sorted_walks = pd.DataFrame(walks).sort_values(0).as_matrix()\n"
     ]
    },
    {
     "name": "stdout",
     "output_type": "stream",
     "text": [
      "[  1 267 268 252 172 170 172 170 172 173 245 200 185 200 196 197 200  13  17  14  17 138  17  20  25  22 123  25  23\n",
      "  40  39  66 261  66  37  66  62  67  19  18]\n",
      "[  1  30  27  28  29 273  29 273 272 273  29  28  27 325 273  29 325 273 325  27  28 325 273 272 273 272  29 325  27\n",
      "  30  27  26  27  28  31  26  28  29 273 325]\n",
      "[  1   3  74   7  90  91  93  91  94  80  81 163 164  87 164  87 164 163  72 244 242 260 268  31 260 269 191 189 188\n",
      " 189 190 139 193 192 242 192 242 192 189 192]\n"
     ]
    }
   ],
   "source": [
    "from module import walk_as_string\n",
    "walks = walk_as_string(G, componentLabels = y,params={'num_walks': 20, 'walk_length': 40})"
   ]
  },
  {
   "cell_type": "code",
   "execution_count": 21,
   "metadata": {},
   "outputs": [],
   "source": [
    "from fastai.text import *\n",
    "from sklearn.model_selection import train_test_split\n",
    "import numpy\n"
   ]
  },
  {
   "cell_type": "code",
   "execution_count": 22,
   "metadata": {},
   "outputs": [
    {
     "data": {
      "text/html": [
       "<div>\n",
       "<style scoped>\n",
       "    .dataframe tbody tr th:only-of-type {\n",
       "        vertical-align: middle;\n",
       "    }\n",
       "\n",
       "    .dataframe tbody tr th {\n",
       "        vertical-align: top;\n",
       "    }\n",
       "\n",
       "    .dataframe thead th {\n",
       "        text-align: right;\n",
       "    }\n",
       "</style>\n",
       "<table border=\"1\" class=\"dataframe\">\n",
       "  <thead>\n",
       "    <tr style=\"text-align: right;\">\n",
       "      <th></th>\n",
       "      <th>walk</th>\n",
       "      <th>label</th>\n",
       "      <th>start_node</th>\n",
       "      <th>component</th>\n",
       "    </tr>\n",
       "  </thead>\n",
       "  <tbody>\n",
       "    <tr>\n",
       "      <th>0</th>\n",
       "      <td>0 7  0 14  0 21  0 11  0 5  0 23  0 5  0 23  0...</td>\n",
       "      <td>1</td>\n",
       "      <td>1</td>\n",
       "      <td>1</td>\n",
       "    </tr>\n",
       "    <tr>\n",
       "      <th>1</th>\n",
       "      <td>0 7  0 19  0 4  0 18  0 19  0 11  0 19  0 11  ...</td>\n",
       "      <td>1</td>\n",
       "      <td>1</td>\n",
       "      <td>1</td>\n",
       "    </tr>\n",
       "    <tr>\n",
       "      <th>2</th>\n",
       "      <td>0 7  0 13  0 13  0 20  0 16  0 4  0 23  0 4  0...</td>\n",
       "      <td>1</td>\n",
       "      <td>1</td>\n",
       "      <td>1</td>\n",
       "    </tr>\n",
       "    <tr>\n",
       "      <th>3</th>\n",
       "      <td>0 7  0 21  0 6  0 23  0 11  0 6  0 7  0 19  0 ...</td>\n",
       "      <td>1</td>\n",
       "      <td>1</td>\n",
       "      <td>1</td>\n",
       "    </tr>\n",
       "    <tr>\n",
       "      <th>4</th>\n",
       "      <td>0 7  0 21  0 11  0 5  0 11  0 21  0 11  0 13  ...</td>\n",
       "      <td>1</td>\n",
       "      <td>1</td>\n",
       "      <td>1</td>\n",
       "    </tr>\n",
       "  </tbody>\n",
       "</table>\n",
       "</div>"
      ],
      "text/plain": [
       "                                                walk  label  start_node  \\\n",
       "0  0 7  0 14  0 21  0 11  0 5  0 23  0 5  0 23  0...      1           1   \n",
       "1  0 7  0 19  0 4  0 18  0 19  0 11  0 19  0 11  ...      1           1   \n",
       "2  0 7  0 13  0 13  0 20  0 16  0 4  0 23  0 4  0...      1           1   \n",
       "3  0 7  0 21  0 6  0 23  0 11  0 6  0 7  0 19  0 ...      1           1   \n",
       "4  0 7  0 21  0 11  0 5  0 11  0 21  0 11  0 13  ...      1           1   \n",
       "\n",
       "   component  \n",
       "0          1  \n",
       "1          1  \n",
       "2          1  \n",
       "3          1  \n",
       "4          1  "
      ]
     },
     "execution_count": 22,
     "metadata": {},
     "output_type": "execute_result"
    }
   ],
   "source": [
    "walks.head()"
   ]
  },
  {
   "cell_type": "code",
   "execution_count": 23,
   "metadata": {},
   "outputs": [
    {
     "data": {
      "text/plain": [
       "array([1, 2])"
      ]
     },
     "execution_count": 23,
     "metadata": {},
     "output_type": "execute_result"
    }
   ],
   "source": [
    "walks.label.unique()"
   ]
  },
  {
   "cell_type": "code",
   "execution_count": 24,
   "metadata": {},
   "outputs": [
    {
     "data": {
      "text/plain": [
       "(2879460, 4)"
      ]
     },
     "execution_count": 24,
     "metadata": {},
     "output_type": "execute_result"
    }
   ],
   "source": [
    "walks.shape"
   ]
  },
  {
   "cell_type": "code",
   "execution_count": 25,
   "metadata": {},
   "outputs": [],
   "source": [
    "from sklearn.model_selection import train_test_split\n",
    "import numpy\n",
    "data = list(set(walks.component))\n",
    "x_traina ,x_test = train_test_split(data,test_size=0.1)    \n",
    "x_train ,x_val = train_test_split(x_traina,test_size=0.2)  \n"
   ]
  },
  {
   "cell_type": "code",
   "execution_count": 26,
   "metadata": {},
   "outputs": [
    {
     "data": {
      "text/plain": [
       "(2099880, 4)"
      ]
     },
     "execution_count": 26,
     "metadata": {},
     "output_type": "execute_result"
    }
   ],
   "source": [
    "train_tmp = pd.DataFrame(x_train)\n",
    "train_tmp.columns = ['component']\n",
    "df_train = pd.merge(walks, train_tmp, on='component', sort=False)\n",
    "df_train.shape"
   ]
  },
  {
   "cell_type": "code",
   "execution_count": 27,
   "metadata": {},
   "outputs": [
    {
     "data": {
      "text/plain": [
       "(280800, 4)"
      ]
     },
     "execution_count": 27,
     "metadata": {},
     "output_type": "execute_result"
    }
   ],
   "source": [
    "test_tmp = pd.DataFrame(x_test)\n",
    "test_tmp.columns = ['component']\n",
    "df_test = pd.merge(walks, test_tmp, on='component', sort=False)\n",
    "df_test.shape"
   ]
  },
  {
   "cell_type": "code",
   "execution_count": 28,
   "metadata": {},
   "outputs": [
    {
     "data": {
      "text/plain": [
       "(498780, 4)"
      ]
     },
     "execution_count": 28,
     "metadata": {},
     "output_type": "execute_result"
    }
   ],
   "source": [
    "val_tmp = pd.DataFrame(x_val)\n",
    "val_tmp.columns = ['component']\n",
    "df_val = pd.merge(walks, val_tmp, on='component', sort=False)\n",
    "df_val.shape"
   ]
  },
  {
   "cell_type": "code",
   "execution_count": 29,
   "metadata": {},
   "outputs": [],
   "source": [
    "!mkdir result\n",
    "mypath = './result'"
   ]
  },
  {
   "cell_type": "code",
   "execution_count": 30,
   "metadata": {},
   "outputs": [],
   "source": [
    "data_lm = TextLMDataBunch.from_df(train_df=df_train[['walk', 'label']], valid_df=df_val[[\n",
    "                                  'walk', 'label']],  path=mypath, text_cols='walk', label_cols='label')\n"
   ]
  },
  {
   "cell_type": "code",
   "execution_count": 31,
   "metadata": {},
   "outputs": [],
   "source": [
    "data_lm.save('data_lm1.pkl')"
   ]
  },
  {
   "cell_type": "code",
   "execution_count": 32,
   "metadata": {},
   "outputs": [
    {
     "name": "stdout",
     "output_type": "stream",
     "text": [
      "total 2292616\r\n",
      "-rw-r--r-- 1 root root 2347637208 Oct  8 14:06 data_lm1.pkl\r\n"
     ]
    }
   ],
   "source": [
    "!ls -l ./result"
   ]
  },
  {
   "cell_type": "code",
   "execution_count": 33,
   "metadata": {},
   "outputs": [],
   "source": [
    "bs = 32\n",
    "# load the data (can be used in the future as well to prevent reprocessing)\n",
    "data_lm = load_data(mypath, 'data_lm1.pkl', bs=bs)"
   ]
  },
  {
   "cell_type": "code",
   "execution_count": 34,
   "metadata": {},
   "outputs": [
    {
     "data": {
      "text/html": [
       "<table border=\"1\" class=\"dataframe\">\n",
       "  <thead>\n",
       "    <tr style=\"text-align: right;\">\n",
       "      <th>idx</th>\n",
       "      <th>text</th>\n",
       "    </tr>\n",
       "  </thead>\n",
       "  <tbody>\n",
       "    <tr>\n",
       "      <td>0</td>\n",
       "      <td>10 0 16 0 9 0 21 0 20 0 21 xxbos 0 7 0 19 0 4 0 18 0 19 0 11 0 19 0 11 0 10 0 11 0 19 0 18 0 4 0 12 0 11 0 19 0 12 0 11 0 12 0 4 0 18 0 12 0 11 0 10 0 11 0 10 0 19 0 12 0 4</td>\n",
       "    </tr>\n",
       "    <tr>\n",
       "      <td>1</td>\n",
       "      <td>0 23 0 9 0 23 0 20 0 15 0 9 0 19 0 7 0 19 0 15 0 14 0 9 0 23 0 15 0 23 0 11 0 9 0 11 0 23 0 23 0 15 0 23 0 19 0 11 0 15 0 23 0 9 0 23 0 23 0 19 0 15 0 14 0 15 0 9 0 19</td>\n",
       "    </tr>\n",
       "    <tr>\n",
       "      <td>2</td>\n",
       "      <td>0 6 0 7 0 20 0 7 0 20 0 7 0 20 0 7 0 20 0 7 0 6 0 22 0 19 0 14 0 19 0 22 0 19 0 14 0 19 0 14 0 19 0 14 0 19 0 14 0 15 0 11 xxbos 0 14 0 19 0 14 0 15 0 11 0 16 0 18 0 15 0</td>\n",
       "    </tr>\n",
       "    <tr>\n",
       "      <td>3</td>\n",
       "      <td>3 5 3 19 3 11 0 13 3 23 3 5 0 7 3 13 0 6 3 23 3 4 3 23 0 7 3 23 0 13 3 11 xxbos 3 14 3 16 0 5 0 17 0 5 0 16 0 15 0 23 3 23 0 15 0 16 3 7 0 10 3 14 0 10 3 7 0 5 0 9 0</td>\n",
       "    </tr>\n",
       "    <tr>\n",
       "      <td>4</td>\n",
       "      <td>23 3 4 3 13 0 16 3 13 0 19 xxbos 3 21 3 10 0 9 0 14 3 10 3 10 0 13 3 10 3 6 3 7 0 14 3 6 3 10 3 7 0 13 0 9 3 10 3 10 3 21 0 13 3 15 3 23 0 11 3 15 0 11 0 10 3 14 0 13 3 14</td>\n",
       "    </tr>\n",
       "  </tbody>\n",
       "</table>"
      ],
      "text/plain": [
       "<IPython.core.display.HTML object>"
      ]
     },
     "metadata": {},
     "output_type": "display_data"
    }
   ],
   "source": [
    "data_lm.show_batch() # take a look at the batch fed into the GPU"
   ]
  },
  {
   "cell_type": "code",
   "execution_count": 35,
   "metadata": {},
   "outputs": [],
   "source": [
    "awd_lstm_lm_config = dict(emb_sz=400, n_hid=600, n_layers=1, pad_token=1, qrnn=False, bidir=False, output_p=0.1, hidden_p=0.15, input_p=0.25, embed_p=0.02, weight_p=0.2, tie_weights=True, out_bias=True)\n",
    "awd_lstm_clas_config = dict(emb_sz=400, n_hid=600, n_layers=1, pad_token=1, qrnn=False, bidir=False, output_p=0.4,  hidden_p=0.3, input_p=0.4, embed_p=0.05, weight_p=0.5)"
   ]
  },
  {
   "cell_type": "code",
   "execution_count": 36,
   "metadata": {},
   "outputs": [
    {
     "data": {
      "text/html": [],
      "text/plain": [
       "<IPython.core.display.HTML object>"
      ]
     },
     "metadata": {},
     "output_type": "display_data"
    },
    {
     "name": "stdout",
     "output_type": "stream",
     "text": [
      "LR Finder is complete, type {learner_name}.recorder.plot() to see the graph.\n"
     ]
    },
    {
     "data": {
      "text/html": [
       "<table border=\"1\" class=\"dataframe\">\n",
       "  <thead>\n",
       "    <tr style=\"text-align: left;\">\n",
       "      <th>epoch</th>\n",
       "      <th>train_loss</th>\n",
       "      <th>valid_loss</th>\n",
       "      <th>accuracy</th>\n",
       "      <th>time</th>\n",
       "    </tr>\n",
       "  </thead>\n",
       "  <tbody>\n",
       "    <tr>\n",
       "      <td>0</td>\n",
       "      <td>1.537181</td>\n",
       "      <td>1.511885</td>\n",
       "      <td>0.528251</td>\n",
       "      <td>35:18</td>\n",
       "    </tr>\n",
       "  </tbody>\n",
       "</table>"
      ],
      "text/plain": [
       "<IPython.core.display.HTML object>"
      ]
     },
     "metadata": {},
     "output_type": "display_data"
    },
    {
     "data": {
      "image/png": "[encoded data removed]",
      "text/plain": [
       "<Figure size 432x288 with 1 Axes>"
      ]
     },
     "metadata": {},
     "output_type": "display_data"
    },
    {
     "data": {
      "image/png": "[encoded data removed]",
      "text/plain": [
       "<Figure size 432x288 with 1 Axes>"
      ]
     },
     "metadata": {
      "needs_background": "light"
     },
     "output_type": "display_data"
    },
    {
     "data": {
      "image/png": "[encoded data removed]",
      "text/plain": [
       "<Figure size 432x288 with 1 Axes>"
      ]
     },
     "metadata": {
      "needs_background": "light"
     },
     "output_type": "display_data"
    }
   ],
   "source": [
    "#learn = language_model_learner(data_lm, emb_sz=400, drop_mult=1.9, nl=1,nh = 600, callback_fns=ShowGraph)\n",
    "learn = language_model_learner(data_lm,arch=AWD_LSTM,config= awd_lstm_lm_config,drop_mult=1.9, callback_fns=ShowGraph,pretrained=False)\n",
    "learn.lr_find()\n",
    "learn.recorder.plot()\n",
    "learn.fit_one_cycle(1, 1e-2, moms=(0.8,0.7))\n",
    "learn.recorder.plot_losses()\n",
    "learn.save('fit-head')\n"
   ]
  },
  {
   "cell_type": "code",
   "execution_count": 37,
   "metadata": {},
   "outputs": [
    {
     "data": {
      "text/html": [],
      "text/plain": [
       "<IPython.core.display.HTML object>"
      ]
     },
     "metadata": {},
     "output_type": "display_data"
    },
    {
     "name": "stdout",
     "output_type": "stream",
     "text": [
      "LR Finder is complete, type {learner_name}.recorder.plot() to see the graph.\n"
     ]
    },
    {
     "data": {
      "image/png": "[encoded data removed]",
      "text/plain": [
       "<Figure size 432x288 with 1 Axes>"
      ]
     },
     "metadata": {
      "needs_background": "light"
     },
     "output_type": "display_data"
    }
   ],
   "source": [
    "learn.unfreeze()\n",
    "learn.lr_find()\n",
    "learn.recorder.plot()"
   ]
  },
  {
   "cell_type": "code",
   "execution_count": 38,
   "metadata": {},
   "outputs": [
    {
     "data": {
      "text/html": [
       "<table border=\"1\" class=\"dataframe\">\n",
       "  <thead>\n",
       "    <tr style=\"text-align: left;\">\n",
       "      <th>epoch</th>\n",
       "      <th>train_loss</th>\n",
       "      <th>valid_loss</th>\n",
       "      <th>accuracy</th>\n",
       "      <th>time</th>\n",
       "    </tr>\n",
       "  </thead>\n",
       "  <tbody>\n",
       "    <tr>\n",
       "      <td>0</td>\n",
       "      <td>1.587220</td>\n",
       "      <td>1.547291</td>\n",
       "      <td>0.521494</td>\n",
       "      <td>35:18</td>\n",
       "    </tr>\n",
       "    <tr>\n",
       "      <td>1</td>\n",
       "      <td>1.562809</td>\n",
       "      <td>1.531657</td>\n",
       "      <td>0.522184</td>\n",
       "      <td>35:17</td>\n",
       "    </tr>\n",
       "    <tr>\n",
       "      <td>2</td>\n",
       "      <td>1.532670</td>\n",
       "      <td>1.506716</td>\n",
       "      <td>0.532890</td>\n",
       "      <td>35:19</td>\n",
       "    </tr>\n",
       "  </tbody>\n",
       "</table>"
      ],
      "text/plain": [
       "<IPython.core.display.HTML object>"
      ]
     },
     "metadata": {},
     "output_type": "display_data"
    },
    {
     "data": {
      "image/png": "[encoded data removed]",
      "text/plain": [
       "<Figure size 432x288 with 1 Axes>"
      ]
     },
     "metadata": {},
     "output_type": "display_data"
    },
    {
     "name": "stderr",
     "output_type": "stream",
     "text": [
      "IOPub message rate exceeded.\n",
      "The notebook server will temporarily stop sending output\n",
      "to the client in order to avoid crashing it.\n",
      "To change this limit, set the config variable\n",
      "`--NotebookApp.iopub_msg_rate_limit`.\n",
      "\n",
      "Current values:\n",
      "NotebookApp.iopub_msg_rate_limit=1000.0 (msgs/sec)\n",
      "NotebookApp.rate_limit_window=3.0 (secs)\n",
      "\n"
     ]
    }
   ],
   "source": [
    "learn.fit_one_cycle(3, .01, moms=(0.8,0.7))"
   ]
  },
  {
   "cell_type": "code",
   "execution_count": 39,
   "metadata": {},
   "outputs": [],
   "source": [
    "learn.save('fit-head')"
   ]
  },
  {
   "cell_type": "code",
   "execution_count": 40,
   "metadata": {},
   "outputs": [],
   "source": [
    "learn.save_encoder('fine_tuned_enc3')"
   ]
  },
  {
   "cell_type": "code",
   "execution_count": 41,
   "metadata": {},
   "outputs": [],
   "source": [
    "learn.export(\"language_model_learner.pkl\")"
   ]
  },
  {
   "cell_type": "code",
   "execution_count": 42,
   "metadata": {},
   "outputs": [
    {
     "name": "stdout",
     "output_type": "stream",
     "text": [
      "data_lm1.pkl  language_model_learner.pkl  models\r\n"
     ]
    }
   ],
   "source": [
    "!ls ./result"
   ]
  },
  {
   "cell_type": "code",
   "execution_count": 43,
   "metadata": {},
   "outputs": [
    {
     "data": {
      "text/html": [
       "<div>\n",
       "<style scoped>\n",
       "    .dataframe tbody tr th:only-of-type {\n",
       "        vertical-align: middle;\n",
       "    }\n",
       "\n",
       "    .dataframe tbody tr th {\n",
       "        vertical-align: top;\n",
       "    }\n",
       "\n",
       "    .dataframe thead th {\n",
       "        text-align: right;\n",
       "    }\n",
       "</style>\n",
       "<table border=\"1\" class=\"dataframe\">\n",
       "  <thead>\n",
       "    <tr style=\"text-align: right;\">\n",
       "      <th></th>\n",
       "      <th>walk</th>\n",
       "      <th>label</th>\n",
       "      <th>start_node</th>\n",
       "      <th>component</th>\n",
       "      <th>index1</th>\n",
       "      <th>RN</th>\n",
       "    </tr>\n",
       "  </thead>\n",
       "  <tbody>\n",
       "    <tr>\n",
       "      <th>696</th>\n",
       "      <td>1 18  1 14  1 20  1 13  1 9  1 12  1 11  1 15 ...</td>\n",
       "      <td>2</td>\n",
       "      <td>285030</td>\n",
       "      <td>898</td>\n",
       "      <td>696</td>\n",
       "      <td>1.0</td>\n",
       "    </tr>\n",
       "    <tr>\n",
       "      <th>739</th>\n",
       "      <td>1 23  2 9  3 7  1 12  2 9  1 20  2 9  1 20  2 ...</td>\n",
       "      <td>2</td>\n",
       "      <td>285017</td>\n",
       "      <td>898</td>\n",
       "      <td>739</td>\n",
       "      <td>2.0</td>\n",
       "    </tr>\n",
       "    <tr>\n",
       "      <th>1206</th>\n",
       "      <td>1 13  1 22  1 13  1 14  1 13  2 18  1 6  1 19 ...</td>\n",
       "      <td>2</td>\n",
       "      <td>285151</td>\n",
       "      <td>898</td>\n",
       "      <td>1206</td>\n",
       "      <td>3.0</td>\n",
       "    </tr>\n",
       "    <tr>\n",
       "      <th>2176</th>\n",
       "      <td>1 6  1 11  1 22  1 14  1 13  1 14  1 13  1 6  ...</td>\n",
       "      <td>2</td>\n",
       "      <td>285147</td>\n",
       "      <td>898</td>\n",
       "      <td>2176</td>\n",
       "      <td>4.0</td>\n",
       "    </tr>\n",
       "    <tr>\n",
       "      <th>3984</th>\n",
       "      <td>2 10  1 5  1 14  1 5  1 14  1 5  2 10  1 23  1...</td>\n",
       "      <td>2</td>\n",
       "      <td>285229</td>\n",
       "      <td>898</td>\n",
       "      <td>3984</td>\n",
       "      <td>5.0</td>\n",
       "    </tr>\n",
       "  </tbody>\n",
       "</table>\n",
       "</div>"
      ],
      "text/plain": [
       "                                                   walk  label  start_node  \\\n",
       "696   1 18  1 14  1 20  1 13  1 9  1 12  1 11  1 15 ...      2      285030   \n",
       "739   1 23  2 9  3 7  1 12  2 9  1 20  2 9  1 20  2 ...      2      285017   \n",
       "1206  1 13  1 22  1 13  1 14  1 13  2 18  1 6  1 19 ...      2      285151   \n",
       "2176  1 6  1 11  1 22  1 14  1 13  1 14  1 13  1 6  ...      2      285147   \n",
       "3984  2 10  1 5  1 14  1 5  1 14  1 5  2 10  1 23  1...      2      285229   \n",
       "\n",
       "      component  index1   RN  \n",
       "696         898     696  1.0  \n",
       "739         898     739  2.0  \n",
       "1206        898    1206  3.0  \n",
       "2176        898    2176  4.0  \n",
       "3984        898    3984  5.0  "
      ]
     },
     "execution_count": 43,
     "metadata": {},
     "output_type": "execute_result"
    }
   ],
   "source": [
    "df = walks.sample(frac=1).reset_index(drop=True)\n",
    "df['index1']=df.index\n",
    "\n",
    "g = df.groupby('component')\n",
    "df['RN'] = g['index1'].rank(method='min')\n",
    "\n",
    "df[df['component']==x_train[1]].head()\n"
   ]
  },
  {
   "cell_type": "code",
   "execution_count": 44,
   "metadata": {},
   "outputs": [
    {
     "data": {
      "text/html": [
       "<div>\n",
       "<style scoped>\n",
       "    .dataframe tbody tr th:only-of-type {\n",
       "        vertical-align: middle;\n",
       "    }\n",
       "\n",
       "    .dataframe tbody tr th {\n",
       "        vertical-align: top;\n",
       "    }\n",
       "\n",
       "    .dataframe thead th {\n",
       "        text-align: right;\n",
       "    }\n",
       "</style>\n",
       "<table border=\"1\" class=\"dataframe\">\n",
       "  <thead>\n",
       "    <tr style=\"text-align: right;\">\n",
       "      <th></th>\n",
       "      <th>label</th>\n",
       "      <th>text</th>\n",
       "    </tr>\n",
       "    <tr>\n",
       "      <th>component</th>\n",
       "      <th></th>\n",
       "      <th></th>\n",
       "    </tr>\n",
       "  </thead>\n",
       "  <tbody>\n",
       "    <tr>\n",
       "      <th>1</th>\n",
       "      <td>1</td>\n",
       "      <td>0 12  0 17  0 7  0 12  0 7  0 9  0 20  0 9  0 ...</td>\n",
       "    </tr>\n",
       "    <tr>\n",
       "      <th>2</th>\n",
       "      <td>1</td>\n",
       "      <td>0 14  0 15  0 13  0 11  0 23  0 11  0 22  0 16...</td>\n",
       "    </tr>\n",
       "    <tr>\n",
       "      <th>6</th>\n",
       "      <td>1</td>\n",
       "      <td>0 20  0 17  0 22  0 17  0 19  0 7  0 13  0 14 ...</td>\n",
       "    </tr>\n",
       "    <tr>\n",
       "      <th>7</th>\n",
       "      <td>1</td>\n",
       "      <td>0 10  0 4  0 15  0 23  0 22  0 23  0 10  0 6  ...</td>\n",
       "    </tr>\n",
       "    <tr>\n",
       "      <th>9</th>\n",
       "      <td>1</td>\n",
       "      <td>0 23  0 14  0 10  0 4  0 15  0 19  0 6  0 19  ...</td>\n",
       "    </tr>\n",
       "  </tbody>\n",
       "</table>\n",
       "</div>"
      ],
      "text/plain": [
       "           label                                               text\n",
       "component                                                          \n",
       "1              1  0 12  0 17  0 7  0 12  0 7  0 9  0 20  0 9  0 ...\n",
       "2              1  0 14  0 15  0 13  0 11  0 23  0 11  0 22  0 16...\n",
       "6              1  0 20  0 17  0 22  0 17  0 19  0 7  0 13  0 14 ...\n",
       "7              1  0 10  0 4  0 15  0 23  0 22  0 23  0 10  0 6  ...\n",
       "9              1  0 23  0 14  0 10  0 4  0 15  0 19  0 6  0 19  ..."
      ]
     },
     "execution_count": 44,
     "metadata": {},
     "output_type": "execute_result"
    }
   ],
   "source": [
    "df.groupby('component')['walk'].apply(lambda x: ', '.join(x))\n",
    "\n",
    "def f(x):\n",
    "     return Series(dict(label = x['label'].min(), text =  ', '.join(x['walk'])))\n",
    "df_text_comp = df[(df['RN']<=9.0)].groupby('component').apply(f)\n",
    "df_text_comp.head()"
   ]
  },
  {
   "cell_type": "code",
   "execution_count": 45,
   "metadata": {},
   "outputs": [
    {
     "data": {
      "text/html": [
       "<div>\n",
       "<style scoped>\n",
       "    .dataframe tbody tr th:only-of-type {\n",
       "        vertical-align: middle;\n",
       "    }\n",
       "\n",
       "    .dataframe tbody tr th {\n",
       "        vertical-align: top;\n",
       "    }\n",
       "\n",
       "    .dataframe thead th {\n",
       "        text-align: right;\n",
       "    }\n",
       "</style>\n",
       "<table border=\"1\" class=\"dataframe\">\n",
       "  <thead>\n",
       "    <tr style=\"text-align: right;\">\n",
       "      <th></th>\n",
       "      <th>label</th>\n",
       "      <th>text</th>\n",
       "      <th>component</th>\n",
       "    </tr>\n",
       "    <tr>\n",
       "      <th>comp</th>\n",
       "      <th></th>\n",
       "      <th></th>\n",
       "      <th></th>\n",
       "    </tr>\n",
       "  </thead>\n",
       "  <tbody>\n",
       "    <tr>\n",
       "      <th>1</th>\n",
       "      <td>1</td>\n",
       "      <td>0 12  0 17  0 7  0 12  0 7  0 9  0 20  0 9  0 ...</td>\n",
       "      <td>1</td>\n",
       "    </tr>\n",
       "    <tr>\n",
       "      <th>2</th>\n",
       "      <td>1</td>\n",
       "      <td>0 14  0 15  0 13  0 11  0 23  0 11  0 22  0 16...</td>\n",
       "      <td>2</td>\n",
       "    </tr>\n",
       "    <tr>\n",
       "      <th>6</th>\n",
       "      <td>1</td>\n",
       "      <td>0 20  0 17  0 22  0 17  0 19  0 7  0 13  0 14 ...</td>\n",
       "      <td>6</td>\n",
       "    </tr>\n",
       "    <tr>\n",
       "      <th>7</th>\n",
       "      <td>1</td>\n",
       "      <td>0 10  0 4  0 15  0 23  0 22  0 23  0 10  0 6  ...</td>\n",
       "      <td>7</td>\n",
       "    </tr>\n",
       "    <tr>\n",
       "      <th>9</th>\n",
       "      <td>1</td>\n",
       "      <td>0 23  0 14  0 10  0 4  0 15  0 19  0 6  0 19  ...</td>\n",
       "      <td>9</td>\n",
       "    </tr>\n",
       "  </tbody>\n",
       "</table>\n",
       "</div>"
      ],
      "text/plain": [
       "      label                                               text  component\n",
       "comp                                                                     \n",
       "1         1  0 12  0 17  0 7  0 12  0 7  0 9  0 20  0 9  0 ...          1\n",
       "2         1  0 14  0 15  0 13  0 11  0 23  0 11  0 22  0 16...          2\n",
       "6         1  0 20  0 17  0 22  0 17  0 19  0 7  0 13  0 14 ...          6\n",
       "7         1  0 10  0 4  0 15  0 23  0 22  0 23  0 10  0 6  ...          7\n",
       "9         1  0 23  0 14  0 10  0 4  0 15  0 19  0 6  0 19  ...          9"
      ]
     },
     "execution_count": 45,
     "metadata": {},
     "output_type": "execute_result"
    }
   ],
   "source": [
    "df_text_comp['component']= df_text_comp.index\n",
    "df_text_comp.index.names = ['comp']\n",
    "df_text_comp.head()"
   ]
  },
  {
   "cell_type": "code",
   "execution_count": 46,
   "metadata": {},
   "outputs": [
    {
     "data": {
      "text/plain": [
       "((360, 3), (90, 3), (50, 3), 0.72)"
      ]
     },
     "execution_count": 46,
     "metadata": {},
     "output_type": "execute_result"
    }
   ],
   "source": [
    "train = pd.merge(df_text_comp, train_tmp, on='component', sort=False)\n",
    "test =  pd.merge(df_text_comp, test_tmp, on='component', sort=False)\n",
    "val =  pd.merge(df_text_comp, val_tmp, on='component', sort=False)\n",
    "(train.shape,val.shape, test.shape, train.shape[0]/df_text_comp.shape[0])"
   ]
  },
  {
   "cell_type": "code",
   "execution_count": 47,
   "metadata": {},
   "outputs": [],
   "source": [
    "bs=32#48\n",
    "\n",
    "data_clas = TextClasDataBunch.from_df(train_df=train[['text','label']],valid_df=val[['text','label']],  path=mypath, text_cols='text',label_cols = 'label', vocab=data_lm.vocab)\n"
   ]
  },
  {
   "cell_type": "code",
   "execution_count": 48,
   "metadata": {},
   "outputs": [],
   "source": [
    "data_clas.save('tmp_clas1')"
   ]
  },
  {
   "cell_type": "code",
   "execution_count": 49,
   "metadata": {},
   "outputs": [],
   "source": [
    "data_clas = load_data(mypath, 'tmp_clas1', bs=bs)"
   ]
  },
  {
   "cell_type": "code",
   "execution_count": 50,
   "metadata": {},
   "outputs": [
    {
     "data": {
      "text/html": [
       "<table border=\"1\" class=\"dataframe\">\n",
       "  <thead>\n",
       "    <tr style=\"text-align: right;\">\n",
       "      <th>text</th>\n",
       "      <th>target</th>\n",
       "    </tr>\n",
       "  </thead>\n",
       "  <tbody>\n",
       "    <tr>\n",
       "      <td>xxbos 3 6 1 10 1 19 1 14 3 16 1 14 3 19 3 6 1 13 1 5 1 15 1 21 3 23 1 21 3 23 1 15 1 6 1 10 1 18 3 4 1 22 1 23 1 18 1 10 1 15 3 23 1 5 1 10 3 6 3 22 3 19 1 10 3 16 1 10 1</td>\n",
       "      <td>2</td>\n",
       "    </tr>\n",
       "    <tr>\n",
       "      <td>xxbos 3 5 3 14 3 13 3 15 3 14 3 14 3 14 3 14 3 14 3 14 3 11 3 14 3 11 3 14 3 14 3 20 0 14 3 15 3 11 0 19 3 14 3 18 3 11 3 14 3 11 3 15 3 7 0 4 3 18 3 23 3 18 0 4 3 18 3 4 0</td>\n",
       "      <td>1</td>\n",
       "    </tr>\n",
       "    <tr>\n",
       "      <td>xxbos 0 17 0 5 0 13 0 4 0 13 0 23 0 6 0 19 0 23 0 20 0 11 0 13 0 15 0 10 0 7 0 15 0 10 0 15 0 7 0 17 0 7 0 17 0 17 0 4 0 14 0 17 0 19 0 17 0 5 0 19 0 5 0 17 0 17 0 17 0</td>\n",
       "      <td>1</td>\n",
       "    </tr>\n",
       "    <tr>\n",
       "      <td>xxbos 2 15 1 18 2 15 1 19 2 15 2 15 2 15 1 19 2 17 2 22 2 17 1 18 1 19 2 15 1 19 1 18 2 15 1 18 2 17 1 23 1 20 2 5 1 20 2 23 1 20 1 19 2 21 2 17 2 21 2 14 2 4 2 13 2 22 2 10 2</td>\n",
       "      <td>2</td>\n",
       "    </tr>\n",
       "    <tr>\n",
       "      <td>xxbos 0 15 0 17 0 15 0 15 0 9 0 6 0 23 0 22 0 9 0 22 0 11 0 10 0 11 0 23 0 22 0 6 0 23 0 11 0 6 0 11 0 6 0 23 0 9 0 7 0 9 0 17 0 22 0 9 0 6 0 11 0 23 0 18 0 23 0 9 0</td>\n",
       "      <td>1</td>\n",
       "    </tr>\n",
       "  </tbody>\n",
       "</table>"
      ],
      "text/plain": [
       "<IPython.core.display.HTML object>"
      ]
     },
     "metadata": {},
     "output_type": "display_data"
    }
   ],
   "source": [
    "data_clas.show_batch()"
   ]
  },
  {
   "cell_type": "code",
   "execution_count": 74,
   "metadata": {},
   "outputs": [],
   "source": [
    "#learn = text_classifier_learner(data_clas, emb_sz=400, drop_mult=1.9, nl=1,nh = 600)\n",
    "learn = text_classifier_learner(data_clas,arch=AWD_LSTM,config = awd_lstm_clas_config, drop_mult=2.0,pretrained=False)\n",
    "learn.load_encoder('fine_tuned_enc3')\n",
    "learn.freeze()"
   ]
  },
  {
   "cell_type": "code",
   "execution_count": 75,
   "metadata": {},
   "outputs": [
    {
     "data": {
      "text/html": [],
      "text/plain": [
       "<IPython.core.display.HTML object>"
      ]
     },
     "metadata": {},
     "output_type": "display_data"
    },
    {
     "name": "stdout",
     "output_type": "stream",
     "text": [
      "LR Finder is complete, type {learner_name}.recorder.plot() to see the graph.\n"
     ]
    }
   ],
   "source": [
    "learn.lr_find()"
   ]
  },
  {
   "cell_type": "code",
   "execution_count": 76,
   "metadata": {},
   "outputs": [
    {
     "data": {
      "image/png": "[encoded data removed]",
      "text/plain": [
       "<Figure size 432x288 with 1 Axes>"
      ]
     },
     "metadata": {
      "needs_background": "light"
     },
     "output_type": "display_data"
    }
   ],
   "source": [
    "learn.recorder.plot()"
   ]
  },
  {
   "cell_type": "code",
   "execution_count": 77,
   "metadata": {},
   "outputs": [
    {
     "data": {
      "text/html": [
       "<table border=\"1\" class=\"dataframe\">\n",
       "  <thead>\n",
       "    <tr style=\"text-align: left;\">\n",
       "      <th>epoch</th>\n",
       "      <th>train_loss</th>\n",
       "      <th>valid_loss</th>\n",
       "      <th>accuracy</th>\n",
       "      <th>time</th>\n",
       "    </tr>\n",
       "  </thead>\n",
       "  <tbody>\n",
       "    <tr>\n",
       "      <td>0</td>\n",
       "      <td>0.405923</td>\n",
       "      <td>0.651388</td>\n",
       "      <td>0.500000</td>\n",
       "      <td>00:04</td>\n",
       "    </tr>\n",
       "  </tbody>\n",
       "</table>"
      ],
      "text/plain": [
       "<IPython.core.display.HTML object>"
      ]
     },
     "metadata": {},
     "output_type": "display_data"
    }
   ],
   "source": [
    "learn.fit_one_cycle(1, .1, moms=(0.8,0.7))"
   ]
  },
  {
   "cell_type": "code",
   "execution_count": 78,
   "metadata": {},
   "outputs": [],
   "source": [
    "def predict(test,learn):\n",
    "  predictions=[]\n",
    "  for index, row in test.iterrows():\n",
    "    p=learn.predict(row['text'])\n",
    "    #print((row['label'],str(p[0])))\n",
    "    predictions.append((row['text'],str(row['label']),str(p[0])))\n",
    "  dfpred = pd.DataFrame(predictions)\n",
    "  dfpred.columns=['text','label','prediction']\n",
    "  match=dfpred[(dfpred['label']==dfpred['prediction'])]\n",
    "  #match.head()\n",
    "  print((dfpred.shape[0], match.shape[0],match.shape[0]/dfpred.shape[0]))"
   ]
  },
  {
   "cell_type": "code",
   "execution_count": 79,
   "metadata": {},
   "outputs": [
    {
     "data": {
      "text/html": [
       "<table border=\"1\" class=\"dataframe\">\n",
       "  <thead>\n",
       "    <tr style=\"text-align: left;\">\n",
       "      <th>epoch</th>\n",
       "      <th>train_loss</th>\n",
       "      <th>valid_loss</th>\n",
       "      <th>accuracy</th>\n",
       "      <th>time</th>\n",
       "    </tr>\n",
       "  </thead>\n",
       "  <tbody>\n",
       "    <tr>\n",
       "      <td>0</td>\n",
       "      <td>0.320334</td>\n",
       "      <td>0.676883</td>\n",
       "      <td>0.500000</td>\n",
       "      <td>00:04</td>\n",
       "    </tr>\n",
       "  </tbody>\n",
       "</table>"
      ],
      "text/plain": [
       "<IPython.core.display.HTML object>"
      ]
     },
     "metadata": {},
     "output_type": "display_data"
    }
   ],
   "source": [
    "learn.fit_one_cycle(1, .1, moms=(0.8,0.7))"
   ]
  },
  {
   "cell_type": "code",
   "execution_count": 80,
   "metadata": {},
   "outputs": [
    {
     "data": {
      "text/html": [
       "<table border=\"1\" class=\"dataframe\">\n",
       "  <thead>\n",
       "    <tr style=\"text-align: left;\">\n",
       "      <th>epoch</th>\n",
       "      <th>train_loss</th>\n",
       "      <th>valid_loss</th>\n",
       "      <th>accuracy</th>\n",
       "      <th>time</th>\n",
       "    </tr>\n",
       "  </thead>\n",
       "  <tbody>\n",
       "    <tr>\n",
       "      <td>0</td>\n",
       "      <td>0.317873</td>\n",
       "      <td>0.464301</td>\n",
       "      <td>0.766667</td>\n",
       "      <td>00:06</td>\n",
       "    </tr>\n",
       "    <tr>\n",
       "      <td>1</td>\n",
       "      <td>0.284078</td>\n",
       "      <td>0.582543</td>\n",
       "      <td>0.544444</td>\n",
       "      <td>00:06</td>\n",
       "    </tr>\n",
       "    <tr>\n",
       "      <td>2</td>\n",
       "      <td>0.273636</td>\n",
       "      <td>0.232244</td>\n",
       "      <td>0.933333</td>\n",
       "      <td>00:06</td>\n",
       "    </tr>\n",
       "    <tr>\n",
       "      <td>3</td>\n",
       "      <td>0.259444</td>\n",
       "      <td>0.249032</td>\n",
       "      <td>0.922222</td>\n",
       "      <td>00:06</td>\n",
       "    </tr>\n",
       "    <tr>\n",
       "      <td>4</td>\n",
       "      <td>0.258786</td>\n",
       "      <td>0.290534</td>\n",
       "      <td>0.900000</td>\n",
       "      <td>00:06</td>\n",
       "    </tr>\n",
       "    <tr>\n",
       "      <td>5</td>\n",
       "      <td>0.253364</td>\n",
       "      <td>0.275627</td>\n",
       "      <td>0.900000</td>\n",
       "      <td>00:06</td>\n",
       "    </tr>\n",
       "    <tr>\n",
       "      <td>6</td>\n",
       "      <td>0.241959</td>\n",
       "      <td>0.313967</td>\n",
       "      <td>0.888889</td>\n",
       "      <td>00:06</td>\n",
       "    </tr>\n",
       "    <tr>\n",
       "      <td>7</td>\n",
       "      <td>0.240771</td>\n",
       "      <td>0.341844</td>\n",
       "      <td>0.844444</td>\n",
       "      <td>00:06</td>\n",
       "    </tr>\n",
       "  </tbody>\n",
       "</table>"
      ],
      "text/plain": [
       "<IPython.core.display.HTML object>"
      ]
     },
     "metadata": {},
     "output_type": "display_data"
    }
   ],
   "source": [
    "learn.unfreeze()\n",
    "learn.fit_one_cycle(8, slice(5e-2/(2.6**4),5e-02), moms=(0.8,0.7))\n"
   ]
  },
  {
   "cell_type": "code",
   "execution_count": 81,
   "metadata": {},
   "outputs": [
    {
     "name": "stdout",
     "output_type": "stream",
     "text": [
      "(50, 46, 0.92)\n"
     ]
    }
   ],
   "source": [
    "predict(test,learn)"
   ]
  },
  {
   "cell_type": "code",
   "execution_count": 82,
   "metadata": {},
   "outputs": [
    {
     "data": {
      "text/html": [
       "<table border=\"1\" class=\"dataframe\">\n",
       "  <thead>\n",
       "    <tr style=\"text-align: left;\">\n",
       "      <th>epoch</th>\n",
       "      <th>train_loss</th>\n",
       "      <th>valid_loss</th>\n",
       "      <th>accuracy</th>\n",
       "      <th>time</th>\n",
       "    </tr>\n",
       "  </thead>\n",
       "  <tbody>\n",
       "    <tr>\n",
       "      <td>0</td>\n",
       "      <td>0.232238</td>\n",
       "      <td>0.365101</td>\n",
       "      <td>0.844444</td>\n",
       "      <td>00:06</td>\n",
       "    </tr>\n",
       "    <tr>\n",
       "      <td>1</td>\n",
       "      <td>0.229838</td>\n",
       "      <td>0.311252</td>\n",
       "      <td>0.888889</td>\n",
       "      <td>00:06</td>\n",
       "    </tr>\n",
       "    <tr>\n",
       "      <td>2</td>\n",
       "      <td>0.226938</td>\n",
       "      <td>0.282698</td>\n",
       "      <td>0.888889</td>\n",
       "      <td>00:06</td>\n",
       "    </tr>\n",
       "    <tr>\n",
       "      <td>3</td>\n",
       "      <td>0.216813</td>\n",
       "      <td>0.264844</td>\n",
       "      <td>0.900000</td>\n",
       "      <td>00:06</td>\n",
       "    </tr>\n",
       "    <tr>\n",
       "      <td>4</td>\n",
       "      <td>0.218181</td>\n",
       "      <td>0.274553</td>\n",
       "      <td>0.888889</td>\n",
       "      <td>00:06</td>\n",
       "    </tr>\n",
       "    <tr>\n",
       "      <td>5</td>\n",
       "      <td>0.222507</td>\n",
       "      <td>0.252355</td>\n",
       "      <td>0.922222</td>\n",
       "      <td>00:06</td>\n",
       "    </tr>\n",
       "    <tr>\n",
       "      <td>6</td>\n",
       "      <td>0.221517</td>\n",
       "      <td>0.270890</td>\n",
       "      <td>0.911111</td>\n",
       "      <td>00:06</td>\n",
       "    </tr>\n",
       "    <tr>\n",
       "      <td>7</td>\n",
       "      <td>0.224835</td>\n",
       "      <td>0.280897</td>\n",
       "      <td>0.888889</td>\n",
       "      <td>00:06</td>\n",
       "    </tr>\n",
       "    <tr>\n",
       "      <td>8</td>\n",
       "      <td>0.221946</td>\n",
       "      <td>0.279553</td>\n",
       "      <td>0.900000</td>\n",
       "      <td>00:06</td>\n",
       "    </tr>\n",
       "    <tr>\n",
       "      <td>9</td>\n",
       "      <td>0.221795</td>\n",
       "      <td>0.264115</td>\n",
       "      <td>0.911111</td>\n",
       "      <td>00:06</td>\n",
       "    </tr>\n",
       "    <tr>\n",
       "      <td>10</td>\n",
       "      <td>0.215829</td>\n",
       "      <td>0.237458</td>\n",
       "      <td>0.922222</td>\n",
       "      <td>00:06</td>\n",
       "    </tr>\n",
       "    <tr>\n",
       "      <td>11</td>\n",
       "      <td>0.216781</td>\n",
       "      <td>0.261583</td>\n",
       "      <td>0.911111</td>\n",
       "      <td>00:06</td>\n",
       "    </tr>\n",
       "    <tr>\n",
       "      <td>12</td>\n",
       "      <td>0.217093</td>\n",
       "      <td>0.249165</td>\n",
       "      <td>0.911111</td>\n",
       "      <td>00:06</td>\n",
       "    </tr>\n",
       "    <tr>\n",
       "      <td>13</td>\n",
       "      <td>0.217364</td>\n",
       "      <td>0.272418</td>\n",
       "      <td>0.911111</td>\n",
       "      <td>00:06</td>\n",
       "    </tr>\n",
       "    <tr>\n",
       "      <td>14</td>\n",
       "      <td>0.215540</td>\n",
       "      <td>0.285441</td>\n",
       "      <td>0.888889</td>\n",
       "      <td>00:06</td>\n",
       "    </tr>\n",
       "    <tr>\n",
       "      <td>15</td>\n",
       "      <td>0.218604</td>\n",
       "      <td>0.255460</td>\n",
       "      <td>0.911111</td>\n",
       "      <td>00:06</td>\n",
       "    </tr>\n",
       "  </tbody>\n",
       "</table>"
      ],
      "text/plain": [
       "<IPython.core.display.HTML object>"
      ]
     },
     "metadata": {},
     "output_type": "display_data"
    }
   ],
   "source": [
    "learn.fit_one_cycle(16, slice(5e-3/(2.6**4),5e-3), moms=(0.8,0.7))"
   ]
  },
  {
   "cell_type": "code",
   "execution_count": 83,
   "metadata": {},
   "outputs": [
    {
     "name": "stdout",
     "output_type": "stream",
     "text": [
      "(50, 46, 0.92)\n"
     ]
    }
   ],
   "source": [
    "predict(test,learn)"
   ]
  },
  {
   "cell_type": "markdown",
   "metadata": {},
   "source": [
    "learn.save('fit-classifier')"
   ]
  },
  {
   "cell_type": "code",
   "execution_count": 84,
   "metadata": {},
   "outputs": [
    {
     "data": {
      "text/html": [
       "<table border=\"1\" class=\"dataframe\">\n",
       "  <thead>\n",
       "    <tr style=\"text-align: left;\">\n",
       "      <th>epoch</th>\n",
       "      <th>train_loss</th>\n",
       "      <th>valid_loss</th>\n",
       "      <th>accuracy</th>\n",
       "      <th>time</th>\n",
       "    </tr>\n",
       "  </thead>\n",
       "  <tbody>\n",
       "    <tr>\n",
       "      <td>0</td>\n",
       "      <td>0.199942</td>\n",
       "      <td>0.260877</td>\n",
       "      <td>0.911111</td>\n",
       "      <td>00:06</td>\n",
       "    </tr>\n",
       "    <tr>\n",
       "      <td>1</td>\n",
       "      <td>0.225433</td>\n",
       "      <td>0.283830</td>\n",
       "      <td>0.888889</td>\n",
       "      <td>00:06</td>\n",
       "    </tr>\n",
       "    <tr>\n",
       "      <td>2</td>\n",
       "      <td>0.214197</td>\n",
       "      <td>0.273421</td>\n",
       "      <td>0.888889</td>\n",
       "      <td>00:06</td>\n",
       "    </tr>\n",
       "    <tr>\n",
       "      <td>3</td>\n",
       "      <td>0.210364</td>\n",
       "      <td>0.257738</td>\n",
       "      <td>0.911111</td>\n",
       "      <td>00:06</td>\n",
       "    </tr>\n",
       "    <tr>\n",
       "      <td>4</td>\n",
       "      <td>0.207016</td>\n",
       "      <td>0.271216</td>\n",
       "      <td>0.911111</td>\n",
       "      <td>00:06</td>\n",
       "    </tr>\n",
       "    <tr>\n",
       "      <td>5</td>\n",
       "      <td>0.198009</td>\n",
       "      <td>0.307233</td>\n",
       "      <td>0.888889</td>\n",
       "      <td>00:06</td>\n",
       "    </tr>\n",
       "    <tr>\n",
       "      <td>6</td>\n",
       "      <td>0.198823</td>\n",
       "      <td>0.267993</td>\n",
       "      <td>0.911111</td>\n",
       "      <td>00:06</td>\n",
       "    </tr>\n",
       "    <tr>\n",
       "      <td>7</td>\n",
       "      <td>0.202443</td>\n",
       "      <td>0.330314</td>\n",
       "      <td>0.866667</td>\n",
       "      <td>00:06</td>\n",
       "    </tr>\n",
       "    <tr>\n",
       "      <td>8</td>\n",
       "      <td>0.196323</td>\n",
       "      <td>0.295047</td>\n",
       "      <td>0.888889</td>\n",
       "      <td>00:06</td>\n",
       "    </tr>\n",
       "    <tr>\n",
       "      <td>9</td>\n",
       "      <td>0.199639</td>\n",
       "      <td>0.263752</td>\n",
       "      <td>0.911111</td>\n",
       "      <td>00:06</td>\n",
       "    </tr>\n",
       "    <tr>\n",
       "      <td>10</td>\n",
       "      <td>0.202428</td>\n",
       "      <td>0.279085</td>\n",
       "      <td>0.900000</td>\n",
       "      <td>00:06</td>\n",
       "    </tr>\n",
       "    <tr>\n",
       "      <td>11</td>\n",
       "      <td>0.204297</td>\n",
       "      <td>0.205997</td>\n",
       "      <td>0.933333</td>\n",
       "      <td>00:06</td>\n",
       "    </tr>\n",
       "    <tr>\n",
       "      <td>12</td>\n",
       "      <td>0.198203</td>\n",
       "      <td>0.227931</td>\n",
       "      <td>0.922222</td>\n",
       "      <td>00:06</td>\n",
       "    </tr>\n",
       "    <tr>\n",
       "      <td>13</td>\n",
       "      <td>0.201269</td>\n",
       "      <td>0.220540</td>\n",
       "      <td>0.922222</td>\n",
       "      <td>00:06</td>\n",
       "    </tr>\n",
       "    <tr>\n",
       "      <td>14</td>\n",
       "      <td>0.197828</td>\n",
       "      <td>0.253099</td>\n",
       "      <td>0.922222</td>\n",
       "      <td>00:06</td>\n",
       "    </tr>\n",
       "    <tr>\n",
       "      <td>15</td>\n",
       "      <td>0.196836</td>\n",
       "      <td>0.221471</td>\n",
       "      <td>0.922222</td>\n",
       "      <td>00:06</td>\n",
       "    </tr>\n",
       "  </tbody>\n",
       "</table>"
      ],
      "text/plain": [
       "<IPython.core.display.HTML object>"
      ]
     },
     "metadata": {},
     "output_type": "display_data"
    }
   ],
   "source": [
    "learn.fit_one_cycle(16, slice(5e-3/(2.6**4),5e-3), moms=(0.8,0.7))"
   ]
  },
  {
   "cell_type": "code",
   "execution_count": 85,
   "metadata": {},
   "outputs": [
    {
     "name": "stdout",
     "output_type": "stream",
     "text": [
      "(50, 46, 0.92)\n"
     ]
    }
   ],
   "source": [
    "predict(test,learn)"
   ]
  },
  {
   "cell_type": "code",
   "execution_count": 86,
   "metadata": {},
   "outputs": [
    {
     "data": {
      "text/plain": [
       "SequentialRNN(\n",
       "  (0): MultiBatchEncoder(\n",
       "    (module): AWD_LSTM(\n",
       "      (encoder): Embedding(56, 400, padding_idx=1)\n",
       "      (encoder_dp): EmbeddingDropout(\n",
       "        (emb): Embedding(56, 400, padding_idx=1)\n",
       "      )\n",
       "      (rnns): ModuleList(\n",
       "        (0): WeightDropout(\n",
       "          (module): LSTM(400, 400, batch_first=True)\n",
       "        )\n",
       "      )\n",
       "      (input_dp): RNNDropout()\n",
       "      (hidden_dps): ModuleList(\n",
       "        (0): RNNDropout()\n",
       "      )\n",
       "    )\n",
       "  )\n",
       "  (1): PoolingLinearClassifier(\n",
       "    (layers): Sequential(\n",
       "      (0): BatchNorm1d(1200, eps=1e-05, momentum=0.1, affine=True, track_running_stats=True)\n",
       "      (1): Dropout(p=0.8)\n",
       "      (2): Linear(in_features=1200, out_features=50, bias=True)\n",
       "      (3): ReLU(inplace)\n",
       "      (4): BatchNorm1d(50, eps=1e-05, momentum=0.1, affine=True, track_running_stats=True)\n",
       "      (5): Dropout(p=0.1)\n",
       "      (6): Linear(in_features=50, out_features=2, bias=True)\n",
       "    )\n",
       "  )\n",
       ")"
      ]
     },
     "execution_count": 86,
     "metadata": {},
     "output_type": "execute_result"
    }
   ],
   "source": [
    "learn.model"
   ]
  },
  {
   "cell_type": "markdown",
   "metadata": {},
   "source": []
  }
 ],
 "metadata": {
  "kernelspec": {
   "display_name": "Python 3",
   "language": "python",
   "name": "python3"
  },
  "language_info": {
   "codemirror_mode": {
    "name": "ipython",
    "version": 3
   },
   "file_extension": ".py",
   "mimetype": "text/x-python",
   "name": "python",
   "nbconvert_exporter": "python",
   "pygments_lexer": "ipython3",
   "version": "3.6.7"
  }
 },
 "nbformat": 4,
 "nbformat_minor": 2
}
