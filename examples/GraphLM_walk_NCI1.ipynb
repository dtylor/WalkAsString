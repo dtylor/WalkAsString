{
  "nbformat": 4,
  "nbformat_minor": 0,
  "metadata": {
    "colab": {
      "name": "GraphLM_walk_NCI1.ipynb",
      "provenance": [],
      "collapsed_sections": [],
      "machine_shape": "hm"
    },
    "kernelspec": {
      "name": "python3",
      "display_name": "Python 3"
    },
    "accelerator": "GPU"
  },
  "cells": [
    {
      "cell_type": "code",
      "metadata": {
        "id": "aKsDT-UyFobJ",
        "colab_type": "code",
        "outputId": "2d231818-c60a-4842-a94b-b84915a221a3",
        "colab": {
          "base_uri": "https://localhost:8080/",
          "height": 232
        }
      },
      "source": [
        "!git clone https://github.com/dtylor/WalkRNN.git\n",
        "%cd WalkRNN\n",
        "!ls"
      ],
      "execution_count": 0,
      "outputs": [
        {
          "output_type": "stream",
          "text": [
            "Cloning into 'WalkRNN'...\n",
            "remote: Enumerating objects: 122, done.\u001b[K\n",
            "remote: Counting objects: 100% (122/122), done.\u001b[K\n",
            "remote: Compressing objects: 100% (108/108), done.\u001b[K\n",
            "remote: Total 448 (delta 59), reused 41 (delta 12), pack-reused 326\u001b[K\n",
            "Receiving objects: 100% (448/448), 4.73 MiB | 19.32 MiB/s, done.\n",
            "Resolving deltas: 100% (239/239), done.\n",
            "/content/WalkRNN\n",
            "Demonstration.ipynb  LICENSE-3RD-PARTY.txt  MUTAG.ipynb     test.py\n",
            "examples\t     LICENSE.md\t\t    n2v\t\t    TODO\n",
            "graphwave\t     module.py\t\t    OrgChart.ipynb  utilities.py\n",
            "__init__.py\t     Motivation.ipynb\t    README.md\n"
          ],
          "name": "stdout"
        }
      ]
    },
    {
      "cell_type": "code",
      "metadata": {
        "id": "9l1y-ni-R5NO",
        "colab_type": "code",
        "outputId": "d9d4ac76-a691-4007-eac5-2b43b037ae67",
        "colab": {
          "base_uri": "https://localhost:8080/",
          "height": 106
        }
      },
      "source": [
        " !curl https://course-v3.fast.ai/setup/colab | bash"
      ],
      "execution_count": 0,
      "outputs": [
        {
          "output_type": "stream",
          "text": [
            "  % Total    % Received % Xferd  Average Speed   Time    Time     Time  Current\n",
            "                                 Dload  Upload   Total   Spent    Left  Speed\n",
            "100   287  100   287    0     0    786      0 --:--:-- --:--:-- --:--:--   786\n",
            "bash: line 1: syntax error near unexpected token `newline'\n",
            "bash: line 1: `<!DOCTYPE HTML PUBLIC \"-//IETF//DTD HTML 2.0//EN\">'\n"
          ],
          "name": "stdout"
        }
      ]
    },
    {
      "cell_type": "code",
      "metadata": {
        "id": "6_JKMi182dqZ",
        "colab_type": "code",
        "colab": {}
      },
      "source": [
        "import fastai\n",
        "import pandas as pd"
      ],
      "execution_count": 0,
      "outputs": []
    },
    {
      "cell_type": "code",
      "metadata": {
        "id": "SVCw0bb7m2Cj",
        "colab_type": "code",
        "outputId": "80a32a33-0ddb-4be9-d531-76eb7827b3a0",
        "colab": {
          "base_uri": "https://localhost:8080/",
          "height": 700
        }
      },
      "source": [
        "from fastai.utils.show_install import *\n",
        "show_install()"
      ],
      "execution_count": 0,
      "outputs": [
        {
          "output_type": "stream",
          "text": [
            "\n",
            "\n",
            "```text\n",
            "=== Software === \n",
            "python        : 3.6.8\n",
            "fastai        : 1.0.57\n",
            "fastprogress  : 0.1.21\n",
            "torch         : 1.2.0\n",
            "nvidia driver : 418.67\n",
            "torch cuda    : 10.0.130 / is available\n",
            "torch cudnn   : 7602 / is enabled\n",
            "\n",
            "=== Hardware === \n",
            "nvidia gpus   : 1\n",
            "torch devices : 1\n",
            "  - gpu0      : 11441MB | Tesla K80\n",
            "\n",
            "=== Environment === \n",
            "platform      : Linux-4.14.137+-x86_64-with-Ubuntu-18.04-bionic\n",
            "distro        : #1 SMP Thu Aug 8 02:47:02 PDT 2019\n",
            "conda env     : Unknown\n",
            "python        : /usr/bin/python3\n",
            "sys.path      : \n",
            "/env/python\n",
            "/usr/lib/python36.zip\n",
            "/usr/lib/python3.6\n",
            "/usr/lib/python3.6/lib-dynload\n",
            "/usr/local/lib/python3.6/dist-packages\n",
            "/usr/lib/python3/dist-packages\n",
            "/usr/local/lib/python3.6/dist-packages/IPython/extensions\n",
            "/root/.ipython\n",
            "```\n",
            "\n",
            "Please make sure to include opening/closing ``` when you paste into forums/github to make the reports appear formatted as code sections.\n",
            "\n",
            "Optional package(s) to enhance the diagnostics can be installed with:\n",
            "pip install distro\n",
            "Once installed, re-run this utility to get the additional information\n"
          ],
          "name": "stdout"
        }
      ]
    },
    {
      "cell_type": "code",
      "metadata": {
        "id": "uFXCHxZwZrpI",
        "colab_type": "code",
        "outputId": "34981c55-4b62-4571-95ba-0f590d8d3495",
        "colab": {
          "base_uri": "https://localhost:8080/",
          "height": 52
        }
      },
      "source": [
        "str(fastai.__dict__['version'])\n",
        "!more /usr/local/lib/python3.6/dist-packages/fastai/version.py"
      ],
      "execution_count": 0,
      "outputs": [
        {
          "output_type": "stream",
          "text": [
            "__all__ = ['__version__']\n",
            "__version__ = '1.0.57'\n"
          ],
          "name": "stdout"
        }
      ]
    },
    {
      "cell_type": "code",
      "metadata": {
        "id": "GGf5xZN9StwG",
        "colab_type": "code",
        "outputId": "4becdb2f-af38-4821-d587-60ab86ea679a",
        "colab": {
          "base_uri": "https://localhost:8080/",
          "height": 88
        }
      },
      "source": [
        "!ls"
      ],
      "execution_count": 0,
      "outputs": [
        {
          "output_type": "stream",
          "text": [
            "Demonstration.ipynb  LICENSE-3RD-PARTY.txt  MUTAG.ipynb     test.py\n",
            "examples\t     LICENSE.md\t\t    n2v\t\t    TODO\n",
            "graphwave\t     module.py\t\t    OrgChart.ipynb  utilities.py\n",
            "__init__.py\t     Motivation.ipynb\t    README.md\n"
          ],
          "name": "stdout"
        }
      ]
    },
    {
      "cell_type": "code",
      "metadata": {
        "id": "EDz9suwf15gG",
        "colab_type": "code",
        "colab": {}
      },
      "source": [
        "from google.colab import drive"
      ],
      "execution_count": 0,
      "outputs": []
    },
    {
      "cell_type": "code",
      "metadata": {
        "id": "-6FICw3t19b_",
        "colab_type": "code",
        "outputId": "e8e35b35-9096-4745-8b40-db9c1aa30865",
        "colab": {
          "base_uri": "https://localhost:8080/",
          "height": 126
        }
      },
      "source": [
        "drive.mount(\"/content/drive\")"
      ],
      "execution_count": 0,
      "outputs": [
        {
          "output_type": "stream",
          "text": [
            "Go to this URL in a browser: https://accounts.google.com/o/oauth2/auth?client_id=947318989803-6bn6qk8qdgf4n4g3pfee6491hc0brc4i.apps.googleusercontent.com&redirect_uri=urn%3Aietf%3Awg%3Aoauth%3A2.0%3Aoob&scope=email%20https%3A%2F%2Fwww.googleapis.com%2Fauth%2Fdocs.test%20https%3A%2F%2Fwww.googleapis.com%2Fauth%2Fdrive%20https%3A%2F%2Fwww.googleapis.com%2Fauth%2Fdrive.photos.readonly%20https%3A%2F%2Fwww.googleapis.com%2Fauth%2Fpeopleapi.readonly&response_type=code\n",
            "\n",
            "Enter your authorization code:\n",
            "··········\n",
            "Mounted at /content/drive\n"
          ],
          "name": "stdout"
        }
      ]
    },
    {
      "cell_type": "code",
      "metadata": {
        "id": "E593LDBV2Xcl",
        "colab_type": "code",
        "outputId": "a97956f2-a064-4926-f646-b5d1015772fb",
        "colab": {
          "base_uri": "https://localhost:8080/",
          "height": 34
        }
      },
      "source": [
        "from utilities import load_graph_kernel_graph, load_graph_kernel_labels, transform_graph\n",
        "\n",
        "\n",
        "Gkern = load_graph_kernel_graph(\"./examples/data/NCI1\")\n",
        "y = load_graph_kernel_labels(\"./examples/data/NCI1\")\n"
      ],
      "execution_count": 0,
      "outputs": [
        {
          "output_type": "stream",
          "text": [
            "DONE\n"
          ],
          "name": "stdout"
        }
      ]
    },
    {
      "cell_type": "code",
      "metadata": {
        "id": "NP6gBvIe1p_O",
        "colab_type": "code",
        "outputId": "ae28da22-f96c-4347-ee78-667647f74acb",
        "colab": {
          "base_uri": "https://localhost:8080/",
          "height": 34
        }
      },
      "source": [
        "Gkern.nodes[12]"
      ],
      "execution_count": 0,
      "outputs": [
        {
          "output_type": "execute_result",
          "data": {
            "text/plain": [
              "{'component': 1, 'label_0': 3}"
            ]
          },
          "metadata": {
            "tags": []
          },
          "execution_count": 10
        }
      ]
    },
    {
      "cell_type": "code",
      "metadata": {
        "id": "PBpNWKMOxX8t",
        "colab_type": "code",
        "outputId": "99e84df1-2f6c-4c79-a504-0b51570cfee0",
        "colab": {
          "base_uri": "https://localhost:8080/",
          "height": 34
        }
      },
      "source": [
        "#Transform networkx property graph into a format prepared for WalkRNN\n",
        "G, current_vocab_size = transform_graph(Gkern, params={'num_kmeans_clusters': 5, \"num_pca_components\": 6, \"num_batch\":500, 'num_att_kmeans_clusters': 10})"
      ],
      "execution_count": 0,
      "outputs": [
        {
          "output_type": "stream",
          "text": [
            "finished graphwave_alg batches\n"
          ],
          "name": "stdout"
        }
      ]
    },
    {
      "cell_type": "code",
      "metadata": {
        "id": "VrpaL8E63HvN",
        "colab_type": "code",
        "outputId": "02156b75-5576-4bb3-d4a2-e61deaf54626",
        "colab": {
          "base_uri": "https://localhost:8080/",
          "height": 34
        }
      },
      "source": [
        "G.nodes[12]"
      ],
      "execution_count": 0,
      "outputs": [
        {
          "output_type": "execute_result",
          "data": {
            "text/plain": [
              "{'component': 1, 'label_0': 7, 'structure': 4}"
            ]
          },
          "metadata": {
            "tags": []
          },
          "execution_count": 12
        }
      ]
    },
    {
      "cell_type": "code",
      "metadata": {
        "id": "bzBaGdbeZxn7",
        "colab_type": "code",
        "colab": {}
      },
      "source": [
        "import matplotlib.pyplot as plt\n",
        "import networkx as nx\n",
        "# create number for each group to allow use of colormap\n",
        "from itertools import count\n",
        "\n",
        "\n",
        "def plotGW(tmpG, comp_no):\n",
        " # get unique groups\n",
        " groups = set(nx.get_node_attributes(tmpG,'structure').values())\n",
        "\n",
        " mapping = dict(zip(sorted(groups),count()))\n",
        "  \n",
        " comp_nodes = [x for x,y in tmpG.nodes(data=True) if y['component']==comp_no]\n",
        " print(len(comp_nodes))\n",
        " subgraph = tmpG.subgraph(comp_nodes)\n",
        " nodes = subgraph.nodes()\n",
        " colors = [mapping[subgraph.node[n]['structure']] for n in nodes]\n",
        "\n",
        " # drawing nodes and edges separately so we can capture collection for colobar\n",
        " pos = nx.spring_layout(subgraph)\n",
        " ec = nx.draw_networkx_edges(subgraph, pos, with_labels=True,alpha=0.2)\n",
        " nc = nx.draw_networkx_nodes(subgraph, pos, nodelist=nodes, node_color=colors, \n",
        "                            with_labels=True, node_size=100, cmap=plt.cm.jet, vmin=0,vmax=5)\n",
        " plt.colorbar(nc)\n",
        " plt.axis('off')\n",
        " plt.show()\n",
        " print(nx.get_node_attributes(subgraph,'structure'))\n",
        " "
      ],
      "execution_count": 0,
      "outputs": []
    },
    {
      "cell_type": "code",
      "metadata": {
        "id": "_u-PlMacGYHK",
        "colab_type": "code",
        "outputId": "3117b0a7-6128-4678-c564-e127c4b9d2a3",
        "colab": {
          "base_uri": "https://localhost:8080/",
          "height": 294
        }
      },
      "source": [
        "\n",
        "plotGW(G,1)"
      ],
      "execution_count": 0,
      "outputs": [
        {
          "output_type": "stream",
          "text": [
            "21\n"
          ],
          "name": "stdout"
        },
        {
          "output_type": "display_data",
          "data": {
            "image/png": "[encoded data removed]",
            "text/plain": [
              "<Figure size 432x288 with 2 Axes>"
            ]
          },
          "metadata": {
            "tags": []
          }
        },
        {
          "output_type": "stream",
          "text": [
            "{1: 2, 2: 1, 3: 1, 4: 4, 5: 4, 6: 1, 7: 1, 8: 2, 9: 4, 10: 1, 11: 4, 12: 4, 13: 4, 14: 1, 15: 4, 16: 2, 17: 4, 18: 4, 19: 1, 20: 4, 21: 1}\n"
          ],
          "name": "stdout"
        }
      ]
    },
    {
      "cell_type": "code",
      "metadata": {
        "id": "pAF7Mu8Tvp4t",
        "colab_type": "code",
        "outputId": "d46e2f52-9f68-42fd-83ac-c3a6cd0f3c98",
        "colab": {
          "base_uri": "https://localhost:8080/",
          "height": 294
        }
      },
      "source": [
        "plotGW(G,2)"
      ],
      "execution_count": 0,
      "outputs": [
        {
          "output_type": "stream",
          "text": [
            "24\n"
          ],
          "name": "stdout"
        },
        {
          "output_type": "display_data",
          "data": {
            "image/png": "[encoded data removed]",
            "text/plain": [
              "<Figure size 432x288 with 2 Axes>"
            ]
          },
          "metadata": {
            "tags": []
          }
        },
        {
          "output_type": "stream",
          "text": [
            "{22: 4, 23: 2, 24: 4, 25: 4, 26: 4, 27: 4, 28: 4, 29: 0, 30: 1, 31: 4, 32: 4, 33: 2, 34: 4, 35: 2, 36: 4, 37: 1, 38: 4, 39: 2, 40: 4, 41: 1, 42: 1, 43: 1, 44: 1, 45: 1}\n"
          ],
          "name": "stdout"
        }
      ]
    },
    {
      "cell_type": "code",
      "metadata": {
        "id": "TUllgenOGfMt",
        "colab_type": "code",
        "outputId": "04df6515-f885-43fc-f1ab-676b359bccb1",
        "colab": {
          "base_uri": "https://localhost:8080/",
          "height": 294
        }
      },
      "source": [
        "plotGW(G,3)"
      ],
      "execution_count": 0,
      "outputs": [
        {
          "output_type": "stream",
          "text": [
            "29\n"
          ],
          "name": "stdout"
        },
        {
          "output_type": "display_data",
          "data": {
            "image/png": "[encoded data removed]",
            "text/plain": [
              "<Figure size 432x288 with 2 Axes>"
            ]
          },
          "metadata": {
            "tags": []
          }
        },
        {
          "output_type": "stream",
          "text": [
            "{46: 2, 47: 2, 48: 2, 49: 2, 50: 1, 51: 2, 52: 2, 53: 1, 54: 0, 55: 0, 56: 1, 57: 4, 58: 4, 59: 2, 60: 4, 61: 0, 62: 1, 63: 4, 64: 2, 65: 2, 66: 4, 67: 2, 68: 4, 69: 4, 70: 4, 71: 1, 72: 4, 73: 1, 74: 1}\n"
          ],
          "name": "stdout"
        }
      ]
    },
    {
      "cell_type": "code",
      "metadata": {
        "id": "XIpyDNCaM5SS",
        "colab_type": "code",
        "outputId": "93734b27-fed5-4dd6-ba23-8bc98c0495a1",
        "colab": {
          "base_uri": "https://localhost:8080/",
          "height": 314
        }
      },
      "source": [
        "plotGW(G,151)"
      ],
      "execution_count": 0,
      "outputs": [
        {
          "output_type": "stream",
          "text": [
            "29\n"
          ],
          "name": "stdout"
        },
        {
          "output_type": "display_data",
          "data": {
            "image/png": "[encoded data removed]",
            "text/plain": [
              "<Figure size 432x288 with 2 Axes>"
            ]
          },
          "metadata": {
            "tags": []
          }
        },
        {
          "output_type": "stream",
          "text": [
            "{3803: 4, 3804: 2, 3805: 0, 3806: 4, 3807: 2, 3808: 4, 3809: 2, 3810: 4, 3811: 0, 3812: 0, 3813: 4, 3814: 4, 3815: 4, 3816: 1, 3817: 1, 3818: 4, 3819: 0, 3820: 2, 3821: 4, 3822: 0, 3823: 4, 3824: 4, 3825: 4, 3826: 4, 3827: 1, 3828: 4, 3829: 1, 3830: 4, 3831: 1}\n"
          ],
          "name": "stdout"
        }
      ]
    },
    {
      "cell_type": "code",
      "metadata": {
        "id": "vNY1lkrIRF15",
        "colab_type": "code",
        "outputId": "e5ed0a09-8790-477f-dd0a-92a7cbd2814c",
        "colab": {
          "base_uri": "https://localhost:8080/",
          "height": 294
        }
      },
      "source": [
        "plotGW(G,11)"
      ],
      "execution_count": 0,
      "outputs": [
        {
          "output_type": "stream",
          "text": [
            "28\n"
          ],
          "name": "stdout"
        },
        {
          "output_type": "display_data",
          "data": {
            "image/png": "[encoded data removed]",
            "text/plain": [
              "<Figure size 432x288 with 2 Axes>"
            ]
          },
          "metadata": {
            "tags": []
          }
        },
        {
          "output_type": "stream",
          "text": [
            "{227: 2, 228: 1, 229: 4, 230: 0, 231: 1, 232: 1, 233: 1, 234: 1, 235: 1, 236: 0, 237: 0, 238: 4, 239: 2, 240: 1, 241: 4, 242: 4, 243: 1, 244: 4, 245: 1, 246: 1, 247: 0, 248: 1, 249: 1, 250: 1, 251: 1, 252: 1, 253: 1, 254: 1}\n"
          ],
          "name": "stdout"
        }
      ]
    },
    {
      "cell_type": "code",
      "metadata": {
        "id": "atiOOj03RKPJ",
        "colab_type": "code",
        "outputId": "fd85fbed-8f61-4c4c-dc77-73297d8d6afe",
        "colab": {
          "base_uri": "https://localhost:8080/",
          "height": 314
        }
      },
      "source": [
        "plotGW(G,160)"
      ],
      "execution_count": 0,
      "outputs": [
        {
          "output_type": "stream",
          "text": [
            "40\n"
          ],
          "name": "stdout"
        },
        {
          "output_type": "display_data",
          "data": {
            "image/png": "[encoded data removed]",
            "text/plain": [
              "<Figure size 432x288 with 2 Axes>"
            ]
          },
          "metadata": {
            "tags": []
          }
        },
        {
          "output_type": "stream",
          "text": [
            "{4100: 1, 4101: 4, 4102: 0, 4103: 4, 4104: 4, 4105: 4, 4106: 0, 4107: 4, 4108: 0, 4109: 4, 4110: 2, 4111: 4, 4112: 2, 4113: 4, 4114: 4, 4115: 4, 4116: 4, 4117: 4, 4118: 0, 4119: 4, 4120: 4, 4121: 4, 4122: 4, 4123: 4, 4124: 2, 4125: 2, 4126: 2, 4127: 2, 4128: 4, 4129: 1, 4130: 4, 4131: 4, 4132: 4, 4133: 1, 4134: 1, 4135: 1, 4136: 1, 4137: 1, 4138: 1, 4139: 4}\n"
          ],
          "name": "stdout"
        }
      ]
    },
    {
      "cell_type": "code",
      "metadata": {
        "id": "_-QuZA4MRMri",
        "colab_type": "code",
        "outputId": "aff4d31f-163b-4d29-9175-2a2da461d637",
        "colab": {
          "base_uri": "https://localhost:8080/",
          "height": 294
        }
      },
      "source": [
        "plotGW(G,18)"
      ],
      "execution_count": 0,
      "outputs": [
        {
          "output_type": "stream",
          "text": [
            "31\n"
          ],
          "name": "stdout"
        },
        {
          "output_type": "display_data",
          "data": {
            "image/png": "[encoded data removed]",
            "text/plain": [
              "<Figure size 432x288 with 2 Axes>"
            ]
          },
          "metadata": {
            "tags": []
          }
        },
        {
          "output_type": "stream",
          "text": [
            "{384: 4, 385: 4, 386: 1, 387: 1, 388: 1, 389: 1, 390: 1, 391: 4, 392: 1, 393: 1, 394: 1, 395: 1, 396: 4, 397: 2, 398: 1, 368: 2, 369: 0, 370: 2, 371: 4, 372: 0, 373: 0, 374: 4, 375: 4, 376: 4, 377: 4, 378: 4, 379: 0, 380: 1, 381: 1, 382: 1, 383: 1}\n"
          ],
          "name": "stdout"
        }
      ]
    },
    {
      "cell_type": "code",
      "metadata": {
        "id": "m26A0mUrRPIR",
        "colab_type": "code",
        "outputId": "1847dbc4-86e5-4b95-923c-29bdc6b08455",
        "colab": {
          "base_uri": "https://localhost:8080/",
          "height": 294
        }
      },
      "source": [
        "plotGW(G,140)"
      ],
      "execution_count": 0,
      "outputs": [
        {
          "output_type": "stream",
          "text": [
            "25\n"
          ],
          "name": "stdout"
        },
        {
          "output_type": "display_data",
          "data": {
            "image/png": "[encoded data removed]",
            "text/plain": [
              "<Figure size 432x288 with 2 Axes>"
            ]
          },
          "metadata": {
            "tags": []
          }
        },
        {
          "output_type": "stream",
          "text": [
            "{3504: 4, 3505: 2, 3506: 2, 3507: 1, 3508: 4, 3509: 4, 3510: 1, 3511: 4, 3512: 4, 3513: 4, 3514: 4, 3515: 4, 3516: 4, 3517: 1, 3518: 1, 3519: 1, 3520: 0, 3521: 4, 3522: 1, 3523: 1, 3524: 1, 3525: 1, 3526: 1, 3527: 4, 3528: 4}\n"
          ],
          "name": "stdout"
        }
      ]
    },
    {
      "cell_type": "code",
      "metadata": {
        "id": "V099nA0W3_Ke",
        "colab_type": "code",
        "colab": {}
      },
      "source": [
        "from module import walk_as_string"
      ],
      "execution_count": 0,
      "outputs": []
    },
    {
      "cell_type": "code",
      "metadata": {
        "id": "ZS0mgPZo4PED",
        "colab_type": "code",
        "outputId": "65e348d3-5f46-4c00-b2ad-5b6edb5c3054",
        "colab": {
          "base_uri": "https://localhost:8080/",
          "height": 484
        }
      },
      "source": [
        "walks = walk_as_string(G, componentLabels = y)"
      ],
      "execution_count": 0,
      "outputs": [
        {
          "output_type": "stream",
          "text": [
            "Walk iteration:\n",
            "('1', '/', '20')\n",
            "('2', '/', '20')\n",
            "('3', '/', '20')\n",
            "('4', '/', '20')\n",
            "('5', '/', '20')\n",
            "('6', '/', '20')\n",
            "('7', '/', '20')\n",
            "('8', '/', '20')\n",
            "('9', '/', '20')\n",
            "('10', '/', '20')\n",
            "('11', '/', '20')\n",
            "('12', '/', '20')\n",
            "('13', '/', '20')\n",
            "('14', '/', '20')\n",
            "('15', '/', '20')\n",
            "('16', '/', '20')\n",
            "('17', '/', '20')\n",
            "('18', '/', '20')\n",
            "('19', '/', '20')\n",
            "('20', '/', '20')\n"
          ],
          "name": "stdout"
        },
        {
          "output_type": "stream",
          "text": [
            "/content/WalkRNN/module.py:140: FutureWarning: Method .as_matrix will be removed in a future version. Use .values instead.\n",
            "  sorted_walks = pd.DataFrame(walks).sort_values(0).as_matrix()\n"
          ],
          "name": "stderr"
        },
        {
          "output_type": "stream",
          "text": [
            "[ 1  8  2  8  1  8  2  8  2  8  2  8  2  8 12 11 12 14 12 14 12  8  2  8  1  8  1  8  2  8]\n",
            "[ 1  8  2  8 12 14 12 11 12  8 12 11 13 16 13 16 13 16 15 14 12  8  2  8  2  8  2  8  2  8]\n",
            "[ 1  8  1  8  2  8 12  8  2  8  2  8  1  8  1  8  1  8 12  8  1  8  1  8 12 14 15 14 15 10]\n"
          ],
          "name": "stdout"
        }
      ]
    },
    {
      "cell_type": "code",
      "metadata": {
        "id": "AVzunvIC1-6B",
        "colab_type": "code",
        "colab": {}
      },
      "source": [
        "from fastai.text import *\n",
        "from sklearn.model_selection import train_test_split\n",
        "import numpy"
      ],
      "execution_count": 0,
      "outputs": []
    },
    {
      "cell_type": "code",
      "metadata": {
        "id": "kwjfuvQZhwmT",
        "colab_type": "code",
        "outputId": "30c76d94-9dfe-4f8e-8b72-4027f2022164",
        "colab": {
          "base_uri": "https://localhost:8080/",
          "height": 189
        }
      },
      "source": [
        "walks.head()"
      ],
      "execution_count": 0,
      "outputs": [
        {
          "output_type": "execute_result",
          "data": {
            "text/html": [
              "<div>\n",
              "<style scoped>\n",
              "    .dataframe tbody tr th:only-of-type {\n",
              "        vertical-align: middle;\n",
              "    }\n",
              "\n",
              "    .dataframe tbody tr th {\n",
              "        vertical-align: top;\n",
              "    }\n",
              "\n",
              "    .dataframe thead th {\n",
              "        text-align: right;\n",
              "    }\n",
              "</style>\n",
              "<table border=\"1\" class=\"dataframe\">\n",
              "  <thead>\n",
              "    <tr style=\"text-align: right;\">\n",
              "      <th></th>\n",
              "      <th>walk</th>\n",
              "      <th>label</th>\n",
              "      <th>start_node</th>\n",
              "      <th>component</th>\n",
              "    </tr>\n",
              "  </thead>\n",
              "  <tbody>\n",
              "    <tr>\n",
              "      <th>0</th>\n",
              "      <td>2 5  2 6  1 5  2 6  2 5  2 6  1 5  2 6  1 5  2...</td>\n",
              "      <td>0</td>\n",
              "      <td>1</td>\n",
              "      <td>1</td>\n",
              "    </tr>\n",
              "    <tr>\n",
              "      <th>1</th>\n",
              "      <td>2 5  2 6  1 5  2 6  4 7  1 7  4 7  4 7  4 7  2...</td>\n",
              "      <td>0</td>\n",
              "      <td>1</td>\n",
              "      <td>1</td>\n",
              "    </tr>\n",
              "    <tr>\n",
              "      <th>2</th>\n",
              "      <td>2 5  2 6  2 5  2 6  1 5  2 6  4 7  2 6  1 5  2...</td>\n",
              "      <td>0</td>\n",
              "      <td>1</td>\n",
              "      <td>1</td>\n",
              "    </tr>\n",
              "    <tr>\n",
              "      <th>3</th>\n",
              "      <td>2 5  2 6  1 5  2 6  1 5  2 6  1 5  2 6  1 5  2...</td>\n",
              "      <td>0</td>\n",
              "      <td>1</td>\n",
              "      <td>1</td>\n",
              "    </tr>\n",
              "    <tr>\n",
              "      <th>4</th>\n",
              "      <td>2 5  2 6  4 7  2 6  1 5  2 6  4 7  1 7  4 7  1...</td>\n",
              "      <td>0</td>\n",
              "      <td>1</td>\n",
              "      <td>1</td>\n",
              "    </tr>\n",
              "  </tbody>\n",
              "</table>\n",
              "</div>"
            ],
            "text/plain": [
              "                                                walk  ...  component\n",
              "0  2 5  2 6  1 5  2 6  2 5  2 6  1 5  2 6  1 5  2...  ...          1\n",
              "1  2 5  2 6  1 5  2 6  4 7  1 7  4 7  4 7  4 7  2...  ...          1\n",
              "2  2 5  2 6  2 5  2 6  1 5  2 6  4 7  2 6  1 5  2...  ...          1\n",
              "3  2 5  2 6  1 5  2 6  1 5  2 6  1 5  2 6  1 5  2...  ...          1\n",
              "4  2 5  2 6  4 7  2 6  1 5  2 6  4 7  1 7  4 7  1...  ...          1\n",
              "\n",
              "[5 rows x 4 columns]"
            ]
          },
          "metadata": {
            "tags": []
          },
          "execution_count": 26
        }
      ]
    },
    {
      "cell_type": "code",
      "metadata": {
        "id": "o1VO6MkuiVqB",
        "colab_type": "code",
        "outputId": "3ce9344f-4016-4842-879d-fd76b5fe88ff",
        "colab": {
          "base_uri": "https://localhost:8080/",
          "height": 34
        }
      },
      "source": [
        "walks.shape"
      ],
      "execution_count": 0,
      "outputs": [
        {
          "output_type": "execute_result",
          "data": {
            "text/plain": [
              "(2446380, 4)"
            ]
          },
          "metadata": {
            "tags": []
          },
          "execution_count": 27
        }
      ]
    },
    {
      "cell_type": "code",
      "metadata": {
        "id": "7wNVf9JKdmfy",
        "colab_type": "code",
        "colab": {}
      },
      "source": [
        "from sklearn.model_selection import train_test_split\n",
        "import numpy\n",
        "data = list(set(walks.component))\n",
        "x_traina ,x_test = train_test_split(data,test_size=0.1)    \n",
        "x_train ,x_val = train_test_split(x_traina,test_size=0.2)  \n"
      ],
      "execution_count": 0,
      "outputs": []
    },
    {
      "cell_type": "code",
      "metadata": {
        "id": "76ro7tvTdxrl",
        "colab_type": "code",
        "outputId": "83164b23-dc8d-4bec-a902-21379e76db0e",
        "colab": {
          "base_uri": "https://localhost:8080/",
          "height": 34
        }
      },
      "source": [
        "train_tmp = pd.DataFrame(x_train)\n",
        "train_tmp.columns = ['component']\n",
        "df_train = pd.merge(walks, train_tmp, on='component', sort=False)\n",
        "df_train.shape"
      ],
      "execution_count": 0,
      "outputs": [
        {
          "output_type": "execute_result",
          "data": {
            "text/plain": [
              "(1767760, 4)"
            ]
          },
          "metadata": {
            "tags": []
          },
          "execution_count": 29
        }
      ]
    },
    {
      "cell_type": "code",
      "metadata": {
        "id": "xDBYiP6Hd2Dd",
        "colab_type": "code",
        "outputId": "2eee67bd-cc2d-4c95-c036-293bfd0f182c",
        "colab": {
          "base_uri": "https://localhost:8080/",
          "height": 34
        }
      },
      "source": [
        "test_tmp = pd.DataFrame(x_test)\n",
        "test_tmp.columns = ['component']\n",
        "df_test = pd.merge(walks, test_tmp, on='component', sort=False)\n",
        "df_test.shape"
      ],
      "execution_count": 0,
      "outputs": [
        {
          "output_type": "execute_result",
          "data": {
            "text/plain": [
              "(250040, 4)"
            ]
          },
          "metadata": {
            "tags": []
          },
          "execution_count": 30
        }
      ]
    },
    {
      "cell_type": "code",
      "metadata": {
        "id": "bjLmYukLeCHq",
        "colab_type": "code",
        "outputId": "be12393f-ff8a-4097-a4d1-6008594b878f",
        "colab": {
          "base_uri": "https://localhost:8080/",
          "height": 34
        }
      },
      "source": [
        "val_tmp = pd.DataFrame(x_val)\n",
        "val_tmp.columns = ['component']\n",
        "df_val = pd.merge(walks, val_tmp, on='component', sort=False)\n",
        "df_val.shape"
      ],
      "execution_count": 0,
      "outputs": [
        {
          "output_type": "execute_result",
          "data": {
            "text/plain": [
              "(428580, 4)"
            ]
          },
          "metadata": {
            "tags": []
          },
          "execution_count": 31
        }
      ]
    },
    {
      "cell_type": "code",
      "metadata": {
        "id": "jUebKPZo9j7H",
        "colab_type": "code",
        "colab": {}
      },
      "source": [
        "!mkdir result\n",
        "mypath = './result'"
      ],
      "execution_count": 0,
      "outputs": []
    },
    {
      "cell_type": "code",
      "metadata": {
        "id": "nIiT5y-B6Pbl",
        "colab_type": "code",
        "colab": {}
      },
      "source": [
        "data_lm = TextLMDataBunch.from_df(train_df=df_train[['walk', 'label']], valid_df=df_val[[\n",
        "                                  'walk', 'label']],  path=mypath, text_cols='walk', label_cols='label')\n"
      ],
      "execution_count": 0,
      "outputs": []
    },
    {
      "cell_type": "code",
      "metadata": {
        "id": "PGky3pxO94ym",
        "colab_type": "code",
        "colab": {}
      },
      "source": [
        "data_lm.save('data_lm.pkl')"
      ],
      "execution_count": 0,
      "outputs": []
    },
    {
      "cell_type": "code",
      "metadata": {
        "id": "TMrIxld1OHnu",
        "colab_type": "code",
        "outputId": "3ebe1def-55b5-417e-f726-b124536f7a0d",
        "colab": {
          "base_uri": "https://localhost:8080/",
          "height": 52
        }
      },
      "source": [
        "!ls -l ./result"
      ],
      "execution_count": 0,
      "outputs": [
        {
          "output_type": "stream",
          "text": [
            "total 1426856\n",
            "-rw-r--r-- 1 root root 1461094847 Oct  1 16:01 data_lm.pkl\n"
          ],
          "name": "stdout"
        }
      ]
    },
    {
      "cell_type": "code",
      "metadata": {
        "id": "toyh21Rp9_Yn",
        "colab_type": "code",
        "colab": {}
      },
      "source": [
        "bs = 32\n",
        "# load the data (can be used in the future as well to prevent reprocessing)\n",
        "data_lm = load_data(mypath, 'data_lm.pkl', bs=bs)\n"
      ],
      "execution_count": 0,
      "outputs": []
    },
    {
      "cell_type": "code",
      "metadata": {
        "id": "ig9trRhkLccB",
        "colab_type": "code",
        "outputId": "10191247-c629-4f28-af7f-5d9fa8707813",
        "colab": {
          "base_uri": "https://localhost:8080/",
          "height": 189
        }
      },
      "source": [
        "data_lm.show_batch() # take a look at the batch fed into the GPU"
      ],
      "execution_count": 0,
      "outputs": [
        {
          "output_type": "display_data",
          "data": {
            "text/html": [
              "<table border=\"1\" class=\"dataframe\">\n",
              "  <thead>\n",
              "    <tr style=\"text-align: right;\">\n",
              "      <th>idx</th>\n",
              "      <th>text</th>\n",
              "    </tr>\n",
              "  </thead>\n",
              "  <tbody>\n",
              "    <tr>\n",
              "      <td>0</td>\n",
              "      <td>4 7 1 7 4 7 4 7 4 7 2 6 4 7 4 7 4 7 2 7 4 7 2 7 4 7 2 7 4 7 1 7 4 7 2 6 1 5 2 6 1 5 2 6 1 5 2 6 1 5 2 6 xxbos 2 5 2 6 2 5 2 6 1 5 2 6 4 7 2 6 1</td>\n",
              "    </tr>\n",
              "    <tr>\n",
              "      <td>1</td>\n",
              "      <td>2 7 1 7 1 7 1 7 1 7 1 7 1 7 1 7 2 7 1 7 1 7 xxbos 0 7 0 6 0 7 0 6 0 7 0 6 0 7 0 6 2 5 0 7 0 5 0 7 0 6 4 7 2 7 4 7 0 6 0 7 0 5 0 7 0 5 0 7 0 6 0</td>\n",
              "    </tr>\n",
              "    <tr>\n",
              "      <td>2</td>\n",
              "      <td>0 5 1 7 0 5 0 7 0 5 1 7 0 7 0 6 0 7 2 7 2 7 2 7 2 7 2 7 1 7 2 7 2 7 2 6 2 7 0 7 0 5 0 7 0 5 0 7 0 5 0 7 xxbos 0 5 1 7 0 7 0 6 0 7 2 7 0 7 0 6 0</td>\n",
              "    </tr>\n",
              "    <tr>\n",
              "      <td>3</td>\n",
              "      <td>4 7 4 7 2 7 4 7 4 7 4 7 4 7 4 7 4 7 4 7 4 7 xxbos 2 7 0 7 2 7 4 6 4 7 4 7 4 7 4 7 4 7 2 7 4 7 4 7 4 7 2 7 4 7 4 7 4 7 4 7 4 7 4 7 4 7 4 7 4 7 0</td>\n",
              "    </tr>\n",
              "    <tr>\n",
              "      <td>4</td>\n",
              "      <td>1 7 1 6 1 7 1 7 1 7 1 7 1 7 2 7 2 8 4 7 1 7 4 7 2 8 2 7 2 8 4 7 1 7 1 7 1 6 1 7 1 6 1 7 4 7 4 6 4 7 1 7 xxbos 2 6 4 7 1 7 1 6 1 7 1 7 1 7 1 7 4</td>\n",
              "    </tr>\n",
              "  </tbody>\n",
              "</table>"
            ],
            "text/plain": [
              "<IPython.core.display.HTML object>"
            ]
          },
          "metadata": {
            "tags": []
          }
        }
      ]
    },
    {
      "cell_type": "code",
      "metadata": {
        "id": "vCOueJDZXNCJ",
        "colab_type": "code",
        "colab": {}
      },
      "source": [
        "awd_lstm_lm_config = dict(emb_sz=400, n_hid=600, n_layers=1, pad_token=1, qrnn=False, bidir=False, output_p=0.1, hidden_p=0.15, input_p=0.25, embed_p=0.02, weight_p=0.2, tie_weights=True, out_bias=True)\n",
        "awd_lstm_clas_config = dict(emb_sz=400, n_hid=600, n_layers=1, pad_token=1, qrnn=False, bidir=False, output_p=0.4,  hidden_p=0.3, input_p=0.4, embed_p=0.05, weight_p=0.5)"
      ],
      "execution_count": 0,
      "outputs": []
    },
    {
      "cell_type": "code",
      "metadata": {
        "id": "mFr6Dq5d-B6E",
        "colab_type": "code",
        "outputId": "affc91ae-2c17-413c-b690-fd99b5b8f274",
        "colab": {
          "base_uri": "https://localhost:8080/",
          "height": 877
        }
      },
      "source": [
        "\n",
        "learn = language_model_learner(data_lm,arch=AWD_LSTM,config= awd_lstm_lm_config,drop_mult=1.9, callback_fns=ShowGraph,pretrained=False)\n",
        "learn.lr_find()\n",
        "learn.recorder.plot()\n",
        "learn.fit_one_cycle(1, 1e-2, moms=(0.8,0.7))\n",
        "learn.recorder.plot_losses()\n",
        "learn.save('fit-head')\n",
        "\n"
      ],
      "execution_count": 0,
      "outputs": [
        {
          "output_type": "display_data",
          "data": {
            "text/html": [
              ""
            ],
            "text/plain": [
              "<IPython.core.display.HTML object>"
            ]
          },
          "metadata": {
            "tags": []
          }
        },
        {
          "output_type": "stream",
          "text": [
            "LR Finder is complete, type {learner_name}.recorder.plot() to see the graph.\n"
          ],
          "name": "stdout"
        },
        {
          "output_type": "display_data",
          "data": {
            "text/html": [
              "<table border=\"1\" class=\"dataframe\">\n",
              "  <thead>\n",
              "    <tr style=\"text-align: left;\">\n",
              "      <th>epoch</th>\n",
              "      <th>train_loss</th>\n",
              "      <th>valid_loss</th>\n",
              "      <th>accuracy</th>\n",
              "      <th>time</th>\n",
              "    </tr>\n",
              "  </thead>\n",
              "  <tbody>\n",
              "    <tr>\n",
              "      <td>0</td>\n",
              "      <td>0.663847</td>\n",
              "      <td>0.631495</td>\n",
              "      <td>0.759204</td>\n",
              "      <td>27:10</td>\n",
              "    </tr>\n",
              "  </tbody>\n",
              "</table>"
            ],
            "text/plain": [
              "<IPython.core.display.HTML object>"
            ]
          },
          "metadata": {
            "tags": []
          }
        },
        {
          "output_type": "display_data",
          "data": {
            "image/png": "[encoded data removed]",
            "text/plain": [
              "<Figure size 432x288 with 1 Axes>"
            ]
          },
          "metadata": {
            "tags": []
          }
        },
        {
          "output_type": "display_data",
          "data": {
            "image/png": "[encoded data removed]",
            "text/plain": [
              "<Figure size 432x288 with 1 Axes>"
            ]
          },
          "metadata": {
            "tags": []
          }
        },
        {
          "output_type": "display_data",
          "data": {
            "image/png": "[encoded data removed]",
            "text/plain": [
              "<Figure size 432x288 with 1 Axes>"
            ]
          },
          "metadata": {
            "tags": []
          }
        }
      ]
    },
    {
      "cell_type": "code",
      "metadata": {
        "id": "7LiPMqtHGbIv",
        "colab_type": "code",
        "outputId": "bb575d30-8727-4d02-8813-92aad170b30d",
        "colab": {
          "base_uri": "https://localhost:8080/",
          "height": 301
        }
      },
      "source": [
        "learn.unfreeze()\n",
        "learn.lr_find()\n",
        "learn.recorder.plot()"
      ],
      "execution_count": 0,
      "outputs": [
        {
          "output_type": "display_data",
          "data": {
            "text/html": [
              ""
            ],
            "text/plain": [
              "<IPython.core.display.HTML object>"
            ]
          },
          "metadata": {
            "tags": []
          }
        },
        {
          "output_type": "stream",
          "text": [
            "LR Finder is complete, type {learner_name}.recorder.plot() to see the graph.\n"
          ],
          "name": "stdout"
        },
        {
          "output_type": "display_data",
          "data": {
            "image/png": "[encoded data removed]",
            "text/plain": [
              "<Figure size 432x288 with 1 Axes>"
            ]
          },
          "metadata": {
            "tags": []
          }
        }
      ]
    },
    {
      "cell_type": "code",
      "metadata": {
        "id": "6TE19CDyHA54",
        "colab_type": "code",
        "outputId": "40aed568-eef5-4035-a000-0e56301e282b",
        "colab": {
          "base_uri": "https://localhost:8080/",
          "height": 93
        }
      },
      "source": [
        "learn.fit_one_cycle(2, .01, moms=(0.8,0.7))"
      ],
      "execution_count": 0,
      "outputs": [
        {
          "output_type": "display_data",
          "data": {
            "text/html": [
              "\n",
              "    <div>\n",
              "        <style>\n",
              "            /* Turns off some styling */\n",
              "            progress {\n",
              "                /* gets rid of default border in Firefox and Opera. */\n",
              "                border: none;\n",
              "                /* Needs to be in here for Safari polyfill so background images work as expected. */\n",
              "                background-size: auto;\n",
              "            }\n",
              "            .progress-bar-interrupted, .progress-bar-interrupted::-webkit-progress-bar {\n",
              "                background: #F44336;\n",
              "            }\n",
              "        </style>\n",
              "      <progress value='0' class='' max='6', style='width:300px; height:20px; vertical-align: middle;'></progress>\n",
              "      0.00% [0/6 00:00<00:00]\n",
              "    </div>\n",
              "    \n",
              "<table border=\"1\" class=\"dataframe\">\n",
              "  <thead>\n",
              "    <tr style=\"text-align: left;\">\n",
              "      <th>epoch</th>\n",
              "      <th>train_loss</th>\n",
              "      <th>valid_loss</th>\n",
              "      <th>accuracy</th>\n",
              "      <th>time</th>\n",
              "    </tr>\n",
              "  </thead>\n",
              "  <tbody>\n",
              "  </tbody>\n",
              "</table><p>\n",
              "\n",
              "    <div>\n",
              "        <style>\n",
              "            /* Turns off some styling */\n",
              "            progress {\n",
              "                /* gets rid of default border in Firefox and Opera. */\n",
              "                border: none;\n",
              "                /* Needs to be in here for Safari polyfill so background images work as expected. */\n",
              "                background-size: auto;\n",
              "            }\n",
              "            .progress-bar-interrupted, .progress-bar-interrupted::-webkit-progress-bar {\n",
              "                background: #F44336;\n",
              "            }\n",
              "        </style>\n",
              "      <progress value='150' class='' max='48140', style='width:300px; height:20px; vertical-align: middle;'></progress>\n",
              "      0.31% [150/48140 00:04<25:07 0.6592]\n",
              "    </div>\n",
              "    "
            ],
            "text/plain": [
              "<IPython.core.display.HTML object>"
            ]
          },
          "metadata": {
            "tags": []
          }
        }
      ]
    },
    {
      "cell_type": "code",
      "metadata": {
        "id": "NcovqscTHKID",
        "colab_type": "code",
        "colab": {}
      },
      "source": [
        "learn.save('fit-head')"
      ],
      "execution_count": 0,
      "outputs": []
    },
    {
      "cell_type": "code",
      "metadata": {
        "id": "IbxpqRfHJFEG",
        "colab_type": "code",
        "colab": {}
      },
      "source": [
        "learn.save_encoder('fine_tuned_enc3')"
      ],
      "execution_count": 0,
      "outputs": []
    },
    {
      "cell_type": "code",
      "metadata": {
        "id": "GbfYoP9NJ6Ai",
        "colab_type": "code",
        "colab": {}
      },
      "source": [
        "df = walks.sample(frac=1).reset_index(drop=True)\n",
        "df['index1']=df.index\n",
        "\n",
        "g = df.groupby('component')\n",
        "df['RN'] = g['index1'].rank(method='min')\n",
        "\n",
        "df[df['component']==1].head()\n"
      ],
      "execution_count": 0,
      "outputs": []
    },
    {
      "cell_type": "markdown",
      "metadata": {
        "id": "s8b2JK0FxJJJ",
        "colab_type": "text"
      },
      "source": [
        "Choose a path per node and concatenate for entire component"
      ]
    },
    {
      "cell_type": "code",
      "metadata": {
        "id": "nMOusXPKxEaI",
        "colab_type": "code",
        "colab": {}
      },
      "source": [
        "df.groupby('component')['walk'].apply(lambda x: ', '.join(x))\n",
        "\n",
        "def f(x):\n",
        "     return Series(dict(label = x['label'].min(), text =  ', '.join(x['walk'])))\n",
        "df_text_comp = df[(df['RN']<=9.0)].groupby('component').apply(f)\n",
        "df_text_comp.head()"
      ],
      "execution_count": 0,
      "outputs": []
    },
    {
      "cell_type": "code",
      "metadata": {
        "id": "S0Nmn3qUxR6l",
        "colab_type": "code",
        "colab": {}
      },
      "source": [
        "df_text_comp['component']= df_text_comp.index\n",
        "df_text_comp.index.names = ['comp']\n",
        "df_text_comp.head()"
      ],
      "execution_count": 0,
      "outputs": []
    },
    {
      "cell_type": "code",
      "metadata": {
        "id": "rPXVjJv8xcJ1",
        "colab_type": "code",
        "colab": {}
      },
      "source": [
        "train = pd.merge(df_text_comp, train_tmp, on='component', sort=False)\n",
        "test =  pd.merge(df_text_comp, test_tmp, on='component', sort=False)\n",
        "val =  pd.merge(df_text_comp, val_tmp, on='component', sort=False)\n",
        "(train.shape,val.shape, test.shape, train.shape[0]/df_text_comp.shape[0])"
      ],
      "execution_count": 0,
      "outputs": []
    },
    {
      "cell_type": "code",
      "metadata": {
        "id": "rvWss3Ai2yTy",
        "colab_type": "code",
        "colab": {}
      },
      "source": [
        "bs=32#48\n",
        "\n",
        "data_clas = TextClasDataBunch.from_df(train_df=train[['text','label']],valid_df=val[['text','label']],  path=mypath, text_cols='text',label_cols = 'label', vocab=data_lm.vocab)\n"
      ],
      "execution_count": 0,
      "outputs": []
    },
    {
      "cell_type": "code",
      "metadata": {
        "id": "3ME-gd6I_zOk",
        "colab_type": "code",
        "colab": {}
      },
      "source": [
        "data_clas.save('tmp_clas')"
      ],
      "execution_count": 0,
      "outputs": []
    },
    {
      "cell_type": "code",
      "metadata": {
        "id": "ecomF0xU_25Q",
        "colab_type": "code",
        "colab": {}
      },
      "source": [
        "data_clas = load_data(mypath, 'tmp_clas', bs=bs)\n"
      ],
      "execution_count": 0,
      "outputs": []
    },
    {
      "cell_type": "code",
      "metadata": {
        "id": "l6dtwG6C_5_d",
        "colab_type": "code",
        "colab": {}
      },
      "source": [
        "data_clas.show_batch()"
      ],
      "execution_count": 0,
      "outputs": []
    },
    {
      "cell_type": "code",
      "metadata": {
        "id": "okrm4fCq_8qy",
        "colab_type": "code",
        "colab": {}
      },
      "source": [
        "learn = text_classifier_learner(data_clas,arch=AWD_LSTM,config = awd_lstm_clas_config, drop_mult=2.0,pretrained=False)\n",
        "learn.load_encoder('fine_tuned_enc3')\n",
        "learn.freeze()"
      ],
      "execution_count": 0,
      "outputs": []
    },
    {
      "cell_type": "code",
      "metadata": {
        "id": "gH1pge_xAFgV",
        "colab_type": "code",
        "colab": {}
      },
      "source": [
        "gc.collect();"
      ],
      "execution_count": 0,
      "outputs": []
    },
    {
      "cell_type": "code",
      "metadata": {
        "id": "HKyJuUtRABmY",
        "colab_type": "code",
        "colab": {}
      },
      "source": [
        "learn.lr_find()"
      ],
      "execution_count": 0,
      "outputs": []
    },
    {
      "cell_type": "code",
      "metadata": {
        "id": "_2jcnRSJAJed",
        "colab_type": "code",
        "colab": {}
      },
      "source": [
        "learn.recorder.plot()"
      ],
      "execution_count": 0,
      "outputs": []
    },
    {
      "cell_type": "code",
      "metadata": {
        "id": "OX1HOp3tANAB",
        "colab_type": "code",
        "colab": {}
      },
      "source": [
        "learn.fit_one_cycle(1, 5e-02, moms=(0.8,0.7))"
      ],
      "execution_count": 0,
      "outputs": []
    },
    {
      "cell_type": "code",
      "metadata": {
        "id": "DQGSYD4TAS9b",
        "colab_type": "code",
        "colab": {}
      },
      "source": [
        "def predict(test,learn):\n",
        "  predictions=[]\n",
        "  for index, row in test.iterrows():\n",
        "    p=learn.predict(row['text'])\n",
        "    #print((row['label'],str(p[0])))\n",
        "    predictions.append((row['text'],str(row['label']),str(p[0])))\n",
        "  dfpred = pd.DataFrame(predictions)\n",
        "  dfpred.columns=['text','label','prediction']\n",
        "  match=dfpred[(dfpred['label']==dfpred['prediction'])]\n",
        "  #match.head()\n",
        "  print((dfpred.shape[0], match.shape[0],match.shape[0]/dfpred.shape[0]))"
      ],
      "execution_count": 0,
      "outputs": []
    },
    {
      "cell_type": "code",
      "metadata": {
        "id": "K_qijpQiAW1a",
        "colab_type": "code",
        "colab": {}
      },
      "source": [
        "learn.fit_one_cycle(1, 5e-02, moms=(0.8,0.7))"
      ],
      "execution_count": 0,
      "outputs": []
    },
    {
      "cell_type": "code",
      "metadata": {
        "id": "mrcF2ywpA7N4",
        "colab_type": "code",
        "colab": {}
      },
      "source": [
        "learn.unfreeze()\n",
        "learn.fit_one_cycle(8, slice(5e-3/(2.6**4),5e-03), moms=(0.8,0.7))\n",
        "\n"
      ],
      "execution_count": 0,
      "outputs": []
    },
    {
      "cell_type": "code",
      "metadata": {
        "id": "5eJzDroiA-Ls",
        "colab_type": "code",
        "colab": {}
      },
      "source": [
        "predict(test,learn)"
      ],
      "execution_count": 0,
      "outputs": []
    },
    {
      "cell_type": "code",
      "metadata": {
        "id": "OncJ5AWmgDzf",
        "colab_type": "code",
        "colab": {}
      },
      "source": [
        "learn.fit_one_cycle(16, slice(5e-3/(2.6**4),5e-3), moms=(0.8,0.7))"
      ],
      "execution_count": 0,
      "outputs": []
    },
    {
      "cell_type": "code",
      "metadata": {
        "id": "04zsWdlpgFwq",
        "colab_type": "code",
        "colab": {}
      },
      "source": [
        "predict(test,learn)"
      ],
      "execution_count": 0,
      "outputs": []
    },
    {
      "cell_type": "code",
      "metadata": {
        "id": "vkbWeFl5gMg_",
        "colab_type": "code",
        "colab": {}
      },
      "source": [
        "learn.fit_one_cycle(16, slice(5e-3/(2.6**4),5e-3), moms=(0.8,0.7))"
      ],
      "execution_count": 0,
      "outputs": []
    },
    {
      "cell_type": "code",
      "metadata": {
        "id": "UgNaWWnHgNpW",
        "colab_type": "code",
        "colab": {}
      },
      "source": [
        "predict(test,learn)"
      ],
      "execution_count": 0,
      "outputs": []
    },
    {
      "cell_type": "code",
      "metadata": {
        "id": "pRkTF6TFrP4w",
        "colab_type": "code",
        "colab": {}
      },
      "source": [
        "learn.fit_one_cycle(16, slice(5e-3/(2.6**4),5e-3), moms=(0.8,0.7))"
      ],
      "execution_count": 0,
      "outputs": []
    },
    {
      "cell_type": "code",
      "metadata": {
        "id": "yCdbebAxrUuk",
        "colab_type": "code",
        "colab": {}
      },
      "source": [
        "predict(test,learn)"
      ],
      "execution_count": 0,
      "outputs": []
    },
    {
      "cell_type": "code",
      "metadata": {
        "id": "rgWg8fxpsP-a",
        "colab_type": "code",
        "colab": {}
      },
      "source": [
        "learn.fit_one_cycle(16, slice(5e-3/(2.6**4),5e-3), moms=(0.8,0.7))"
      ],
      "execution_count": 0,
      "outputs": []
    },
    {
      "cell_type": "code",
      "metadata": {
        "id": "sW0JUNvvsTJ8",
        "colab_type": "code",
        "colab": {}
      },
      "source": [
        "predict(test,learn)"
      ],
      "execution_count": 0,
      "outputs": []
    },
    {
      "cell_type": "code",
      "metadata": {
        "id": "ZJRBYaAesvDx",
        "colab_type": "code",
        "colab": {}
      },
      "source": [
        "learn.fit_one_cycle(16, slice(5e-3/(2.6**4),5e-3), moms=(0.8,0.7))"
      ],
      "execution_count": 0,
      "outputs": []
    },
    {
      "cell_type": "code",
      "metadata": {
        "id": "e6aRVcvvsvbZ",
        "colab_type": "code",
        "colab": {}
      },
      "source": [
        "predict(test,learn)"
      ],
      "execution_count": 0,
      "outputs": []
    },
    {
      "cell_type": "code",
      "metadata": {
        "id": "HzVkknomtUyO",
        "colab_type": "code",
        "colab": {}
      },
      "source": [
        "learn.fit_one_cycle(16, slice(5e-3/(2.6**4),5e-3), moms=(0.8,0.7))"
      ],
      "execution_count": 0,
      "outputs": []
    },
    {
      "cell_type": "code",
      "metadata": {
        "id": "67iKejMxtWOH",
        "colab_type": "code",
        "colab": {}
      },
      "source": [
        "predict(test,learn)"
      ],
      "execution_count": 0,
      "outputs": []
    },
    {
      "cell_type": "code",
      "metadata": {
        "id": "u75jzNXaBIQE",
        "colab_type": "code",
        "colab": {}
      },
      "source": [
        "learn.model"
      ],
      "execution_count": 0,
      "outputs": []
    }
  ]
}