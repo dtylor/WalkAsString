{
 "cells": [
  {
   "cell_type": "code",
   "execution_count": 4,
   "metadata": {
    "collapsed": true
   },
   "outputs": [],
   "source": [
    "import networkx as nx\n",
    "import pandas as pd\n",
    "import numpy as np\n",
    "from graphwave import graphwave\n",
    "from graphwave.utils import utils"
   ]
  },
  {
   "cell_type": "code",
   "execution_count": 5,
   "metadata": {
    "collapsed": true
   },
   "outputs": [],
   "source": [
    "path_to_files = \"../datasets/MUTAG/\""
   ]
  },
  {
   "cell_type": "code",
   "execution_count": 6,
   "metadata": {
    "collapsed": true
   },
   "outputs": [],
   "source": [
    "G = nx.read_edgelist(path_to_files + \"MUTAG_A.txt\", delimiter=',', nodetype=int, encoding=\"utf-8\")\n",
    "nodes = pd.read_csv(path_to_files + \"MUTAG_graph_indicator.txt\", header=None)\n",
    "nodes.index += 1\n",
    "nodes = nodes.reset_index().rename(columns={\"index\":\"node\", 0:\"component\"})\n",
    "\n"
   ]
  },
  {
   "cell_type": "code",
   "execution_count": 8,
   "metadata": {},
   "outputs": [
    {
     "data": {
      "text/html": [
       "<div>\n",
       "<style>\n",
       "    .dataframe thead tr:only-child th {\n",
       "        text-align: right;\n",
       "    }\n",
       "\n",
       "    .dataframe thead th {\n",
       "        text-align: left;\n",
       "    }\n",
       "\n",
       "    .dataframe tbody tr th {\n",
       "        vertical-align: top;\n",
       "    }\n",
       "</style>\n",
       "<table border=\"1\" class=\"dataframe\">\n",
       "  <thead>\n",
       "    <tr style=\"text-align: right;\">\n",
       "      <th></th>\n",
       "      <th>node</th>\n",
       "      <th>component</th>\n",
       "    </tr>\n",
       "  </thead>\n",
       "  <tbody>\n",
       "    <tr>\n",
       "      <th>0</th>\n",
       "      <td>1</td>\n",
       "      <td>1</td>\n",
       "    </tr>\n",
       "    <tr>\n",
       "      <th>1</th>\n",
       "      <td>2</td>\n",
       "      <td>1</td>\n",
       "    </tr>\n",
       "    <tr>\n",
       "      <th>2</th>\n",
       "      <td>3</td>\n",
       "      <td>1</td>\n",
       "    </tr>\n",
       "    <tr>\n",
       "      <th>3</th>\n",
       "      <td>4</td>\n",
       "      <td>1</td>\n",
       "    </tr>\n",
       "    <tr>\n",
       "      <th>4</th>\n",
       "      <td>5</td>\n",
       "      <td>1</td>\n",
       "    </tr>\n",
       "  </tbody>\n",
       "</table>\n",
       "</div>"
      ],
      "text/plain": [
       "   node  component\n",
       "0     1          1\n",
       "1     2          1\n",
       "2     3          1\n",
       "3     4          1\n",
       "4     5          1"
      ]
     },
     "execution_count": 8,
     "metadata": {},
     "output_type": "execute_result"
    }
   ],
   "source": [
    "nodes.head()"
   ]
  },
  {
   "cell_type": "code",
   "execution_count": 10,
   "metadata": {
    "collapsed": true
   },
   "outputs": [],
   "source": [
    "subgraphs = nodes.groupby('component')['node'].apply(list) \\\n",
    "    .map(lambda x: G.subgraph(x)).to_dict()"
   ]
  },
  {
   "cell_type": "code",
   "execution_count": 12,
   "metadata": {},
   "outputs": [
    {
     "data": {
      "text/plain": [
       "{1: <networkx.classes.graphviews.SubGraph at 0x10c7a4828>,\n",
       " 2: <networkx.classes.graphviews.SubGraph at 0x10c7a4ac8>,\n",
       " 3: <networkx.classes.graphviews.SubGraph at 0x10c7a4978>,\n",
       " 4: <networkx.classes.graphviews.SubGraph at 0x10c7a4b00>,\n",
       " 5: <networkx.classes.graphviews.SubGraph at 0x10c7a4be0>,\n",
       " 6: <networkx.classes.graphviews.SubGraph at 0x10c7a4cc0>,\n",
       " 7: <networkx.classes.graphviews.SubGraph at 0x10c7a4da0>,\n",
       " 8: <networkx.classes.graphviews.SubGraph at 0x10c7a4e80>,\n",
       " 9: <networkx.classes.graphviews.SubGraph at 0x10c7a4f60>,\n",
       " 10: <networkx.classes.graphviews.SubGraph at 0x10c7c3080>,\n",
       " 11: <networkx.classes.graphviews.SubGraph at 0x10c7c3160>,\n",
       " 12: <networkx.classes.graphviews.SubGraph at 0x10c7c3240>,\n",
       " 13: <networkx.classes.graphviews.SubGraph at 0x10c7c3320>,\n",
       " 14: <networkx.classes.graphviews.SubGraph at 0x10c7c3400>,\n",
       " 15: <networkx.classes.graphviews.SubGraph at 0x10c7c34e0>,\n",
       " 16: <networkx.classes.graphviews.SubGraph at 0x10c7c35c0>,\n",
       " 17: <networkx.classes.graphviews.SubGraph at 0x10c7c36a0>,\n",
       " 18: <networkx.classes.graphviews.SubGraph at 0x10c7c3780>,\n",
       " 19: <networkx.classes.graphviews.SubGraph at 0x10c7c3860>,\n",
       " 20: <networkx.classes.graphviews.SubGraph at 0x10c7c3940>,\n",
       " 21: <networkx.classes.graphviews.SubGraph at 0x10c7c3a20>,\n",
       " 22: <networkx.classes.graphviews.SubGraph at 0x10c7c3b00>,\n",
       " 23: <networkx.classes.graphviews.SubGraph at 0x10c7c3be0>,\n",
       " 24: <networkx.classes.graphviews.SubGraph at 0x10c7c3cc0>,\n",
       " 25: <networkx.classes.graphviews.SubGraph at 0x10c7c3da0>,\n",
       " 26: <networkx.classes.graphviews.SubGraph at 0x10c7c3e80>,\n",
       " 27: <networkx.classes.graphviews.SubGraph at 0x10c7c3f60>,\n",
       " 28: <networkx.classes.graphviews.SubGraph at 0x10c7c8080>,\n",
       " 29: <networkx.classes.graphviews.SubGraph at 0x10c7c8160>,\n",
       " 30: <networkx.classes.graphviews.SubGraph at 0x10c7c8240>,\n",
       " 31: <networkx.classes.graphviews.SubGraph at 0x10c7c8320>,\n",
       " 32: <networkx.classes.graphviews.SubGraph at 0x10c7c8400>,\n",
       " 33: <networkx.classes.graphviews.SubGraph at 0x10c7c84e0>,\n",
       " 34: <networkx.classes.graphviews.SubGraph at 0x10c7c85c0>,\n",
       " 35: <networkx.classes.graphviews.SubGraph at 0x10c7c86a0>,\n",
       " 36: <networkx.classes.graphviews.SubGraph at 0x10c7c8780>,\n",
       " 37: <networkx.classes.graphviews.SubGraph at 0x10c7c8860>,\n",
       " 38: <networkx.classes.graphviews.SubGraph at 0x10c7c8940>,\n",
       " 39: <networkx.classes.graphviews.SubGraph at 0x10c7c8a20>,\n",
       " 40: <networkx.classes.graphviews.SubGraph at 0x10c7c8b00>,\n",
       " 41: <networkx.classes.graphviews.SubGraph at 0x10c7c8be0>,\n",
       " 42: <networkx.classes.graphviews.SubGraph at 0x10c7c8cc0>,\n",
       " 43: <networkx.classes.graphviews.SubGraph at 0x10c7c8da0>,\n",
       " 44: <networkx.classes.graphviews.SubGraph at 0x10c7c8e80>,\n",
       " 45: <networkx.classes.graphviews.SubGraph at 0x10c7c8f60>,\n",
       " 46: <networkx.classes.graphviews.SubGraph at 0x10c7cd080>,\n",
       " 47: <networkx.classes.graphviews.SubGraph at 0x10c7cd160>,\n",
       " 48: <networkx.classes.graphviews.SubGraph at 0x10c7cd240>,\n",
       " 49: <networkx.classes.graphviews.SubGraph at 0x10c7cd320>,\n",
       " 50: <networkx.classes.graphviews.SubGraph at 0x10c7cd400>,\n",
       " 51: <networkx.classes.graphviews.SubGraph at 0x10c7cd4e0>,\n",
       " 52: <networkx.classes.graphviews.SubGraph at 0x10c7cd5c0>,\n",
       " 53: <networkx.classes.graphviews.SubGraph at 0x10c7cd6a0>,\n",
       " 54: <networkx.classes.graphviews.SubGraph at 0x10c7cd780>,\n",
       " 55: <networkx.classes.graphviews.SubGraph at 0x10c7cd860>,\n",
       " 56: <networkx.classes.graphviews.SubGraph at 0x10c7cd940>,\n",
       " 57: <networkx.classes.graphviews.SubGraph at 0x10c7cda20>,\n",
       " 58: <networkx.classes.graphviews.SubGraph at 0x10c7cdb00>,\n",
       " 59: <networkx.classes.graphviews.SubGraph at 0x10c7cdbe0>,\n",
       " 60: <networkx.classes.graphviews.SubGraph at 0x10c7cdcc0>,\n",
       " 61: <networkx.classes.graphviews.SubGraph at 0x10c7cdda0>,\n",
       " 62: <networkx.classes.graphviews.SubGraph at 0x10c7cde80>,\n",
       " 63: <networkx.classes.graphviews.SubGraph at 0x10c7cdf60>,\n",
       " 64: <networkx.classes.graphviews.SubGraph at 0x10c7d4080>,\n",
       " 65: <networkx.classes.graphviews.SubGraph at 0x10c7d4160>,\n",
       " 66: <networkx.classes.graphviews.SubGraph at 0x10c7d4240>,\n",
       " 67: <networkx.classes.graphviews.SubGraph at 0x10c7d4320>,\n",
       " 68: <networkx.classes.graphviews.SubGraph at 0x10c7d4400>,\n",
       " 69: <networkx.classes.graphviews.SubGraph at 0x10c7d44e0>,\n",
       " 70: <networkx.classes.graphviews.SubGraph at 0x10c7d45c0>,\n",
       " 71: <networkx.classes.graphviews.SubGraph at 0x10c7d46a0>,\n",
       " 72: <networkx.classes.graphviews.SubGraph at 0x10c7d4780>,\n",
       " 73: <networkx.classes.graphviews.SubGraph at 0x10c7d4860>,\n",
       " 74: <networkx.classes.graphviews.SubGraph at 0x10c7d4940>,\n",
       " 75: <networkx.classes.graphviews.SubGraph at 0x10c7d4a20>,\n",
       " 76: <networkx.classes.graphviews.SubGraph at 0x10c7d4b00>,\n",
       " 77: <networkx.classes.graphviews.SubGraph at 0x10c7d4be0>,\n",
       " 78: <networkx.classes.graphviews.SubGraph at 0x10c7d4cc0>,\n",
       " 79: <networkx.classes.graphviews.SubGraph at 0x10c7d4da0>,\n",
       " 80: <networkx.classes.graphviews.SubGraph at 0x10c7d4e80>,\n",
       " 81: <networkx.classes.graphviews.SubGraph at 0x10c7d4f60>,\n",
       " 82: <networkx.classes.graphviews.SubGraph at 0x10c7d9080>,\n",
       " 83: <networkx.classes.graphviews.SubGraph at 0x10c7d9160>,\n",
       " 84: <networkx.classes.graphviews.SubGraph at 0x10c7d9240>,\n",
       " 85: <networkx.classes.graphviews.SubGraph at 0x10c7d9320>,\n",
       " 86: <networkx.classes.graphviews.SubGraph at 0x10c7d9400>,\n",
       " 87: <networkx.classes.graphviews.SubGraph at 0x10c7d94e0>,\n",
       " 88: <networkx.classes.graphviews.SubGraph at 0x10c7d95c0>,\n",
       " 89: <networkx.classes.graphviews.SubGraph at 0x10c7d96a0>,\n",
       " 90: <networkx.classes.graphviews.SubGraph at 0x10c7d9780>,\n",
       " 91: <networkx.classes.graphviews.SubGraph at 0x10c7d9860>,\n",
       " 92: <networkx.classes.graphviews.SubGraph at 0x10c7d9940>,\n",
       " 93: <networkx.classes.graphviews.SubGraph at 0x10c7d9a20>,\n",
       " 94: <networkx.classes.graphviews.SubGraph at 0x10c7d9b00>,\n",
       " 95: <networkx.classes.graphviews.SubGraph at 0x10c7d9be0>,\n",
       " 96: <networkx.classes.graphviews.SubGraph at 0x10c7d9cc0>,\n",
       " 97: <networkx.classes.graphviews.SubGraph at 0x10c7d9da0>,\n",
       " 98: <networkx.classes.graphviews.SubGraph at 0x10c7d9e80>,\n",
       " 99: <networkx.classes.graphviews.SubGraph at 0x10c7d9f60>,\n",
       " 100: <networkx.classes.graphviews.SubGraph at 0x10c7df080>,\n",
       " 101: <networkx.classes.graphviews.SubGraph at 0x10c7df160>,\n",
       " 102: <networkx.classes.graphviews.SubGraph at 0x10c7df240>,\n",
       " 103: <networkx.classes.graphviews.SubGraph at 0x10c7df320>,\n",
       " 104: <networkx.classes.graphviews.SubGraph at 0x10c7df400>,\n",
       " 105: <networkx.classes.graphviews.SubGraph at 0x10c7df4e0>,\n",
       " 106: <networkx.classes.graphviews.SubGraph at 0x10c7df5c0>,\n",
       " 107: <networkx.classes.graphviews.SubGraph at 0x10c7df6a0>,\n",
       " 108: <networkx.classes.graphviews.SubGraph at 0x10c7df780>,\n",
       " 109: <networkx.classes.graphviews.SubGraph at 0x10c7df860>,\n",
       " 110: <networkx.classes.graphviews.SubGraph at 0x10c7df940>,\n",
       " 111: <networkx.classes.graphviews.SubGraph at 0x10c7dfa20>,\n",
       " 112: <networkx.classes.graphviews.SubGraph at 0x10c7dfb00>,\n",
       " 113: <networkx.classes.graphviews.SubGraph at 0x10c7dfbe0>,\n",
       " 114: <networkx.classes.graphviews.SubGraph at 0x10c7dfcc0>,\n",
       " 115: <networkx.classes.graphviews.SubGraph at 0x10c7dfda0>,\n",
       " 116: <networkx.classes.graphviews.SubGraph at 0x10c7dfe80>,\n",
       " 117: <networkx.classes.graphviews.SubGraph at 0x10c7dff60>,\n",
       " 118: <networkx.classes.graphviews.SubGraph at 0x10c7e5080>,\n",
       " 119: <networkx.classes.graphviews.SubGraph at 0x10c7e5160>,\n",
       " 120: <networkx.classes.graphviews.SubGraph at 0x10c7e5240>,\n",
       " 121: <networkx.classes.graphviews.SubGraph at 0x10c7e5320>,\n",
       " 122: <networkx.classes.graphviews.SubGraph at 0x10c7e5400>,\n",
       " 123: <networkx.classes.graphviews.SubGraph at 0x10c7e54e0>,\n",
       " 124: <networkx.classes.graphviews.SubGraph at 0x10c7e55c0>,\n",
       " 125: <networkx.classes.graphviews.SubGraph at 0x10c7e56a0>,\n",
       " 126: <networkx.classes.graphviews.SubGraph at 0x10c7e5780>,\n",
       " 127: <networkx.classes.graphviews.SubGraph at 0x10c7e5860>,\n",
       " 128: <networkx.classes.graphviews.SubGraph at 0x10c7e5940>,\n",
       " 129: <networkx.classes.graphviews.SubGraph at 0x10c7e5a20>,\n",
       " 130: <networkx.classes.graphviews.SubGraph at 0x10c7e5b00>,\n",
       " 131: <networkx.classes.graphviews.SubGraph at 0x10c7e5be0>,\n",
       " 132: <networkx.classes.graphviews.SubGraph at 0x10c7e5cc0>,\n",
       " 133: <networkx.classes.graphviews.SubGraph at 0x10c7e5da0>,\n",
       " 134: <networkx.classes.graphviews.SubGraph at 0x10c7e5e80>,\n",
       " 135: <networkx.classes.graphviews.SubGraph at 0x10c7e5f60>,\n",
       " 136: <networkx.classes.graphviews.SubGraph at 0x10c7eb080>,\n",
       " 137: <networkx.classes.graphviews.SubGraph at 0x10c7eb160>,\n",
       " 138: <networkx.classes.graphviews.SubGraph at 0x10c7eb240>,\n",
       " 139: <networkx.classes.graphviews.SubGraph at 0x10c7eb320>,\n",
       " 140: <networkx.classes.graphviews.SubGraph at 0x10c7eb400>,\n",
       " 141: <networkx.classes.graphviews.SubGraph at 0x10c7eb4e0>,\n",
       " 142: <networkx.classes.graphviews.SubGraph at 0x10c7eb5c0>,\n",
       " 143: <networkx.classes.graphviews.SubGraph at 0x10c7eb6a0>,\n",
       " 144: <networkx.classes.graphviews.SubGraph at 0x10c7eb780>,\n",
       " 145: <networkx.classes.graphviews.SubGraph at 0x10c7eb860>,\n",
       " 146: <networkx.classes.graphviews.SubGraph at 0x10c7eb940>,\n",
       " 147: <networkx.classes.graphviews.SubGraph at 0x10c7eba20>,\n",
       " 148: <networkx.classes.graphviews.SubGraph at 0x10c7ebb00>,\n",
       " 149: <networkx.classes.graphviews.SubGraph at 0x10c7ebbe0>,\n",
       " 150: <networkx.classes.graphviews.SubGraph at 0x10c7ebcc0>,\n",
       " 151: <networkx.classes.graphviews.SubGraph at 0x10c7ebda0>,\n",
       " 152: <networkx.classes.graphviews.SubGraph at 0x10c7ebe80>,\n",
       " 153: <networkx.classes.graphviews.SubGraph at 0x10c7ebf60>,\n",
       " 154: <networkx.classes.graphviews.SubGraph at 0x10c7f0080>,\n",
       " 155: <networkx.classes.graphviews.SubGraph at 0x10c7f0160>,\n",
       " 156: <networkx.classes.graphviews.SubGraph at 0x10c7f0240>,\n",
       " 157: <networkx.classes.graphviews.SubGraph at 0x10c7f0320>,\n",
       " 158: <networkx.classes.graphviews.SubGraph at 0x10c7f0400>,\n",
       " 159: <networkx.classes.graphviews.SubGraph at 0x10c7f04e0>,\n",
       " 160: <networkx.classes.graphviews.SubGraph at 0x10c7f05c0>,\n",
       " 161: <networkx.classes.graphviews.SubGraph at 0x10c7f06a0>,\n",
       " 162: <networkx.classes.graphviews.SubGraph at 0x10c7f0780>,\n",
       " 163: <networkx.classes.graphviews.SubGraph at 0x10c7f0860>,\n",
       " 164: <networkx.classes.graphviews.SubGraph at 0x10c7f0940>,\n",
       " 165: <networkx.classes.graphviews.SubGraph at 0x10c7f0a20>,\n",
       " 166: <networkx.classes.graphviews.SubGraph at 0x10c7f0b00>,\n",
       " 167: <networkx.classes.graphviews.SubGraph at 0x10c7f0be0>,\n",
       " 168: <networkx.classes.graphviews.SubGraph at 0x10c7f0cc0>,\n",
       " 169: <networkx.classes.graphviews.SubGraph at 0x10c7f0da0>,\n",
       " 170: <networkx.classes.graphviews.SubGraph at 0x10c7f0e80>,\n",
       " 171: <networkx.classes.graphviews.SubGraph at 0x10c7f0f60>,\n",
       " 172: <networkx.classes.graphviews.SubGraph at 0x10c7f7080>,\n",
       " 173: <networkx.classes.graphviews.SubGraph at 0x10c7f7160>,\n",
       " 174: <networkx.classes.graphviews.SubGraph at 0x10c7f7240>,\n",
       " 175: <networkx.classes.graphviews.SubGraph at 0x10c7f7320>,\n",
       " 176: <networkx.classes.graphviews.SubGraph at 0x10c7f7400>,\n",
       " 177: <networkx.classes.graphviews.SubGraph at 0x10c7f74e0>,\n",
       " 178: <networkx.classes.graphviews.SubGraph at 0x10c7f75c0>,\n",
       " 179: <networkx.classes.graphviews.SubGraph at 0x10c7f76a0>,\n",
       " 180: <networkx.classes.graphviews.SubGraph at 0x10c7f7780>,\n",
       " 181: <networkx.classes.graphviews.SubGraph at 0x10c7f7860>,\n",
       " 182: <networkx.classes.graphviews.SubGraph at 0x10c7f7940>,\n",
       " 183: <networkx.classes.graphviews.SubGraph at 0x10c7f7a20>,\n",
       " 184: <networkx.classes.graphviews.SubGraph at 0x10c7f7b00>,\n",
       " 185: <networkx.classes.graphviews.SubGraph at 0x10c7f7be0>,\n",
       " 186: <networkx.classes.graphviews.SubGraph at 0x10c7f7cc0>,\n",
       " 187: <networkx.classes.graphviews.SubGraph at 0x10c7f7da0>,\n",
       " 188: <networkx.classes.graphviews.SubGraph at 0x10c7f7e80>}"
      ]
     },
     "execution_count": 12,
     "metadata": {},
     "output_type": "execute_result"
    }
   ],
   "source": [
    "subgraphs"
   ]
  },
  {
   "cell_type": "code",
   "execution_count": 15,
   "metadata": {},
   "outputs": [
    {
     "data": {
      "text/plain": [
       "EdgeView([(2, 1), (2, 3), (1, 6), (3, 4), (4, 5), (4, 10), (5, 6), (5, 7), (7, 8), (8, 9), (9, 10), (9, 14), (10, 11), (11, 12), (12, 13), (13, 14), (13, 15), (15, 16), (15, 17)])"
      ]
     },
     "execution_count": 15,
     "metadata": {},
     "output_type": "execute_result"
    }
   ],
   "source": [
    "subgraphs[1].edges()"
   ]
  },
  {
   "cell_type": "code",
   "execution_count": 18,
   "metadata": {},
   "outputs": [
    {
     "data": {
      "text/plain": [
       "EdgeView([(19, 18), (19, 20), (18, 27), (20, 21), (20, 25), (21, 22), (22, 23), (23, 24), (24, 25), (25, 26), (26, 27), (26, 28), (28, 29), (28, 30)])"
      ]
     },
     "execution_count": 18,
     "metadata": {},
     "output_type": "execute_result"
    }
   ],
   "source": [
    "subgraphs[2].edges()"
   ]
  },
  {
   "cell_type": "code",
   "execution_count": 20,
   "metadata": {},
   "outputs": [
    {
     "data": {
      "text/plain": [
       "NodeView((19, 18, 20, 21, 22, 23, 24, 25, 26, 27, 28, 29, 30))"
      ]
     },
     "execution_count": 20,
     "metadata": {},
     "output_type": "execute_result"
    }
   ],
   "source": [
    "subgraphs[2].nodes()"
   ]
  },
  {
   "cell_type": "code",
   "execution_count": 21,
   "metadata": {},
   "outputs": [
    {
     "data": {
      "text/plain": [
       "NodeView((2, 1, 3, 4, 5, 6, 7, 8, 9, 10, 11, 12, 13, 14, 15, 16, 17))"
      ]
     },
     "execution_count": 21,
     "metadata": {},
     "output_type": "execute_result"
    }
   ],
   "source": [
    "subgraphs[1].nodes()"
   ]
  },
  {
   "cell_type": "code",
   "execution_count": 22,
   "metadata": {
    "collapsed": true
   },
   "outputs": [],
   "source": [
    "node_labels = pd.read_csv(path_to_files + \"MUTAG_node_labels.txt\", header=None)\n",
    "node_labels.index += 1\n",
    "node_labels = dict(node_labels[0])\n",
    "nodes['node_label'] =  nodes.node.map(node_labels)"
   ]
  },
  {
   "cell_type": "code",
   "execution_count": 23,
   "metadata": {
    "collapsed": true
   },
   "outputs": [],
   "source": [
    "component_labels = pd.read_csv(path_to_files + \"MUTAG_graph_labels.txt\", header=None)\n",
    "component_labels.index += 1\n",
    "component_labels = dict(component_labels[0])\n",
    "nodes['component_label'] = nodes.component.map(component_labels)"
   ]
  },
  {
   "cell_type": "code",
   "execution_count": 24,
   "metadata": {
    "collapsed": true
   },
   "outputs": [],
   "source": [
    "chi, heat_print, taus = graphwave.graphwave_alg(subgraphs[1], np.linspace(0,100,25), taus='auto', verbose=True)"
   ]
  },
  {
   "cell_type": "code",
   "execution_count": 36,
   "metadata": {
    "collapsed": true
   },
   "outputs": [],
   "source": [
    "from sklearn.decomposition import PCA\n",
    "from sklearn.preprocessing import StandardScaler\n",
    "from sklearn.cluster import KMeans\n",
    "\n",
    "nb_clust = 6\n",
    "trans_data_all = []\n",
    "n_components = 4\n",
    "keys = []\n",
    "nodes_list = []\n",
    "\n",
    "for key, graph in subgraphs.items():\n",
    "    # Heat diffusion characteristics over 25 * 4 (not sure where 4 comes from) time-steps\n",
    "    chi, heat_print, taus = graphwave.graphwave_alg(graph, np.linspace(0,100,25), taus='auto', verbose=True)\n",
    "    if len(graph.nodes) < n_components:\n",
    "        print(\"Omitting graph \" + key + \" with node count: \"+ str(len(graph.nodes)) +\" < \" + n_components)\n",
    "    else:\n",
    "        # Reduce dimensionality to num_nodes x n_components \n",
    "        pca = PCA(n_components)\n",
    "        # Scale to accentuate differences\n",
    "        trans_data = pca.fit_transform(StandardScaler().fit_transform(chi))\n",
    "        trans_data_all = trans_data_all + trans_data.tolist()\n",
    "        l = [key] * len(graph.nodes)\n",
    "        keys = keys + l\n",
    "        nodes_list = nodes_list + list(graph.nodes())\n",
    "\n",
    "km = KMeans(n_clusters=nb_clust)\n",
    "km.fit(trans_data_all)\n",
    "labels_pred=km.labels_"
   ]
  },
  {
   "cell_type": "markdown",
   "metadata": {},
   "source": [
    "## What is happening?\n",
    "For each subgraph (connected component) in the graph, we apply GraphWave - a method to learn structural signatures by applying heat to a node over time and recording how other nodes react. We end up with a time-series for each node in the subgraph.\n",
    "\n",
    "Then, we scale the results to [-1, 1] and reduce the dimensionality of the time-series results using PCA. This allows us to project each node in *n_components*-dimensional space (we chose 4).\n",
    "\n",
    "After we get all the nodes into 4d space, we can assign labels via KMeans clustering."
   ]
  },
  {
   "cell_type": "code",
   "execution_count": 282,
   "metadata": {},
   "outputs": [
    {
     "data": {
      "text/plain": [
       "<matplotlib.axes._subplots.AxesSubplot at 0x11dce35c0>"
      ]
     },
     "execution_count": 282,
     "metadata": {},
     "output_type": "execute_result"
    },
    {
     "data": {
      "image/png": "[encoded data removed]",
      "text/plain": [
       "<matplotlib.figure.Figure at 0x11dcf3d30>"
      ]
     },
     "metadata": {},
     "output_type": "display_data"
    }
   ],
   "source": [
    "# 16 nodes expressed along 4 dimensions\n",
    "np.array(trans_data.tolist()).shape\n",
    "# Every node represented by 4 dimensions\n",
    "np.array(trans_data_all).shape \n",
    "# Results of clustering all 3371 nodes (represented in 4 learned dimensions)\n",
    "pd.Series(labels_pred).value_counts().sort_index()\n",
    "\n",
    "pca = PCA(n_components)\n",
    "# Scale to accentuate differences\n",
    "trans_data = pca.fit_transform(StandardScaler().fit_transform(chi))\n",
    "\n",
    "import matplotlib.pyplot\n",
    "%matplotlib inline\n",
    "pd.DataFrame(StandardScaler().fit_transform(chi)).T[[1,2,3]].plot()"
   ]
  },
  {
   "cell_type": "code",
   "execution_count": 288,
   "metadata": {},
   "outputs": [
    {
     "data": {
      "text/plain": [
       "17"
      ]
     },
     "execution_count": 288,
     "metadata": {},
     "output_type": "execute_result"
    }
   ],
   "source": [
    "len(subgraphs[1].nodes)"
   ]
  },
  {
   "cell_type": "code",
   "execution_count": 291,
   "metadata": {},
   "outputs": [
    {
     "data": {
      "text/plain": [
       "array([3, 3, 3, 1, 1, 3, 3, 3, 1, 1, 3, 3, 1, 2, 4, 0, 0, 2], dtype=int32)"
      ]
     },
     "execution_count": 291,
     "metadata": {},
     "output_type": "execute_result"
    }
   ],
   "source": [
    "labels_pred[0:18]"
   ]
  },
  {
   "cell_type": "code",
   "execution_count": 292,
   "metadata": {
    "collapsed": true
   },
   "outputs": [],
   "source": [
    "nodes['graphwave_label'] = labels_pred"
   ]
  },
  {
   "cell_type": "code",
   "execution_count": 296,
   "metadata": {
    "collapsed": true
   },
   "outputs": [],
   "source": [
    "nodes['node_label'] = nodes.node_label.map({0: \"C\",\n",
    "                                            1: \"N\",\n",
    "                                            2: \"O\",\n",
    "                                            3: \"F\",\n",
    "                                            4: \"I\",\n",
    "                                            5: \"Cl\",\n",
    "                                            6: \"Br\"})"
   ]
  },
  {
   "cell_type": "code",
   "execution_count": 299,
   "metadata": {},
   "outputs": [
    {
     "data": {
      "text/html": [
       "<div>\n",
       "<style>\n",
       "    .dataframe thead tr:only-child th {\n",
       "        text-align: right;\n",
       "    }\n",
       "\n",
       "    .dataframe thead th {\n",
       "        text-align: left;\n",
       "    }\n",
       "\n",
       "    .dataframe tbody tr th {\n",
       "        vertical-align: top;\n",
       "    }\n",
       "</style>\n",
       "<table border=\"1\" class=\"dataframe\">\n",
       "  <thead>\n",
       "    <tr style=\"text-align: right;\">\n",
       "      <th></th>\n",
       "      <th>node</th>\n",
       "      <th>component</th>\n",
       "      <th>node_label</th>\n",
       "      <th>component_label</th>\n",
       "      <th>graphwave_label</th>\n",
       "    </tr>\n",
       "  </thead>\n",
       "  <tbody>\n",
       "    <tr>\n",
       "      <th>3366</th>\n",
       "      <td>3367</td>\n",
       "      <td>188</td>\n",
       "      <td>C</td>\n",
       "      <td>-1</td>\n",
       "      <td>1</td>\n",
       "    </tr>\n",
       "    <tr>\n",
       "      <th>3367</th>\n",
       "      <td>3368</td>\n",
       "      <td>188</td>\n",
       "      <td>C</td>\n",
       "      <td>-1</td>\n",
       "      <td>3</td>\n",
       "    </tr>\n",
       "    <tr>\n",
       "      <th>3368</th>\n",
       "      <td>3369</td>\n",
       "      <td>188</td>\n",
       "      <td>N</td>\n",
       "      <td>-1</td>\n",
       "      <td>4</td>\n",
       "    </tr>\n",
       "    <tr>\n",
       "      <th>3369</th>\n",
       "      <td>3370</td>\n",
       "      <td>188</td>\n",
       "      <td>O</td>\n",
       "      <td>-1</td>\n",
       "      <td>0</td>\n",
       "    </tr>\n",
       "    <tr>\n",
       "      <th>3370</th>\n",
       "      <td>3371</td>\n",
       "      <td>188</td>\n",
       "      <td>O</td>\n",
       "      <td>-1</td>\n",
       "      <td>0</td>\n",
       "    </tr>\n",
       "  </tbody>\n",
       "</table>\n",
       "</div>"
      ],
      "text/plain": [
       "      node  component node_label  component_label  graphwave_label\n",
       "3366  3367        188          C               -1                1\n",
       "3367  3368        188          C               -1                3\n",
       "3368  3369        188          N               -1                4\n",
       "3369  3370        188          O               -1                0\n",
       "3370  3371        188          O               -1                0"
      ]
     },
     "execution_count": 299,
     "metadata": {},
     "output_type": "execute_result"
    }
   ],
   "source": [
    "nodes.tail()"
   ]
  },
  {
   "cell_type": "markdown",
   "metadata": {},
   "source": [
    "## Random Walks\n",
    "Using the provided *node_label*s, along with the learned structural signature GraphWave labels, we can express the subgraphs to a language model."
   ]
  },
  {
   "cell_type": "code",
   "execution_count": 451,
   "metadata": {
    "collapsed": true
   },
   "outputs": [],
   "source": [
    "e = pd.read_csv(path_to_files+\"MUTAG_edge_labels.txt\", header=None)"
   ]
  },
  {
   "cell_type": "code",
   "execution_count": 484,
   "metadata": {
    "collapsed": true
   },
   "outputs": [],
   "source": [
    "edge_words = e[0].apply(lambda x: \"e\"+str(x))"
   ]
  },
  {
   "cell_type": "code",
   "execution_count": 485,
   "metadata": {
    "collapsed": true
   },
   "outputs": [],
   "source": [
    "edges = pd.read_csv(path_to_files + \"MUTAG_A.txt\", header=None)"
   ]
  },
  {
   "cell_type": "code",
   "execution_count": 486,
   "metadata": {
    "collapsed": true
   },
   "outputs": [],
   "source": [
    "edge_words.index += 1\n",
    "edges.index += 1\n",
    "edges['label'] = edge_words"
   ]
  },
  {
   "cell_type": "code",
   "execution_count": 455,
   "metadata": {
    "collapsed": true
   },
   "outputs": [],
   "source": [
    "nodes['label'] = nodes.node_label + \" \" + nodes.graphwave_label.astype(str)\n",
    "nodes_indexed = nodes.set_index('node')['label'].T.to_dict()"
   ]
  },
  {
   "cell_type": "code",
   "execution_count": 456,
   "metadata": {
    "collapsed": true
   },
   "outputs": [],
   "source": [
    "for start, end, edge in G.edges(data=True):\n",
    "    edge['weight'] = 1"
   ]
  },
  {
   "cell_type": "code",
   "execution_count": 457,
   "metadata": {},
   "outputs": [
    {
     "name": "stdout",
     "output_type": "stream",
     "text": [
      "Walk iteration:\n",
      "('1', '/', '20')\n",
      "('2', '/', '20')\n",
      "('3', '/', '20')\n",
      "('4', '/', '20')\n",
      "('5', '/', '20')\n",
      "('6', '/', '20')\n",
      "('7', '/', '20')\n",
      "('8', '/', '20')\n",
      "('9', '/', '20')\n",
      "('10', '/', '20')\n",
      "('11', '/', '20')\n",
      "('12', '/', '20')\n",
      "('13', '/', '20')\n",
      "('14', '/', '20')\n",
      "('15', '/', '20')\n",
      "('16', '/', '20')\n",
      "('17', '/', '20')\n",
      "('18', '/', '20')\n",
      "('19', '/', '20')\n",
      "('20', '/', '20')\n"
     ]
    },
    {
     "data": {
      "text/plain": [
       "67420"
      ]
     },
     "execution_count": 457,
     "metadata": {},
     "output_type": "execute_result"
    }
   ],
   "source": [
    "n2vG = node2vec.Graph(nx_G=G, is_directed=False, p=1, q=.7)\n",
    "n2vG.preprocess_transition_probs()\n",
    "num_walks = 20\n",
    "walk_length  =30\n",
    "walks = n2vG.simulate_walks(num_walks, walk_length)\n",
    "len(walks)"
   ]
  },
  {
   "cell_type": "code",
   "execution_count": 509,
   "metadata": {
    "collapsed": true
   },
   "outputs": [],
   "source": [
    "processed_walks = []\n",
    "for walk in walks:\n",
    "    rw = \"\"\n",
    "    start_node = walk[0]\n",
    "    rw += nodes_indexed[start_node] + \" \";\n",
    "    for step in range(len(walk) - 1):\n",
    "        start_node = walk[step]\n",
    "        end_node = walk[step + 1]\n",
    "        edge_taken = edges[(start_node, end_node)]\n",
    "        rw += str(edge_taken) + \" \" + nodes_indexed[end_node] + \" \"\n",
    "        step + 1\n",
    "    processed_walks += [rw]\n",
    "\n"
   ]
  },
  {
   "cell_type": "code",
   "execution_count": 511,
   "metadata": {},
   "outputs": [
    {
     "data": {
      "text/plain": [
       "67420"
      ]
     },
     "execution_count": 511,
     "metadata": {},
     "output_type": "execute_result"
    }
   ],
   "source": [
    "len(processed_walks)"
   ]
  },
  {
   "cell_type": "code",
   "execution_count": 494,
   "metadata": {
    "collapsed": true
   },
   "outputs": [],
   "source": [
    "# edges = edges.to_dict()\n",
    "edges = edges.set_index([0,1]).to_dict()['label']\n",
    "# [(2,1)]"
   ]
  },
  {
   "cell_type": "code",
   "execution_count": 501,
   "metadata": {
    "collapsed": true
   },
   "outputs": [],
   "source": [
    "walk = walks[0]"
   ]
  },
  {
   "cell_type": "code",
   "execution_count": 507,
   "metadata": {
    "collapsed": true
   },
   "outputs": [],
   "source": [
    "rw = \"\"\n",
    "start_node = walk[0]\n",
    "rw += nodes_indexed[start_node] + \" \";\n",
    "for step in range(len(walk) - 1):\n",
    "    start_node = walk[step]\n",
    "    end_node = walk[step + 1]\n",
    "    edge_taken = edges[(start_node, end_node)]\n",
    "    rw += str(edge_taken) + \" \" + nodes_indexed[end_node] + \" \"\n",
    "    step + 1\n",
    "    \n"
   ]
  }
 ],
 "metadata": {
  "kernelspec": {
   "display_name": "Python 3",
   "language": "python",
   "name": "python3"
  },
  "language_info": {
   "codemirror_mode": {
    "name": "ipython",
    "version": 3
   },
   "file_extension": ".py",
   "mimetype": "text/x-python",
   "name": "python",
   "nbconvert_exporter": "python",
   "pygments_lexer": "ipython3",
   "version": "3.6.8"
  }
 },
 "nbformat": 4,
 "nbformat_minor": 2
}
