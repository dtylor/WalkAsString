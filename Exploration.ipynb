{
 "cells": [
  {
   "cell_type": "code",
   "execution_count": 1,
   "metadata": {
    "collapsed": true
   },
   "outputs": [],
   "source": [
    "import networkx as nx\n",
    "import pandas as pd\n",
    "import numpy as np\n",
    "from graphwave import graphwave\n",
    "from graphwave.utils import utils"
   ]
  },
  {
   "cell_type": "code",
   "execution_count": 2,
   "metadata": {
    "collapsed": true
   },
   "outputs": [],
   "source": [
    "path_to_files = \"../datasets/MUTAG/\""
   ]
  },
  {
   "cell_type": "code",
   "execution_count": 3,
   "metadata": {
    "collapsed": true
   },
   "outputs": [],
   "source": [
    "G = nx.read_edgelist(path_to_files + \"MUTAG_A.txt\", delimiter=',', nodetype=int, encoding=\"utf-8\")\n",
    "nodes = pd.read_csv(path_to_files + \"MUTAG_graph_indicator.txt\", header=None)\n",
    "nodes.index += 1\n",
    "nodes = nodes.reset_index().rename(columns={\"index\":\"node\", 0:\"component\"})\n",
    "\n"
   ]
  },
  {
   "cell_type": "code",
   "execution_count": 4,
   "metadata": {},
   "outputs": [
    {
     "data": {
      "text/html": [
       "<div>\n",
       "<style>\n",
       "    .dataframe thead tr:only-child th {\n",
       "        text-align: right;\n",
       "    }\n",
       "\n",
       "    .dataframe thead th {\n",
       "        text-align: left;\n",
       "    }\n",
       "\n",
       "    .dataframe tbody tr th {\n",
       "        vertical-align: top;\n",
       "    }\n",
       "</style>\n",
       "<table border=\"1\" class=\"dataframe\">\n",
       "  <thead>\n",
       "    <tr style=\"text-align: right;\">\n",
       "      <th></th>\n",
       "      <th>node</th>\n",
       "      <th>component</th>\n",
       "    </tr>\n",
       "  </thead>\n",
       "  <tbody>\n",
       "    <tr>\n",
       "      <th>0</th>\n",
       "      <td>1</td>\n",
       "      <td>1</td>\n",
       "    </tr>\n",
       "    <tr>\n",
       "      <th>1</th>\n",
       "      <td>2</td>\n",
       "      <td>1</td>\n",
       "    </tr>\n",
       "    <tr>\n",
       "      <th>2</th>\n",
       "      <td>3</td>\n",
       "      <td>1</td>\n",
       "    </tr>\n",
       "    <tr>\n",
       "      <th>3</th>\n",
       "      <td>4</td>\n",
       "      <td>1</td>\n",
       "    </tr>\n",
       "    <tr>\n",
       "      <th>4</th>\n",
       "      <td>5</td>\n",
       "      <td>1</td>\n",
       "    </tr>\n",
       "  </tbody>\n",
       "</table>\n",
       "</div>"
      ],
      "text/plain": [
       "   node  component\n",
       "0     1          1\n",
       "1     2          1\n",
       "2     3          1\n",
       "3     4          1\n",
       "4     5          1"
      ]
     },
     "execution_count": 4,
     "metadata": {},
     "output_type": "execute_result"
    }
   ],
   "source": [
    "nodes.head()"
   ]
  },
  {
   "cell_type": "code",
   "execution_count": 5,
   "metadata": {
    "collapsed": true
   },
   "outputs": [],
   "source": [
    "subgraphs = nodes.groupby('component')['node'].apply(list) \\\n",
    "    .map(lambda x: G.subgraph(x)).to_dict()"
   ]
  },
  {
   "cell_type": "code",
   "execution_count": 6,
   "metadata": {},
   "outputs": [
    {
     "data": {
      "text/plain": [
       "{1: <networkx.classes.graphviews.SubGraph at 0x10b8686d8>,\n",
       " 2: <networkx.classes.graphviews.SubGraph at 0x10b868b38>,\n",
       " 3: <networkx.classes.graphviews.SubGraph at 0x10b868c18>,\n",
       " 4: <networkx.classes.graphviews.SubGraph at 0x10b868d68>,\n",
       " 5: <networkx.classes.graphviews.SubGraph at 0x10b868160>,\n",
       " 6: <networkx.classes.graphviews.SubGraph at 0x10b8681d0>,\n",
       " 7: <networkx.classes.graphviews.SubGraph at 0x10b868dd8>,\n",
       " 8: <networkx.classes.graphviews.SubGraph at 0x10b868eb8>,\n",
       " 9: <networkx.classes.graphviews.SubGraph at 0x10b868f98>,\n",
       " 10: <networkx.classes.graphviews.SubGraph at 0x10bb670b8>,\n",
       " 11: <networkx.classes.graphviews.SubGraph at 0x10bb67198>,\n",
       " 12: <networkx.classes.graphviews.SubGraph at 0x10bb67278>,\n",
       " 13: <networkx.classes.graphviews.SubGraph at 0x10bb67358>,\n",
       " 14: <networkx.classes.graphviews.SubGraph at 0x10bb67438>,\n",
       " 15: <networkx.classes.graphviews.SubGraph at 0x10bb67518>,\n",
       " 16: <networkx.classes.graphviews.SubGraph at 0x10bb675f8>,\n",
       " 17: <networkx.classes.graphviews.SubGraph at 0x10bb676d8>,\n",
       " 18: <networkx.classes.graphviews.SubGraph at 0x10bb677b8>,\n",
       " 19: <networkx.classes.graphviews.SubGraph at 0x10bb67898>,\n",
       " 20: <networkx.classes.graphviews.SubGraph at 0x10bb67978>,\n",
       " 21: <networkx.classes.graphviews.SubGraph at 0x10bb67a58>,\n",
       " 22: <networkx.classes.graphviews.SubGraph at 0x10bb67b38>,\n",
       " 23: <networkx.classes.graphviews.SubGraph at 0x10bb67c18>,\n",
       " 24: <networkx.classes.graphviews.SubGraph at 0x10bb67cf8>,\n",
       " 25: <networkx.classes.graphviews.SubGraph at 0x10bb67dd8>,\n",
       " 26: <networkx.classes.graphviews.SubGraph at 0x10bb67eb8>,\n",
       " 27: <networkx.classes.graphviews.SubGraph at 0x10bb67f98>,\n",
       " 28: <networkx.classes.graphviews.SubGraph at 0x10bb6d0b8>,\n",
       " 29: <networkx.classes.graphviews.SubGraph at 0x10bb6d198>,\n",
       " 30: <networkx.classes.graphviews.SubGraph at 0x10bb6d278>,\n",
       " 31: <networkx.classes.graphviews.SubGraph at 0x10bb6d358>,\n",
       " 32: <networkx.classes.graphviews.SubGraph at 0x10bb6d438>,\n",
       " 33: <networkx.classes.graphviews.SubGraph at 0x10bb6d518>,\n",
       " 34: <networkx.classes.graphviews.SubGraph at 0x10bb6d5f8>,\n",
       " 35: <networkx.classes.graphviews.SubGraph at 0x10bb6d6d8>,\n",
       " 36: <networkx.classes.graphviews.SubGraph at 0x10bb6d7b8>,\n",
       " 37: <networkx.classes.graphviews.SubGraph at 0x10bb6d898>,\n",
       " 38: <networkx.classes.graphviews.SubGraph at 0x10bb6d978>,\n",
       " 39: <networkx.classes.graphviews.SubGraph at 0x10bb6da58>,\n",
       " 40: <networkx.classes.graphviews.SubGraph at 0x10bb6db38>,\n",
       " 41: <networkx.classes.graphviews.SubGraph at 0x10bb6dc18>,\n",
       " 42: <networkx.classes.graphviews.SubGraph at 0x10bb6dcf8>,\n",
       " 43: <networkx.classes.graphviews.SubGraph at 0x10bb6ddd8>,\n",
       " 44: <networkx.classes.graphviews.SubGraph at 0x10bb6deb8>,\n",
       " 45: <networkx.classes.graphviews.SubGraph at 0x10bb6df98>,\n",
       " 46: <networkx.classes.graphviews.SubGraph at 0x10bb730b8>,\n",
       " 47: <networkx.classes.graphviews.SubGraph at 0x10bb73198>,\n",
       " 48: <networkx.classes.graphviews.SubGraph at 0x10bb73278>,\n",
       " 49: <networkx.classes.graphviews.SubGraph at 0x10bb73358>,\n",
       " 50: <networkx.classes.graphviews.SubGraph at 0x10bb73438>,\n",
       " 51: <networkx.classes.graphviews.SubGraph at 0x10bb73518>,\n",
       " 52: <networkx.classes.graphviews.SubGraph at 0x10bb735f8>,\n",
       " 53: <networkx.classes.graphviews.SubGraph at 0x10bb736d8>,\n",
       " 54: <networkx.classes.graphviews.SubGraph at 0x10bb737b8>,\n",
       " 55: <networkx.classes.graphviews.SubGraph at 0x10bb73898>,\n",
       " 56: <networkx.classes.graphviews.SubGraph at 0x10bb73978>,\n",
       " 57: <networkx.classes.graphviews.SubGraph at 0x10bb73a58>,\n",
       " 58: <networkx.classes.graphviews.SubGraph at 0x10bb73b38>,\n",
       " 59: <networkx.classes.graphviews.SubGraph at 0x10bb73c18>,\n",
       " 60: <networkx.classes.graphviews.SubGraph at 0x10bb73cf8>,\n",
       " 61: <networkx.classes.graphviews.SubGraph at 0x10bb73dd8>,\n",
       " 62: <networkx.classes.graphviews.SubGraph at 0x10bb73eb8>,\n",
       " 63: <networkx.classes.graphviews.SubGraph at 0x10bb73f98>,\n",
       " 64: <networkx.classes.graphviews.SubGraph at 0x10bb780b8>,\n",
       " 65: <networkx.classes.graphviews.SubGraph at 0x10bb78198>,\n",
       " 66: <networkx.classes.graphviews.SubGraph at 0x10bb78278>,\n",
       " 67: <networkx.classes.graphviews.SubGraph at 0x10bb78358>,\n",
       " 68: <networkx.classes.graphviews.SubGraph at 0x10b8689e8>,\n",
       " 69: <networkx.classes.graphviews.SubGraph at 0x102aec588>,\n",
       " 70: <networkx.classes.graphviews.SubGraph at 0x10bb783c8>,\n",
       " 71: <networkx.classes.graphviews.SubGraph at 0x10bb784a8>,\n",
       " 72: <networkx.classes.graphviews.SubGraph at 0x10bb78588>,\n",
       " 73: <networkx.classes.graphviews.SubGraph at 0x10bb78668>,\n",
       " 74: <networkx.classes.graphviews.SubGraph at 0x10bb78748>,\n",
       " 75: <networkx.classes.graphviews.SubGraph at 0x10bb78828>,\n",
       " 76: <networkx.classes.graphviews.SubGraph at 0x10bb78908>,\n",
       " 77: <networkx.classes.graphviews.SubGraph at 0x10bb789e8>,\n",
       " 78: <networkx.classes.graphviews.SubGraph at 0x10bb78ac8>,\n",
       " 79: <networkx.classes.graphviews.SubGraph at 0x10bb78ba8>,\n",
       " 80: <networkx.classes.graphviews.SubGraph at 0x10bb78c88>,\n",
       " 81: <networkx.classes.graphviews.SubGraph at 0x10bb78d68>,\n",
       " 82: <networkx.classes.graphviews.SubGraph at 0x10bb78e48>,\n",
       " 83: <networkx.classes.graphviews.SubGraph at 0x10bb78f28>,\n",
       " 84: <networkx.classes.graphviews.SubGraph at 0x10bb7d048>,\n",
       " 85: <networkx.classes.graphviews.SubGraph at 0x10bb7d128>,\n",
       " 86: <networkx.classes.graphviews.SubGraph at 0x10bb7d208>,\n",
       " 87: <networkx.classes.graphviews.SubGraph at 0x10bb7d2e8>,\n",
       " 88: <networkx.classes.graphviews.SubGraph at 0x10bb7d3c8>,\n",
       " 89: <networkx.classes.graphviews.SubGraph at 0x10bb7d4a8>,\n",
       " 90: <networkx.classes.graphviews.SubGraph at 0x10bb7d588>,\n",
       " 91: <networkx.classes.graphviews.SubGraph at 0x10bb7d668>,\n",
       " 92: <networkx.classes.graphviews.SubGraph at 0x10bb7d748>,\n",
       " 93: <networkx.classes.graphviews.SubGraph at 0x10bb7d828>,\n",
       " 94: <networkx.classes.graphviews.SubGraph at 0x10bb7d908>,\n",
       " 95: <networkx.classes.graphviews.SubGraph at 0x10bb7d9e8>,\n",
       " 96: <networkx.classes.graphviews.SubGraph at 0x10bb7dac8>,\n",
       " 97: <networkx.classes.graphviews.SubGraph at 0x10bb7dba8>,\n",
       " 98: <networkx.classes.graphviews.SubGraph at 0x10bb7dc88>,\n",
       " 99: <networkx.classes.graphviews.SubGraph at 0x10bb7dd68>,\n",
       " 100: <networkx.classes.graphviews.SubGraph at 0x10bb7de48>,\n",
       " 101: <networkx.classes.graphviews.SubGraph at 0x10bb7df28>,\n",
       " 102: <networkx.classes.graphviews.SubGraph at 0x10bb85048>,\n",
       " 103: <networkx.classes.graphviews.SubGraph at 0x10bb85128>,\n",
       " 104: <networkx.classes.graphviews.SubGraph at 0x10bb85208>,\n",
       " 105: <networkx.classes.graphviews.SubGraph at 0x10bb852e8>,\n",
       " 106: <networkx.classes.graphviews.SubGraph at 0x10bb853c8>,\n",
       " 107: <networkx.classes.graphviews.SubGraph at 0x10bb854a8>,\n",
       " 108: <networkx.classes.graphviews.SubGraph at 0x10bb85588>,\n",
       " 109: <networkx.classes.graphviews.SubGraph at 0x10bb85668>,\n",
       " 110: <networkx.classes.graphviews.SubGraph at 0x10bb85748>,\n",
       " 111: <networkx.classes.graphviews.SubGraph at 0x10bb85828>,\n",
       " 112: <networkx.classes.graphviews.SubGraph at 0x10bb85908>,\n",
       " 113: <networkx.classes.graphviews.SubGraph at 0x10bb859e8>,\n",
       " 114: <networkx.classes.graphviews.SubGraph at 0x10bb85ac8>,\n",
       " 115: <networkx.classes.graphviews.SubGraph at 0x10bb85ba8>,\n",
       " 116: <networkx.classes.graphviews.SubGraph at 0x10bb85c88>,\n",
       " 117: <networkx.classes.graphviews.SubGraph at 0x10bb85d68>,\n",
       " 118: <networkx.classes.graphviews.SubGraph at 0x10bb85e48>,\n",
       " 119: <networkx.classes.graphviews.SubGraph at 0x10bb85f28>,\n",
       " 120: <networkx.classes.graphviews.SubGraph at 0x10bb8a048>,\n",
       " 121: <networkx.classes.graphviews.SubGraph at 0x10bb8a128>,\n",
       " 122: <networkx.classes.graphviews.SubGraph at 0x10bb8a208>,\n",
       " 123: <networkx.classes.graphviews.SubGraph at 0x10bb8a2e8>,\n",
       " 124: <networkx.classes.graphviews.SubGraph at 0x10bb8a3c8>,\n",
       " 125: <networkx.classes.graphviews.SubGraph at 0x10bb8a4a8>,\n",
       " 126: <networkx.classes.graphviews.SubGraph at 0x10bb8a588>,\n",
       " 127: <networkx.classes.graphviews.SubGraph at 0x10bb8a668>,\n",
       " 128: <networkx.classes.graphviews.SubGraph at 0x10bb8a748>,\n",
       " 129: <networkx.classes.graphviews.SubGraph at 0x10bb8a828>,\n",
       " 130: <networkx.classes.graphviews.SubGraph at 0x10bb8a908>,\n",
       " 131: <networkx.classes.graphviews.SubGraph at 0x10bb8a9e8>,\n",
       " 132: <networkx.classes.graphviews.SubGraph at 0x10bb8aac8>,\n",
       " 133: <networkx.classes.graphviews.SubGraph at 0x10bb8aba8>,\n",
       " 134: <networkx.classes.graphviews.SubGraph at 0x10bb8ac88>,\n",
       " 135: <networkx.classes.graphviews.SubGraph at 0x10bb8ad68>,\n",
       " 136: <networkx.classes.graphviews.SubGraph at 0x10bb8ae48>,\n",
       " 137: <networkx.classes.graphviews.SubGraph at 0x10bb8af28>,\n",
       " 138: <networkx.classes.graphviews.SubGraph at 0x10bb90048>,\n",
       " 139: <networkx.classes.graphviews.SubGraph at 0x10bb90128>,\n",
       " 140: <networkx.classes.graphviews.SubGraph at 0x10bb90208>,\n",
       " 141: <networkx.classes.graphviews.SubGraph at 0x10bb902e8>,\n",
       " 142: <networkx.classes.graphviews.SubGraph at 0x10bb903c8>,\n",
       " 143: <networkx.classes.graphviews.SubGraph at 0x10bb904a8>,\n",
       " 144: <networkx.classes.graphviews.SubGraph at 0x10bb90588>,\n",
       " 145: <networkx.classes.graphviews.SubGraph at 0x10bb90668>,\n",
       " 146: <networkx.classes.graphviews.SubGraph at 0x10bb90748>,\n",
       " 147: <networkx.classes.graphviews.SubGraph at 0x10bb90828>,\n",
       " 148: <networkx.classes.graphviews.SubGraph at 0x10bb90908>,\n",
       " 149: <networkx.classes.graphviews.SubGraph at 0x10bb909e8>,\n",
       " 150: <networkx.classes.graphviews.SubGraph at 0x10bb90ac8>,\n",
       " 151: <networkx.classes.graphviews.SubGraph at 0x10bb90ba8>,\n",
       " 152: <networkx.classes.graphviews.SubGraph at 0x10bb90c88>,\n",
       " 153: <networkx.classes.graphviews.SubGraph at 0x10bb90d68>,\n",
       " 154: <networkx.classes.graphviews.SubGraph at 0x10bb90e48>,\n",
       " 155: <networkx.classes.graphviews.SubGraph at 0x10bb90f28>,\n",
       " 156: <networkx.classes.graphviews.SubGraph at 0x10bb97048>,\n",
       " 157: <networkx.classes.graphviews.SubGraph at 0x10bb97128>,\n",
       " 158: <networkx.classes.graphviews.SubGraph at 0x10bb97208>,\n",
       " 159: <networkx.classes.graphviews.SubGraph at 0x10bb972e8>,\n",
       " 160: <networkx.classes.graphviews.SubGraph at 0x10bb973c8>,\n",
       " 161: <networkx.classes.graphviews.SubGraph at 0x10bb974a8>,\n",
       " 162: <networkx.classes.graphviews.SubGraph at 0x10bb97588>,\n",
       " 163: <networkx.classes.graphviews.SubGraph at 0x10bb97668>,\n",
       " 164: <networkx.classes.graphviews.SubGraph at 0x10bb97748>,\n",
       " 165: <networkx.classes.graphviews.SubGraph at 0x10bb97828>,\n",
       " 166: <networkx.classes.graphviews.SubGraph at 0x10bb97908>,\n",
       " 167: <networkx.classes.graphviews.SubGraph at 0x10bb979e8>,\n",
       " 168: <networkx.classes.graphviews.SubGraph at 0x10bb97ac8>,\n",
       " 169: <networkx.classes.graphviews.SubGraph at 0x10bb97ba8>,\n",
       " 170: <networkx.classes.graphviews.SubGraph at 0x10bb97c88>,\n",
       " 171: <networkx.classes.graphviews.SubGraph at 0x10bb97d68>,\n",
       " 172: <networkx.classes.graphviews.SubGraph at 0x10bb97e48>,\n",
       " 173: <networkx.classes.graphviews.SubGraph at 0x10bb97f28>,\n",
       " 174: <networkx.classes.graphviews.SubGraph at 0x10bb9c048>,\n",
       " 175: <networkx.classes.graphviews.SubGraph at 0x10bb9c128>,\n",
       " 176: <networkx.classes.graphviews.SubGraph at 0x10bb9c208>,\n",
       " 177: <networkx.classes.graphviews.SubGraph at 0x10bb9c2e8>,\n",
       " 178: <networkx.classes.graphviews.SubGraph at 0x10bb9c3c8>,\n",
       " 179: <networkx.classes.graphviews.SubGraph at 0x10bb9c4a8>,\n",
       " 180: <networkx.classes.graphviews.SubGraph at 0x10bb9c588>,\n",
       " 181: <networkx.classes.graphviews.SubGraph at 0x10bb9c668>,\n",
       " 182: <networkx.classes.graphviews.SubGraph at 0x10bb9c748>,\n",
       " 183: <networkx.classes.graphviews.SubGraph at 0x10bb9c828>,\n",
       " 184: <networkx.classes.graphviews.SubGraph at 0x10bb9c908>,\n",
       " 185: <networkx.classes.graphviews.SubGraph at 0x10bb9c9e8>,\n",
       " 186: <networkx.classes.graphviews.SubGraph at 0x10bb9cac8>,\n",
       " 187: <networkx.classes.graphviews.SubGraph at 0x10bb9cba8>,\n",
       " 188: <networkx.classes.graphviews.SubGraph at 0x10bb9cc88>}"
      ]
     },
     "execution_count": 6,
     "metadata": {},
     "output_type": "execute_result"
    }
   ],
   "source": [
    "subgraphs"
   ]
  },
  {
   "cell_type": "code",
   "execution_count": 7,
   "metadata": {},
   "outputs": [
    {
     "data": {
      "text/plain": [
       "EdgeView([(2, 1), (2, 3), (1, 6), (3, 4), (4, 5), (4, 10), (5, 6), (5, 7), (7, 8), (8, 9), (9, 10), (9, 14), (10, 11), (11, 12), (12, 13), (13, 14), (13, 15), (15, 16), (15, 17)])"
      ]
     },
     "execution_count": 7,
     "metadata": {},
     "output_type": "execute_result"
    }
   ],
   "source": [
    "subgraphs[1].edges()"
   ]
  },
  {
   "cell_type": "code",
   "execution_count": 8,
   "metadata": {},
   "outputs": [
    {
     "data": {
      "text/plain": [
       "EdgeView([(19, 18), (19, 20), (18, 27), (20, 21), (20, 25), (21, 22), (22, 23), (23, 24), (24, 25), (25, 26), (26, 27), (26, 28), (28, 29), (28, 30)])"
      ]
     },
     "execution_count": 8,
     "metadata": {},
     "output_type": "execute_result"
    }
   ],
   "source": [
    "subgraphs[2].edges()"
   ]
  },
  {
   "cell_type": "code",
   "execution_count": 9,
   "metadata": {},
   "outputs": [
    {
     "data": {
      "text/plain": [
       "NodeView((19, 18, 20, 21, 22, 23, 24, 25, 26, 27, 28, 29, 30))"
      ]
     },
     "execution_count": 9,
     "metadata": {},
     "output_type": "execute_result"
    }
   ],
   "source": [
    "subgraphs[2].nodes()"
   ]
  },
  {
   "cell_type": "code",
   "execution_count": 10,
   "metadata": {},
   "outputs": [
    {
     "data": {
      "text/plain": [
       "NodeView((2, 1, 3, 4, 5, 6, 7, 8, 9, 10, 11, 12, 13, 14, 15, 16, 17))"
      ]
     },
     "execution_count": 10,
     "metadata": {},
     "output_type": "execute_result"
    }
   ],
   "source": [
    "subgraphs[1].nodes()"
   ]
  },
  {
   "cell_type": "code",
   "execution_count": 11,
   "metadata": {
    "collapsed": true
   },
   "outputs": [],
   "source": [
    "node_labels = pd.read_csv(path_to_files + \"MUTAG_node_labels.txt\", header=None)\n",
    "node_labels.index += 1\n",
    "node_labels = dict(node_labels[0])\n",
    "nodes['node_label'] =  nodes.node.map(node_labels)"
   ]
  },
  {
   "cell_type": "code",
   "execution_count": 12,
   "metadata": {
    "collapsed": true
   },
   "outputs": [],
   "source": [
    "component_labels = pd.read_csv(path_to_files + \"MUTAG_graph_labels.txt\", header=None)\n",
    "component_labels.index += 1\n",
    "component_labels = dict(component_labels[0])\n",
    "nodes['component_label'] = nodes.component.map(component_labels)"
   ]
  },
  {
   "cell_type": "code",
   "execution_count": 13,
   "metadata": {
    "collapsed": true
   },
   "outputs": [],
   "source": [
    "chi, heat_print, taus = graphwave.graphwave_alg(subgraphs[1], np.linspace(0,100,25), taus='auto', verbose=True)"
   ]
  },
  {
   "cell_type": "code",
   "execution_count": 14,
   "metadata": {
    "collapsed": true
   },
   "outputs": [],
   "source": [
    "from sklearn.decomposition import PCA\n",
    "from sklearn.preprocessing import StandardScaler\n",
    "from sklearn.cluster import KMeans\n",
    "\n",
    "nb_clust = 6\n",
    "trans_data_all = []\n",
    "n_components = 4\n",
    "keys = []\n",
    "nodes_list = []\n",
    "\n",
    "for key, graph in subgraphs.items():\n",
    "    # Heat diffusion characteristics over 25 * 4 (not sure where 4 comes from) time-steps\n",
    "    chi, heat_print, taus = graphwave.graphwave_alg(graph, np.linspace(0,100,25), taus='auto', verbose=True)\n",
    "    if len(graph.nodes) < n_components:\n",
    "        print(\"Omitting graph \" + key + \" with node count: \"+ str(len(graph.nodes)) +\" < \" + n_components)\n",
    "    else:\n",
    "        # Reduce dimensionality to num_nodes x n_components \n",
    "        pca = PCA(n_components)\n",
    "        # Scale to accentuate differences\n",
    "        trans_data = pca.fit_transform(StandardScaler().fit_transform(chi))\n",
    "        trans_data_all = trans_data_all + trans_data.tolist()\n",
    "        l = [key] * len(graph.nodes)\n",
    "        keys = keys + l\n",
    "        nodes_list = nodes_list + list(graph.nodes())\n",
    "\n",
    "km = KMeans(n_clusters=nb_clust)\n",
    "km.fit(trans_data_all)\n",
    "labels_pred=km.labels_"
   ]
  },
  {
   "cell_type": "markdown",
   "metadata": {},
   "source": [
    "## What is happening?\n",
    "For each subgraph (connected component) in the graph, we apply GraphWave - a method to learn structural signatures by applying heat to a node over time and recording how other nodes react. We end up with a time-series for each node in the subgraph.\n",
    "\n",
    "Then, we scale the results to [-1, 1] and reduce the dimensionality of the time-series results using PCA. This allows us to project each node in *n_components*-dimensional space (we chose 4).\n",
    "\n",
    "After we get all the nodes into 4d space, we can assign labels via KMeans clustering."
   ]
  },
  {
   "cell_type": "code",
   "execution_count": 15,
   "metadata": {},
   "outputs": [
    {
     "data": {
      "text/plain": [
       "<matplotlib.axes._subplots.AxesSubplot at 0x10bcfdbe0>"
      ]
     },
     "execution_count": 15,
     "metadata": {},
     "output_type": "execute_result"
    },
    {
     "data": {
      "image/png": "[encoded data removed]",
      "text/plain": [
       "<matplotlib.figure.Figure at 0x10bcfd400>"
      ]
     },
     "metadata": {},
     "output_type": "display_data"
    }
   ],
   "source": [
    "# 16 nodes expressed along 4 dimensions\n",
    "np.array(trans_data.tolist()).shape\n",
    "# Every node represented by 4 dimensions\n",
    "np.array(trans_data_all).shape \n",
    "# Results of clustering all 3371 nodes (represented in 4 learned dimensions)\n",
    "pd.Series(labels_pred).value_counts().sort_index()\n",
    "\n",
    "pca = PCA(n_components)\n",
    "# Scale to accentuate differences\n",
    "trans_data = pca.fit_transform(StandardScaler().fit_transform(chi))\n",
    "\n",
    "import matplotlib.pyplot\n",
    "%matplotlib inline\n",
    "pd.DataFrame(StandardScaler().fit_transform(chi)).T[[1,2,3]].plot()"
   ]
  },
  {
   "cell_type": "code",
   "execution_count": 16,
   "metadata": {},
   "outputs": [
    {
     "data": {
      "text/plain": [
       "17"
      ]
     },
     "execution_count": 16,
     "metadata": {},
     "output_type": "execute_result"
    }
   ],
   "source": [
    "len(subgraphs[1].nodes)"
   ]
  },
  {
   "cell_type": "code",
   "execution_count": 17,
   "metadata": {},
   "outputs": [
    {
     "data": {
      "text/plain": [
       "array([5, 5, 0, 1, 1, 0, 0, 0, 1, 1, 0, 0, 1, 0, 3, 2, 2, 0], dtype=int32)"
      ]
     },
     "execution_count": 17,
     "metadata": {},
     "output_type": "execute_result"
    }
   ],
   "source": [
    "labels_pred[0:18]"
   ]
  },
  {
   "cell_type": "code",
   "execution_count": 18,
   "metadata": {
    "collapsed": true
   },
   "outputs": [],
   "source": [
    "nodes['graphwave_label'] = labels_pred"
   ]
  },
  {
   "cell_type": "code",
   "execution_count": 19,
   "metadata": {
    "collapsed": true
   },
   "outputs": [],
   "source": [
    "nodes['node_label'] = nodes.node_label.map({0: \"C\",\n",
    "                                            1: \"N\",\n",
    "                                            2: \"O\",\n",
    "                                            3: \"F\",\n",
    "                                            4: \"I\",\n",
    "                                            5: \"Cl\",\n",
    "                                            6: \"Br\"})"
   ]
  },
  {
   "cell_type": "code",
   "execution_count": 20,
   "metadata": {},
   "outputs": [
    {
     "data": {
      "text/html": [
       "<div>\n",
       "<style>\n",
       "    .dataframe thead tr:only-child th {\n",
       "        text-align: right;\n",
       "    }\n",
       "\n",
       "    .dataframe thead th {\n",
       "        text-align: left;\n",
       "    }\n",
       "\n",
       "    .dataframe tbody tr th {\n",
       "        vertical-align: top;\n",
       "    }\n",
       "</style>\n",
       "<table border=\"1\" class=\"dataframe\">\n",
       "  <thead>\n",
       "    <tr style=\"text-align: right;\">\n",
       "      <th></th>\n",
       "      <th>node</th>\n",
       "      <th>component</th>\n",
       "      <th>node_label</th>\n",
       "      <th>component_label</th>\n",
       "      <th>graphwave_label</th>\n",
       "    </tr>\n",
       "  </thead>\n",
       "  <tbody>\n",
       "    <tr>\n",
       "      <th>3366</th>\n",
       "      <td>3367</td>\n",
       "      <td>188</td>\n",
       "      <td>C</td>\n",
       "      <td>-1</td>\n",
       "      <td>1</td>\n",
       "    </tr>\n",
       "    <tr>\n",
       "      <th>3367</th>\n",
       "      <td>3368</td>\n",
       "      <td>188</td>\n",
       "      <td>C</td>\n",
       "      <td>-1</td>\n",
       "      <td>0</td>\n",
       "    </tr>\n",
       "    <tr>\n",
       "      <th>3368</th>\n",
       "      <td>3369</td>\n",
       "      <td>188</td>\n",
       "      <td>N</td>\n",
       "      <td>-1</td>\n",
       "      <td>3</td>\n",
       "    </tr>\n",
       "    <tr>\n",
       "      <th>3369</th>\n",
       "      <td>3370</td>\n",
       "      <td>188</td>\n",
       "      <td>O</td>\n",
       "      <td>-1</td>\n",
       "      <td>2</td>\n",
       "    </tr>\n",
       "    <tr>\n",
       "      <th>3370</th>\n",
       "      <td>3371</td>\n",
       "      <td>188</td>\n",
       "      <td>O</td>\n",
       "      <td>-1</td>\n",
       "      <td>2</td>\n",
       "    </tr>\n",
       "  </tbody>\n",
       "</table>\n",
       "</div>"
      ],
      "text/plain": [
       "      node  component node_label  component_label  graphwave_label\n",
       "3366  3367        188          C               -1                1\n",
       "3367  3368        188          C               -1                0\n",
       "3368  3369        188          N               -1                3\n",
       "3369  3370        188          O               -1                2\n",
       "3370  3371        188          O               -1                2"
      ]
     },
     "execution_count": 20,
     "metadata": {},
     "output_type": "execute_result"
    }
   ],
   "source": [
    "nodes.tail()"
   ]
  },
  {
   "cell_type": "markdown",
   "metadata": {},
   "source": [
    "## Random Walks\n",
    "Using the provided *node_label*s, along with the learned structural signature GraphWave labels, we can express the subgraphs to a language model."
   ]
  },
  {
   "cell_type": "code",
   "execution_count": 21,
   "metadata": {
    "collapsed": true
   },
   "outputs": [],
   "source": [
    "e = pd.read_csv(path_to_files+\"MUTAG_edge_labels.txt\", header=None)"
   ]
  },
  {
   "cell_type": "code",
   "execution_count": 22,
   "metadata": {
    "collapsed": true
   },
   "outputs": [],
   "source": [
    "edge_words = e[0].apply(lambda x: \"e\"+str(x))"
   ]
  },
  {
   "cell_type": "code",
   "execution_count": 23,
   "metadata": {
    "collapsed": true
   },
   "outputs": [],
   "source": [
    "edges = pd.read_csv(path_to_files + \"MUTAG_A.txt\", header=None)"
   ]
  },
  {
   "cell_type": "code",
   "execution_count": 24,
   "metadata": {
    "collapsed": true
   },
   "outputs": [],
   "source": [
    "edge_words.index += 1\n",
    "edges.index += 1\n",
    "edges['label'] = edge_words"
   ]
  },
  {
   "cell_type": "code",
   "execution_count": 25,
   "metadata": {
    "collapsed": true
   },
   "outputs": [],
   "source": [
    "nodes['label'] = nodes.node_label + \" \" + nodes.graphwave_label.astype(str)\n",
    "nodes_indexed = nodes.set_index('node')['label'].T.to_dict()"
   ]
  },
  {
   "cell_type": "code",
   "execution_count": 27,
   "metadata": {
    "collapsed": true
   },
   "outputs": [],
   "source": [
    "for start, end, edge in G.edges(data=True):\n",
    "    edge['weight'] = 1"
   ]
  },
  {
   "cell_type": "code",
   "execution_count": 41,
   "metadata": {
    "scrolled": true
   },
   "outputs": [
    {
     "name": "stdout",
     "output_type": "stream",
     "text": [
      "Walk iteration:\n",
      "('1', '/', '20')\n",
      "('2', '/', '20')\n",
      "('3', '/', '20')\n",
      "('4', '/', '20')\n",
      "('5', '/', '20')\n",
      "('6', '/', '20')\n",
      "('7', '/', '20')\n",
      "('8', '/', '20')\n",
      "('9', '/', '20')\n",
      "('10', '/', '20')\n",
      "('11', '/', '20')\n",
      "('12', '/', '20')\n",
      "('13', '/', '20')\n",
      "('14', '/', '20')\n",
      "('15', '/', '20')\n",
      "('16', '/', '20')\n",
      "('17', '/', '20')\n",
      "('18', '/', '20')\n",
      "('19', '/', '20')\n",
      "('20', '/', '20')\n"
     ]
    },
    {
     "data": {
      "text/plain": [
       "67420"
      ]
     },
     "execution_count": 41,
     "metadata": {},
     "output_type": "execute_result"
    }
   ],
   "source": [
    "from n2v import node2vec\n",
    "\n",
    "n2vG = node2vec.Graph(nx_G=G, is_directed=False, p=1, q=.7)\n",
    "n2vG.preprocess_transition_probs()\n",
    "num_walks = 20\n",
    "walk_length  =30\n",
    "walks = n2vG.simulate_walks(num_walks, walk_length)\n",
    "len(walks)"
   ]
  },
  {
   "cell_type": "code",
   "execution_count": 44,
   "metadata": {
    "collapsed": true
   },
   "outputs": [],
   "source": [
    "# edges = edges.to_dict()\n",
    "edges = edges.set_index([0,1]).to_dict()['label']\n",
    "# [(2,1)]"
   ]
  },
  {
   "cell_type": "code",
   "execution_count": 45,
   "metadata": {},
   "outputs": [],
   "source": [
    "processed_walks = []\n",
    "for walk in walks:\n",
    "    rw = \"\"\n",
    "    start_node = walk[0]\n",
    "    rw += nodes_indexed[start_node] + \" \";\n",
    "    for step in range(len(walk) - 1):\n",
    "        start_node = walk[step]\n",
    "        end_node = walk[step + 1]\n",
    "        edge_taken = edges[(start_node, end_node)]\n",
    "        rw += str(edge_taken) + \" \" + nodes_indexed[end_node] + \" \"\n",
    "        step + 1\n",
    "    processed_walks += [rw]\n",
    "\n"
   ]
  },
  {
   "cell_type": "code",
   "execution_count": 47,
   "metadata": {},
   "outputs": [
    {
     "data": {
      "text/plain": [
       "67420"
      ]
     },
     "execution_count": 47,
     "metadata": {},
     "output_type": "execute_result"
    }
   ],
   "source": [
    "len(processed_walks)"
   ]
  },
  {
   "cell_type": "code",
   "execution_count": 50,
   "metadata": {},
   "outputs": [
    {
     "data": {
      "text/plain": [
       "3371.0"
      ]
     },
     "execution_count": 50,
     "metadata": {},
     "output_type": "execute_result"
    }
   ],
   "source": [
    "len(processed_walks) / 20"
   ]
  },
  {
   "cell_type": "code",
   "execution_count": 54,
   "metadata": {},
   "outputs": [
    {
     "data": {
      "text/plain": [
       "[[3353,\n",
       "  3351,\n",
       "  3352,\n",
       "  3347,\n",
       "  3352,\n",
       "  3347,\n",
       "  3348,\n",
       "  3349,\n",
       "  3350,\n",
       "  3351,\n",
       "  3352,\n",
       "  3347,\n",
       "  3352,\n",
       "  3351,\n",
       "  3350,\n",
       "  3349,\n",
       "  3348,\n",
       "  3347,\n",
       "  3348,\n",
       "  3338,\n",
       "  3337,\n",
       "  3336,\n",
       "  3337,\n",
       "  3338,\n",
       "  3339,\n",
       "  3341,\n",
       "  3342,\n",
       "  3341,\n",
       "  3346,\n",
       "  3345],\n",
       " [436,\n",
       "  437,\n",
       "  436,\n",
       "  435,\n",
       "  426,\n",
       "  425,\n",
       "  424,\n",
       "  429,\n",
       "  424,\n",
       "  425,\n",
       "  424,\n",
       "  429,\n",
       "  428,\n",
       "  429,\n",
       "  430,\n",
       "  429,\n",
       "  424,\n",
       "  429,\n",
       "  430,\n",
       "  431,\n",
       "  430,\n",
       "  429,\n",
       "  428,\n",
       "  427,\n",
       "  428,\n",
       "  429,\n",
       "  430,\n",
       "  429,\n",
       "  428,\n",
       "  429],\n",
       " [2356,\n",
       "  2354,\n",
       "  2353,\n",
       "  2354,\n",
       "  2356,\n",
       "  2354,\n",
       "  2355,\n",
       "  2354,\n",
       "  2353,\n",
       "  2348,\n",
       "  2349,\n",
       "  2350,\n",
       "  2349,\n",
       "  2350,\n",
       "  2349,\n",
       "  2350,\n",
       "  2351,\n",
       "  2357,\n",
       "  2351,\n",
       "  2352,\n",
       "  2351,\n",
       "  2352,\n",
       "  2351,\n",
       "  2350,\n",
       "  2360,\n",
       "  2361,\n",
       "  2360,\n",
       "  2361,\n",
       "  2360,\n",
       "  2350],\n",
       " [1324,\n",
       "  1323,\n",
       "  1324,\n",
       "  1319,\n",
       "  1324,\n",
       "  1323,\n",
       "  1325,\n",
       "  1326,\n",
       "  1327,\n",
       "  1328,\n",
       "  1327,\n",
       "  1326,\n",
       "  1327,\n",
       "  1326,\n",
       "  1327,\n",
       "  1328,\n",
       "  1329,\n",
       "  1331,\n",
       "  1329,\n",
       "  1330,\n",
       "  1325,\n",
       "  1326,\n",
       "  1327,\n",
       "  1326,\n",
       "  1327,\n",
       "  1326,\n",
       "  1325,\n",
       "  1330,\n",
       "  1325,\n",
       "  1326],\n",
       " [1941,\n",
       "  1928,\n",
       "  1929,\n",
       "  1930,\n",
       "  1939,\n",
       "  1938,\n",
       "  1933,\n",
       "  1934,\n",
       "  1935,\n",
       "  1934,\n",
       "  1933,\n",
       "  1938,\n",
       "  1937,\n",
       "  1943,\n",
       "  1937,\n",
       "  1936,\n",
       "  1937,\n",
       "  1943,\n",
       "  1944,\n",
       "  1943,\n",
       "  1942,\n",
       "  1940,\n",
       "  1942,\n",
       "  1943,\n",
       "  1944,\n",
       "  1943,\n",
       "  1944,\n",
       "  1943,\n",
       "  1942,\n",
       "  1940],\n",
       " [216,\n",
       "  217,\n",
       "  216,\n",
       "  215,\n",
       "  210,\n",
       "  208,\n",
       "  207,\n",
       "  208,\n",
       "  210,\n",
       "  215,\n",
       "  216,\n",
       "  217,\n",
       "  218,\n",
       "  217,\n",
       "  216,\n",
       "  215,\n",
       "  210,\n",
       "  208,\n",
       "  210,\n",
       "  211,\n",
       "  212,\n",
       "  211,\n",
       "  210,\n",
       "  215,\n",
       "  214,\n",
       "  213,\n",
       "  223,\n",
       "  225,\n",
       "  223,\n",
       "  213],\n",
       " [2759,\n",
       "  2757,\n",
       "  2759,\n",
       "  2757,\n",
       "  2758,\n",
       "  2757,\n",
       "  2759,\n",
       "  2757,\n",
       "  2751,\n",
       "  2752,\n",
       "  2751,\n",
       "  2757,\n",
       "  2759,\n",
       "  2757,\n",
       "  2751,\n",
       "  2750,\n",
       "  2749,\n",
       "  2748,\n",
       "  2749,\n",
       "  2750,\n",
       "  2751,\n",
       "  2750,\n",
       "  2749,\n",
       "  2748,\n",
       "  2747,\n",
       "  2748,\n",
       "  2749,\n",
       "  2748,\n",
       "  2753,\n",
       "  2748],\n",
       " [741,\n",
       "  740,\n",
       "  742,\n",
       "  740,\n",
       "  742,\n",
       "  740,\n",
       "  735,\n",
       "  740,\n",
       "  741,\n",
       "  740,\n",
       "  735,\n",
       "  740,\n",
       "  735,\n",
       "  736,\n",
       "  735,\n",
       "  740,\n",
       "  735,\n",
       "  736,\n",
       "  737,\n",
       "  736,\n",
       "  735,\n",
       "  736,\n",
       "  737,\n",
       "  736,\n",
       "  735,\n",
       "  734,\n",
       "  735,\n",
       "  736,\n",
       "  735,\n",
       "  734],\n",
       " [576,\n",
       "  574,\n",
       "  575,\n",
       "  574,\n",
       "  575,\n",
       "  574,\n",
       "  575,\n",
       "  574,\n",
       "  576,\n",
       "  574,\n",
       "  573,\n",
       "  574,\n",
       "  575,\n",
       "  574,\n",
       "  576,\n",
       "  574,\n",
       "  573,\n",
       "  568,\n",
       "  569,\n",
       "  568,\n",
       "  567,\n",
       "  562,\n",
       "  567,\n",
       "  566,\n",
       "  565,\n",
       "  580,\n",
       "  581,\n",
       "  580,\n",
       "  565,\n",
       "  566],\n",
       " [632,\n",
       "  633,\n",
       "  634,\n",
       "  633,\n",
       "  634,\n",
       "  635,\n",
       "  634,\n",
       "  636,\n",
       "  637,\n",
       "  636,\n",
       "  634,\n",
       "  633,\n",
       "  632,\n",
       "  631,\n",
       "  630,\n",
       "  629,\n",
       "  625,\n",
       "  626,\n",
       "  627,\n",
       "  622,\n",
       "  623,\n",
       "  624,\n",
       "  631,\n",
       "  630,\n",
       "  629,\n",
       "  625,\n",
       "  626,\n",
       "  627,\n",
       "  626,\n",
       "  625],\n",
       " [1162,\n",
       "  1161,\n",
       "  1151,\n",
       "  1161,\n",
       "  1160,\n",
       "  1161,\n",
       "  1151,\n",
       "  1152,\n",
       "  1153,\n",
       "  1152,\n",
       "  1158,\n",
       "  1152,\n",
       "  1153,\n",
       "  1154,\n",
       "  1153,\n",
       "  1154,\n",
       "  1153,\n",
       "  1152,\n",
       "  1151,\n",
       "  1152,\n",
       "  1158,\n",
       "  1160,\n",
       "  1158,\n",
       "  1159,\n",
       "  1158,\n",
       "  1159,\n",
       "  1158,\n",
       "  1160,\n",
       "  1158,\n",
       "  1159],\n",
       " [2435,\n",
       "  2434,\n",
       "  2433,\n",
       "  2424,\n",
       "  2425,\n",
       "  2426,\n",
       "  2431,\n",
       "  2426,\n",
       "  2425,\n",
       "  2426,\n",
       "  2425,\n",
       "  2424,\n",
       "  2433,\n",
       "  2434,\n",
       "  2433,\n",
       "  2424,\n",
       "  2433,\n",
       "  2432,\n",
       "  2437,\n",
       "  2432,\n",
       "  2437,\n",
       "  2436,\n",
       "  2435,\n",
       "  2440,\n",
       "  2442,\n",
       "  2440,\n",
       "  2435,\n",
       "  2434,\n",
       "  2433,\n",
       "  2432],\n",
       " [2663,\n",
       "  2664,\n",
       "  2665,\n",
       "  2664,\n",
       "  2665,\n",
       "  2666,\n",
       "  2667,\n",
       "  2666,\n",
       "  2667,\n",
       "  2666,\n",
       "  2670,\n",
       "  2671,\n",
       "  2670,\n",
       "  2671,\n",
       "  2670,\n",
       "  2671,\n",
       "  2670,\n",
       "  2671,\n",
       "  2670,\n",
       "  2666,\n",
       "  2667,\n",
       "  2666,\n",
       "  2667,\n",
       "  2668,\n",
       "  2669,\n",
       "  2655,\n",
       "  2654,\n",
       "  2655,\n",
       "  2654,\n",
       "  2653],\n",
       " [970,\n",
       "  971,\n",
       "  972,\n",
       "  978,\n",
       "  972,\n",
       "  973,\n",
       "  972,\n",
       "  978,\n",
       "  972,\n",
       "  971,\n",
       "  970,\n",
       "  971,\n",
       "  972,\n",
       "  978,\n",
       "  972,\n",
       "  978,\n",
       "  972,\n",
       "  971,\n",
       "  972,\n",
       "  978,\n",
       "  972,\n",
       "  973,\n",
       "  972,\n",
       "  978,\n",
       "  972,\n",
       "  971,\n",
       "  970,\n",
       "  971,\n",
       "  970,\n",
       "  975],\n",
       " [2911,\n",
       "  2910,\n",
       "  2911,\n",
       "  2910,\n",
       "  2911,\n",
       "  2910,\n",
       "  2909,\n",
       "  2904,\n",
       "  2903,\n",
       "  2898,\n",
       "  2899,\n",
       "  2898,\n",
       "  2897,\n",
       "  2898,\n",
       "  2903,\n",
       "  2898,\n",
       "  2899,\n",
       "  2900,\n",
       "  2901,\n",
       "  2902,\n",
       "  2911,\n",
       "  2902,\n",
       "  2911,\n",
       "  2902,\n",
       "  2901,\n",
       "  2902,\n",
       "  2901,\n",
       "  2902,\n",
       "  2903,\n",
       "  2898],\n",
       " [3242,\n",
       "  3243,\n",
       "  3251,\n",
       "  3243,\n",
       "  3242,\n",
       "  3241,\n",
       "  3242,\n",
       "  3243,\n",
       "  3244,\n",
       "  3248,\n",
       "  3250,\n",
       "  3248,\n",
       "  3250,\n",
       "  3248,\n",
       "  3250,\n",
       "  3248,\n",
       "  3244,\n",
       "  3248,\n",
       "  3244,\n",
       "  3248,\n",
       "  3249,\n",
       "  3248,\n",
       "  3249,\n",
       "  3248,\n",
       "  3250,\n",
       "  3248,\n",
       "  3244,\n",
       "  3245,\n",
       "  3246,\n",
       "  3241],\n",
       " [991,\n",
       "  990,\n",
       "  989,\n",
       "  990,\n",
       "  991,\n",
       "  990,\n",
       "  992,\n",
       "  990,\n",
       "  989,\n",
       "  988,\n",
       "  987,\n",
       "  988,\n",
       "  987,\n",
       "  988,\n",
       "  987,\n",
       "  986,\n",
       "  981,\n",
       "  980,\n",
       "  979,\n",
       "  980,\n",
       "  989,\n",
       "  990,\n",
       "  991,\n",
       "  990,\n",
       "  992,\n",
       "  990,\n",
       "  989,\n",
       "  980,\n",
       "  981,\n",
       "  982],\n",
       " [540,\n",
       "  545,\n",
       "  544,\n",
       "  545,\n",
       "  540,\n",
       "  541,\n",
       "  540,\n",
       "  545,\n",
       "  540,\n",
       "  541,\n",
       "  540,\n",
       "  541,\n",
       "  542,\n",
       "  543,\n",
       "  544,\n",
       "  543,\n",
       "  542,\n",
       "  543,\n",
       "  542,\n",
       "  541,\n",
       "  542,\n",
       "  543,\n",
       "  552,\n",
       "  553,\n",
       "  552,\n",
       "  551,\n",
       "  550,\n",
       "  549,\n",
       "  550,\n",
       "  551],\n",
       " [1433,\n",
       "  1432,\n",
       "  1428,\n",
       "  1427,\n",
       "  1426,\n",
       "  1425,\n",
       "  1424,\n",
       "  1422,\n",
       "  1421,\n",
       "  1420,\n",
       "  1421,\n",
       "  1431,\n",
       "  1430,\n",
       "  1425,\n",
       "  1430,\n",
       "  1429,\n",
       "  1430,\n",
       "  1429,\n",
       "  1430,\n",
       "  1431,\n",
       "  1430,\n",
       "  1425,\n",
       "  1426,\n",
       "  1427,\n",
       "  1426,\n",
       "  1427,\n",
       "  1426,\n",
       "  1425,\n",
       "  1424,\n",
       "  1425]]"
      ]
     },
     "execution_count": 54,
     "metadata": {},
     "output_type": "execute_result"
    }
   ],
   "source": [
    "walks[1:20]"
   ]
  },
  {
   "cell_type": "code",
   "execution_count": 46,
   "metadata": {
    "collapsed": true
   },
   "outputs": [],
   "source": [
    "walk = walks[0]"
   ]
  },
  {
   "cell_type": "code",
   "execution_count": 507,
   "metadata": {
    "collapsed": true
   },
   "outputs": [],
   "source": [
    "rw = \"\"\n",
    "start_node = walk[0]\n",
    "rw += nodes_indexed[start_node] + \" \";\n",
    "for step in range(len(walk) - 1):\n",
    "    start_node = walk[step]\n",
    "    end_node = walk[step + 1]\n",
    "    edge_taken = edges[(start_node, end_node)]\n",
    "    rw += str(edge_taken) + \" \" + nodes_indexed[end_node] + \" \"\n",
    "    step + 1\n",
    "    \n"
   ]
  }
 ],
 "metadata": {
  "kernelspec": {
   "display_name": "Python 3",
   "language": "python",
   "name": "python3"
  },
  "language_info": {
   "codemirror_mode": {
    "name": "ipython",
    "version": 3
   },
   "file_extension": ".py",
   "mimetype": "text/x-python",
   "name": "python",
   "nbconvert_exporter": "python",
   "pygments_lexer": "ipython3",
   "version": "3.6.8"
  }
 },
 "nbformat": 4,
 "nbformat_minor": 2
}
