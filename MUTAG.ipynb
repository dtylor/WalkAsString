{
 "cells": [
  {
   "cell_type": "code",
   "execution_count": 1,
   "metadata": {
    "collapsed": true
   },
   "outputs": [],
   "source": [
    "import networkx as nx\n",
    "import pandas as pd\n",
    "import numpy as np"
   ]
  },
  {
   "cell_type": "markdown",
   "metadata": {},
   "source": [
    "# Independent Variables: X = G = (V, E)"
   ]
  },
  {
   "cell_type": "code",
   "execution_count": 2,
   "metadata": {
    "collapsed": true
   },
   "outputs": [],
   "source": [
    "# Adjacency\n",
    "path_to_files = \"../datasets/MUTAG/\"\n",
    "G = nx.read_edgelist(path_to_files + \"MUTAG_A.txt\", delimiter=',', nodetype=int, encoding=\"utf-8\")"
   ]
  },
  {
   "cell_type": "code",
   "execution_count": 3,
   "metadata": {
    "collapsed": true
   },
   "outputs": [],
   "source": [
    "# Component/Graph Indicators\n",
    "components = pd.read_csv(path_to_files + \"MUTAG_graph_indicator.txt\", header=None)\n",
    "components.index += 1\n",
    "components = components.rename(columns={0: \"component\"}).to_dict()['component']\n",
    "\n",
    "nx.set_node_attributes(G=G, values=components, name='component')"
   ]
  },
  {
   "cell_type": "code",
   "execution_count": 4,
   "metadata": {
    "collapsed": true
   },
   "outputs": [],
   "source": [
    "# Node Labels\n",
    "node_labels = pd.read_csv(path_to_files + \"MUTAG_node_labels.txt\", header=None)\n",
    "node_labels.index += 1\n",
    "node_labels = node_labels.rename(columns={0:\"label\"})['label'].map({ \\\n",
    "        0: \"C\", \\\n",
    "        1: \"N\", \\\n",
    "        2: \"O\", \\\n",
    "        3: \"F\", \\\n",
    "        4: \"I\", \\\n",
    "        5: \"Cl\", \\\n",
    "        6: \"Br\" \\\n",
    "                                                         }).to_dict()\n",
    "\n",
    "nx.set_node_attributes(G=G, values=node_labels, name='label')"
   ]
  },
  {
   "cell_type": "code",
   "execution_count": 5,
   "metadata": {
    "collapsed": true
   },
   "outputs": [],
   "source": [
    "# Edge Labels\n",
    "edges = pd.read_csv(path_to_files+\"MUTAG_A.txt\", header=None).rename(columns={0:\"src\", 1:\"dst\"})\n",
    "edge_labels = pd.read_csv(path_to_files+\"MUTAG_edge_labels.txt\", header=None)\n",
    "edges.index += 1; edge_labels.index += 1\n",
    "edges['label'] = edge_labels[0]\n",
    "edges = edges.set_index(['src', 'dst'])\n",
    "edges = edges['label'].apply(lambda x: \"e\"+str(int(x)))\n",
    "\n",
    "nx.set_edge_attributes(G=G, values=edges, name='label')"
   ]
  },
  {
   "cell_type": "code",
   "execution_count": 6,
   "metadata": {
    "collapsed": true
   },
   "outputs": [],
   "source": [
    "nx.set_edge_attributes(G=G, values=1.0, name='weight')"
   ]
  },
  {
   "cell_type": "markdown",
   "metadata": {},
   "source": [
    "# Dependent Variable - *y*"
   ]
  },
  {
   "cell_type": "code",
   "execution_count": 7,
   "metadata": {
    "collapsed": true
   },
   "outputs": [],
   "source": [
    "# Graph Labels (y)\n",
    "graphs = pd.read_csv(path_to_files + \"MUTAG_graph_labels.txt\", header=None)\n",
    "graphs.index += 1\n",
    "graphs = graphs.rename(columns={0: \"graph\"}).to_dict()['graph']"
   ]
  },
  {
   "cell_type": "markdown",
   "metadata": {},
   "source": [
    "# Using WalkAsString"
   ]
  },
  {
   "cell_type": "code",
   "execution_count": 8,
   "metadata": {
    "collapsed": true
   },
   "outputs": [],
   "source": [
    "from module import get_structural_signatures, walk_as_string"
   ]
  },
  {
   "cell_type": "code",
   "execution_count": 14,
   "metadata": {},
   "outputs": [],
   "source": [
    "newGraph, pca, km  = get_structural_signatures(networkXGraph=G)"
   ]
  },
  {
   "cell_type": "code",
   "execution_count": 15,
   "metadata": {},
   "outputs": [
    {
     "name": "stdout",
     "output_type": "stream",
     "text": [
      "Walk iteration:\n",
      "('1', '/', '20')\n",
      "('2', '/', '20')\n",
      "('3', '/', '20')\n",
      "('4', '/', '20')\n",
      "('5', '/', '20')\n",
      "('6', '/', '20')\n",
      "('7', '/', '20')\n",
      "('8', '/', '20')\n",
      "('9', '/', '20')\n",
      "('10', '/', '20')\n",
      "('11', '/', '20')\n",
      "('12', '/', '20')\n",
      "('13', '/', '20')\n",
      "('14', '/', '20')\n",
      "('15', '/', '20')\n",
      "('16', '/', '20')\n",
      "('17', '/', '20')\n",
      "('18', '/', '20')\n",
      "('19', '/', '20')\n",
      "('20', '/', '20')\n"
     ]
    }
   ],
   "source": [
    "walks = walk_as_string(networkXGraph=newGraph, graphComponentLabels=graphs, featuresToUse={\n",
    "                       \"nodes\": ['structure', 'label'], \"edges\": ['label']})"
   ]
  },
  {
   "cell_type": "code",
   "execution_count": 23,
   "metadata": {},
   "outputs": [
    {
     "data": {
      "text/html": [
       "<div>\n",
       "<style>\n",
       "    .dataframe thead tr:only-child th {\n",
       "        text-align: right;\n",
       "    }\n",
       "\n",
       "    .dataframe thead th {\n",
       "        text-align: left;\n",
       "    }\n",
       "\n",
       "    .dataframe tbody tr th {\n",
       "        vertical-align: top;\n",
       "    }\n",
       "</style>\n",
       "<table border=\"1\" class=\"dataframe\">\n",
       "  <thead>\n",
       "    <tr style=\"text-align: right;\">\n",
       "      <th></th>\n",
       "      <th>walk</th>\n",
       "      <th>label</th>\n",
       "      <th>start_node</th>\n",
       "      <th>component</th>\n",
       "    </tr>\n",
       "  </thead>\n",
       "  <tbody>\n",
       "    <tr>\n",
       "      <th>67415</th>\n",
       "      <td>0 O e1 1 N 1 N e1 2 C 2 C e2 1 C 1 C e2 2 C 2 ...</td>\n",
       "      <td>-1</td>\n",
       "      <td>3371</td>\n",
       "      <td>188</td>\n",
       "    </tr>\n",
       "    <tr>\n",
       "      <th>67416</th>\n",
       "      <td>0 O e1 1 N 1 N e1 2 C 2 C e1 3 C 3 C e1 2 C 2 ...</td>\n",
       "      <td>-1</td>\n",
       "      <td>3371</td>\n",
       "      <td>188</td>\n",
       "    </tr>\n",
       "    <tr>\n",
       "      <th>67417</th>\n",
       "      <td>0 O e1 1 N 1 N e1 2 C 2 C e2 1 C 1 C e2 2 C 2 ...</td>\n",
       "      <td>-1</td>\n",
       "      <td>3371</td>\n",
       "      <td>188</td>\n",
       "    </tr>\n",
       "    <tr>\n",
       "      <th>67418</th>\n",
       "      <td>0 O e1 1 N 1 N e1 0 O 0 O e1 1 N 1 N e1 2 C 2 ...</td>\n",
       "      <td>-1</td>\n",
       "      <td>3371</td>\n",
       "      <td>188</td>\n",
       "    </tr>\n",
       "    <tr>\n",
       "      <th>67419</th>\n",
       "      <td>0 O e1 1 N 1 N e1 0 O 0 O e1 1 N 1 N e1 2 C 2 ...</td>\n",
       "      <td>-1</td>\n",
       "      <td>3371</td>\n",
       "      <td>188</td>\n",
       "    </tr>\n",
       "  </tbody>\n",
       "</table>\n",
       "</div>"
      ],
      "text/plain": [
       "                                                    walk  label  start_node  \\\n",
       "67415  0 O e1 1 N 1 N e1 2 C 2 C e2 1 C 1 C e2 2 C 2 ...     -1        3371   \n",
       "67416  0 O e1 1 N 1 N e1 2 C 2 C e1 3 C 3 C e1 2 C 2 ...     -1        3371   \n",
       "67417  0 O e1 1 N 1 N e1 2 C 2 C e2 1 C 1 C e2 2 C 2 ...     -1        3371   \n",
       "67418  0 O e1 1 N 1 N e1 0 O 0 O e1 1 N 1 N e1 2 C 2 ...     -1        3371   \n",
       "67419  0 O e1 1 N 1 N e1 0 O 0 O e1 1 N 1 N e1 2 C 2 ...     -1        3371   \n",
       "\n",
       "       component  \n",
       "67415        188  \n",
       "67416        188  \n",
       "67417        188  \n",
       "67418        188  \n",
       "67419        188  "
      ]
     },
     "execution_count": 23,
     "metadata": {},
     "output_type": "execute_result"
    }
   ],
   "source": [
    "walks.tail()"
   ]
  }
 ],
 "metadata": {
  "kernelspec": {
   "display_name": "Python 3",
   "language": "python",
   "name": "python3"
  },
  "language_info": {
   "codemirror_mode": {
    "name": "ipython",
    "version": 3
   },
   "file_extension": ".py",
   "mimetype": "text/x-python",
   "name": "python",
   "nbconvert_exporter": "python",
   "pygments_lexer": "ipython3",
   "version": "3.6.8"
  }
 },
 "nbformat": 4,
 "nbformat_minor": 2
}
