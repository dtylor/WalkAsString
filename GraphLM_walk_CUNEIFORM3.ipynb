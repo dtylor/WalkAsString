{
  "nbformat": 4,
  "nbformat_minor": 0,
  "metadata": {
    "colab": {
      "name": "GraphLM_walk_CUNEIFORM3.ipynb",
      "provenance": [],
      "collapsed_sections": [],
      "machine_shape": "hm"
    },
    "kernelspec": {
      "name": "python3",
      "display_name": "Python 3"
    },
    "accelerator": "GPU"
  },
  "cells": [
    {
      "cell_type": "code",
      "metadata": {
        "id": "aKsDT-UyFobJ",
        "colab_type": "code",
        "outputId": "7e777c7c-443b-4692-9e18-7ef2401bbef9",
        "colab": {
          "base_uri": "https://localhost:8080/",
          "height": 250
        }
      },
      "source": [
        "!git clone https://github.com/dtylor/WalkRNN.git\n",
        "%cd WalkRNN\n",
        "!ls"
      ],
      "execution_count": 9,
      "outputs": [
        {
          "output_type": "stream",
          "text": [
            "Cloning into 'WalkRNN'...\n",
            "remote: Enumerating objects: 31, done.\u001b[K\n",
            "remote: Counting objects: 100% (31/31), done.\u001b[K\n",
            "remote: Compressing objects: 100% (31/31), done.\u001b[K\n",
            "remote: Total 357 (delta 15), reused 0 (delta 0), pack-reused 326\u001b[K\n",
            "Receiving objects: 100% (357/357), 1.14 MiB | 7.10 MiB/s, done.\n",
            "Resolving deltas: 100% (195/195), done.\n",
            "/content/WalkRNN\n",
            "AIDS\t\t\t GraphLM_walk_AIDS.py\tmodule.py\t  README.md\n",
            "Cuneiform\t\t graphwave\t\tMotivation.ipynb  test.py\n",
            "data\t\t\t __init__.py\t\tMUTAG.ipynb\t  TODO\n",
            "Demonstration.ipynb\t LICENSE-3RD-PARTY.txt\tn2v\t\t  utilities.py\n",
            "GraphLM_walk_AIDS.ipynb  LICENSE.md\t\tOrgChart.ipynb\n"
          ],
          "name": "stdout"
        }
      ]
    },
    {
      "cell_type": "code",
      "metadata": {
        "id": "9l1y-ni-R5NO",
        "colab_type": "code",
        "outputId": "bb66d808-1966-4651-ab8d-bbe272293c60",
        "colab": {
          "base_uri": "https://localhost:8080/",
          "height": 106
        }
      },
      "source": [
        " !curl https://course-v3.fast.ai/setup/colab | bash"
      ],
      "execution_count": 1,
      "outputs": [
        {
          "output_type": "stream",
          "text": [
            "  % Total    % Received % Xferd  Average Speed   Time    Time     Time  Current\n",
            "                                 Dload  Upload   Total   Spent    Left  Speed\n",
            "100   287  100   287    0     0   1487      0 --:--:-- --:--:-- --:--:--  1487\n",
            "bash: line 1: syntax error near unexpected token `newline'\n",
            "bash: line 1: `<!DOCTYPE HTML PUBLIC \"-//IETF//DTD HTML 2.0//EN\">'\n"
          ],
          "name": "stdout"
        }
      ]
    },
    {
      "cell_type": "code",
      "metadata": {
        "id": "6_JKMi182dqZ",
        "colab_type": "code",
        "colab": {}
      },
      "source": [
        "import fastai\n",
        "import pandas as pd"
      ],
      "execution_count": 0,
      "outputs": []
    },
    {
      "cell_type": "code",
      "metadata": {
        "id": "SVCw0bb7m2Cj",
        "colab_type": "code",
        "outputId": "340ac214-ba27-453b-afbb-5f9223255e1e",
        "colab": {
          "base_uri": "https://localhost:8080/",
          "height": 700
        }
      },
      "source": [
        "from fastai.utils.show_install import *\n",
        "show_install()"
      ],
      "execution_count": 3,
      "outputs": [
        {
          "output_type": "stream",
          "text": [
            "\n",
            "\n",
            "```text\n",
            "=== Software === \n",
            "python        : 3.6.8\n",
            "fastai        : 1.0.57\n",
            "fastprogress  : 0.1.21\n",
            "torch         : 1.1.0\n",
            "nvidia driver : 418.67\n",
            "torch cuda    : 10.0.130 / is available\n",
            "torch cudnn   : 7501 / is enabled\n",
            "\n",
            "=== Hardware === \n",
            "nvidia gpus   : 1\n",
            "torch devices : 1\n",
            "  - gpu0      : 11441MB | Tesla K80\n",
            "\n",
            "=== Environment === \n",
            "platform      : Linux-4.14.137+-x86_64-with-Ubuntu-18.04-bionic\n",
            "distro        : #1 SMP Thu Aug 8 02:47:02 PDT 2019\n",
            "conda env     : Unknown\n",
            "python        : /usr/bin/python3\n",
            "sys.path      : \n",
            "/env/python\n",
            "/usr/lib/python36.zip\n",
            "/usr/lib/python3.6\n",
            "/usr/lib/python3.6/lib-dynload\n",
            "/usr/local/lib/python3.6/dist-packages\n",
            "/usr/lib/python3/dist-packages\n",
            "/usr/local/lib/python3.6/dist-packages/IPython/extensions\n",
            "/root/.ipython\n",
            "```\n",
            "\n",
            "Please make sure to include opening/closing ``` when you paste into forums/github to make the reports appear formatted as code sections.\n",
            "\n",
            "Optional package(s) to enhance the diagnostics can be installed with:\n",
            "pip install distro\n",
            "Once installed, re-run this utility to get the additional information\n"
          ],
          "name": "stdout"
        }
      ]
    },
    {
      "cell_type": "code",
      "metadata": {
        "id": "uFXCHxZwZrpI",
        "colab_type": "code",
        "outputId": "33e0d145-c375-4a2a-a416-b458b95dee75",
        "colab": {
          "base_uri": "https://localhost:8080/",
          "height": 52
        }
      },
      "source": [
        "str(fastai.__dict__['version'])\n",
        "!more /usr/local/lib/python3.6/dist-packages/fastai/version.py"
      ],
      "execution_count": 4,
      "outputs": [
        {
          "output_type": "stream",
          "text": [
            "__all__ = ['__version__']\n",
            "__version__ = '1.0.57'\n"
          ],
          "name": "stdout"
        }
      ]
    },
    {
      "cell_type": "code",
      "metadata": {
        "id": "GGf5xZN9StwG",
        "colab_type": "code",
        "outputId": "319bc9c3-a9a7-4ee2-fde8-e09fcde4d981",
        "colab": {
          "base_uri": "https://localhost:8080/",
          "height": 34
        }
      },
      "source": [
        "!ls"
      ],
      "execution_count": 5,
      "outputs": [
        {
          "output_type": "stream",
          "text": [
            "sample_data\n"
          ],
          "name": "stdout"
        }
      ]
    },
    {
      "cell_type": "code",
      "metadata": {
        "id": "EDz9suwf15gG",
        "colab_type": "code",
        "colab": {}
      },
      "source": [
        "from google.colab import drive"
      ],
      "execution_count": 0,
      "outputs": []
    },
    {
      "cell_type": "code",
      "metadata": {
        "id": "-6FICw3t19b_",
        "colab_type": "code",
        "outputId": "6b6a7e65-8098-4bad-e32a-4cc4d3cf0b52",
        "colab": {
          "base_uri": "https://localhost:8080/",
          "height": 126
        }
      },
      "source": [
        "drive.mount(\"/content/drive\")"
      ],
      "execution_count": 7,
      "outputs": [
        {
          "output_type": "stream",
          "text": [
            "Go to this URL in a browser: https://accounts.google.com/o/oauth2/auth?client_id=947318989803-6bn6qk8qdgf4n4g3pfee6491hc0brc4i.apps.googleusercontent.com&redirect_uri=urn%3Aietf%3Awg%3Aoauth%3A2.0%3Aoob&scope=email%20https%3A%2F%2Fwww.googleapis.com%2Fauth%2Fdocs.test%20https%3A%2F%2Fwww.googleapis.com%2Fauth%2Fdrive%20https%3A%2F%2Fwww.googleapis.com%2Fauth%2Fdrive.photos.readonly%20https%3A%2F%2Fwww.googleapis.com%2Fauth%2Fpeopleapi.readonly&response_type=code\n",
            "\n",
            "Enter your authorization code:\n",
            "··········\n",
            "Mounted at /content/drive\n"
          ],
          "name": "stdout"
        }
      ]
    },
    {
      "cell_type": "code",
      "metadata": {
        "id": "E593LDBV2Xcl",
        "colab_type": "code",
        "outputId": "dfa40d84-dd51-4cc1-ffc8-a5843339a18b",
        "colab": {
          "base_uri": "https://localhost:8080/",
          "height": 52
        }
      },
      "source": [
        "from utilities import load_graph_kernel_graph, load_graph_kernel_labels\n",
        "\n",
        "node_mappings = [{\n",
        "    \t0:\t\"depthPoint\",\n",
        "\t    1:\t\"tailVertex\",\n",
        "\t    2:\t\"leftVertex\",\n",
        "\t    3:\t\"rightVertex\"},{\n",
        "    \t0:\t\"vertical\",\n",
        "\t    1:\t\"Winkelhaken\",\n",
        "\t    2:\t\"horizontal\"}]\n",
        "\n",
        "edge_mappings = {\t0:\t\"wedge\",\t1:\t\"arrangement\"}\n",
        "\n",
        "label_maps={\"node_labels\": node_mappings, \"edge_labels\": edge_mappings}\n",
        "\n",
        "G = load_graph_kernel_graph(\"./Cuneiform\", mappings=label_maps,params={'num_kmeans_clusters': 3, \"num_pca_components\": 6, \"num_batch\":500, 'num_att_kmeans_clusters': 5})\n",
        "y = load_graph_kernel_labels(\"./Cuneiform\")\n",
        "\n"
      ],
      "execution_count": 10,
      "outputs": [
        {
          "output_type": "stream",
          "text": [
            "finished graphwave_alg batches\n",
            "DONE\n"
          ],
          "name": "stdout"
        }
      ]
    },
    {
      "cell_type": "code",
      "metadata": {
        "id": "bzBaGdbeZxn7",
        "colab_type": "code",
        "colab": {}
      },
      "source": [
        "import matplotlib.pyplot as plt\n",
        "import networkx as nx\n",
        "# create number for each group to allow use of colormap\n",
        "from itertools import count\n",
        "\n",
        "\n",
        "def plotGW(tmpG, comp_no):\n",
        " # get unique groups\n",
        " groups = set(nx.get_node_attributes(tmpG,'structure').values())\n",
        "\n",
        " mapping = dict(zip(sorted(groups),count()))\n",
        "  \n",
        " comp_nodes = [x for x,y in tmpG.nodes(data=True) if y['component']==comp_no]\n",
        " print(len(comp_nodes))\n",
        " subgraph = tmpG.subgraph(comp_nodes)\n",
        " nodes = subgraph.nodes()\n",
        " colors = [mapping[subgraph.node[n]['structure']] for n in nodes]\n",
        "\n",
        " # drawing nodes and edges separately so we can capture collection for colobar\n",
        " pos = nx.spring_layout(subgraph)\n",
        " ec = nx.draw_networkx_edges(subgraph, pos, with_labels=True,alpha=0.2)\n",
        " nc = nx.draw_networkx_nodes(subgraph, pos, nodelist=nodes, node_color=colors, \n",
        "                            with_labels=True, node_size=100, cmap=plt.cm.jet, vmin=0,vmax=3)\n",
        " plt.colorbar(nc)\n",
        " plt.axis('off')\n",
        " plt.show()\n",
        " print(nx.get_node_attributes(subgraph,'structure'))\n",
        " "
      ],
      "execution_count": 0,
      "outputs": []
    },
    {
      "cell_type": "code",
      "metadata": {
        "id": "_u-PlMacGYHK",
        "colab_type": "code",
        "outputId": "8ee2e7e1-f570-4589-9260-f4d0e5fc7142",
        "colab": {
          "base_uri": "https://localhost:8080/",
          "height": 314
        }
      },
      "source": [
        "\n",
        "plotGW(G,1)"
      ],
      "execution_count": 12,
      "outputs": [
        {
          "output_type": "stream",
          "text": [
            "36\n"
          ],
          "name": "stdout"
        },
        {
          "output_type": "display_data",
          "data": {
            "image/png": "[encoded data removed]",
            "text/plain": [
              "<Figure size 432x288 with 2 Axes>"
            ]
          },
          "metadata": {
            "tags": []
          }
        },
        {
          "output_type": "stream",
          "text": [
            "{1: 15, 2: 16, 3: 16, 4: 16, 5: 15, 6: 16, 7: 16, 8: 16, 9: 15, 10: 16, 11: 16, 12: 16, 13: 15, 14: 16, 15: 16, 16: 16, 17: 15, 18: 16, 19: 16, 20: 16, 21: 15, 22: 16, 23: 16, 24: 16, 25: 15, 26: 16, 27: 16, 28: 16, 29: 15, 30: 16, 31: 16, 32: 16, 33: 15, 34: 16, 35: 16, 36: 16}\n"
          ],
          "name": "stdout"
        }
      ]
    },
    {
      "cell_type": "code",
      "metadata": {
        "id": "pAF7Mu8Tvp4t",
        "colab_type": "code",
        "outputId": "5c9e7a93-0f6f-4c00-e6a0-19e2e2e4025b",
        "colab": {
          "base_uri": "https://localhost:8080/",
          "height": 294
        }
      },
      "source": [
        "plotGW(G,2)"
      ],
      "execution_count": 13,
      "outputs": [
        {
          "output_type": "stream",
          "text": [
            "28\n"
          ],
          "name": "stdout"
        },
        {
          "output_type": "display_data",
          "data": {
            "image/png": "[encoded data removed]",
            "text/plain": [
              "<Figure size 432x288 with 2 Axes>"
            ]
          },
          "metadata": {
            "tags": []
          }
        },
        {
          "output_type": "stream",
          "text": [
            "{37: 15, 38: 16, 39: 16, 40: 16, 41: 15, 42: 16, 43: 16, 44: 16, 45: 15, 46: 16, 47: 16, 48: 16, 49: 15, 50: 16, 51: 16, 52: 16, 53: 15, 54: 16, 55: 16, 56: 16, 57: 15, 58: 16, 59: 16, 60: 16, 61: 15, 62: 16, 63: 16, 64: 16}\n"
          ],
          "name": "stdout"
        }
      ]
    },
    {
      "cell_type": "code",
      "metadata": {
        "id": "TUllgenOGfMt",
        "colab_type": "code",
        "outputId": "86eba9bd-ce6f-4197-9f01-937bb15f1755",
        "colab": {
          "base_uri": "https://localhost:8080/",
          "height": 294
        }
      },
      "source": [
        "plotGW(G,3)"
      ],
      "execution_count": 14,
      "outputs": [
        {
          "output_type": "stream",
          "text": [
            "16\n"
          ],
          "name": "stdout"
        },
        {
          "output_type": "display_data",
          "data": {
            "image/png": "[encoded data removed]",
            "text/plain": [
              "<Figure size 432x288 with 2 Axes>"
            ]
          },
          "metadata": {
            "tags": []
          }
        },
        {
          "output_type": "stream",
          "text": [
            "{65: 15, 66: 17, 67: 17, 68: 17, 69: 15, 70: 17, 71: 17, 72: 17, 73: 15, 74: 17, 75: 17, 76: 17, 77: 15, 78: 17, 79: 17, 80: 17}\n"
          ],
          "name": "stdout"
        }
      ]
    },
    {
      "cell_type": "code",
      "metadata": {
        "id": "XIpyDNCaM5SS",
        "colab_type": "code",
        "outputId": "6837522e-1c4e-4c63-dccc-d853a74d9efd",
        "colab": {
          "base_uri": "https://localhost:8080/",
          "height": 314
        }
      },
      "source": [
        "plotGW(G,251)"
      ],
      "execution_count": 15,
      "outputs": [
        {
          "output_type": "stream",
          "text": [
            "28\n"
          ],
          "name": "stdout"
        },
        {
          "output_type": "display_data",
          "data": {
            "image/png": "[encoded data removed]",
            "text/plain": [
              "<Figure size 432x288 with 2 Axes>"
            ]
          },
          "metadata": {
            "tags": []
          }
        },
        {
          "output_type": "stream",
          "text": [
            "{5297: 15, 5298: 16, 5299: 16, 5300: 16, 5301: 15, 5302: 16, 5303: 16, 5304: 16, 5305: 15, 5306: 16, 5307: 16, 5308: 16, 5309: 15, 5310: 16, 5311: 16, 5312: 16, 5313: 15, 5314: 16, 5315: 16, 5316: 16, 5317: 15, 5318: 16, 5319: 16, 5320: 16, 5321: 15, 5322: 16, 5323: 16, 5324: 16}\n"
          ],
          "name": "stdout"
        }
      ]
    },
    {
      "cell_type": "code",
      "metadata": {
        "id": "vNY1lkrIRF15",
        "colab_type": "code",
        "outputId": "c7c89380-0716-47de-f65d-8737e3d3a140",
        "colab": {
          "base_uri": "https://localhost:8080/",
          "height": 294
        }
      },
      "source": [
        "plotGW(G,11)"
      ],
      "execution_count": 16,
      "outputs": [
        {
          "output_type": "stream",
          "text": [
            "16\n"
          ],
          "name": "stdout"
        },
        {
          "output_type": "display_data",
          "data": {
            "image/png": "[encoded data removed]",
            "text/plain": [
              "<Figure size 432x288 with 2 Axes>"
            ]
          },
          "metadata": {
            "tags": []
          }
        },
        {
          "output_type": "stream",
          "text": [
            "{192: 17, 193: 15, 194: 17, 195: 17, 196: 17, 197: 15, 198: 17, 199: 17, 200: 17, 185: 15, 186: 17, 187: 17, 188: 17, 189: 15, 190: 17, 191: 17}\n"
          ],
          "name": "stdout"
        }
      ]
    },
    {
      "cell_type": "code",
      "metadata": {
        "id": "atiOOj03RKPJ",
        "colab_type": "code",
        "outputId": "05fe6689-6756-4e6f-b235-eff0c949dd36",
        "colab": {
          "base_uri": "https://localhost:8080/",
          "height": 294
        }
      },
      "source": [
        "plotGW(G,260)"
      ],
      "execution_count": 17,
      "outputs": [
        {
          "output_type": "stream",
          "text": [
            "24\n"
          ],
          "name": "stdout"
        },
        {
          "output_type": "display_data",
          "data": {
            "image/png": "[encoded data removed]",
            "text/plain": [
              "<Figure size 432x288 with 2 Axes>"
            ]
          },
          "metadata": {
            "tags": []
          }
        },
        {
          "output_type": "stream",
          "text": [
            "{5477: 15, 5478: 16, 5479: 16, 5480: 16, 5481: 15, 5482: 16, 5483: 16, 5484: 16, 5485: 15, 5486: 16, 5487: 16, 5488: 16, 5489: 15, 5490: 16, 5491: 16, 5492: 16, 5493: 15, 5494: 16, 5495: 16, 5496: 16, 5497: 15, 5498: 16, 5499: 16, 5500: 16}\n"
          ],
          "name": "stdout"
        }
      ]
    },
    {
      "cell_type": "code",
      "metadata": {
        "id": "_-QuZA4MRMri",
        "colab_type": "code",
        "outputId": "7dbb675d-086d-426c-8f5c-493321bf3e15",
        "colab": {
          "base_uri": "https://localhost:8080/",
          "height": 294
        }
      },
      "source": [
        "plotGW(G,18)"
      ],
      "execution_count": 18,
      "outputs": [
        {
          "output_type": "stream",
          "text": [
            "16\n"
          ],
          "name": "stdout"
        },
        {
          "output_type": "display_data",
          "data": {
            "image/png": "[encoded data removed]",
            "text/plain": [
              "<Figure size 432x288 with 2 Axes>"
            ]
          },
          "metadata": {
            "tags": []
          }
        },
        {
          "output_type": "stream",
          "text": [
            "{352: 17, 337: 15, 338: 17, 339: 17, 340: 17, 341: 15, 342: 17, 343: 17, 344: 17, 345: 15, 346: 17, 347: 17, 348: 17, 349: 15, 350: 17, 351: 17}\n"
          ],
          "name": "stdout"
        }
      ]
    },
    {
      "cell_type": "code",
      "metadata": {
        "id": "m26A0mUrRPIR",
        "colab_type": "code",
        "outputId": "6bc832f3-5ed6-44f9-9438-cf9deb419df4",
        "colab": {
          "base_uri": "https://localhost:8080/",
          "height": 314
        }
      },
      "source": [
        "plotGW(G,140)"
      ],
      "execution_count": 19,
      "outputs": [
        {
          "output_type": "stream",
          "text": [
            "28\n"
          ],
          "name": "stdout"
        },
        {
          "output_type": "display_data",
          "data": {
            "image/png": "[encoded data removed]",
            "text/plain": [
              "<Figure size 432x288 with 2 Axes>"
            ]
          },
          "metadata": {
            "tags": []
          }
        },
        {
          "output_type": "stream",
          "text": [
            "{2944: 16, 2917: 15, 2918: 16, 2919: 16, 2920: 16, 2921: 15, 2922: 16, 2923: 16, 2924: 16, 2925: 15, 2926: 16, 2927: 16, 2928: 16, 2929: 15, 2930: 16, 2931: 16, 2932: 16, 2933: 15, 2934: 16, 2935: 16, 2936: 16, 2937: 15, 2938: 16, 2939: 16, 2940: 16, 2941: 15, 2942: 16, 2943: 16}\n"
          ],
          "name": "stdout"
        }
      ]
    },
    {
      "cell_type": "code",
      "metadata": {
        "id": "V099nA0W3_Ke",
        "colab_type": "code",
        "colab": {}
      },
      "source": [
        "from module import walk_as_string"
      ],
      "execution_count": 0,
      "outputs": []
    },
    {
      "cell_type": "code",
      "metadata": {
        "id": "ZS0mgPZo4PED",
        "colab_type": "code",
        "outputId": "c81537b4-61fd-4581-f79f-41074d8fb71e",
        "colab": {
          "base_uri": "https://localhost:8080/",
          "height": 484
        }
      },
      "source": [
        "walks = walk_as_string(G, componentLabels = y)"
      ],
      "execution_count": 21,
      "outputs": [
        {
          "output_type": "stream",
          "text": [
            "Walk iteration:\n",
            "('1', '/', '20')\n",
            "('2', '/', '20')\n",
            "('3', '/', '20')\n",
            "('4', '/', '20')\n",
            "('5', '/', '20')\n",
            "('6', '/', '20')\n",
            "('7', '/', '20')\n",
            "('8', '/', '20')\n",
            "('9', '/', '20')\n",
            "('10', '/', '20')\n",
            "('11', '/', '20')\n",
            "('12', '/', '20')\n",
            "('13', '/', '20')\n",
            "('14', '/', '20')\n",
            "('15', '/', '20')\n",
            "('16', '/', '20')\n",
            "('17', '/', '20')\n",
            "('18', '/', '20')\n",
            "('19', '/', '20')\n",
            "('20', '/', '20')\n"
          ],
          "name": "stdout"
        },
        {
          "output_type": "stream",
          "text": [
            "/content/WalkRNN/module.py:140: FutureWarning: Method .as_matrix will be removed in a future version. Use .values instead.\n",
            "  sorted_walks = pd.DataFrame(walks).sort_values(0).as_matrix()\n"
          ],
          "name": "stderr"
        },
        {
          "output_type": "stream",
          "text": [
            "[ 1 33 21 29 33 17 19 18 20 18 17  5  8  5 17 18 20 17  1 29 30 32 31 32 31 29 13 15 14 16]\n",
            "[ 1 25 21 22 21 25 27 25  5  7  5 33 34 33 34 36 35 36 35 34 33 34 35 34 35 36 33 34 35 34]\n",
            "[ 1  5 29 21  1  9 12 11 12 11 10 11 12  9 11 10 11 10  9  1 29  9 11 10 12  9 10 12 11  9]\n"
          ],
          "name": "stdout"
        }
      ]
    },
    {
      "cell_type": "code",
      "metadata": {
        "id": "AVzunvIC1-6B",
        "colab_type": "code",
        "colab": {}
      },
      "source": [
        "from fastai.text import *\n",
        "from sklearn.model_selection import train_test_split\n",
        "import numpy"
      ],
      "execution_count": 0,
      "outputs": []
    },
    {
      "cell_type": "code",
      "metadata": {
        "id": "kwjfuvQZhwmT",
        "colab_type": "code",
        "outputId": "b6028c0f-ce38-45ca-8e68-18d767d3608f",
        "colab": {
          "base_uri": "https://localhost:8080/",
          "height": 189
        }
      },
      "source": [
        "walks.head()"
      ],
      "execution_count": 23,
      "outputs": [
        {
          "output_type": "execute_result",
          "data": {
            "text/html": [
              "<div>\n",
              "<style scoped>\n",
              "    .dataframe tbody tr th:only-of-type {\n",
              "        vertical-align: middle;\n",
              "    }\n",
              "\n",
              "    .dataframe tbody tr th {\n",
              "        vertical-align: top;\n",
              "    }\n",
              "\n",
              "    .dataframe thead th {\n",
              "        text-align: right;\n",
              "    }\n",
              "</style>\n",
              "<table border=\"1\" class=\"dataframe\">\n",
              "  <thead>\n",
              "    <tr style=\"text-align: right;\">\n",
              "      <th></th>\n",
              "      <th>walk</th>\n",
              "      <th>label</th>\n",
              "      <th>start_node</th>\n",
              "      <th>component</th>\n",
              "    </tr>\n",
              "  </thead>\n",
              "  <tbody>\n",
              "    <tr>\n",
              "      <th>0</th>\n",
              "      <td>2 13 15 18 9 21 29 31 33 0 11 15 19 5 21 27 31...</td>\n",
              "      <td>0</td>\n",
              "      <td>1</td>\n",
              "      <td>1</td>\n",
              "    </tr>\n",
              "    <tr>\n",
              "      <th>1</th>\n",
              "      <td>2 13 15 18 9 21 29 31 36 0 10 15 19 8 21 27 31...</td>\n",
              "      <td>0</td>\n",
              "      <td>1</td>\n",
              "      <td>1</td>\n",
              "    </tr>\n",
              "    <tr>\n",
              "      <th>2</th>\n",
              "      <td>2 13 15 18 9 21 29 31 36 0 10 15 19 5 21 27 31...</td>\n",
              "      <td>0</td>\n",
              "      <td>1</td>\n",
              "      <td>1</td>\n",
              "    </tr>\n",
              "    <tr>\n",
              "      <th>3</th>\n",
              "      <td>2 13 15 18 9 21 27 31 32 2 10 15 20 7 21 27 31...</td>\n",
              "      <td>0</td>\n",
              "      <td>1</td>\n",
              "      <td>1</td>\n",
              "    </tr>\n",
              "    <tr>\n",
              "      <th>4</th>\n",
              "      <td>2 13 15 18 9 21 29 31 36 0 10 15 19 5 21 25 30...</td>\n",
              "      <td>0</td>\n",
              "      <td>1</td>\n",
              "      <td>1</td>\n",
              "    </tr>\n",
              "  </tbody>\n",
              "</table>\n",
              "</div>"
            ],
            "text/plain": [
              "                                                walk  ...  component\n",
              "0  2 13 15 18 9 21 29 31 33 0 11 15 19 5 21 27 31...  ...          1\n",
              "1  2 13 15 18 9 21 29 31 36 0 10 15 19 8 21 27 31...  ...          1\n",
              "2  2 13 15 18 9 21 29 31 36 0 10 15 19 5 21 27 31...  ...          1\n",
              "3  2 13 15 18 9 21 27 31 32 2 10 15 20 7 21 27 31...  ...          1\n",
              "4  2 13 15 18 9 21 29 31 36 0 10 15 19 5 21 25 30...  ...          1\n",
              "\n",
              "[5 rows x 4 columns]"
            ]
          },
          "metadata": {
            "tags": []
          },
          "execution_count": 23
        }
      ]
    },
    {
      "cell_type": "code",
      "metadata": {
        "id": "o1VO6MkuiVqB",
        "colab_type": "code",
        "outputId": "b51904a4-7c04-4665-875d-d8321fab3ab8",
        "colab": {
          "base_uri": "https://localhost:8080/",
          "height": 34
        }
      },
      "source": [
        "walks.shape"
      ],
      "execution_count": 24,
      "outputs": [
        {
          "output_type": "execute_result",
          "data": {
            "text/plain": [
              "(113600, 4)"
            ]
          },
          "metadata": {
            "tags": []
          },
          "execution_count": 24
        }
      ]
    },
    {
      "cell_type": "code",
      "metadata": {
        "id": "7wNVf9JKdmfy",
        "colab_type": "code",
        "colab": {}
      },
      "source": [
        "from sklearn.model_selection import train_test_split\n",
        "import numpy\n",
        "data = list(set(walks.component))\n",
        "x_traina ,x_test = train_test_split(data,test_size=0.1)    \n",
        "x_train ,x_val = train_test_split(x_traina,test_size=0.2)  \n"
      ],
      "execution_count": 0,
      "outputs": []
    },
    {
      "cell_type": "code",
      "metadata": {
        "id": "76ro7tvTdxrl",
        "colab_type": "code",
        "outputId": "8a12a68d-5bdc-4ac6-84ba-3a38520dd344",
        "colab": {
          "base_uri": "https://localhost:8080/",
          "height": 34
        }
      },
      "source": [
        "train_tmp = pd.DataFrame(x_train)\n",
        "train_tmp.columns = ['component']\n",
        "df_train = pd.merge(walks, train_tmp, on='component', sort=False)\n",
        "df_train.shape"
      ],
      "execution_count": 26,
      "outputs": [
        {
          "output_type": "execute_result",
          "data": {
            "text/plain": [
              "(81680, 4)"
            ]
          },
          "metadata": {
            "tags": []
          },
          "execution_count": 26
        }
      ]
    },
    {
      "cell_type": "code",
      "metadata": {
        "id": "xDBYiP6Hd2Dd",
        "colab_type": "code",
        "outputId": "bc1d35a0-1881-46ce-eb16-4fcfb030d102",
        "colab": {
          "base_uri": "https://localhost:8080/",
          "height": 34
        }
      },
      "source": [
        "test_tmp = pd.DataFrame(x_test)\n",
        "test_tmp.columns = ['component']\n",
        "df_test = pd.merge(walks, test_tmp, on='component', sort=False)\n",
        "df_test.shape"
      ],
      "execution_count": 27,
      "outputs": [
        {
          "output_type": "execute_result",
          "data": {
            "text/plain": [
              "(11280, 4)"
            ]
          },
          "metadata": {
            "tags": []
          },
          "execution_count": 27
        }
      ]
    },
    {
      "cell_type": "code",
      "metadata": {
        "id": "bjLmYukLeCHq",
        "colab_type": "code",
        "outputId": "e3eb915e-c8f8-46a2-cb17-a44f0bcd519a",
        "colab": {
          "base_uri": "https://localhost:8080/",
          "height": 34
        }
      },
      "source": [
        "val_tmp = pd.DataFrame(x_val)\n",
        "val_tmp.columns = ['component']\n",
        "df_val = pd.merge(walks, val_tmp, on='component', sort=False)\n",
        "df_val.shape"
      ],
      "execution_count": 28,
      "outputs": [
        {
          "output_type": "execute_result",
          "data": {
            "text/plain": [
              "(20640, 4)"
            ]
          },
          "metadata": {
            "tags": []
          },
          "execution_count": 28
        }
      ]
    },
    {
      "cell_type": "code",
      "metadata": {
        "id": "jUebKPZo9j7H",
        "colab_type": "code",
        "colab": {}
      },
      "source": [
        "!mkdir result\n",
        "mypath = './result'"
      ],
      "execution_count": 0,
      "outputs": []
    },
    {
      "cell_type": "code",
      "metadata": {
        "id": "nIiT5y-B6Pbl",
        "colab_type": "code",
        "colab": {}
      },
      "source": [
        "data_lm = TextLMDataBunch.from_df(train_df=df_train[['walk', 'label']], valid_df=df_val[[\n",
        "                                  'walk', 'label']],  path=mypath, text_cols='walk', label_cols='label')\n"
      ],
      "execution_count": 0,
      "outputs": []
    },
    {
      "cell_type": "code",
      "metadata": {
        "id": "PGky3pxO94ym",
        "colab_type": "code",
        "colab": {}
      },
      "source": [
        "data_lm.save('data_lm.pkl')"
      ],
      "execution_count": 0,
      "outputs": []
    },
    {
      "cell_type": "code",
      "metadata": {
        "id": "TMrIxld1OHnu",
        "colab_type": "code",
        "outputId": "3c67715e-64f7-432b-de63-e2b6d90e3890",
        "colab": {
          "base_uri": "https://localhost:8080/",
          "height": 52
        }
      },
      "source": [
        "!ls -l ./result"
      ],
      "execution_count": 32,
      "outputs": [
        {
          "output_type": "stream",
          "text": [
            "total 291076\n",
            "-rw-r--r-- 1 root root 298055040 Sep 27 20:01 data_lm.pkl\n"
          ],
          "name": "stdout"
        }
      ]
    },
    {
      "cell_type": "code",
      "metadata": {
        "id": "toyh21Rp9_Yn",
        "colab_type": "code",
        "colab": {}
      },
      "source": [
        "bs = 32\n",
        "# load the data (can be used in the future as well to prevent reprocessing)\n",
        "data_lm = load_data(mypath, 'data_lm.pkl', bs=bs)\n"
      ],
      "execution_count": 0,
      "outputs": []
    },
    {
      "cell_type": "code",
      "metadata": {
        "id": "ig9trRhkLccB",
        "colab_type": "code",
        "outputId": "70f5c68d-64ae-4948-aea3-1f81e78091d9",
        "colab": {
          "base_uri": "https://localhost:8080/",
          "height": 189
        }
      },
      "source": [
        "data_lm.show_batch() # take a look at the batch fed into the GPU"
      ],
      "execution_count": 34,
      "outputs": [
        {
          "output_type": "display_data",
          "data": {
            "text/html": [
              "<table border=\"1\" class=\"dataframe\">\n",
              "  <thead>\n",
              "    <tr style=\"text-align: right;\">\n",
              "      <th>idx</th>\n",
              "      <th>text</th>\n",
              "    </tr>\n",
              "  </thead>\n",
              "  <tbody>\n",
              "    <tr>\n",
              "      <td>0</td>\n",
              "      <td>25 30 32 2 12 16 20 7 24 25 30 32 2 12 16 20 6 22 25 30 32 2 12 15 20 7 21 25 31 32 0 10 15 19 5 21 25 30 32 2 10 16 19 7 24 25 30 32 0 10 15 19 5 21 25 31 32 2 12 15 20 7 21 25 30 32 2 12 16 20</td>\n",
              "    </tr>\n",
              "    <tr>\n",
              "      <td>1</td>\n",
              "      <td>22 25 30 32 2 11 15 19 7 21 25 31 36 2 10 15 18 7 21 25 30 32 2 10 17 18 7 24 25 30 32 2 10 17 18 7 23 25 30 32 2 10 15 18 7 21 25 30 32 2 12 17 18 7 22 25 30 32 2 10 17 18 7 23 xxbos 2 10 17 18 6</td>\n",
              "    </tr>\n",
              "    <tr>\n",
              "      <td>2</td>\n",
              "      <td>25 30 32 1 11 16 20 8 23 25 30 32 1 11 15 20 8 21 29 31 33 4 13 15 18 9 21 25 30 32 4 13 16 18 9 24 25 30 32 4 11 16 18 9 22 25 30 32 4 13 16 18 9 24 25 30 32 4 11 16 18 9 22 25 30 32 4 13 15 18</td>\n",
              "    </tr>\n",
              "    <tr>\n",
              "      <td>3</td>\n",
              "      <td>22 25 30 32 1 10 15 20 8 21 29 31 36 4 13 15 18 9 21 26 31 34 4 11 15 19 9 21 25 30 32 4 11 16 19 6 23 25 30 32 4 11 15 19 9 21 25 30 32 4 12 16 19 9 24 25 30 32 4 11 16 19 6 23 xxbos 1 11 16 20 8</td>\n",
              "    </tr>\n",
              "    <tr>\n",
              "      <td>4</td>\n",
              "      <td>25 30 32 2 10 15 20 8 21 25 31 34 2 11 15 20 5 21 25 30 32 1 14 16 20 9 22 25 30 32 2 11 15 20 5 21 28 31 34 1 10 15 18 9 21 28 31 32 2 10 15 20 8 21 26 31 32 1 10 15 18 6 21 26 31 32 1 10 15 18</td>\n",
              "    </tr>\n",
              "  </tbody>\n",
              "</table>"
            ],
            "text/plain": [
              "<IPython.core.display.HTML object>"
            ]
          },
          "metadata": {
            "tags": []
          }
        }
      ]
    },
    {
      "cell_type": "code",
      "metadata": {
        "id": "vCOueJDZXNCJ",
        "colab_type": "code",
        "colab": {}
      },
      "source": [
        "awd_lstm_lm_config = dict(emb_sz=400, n_hid=600, n_layers=1, pad_token=1, qrnn=False, bidir=False, output_p=0.1, hidden_p=0.15, input_p=0.25, embed_p=0.02, weight_p=0.2, tie_weights=True, out_bias=True)\n",
        "awd_lstm_clas_config = dict(emb_sz=400, n_hid=600, n_layers=1, pad_token=1, qrnn=False, bidir=False, output_p=0.4,  hidden_p=0.3, input_p=0.4, embed_p=0.05, weight_p=0.5)"
      ],
      "execution_count": 0,
      "outputs": []
    },
    {
      "cell_type": "code",
      "metadata": {
        "id": "mFr6Dq5d-B6E",
        "colab_type": "code",
        "outputId": "ab208c54-6816-498c-a0bf-e574c30d8b81",
        "colab": {
          "base_uri": "https://localhost:8080/",
          "height": 877
        }
      },
      "source": [
        "\n",
        "learn = language_model_learner(data_lm,arch=AWD_LSTM,config= awd_lstm_lm_config,drop_mult=1.9, callback_fns=ShowGraph,pretrained=False)\n",
        "learn.lr_find()\n",
        "learn.recorder.plot()\n",
        "learn.fit_one_cycle(1, 1e-2, moms=(0.8,0.7))\n",
        "learn.recorder.plot_losses()\n",
        "learn.save('fit-head')\n",
        "\n"
      ],
      "execution_count": 36,
      "outputs": [
        {
          "output_type": "display_data",
          "data": {
            "text/html": [
              ""
            ],
            "text/plain": [
              "<IPython.core.display.HTML object>"
            ]
          },
          "metadata": {
            "tags": []
          }
        },
        {
          "output_type": "stream",
          "text": [
            "LR Finder is complete, type {learner_name}.recorder.plot() to see the graph.\n"
          ],
          "name": "stdout"
        },
        {
          "output_type": "display_data",
          "data": {
            "text/html": [
              "<table border=\"1\" class=\"dataframe\">\n",
              "  <thead>\n",
              "    <tr style=\"text-align: left;\">\n",
              "      <th>epoch</th>\n",
              "      <th>train_loss</th>\n",
              "      <th>valid_loss</th>\n",
              "      <th>accuracy</th>\n",
              "      <th>time</th>\n",
              "    </tr>\n",
              "  </thead>\n",
              "  <tbody>\n",
              "    <tr>\n",
              "      <td>0</td>\n",
              "      <td>0.412016</td>\n",
              "      <td>0.414928</td>\n",
              "      <td>0.824970</td>\n",
              "      <td>05:26</td>\n",
              "    </tr>\n",
              "  </tbody>\n",
              "</table>"
            ],
            "text/plain": [
              "<IPython.core.display.HTML object>"
            ]
          },
          "metadata": {
            "tags": []
          }
        },
        {
          "output_type": "display_data",
          "data": {
            "image/png": "[encoded data removed]",
            "text/plain": [
              "<Figure size 432x288 with 1 Axes>"
            ]
          },
          "metadata": {
            "tags": []
          }
        },
        {
          "output_type": "display_data",
          "data": {
            "image/png": "[encoded data removed]",
            "text/plain": [
              "<Figure size 432x288 with 1 Axes>"
            ]
          },
          "metadata": {
            "tags": []
          }
        },
        {
          "output_type": "display_data",
          "data": {
            "image/png": "[encoded data removed]",
            "text/plain": [
              "<Figure size 432x288 with 1 Axes>"
            ]
          },
          "metadata": {
            "tags": []
          }
        }
      ]
    },
    {
      "cell_type": "code",
      "metadata": {
        "id": "7LiPMqtHGbIv",
        "colab_type": "code",
        "outputId": "d800f572-0411-49cb-e70f-dc24433fea2c",
        "colab": {
          "base_uri": "https://localhost:8080/",
          "height": 301
        }
      },
      "source": [
        "learn.unfreeze()\n",
        "learn.lr_find()\n",
        "learn.recorder.plot()"
      ],
      "execution_count": 37,
      "outputs": [
        {
          "output_type": "display_data",
          "data": {
            "text/html": [
              ""
            ],
            "text/plain": [
              "<IPython.core.display.HTML object>"
            ]
          },
          "metadata": {
            "tags": []
          }
        },
        {
          "output_type": "stream",
          "text": [
            "LR Finder is complete, type {learner_name}.recorder.plot() to see the graph.\n"
          ],
          "name": "stdout"
        },
        {
          "output_type": "display_data",
          "data": {
            "image/png": "[encoded data removed]",
            "text/plain": [
              "<Figure size 432x288 with 1 Axes>"
            ]
          },
          "metadata": {
            "tags": []
          }
        }
      ]
    },
    {
      "cell_type": "code",
      "metadata": {
        "id": "6TE19CDyHA54",
        "colab_type": "code",
        "outputId": "96747c61-d154-4449-a60e-4366b942a31c",
        "colab": {
          "base_uri": "https://localhost:8080/",
          "height": 412
        }
      },
      "source": [
        "learn.fit_one_cycle(4, .01, moms=(0.8,0.7))"
      ],
      "execution_count": 38,
      "outputs": [
        {
          "output_type": "display_data",
          "data": {
            "text/html": [
              "<table border=\"1\" class=\"dataframe\">\n",
              "  <thead>\n",
              "    <tr style=\"text-align: left;\">\n",
              "      <th>epoch</th>\n",
              "      <th>train_loss</th>\n",
              "      <th>valid_loss</th>\n",
              "      <th>accuracy</th>\n",
              "      <th>time</th>\n",
              "    </tr>\n",
              "  </thead>\n",
              "  <tbody>\n",
              "    <tr>\n",
              "      <td>0</td>\n",
              "      <td>0.432733</td>\n",
              "      <td>0.432193</td>\n",
              "      <td>0.817882</td>\n",
              "      <td>05:26</td>\n",
              "    </tr>\n",
              "    <tr>\n",
              "      <td>1</td>\n",
              "      <td>0.428267</td>\n",
              "      <td>0.425297</td>\n",
              "      <td>0.820568</td>\n",
              "      <td>05:25</td>\n",
              "    </tr>\n",
              "    <tr>\n",
              "      <td>2</td>\n",
              "      <td>0.388631</td>\n",
              "      <td>0.422803</td>\n",
              "      <td>0.823982</td>\n",
              "      <td>05:25</td>\n",
              "    </tr>\n",
              "    <tr>\n",
              "      <td>3</td>\n",
              "      <td>0.386116</td>\n",
              "      <td>0.420787</td>\n",
              "      <td>0.824917</td>\n",
              "      <td>05:25</td>\n",
              "    </tr>\n",
              "  </tbody>\n",
              "</table>"
            ],
            "text/plain": [
              "<IPython.core.display.HTML object>"
            ]
          },
          "metadata": {
            "tags": []
          }
        },
        {
          "output_type": "display_data",
          "data": {
            "image/png": "[encoded data removed]",
            "text/plain": [
              "<Figure size 432x288 with 1 Axes>"
            ]
          },
          "metadata": {
            "tags": []
          }
        }
      ]
    },
    {
      "cell_type": "code",
      "metadata": {
        "id": "NcovqscTHKID",
        "colab_type": "code",
        "colab": {}
      },
      "source": [
        "learn.save('fit-head')"
      ],
      "execution_count": 0,
      "outputs": []
    },
    {
      "cell_type": "code",
      "metadata": {
        "id": "IbxpqRfHJFEG",
        "colab_type": "code",
        "colab": {}
      },
      "source": [
        "learn.save_encoder('fine_tuned_enc3')"
      ],
      "execution_count": 0,
      "outputs": []
    },
    {
      "cell_type": "code",
      "metadata": {
        "id": "GbfYoP9NJ6Ai",
        "colab_type": "code",
        "outputId": "dda5bbae-fc3e-4437-aaea-ed815c8cc7f2",
        "colab": {
          "base_uri": "https://localhost:8080/",
          "height": 189
        }
      },
      "source": [
        "df = walks.sample(frac=1).reset_index(drop=True)\n",
        "df['index1']=df.index\n",
        "\n",
        "g = df.groupby('component')\n",
        "df['RN'] = g['index1'].rank(method='min')\n",
        "\n",
        "df[df['component']==1].head()\n"
      ],
      "execution_count": 41,
      "outputs": [
        {
          "output_type": "execute_result",
          "data": {
            "text/html": [
              "<div>\n",
              "<style scoped>\n",
              "    .dataframe tbody tr th:only-of-type {\n",
              "        vertical-align: middle;\n",
              "    }\n",
              "\n",
              "    .dataframe tbody tr th {\n",
              "        vertical-align: top;\n",
              "    }\n",
              "\n",
              "    .dataframe thead th {\n",
              "        text-align: right;\n",
              "    }\n",
              "</style>\n",
              "<table border=\"1\" class=\"dataframe\">\n",
              "  <thead>\n",
              "    <tr style=\"text-align: right;\">\n",
              "      <th></th>\n",
              "      <th>walk</th>\n",
              "      <th>label</th>\n",
              "      <th>start_node</th>\n",
              "      <th>component</th>\n",
              "      <th>index1</th>\n",
              "      <th>RN</th>\n",
              "    </tr>\n",
              "  </thead>\n",
              "  <tbody>\n",
              "    <tr>\n",
              "      <th>6</th>\n",
              "      <td>0 10 16 19 5 24 25 30 32 0 12 16 19 8 22 25 30...</td>\n",
              "      <td>0</td>\n",
              "      <td>28</td>\n",
              "      <td>1</td>\n",
              "      <td>6</td>\n",
              "      <td>1.0</td>\n",
              "    </tr>\n",
              "    <tr>\n",
              "      <th>143</th>\n",
              "      <td>2 11 16 20 7 23 25 30 32 2 11 16 20 6 22 25 30...</td>\n",
              "      <td>0</td>\n",
              "      <td>15</td>\n",
              "      <td>1</td>\n",
              "      <td>143</td>\n",
              "      <td>2.0</td>\n",
              "    </tr>\n",
              "    <tr>\n",
              "      <th>200</th>\n",
              "      <td>0 12 16 19 8 23 25 30 32 0 12 16 19 8 22 25 30...</td>\n",
              "      <td>0</td>\n",
              "      <td>27</td>\n",
              "      <td>1</td>\n",
              "      <td>200</td>\n",
              "      <td>3.0</td>\n",
              "    </tr>\n",
              "    <tr>\n",
              "      <th>538</th>\n",
              "      <td>0 11 16 19 8 23 25 30 32 0 11 15 19 5 21 27 31...</td>\n",
              "      <td>0</td>\n",
              "      <td>31</td>\n",
              "      <td>1</td>\n",
              "      <td>538</td>\n",
              "      <td>4.0</td>\n",
              "    </tr>\n",
              "    <tr>\n",
              "      <th>598</th>\n",
              "      <td>0 14 16 19 5 22 25 30 32 0 11 15 19 5 21 25 31...</td>\n",
              "      <td>0</td>\n",
              "      <td>34</td>\n",
              "      <td>1</td>\n",
              "      <td>598</td>\n",
              "      <td>5.0</td>\n",
              "    </tr>\n",
              "  </tbody>\n",
              "</table>\n",
              "</div>"
            ],
            "text/plain": [
              "                                                  walk  label  ...  index1   RN\n",
              "6    0 10 16 19 5 24 25 30 32 0 12 16 19 8 22 25 30...      0  ...       6  1.0\n",
              "143  2 11 16 20 7 23 25 30 32 2 11 16 20 6 22 25 30...      0  ...     143  2.0\n",
              "200  0 12 16 19 8 23 25 30 32 0 12 16 19 8 22 25 30...      0  ...     200  3.0\n",
              "538  0 11 16 19 8 23 25 30 32 0 11 15 19 5 21 27 31...      0  ...     538  4.0\n",
              "598  0 14 16 19 5 22 25 30 32 0 11 15 19 5 21 25 31...      0  ...     598  5.0\n",
              "\n",
              "[5 rows x 6 columns]"
            ]
          },
          "metadata": {
            "tags": []
          },
          "execution_count": 41
        }
      ]
    },
    {
      "cell_type": "markdown",
      "metadata": {
        "id": "s8b2JK0FxJJJ",
        "colab_type": "text"
      },
      "source": [
        "Choose a path per node and concatenate for entire component"
      ]
    },
    {
      "cell_type": "code",
      "metadata": {
        "id": "nMOusXPKxEaI",
        "colab_type": "code",
        "outputId": "c0129228-dc77-4142-9df1-dbed5dc176f4",
        "colab": {
          "base_uri": "https://localhost:8080/",
          "height": 217
        }
      },
      "source": [
        "df.groupby('component')['walk'].apply(lambda x: ', '.join(x))\n",
        "\n",
        "def f(x):\n",
        "     return Series(dict(label = x['label'].min(), text =  ', '.join(x['walk'])))\n",
        "df_text_comp = df[(df['RN']<=9.0)].groupby('component').apply(f)\n",
        "df_text_comp.head()"
      ],
      "execution_count": 42,
      "outputs": [
        {
          "output_type": "execute_result",
          "data": {
            "text/html": [
              "<div>\n",
              "<style scoped>\n",
              "    .dataframe tbody tr th:only-of-type {\n",
              "        vertical-align: middle;\n",
              "    }\n",
              "\n",
              "    .dataframe tbody tr th {\n",
              "        vertical-align: top;\n",
              "    }\n",
              "\n",
              "    .dataframe thead th {\n",
              "        text-align: right;\n",
              "    }\n",
              "</style>\n",
              "<table border=\"1\" class=\"dataframe\">\n",
              "  <thead>\n",
              "    <tr style=\"text-align: right;\">\n",
              "      <th></th>\n",
              "      <th>label</th>\n",
              "      <th>text</th>\n",
              "    </tr>\n",
              "    <tr>\n",
              "      <th>component</th>\n",
              "      <th></th>\n",
              "      <th></th>\n",
              "    </tr>\n",
              "  </thead>\n",
              "  <tbody>\n",
              "    <tr>\n",
              "      <th>1</th>\n",
              "      <td>0</td>\n",
              "      <td>0 10 16 19 5 24 25 30 32 0 12 16 19 8 22 25 30...</td>\n",
              "    </tr>\n",
              "    <tr>\n",
              "      <th>2</th>\n",
              "      <td>1</td>\n",
              "      <td>1 13 15 18 7 21 26 31 34 2 11 15 20 5 21 25 30...</td>\n",
              "    </tr>\n",
              "    <tr>\n",
              "      <th>3</th>\n",
              "      <td>2</td>\n",
              "      <td>4 11 17 19 7 24 25 30 32 4 11 17 19 5 23 25 30...</td>\n",
              "    </tr>\n",
              "    <tr>\n",
              "      <th>4</th>\n",
              "      <td>3</td>\n",
              "      <td>2 14 17 19 6 22 25 30 32 2 10 17 19 6 24 25 30...</td>\n",
              "    </tr>\n",
              "    <tr>\n",
              "      <th>5</th>\n",
              "      <td>4</td>\n",
              "      <td>1 12 17 19 7 23 25 30 32 1 12 15 19 6 21 25 30...</td>\n",
              "    </tr>\n",
              "  </tbody>\n",
              "</table>\n",
              "</div>"
            ],
            "text/plain": [
              "           label                                               text\n",
              "component                                                          \n",
              "1              0  0 10 16 19 5 24 25 30 32 0 12 16 19 8 22 25 30...\n",
              "2              1  1 13 15 18 7 21 26 31 34 2 11 15 20 5 21 25 30...\n",
              "3              2  4 11 17 19 7 24 25 30 32 4 11 17 19 5 23 25 30...\n",
              "4              3  2 14 17 19 6 22 25 30 32 2 10 17 19 6 24 25 30...\n",
              "5              4  1 12 17 19 7 23 25 30 32 1 12 15 19 6 21 25 30..."
            ]
          },
          "metadata": {
            "tags": []
          },
          "execution_count": 42
        }
      ]
    },
    {
      "cell_type": "code",
      "metadata": {
        "id": "S0Nmn3qUxR6l",
        "colab_type": "code",
        "outputId": "660b7bc4-57f9-472e-c7c6-aa0f99c39663",
        "colab": {
          "base_uri": "https://localhost:8080/",
          "height": 217
        }
      },
      "source": [
        "df_text_comp['component']= df_text_comp.index\n",
        "df_text_comp.index.names = ['comp']\n",
        "df_text_comp.head()"
      ],
      "execution_count": 43,
      "outputs": [
        {
          "output_type": "execute_result",
          "data": {
            "text/html": [
              "<div>\n",
              "<style scoped>\n",
              "    .dataframe tbody tr th:only-of-type {\n",
              "        vertical-align: middle;\n",
              "    }\n",
              "\n",
              "    .dataframe tbody tr th {\n",
              "        vertical-align: top;\n",
              "    }\n",
              "\n",
              "    .dataframe thead th {\n",
              "        text-align: right;\n",
              "    }\n",
              "</style>\n",
              "<table border=\"1\" class=\"dataframe\">\n",
              "  <thead>\n",
              "    <tr style=\"text-align: right;\">\n",
              "      <th></th>\n",
              "      <th>label</th>\n",
              "      <th>text</th>\n",
              "      <th>component</th>\n",
              "    </tr>\n",
              "    <tr>\n",
              "      <th>comp</th>\n",
              "      <th></th>\n",
              "      <th></th>\n",
              "      <th></th>\n",
              "    </tr>\n",
              "  </thead>\n",
              "  <tbody>\n",
              "    <tr>\n",
              "      <th>1</th>\n",
              "      <td>0</td>\n",
              "      <td>0 10 16 19 5 24 25 30 32 0 12 16 19 8 22 25 30...</td>\n",
              "      <td>1</td>\n",
              "    </tr>\n",
              "    <tr>\n",
              "      <th>2</th>\n",
              "      <td>1</td>\n",
              "      <td>1 13 15 18 7 21 26 31 34 2 11 15 20 5 21 25 30...</td>\n",
              "      <td>2</td>\n",
              "    </tr>\n",
              "    <tr>\n",
              "      <th>3</th>\n",
              "      <td>2</td>\n",
              "      <td>4 11 17 19 7 24 25 30 32 4 11 17 19 5 23 25 30...</td>\n",
              "      <td>3</td>\n",
              "    </tr>\n",
              "    <tr>\n",
              "      <th>4</th>\n",
              "      <td>3</td>\n",
              "      <td>2 14 17 19 6 22 25 30 32 2 10 17 19 6 24 25 30...</td>\n",
              "      <td>4</td>\n",
              "    </tr>\n",
              "    <tr>\n",
              "      <th>5</th>\n",
              "      <td>4</td>\n",
              "      <td>1 12 17 19 7 23 25 30 32 1 12 15 19 6 21 25 30...</td>\n",
              "      <td>5</td>\n",
              "    </tr>\n",
              "  </tbody>\n",
              "</table>\n",
              "</div>"
            ],
            "text/plain": [
              "      label                                               text  component\n",
              "comp                                                                     \n",
              "1         0  0 10 16 19 5 24 25 30 32 0 12 16 19 8 22 25 30...          1\n",
              "2         1  1 13 15 18 7 21 26 31 34 2 11 15 20 5 21 25 30...          2\n",
              "3         2  4 11 17 19 7 24 25 30 32 4 11 17 19 5 23 25 30...          3\n",
              "4         3  2 14 17 19 6 22 25 30 32 2 10 17 19 6 24 25 30...          4\n",
              "5         4  1 12 17 19 7 23 25 30 32 1 12 15 19 6 21 25 30...          5"
            ]
          },
          "metadata": {
            "tags": []
          },
          "execution_count": 43
        }
      ]
    },
    {
      "cell_type": "code",
      "metadata": {
        "id": "rPXVjJv8xcJ1",
        "colab_type": "code",
        "outputId": "b9b151d9-83f1-4b65-d185-b9b4d75eea16",
        "colab": {
          "base_uri": "https://localhost:8080/",
          "height": 34
        }
      },
      "source": [
        "train = pd.merge(df_text_comp, train_tmp, on='component', sort=False)\n",
        "test =  pd.merge(df_text_comp, test_tmp, on='component', sort=False)\n",
        "val =  pd.merge(df_text_comp, val_tmp, on='component', sort=False)\n",
        "(train.shape,val.shape, test.shape, train.shape[0]/df_text_comp.shape[0])"
      ],
      "execution_count": 44,
      "outputs": [
        {
          "output_type": "execute_result",
          "data": {
            "text/plain": [
              "((192, 3), (48, 3), (27, 3), 0.7191011235955056)"
            ]
          },
          "metadata": {
            "tags": []
          },
          "execution_count": 44
        }
      ]
    },
    {
      "cell_type": "code",
      "metadata": {
        "id": "rvWss3Ai2yTy",
        "colab_type": "code",
        "colab": {}
      },
      "source": [
        "bs=32#48\n",
        "\n",
        "data_clas = TextClasDataBunch.from_df(train_df=train[['text','label']],valid_df=val[['text','label']],  path=mypath, text_cols='text',label_cols = 'label', vocab=data_lm.vocab)\n"
      ],
      "execution_count": 0,
      "outputs": []
    },
    {
      "cell_type": "code",
      "metadata": {
        "id": "3ME-gd6I_zOk",
        "colab_type": "code",
        "colab": {}
      },
      "source": [
        "data_clas.save('tmp_clas')"
      ],
      "execution_count": 0,
      "outputs": []
    },
    {
      "cell_type": "code",
      "metadata": {
        "id": "ecomF0xU_25Q",
        "colab_type": "code",
        "colab": {}
      },
      "source": [
        "data_clas = load_data(mypath, 'tmp_clas', bs=bs)\n"
      ],
      "execution_count": 0,
      "outputs": []
    },
    {
      "cell_type": "code",
      "metadata": {
        "id": "l6dtwG6C_5_d",
        "colab_type": "code",
        "outputId": "3cf570fd-5f16-45b1-b0db-fe6ce5e64980",
        "colab": {
          "base_uri": "https://localhost:8080/",
          "height": 189
        }
      },
      "source": [
        "data_clas.show_batch()"
      ],
      "execution_count": 48,
      "outputs": [
        {
          "output_type": "display_data",
          "data": {
            "text/html": [
              "<table border=\"1\" class=\"dataframe\">\n",
              "  <thead>\n",
              "    <tr style=\"text-align: right;\">\n",
              "      <th>text</th>\n",
              "      <th>target</th>\n",
              "    </tr>\n",
              "  </thead>\n",
              "  <tbody>\n",
              "    <tr>\n",
              "      <td>xxbos 1 12 17 19 5 23 25 30 32 1 12 15 19 7 21 25 31 32 1 12 15 19 7 21 25 30 32 1 11 17 19 7 22 25 30 32 1 12 17 19 7 23 25 30 32 1 10 17 19 7 24 25 30 32 1 12 17 19 7 23 25 30 32 1 10 17 19 7 24</td>\n",
              "      <td>17</td>\n",
              "    </tr>\n",
              "    <tr>\n",
              "      <td>xxbos 0 11 17 20 7 21 25 31 32 0 12 17 19 6 21 25 30 32 0 10 17 19 6 24 25 30 32 0 11 17 19 7 23 25 30 32 2 11 17 19 7 22 25 30 32 0 12 17 19 6 21 25 30 32 0 10 17 19 6 24 25 30 32 0 11 17 19 7 23</td>\n",
              "      <td>3</td>\n",
              "    </tr>\n",
              "    <tr>\n",
              "      <td>xxbos 2 10 16 20 7 22 25 30 32 2 10 16 20 8 23 25 30 32 2 13 16 20 5 24 25 30 32 2 10 16 20 7 22 25 30 32 2 13 16 20 5 24 25 30 32 2 10 16 20 8 23 25 30 32 2 13 16 20 5 24 25 30 32 2 10 16 20 7 22</td>\n",
              "      <td>19</td>\n",
              "    </tr>\n",
              "    <tr>\n",
              "      <td>xxbos 4 12 15 19 6 21 25 30 32 3 14 17 19 9 22 25 30 32 4 12 17 19 6 23 25 30 32 4 12 15 19 6 21 29 31 32 4 12 15 20 5 21 25 30 32 4 12 17 20 8 23 25 30 32 4 10 17 20 8 24 25 30 32 4 12 17 20 6 22</td>\n",
              "      <td>8</td>\n",
              "    </tr>\n",
              "    <tr>\n",
              "      <td>xxbos 1 14 16 20 7 24 25 30 32 1 14 16 20 7 23 25 30 32 1 14 16 20 9 22 25 30 32 1 14 16 20 7 24 25 30 32 1 14 16 20 7 23 25 30 32 1 14 16 20 7 24 25 30 32 1 14 15 20 7 21 25 30 32 1 14 16 20 7 24</td>\n",
              "      <td>22</td>\n",
              "    </tr>\n",
              "  </tbody>\n",
              "</table>"
            ],
            "text/plain": [
              "<IPython.core.display.HTML object>"
            ]
          },
          "metadata": {
            "tags": []
          }
        }
      ]
    },
    {
      "cell_type": "code",
      "metadata": {
        "id": "okrm4fCq_8qy",
        "colab_type": "code",
        "colab": {}
      },
      "source": [
        "learn = text_classifier_learner(data_clas,arch=AWD_LSTM,config = awd_lstm_clas_config, drop_mult=2.0,pretrained=False)\n",
        "learn.load_encoder('fine_tuned_enc3')\n",
        "learn.freeze()"
      ],
      "execution_count": 0,
      "outputs": []
    },
    {
      "cell_type": "code",
      "metadata": {
        "id": "gH1pge_xAFgV",
        "colab_type": "code",
        "colab": {}
      },
      "source": [
        "gc.collect();"
      ],
      "execution_count": 0,
      "outputs": []
    },
    {
      "cell_type": "code",
      "metadata": {
        "id": "HKyJuUtRABmY",
        "colab_type": "code",
        "outputId": "7ef01fbe-3666-4cc8-c7b4-68a4cd9540ea",
        "colab": {
          "base_uri": "https://localhost:8080/",
          "height": 34
        }
      },
      "source": [
        "learn.lr_find()"
      ],
      "execution_count": 51,
      "outputs": [
        {
          "output_type": "display_data",
          "data": {
            "text/html": [
              ""
            ],
            "text/plain": [
              "<IPython.core.display.HTML object>"
            ]
          },
          "metadata": {
            "tags": []
          }
        },
        {
          "output_type": "stream",
          "text": [
            "LR Finder is complete, type {learner_name}.recorder.plot() to see the graph.\n"
          ],
          "name": "stdout"
        }
      ]
    },
    {
      "cell_type": "code",
      "metadata": {
        "id": "_2jcnRSJAJed",
        "colab_type": "code",
        "outputId": "5536ee31-8318-4de6-f631-4a3f8d65952a",
        "colab": {
          "base_uri": "https://localhost:8080/",
          "height": 283
        }
      },
      "source": [
        "learn.recorder.plot()"
      ],
      "execution_count": 52,
      "outputs": [
        {
          "output_type": "display_data",
          "data": {
            "image/png": "[encoded data removed]",
            "text/plain": [
              "<Figure size 432x288 with 1 Axes>"
            ]
          },
          "metadata": {
            "tags": []
          }
        }
      ]
    },
    {
      "cell_type": "code",
      "metadata": {
        "id": "OX1HOp3tANAB",
        "colab_type": "code",
        "outputId": "1722ee96-631e-47c0-f23f-4448324871ef",
        "colab": {
          "base_uri": "https://localhost:8080/",
          "height": 75
        }
      },
      "source": [
        "learn.fit_one_cycle(1, 5e-02, moms=(0.8,0.7))"
      ],
      "execution_count": 53,
      "outputs": [
        {
          "output_type": "display_data",
          "data": {
            "text/html": [
              "<table border=\"1\" class=\"dataframe\">\n",
              "  <thead>\n",
              "    <tr style=\"text-align: left;\">\n",
              "      <th>epoch</th>\n",
              "      <th>train_loss</th>\n",
              "      <th>valid_loss</th>\n",
              "      <th>accuracy</th>\n",
              "      <th>time</th>\n",
              "    </tr>\n",
              "  </thead>\n",
              "  <tbody>\n",
              "    <tr>\n",
              "      <td>0</td>\n",
              "      <td>3.449557</td>\n",
              "      <td>3.396216</td>\n",
              "      <td>0.041667</td>\n",
              "      <td>00:03</td>\n",
              "    </tr>\n",
              "  </tbody>\n",
              "</table>"
            ],
            "text/plain": [
              "<IPython.core.display.HTML object>"
            ]
          },
          "metadata": {
            "tags": []
          }
        }
      ]
    },
    {
      "cell_type": "code",
      "metadata": {
        "id": "DQGSYD4TAS9b",
        "colab_type": "code",
        "colab": {}
      },
      "source": [
        "def predict(test,learn):\n",
        "  predictions=[]\n",
        "  for index, row in test.iterrows():\n",
        "    p=learn.predict(row['text'])\n",
        "    #print((row['label'],str(p[0])))\n",
        "    predictions.append((row['text'],str(row['label']),str(p[0])))\n",
        "  dfpred = pd.DataFrame(predictions)\n",
        "  dfpred.columns=['text','label','prediction']\n",
        "  match=dfpred[(dfpred['label']==dfpred['prediction'])]\n",
        "  #match.head()\n",
        "  print((dfpred.shape[0], match.shape[0],match.shape[0]/dfpred.shape[0]))"
      ],
      "execution_count": 0,
      "outputs": []
    },
    {
      "cell_type": "code",
      "metadata": {
        "id": "K_qijpQiAW1a",
        "colab_type": "code",
        "outputId": "822e83cb-3723-499f-807b-f8fd83971ff2",
        "colab": {
          "base_uri": "https://localhost:8080/",
          "height": 75
        }
      },
      "source": [
        "learn.fit_one_cycle(1, 5e-02, moms=(0.8,0.7))"
      ],
      "execution_count": 55,
      "outputs": [
        {
          "output_type": "display_data",
          "data": {
            "text/html": [
              "<table border=\"1\" class=\"dataframe\">\n",
              "  <thead>\n",
              "    <tr style=\"text-align: left;\">\n",
              "      <th>epoch</th>\n",
              "      <th>train_loss</th>\n",
              "      <th>valid_loss</th>\n",
              "      <th>accuracy</th>\n",
              "      <th>time</th>\n",
              "    </tr>\n",
              "  </thead>\n",
              "  <tbody>\n",
              "    <tr>\n",
              "      <td>0</td>\n",
              "      <td>3.233495</td>\n",
              "      <td>3.317805</td>\n",
              "      <td>0.041667</td>\n",
              "      <td>00:03</td>\n",
              "    </tr>\n",
              "  </tbody>\n",
              "</table>"
            ],
            "text/plain": [
              "<IPython.core.display.HTML object>"
            ]
          },
          "metadata": {
            "tags": []
          }
        }
      ]
    },
    {
      "cell_type": "code",
      "metadata": {
        "id": "mrcF2ywpA7N4",
        "colab_type": "code",
        "outputId": "38d4061c-3483-4187-804a-54eb6b4d48d7",
        "colab": {
          "base_uri": "https://localhost:8080/",
          "height": 274
        }
      },
      "source": [
        "learn.unfreeze()\n",
        "learn.fit_one_cycle(8, slice(5e-3/(2.6**4),5e-03), moms=(0.8,0.7))\n",
        "\n"
      ],
      "execution_count": 56,
      "outputs": [
        {
          "output_type": "display_data",
          "data": {
            "text/html": [
              "<table border=\"1\" class=\"dataframe\">\n",
              "  <thead>\n",
              "    <tr style=\"text-align: left;\">\n",
              "      <th>epoch</th>\n",
              "      <th>train_loss</th>\n",
              "      <th>valid_loss</th>\n",
              "      <th>accuracy</th>\n",
              "      <th>time</th>\n",
              "    </tr>\n",
              "  </thead>\n",
              "  <tbody>\n",
              "    <tr>\n",
              "      <td>0</td>\n",
              "      <td>3.087827</td>\n",
              "      <td>3.331057</td>\n",
              "      <td>0.083333</td>\n",
              "      <td>00:05</td>\n",
              "    </tr>\n",
              "    <tr>\n",
              "      <td>1</td>\n",
              "      <td>3.069397</td>\n",
              "      <td>3.316871</td>\n",
              "      <td>0.104167</td>\n",
              "      <td>00:05</td>\n",
              "    </tr>\n",
              "    <tr>\n",
              "      <td>2</td>\n",
              "      <td>3.039941</td>\n",
              "      <td>3.288774</td>\n",
              "      <td>0.083333</td>\n",
              "      <td>00:05</td>\n",
              "    </tr>\n",
              "    <tr>\n",
              "      <td>3</td>\n",
              "      <td>3.019089</td>\n",
              "      <td>3.259871</td>\n",
              "      <td>0.104167</td>\n",
              "      <td>00:05</td>\n",
              "    </tr>\n",
              "    <tr>\n",
              "      <td>4</td>\n",
              "      <td>2.984929</td>\n",
              "      <td>3.220666</td>\n",
              "      <td>0.104167</td>\n",
              "      <td>00:05</td>\n",
              "    </tr>\n",
              "    <tr>\n",
              "      <td>5</td>\n",
              "      <td>2.952824</td>\n",
              "      <td>3.195321</td>\n",
              "      <td>0.083333</td>\n",
              "      <td>00:05</td>\n",
              "    </tr>\n",
              "    <tr>\n",
              "      <td>6</td>\n",
              "      <td>2.925974</td>\n",
              "      <td>3.187949</td>\n",
              "      <td>0.083333</td>\n",
              "      <td>00:05</td>\n",
              "    </tr>\n",
              "    <tr>\n",
              "      <td>7</td>\n",
              "      <td>2.893724</td>\n",
              "      <td>3.171582</td>\n",
              "      <td>0.083333</td>\n",
              "      <td>00:05</td>\n",
              "    </tr>\n",
              "  </tbody>\n",
              "</table>"
            ],
            "text/plain": [
              "<IPython.core.display.HTML object>"
            ]
          },
          "metadata": {
            "tags": []
          }
        }
      ]
    },
    {
      "cell_type": "code",
      "metadata": {
        "id": "5eJzDroiA-Ls",
        "colab_type": "code",
        "outputId": "97bdb805-ff32-40d1-fa92-eac37d1f4e50",
        "colab": {
          "base_uri": "https://localhost:8080/",
          "height": 34
        }
      },
      "source": [
        "predict(test,learn)"
      ],
      "execution_count": 57,
      "outputs": [
        {
          "output_type": "stream",
          "text": [
            "(27, 8, 0.2962962962962963)\n"
          ],
          "name": "stdout"
        }
      ]
    },
    {
      "cell_type": "code",
      "metadata": {
        "id": "OncJ5AWmgDzf",
        "colab_type": "code",
        "outputId": "67fb7774-d0a5-46cc-c4ed-05aca25bbc91",
        "colab": {
          "base_uri": "https://localhost:8080/",
          "height": 502
        }
      },
      "source": [
        "learn.fit_one_cycle(16, slice(5e-3/(2.6**4),5e-3), moms=(0.8,0.7))"
      ],
      "execution_count": 58,
      "outputs": [
        {
          "output_type": "display_data",
          "data": {
            "text/html": [
              "<table border=\"1\" class=\"dataframe\">\n",
              "  <thead>\n",
              "    <tr style=\"text-align: left;\">\n",
              "      <th>epoch</th>\n",
              "      <th>train_loss</th>\n",
              "      <th>valid_loss</th>\n",
              "      <th>accuracy</th>\n",
              "      <th>time</th>\n",
              "    </tr>\n",
              "  </thead>\n",
              "  <tbody>\n",
              "    <tr>\n",
              "      <td>0</td>\n",
              "      <td>2.743050</td>\n",
              "      <td>3.129044</td>\n",
              "      <td>0.083333</td>\n",
              "      <td>00:05</td>\n",
              "    </tr>\n",
              "    <tr>\n",
              "      <td>1</td>\n",
              "      <td>2.748325</td>\n",
              "      <td>3.081120</td>\n",
              "      <td>0.104167</td>\n",
              "      <td>00:05</td>\n",
              "    </tr>\n",
              "    <tr>\n",
              "      <td>2</td>\n",
              "      <td>2.729351</td>\n",
              "      <td>3.018179</td>\n",
              "      <td>0.125000</td>\n",
              "      <td>00:05</td>\n",
              "    </tr>\n",
              "    <tr>\n",
              "      <td>3</td>\n",
              "      <td>2.696982</td>\n",
              "      <td>2.918897</td>\n",
              "      <td>0.104167</td>\n",
              "      <td>00:05</td>\n",
              "    </tr>\n",
              "    <tr>\n",
              "      <td>4</td>\n",
              "      <td>2.653393</td>\n",
              "      <td>2.799820</td>\n",
              "      <td>0.166667</td>\n",
              "      <td>00:05</td>\n",
              "    </tr>\n",
              "    <tr>\n",
              "      <td>5</td>\n",
              "      <td>2.616558</td>\n",
              "      <td>2.669498</td>\n",
              "      <td>0.187500</td>\n",
              "      <td>00:05</td>\n",
              "    </tr>\n",
              "    <tr>\n",
              "      <td>6</td>\n",
              "      <td>2.580656</td>\n",
              "      <td>2.590564</td>\n",
              "      <td>0.208333</td>\n",
              "      <td>00:05</td>\n",
              "    </tr>\n",
              "    <tr>\n",
              "      <td>7</td>\n",
              "      <td>2.541037</td>\n",
              "      <td>2.517446</td>\n",
              "      <td>0.229167</td>\n",
              "      <td>00:05</td>\n",
              "    </tr>\n",
              "    <tr>\n",
              "      <td>8</td>\n",
              "      <td>2.501504</td>\n",
              "      <td>2.461553</td>\n",
              "      <td>0.312500</td>\n",
              "      <td>00:05</td>\n",
              "    </tr>\n",
              "    <tr>\n",
              "      <td>9</td>\n",
              "      <td>2.454523</td>\n",
              "      <td>2.387626</td>\n",
              "      <td>0.312500</td>\n",
              "      <td>00:05</td>\n",
              "    </tr>\n",
              "    <tr>\n",
              "      <td>10</td>\n",
              "      <td>2.401567</td>\n",
              "      <td>2.352267</td>\n",
              "      <td>0.312500</td>\n",
              "      <td>00:05</td>\n",
              "    </tr>\n",
              "    <tr>\n",
              "      <td>11</td>\n",
              "      <td>2.370988</td>\n",
              "      <td>2.329146</td>\n",
              "      <td>0.312500</td>\n",
              "      <td>00:05</td>\n",
              "    </tr>\n",
              "    <tr>\n",
              "      <td>12</td>\n",
              "      <td>2.327674</td>\n",
              "      <td>2.326887</td>\n",
              "      <td>0.291667</td>\n",
              "      <td>00:05</td>\n",
              "    </tr>\n",
              "    <tr>\n",
              "      <td>13</td>\n",
              "      <td>2.312178</td>\n",
              "      <td>2.312902</td>\n",
              "      <td>0.291667</td>\n",
              "      <td>00:05</td>\n",
              "    </tr>\n",
              "    <tr>\n",
              "      <td>14</td>\n",
              "      <td>2.275719</td>\n",
              "      <td>2.308316</td>\n",
              "      <td>0.291667</td>\n",
              "      <td>00:05</td>\n",
              "    </tr>\n",
              "    <tr>\n",
              "      <td>15</td>\n",
              "      <td>2.243215</td>\n",
              "      <td>2.305119</td>\n",
              "      <td>0.312500</td>\n",
              "      <td>00:05</td>\n",
              "    </tr>\n",
              "  </tbody>\n",
              "</table>"
            ],
            "text/plain": [
              "<IPython.core.display.HTML object>"
            ]
          },
          "metadata": {
            "tags": []
          }
        }
      ]
    },
    {
      "cell_type": "code",
      "metadata": {
        "id": "04zsWdlpgFwq",
        "colab_type": "code",
        "outputId": "df52ffb9-2f52-401b-b2cc-5b898f1a7598",
        "colab": {
          "base_uri": "https://localhost:8080/",
          "height": 34
        }
      },
      "source": [
        "predict(test,learn)"
      ],
      "execution_count": 59,
      "outputs": [
        {
          "output_type": "stream",
          "text": [
            "(27, 12, 0.4444444444444444)\n"
          ],
          "name": "stdout"
        }
      ]
    },
    {
      "cell_type": "code",
      "metadata": {
        "id": "vkbWeFl5gMg_",
        "colab_type": "code",
        "outputId": "e9942b56-6381-4097-9a92-75013d294115",
        "colab": {
          "base_uri": "https://localhost:8080/",
          "height": 502
        }
      },
      "source": [
        "learn.fit_one_cycle(16, slice(5e-3/(2.6**4),5e-3), moms=(0.8,0.7))"
      ],
      "execution_count": 60,
      "outputs": [
        {
          "output_type": "display_data",
          "data": {
            "text/html": [
              "<table border=\"1\" class=\"dataframe\">\n",
              "  <thead>\n",
              "    <tr style=\"text-align: left;\">\n",
              "      <th>epoch</th>\n",
              "      <th>train_loss</th>\n",
              "      <th>valid_loss</th>\n",
              "      <th>accuracy</th>\n",
              "      <th>time</th>\n",
              "    </tr>\n",
              "  </thead>\n",
              "  <tbody>\n",
              "    <tr>\n",
              "      <td>0</td>\n",
              "      <td>2.037700</td>\n",
              "      <td>2.289408</td>\n",
              "      <td>0.333333</td>\n",
              "      <td>00:05</td>\n",
              "    </tr>\n",
              "    <tr>\n",
              "      <td>1</td>\n",
              "      <td>2.060606</td>\n",
              "      <td>2.270627</td>\n",
              "      <td>0.333333</td>\n",
              "      <td>00:05</td>\n",
              "    </tr>\n",
              "    <tr>\n",
              "      <td>2</td>\n",
              "      <td>2.058736</td>\n",
              "      <td>2.224133</td>\n",
              "      <td>0.354167</td>\n",
              "      <td>00:05</td>\n",
              "    </tr>\n",
              "    <tr>\n",
              "      <td>3</td>\n",
              "      <td>2.024512</td>\n",
              "      <td>2.157565</td>\n",
              "      <td>0.395833</td>\n",
              "      <td>00:05</td>\n",
              "    </tr>\n",
              "    <tr>\n",
              "      <td>4</td>\n",
              "      <td>2.012895</td>\n",
              "      <td>2.094438</td>\n",
              "      <td>0.375000</td>\n",
              "      <td>00:05</td>\n",
              "    </tr>\n",
              "    <tr>\n",
              "      <td>5</td>\n",
              "      <td>1.967889</td>\n",
              "      <td>2.036194</td>\n",
              "      <td>0.354167</td>\n",
              "      <td>00:05</td>\n",
              "    </tr>\n",
              "    <tr>\n",
              "      <td>6</td>\n",
              "      <td>1.932263</td>\n",
              "      <td>2.016378</td>\n",
              "      <td>0.354167</td>\n",
              "      <td>00:05</td>\n",
              "    </tr>\n",
              "    <tr>\n",
              "      <td>7</td>\n",
              "      <td>1.888053</td>\n",
              "      <td>1.987859</td>\n",
              "      <td>0.354167</td>\n",
              "      <td>00:05</td>\n",
              "    </tr>\n",
              "    <tr>\n",
              "      <td>8</td>\n",
              "      <td>1.841544</td>\n",
              "      <td>1.942951</td>\n",
              "      <td>0.375000</td>\n",
              "      <td>00:05</td>\n",
              "    </tr>\n",
              "    <tr>\n",
              "      <td>9</td>\n",
              "      <td>1.818002</td>\n",
              "      <td>1.924644</td>\n",
              "      <td>0.395833</td>\n",
              "      <td>00:05</td>\n",
              "    </tr>\n",
              "    <tr>\n",
              "      <td>10</td>\n",
              "      <td>1.786278</td>\n",
              "      <td>1.908681</td>\n",
              "      <td>0.375000</td>\n",
              "      <td>00:05</td>\n",
              "    </tr>\n",
              "    <tr>\n",
              "      <td>11</td>\n",
              "      <td>1.749781</td>\n",
              "      <td>1.894766</td>\n",
              "      <td>0.375000</td>\n",
              "      <td>00:05</td>\n",
              "    </tr>\n",
              "    <tr>\n",
              "      <td>12</td>\n",
              "      <td>1.728051</td>\n",
              "      <td>1.881620</td>\n",
              "      <td>0.354167</td>\n",
              "      <td>00:05</td>\n",
              "    </tr>\n",
              "    <tr>\n",
              "      <td>13</td>\n",
              "      <td>1.686913</td>\n",
              "      <td>1.866683</td>\n",
              "      <td>0.333333</td>\n",
              "      <td>00:05</td>\n",
              "    </tr>\n",
              "    <tr>\n",
              "      <td>14</td>\n",
              "      <td>1.649984</td>\n",
              "      <td>1.874720</td>\n",
              "      <td>0.333333</td>\n",
              "      <td>00:05</td>\n",
              "    </tr>\n",
              "    <tr>\n",
              "      <td>15</td>\n",
              "      <td>1.631230</td>\n",
              "      <td>1.843030</td>\n",
              "      <td>0.354167</td>\n",
              "      <td>00:05</td>\n",
              "    </tr>\n",
              "  </tbody>\n",
              "</table>"
            ],
            "text/plain": [
              "<IPython.core.display.HTML object>"
            ]
          },
          "metadata": {
            "tags": []
          }
        }
      ]
    },
    {
      "cell_type": "code",
      "metadata": {
        "id": "UgNaWWnHgNpW",
        "colab_type": "code",
        "outputId": "9eb7c840-d2c7-4695-8f7a-0b718dd40e59",
        "colab": {
          "base_uri": "https://localhost:8080/",
          "height": 34
        }
      },
      "source": [
        "predict(test,learn)"
      ],
      "execution_count": 61,
      "outputs": [
        {
          "output_type": "stream",
          "text": [
            "(27, 18, 0.6666666666666666)\n"
          ],
          "name": "stdout"
        }
      ]
    },
    {
      "cell_type": "code",
      "metadata": {
        "id": "pRkTF6TFrP4w",
        "colab_type": "code",
        "outputId": "8955287a-c3ea-4b1a-b8c3-c77a5cea3927",
        "colab": {
          "base_uri": "https://localhost:8080/",
          "height": 502
        }
      },
      "source": [
        "learn.fit_one_cycle(16, slice(5e-3/(2.6**4),5e-3), moms=(0.8,0.7))"
      ],
      "execution_count": 62,
      "outputs": [
        {
          "output_type": "display_data",
          "data": {
            "text/html": [
              "<table border=\"1\" class=\"dataframe\">\n",
              "  <thead>\n",
              "    <tr style=\"text-align: left;\">\n",
              "      <th>epoch</th>\n",
              "      <th>train_loss</th>\n",
              "      <th>valid_loss</th>\n",
              "      <th>accuracy</th>\n",
              "      <th>time</th>\n",
              "    </tr>\n",
              "  </thead>\n",
              "  <tbody>\n",
              "    <tr>\n",
              "      <td>0</td>\n",
              "      <td>1.544565</td>\n",
              "      <td>1.841526</td>\n",
              "      <td>0.354167</td>\n",
              "      <td>00:05</td>\n",
              "    </tr>\n",
              "    <tr>\n",
              "      <td>1</td>\n",
              "      <td>1.561092</td>\n",
              "      <td>1.836465</td>\n",
              "      <td>0.395833</td>\n",
              "      <td>00:05</td>\n",
              "    </tr>\n",
              "    <tr>\n",
              "      <td>2</td>\n",
              "      <td>1.573796</td>\n",
              "      <td>1.832475</td>\n",
              "      <td>0.395833</td>\n",
              "      <td>00:05</td>\n",
              "    </tr>\n",
              "    <tr>\n",
              "      <td>3</td>\n",
              "      <td>1.539145</td>\n",
              "      <td>1.816459</td>\n",
              "      <td>0.375000</td>\n",
              "      <td>00:05</td>\n",
              "    </tr>\n",
              "    <tr>\n",
              "      <td>4</td>\n",
              "      <td>1.539205</td>\n",
              "      <td>1.788883</td>\n",
              "      <td>0.354167</td>\n",
              "      <td>00:05</td>\n",
              "    </tr>\n",
              "    <tr>\n",
              "      <td>5</td>\n",
              "      <td>1.512293</td>\n",
              "      <td>1.819073</td>\n",
              "      <td>0.395833</td>\n",
              "      <td>00:05</td>\n",
              "    </tr>\n",
              "    <tr>\n",
              "      <td>6</td>\n",
              "      <td>1.491278</td>\n",
              "      <td>1.806888</td>\n",
              "      <td>0.354167</td>\n",
              "      <td>00:05</td>\n",
              "    </tr>\n",
              "    <tr>\n",
              "      <td>7</td>\n",
              "      <td>1.465539</td>\n",
              "      <td>1.754524</td>\n",
              "      <td>0.395833</td>\n",
              "      <td>00:05</td>\n",
              "    </tr>\n",
              "    <tr>\n",
              "      <td>8</td>\n",
              "      <td>1.436620</td>\n",
              "      <td>1.807366</td>\n",
              "      <td>0.416667</td>\n",
              "      <td>00:05</td>\n",
              "    </tr>\n",
              "    <tr>\n",
              "      <td>9</td>\n",
              "      <td>1.419234</td>\n",
              "      <td>1.781833</td>\n",
              "      <td>0.416667</td>\n",
              "      <td>00:05</td>\n",
              "    </tr>\n",
              "    <tr>\n",
              "      <td>10</td>\n",
              "      <td>1.394394</td>\n",
              "      <td>1.769138</td>\n",
              "      <td>0.437500</td>\n",
              "      <td>00:05</td>\n",
              "    </tr>\n",
              "    <tr>\n",
              "      <td>11</td>\n",
              "      <td>1.379929</td>\n",
              "      <td>1.757764</td>\n",
              "      <td>0.437500</td>\n",
              "      <td>00:05</td>\n",
              "    </tr>\n",
              "    <tr>\n",
              "      <td>12</td>\n",
              "      <td>1.366353</td>\n",
              "      <td>1.762322</td>\n",
              "      <td>0.437500</td>\n",
              "      <td>00:05</td>\n",
              "    </tr>\n",
              "    <tr>\n",
              "      <td>13</td>\n",
              "      <td>1.345318</td>\n",
              "      <td>1.754427</td>\n",
              "      <td>0.437500</td>\n",
              "      <td>00:05</td>\n",
              "    </tr>\n",
              "    <tr>\n",
              "      <td>14</td>\n",
              "      <td>1.338941</td>\n",
              "      <td>1.704266</td>\n",
              "      <td>0.437500</td>\n",
              "      <td>00:05</td>\n",
              "    </tr>\n",
              "    <tr>\n",
              "      <td>15</td>\n",
              "      <td>1.327056</td>\n",
              "      <td>1.710921</td>\n",
              "      <td>0.437500</td>\n",
              "      <td>00:05</td>\n",
              "    </tr>\n",
              "  </tbody>\n",
              "</table>"
            ],
            "text/plain": [
              "<IPython.core.display.HTML object>"
            ]
          },
          "metadata": {
            "tags": []
          }
        }
      ]
    },
    {
      "cell_type": "code",
      "metadata": {
        "id": "yCdbebAxrUuk",
        "colab_type": "code",
        "outputId": "3c166f6d-aeac-4bbe-925b-074ba5608343",
        "colab": {
          "base_uri": "https://localhost:8080/",
          "height": 34
        }
      },
      "source": [
        "predict(test,learn)"
      ],
      "execution_count": 63,
      "outputs": [
        {
          "output_type": "stream",
          "text": [
            "(27, 17, 0.6296296296296297)\n"
          ],
          "name": "stdout"
        }
      ]
    },
    {
      "cell_type": "code",
      "metadata": {
        "id": "rgWg8fxpsP-a",
        "colab_type": "code",
        "outputId": "4eb02c47-db34-4ffb-824f-bc614b6629c4",
        "colab": {
          "base_uri": "https://localhost:8080/",
          "height": 502
        }
      },
      "source": [
        "learn.fit_one_cycle(16, slice(5e-3/(2.6**4),5e-3), moms=(0.8,0.7))"
      ],
      "execution_count": 64,
      "outputs": [
        {
          "output_type": "display_data",
          "data": {
            "text/html": [
              "<table border=\"1\" class=\"dataframe\">\n",
              "  <thead>\n",
              "    <tr style=\"text-align: left;\">\n",
              "      <th>epoch</th>\n",
              "      <th>train_loss</th>\n",
              "      <th>valid_loss</th>\n",
              "      <th>accuracy</th>\n",
              "      <th>time</th>\n",
              "    </tr>\n",
              "  </thead>\n",
              "  <tbody>\n",
              "    <tr>\n",
              "      <td>0</td>\n",
              "      <td>1.244504</td>\n",
              "      <td>1.737876</td>\n",
              "      <td>0.416667</td>\n",
              "      <td>00:05</td>\n",
              "    </tr>\n",
              "    <tr>\n",
              "      <td>1</td>\n",
              "      <td>1.274736</td>\n",
              "      <td>1.758088</td>\n",
              "      <td>0.458333</td>\n",
              "      <td>00:05</td>\n",
              "    </tr>\n",
              "    <tr>\n",
              "      <td>2</td>\n",
              "      <td>1.230799</td>\n",
              "      <td>1.668672</td>\n",
              "      <td>0.458333</td>\n",
              "      <td>00:05</td>\n",
              "    </tr>\n",
              "    <tr>\n",
              "      <td>3</td>\n",
              "      <td>1.255934</td>\n",
              "      <td>1.631838</td>\n",
              "      <td>0.458333</td>\n",
              "      <td>00:05</td>\n",
              "    </tr>\n",
              "    <tr>\n",
              "      <td>4</td>\n",
              "      <td>1.244877</td>\n",
              "      <td>1.575063</td>\n",
              "      <td>0.479167</td>\n",
              "      <td>00:05</td>\n",
              "    </tr>\n",
              "    <tr>\n",
              "      <td>5</td>\n",
              "      <td>1.229647</td>\n",
              "      <td>1.573841</td>\n",
              "      <td>0.458333</td>\n",
              "      <td>00:05</td>\n",
              "    </tr>\n",
              "    <tr>\n",
              "      <td>6</td>\n",
              "      <td>1.201342</td>\n",
              "      <td>1.602775</td>\n",
              "      <td>0.437500</td>\n",
              "      <td>00:05</td>\n",
              "    </tr>\n",
              "    <tr>\n",
              "      <td>7</td>\n",
              "      <td>1.195755</td>\n",
              "      <td>1.626444</td>\n",
              "      <td>0.437500</td>\n",
              "      <td>00:05</td>\n",
              "    </tr>\n",
              "    <tr>\n",
              "      <td>8</td>\n",
              "      <td>1.176603</td>\n",
              "      <td>1.641559</td>\n",
              "      <td>0.479167</td>\n",
              "      <td>00:05</td>\n",
              "    </tr>\n",
              "    <tr>\n",
              "      <td>9</td>\n",
              "      <td>1.179401</td>\n",
              "      <td>1.724574</td>\n",
              "      <td>0.479167</td>\n",
              "      <td>00:05</td>\n",
              "    </tr>\n",
              "    <tr>\n",
              "      <td>10</td>\n",
              "      <td>1.162726</td>\n",
              "      <td>1.728941</td>\n",
              "      <td>0.479167</td>\n",
              "      <td>00:05</td>\n",
              "    </tr>\n",
              "    <tr>\n",
              "      <td>11</td>\n",
              "      <td>1.161949</td>\n",
              "      <td>1.694128</td>\n",
              "      <td>0.479167</td>\n",
              "      <td>00:05</td>\n",
              "    </tr>\n",
              "    <tr>\n",
              "      <td>12</td>\n",
              "      <td>1.143730</td>\n",
              "      <td>1.722014</td>\n",
              "      <td>0.479167</td>\n",
              "      <td>00:05</td>\n",
              "    </tr>\n",
              "    <tr>\n",
              "      <td>13</td>\n",
              "      <td>1.137980</td>\n",
              "      <td>1.692727</td>\n",
              "      <td>0.479167</td>\n",
              "      <td>00:05</td>\n",
              "    </tr>\n",
              "    <tr>\n",
              "      <td>14</td>\n",
              "      <td>1.135199</td>\n",
              "      <td>1.672261</td>\n",
              "      <td>0.479167</td>\n",
              "      <td>00:05</td>\n",
              "    </tr>\n",
              "    <tr>\n",
              "      <td>15</td>\n",
              "      <td>1.130058</td>\n",
              "      <td>1.662435</td>\n",
              "      <td>0.479167</td>\n",
              "      <td>00:05</td>\n",
              "    </tr>\n",
              "  </tbody>\n",
              "</table>"
            ],
            "text/plain": [
              "<IPython.core.display.HTML object>"
            ]
          },
          "metadata": {
            "tags": []
          }
        }
      ]
    },
    {
      "cell_type": "code",
      "metadata": {
        "id": "sW0JUNvvsTJ8",
        "colab_type": "code",
        "outputId": "7da2b6d0-4f09-41e1-9655-fa37db0f9d5e",
        "colab": {
          "base_uri": "https://localhost:8080/",
          "height": 34
        }
      },
      "source": [
        "predict(test,learn)"
      ],
      "execution_count": 65,
      "outputs": [
        {
          "output_type": "stream",
          "text": [
            "(27, 17, 0.6296296296296297)\n"
          ],
          "name": "stdout"
        }
      ]
    },
    {
      "cell_type": "code",
      "metadata": {
        "id": "ZJRBYaAesvDx",
        "colab_type": "code",
        "outputId": "64db2265-5cef-4248-8adc-6bb977d85000",
        "colab": {
          "base_uri": "https://localhost:8080/",
          "height": 502
        }
      },
      "source": [
        "learn.fit_one_cycle(16, slice(5e-3/(2.6**4),5e-3), moms=(0.8,0.7))"
      ],
      "execution_count": 66,
      "outputs": [
        {
          "output_type": "display_data",
          "data": {
            "text/html": [
              "<table border=\"1\" class=\"dataframe\">\n",
              "  <thead>\n",
              "    <tr style=\"text-align: left;\">\n",
              "      <th>epoch</th>\n",
              "      <th>train_loss</th>\n",
              "      <th>valid_loss</th>\n",
              "      <th>accuracy</th>\n",
              "      <th>time</th>\n",
              "    </tr>\n",
              "  </thead>\n",
              "  <tbody>\n",
              "    <tr>\n",
              "      <td>0</td>\n",
              "      <td>1.102155</td>\n",
              "      <td>1.664904</td>\n",
              "      <td>0.479167</td>\n",
              "      <td>00:05</td>\n",
              "    </tr>\n",
              "    <tr>\n",
              "      <td>1</td>\n",
              "      <td>1.089815</td>\n",
              "      <td>1.699318</td>\n",
              "      <td>0.520833</td>\n",
              "      <td>00:05</td>\n",
              "    </tr>\n",
              "    <tr>\n",
              "      <td>2</td>\n",
              "      <td>1.100375</td>\n",
              "      <td>1.692660</td>\n",
              "      <td>0.479167</td>\n",
              "      <td>00:05</td>\n",
              "    </tr>\n",
              "    <tr>\n",
              "      <td>3</td>\n",
              "      <td>1.104066</td>\n",
              "      <td>1.675216</td>\n",
              "      <td>0.479167</td>\n",
              "      <td>00:05</td>\n",
              "    </tr>\n",
              "    <tr>\n",
              "      <td>4</td>\n",
              "      <td>1.098219</td>\n",
              "      <td>1.750159</td>\n",
              "      <td>0.479167</td>\n",
              "      <td>00:05</td>\n",
              "    </tr>\n",
              "    <tr>\n",
              "      <td>5</td>\n",
              "      <td>1.090473</td>\n",
              "      <td>1.731081</td>\n",
              "      <td>0.500000</td>\n",
              "      <td>00:05</td>\n",
              "    </tr>\n",
              "    <tr>\n",
              "      <td>6</td>\n",
              "      <td>1.078827</td>\n",
              "      <td>1.735011</td>\n",
              "      <td>0.458333</td>\n",
              "      <td>00:05</td>\n",
              "    </tr>\n",
              "    <tr>\n",
              "      <td>7</td>\n",
              "      <td>1.070136</td>\n",
              "      <td>1.773585</td>\n",
              "      <td>0.479167</td>\n",
              "      <td>00:05</td>\n",
              "    </tr>\n",
              "    <tr>\n",
              "      <td>8</td>\n",
              "      <td>1.040254</td>\n",
              "      <td>1.734999</td>\n",
              "      <td>0.479167</td>\n",
              "      <td>00:05</td>\n",
              "    </tr>\n",
              "    <tr>\n",
              "      <td>9</td>\n",
              "      <td>1.032173</td>\n",
              "      <td>1.750430</td>\n",
              "      <td>0.458333</td>\n",
              "      <td>00:05</td>\n",
              "    </tr>\n",
              "    <tr>\n",
              "      <td>10</td>\n",
              "      <td>1.028193</td>\n",
              "      <td>1.725409</td>\n",
              "      <td>0.479167</td>\n",
              "      <td>00:05</td>\n",
              "    </tr>\n",
              "    <tr>\n",
              "      <td>11</td>\n",
              "      <td>1.006097</td>\n",
              "      <td>1.679178</td>\n",
              "      <td>0.458333</td>\n",
              "      <td>00:05</td>\n",
              "    </tr>\n",
              "    <tr>\n",
              "      <td>12</td>\n",
              "      <td>0.991615</td>\n",
              "      <td>1.691969</td>\n",
              "      <td>0.500000</td>\n",
              "      <td>00:05</td>\n",
              "    </tr>\n",
              "    <tr>\n",
              "      <td>13</td>\n",
              "      <td>0.973826</td>\n",
              "      <td>1.657756</td>\n",
              "      <td>0.500000</td>\n",
              "      <td>00:05</td>\n",
              "    </tr>\n",
              "    <tr>\n",
              "      <td>14</td>\n",
              "      <td>0.981222</td>\n",
              "      <td>1.663589</td>\n",
              "      <td>0.520833</td>\n",
              "      <td>00:05</td>\n",
              "    </tr>\n",
              "    <tr>\n",
              "      <td>15</td>\n",
              "      <td>0.975428</td>\n",
              "      <td>1.661620</td>\n",
              "      <td>0.520833</td>\n",
              "      <td>00:05</td>\n",
              "    </tr>\n",
              "  </tbody>\n",
              "</table>"
            ],
            "text/plain": [
              "<IPython.core.display.HTML object>"
            ]
          },
          "metadata": {
            "tags": []
          }
        }
      ]
    },
    {
      "cell_type": "code",
      "metadata": {
        "id": "e6aRVcvvsvbZ",
        "colab_type": "code",
        "outputId": "8150389c-2ff3-4c2d-c819-7d38622b7bd4",
        "colab": {
          "base_uri": "https://localhost:8080/",
          "height": 34
        }
      },
      "source": [
        "predict(test,learn)"
      ],
      "execution_count": 67,
      "outputs": [
        {
          "output_type": "stream",
          "text": [
            "(27, 16, 0.5925925925925926)\n"
          ],
          "name": "stdout"
        }
      ]
    },
    {
      "cell_type": "code",
      "metadata": {
        "id": "HzVkknomtUyO",
        "colab_type": "code",
        "outputId": "c6f56e8f-c75f-46cd-92a3-089f6d55f555",
        "colab": {
          "base_uri": "https://localhost:8080/",
          "height": 502
        }
      },
      "source": [
        "learn.fit_one_cycle(16, slice(5e-3/(2.6**4),5e-3), moms=(0.8,0.7))"
      ],
      "execution_count": 68,
      "outputs": [
        {
          "output_type": "display_data",
          "data": {
            "text/html": [
              "<table border=\"1\" class=\"dataframe\">\n",
              "  <thead>\n",
              "    <tr style=\"text-align: left;\">\n",
              "      <th>epoch</th>\n",
              "      <th>train_loss</th>\n",
              "      <th>valid_loss</th>\n",
              "      <th>accuracy</th>\n",
              "      <th>time</th>\n",
              "    </tr>\n",
              "  </thead>\n",
              "  <tbody>\n",
              "    <tr>\n",
              "      <td>0</td>\n",
              "      <td>0.877190</td>\n",
              "      <td>1.679646</td>\n",
              "      <td>0.500000</td>\n",
              "      <td>00:05</td>\n",
              "    </tr>\n",
              "    <tr>\n",
              "      <td>1</td>\n",
              "      <td>0.918006</td>\n",
              "      <td>1.686683</td>\n",
              "      <td>0.500000</td>\n",
              "      <td>00:05</td>\n",
              "    </tr>\n",
              "    <tr>\n",
              "      <td>2</td>\n",
              "      <td>0.931400</td>\n",
              "      <td>1.698409</td>\n",
              "      <td>0.500000</td>\n",
              "      <td>00:05</td>\n",
              "    </tr>\n",
              "    <tr>\n",
              "      <td>3</td>\n",
              "      <td>0.915403</td>\n",
              "      <td>1.679263</td>\n",
              "      <td>0.500000</td>\n",
              "      <td>00:05</td>\n",
              "    </tr>\n",
              "    <tr>\n",
              "      <td>4</td>\n",
              "      <td>0.893363</td>\n",
              "      <td>1.620760</td>\n",
              "      <td>0.541667</td>\n",
              "      <td>00:05</td>\n",
              "    </tr>\n",
              "    <tr>\n",
              "      <td>5</td>\n",
              "      <td>0.880463</td>\n",
              "      <td>1.688663</td>\n",
              "      <td>0.520833</td>\n",
              "      <td>00:05</td>\n",
              "    </tr>\n",
              "    <tr>\n",
              "      <td>6</td>\n",
              "      <td>0.886776</td>\n",
              "      <td>1.630825</td>\n",
              "      <td>0.541667</td>\n",
              "      <td>00:05</td>\n",
              "    </tr>\n",
              "    <tr>\n",
              "      <td>7</td>\n",
              "      <td>0.876624</td>\n",
              "      <td>1.668409</td>\n",
              "      <td>0.520833</td>\n",
              "      <td>00:05</td>\n",
              "    </tr>\n",
              "    <tr>\n",
              "      <td>8</td>\n",
              "      <td>0.885774</td>\n",
              "      <td>1.748735</td>\n",
              "      <td>0.541667</td>\n",
              "      <td>00:05</td>\n",
              "    </tr>\n",
              "    <tr>\n",
              "      <td>9</td>\n",
              "      <td>0.875962</td>\n",
              "      <td>1.710351</td>\n",
              "      <td>0.500000</td>\n",
              "      <td>00:05</td>\n",
              "    </tr>\n",
              "    <tr>\n",
              "      <td>10</td>\n",
              "      <td>0.877992</td>\n",
              "      <td>1.661808</td>\n",
              "      <td>0.479167</td>\n",
              "      <td>00:05</td>\n",
              "    </tr>\n",
              "    <tr>\n",
              "      <td>11</td>\n",
              "      <td>0.866899</td>\n",
              "      <td>1.581504</td>\n",
              "      <td>0.520833</td>\n",
              "      <td>00:05</td>\n",
              "    </tr>\n",
              "    <tr>\n",
              "      <td>12</td>\n",
              "      <td>0.883009</td>\n",
              "      <td>1.572621</td>\n",
              "      <td>0.541667</td>\n",
              "      <td>00:05</td>\n",
              "    </tr>\n",
              "    <tr>\n",
              "      <td>13</td>\n",
              "      <td>0.868367</td>\n",
              "      <td>1.571004</td>\n",
              "      <td>0.520833</td>\n",
              "      <td>00:05</td>\n",
              "    </tr>\n",
              "    <tr>\n",
              "      <td>14</td>\n",
              "      <td>0.871140</td>\n",
              "      <td>1.618092</td>\n",
              "      <td>0.520833</td>\n",
              "      <td>00:05</td>\n",
              "    </tr>\n",
              "    <tr>\n",
              "      <td>15</td>\n",
              "      <td>0.851930</td>\n",
              "      <td>1.627983</td>\n",
              "      <td>0.500000</td>\n",
              "      <td>00:05</td>\n",
              "    </tr>\n",
              "  </tbody>\n",
              "</table>"
            ],
            "text/plain": [
              "<IPython.core.display.HTML object>"
            ]
          },
          "metadata": {
            "tags": []
          }
        }
      ]
    },
    {
      "cell_type": "code",
      "metadata": {
        "id": "67iKejMxtWOH",
        "colab_type": "code",
        "outputId": "51b33f1d-7a11-46dc-c950-75e75f649049",
        "colab": {
          "base_uri": "https://localhost:8080/",
          "height": 34
        }
      },
      "source": [
        "predict(test,learn)"
      ],
      "execution_count": 69,
      "outputs": [
        {
          "output_type": "stream",
          "text": [
            "(27, 17, 0.6296296296296297)\n"
          ],
          "name": "stdout"
        }
      ]
    },
    {
      "cell_type": "code",
      "metadata": {
        "id": "2bmW4f14t3JB",
        "colab_type": "code",
        "outputId": "c89d73fa-bde2-42b0-fcb1-194c931e18e3",
        "colab": {
          "base_uri": "https://localhost:8080/",
          "height": 958
        }
      },
      "source": [
        "learn.fit_one_cycle(32, slice(5e-3/(2.6**4),5e-3), moms=(0.8,0.7))"
      ],
      "execution_count": 70,
      "outputs": [
        {
          "output_type": "display_data",
          "data": {
            "text/html": [
              "<table border=\"1\" class=\"dataframe\">\n",
              "  <thead>\n",
              "    <tr style=\"text-align: left;\">\n",
              "      <th>epoch</th>\n",
              "      <th>train_loss</th>\n",
              "      <th>valid_loss</th>\n",
              "      <th>accuracy</th>\n",
              "      <th>time</th>\n",
              "    </tr>\n",
              "  </thead>\n",
              "  <tbody>\n",
              "    <tr>\n",
              "      <td>0</td>\n",
              "      <td>0.832689</td>\n",
              "      <td>1.616619</td>\n",
              "      <td>0.520833</td>\n",
              "      <td>00:05</td>\n",
              "    </tr>\n",
              "    <tr>\n",
              "      <td>1</td>\n",
              "      <td>0.827950</td>\n",
              "      <td>1.625470</td>\n",
              "      <td>0.520833</td>\n",
              "      <td>00:05</td>\n",
              "    </tr>\n",
              "    <tr>\n",
              "      <td>2</td>\n",
              "      <td>0.811581</td>\n",
              "      <td>1.602315</td>\n",
              "      <td>0.520833</td>\n",
              "      <td>00:05</td>\n",
              "    </tr>\n",
              "    <tr>\n",
              "      <td>3</td>\n",
              "      <td>0.829169</td>\n",
              "      <td>1.585354</td>\n",
              "      <td>0.541667</td>\n",
              "      <td>00:05</td>\n",
              "    </tr>\n",
              "    <tr>\n",
              "      <td>4</td>\n",
              "      <td>0.829078</td>\n",
              "      <td>1.612017</td>\n",
              "      <td>0.520833</td>\n",
              "      <td>00:05</td>\n",
              "    </tr>\n",
              "    <tr>\n",
              "      <td>5</td>\n",
              "      <td>0.842934</td>\n",
              "      <td>1.572385</td>\n",
              "      <td>0.562500</td>\n",
              "      <td>00:05</td>\n",
              "    </tr>\n",
              "    <tr>\n",
              "      <td>6</td>\n",
              "      <td>0.844970</td>\n",
              "      <td>1.584670</td>\n",
              "      <td>0.541667</td>\n",
              "      <td>00:05</td>\n",
              "    </tr>\n",
              "    <tr>\n",
              "      <td>7</td>\n",
              "      <td>0.853627</td>\n",
              "      <td>1.543341</td>\n",
              "      <td>0.541667</td>\n",
              "      <td>00:05</td>\n",
              "    </tr>\n",
              "    <tr>\n",
              "      <td>8</td>\n",
              "      <td>0.866483</td>\n",
              "      <td>1.536057</td>\n",
              "      <td>0.520833</td>\n",
              "      <td>00:05</td>\n",
              "    </tr>\n",
              "    <tr>\n",
              "      <td>9</td>\n",
              "      <td>0.863195</td>\n",
              "      <td>1.525325</td>\n",
              "      <td>0.520833</td>\n",
              "      <td>00:05</td>\n",
              "    </tr>\n",
              "    <tr>\n",
              "      <td>10</td>\n",
              "      <td>0.854990</td>\n",
              "      <td>1.568646</td>\n",
              "      <td>0.541667</td>\n",
              "      <td>00:05</td>\n",
              "    </tr>\n",
              "    <tr>\n",
              "      <td>11</td>\n",
              "      <td>0.853394</td>\n",
              "      <td>1.539975</td>\n",
              "      <td>0.520833</td>\n",
              "      <td>00:05</td>\n",
              "    </tr>\n",
              "    <tr>\n",
              "      <td>12</td>\n",
              "      <td>0.842185</td>\n",
              "      <td>1.529801</td>\n",
              "      <td>0.541667</td>\n",
              "      <td>00:05</td>\n",
              "    </tr>\n",
              "    <tr>\n",
              "      <td>13</td>\n",
              "      <td>0.838336</td>\n",
              "      <td>1.544908</td>\n",
              "      <td>0.562500</td>\n",
              "      <td>00:05</td>\n",
              "    </tr>\n",
              "    <tr>\n",
              "      <td>14</td>\n",
              "      <td>0.829539</td>\n",
              "      <td>1.521673</td>\n",
              "      <td>0.562500</td>\n",
              "      <td>00:05</td>\n",
              "    </tr>\n",
              "    <tr>\n",
              "      <td>15</td>\n",
              "      <td>0.822797</td>\n",
              "      <td>1.541627</td>\n",
              "      <td>0.520833</td>\n",
              "      <td>00:05</td>\n",
              "    </tr>\n",
              "    <tr>\n",
              "      <td>16</td>\n",
              "      <td>0.820270</td>\n",
              "      <td>1.529994</td>\n",
              "      <td>0.520833</td>\n",
              "      <td>00:05</td>\n",
              "    </tr>\n",
              "    <tr>\n",
              "      <td>17</td>\n",
              "      <td>0.808806</td>\n",
              "      <td>1.526842</td>\n",
              "      <td>0.541667</td>\n",
              "      <td>00:05</td>\n",
              "    </tr>\n",
              "    <tr>\n",
              "      <td>18</td>\n",
              "      <td>0.798173</td>\n",
              "      <td>1.505729</td>\n",
              "      <td>0.541667</td>\n",
              "      <td>00:05</td>\n",
              "    </tr>\n",
              "    <tr>\n",
              "      <td>19</td>\n",
              "      <td>0.791328</td>\n",
              "      <td>1.403568</td>\n",
              "      <td>0.541667</td>\n",
              "      <td>00:05</td>\n",
              "    </tr>\n",
              "    <tr>\n",
              "      <td>20</td>\n",
              "      <td>0.775606</td>\n",
              "      <td>1.396898</td>\n",
              "      <td>0.541667</td>\n",
              "      <td>00:05</td>\n",
              "    </tr>\n",
              "    <tr>\n",
              "      <td>21</td>\n",
              "      <td>0.766841</td>\n",
              "      <td>1.407956</td>\n",
              "      <td>0.541667</td>\n",
              "      <td>00:05</td>\n",
              "    </tr>\n",
              "    <tr>\n",
              "      <td>22</td>\n",
              "      <td>0.758422</td>\n",
              "      <td>1.444003</td>\n",
              "      <td>0.541667</td>\n",
              "      <td>00:05</td>\n",
              "    </tr>\n",
              "    <tr>\n",
              "      <td>23</td>\n",
              "      <td>0.752375</td>\n",
              "      <td>1.465145</td>\n",
              "      <td>0.541667</td>\n",
              "      <td>00:05</td>\n",
              "    </tr>\n",
              "    <tr>\n",
              "      <td>24</td>\n",
              "      <td>0.740599</td>\n",
              "      <td>1.487687</td>\n",
              "      <td>0.520833</td>\n",
              "      <td>00:05</td>\n",
              "    </tr>\n",
              "    <tr>\n",
              "      <td>25</td>\n",
              "      <td>0.741937</td>\n",
              "      <td>1.421451</td>\n",
              "      <td>0.541667</td>\n",
              "      <td>00:05</td>\n",
              "    </tr>\n",
              "    <tr>\n",
              "      <td>26</td>\n",
              "      <td>0.743734</td>\n",
              "      <td>1.401538</td>\n",
              "      <td>0.541667</td>\n",
              "      <td>00:05</td>\n",
              "    </tr>\n",
              "    <tr>\n",
              "      <td>27</td>\n",
              "      <td>0.743147</td>\n",
              "      <td>1.364208</td>\n",
              "      <td>0.541667</td>\n",
              "      <td>00:05</td>\n",
              "    </tr>\n",
              "    <tr>\n",
              "      <td>28</td>\n",
              "      <td>0.734462</td>\n",
              "      <td>1.392090</td>\n",
              "      <td>0.541667</td>\n",
              "      <td>00:05</td>\n",
              "    </tr>\n",
              "    <tr>\n",
              "      <td>29</td>\n",
              "      <td>0.729642</td>\n",
              "      <td>1.404230</td>\n",
              "      <td>0.541667</td>\n",
              "      <td>00:05</td>\n",
              "    </tr>\n",
              "    <tr>\n",
              "      <td>30</td>\n",
              "      <td>0.719206</td>\n",
              "      <td>1.391253</td>\n",
              "      <td>0.541667</td>\n",
              "      <td>00:05</td>\n",
              "    </tr>\n",
              "    <tr>\n",
              "      <td>31</td>\n",
              "      <td>0.713425</td>\n",
              "      <td>1.414783</td>\n",
              "      <td>0.541667</td>\n",
              "      <td>00:05</td>\n",
              "    </tr>\n",
              "  </tbody>\n",
              "</table>"
            ],
            "text/plain": [
              "<IPython.core.display.HTML object>"
            ]
          },
          "metadata": {
            "tags": []
          }
        }
      ]
    },
    {
      "cell_type": "code",
      "metadata": {
        "id": "Y0_2aQyat3V8",
        "colab_type": "code",
        "outputId": "e61d7aed-67b6-4d9e-be83-8d02350ada1a",
        "colab": {
          "base_uri": "https://localhost:8080/",
          "height": 34
        }
      },
      "source": [
        "predict(test,learn)"
      ],
      "execution_count": 71,
      "outputs": [
        {
          "output_type": "stream",
          "text": [
            "(27, 19, 0.7037037037037037)\n"
          ],
          "name": "stdout"
        }
      ]
    },
    {
      "cell_type": "code",
      "metadata": {
        "id": "5weh69zluwI0",
        "colab_type": "code",
        "outputId": "95c36798-7fd7-4458-b178-ad452ba5484d",
        "colab": {
          "base_uri": "https://localhost:8080/",
          "height": 958
        }
      },
      "source": [
        "learn.fit_one_cycle(32, slice(5e-3/(2.6**4),5e-3), moms=(0.8,0.7))"
      ],
      "execution_count": 72,
      "outputs": [
        {
          "output_type": "display_data",
          "data": {
            "text/html": [
              "<table border=\"1\" class=\"dataframe\">\n",
              "  <thead>\n",
              "    <tr style=\"text-align: left;\">\n",
              "      <th>epoch</th>\n",
              "      <th>train_loss</th>\n",
              "      <th>valid_loss</th>\n",
              "      <th>accuracy</th>\n",
              "      <th>time</th>\n",
              "    </tr>\n",
              "  </thead>\n",
              "  <tbody>\n",
              "    <tr>\n",
              "      <td>0</td>\n",
              "      <td>0.621921</td>\n",
              "      <td>1.388497</td>\n",
              "      <td>0.541667</td>\n",
              "      <td>00:05</td>\n",
              "    </tr>\n",
              "    <tr>\n",
              "      <td>1</td>\n",
              "      <td>0.673538</td>\n",
              "      <td>1.413609</td>\n",
              "      <td>0.541667</td>\n",
              "      <td>00:05</td>\n",
              "    </tr>\n",
              "    <tr>\n",
              "      <td>2</td>\n",
              "      <td>0.681808</td>\n",
              "      <td>1.417962</td>\n",
              "      <td>0.541667</td>\n",
              "      <td>00:05</td>\n",
              "    </tr>\n",
              "    <tr>\n",
              "      <td>3</td>\n",
              "      <td>0.709324</td>\n",
              "      <td>1.386613</td>\n",
              "      <td>0.541667</td>\n",
              "      <td>00:05</td>\n",
              "    </tr>\n",
              "    <tr>\n",
              "      <td>4</td>\n",
              "      <td>0.735359</td>\n",
              "      <td>1.371280</td>\n",
              "      <td>0.562500</td>\n",
              "      <td>00:05</td>\n",
              "    </tr>\n",
              "    <tr>\n",
              "      <td>5</td>\n",
              "      <td>0.711844</td>\n",
              "      <td>1.363018</td>\n",
              "      <td>0.541667</td>\n",
              "      <td>00:05</td>\n",
              "    </tr>\n",
              "    <tr>\n",
              "      <td>6</td>\n",
              "      <td>0.689679</td>\n",
              "      <td>1.383020</td>\n",
              "      <td>0.541667</td>\n",
              "      <td>00:05</td>\n",
              "    </tr>\n",
              "    <tr>\n",
              "      <td>7</td>\n",
              "      <td>0.703752</td>\n",
              "      <td>1.350107</td>\n",
              "      <td>0.541667</td>\n",
              "      <td>00:05</td>\n",
              "    </tr>\n",
              "    <tr>\n",
              "      <td>8</td>\n",
              "      <td>0.717334</td>\n",
              "      <td>1.391523</td>\n",
              "      <td>0.500000</td>\n",
              "      <td>00:05</td>\n",
              "    </tr>\n",
              "    <tr>\n",
              "      <td>9</td>\n",
              "      <td>0.716645</td>\n",
              "      <td>1.364831</td>\n",
              "      <td>0.562500</td>\n",
              "      <td>00:05</td>\n",
              "    </tr>\n",
              "    <tr>\n",
              "      <td>10</td>\n",
              "      <td>0.702528</td>\n",
              "      <td>1.266761</td>\n",
              "      <td>0.583333</td>\n",
              "      <td>00:05</td>\n",
              "    </tr>\n",
              "    <tr>\n",
              "      <td>11</td>\n",
              "      <td>0.701352</td>\n",
              "      <td>1.300227</td>\n",
              "      <td>0.562500</td>\n",
              "      <td>00:05</td>\n",
              "    </tr>\n",
              "    <tr>\n",
              "      <td>12</td>\n",
              "      <td>0.693825</td>\n",
              "      <td>1.362913</td>\n",
              "      <td>0.604167</td>\n",
              "      <td>00:05</td>\n",
              "    </tr>\n",
              "    <tr>\n",
              "      <td>13</td>\n",
              "      <td>0.687784</td>\n",
              "      <td>1.389631</td>\n",
              "      <td>0.604167</td>\n",
              "      <td>00:05</td>\n",
              "    </tr>\n",
              "    <tr>\n",
              "      <td>14</td>\n",
              "      <td>0.679222</td>\n",
              "      <td>1.375978</td>\n",
              "      <td>0.583333</td>\n",
              "      <td>00:05</td>\n",
              "    </tr>\n",
              "    <tr>\n",
              "      <td>15</td>\n",
              "      <td>0.684963</td>\n",
              "      <td>1.339960</td>\n",
              "      <td>0.562500</td>\n",
              "      <td>00:05</td>\n",
              "    </tr>\n",
              "    <tr>\n",
              "      <td>16</td>\n",
              "      <td>0.678703</td>\n",
              "      <td>1.447102</td>\n",
              "      <td>0.541667</td>\n",
              "      <td>00:05</td>\n",
              "    </tr>\n",
              "    <tr>\n",
              "      <td>17</td>\n",
              "      <td>0.674907</td>\n",
              "      <td>1.479326</td>\n",
              "      <td>0.541667</td>\n",
              "      <td>00:05</td>\n",
              "    </tr>\n",
              "    <tr>\n",
              "      <td>18</td>\n",
              "      <td>0.677594</td>\n",
              "      <td>1.497677</td>\n",
              "      <td>0.562500</td>\n",
              "      <td>00:05</td>\n",
              "    </tr>\n",
              "    <tr>\n",
              "      <td>19</td>\n",
              "      <td>0.670851</td>\n",
              "      <td>1.471658</td>\n",
              "      <td>0.583333</td>\n",
              "      <td>00:05</td>\n",
              "    </tr>\n",
              "    <tr>\n",
              "      <td>20</td>\n",
              "      <td>0.671965</td>\n",
              "      <td>1.385574</td>\n",
              "      <td>0.604167</td>\n",
              "      <td>00:05</td>\n",
              "    </tr>\n",
              "    <tr>\n",
              "      <td>21</td>\n",
              "      <td>0.673178</td>\n",
              "      <td>1.372132</td>\n",
              "      <td>0.604167</td>\n",
              "      <td>00:05</td>\n",
              "    </tr>\n",
              "    <tr>\n",
              "      <td>22</td>\n",
              "      <td>0.668606</td>\n",
              "      <td>1.380798</td>\n",
              "      <td>0.583333</td>\n",
              "      <td>00:05</td>\n",
              "    </tr>\n",
              "    <tr>\n",
              "      <td>23</td>\n",
              "      <td>0.664410</td>\n",
              "      <td>1.403767</td>\n",
              "      <td>0.604167</td>\n",
              "      <td>00:05</td>\n",
              "    </tr>\n",
              "    <tr>\n",
              "      <td>24</td>\n",
              "      <td>0.647750</td>\n",
              "      <td>1.389499</td>\n",
              "      <td>0.604167</td>\n",
              "      <td>00:05</td>\n",
              "    </tr>\n",
              "    <tr>\n",
              "      <td>25</td>\n",
              "      <td>0.636558</td>\n",
              "      <td>1.378354</td>\n",
              "      <td>0.625000</td>\n",
              "      <td>00:05</td>\n",
              "    </tr>\n",
              "    <tr>\n",
              "      <td>26</td>\n",
              "      <td>0.627042</td>\n",
              "      <td>1.344379</td>\n",
              "      <td>0.604167</td>\n",
              "      <td>00:05</td>\n",
              "    </tr>\n",
              "    <tr>\n",
              "      <td>27</td>\n",
              "      <td>0.622790</td>\n",
              "      <td>1.349521</td>\n",
              "      <td>0.625000</td>\n",
              "      <td>00:05</td>\n",
              "    </tr>\n",
              "    <tr>\n",
              "      <td>28</td>\n",
              "      <td>0.620340</td>\n",
              "      <td>1.328363</td>\n",
              "      <td>0.625000</td>\n",
              "      <td>00:05</td>\n",
              "    </tr>\n",
              "    <tr>\n",
              "      <td>29</td>\n",
              "      <td>0.623815</td>\n",
              "      <td>1.320990</td>\n",
              "      <td>0.604167</td>\n",
              "      <td>00:05</td>\n",
              "    </tr>\n",
              "    <tr>\n",
              "      <td>30</td>\n",
              "      <td>0.623251</td>\n",
              "      <td>1.313762</td>\n",
              "      <td>0.604167</td>\n",
              "      <td>00:05</td>\n",
              "    </tr>\n",
              "    <tr>\n",
              "      <td>31</td>\n",
              "      <td>0.636853</td>\n",
              "      <td>1.307901</td>\n",
              "      <td>0.625000</td>\n",
              "      <td>00:05</td>\n",
              "    </tr>\n",
              "  </tbody>\n",
              "</table>"
            ],
            "text/plain": [
              "<IPython.core.display.HTML object>"
            ]
          },
          "metadata": {
            "tags": []
          }
        }
      ]
    },
    {
      "cell_type": "code",
      "metadata": {
        "id": "EP_wBLlhuwVW",
        "colab_type": "code",
        "colab": {
          "base_uri": "https://localhost:8080/",
          "height": 34
        },
        "outputId": "a635545a-54bd-443b-c7e9-5a7faf2895c1"
      },
      "source": [
        "predict(test,learn)"
      ],
      "execution_count": 73,
      "outputs": [
        {
          "output_type": "stream",
          "text": [
            "(27, 21, 0.7777777777777778)\n"
          ],
          "name": "stdout"
        }
      ]
    },
    {
      "cell_type": "code",
      "metadata": {
        "id": "u75jzNXaBIQE",
        "colab_type": "code",
        "colab": {
          "base_uri": "https://localhost:8080/",
          "height": 556
        },
        "outputId": "857930ce-f127-49e0-b3b0-9fb0e73ee9e9"
      },
      "source": [
        "learn.model"
      ],
      "execution_count": 76,
      "outputs": [
        {
          "output_type": "execute_result",
          "data": {
            "text/plain": [
              "SequentialRNN(\n",
              "  (0): MultiBatchEncoder(\n",
              "    (module): AWD_LSTM(\n",
              "      (encoder): Embedding(48, 400, padding_idx=1)\n",
              "      (encoder_dp): EmbeddingDropout(\n",
              "        (emb): Embedding(48, 400, padding_idx=1)\n",
              "      )\n",
              "      (rnns): ModuleList(\n",
              "        (0): WeightDropout(\n",
              "          (module): LSTM(400, 400, batch_first=True)\n",
              "        )\n",
              "      )\n",
              "      (input_dp): RNNDropout()\n",
              "      (hidden_dps): ModuleList(\n",
              "        (0): RNNDropout()\n",
              "      )\n",
              "    )\n",
              "  )\n",
              "  (1): PoolingLinearClassifier(\n",
              "    (layers): Sequential(\n",
              "      (0): BatchNorm1d(1200, eps=1e-05, momentum=0.1, affine=True, track_running_stats=True)\n",
              "      (1): Dropout(p=0.8)\n",
              "      (2): Linear(in_features=1200, out_features=50, bias=True)\n",
              "      (3): ReLU(inplace)\n",
              "      (4): BatchNorm1d(50, eps=1e-05, momentum=0.1, affine=True, track_running_stats=True)\n",
              "      (5): Dropout(p=0.1)\n",
              "      (6): Linear(in_features=50, out_features=30, bias=True)\n",
              "    )\n",
              "  )\n",
              ")"
            ]
          },
          "metadata": {
            "tags": []
          },
          "execution_count": 76
        }
      ]
    }
  ]
}