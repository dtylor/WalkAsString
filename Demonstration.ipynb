{
 "cells": [
  {
   "cell_type": "markdown",
   "metadata": {},
   "source": [
    "# Demonstration\n",
    "Here we demonstrate how these functions can simlify the process of converting a graph into a format amenable to language models."
   ]
  },
  {
   "cell_type": "markdown",
   "metadata": {},
   "source": [
    "## Loading Data\n",
    "Datasets in the [graph kernel](https://ls11-www.cs.tu-dortmund.de/staff/morris/graphkerneldatasets#file_format) format can be loaded using the `load_graph_kernel_graph` utility function. \n",
    "\n",
    "Coming versions will support `node_attributes.txt`, `edge_attributes.txt`, and `graph_attributes.txt`"
   ]
  },
  {
   "cell_type": "code",
   "execution_count": 1,
   "metadata": {},
   "outputs": [],
   "source": [
    "from utilities import load_graph_kernel_graph, load_graph_kernel_labels\n",
    "\n",
    "mappings = {\n",
    "    \"node_labels\": {\n",
    "        0: \"C\",\n",
    "        1: \"N\",\n",
    "        2: \"O\",\n",
    "        3: \"F\",\n",
    "        4: \"I\",\n",
    "        5: \"Cl\",\n",
    "        6: \"Br\"\n",
    "    },\n",
    "    \"edge_labels\": {\n",
    "        0: \"e_zero\",\n",
    "        1: \"e_one\",\n",
    "        2: \"e_two\",\n",
    "        3: \"e_three\"\n",
    "    }\n",
    "}\n",
    "\n",
    "G = load_graph_kernel_graph(\n",
    "    '../datasets/MUTAG/', mappings=mappings)\n",
    "\n",
    "y = load_graph_kernel_labels('../datasets/MUTAG/')"
   ]
  },
  {
   "cell_type": "markdown",
   "metadata": {},
   "source": [
    "## Embeddings\n",
    "We can call `get_structural_signatures` on a graph to learn structural signatures, and assign them as node attributes."
   ]
  },
  {
   "cell_type": "code",
   "execution_count": 2,
   "metadata": {},
   "outputs": [],
   "source": [
    "from module import get_structural_signatures, walk_as_string"
   ]
  },
  {
   "cell_type": "code",
   "execution_count": 3,
   "metadata": {},
   "outputs": [],
   "source": [
    "G, pca, kmeans = get_structural_signatures(networkXGraph=G)"
   ]
  },
  {
   "cell_type": "code",
   "execution_count": 4,
   "metadata": {},
   "outputs": [
    {
     "data": {
      "text/plain": [
       "<networkx.classes.graph.Graph at 0x10f6fef98>"
      ]
     },
     "execution_count": 4,
     "metadata": {},
     "output_type": "execute_result"
    }
   ],
   "source": [
    "G"
   ]
  },
  {
   "cell_type": "markdown",
   "metadata": {},
   "source": [
    "## Random Walks\n",
    "Now that we've supplemented the graph with structural attributes, we can generate random walks."
   ]
  },
  {
   "cell_type": "code",
   "execution_count": 5,
   "metadata": {},
   "outputs": [
    {
     "name": "stdout",
     "output_type": "stream",
     "text": [
      "Walk iteration:\n",
      "('1', '/', '20')\n",
      "('2', '/', '20')\n",
      "('3', '/', '20')\n",
      "('4', '/', '20')\n",
      "('5', '/', '20')\n",
      "('6', '/', '20')\n",
      "('7', '/', '20')\n",
      "('8', '/', '20')\n",
      "('9', '/', '20')\n",
      "('10', '/', '20')\n",
      "('11', '/', '20')\n",
      "('12', '/', '20')\n",
      "('13', '/', '20')\n",
      "('14', '/', '20')\n",
      "('15', '/', '20')\n",
      "('16', '/', '20')\n",
      "('17', '/', '20')\n",
      "('18', '/', '20')\n",
      "('19', '/', '20')\n",
      "('20', '/', '20')\n"
     ]
    }
   ],
   "source": [
    "walks = walk_as_string(networkXGraph=G, componentLabels=y)"
   ]
  },
  {
   "cell_type": "markdown",
   "metadata": {},
   "source": [
    "Note that the remaining numbers are the labels for the learned structures; working on a better way to represent this."
   ]
  },
  {
   "cell_type": "code",
   "execution_count": 12,
   "metadata": {},
   "outputs": [
    {
     "data": {
      "text/plain": [
       "'3 C e_zero 3 C e_zero 3 C e_zero 2 C e_zero 3 C e_zero 2 C e_zero 3 C e_zero 2 C e_zero 2 C e_zero 2 C e_zero 2 C e_zero 2 C e_zero 1 C e_zero 2 C e_zero 1 C e_zero 2 C e_zero 2 C e_zero 2 C e_zero 1 C e_zero 2 C e_zero 2 C e_zero 2 C e_zero 1 C e_zero 1 C e_zero 1 C e_zero 2 C e_zero 2 C e_zero 1 C e_one 3 N e_one 0 O'"
      ]
     },
     "execution_count": 12,
     "metadata": {},
     "output_type": "execute_result"
    }
   ],
   "source": [
    "walks.walk[0]"
   ]
  }
 ],
 "metadata": {
  "kernelspec": {
   "display_name": "Python 3",
   "language": "python",
   "name": "python3"
  },
  "language_info": {
   "codemirror_mode": {
    "name": "ipython",
    "version": 3
   },
   "file_extension": ".py",
   "mimetype": "text/x-python",
   "name": "python",
   "nbconvert_exporter": "python",
   "pygments_lexer": "ipython3",
   "version": "3.6.8"
  }
 },
 "nbformat": 4,
 "nbformat_minor": 2
}
