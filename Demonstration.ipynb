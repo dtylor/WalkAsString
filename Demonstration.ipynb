{
 "cells": [
  {
   "cell_type": "markdown",
   "metadata": {},
   "source": [
    "# Demonstration\n",
    "Here we demonstrate how these functions can simlify the process of converting a graph into a format amenable to language models."
   ]
  },
  {
   "cell_type": "markdown",
   "metadata": {},
   "source": [
    "## Loading Data\n",
    "Datasets in the [graph kernel](https://ls11-www.cs.tu-dortmund.de/staff/morris/graphkerneldatasets#file_format) format can be loaded using the `load_graph_kernel_graph` utility function. \n",
    "\n",
    "Coming versions will support `node_attributes.txt`, `edge_attributes.txt`, and `graph_attributes.txt`"
   ]
  },
  {
   "cell_type": "code",
   "execution_count": 4,
   "metadata": {},
   "outputs": [
    {
     "name": "stdout",
     "output_type": "stream",
     "text": [
      "Added node_labels[0]; current_vocab_size = 8\n",
      "Added edge_labels; current_vocab_size = 13\n"
     ]
    }
   ],
   "source": [
    "from utilities import load_graph_kernel_graph, load_graph_kernel_labels\n",
    "\n",
    "mappings = {\n",
    "    \"node_labels\": {\n",
    "        0: \"C\",\n",
    "        1: \"N\",\n",
    "        2: \"O\",\n",
    "        3: \"F\",\n",
    "        4: \"I\",\n",
    "        5: \"Cl\",\n",
    "        6: \"Br\"\n",
    "    },\n",
    "    \"edge_labels\": {\n",
    "        0: \"aromatic\",\n",
    "        1: \"single\",\n",
    "        2: \"double\",\n",
    "        3: \"triple\"\n",
    "    }\n",
    "}\n",
    "\n",
    "a = load_graph_kernel_graph(\n",
    "    '../datasets/MUTAG/', mappings=mappings)\n",
    "\n",
    "y = load_graph_kernel_labels('../datasets/MUTAG/')"
   ]
  },
  {
   "cell_type": "markdown",
   "metadata": {},
   "source": [
    "## Embeddings\n",
    "We can call `get_structural_signatures` on a graph to learn structural signatures, and assign them as node attributes."
   ]
  },
  {
   "cell_type": "code",
   "execution_count": 2,
   "metadata": {
    "collapsed": true
   },
   "outputs": [],
   "source": [
    "from module import get_structural_signatures, walk_as_string"
   ]
  },
  {
   "cell_type": "code",
   "execution_count": 6,
   "metadata": {
    "collapsed": true
   },
   "outputs": [],
   "source": [
    "G, pca, kmeans = get_structural_signatures(networkXGraph=a['G'], vocab_size=a['vocab_size'])"
   ]
  },
  {
   "cell_type": "code",
   "execution_count": 7,
   "metadata": {},
   "outputs": [
    {
     "data": {
      "text/plain": [
       "<networkx.classes.graph.Graph at 0x1180462b0>"
      ]
     },
     "execution_count": 7,
     "metadata": {},
     "output_type": "execute_result"
    }
   ],
   "source": [
    "G"
   ]
  },
  {
   "cell_type": "markdown",
   "metadata": {},
   "source": [
    "## Random Walks\n",
    "Now that we've supplemented the graph with structural attributes, we can generate random walks."
   ]
  },
  {
   "cell_type": "code",
   "execution_count": 8,
   "metadata": {},
   "outputs": [
    {
     "name": "stdout",
     "output_type": "stream",
     "text": [
      "Walk iteration:\n",
      "('1', '/', '20')\n",
      "('2', '/', '20')\n",
      "('3', '/', '20')\n",
      "('4', '/', '20')\n",
      "('5', '/', '20')\n",
      "('6', '/', '20')\n",
      "('7', '/', '20')\n",
      "('8', '/', '20')\n",
      "('9', '/', '20')\n",
      "('10', '/', '20')\n",
      "('11', '/', '20')\n",
      "('12', '/', '20')\n",
      "('13', '/', '20')\n",
      "('14', '/', '20')\n",
      "('15', '/', '20')\n",
      "('16', '/', '20')\n",
      "('17', '/', '20')\n",
      "('18', '/', '20')\n",
      "('19', '/', '20')\n",
      "('20', '/', '20')\n",
      "[ 1  2  3  2  3  4 10  9  8  9 14  9 10  4  3  2  1  6  5  7  8  7  5  4\n",
      "  3  4 10 11 12 13]\n",
      "[ 1  2  3  2  1  6  1  6  5  6  1  6  5  4 10  4  3  2  1  6  5  7  8  9\n",
      " 14  9  8  9 14 13]\n",
      "[ 1  6  5  7  8  9 10  4 10 11 10 11 10 11 10  9  8  7  8  7  5  7  8  7\n",
      "  8  7  8  7  5  6]\n"
     ]
    }
   ],
   "source": [
    "walks = walk_as_string(networkXGraph=G, componentLabels=y)"
   ]
  },
  {
   "cell_type": "markdown",
   "metadata": {},
   "source": [
    "Note that the remaining numbers are the labels for the learned structures; working on a better way to represent this."
   ]
  },
  {
   "cell_type": "code",
   "execution_count": 10,
   "metadata": {},
   "outputs": [
    {
     "data": {
      "text/plain": [
       "'0 14 8 0 15 9 0 15 9 0 15 8 0 14 8 0 14 8 0 14 8 0 14 8 0 14 8 0 14 8 0 14 8 0 14 8 0 14 8 0 14 8 0 14 8 0 14 8 0 14 8 0 14 8 0 14 8 0 15 9 0 15 8 0 16 8 0 15 9 0 15 8 0 14 8 0 14 8 0 14 8 0 14 8 0 14 8 0 14'"
      ]
     },
     "execution_count": 10,
     "metadata": {},
     "output_type": "execute_result"
    }
   ],
   "source": [
    "walks.walk[2256]"
   ]
  }
 ],
 "metadata": {
  "kernelspec": {
   "display_name": "Python 3",
   "language": "python",
   "name": "python3"
  },
  "language_info": {
   "codemirror_mode": {
    "name": "ipython",
    "version": 3
   },
   "file_extension": ".py",
   "mimetype": "text/x-python",
   "name": "python",
   "nbconvert_exporter": "python",
   "pygments_lexer": "ipython3",
   "version": "3.6.8"
  }
 },
 "nbformat": 4,
 "nbformat_minor": 2
}
