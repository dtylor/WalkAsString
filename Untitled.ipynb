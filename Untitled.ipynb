{
 "cells": [
  {
   "cell_type": "code",
   "execution_count": 1,
   "metadata": {
    "collapsed": true
   },
   "outputs": [],
   "source": [
    "import networkx as nx\n",
    "import pandas as pd\n",
    "import numpy as np"
   ]
  },
  {
   "cell_type": "markdown",
   "metadata": {},
   "source": [
    "# Independent Variables: X = G = (V, E)"
   ]
  },
  {
   "cell_type": "code",
   "execution_count": 2,
   "metadata": {
    "collapsed": true
   },
   "outputs": [],
   "source": [
    "# Adjacency\n",
    "path_to_files = \"../datasets/MUTAG/\"\n",
    "G = nx.read_edgelist(path_to_files + \"MUTAG_A.txt\", delimiter=',', nodetype=int, encoding=\"utf-8\")"
   ]
  },
  {
   "cell_type": "code",
   "execution_count": 3,
   "metadata": {
    "collapsed": true
   },
   "outputs": [],
   "source": [
    "# Component/Graph Indicators\n",
    "components = pd.read_csv(path_to_files + \"MUTAG_graph_indicator.txt\", header=None)\n",
    "components.index += 1\n",
    "components = components.rename(columns={0: \"component\"}).to_dict()['component']\n",
    "\n",
    "nx.set_node_attributes(G=G, values=components, name='component')"
   ]
  },
  {
   "cell_type": "code",
   "execution_count": 4,
   "metadata": {
    "collapsed": true
   },
   "outputs": [],
   "source": [
    "# Node Labels\n",
    "node_labels = pd.read_csv(path_to_files + \"MUTAG_node_labels.txt\", header=None)\n",
    "node_labels.index += 1\n",
    "node_labels = node_labels.rename(columns={0:\"label\"})['label'].map({ \\\n",
    "        0: \"C\", \\\n",
    "        1: \"N\", \\\n",
    "        2: \"O\", \\\n",
    "        3: \"F\", \\\n",
    "        4: \"I\", \\\n",
    "        5: \"Cl\", \\\n",
    "        6: \"Br\" \\\n",
    "                                                         }).to_dict()\n",
    "\n",
    "nx.set_node_attributes(G=G, values=node_labels, name='label')"
   ]
  },
  {
   "cell_type": "code",
   "execution_count": 5,
   "metadata": {
    "collapsed": true
   },
   "outputs": [],
   "source": [
    "# Edge Labels\n",
    "edges = pd.read_csv(path_to_files+\"MUTAG_A.txt\", header=None).rename(columns={0:\"src\", 1:\"dst\"})\n",
    "edge_labels = pd.read_csv(path_to_files+\"MUTAG_edge_labels.txt\", header=None)\n",
    "edges.index += 1; edge_labels.index += 1\n",
    "edges['label'] = edge_labels[0]\n",
    "edges = edges.set_index(['src', 'dst'])\n",
    "edges = edges['label'].apply(lambda x: \"e\"+str(int(x)))\n",
    "\n",
    "nx.set_edge_attributes(G=G, values=edges, name='label')"
   ]
  },
  {
   "cell_type": "code",
   "execution_count": 6,
   "metadata": {
    "collapsed": true
   },
   "outputs": [],
   "source": [
    "nx.set_edge_attributes(G=G, values=1.0, name='weight')"
   ]
  },
  {
   "cell_type": "markdown",
   "metadata": {},
   "source": [
    "# Dependent Variable - *y*"
   ]
  },
  {
   "cell_type": "code",
   "execution_count": 7,
   "metadata": {
    "collapsed": true
   },
   "outputs": [],
   "source": [
    "# Graph Labels (y)\n",
    "graphs = pd.read_csv(path_to_files + \"MUTAG_graph_labels.txt\", header=None)\n",
    "graphs.index += 1\n",
    "graphs = graphs.rename(columns={0: \"graph\"}).to_dict()['graph']"
   ]
  },
  {
   "cell_type": "markdown",
   "metadata": {},
   "source": [
    "# Using WalkAsString"
   ]
  },
  {
   "cell_type": "code",
   "execution_count": null,
   "metadata": {
    "collapsed": true
   },
   "outputs": [],
   "source": [
    "from module import GetStructuralSignatures, WalkAsString"
   ]
  },
  {
   "cell_type": "code",
   "execution_count": null,
   "metadata": {},
   "outputs": [],
   "source": [
    "newGraph = GetStructuralSignatures(networkXGraph=G)"
   ]
  },
  {
   "cell_type": "code",
   "execution_count": null,
   "metadata": {},
   "outputs": [],
   "source": [
    "newGraph"
   ]
  }
 ],
 "metadata": {
  "kernelspec": {
   "display_name": "Python 3",
   "language": "python",
   "name": "python3"
  },
  "language_info": {
   "codemirror_mode": {
    "name": "ipython",
    "version": 3
   },
   "file_extension": ".py",
   "mimetype": "text/x-python",
   "name": "python",
   "nbconvert_exporter": "python",
   "pygments_lexer": "ipython3",
   "version": "3.6.8"
  }
 },
 "nbformat": 4,
 "nbformat_minor": 2
}
