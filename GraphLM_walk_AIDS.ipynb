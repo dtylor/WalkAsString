{
 "cells": [
  {
   "cell_type": "code",
   "execution_count": 1,
   "metadata": {},
   "outputs": [
    {
     "name": "stdout",
     "output_type": "stream",
     "text": [
      "\n",
      "\n",
      "```text\n",
      "=== Software === \n",
      "python        : 3.7.1\n",
      "fastai        : 1.0.42\n",
      "fastprogress  : 0.1.18\n",
      "torch         : 1.0.1\n",
      "nvidia driver : 410.79\n",
      "torch cuda    : 10.0.130 / is available\n",
      "torch cudnn   : 7402 / is enabled\n",
      "\n",
      "=== Hardware === \n",
      "nvidia gpus   : 1\n",
      "torch devices : 1\n",
      "  - gpu0      : 8119MB | Quadro P4000\n",
      "\n",
      "=== Environment === \n",
      "platform      : Linux-4.4.0-142-generic-x86_64-with-debian-stretch-sid\n",
      "distro        : #168-Ubuntu SMP Wed Jan 16 21:00:45 UTC 2019\n",
      "conda env     : fastai\n",
      "python        : /home/paperspace/anaconda3/envs/fastai/bin/python\n",
      "sys.path      : /home/paperspace/fastai/nbs\n",
      "/home/paperspace/anaconda3/envs/fastai/lib/python37.zip\n",
      "/home/paperspace/anaconda3/envs/fastai/lib/python3.7\n",
      "/home/paperspace/anaconda3/envs/fastai/lib/python3.7/lib-dynload\n",
      "\n",
      "/home/paperspace/anaconda3/envs/fastai/lib/python3.7/site-packages\n",
      "/home/paperspace/anaconda3/envs/fastai/lib/python3.7/site-packages/IPython/extensions\n",
      "/home/paperspace/.ipython\n",
      "```\n",
      "\n",
      "Please make sure to include opening/closing ``` when you paste into forums/github to make the reports appear formatted as code sections.\n",
      "\n",
      "Optional package(s) to enhance the diagnostics can be installed with:\n",
      "pip install distro\n",
      "Once installed, re-run this utility to get the additional information\n"
     ]
    }
   ],
   "source": [
    "import fastai\n",
    "import pandas as pd\n",
    "from fastai.utils.show_install import *\n",
    "show_install()"
   ]
  },
  {
   "cell_type": "code",
   "execution_count": 6,
   "metadata": {},
   "outputs": [],
   "source": [
    "#!pip install numpy scipy scikit-learn\n",
    "#!pip install networkx\n",
    "#!pip install seaborn"
   ]
  },
  {
   "cell_type": "code",
   "execution_count": 7,
   "metadata": {},
   "outputs": [],
   "source": [
    "node_mappings = [{\n",
    "        0:       \"C\",\n",
    "        1:       \"O\",\n",
    "        2:       \"N\",\n",
    "        3:       \"Cl\",\n",
    "        4:       \"F\",\n",
    "        5:       \"S\",\n",
    "        6:       \"Se\",\n",
    "        7:       \"P\",\n",
    "        8:       \"Na\",\n",
    "        9:       \"I\",\n",
    "        10:      \"Co\",\n",
    "        11:      \"Br\",\n",
    "        12:      \"Li\",\n",
    "        13:      \"Si\",\n",
    "        14:      \"Mg\",\n",
    "        15:      \"Cu\",\n",
    "        16:      \"As\",\n",
    "        17:      \"B\",\n",
    "        18:      \"Pt\",\n",
    "        19:      \"Ru\",\n",
    "        20:      \"K\",\n",
    "        21:      \"Pd\",\n",
    "        22:      \"Au\",\n",
    "        23:      \"Te\",\n",
    "        24:      \"W\",\n",
    "        25:      \"Rh\",\n",
    "        26:      \"Zn\",\n",
    "        27:      \"Bi\",\n",
    "        28:      \"Pb\",\n",
    "        29:      \"Ge\",\n",
    "        30:      \"Sb\",\n",
    "        31:      \"Sn\",\n",
    "        32:      \"Ga\",\n",
    "        33:      \"Hg\",\n",
    "        34:      \"Ho\",\n",
    "        35:      \"Tl\",\n",
    "        36:      \"Ni\",\n",
    "        37:      \"Tb\"\n",
    "}]\n",
    "\n"
   ]
  },
  {
   "cell_type": "code",
   "execution_count": 8,
   "metadata": {},
   "outputs": [
    {
     "name": "stdout",
     "output_type": "stream",
     "text": [
      "Added node_labels[0]; current_vocab_size = 39\n",
      "Added edge_labels; current_vocab_size = 43\n"
     ]
    },
    {
     "name": "stderr",
     "output_type": "stream",
     "text": [
      "/home/paperspace/anaconda3/envs/fastai/lib/python3.7/site-packages/sklearn/cluster/k_means_.py:971: ConvergenceWarning: Number of distinct clusters (5) found smaller than n_clusters (6). Possibly due to duplicate points in X.\n",
      "  return_n_iter=True)\n"
     ]
    },
    {
     "name": "stdout",
     "output_type": "stream",
     "text": [
      "Added node_attributes[attr_0]; current_vocab_size = 50\n",
      "Added node_attributes[attr_1]; current_vocab_size = 56\n",
      "Added node_attributes[attr_2]; current_vocab_size = 63\n",
      "Added node_attributes[attr_3]; current_vocab_size = 70\n"
     ]
    }
   ],
   "source": [
    "from utilities import load_graph_kernel_graph, load_graph_kernel_labels\n",
    "\n",
    "label_maps = {\"node_labels\": node_mappings}\n",
    "a = load_graph_kernel_graph(\"./AIDS\", mappings =label_maps )\n",
    "y = load_graph_kernel_labels(\"./AIDS\")\n"
   ]
  },
  {
   "cell_type": "code",
   "execution_count": 9,
   "metadata": {},
   "outputs": [],
   "source": [
    "from module import get_structural_signatures, walk_as_string"
   ]
  },
  {
   "cell_type": "code",
   "execution_count": 10,
   "metadata": {},
   "outputs": [
    {
     "name": "stdout",
     "output_type": "stream",
     "text": [
      "Omitting graph 63 with node count: 2 < 4\n",
      "Omitting graph 352 with node count: 2 < 4\n",
      "Omitting graph 464 with node count: 3 < 4\n",
      "Omitting graph 784 with node count: 3 < 4\n",
      "Omitting graph 1798 with node count: 3 < 4\n"
     ]
    }
   ],
   "source": [
    "b = get_structural_signatures(a['G'], a['vocab_size'], params={'num_kmeans_clusters': 6, \"num_pca_components\": 4})"
   ]
  },
  {
   "cell_type": "code",
   "execution_count": 11,
   "metadata": {},
   "outputs": [
    {
     "name": "stdout",
     "output_type": "stream",
     "text": [
      "Walk iteration:\n",
      "('1', '/', '20')\n",
      "('2', '/', '20')\n",
      "('3', '/', '20')\n",
      "('4', '/', '20')\n",
      "('5', '/', '20')\n",
      "('6', '/', '20')\n",
      "('7', '/', '20')\n",
      "('8', '/', '20')\n",
      "('9', '/', '20')\n",
      "('10', '/', '20')\n",
      "('11', '/', '20')\n",
      "('12', '/', '20')\n",
      "('13', '/', '20')\n",
      "('14', '/', '20')\n",
      "('15', '/', '20')\n",
      "('16', '/', '20')\n",
      "('17', '/', '20')\n",
      "('18', '/', '20')\n",
      "('19', '/', '20')\n",
      "('20', '/', '20')\n"
     ]
    },
    {
     "name": "stderr",
     "output_type": "stream",
     "text": [
      "/home/paperspace/fastai/nbs/module.py:132: FutureWarning: Method .as_matrix will be removed in a future version. Use .values instead.\n",
      "  sorted_walks = pd.DataFrame(walks).sort_values(0).as_matrix()\n"
     ]
    },
    {
     "name": "stdout",
     "output_type": "stream",
     "text": [
      "[ 1  2  3  2 12 13 27 13 27 13 28 13 14 15 25 15  3 15 25 24 26 24 26 24 25 24 25 15 25 24]\n",
      "[ 1  6  5  4  7  4  3  4  7  4  7  4  5  6  5 10  9 10  5 10  9 46 47 46 47 46  9 10  5 10]\n",
      "[ 1  6  5  6  5  6  1  6  1  2  1  6  1  2  1  6  5  6  5  6  1  6  1  2 12 13 14 15  3 15]\n"
     ]
    }
   ],
   "source": [
    "walks = walk_as_string(b[0], componentLabels = y, params={'num_walks': 20, 'walk_length': 30})"
   ]
  },
  {
   "cell_type": "code",
   "execution_count": 12,
   "metadata": {},
   "outputs": [
    {
     "data": {
      "text/html": [
       "<div>\n",
       "<style scoped>\n",
       "    .dataframe tbody tr th:only-of-type {\n",
       "        vertical-align: middle;\n",
       "    }\n",
       "\n",
       "    .dataframe tbody tr th {\n",
       "        vertical-align: top;\n",
       "    }\n",
       "\n",
       "    .dataframe thead th {\n",
       "        text-align: right;\n",
       "    }\n",
       "</style>\n",
       "<table border=\"1\" class=\"dataframe\">\n",
       "  <thead>\n",
       "    <tr style=\"text-align: right;\">\n",
       "      <th></th>\n",
       "      <th>walk</th>\n",
       "      <th>label</th>\n",
       "      <th>start_node</th>\n",
       "      <th>component</th>\n",
       "    </tr>\n",
       "  </thead>\n",
       "  <tbody>\n",
       "    <tr>\n",
       "      <th>0</th>\n",
       "      <td>43 58 0 50 65 70 39 43 58 0 50 63 70 40 43 58 ...</td>\n",
       "      <td>0</td>\n",
       "      <td>1</td>\n",
       "      <td>1</td>\n",
       "    </tr>\n",
       "    <tr>\n",
       "      <th>1</th>\n",
       "      <td>43 58 0 50 65 70 40 43 61 0 50 63 74 39 43 61 ...</td>\n",
       "      <td>0</td>\n",
       "      <td>1</td>\n",
       "      <td>1</td>\n",
       "    </tr>\n",
       "    <tr>\n",
       "      <th>2</th>\n",
       "      <td>43 58 0 50 65 70 40 43 61 0 50 63 74 39 43 61 ...</td>\n",
       "      <td>0</td>\n",
       "      <td>1</td>\n",
       "      <td>1</td>\n",
       "    </tr>\n",
       "    <tr>\n",
       "      <th>3</th>\n",
       "      <td>43 58 0 50 65 70 40 43 61 0 50 63 74 39 43 61 ...</td>\n",
       "      <td>0</td>\n",
       "      <td>1</td>\n",
       "      <td>1</td>\n",
       "    </tr>\n",
       "    <tr>\n",
       "      <th>4</th>\n",
       "      <td>43 58 0 50 65 70 40 43 61 0 50 63 74 39 43 61 ...</td>\n",
       "      <td>0</td>\n",
       "      <td>1</td>\n",
       "      <td>1</td>\n",
       "    </tr>\n",
       "  </tbody>\n",
       "</table>\n",
       "</div>"
      ],
      "text/plain": [
       "                                                walk  label  start_node  \\\n",
       "0  43 58 0 50 65 70 39 43 58 0 50 63 70 40 43 58 ...      0           1   \n",
       "1  43 58 0 50 65 70 40 43 61 0 50 63 74 39 43 61 ...      0           1   \n",
       "2  43 58 0 50 65 70 40 43 61 0 50 63 74 39 43 61 ...      0           1   \n",
       "3  43 58 0 50 65 70 40 43 61 0 50 63 74 39 43 61 ...      0           1   \n",
       "4  43 58 0 50 65 70 40 43 61 0 50 63 74 39 43 61 ...      0           1   \n",
       "\n",
       "   component  \n",
       "0          1  \n",
       "1          1  \n",
       "2          1  \n",
       "3          1  \n",
       "4          1  "
      ]
     },
     "execution_count": 12,
     "metadata": {},
     "output_type": "execute_result"
    }
   ],
   "source": [
    "walks.head()"
   ]
  },
  {
   "cell_type": "code",
   "execution_count": 15,
   "metadata": {},
   "outputs": [],
   "source": [
    "from fastai.text import *\n",
    "from sklearn.model_selection import train_test_split\n",
    "import numpy"
   ]
  },
  {
   "cell_type": "code",
   "execution_count": 16,
   "metadata": {},
   "outputs": [
    {
     "data": {
      "text/plain": [
       "(623500, 4)"
      ]
     },
     "execution_count": 16,
     "metadata": {},
     "output_type": "execute_result"
    }
   ],
   "source": [
    "walks.shape"
   ]
  },
  {
   "cell_type": "code",
   "execution_count": 17,
   "metadata": {},
   "outputs": [],
   "source": [
    "from sklearn.model_selection import train_test_split\n",
    "import numpy\n",
    "data_pre = list(set(walks.component))\n",
    "#sample down smaller  \n",
    "x_traina ,x_test = train_test_split(data_pre,test_size=0.2)    \n",
    "x_train ,x_val = train_test_split(x_traina,test_size=0.2)  \n"
   ]
  },
  {
   "cell_type": "code",
   "execution_count": 18,
   "metadata": {},
   "outputs": [
    {
     "data": {
      "text/plain": [
       "(394700, 4)"
      ]
     },
     "execution_count": 18,
     "metadata": {},
     "output_type": "execute_result"
    }
   ],
   "source": [
    "train_tmp = pd.DataFrame(x_train)\n",
    "train_tmp.columns = ['component']\n",
    "df_train = pd.merge(walks, train_tmp, on='component', sort=False)\n",
    "df_train.shape"
   ]
  },
  {
   "cell_type": "code",
   "execution_count": 19,
   "metadata": {},
   "outputs": [
    {
     "data": {
      "text/plain": [
       "(99920, 4)"
      ]
     },
     "execution_count": 19,
     "metadata": {},
     "output_type": "execute_result"
    }
   ],
   "source": [
    "val_tmp = pd.DataFrame(x_val)\n",
    "val_tmp.columns = ['component']\n",
    "df_val = pd.merge(walks, val_tmp, on='component', sort=False)\n",
    "df_val.shape"
   ]
  },
  {
   "cell_type": "code",
   "execution_count": 20,
   "metadata": {},
   "outputs": [
    {
     "data": {
      "text/plain": [
       "(128880, 4)"
      ]
     },
     "execution_count": 20,
     "metadata": {},
     "output_type": "execute_result"
    }
   ],
   "source": [
    "test_tmp = pd.DataFrame(x_test)\n",
    "test_tmp.columns = ['component']\n",
    "df_test = pd.merge(walks, test_tmp, on='component', sort=False)\n",
    "df_test.shape"
   ]
  },
  {
   "cell_type": "code",
   "execution_count": 21,
   "metadata": {},
   "outputs": [
    {
     "name": "stdout",
     "output_type": "stream",
     "text": [
      "mkdir: cannot create directory ‘result’: File exists\r\n"
     ]
    }
   ],
   "source": [
    "!mkdir result\n",
    "mypath = './result'"
   ]
  },
  {
   "cell_type": "code",
   "execution_count": 23,
   "metadata": {},
   "outputs": [],
   "source": [
    "data_lm = TextLMDataBunch.from_df(train_df=df_train[['walk', 'label']], valid_df=df_val[[\n",
    "                                  'walk', 'label']],  path=mypath, text_cols='walk', label_cols='label')"
   ]
  },
  {
   "cell_type": "code",
   "execution_count": 24,
   "metadata": {},
   "outputs": [],
   "source": [
    "data_lm.save('data_lm.pkl')"
   ]
  },
  {
   "cell_type": "code",
   "execution_count": 25,
   "metadata": {},
   "outputs": [],
   "source": [
    "bs = 32\n",
    "# load the data (can be used in the future as well to prevent reprocessing)\n",
    "data_lm = TextLMDataBunch.load(mypath, 'data_lm.pkl', bs=bs)\n"
   ]
  },
  {
   "cell_type": "code",
   "execution_count": 26,
   "metadata": {},
   "outputs": [
    {
     "data": {
      "text/html": [
       "<table>  <col width='5%'>  <col width='95%'>  <tr>\n",
       "    <th>idx</th>\n",
       "    <th>text</th>\n",
       "  </tr>\n",
       "  <tr>\n",
       "    <th>0</th>\n",
       "    <th>39 45 56 2 50 64 71 39 43 56 0 50 63 73 39 45 56 2 50 64 71 39 43 56 0 50 64 73 39 45 56 2 50 64 71 39 43 56 0 50 64 73 39 47 56 1 50 64 75 39 43 56 0 50 64 73 39 43 56 0 50 64 73 39 48 60 3 50 67 75</th>\n",
       "  </tr>\n",
       "  <tr>\n",
       "    <th>1</th>\n",
       "    <th>43 57 0 50 66 70 39 43 57 0 50 66 70 39 43 57 0 50 66 70 39 43 57 0 50 67 70 39 43 57 0 50 67 70 39 43 57 0 50 67 70 39 43 57 0 50 67 70 39 43 57 0 50 67 70 39 43 57 0 50 67 70 39 43 57 0 50 67 70 39</th>\n",
       "  </tr>\n",
       "  <tr>\n",
       "    <th>2</th>\n",
       "    <th>58 1 50 64 75 39 43 58 0 50 64 73 39 43 58 0 50 64 73 39 45 58 2 50 63 75 39 43 58 0 50 64 73 39 45 58 2 50 63 75 39 43 58 0 50 64 73 39 43 58 0 50 64 73 39 47 58 1 50 64 75 39 43 58 0 50 64 73 39 47</th>\n",
       "  </tr>\n",
       "  <tr>\n",
       "    <th>3</th>\n",
       "    <th>0 50 63 73 39 43 56 0 50 63 72 39 43 60 0 50 63 73 40 45 60 2 50 63 75 40 43 60 0 50 63 73 xxbos 43 56 0 50 64 73 40 47 56 1 50 64 75 40 43 56 0 50 64 73 39 43 56 0 50 63 72 39 43 60 0 50 63 73 39 43 56</th>\n",
       "  </tr>\n",
       "  <tr>\n",
       "    <th>4</th>\n",
       "    <th>63 71 39 43 56 0 50 63 73 39 43 56 0 50 63 71 39 43 56 0 50 63 73 39 43 56 0 50 63 75 39 43 56 0 50 63 73 39 45 56 5 50 63 71 39 43 56 0 50 64 72 39 45 56 2 50 64 71 39 43 56 0 50 64 71 xxbos 45 56 2 50</th>\n",
       "  </tr>\n",
       "</table>\n"
      ],
      "text/plain": [
       "<IPython.core.display.HTML object>"
      ]
     },
     "metadata": {},
     "output_type": "display_data"
    }
   ],
   "source": [
    "data_lm.show_batch() # take a look at the batch fed into the GPU"
   ]
  },
  {
   "cell_type": "code",
   "execution_count": 27,
   "metadata": {},
   "outputs": [
    {
     "name": "stdout",
     "output_type": "stream",
     "text": [
      "LR Finder is complete, type {learner_name}.recorder.plot() to see the graph.\n"
     ]
    },
    {
     "data": {
      "text/html": [
       "Total time: 08:21 <p><table style='width:300px; margin-bottom:10px'>\n",
       "  <tr>\n",
       "    <th>epoch</th>\n",
       "    <th>train_loss</th>\n",
       "    <th>valid_loss</th>\n",
       "    <th>accuracy</th>\n",
       "  </tr>\n",
       "  <tr>\n",
       "    <th>1</th>\n",
       "    <th>0.362082</th>\n",
       "    <th>0.348397</th>\n",
       "    <th>0.858442</th>\n",
       "  </tr>\n",
       "</table>\n"
      ],
      "text/plain": [
       "<IPython.core.display.HTML object>"
      ]
     },
     "metadata": {},
     "output_type": "display_data"
    },
    {
     "data": {
      "image/png": "[encoded data removed]",
      "text/plain": [
       "<Figure size 432x288 with 1 Axes>"
      ]
     },
     "metadata": {},
     "output_type": "display_data"
    },
    {
     "data": {
      "image/png": "[encoded data removed]",
      "text/plain": [
       "<Figure size 432x288 with 1 Axes>"
      ]
     },
     "metadata": {
      "needs_background": "light"
     },
     "output_type": "display_data"
    },
    {
     "data": {
      "image/png": "[encoded data removed]",
      "text/plain": [
       "<Figure size 432x288 with 1 Axes>"
      ]
     },
     "metadata": {
      "needs_background": "light"
     },
     "output_type": "display_data"
    }
   ],
   "source": [
    "learn = language_model_learner(data_lm,  drop_mult=1.8, callback_fns=ShowGraph, nl = 1, nh = 400)\n",
    "learn.lr_find()\n",
    "learn.recorder.plot()\n",
    "learn.fit_one_cycle(1, 1e-2, moms=(0.8,0.7))\n",
    "learn.recorder.plot_losses()\n",
    "learn.save('fit-head')"
   ]
  },
  {
   "cell_type": "code",
   "execution_count": 28,
   "metadata": {},
   "outputs": [
    {
     "name": "stdout",
     "output_type": "stream",
     "text": [
      "LR Finder is complete, type {learner_name}.recorder.plot() to see the graph.\n"
     ]
    },
    {
     "data": {
      "image/png": "[encoded data removed]",
      "text/plain": [
       "<Figure size 432x288 with 1 Axes>"
      ]
     },
     "metadata": {
      "needs_background": "light"
     },
     "output_type": "display_data"
    }
   ],
   "source": [
    "learn.load('fit-head')\n",
    "learn.unfreeze()\n",
    "learn.lr_find()\n",
    "learn.recorder.plot()"
   ]
  },
  {
   "cell_type": "code",
   "execution_count": 29,
   "metadata": {},
   "outputs": [
    {
     "data": {
      "text/html": [
       "Total time: 16:54 <p><table style='width:300px; margin-bottom:10px'>\n",
       "  <tr>\n",
       "    <th>epoch</th>\n",
       "    <th>train_loss</th>\n",
       "    <th>valid_loss</th>\n",
       "    <th>accuracy</th>\n",
       "  </tr>\n",
       "  <tr>\n",
       "    <th>1</th>\n",
       "    <th>0.391129</th>\n",
       "    <th>0.365233</th>\n",
       "    <th>0.854589</th>\n",
       "  </tr>\n",
       "  <tr>\n",
       "    <th>2</th>\n",
       "    <th>0.354026</th>\n",
       "    <th>0.340970</th>\n",
       "    <th>0.861960</th>\n",
       "  </tr>\n",
       "</table>\n"
      ],
      "text/plain": [
       "<IPython.core.display.HTML object>"
      ]
     },
     "metadata": {},
     "output_type": "display_data"
    },
    {
     "data": {
      "image/png": "[encoded data removed]",
      "text/plain": [
       "<Figure size 432x288 with 1 Axes>"
      ]
     },
     "metadata": {},
     "output_type": "display_data"
    }
   ],
   "source": [
    "learn.fit_one_cycle(2, .01, moms=(0.8,0.7))"
   ]
  },
  {
   "cell_type": "code",
   "execution_count": 30,
   "metadata": {},
   "outputs": [
    {
     "data": {
      "text/html": [
       "Total time: 32:53 <p><table style='width:300px; margin-bottom:10px'>\n",
       "  <tr>\n",
       "    <th>epoch</th>\n",
       "    <th>train_loss</th>\n",
       "    <th>valid_loss</th>\n",
       "    <th>accuracy</th>\n",
       "  </tr>\n",
       "  <tr>\n",
       "    <th>1</th>\n",
       "    <th>0.388355</th>\n",
       "    <th>0.357520</th>\n",
       "    <th>0.855700</th>\n",
       "  </tr>\n",
       "  <tr>\n",
       "    <th>2</th>\n",
       "    <th>0.388488</th>\n",
       "    <th>0.365851</th>\n",
       "    <th>0.857172</th>\n",
       "  </tr>\n",
       "  <tr>\n",
       "    <th>3</th>\n",
       "    <th>0.351390</th>\n",
       "    <th>0.340428</th>\n",
       "    <th>0.860833</th>\n",
       "  </tr>\n",
       "  <tr>\n",
       "    <th>4</th>\n",
       "    <th>0.344012</th>\n",
       "    <th>0.331921</th>\n",
       "    <th>0.864013</th>\n",
       "  </tr>\n",
       "</table>\n"
      ],
      "text/plain": [
       "<IPython.core.display.HTML object>"
      ]
     },
     "metadata": {},
     "output_type": "display_data"
    },
    {
     "data": {
      "image/png": "[encoded data removed]",
      "text/plain": [
       "<Figure size 432x288 with 1 Axes>"
      ]
     },
     "metadata": {},
     "output_type": "display_data"
    }
   ],
   "source": [
    "learn.fit_one_cycle(4, .01, moms=(0.8,0.7))"
   ]
  },
  {
   "cell_type": "code",
   "execution_count": 32,
   "metadata": {},
   "outputs": [],
   "source": [
    "learn.save_encoder('fine_tuned_enc3')"
   ]
  },
  {
   "cell_type": "code",
   "execution_count": 33,
   "metadata": {},
   "outputs": [
    {
     "data": {
      "text/html": [
       "<div>\n",
       "<style scoped>\n",
       "    .dataframe tbody tr th:only-of-type {\n",
       "        vertical-align: middle;\n",
       "    }\n",
       "\n",
       "    .dataframe tbody tr th {\n",
       "        vertical-align: top;\n",
       "    }\n",
       "\n",
       "    .dataframe thead th {\n",
       "        text-align: right;\n",
       "    }\n",
       "</style>\n",
       "<table border=\"1\" class=\"dataframe\">\n",
       "  <thead>\n",
       "    <tr style=\"text-align: right;\">\n",
       "      <th></th>\n",
       "      <th>walk</th>\n",
       "      <th>label</th>\n",
       "      <th>start_node</th>\n",
       "      <th>component</th>\n",
       "      <th>index1</th>\n",
       "      <th>RN</th>\n",
       "    </tr>\n",
       "  </thead>\n",
       "  <tbody>\n",
       "    <tr>\n",
       "      <th>799</th>\n",
       "      <td>43 56 0 50 63 70 39 43 56 0 50 64 70 39 43 56 ...</td>\n",
       "      <td>0</td>\n",
       "      <td>41</td>\n",
       "      <td>1</td>\n",
       "      <td>799</td>\n",
       "      <td>1.0</td>\n",
       "    </tr>\n",
       "    <tr>\n",
       "      <th>2450</th>\n",
       "      <td>43 56 0 50 64 70 39 43 56 0 50 64 70 39 43 56 ...</td>\n",
       "      <td>0</td>\n",
       "      <td>45</td>\n",
       "      <td>1</td>\n",
       "      <td>2450</td>\n",
       "      <td>2.0</td>\n",
       "    </tr>\n",
       "    <tr>\n",
       "      <th>3134</th>\n",
       "      <td>43 61 0 50 64 70 40 43 61 0 50 63 70 39 43 61 ...</td>\n",
       "      <td>0</td>\n",
       "      <td>9</td>\n",
       "      <td>1</td>\n",
       "      <td>3134</td>\n",
       "      <td>3.0</td>\n",
       "    </tr>\n",
       "    <tr>\n",
       "      <th>3260</th>\n",
       "      <td>43 58 0 50 65 70 39 43 58 0 50 63 70 39 47 58 ...</td>\n",
       "      <td>0</td>\n",
       "      <td>1</td>\n",
       "      <td>1</td>\n",
       "      <td>3260</td>\n",
       "      <td>4.0</td>\n",
       "    </tr>\n",
       "    <tr>\n",
       "      <th>4426</th>\n",
       "      <td>43 56 0 50 63 70 39 43 56 0 50 64 70 39 43 56 ...</td>\n",
       "      <td>0</td>\n",
       "      <td>41</td>\n",
       "      <td>1</td>\n",
       "      <td>4426</td>\n",
       "      <td>5.0</td>\n",
       "    </tr>\n",
       "  </tbody>\n",
       "</table>\n",
       "</div>"
      ],
      "text/plain": [
       "                                                   walk  label  start_node  \\\n",
       "799   43 56 0 50 63 70 39 43 56 0 50 64 70 39 43 56 ...      0          41   \n",
       "2450  43 56 0 50 64 70 39 43 56 0 50 64 70 39 43 56 ...      0          45   \n",
       "3134  43 61 0 50 64 70 40 43 61 0 50 63 70 39 43 61 ...      0           9   \n",
       "3260  43 58 0 50 65 70 39 43 58 0 50 63 70 39 47 58 ...      0           1   \n",
       "4426  43 56 0 50 63 70 39 43 56 0 50 64 70 39 43 56 ...      0          41   \n",
       "\n",
       "      component  index1   RN  \n",
       "799           1     799  1.0  \n",
       "2450          1    2450  2.0  \n",
       "3134          1    3134  3.0  \n",
       "3260          1    3260  4.0  \n",
       "4426          1    4426  5.0  "
      ]
     },
     "execution_count": 33,
     "metadata": {},
     "output_type": "execute_result"
    }
   ],
   "source": [
    "df = walks.sample(frac=1).reset_index(drop=True)\n",
    "df['index1']=df.index\n",
    "\n",
    "g = df.groupby('component')\n",
    "df['RN'] = g['index1'].rank(method='min')\n",
    "\n",
    "df[df['component']==1].head()\n"
   ]
  },
  {
   "cell_type": "markdown",
   "metadata": {},
   "source": [
    "Choose a path per node and concatenate for entire component"
   ]
  },
  {
   "cell_type": "code",
   "execution_count": 34,
   "metadata": {},
   "outputs": [
    {
     "data": {
      "text/html": [
       "<div>\n",
       "<style scoped>\n",
       "    .dataframe tbody tr th:only-of-type {\n",
       "        vertical-align: middle;\n",
       "    }\n",
       "\n",
       "    .dataframe tbody tr th {\n",
       "        vertical-align: top;\n",
       "    }\n",
       "\n",
       "    .dataframe thead th {\n",
       "        text-align: right;\n",
       "    }\n",
       "</style>\n",
       "<table border=\"1\" class=\"dataframe\">\n",
       "  <thead>\n",
       "    <tr style=\"text-align: right;\">\n",
       "      <th></th>\n",
       "      <th>label</th>\n",
       "      <th>text</th>\n",
       "    </tr>\n",
       "    <tr>\n",
       "      <th>component</th>\n",
       "      <th></th>\n",
       "      <th></th>\n",
       "    </tr>\n",
       "  </thead>\n",
       "  <tbody>\n",
       "    <tr>\n",
       "      <th>1</th>\n",
       "      <td>0</td>\n",
       "      <td>43 56 0 50 63 70 39 43 56 0 50 64 70 39 43 56 ...</td>\n",
       "    </tr>\n",
       "    <tr>\n",
       "      <th>2</th>\n",
       "      <td>1</td>\n",
       "      <td>47 60 1 50 64 75 40 43 60 0 50 64 73 39 43 56 ...</td>\n",
       "    </tr>\n",
       "    <tr>\n",
       "      <th>3</th>\n",
       "      <td>1</td>\n",
       "      <td>45 60 2 50 64 75 40 43 60 0 50 64 75 39 43 60 ...</td>\n",
       "    </tr>\n",
       "    <tr>\n",
       "      <th>4</th>\n",
       "      <td>1</td>\n",
       "      <td>43 56 0 50 64 72 40 43 56 0 50 63 73 39 45 56 ...</td>\n",
       "    </tr>\n",
       "    <tr>\n",
       "      <th>5</th>\n",
       "      <td>0</td>\n",
       "      <td>45 56 2 50 63 74 40 43 56 0 50 63 71 40 45 56 ...</td>\n",
       "    </tr>\n",
       "  </tbody>\n",
       "</table>\n",
       "</div>"
      ],
      "text/plain": [
       "           label                                               text\n",
       "component                                                          \n",
       "1              0  43 56 0 50 63 70 39 43 56 0 50 64 70 39 43 56 ...\n",
       "2              1  47 60 1 50 64 75 40 43 60 0 50 64 73 39 43 56 ...\n",
       "3              1  45 60 2 50 64 75 40 43 60 0 50 64 75 39 43 60 ...\n",
       "4              1  43 56 0 50 64 72 40 43 56 0 50 63 73 39 45 56 ...\n",
       "5              0  45 56 2 50 63 74 40 43 56 0 50 63 71 40 45 56 ..."
      ]
     },
     "execution_count": 34,
     "metadata": {},
     "output_type": "execute_result"
    }
   ],
   "source": [
    "df.groupby('component')['walk'].apply(lambda x: ', '.join(x))\n",
    "\n",
    "def f(x):\n",
    "     return Series(dict(label = x['label'].min(), text =  ', '.join(x['walk'])))\n",
    "df_text_comp = df[(df['RN']<=8.0)].groupby('component').apply(f)\n",
    "df_text_comp.head()"
   ]
  },
  {
   "cell_type": "code",
   "execution_count": 35,
   "metadata": {},
   "outputs": [
    {
     "data": {
      "text/html": [
       "<div>\n",
       "<style scoped>\n",
       "    .dataframe tbody tr th:only-of-type {\n",
       "        vertical-align: middle;\n",
       "    }\n",
       "\n",
       "    .dataframe tbody tr th {\n",
       "        vertical-align: top;\n",
       "    }\n",
       "\n",
       "    .dataframe thead th {\n",
       "        text-align: right;\n",
       "    }\n",
       "</style>\n",
       "<table border=\"1\" class=\"dataframe\">\n",
       "  <thead>\n",
       "    <tr style=\"text-align: right;\">\n",
       "      <th></th>\n",
       "      <th>label</th>\n",
       "      <th>text</th>\n",
       "      <th>component</th>\n",
       "    </tr>\n",
       "    <tr>\n",
       "      <th>index</th>\n",
       "      <th></th>\n",
       "      <th></th>\n",
       "      <th></th>\n",
       "    </tr>\n",
       "  </thead>\n",
       "  <tbody>\n",
       "    <tr>\n",
       "      <th>1</th>\n",
       "      <td>0</td>\n",
       "      <td>43 56 0 50 63 70 39 43 56 0 50 64 70 39 43 56 ...</td>\n",
       "      <td>1</td>\n",
       "    </tr>\n",
       "    <tr>\n",
       "      <th>2</th>\n",
       "      <td>1</td>\n",
       "      <td>47 60 1 50 64 75 40 43 60 0 50 64 73 39 43 56 ...</td>\n",
       "      <td>2</td>\n",
       "    </tr>\n",
       "    <tr>\n",
       "      <th>3</th>\n",
       "      <td>1</td>\n",
       "      <td>45 60 2 50 64 75 40 43 60 0 50 64 75 39 43 60 ...</td>\n",
       "      <td>3</td>\n",
       "    </tr>\n",
       "    <tr>\n",
       "      <th>4</th>\n",
       "      <td>1</td>\n",
       "      <td>43 56 0 50 64 72 40 43 56 0 50 63 73 39 45 56 ...</td>\n",
       "      <td>4</td>\n",
       "    </tr>\n",
       "    <tr>\n",
       "      <th>5</th>\n",
       "      <td>0</td>\n",
       "      <td>45 56 2 50 63 74 40 43 56 0 50 63 71 40 45 56 ...</td>\n",
       "      <td>5</td>\n",
       "    </tr>\n",
       "  </tbody>\n",
       "</table>\n",
       "</div>"
      ],
      "text/plain": [
       "       label                                               text  component\n",
       "index                                                                     \n",
       "1          0  43 56 0 50 63 70 39 43 56 0 50 64 70 39 43 56 ...          1\n",
       "2          1  47 60 1 50 64 75 40 43 60 0 50 64 73 39 43 56 ...          2\n",
       "3          1  45 60 2 50 64 75 40 43 60 0 50 64 75 39 43 60 ...          3\n",
       "4          1  43 56 0 50 64 72 40 43 56 0 50 63 73 39 45 56 ...          4\n",
       "5          0  45 56 2 50 63 74 40 43 56 0 50 63 71 40 45 56 ...          5"
      ]
     },
     "execution_count": 35,
     "metadata": {},
     "output_type": "execute_result"
    }
   ],
   "source": [
    "df_text_comp['component']= df_text_comp.index\n",
    "df_text_comp.index.names = ['index']\n",
    "df_text_comp.head()"
   ]
  },
  {
   "cell_type": "code",
   "execution_count": 36,
   "metadata": {},
   "outputs": [
    {
     "data": {
      "text/plain": [
       "((1280, 3), (320, 3), (400, 3), 0.64)"
      ]
     },
     "execution_count": 36,
     "metadata": {},
     "output_type": "execute_result"
    }
   ],
   "source": [
    "train = pd.merge(df_text_comp, train_tmp, on='component', sort=False)\n",
    "test =  pd.merge(df_text_comp, test_tmp, on='component', sort=False)\n",
    "val =  pd.merge(df_text_comp, val_tmp, on='component', sort=False)\n",
    "(train.shape,val.shape, test.shape, train.shape[0]/df_text_comp.shape[0])"
   ]
  },
  {
   "cell_type": "code",
   "execution_count": 38,
   "metadata": {},
   "outputs": [],
   "source": [
    "bs=32#48\n",
    "\n",
    "data_clas = TextClasDataBunch.from_df(train_df=train[['text','label']],valid_df=val[['text','label']],  path=mypath, text_cols='text',label_cols = 'label', vocab=data_lm.vocab)\n"
   ]
  },
  {
   "cell_type": "code",
   "execution_count": 39,
   "metadata": {},
   "outputs": [],
   "source": [
    "data_clas.save('tmp_clas')"
   ]
  },
  {
   "cell_type": "code",
   "execution_count": 40,
   "metadata": {},
   "outputs": [],
   "source": [
    "data_clas = TextClasDataBunch.load(mypath, 'tmp_clas', bs=bs)"
   ]
  },
  {
   "cell_type": "code",
   "execution_count": 41,
   "metadata": {},
   "outputs": [
    {
     "data": {
      "text/html": [
       "<table>  <col width='90%'>  <col width='10%'>  <tr>\n",
       "    <th>text</th>\n",
       "    <th>target</th>\n",
       "  </tr>\n",
       "  <tr>\n",
       "    <th>xxbos 43 56 0 50 63 73 39 47 56 1 50 63 71 39 43 60 0 50 63 71 39 43 60 0 50 63 71 39 43 60 0 50 63 71 39 43 60 0 50 63 71 39 43 56 0 50 64 72 39 43 60 0 50 63 71 39 43 56 0 50 64 72 39 43 56 0 50 63 73</th>\n",
       "    <th>1</th>\n",
       "  </tr>\n",
       "  <tr>\n",
       "    <th>xxbos 43 56 0 50 64 71 39 43 56 0 50 63 71 39 43 60 0 50 64 72 39 43 60 0 50 63 75 39 43 60 0 50 64 72 39 43 56 0 50 63 71 39 43 56 0 50 64 71 39 43 56 0 50 63 71 39 43 60 0 50 64 72 39 43 60 0 50 63 71</th>\n",
       "    <th>1</th>\n",
       "  </tr>\n",
       "  <tr>\n",
       "    <th>xxbos 47 60 1 50 64 75 39 43 60 0 50 64 75 39 43 60 0 50 64 72 39 43 60 0 50 64 75 39 47 60 1 50 64 75 39 43 60 0 50 64 75 39 47 60 1 50 64 75 39 43 60 0 50 64 75 39 43 60 0 50 64 72 39 43 56 0 50 64 72</th>\n",
       "    <th>1</th>\n",
       "  </tr>\n",
       "  <tr>\n",
       "    <th>xxbos 43 60 0 50 64 71 39 45 60 5 50 64 71 40 47 56 1 50 64 74 40 45 60 5 50 64 71 40 47 56 1 50 64 74 40 45 60 5 50 64 71 40 47 60 1 50 64 74 40 45 60 5 50 64 71 39 43 60 0 50 64 71 39 45 60 5 50 64 71</th>\n",
       "    <th>0</th>\n",
       "  </tr>\n",
       "  <tr>\n",
       "    <th>xxbos 43 56 0 50 63 75 39 45 56 2 50 63 73 39 43 56 0 50 63 72 39 45 56 2 50 63 73 39 43 56 0 50 63 75 39 45 56 2 50 63 73 39 43 56 0 50 63 72 39 45 56 2 50 63 73 39 43 56 0 50 63 72 39 45 56 2 50 63 73</th>\n",
       "    <th>1</th>\n",
       "  </tr>\n",
       "</table>\n"
      ],
      "text/plain": [
       "<IPython.core.display.HTML object>"
      ]
     },
     "metadata": {},
     "output_type": "display_data"
    }
   ],
   "source": [
    "data_clas.show_batch()"
   ]
  },
  {
   "cell_type": "code",
   "execution_count": 44,
   "metadata": {},
   "outputs": [],
   "source": [
    "learn = text_classifier_learner(data_clas, drop_mult=1.7, nl = 1, nh = 400)\n",
    "learn.load_encoder('fine_tuned_enc3')\n",
    "learn.freeze()"
   ]
  },
  {
   "cell_type": "code",
   "execution_count": 45,
   "metadata": {},
   "outputs": [
    {
     "data": {
      "text/plain": [
       "4813"
      ]
     },
     "execution_count": 45,
     "metadata": {},
     "output_type": "execute_result"
    }
   ],
   "source": [
    "gc.collect()"
   ]
  },
  {
   "cell_type": "code",
   "execution_count": 46,
   "metadata": {},
   "outputs": [
    {
     "name": "stdout",
     "output_type": "stream",
     "text": [
      "LR Finder is complete, type {learner_name}.recorder.plot() to see the graph.\n"
     ]
    }
   ],
   "source": [
    "learn.lr_find()"
   ]
  },
  {
   "cell_type": "code",
   "execution_count": 47,
   "metadata": {},
   "outputs": [
    {
     "data": {
      "image/png": "[encoded data removed]",
      "text/plain": [
       "<Figure size 432x288 with 1 Axes>"
      ]
     },
     "metadata": {
      "needs_background": "light"
     },
     "output_type": "display_data"
    }
   ],
   "source": [
    "learn.recorder.plot()"
   ]
  },
  {
   "cell_type": "code",
   "execution_count": 48,
   "metadata": {},
   "outputs": [
    {
     "data": {
      "text/html": [
       "Total time: 00:09 <p><table style='width:300px; margin-bottom:10px'>\n",
       "  <tr>\n",
       "    <th>epoch</th>\n",
       "    <th>train_loss</th>\n",
       "    <th>valid_loss</th>\n",
       "    <th>accuracy</th>\n",
       "  </tr>\n",
       "  <tr>\n",
       "    <th>1</th>\n",
       "    <th>0.142388</th>\n",
       "    <th>0.558656</th>\n",
       "    <th>0.668750</th>\n",
       "  </tr>\n",
       "</table>\n"
      ],
      "text/plain": [
       "<IPython.core.display.HTML object>"
      ]
     },
     "metadata": {},
     "output_type": "display_data"
    }
   ],
   "source": [
    "learn.fit_one_cycle(1, 5e-02, moms=(0.8,0.7))"
   ]
  },
  {
   "cell_type": "code",
   "execution_count": 49,
   "metadata": {},
   "outputs": [],
   "source": [
    "def predict(test,learn):\n",
    "  predictions=[]\n",
    "  for index, row in test.iterrows():\n",
    "    p=learn.predict(row['text'])\n",
    "    #print((row['label'],str(p[0])))\n",
    "    predictions.append((row['text'],str(row['label']),str(p[0])))\n",
    "  dfpred = pd.DataFrame(predictions)\n",
    "  dfpred.columns=['text','label','prediction']\n",
    "  match=dfpred[(dfpred['label']==dfpred['prediction'])]\n",
    "  #match.head()\n",
    "  print((dfpred.shape[0], match.shape[0],match.shape[0]/dfpred.shape[0]))"
   ]
  },
  {
   "cell_type": "code",
   "execution_count": 50,
   "metadata": {},
   "outputs": [
    {
     "data": {
      "text/html": [
       "Total time: 00:09 <p><table style='width:300px; margin-bottom:10px'>\n",
       "  <tr>\n",
       "    <th>epoch</th>\n",
       "    <th>train_loss</th>\n",
       "    <th>valid_loss</th>\n",
       "    <th>accuracy</th>\n",
       "  </tr>\n",
       "  <tr>\n",
       "    <th>1</th>\n",
       "    <th>0.132335</th>\n",
       "    <th>0.057097</th>\n",
       "    <th>0.990625</th>\n",
       "  </tr>\n",
       "</table>\n"
      ],
      "text/plain": [
       "<IPython.core.display.HTML object>"
      ]
     },
     "metadata": {},
     "output_type": "display_data"
    }
   ],
   "source": [
    "learn.fit_one_cycle(1, 5e-02, moms=(0.8,0.7))"
   ]
  },
  {
   "cell_type": "code",
   "execution_count": 51,
   "metadata": {},
   "outputs": [
    {
     "name": "stdout",
     "output_type": "stream",
     "text": [
      "(400, 400, 1.0)\n"
     ]
    }
   ],
   "source": [
    "predict(test,learn)"
   ]
  },
  {
   "cell_type": "code",
   "execution_count": 52,
   "metadata": {},
   "outputs": [
    {
     "data": {
      "text/html": [
       "Total time: 02:16 <p><table style='width:300px; margin-bottom:10px'>\n",
       "  <tr>\n",
       "    <th>epoch</th>\n",
       "    <th>train_loss</th>\n",
       "    <th>valid_loss</th>\n",
       "    <th>accuracy</th>\n",
       "  </tr>\n",
       "  <tr>\n",
       "    <th>1</th>\n",
       "    <th>0.083011</th>\n",
       "    <th>0.055950</th>\n",
       "    <th>0.993750</th>\n",
       "  </tr>\n",
       "  <tr>\n",
       "    <th>2</th>\n",
       "    <th>0.088997</th>\n",
       "    <th>0.052415</th>\n",
       "    <th>0.993750</th>\n",
       "  </tr>\n",
       "  <tr>\n",
       "    <th>3</th>\n",
       "    <th>0.091001</th>\n",
       "    <th>0.042912</th>\n",
       "    <th>0.990625</th>\n",
       "  </tr>\n",
       "  <tr>\n",
       "    <th>4</th>\n",
       "    <th>0.083899</th>\n",
       "    <th>0.057952</th>\n",
       "    <th>0.993750</th>\n",
       "  </tr>\n",
       "  <tr>\n",
       "    <th>5</th>\n",
       "    <th>0.050148</th>\n",
       "    <th>0.047976</th>\n",
       "    <th>0.993750</th>\n",
       "  </tr>\n",
       "  <tr>\n",
       "    <th>6</th>\n",
       "    <th>0.073039</th>\n",
       "    <th>0.045649</th>\n",
       "    <th>0.993750</th>\n",
       "  </tr>\n",
       "  <tr>\n",
       "    <th>7</th>\n",
       "    <th>0.054214</th>\n",
       "    <th>0.050002</th>\n",
       "    <th>0.993750</th>\n",
       "  </tr>\n",
       "  <tr>\n",
       "    <th>8</th>\n",
       "    <th>0.062679</th>\n",
       "    <th>0.050021</th>\n",
       "    <th>0.993750</th>\n",
       "  </tr>\n",
       "</table>\n"
      ],
      "text/plain": [
       "<IPython.core.display.HTML object>"
      ]
     },
     "metadata": {},
     "output_type": "display_data"
    }
   ],
   "source": [
    "learn.unfreeze()\n",
    "learn.fit_one_cycle(8, slice(5e-3/(2.6**4),5e-3), moms=(0.8,0.7))"
   ]
  },
  {
   "cell_type": "code",
   "execution_count": 53,
   "metadata": {},
   "outputs": [
    {
     "name": "stdout",
     "output_type": "stream",
     "text": [
      "(400, 400, 1.0)\n"
     ]
    }
   ],
   "source": [
    "predict(test,learn)"
   ]
  },
  {
   "cell_type": "code",
   "execution_count": 54,
   "metadata": {},
   "outputs": [],
   "source": [
    "learn.save('final')"
   ]
  }
 ],
 "metadata": {
  "kernelspec": {
   "display_name": "Python 3",
   "language": "python",
   "name": "python3"
  },
  "language_info": {
   "codemirror_mode": {
    "name": "ipython",
    "version": 3
   },
   "file_extension": ".py",
   "mimetype": "text/x-python",
   "name": "python",
   "nbconvert_exporter": "python",
   "pygments_lexer": "ipython3",
   "version": "3.7.1"
  }
 },
 "nbformat": 4,
 "nbformat_minor": 2
}
