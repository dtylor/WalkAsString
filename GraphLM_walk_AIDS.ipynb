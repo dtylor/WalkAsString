{
  "nbformat": 4,
  "nbformat_minor": 0,
  "metadata": {
    "colab": {
      "name": "GraphLM_walk_AIDS.ipynb",
      "provenance": [],
      "collapsed_sections": [],
      "machine_shape": "hm",
      "include_colab_link": true
    },
    "kernelspec": {
      "name": "python3",
      "display_name": "Python 3"
    },
    "accelerator": "GPU"
  },
  "cells": [
    {
      "cell_type": "markdown",
      "metadata": {
        "id": "view-in-github",
        "colab_type": "text"
      },
      "source": [
        "<a href=\"https://colab.research.google.com/github/dtylor/WalkRNN/blob/master/GraphLM_walk_AIDS.ipynb\" target=\"_parent\"><img src=\"https://colab.research.google.com/assets/colab-badge.svg\" alt=\"Open In Colab\"/></a>"
      ]
    },
    {
      "cell_type": "code",
      "metadata": {
        "id": "aKsDT-UyFobJ",
        "colab_type": "code",
        "outputId": "2bde813e-5075-446e-ecf6-85dc95af2875",
        "colab": {
          "base_uri": "https://localhost:8080/",
          "height": 286
        }
      },
      "source": [
        "!git clone https://github.com/dtylor/WalkRNN.git\n",
        "%cd WalkRNN\n",
        "!ls"
      ],
      "execution_count": 1,
      "outputs": [
        {
          "output_type": "stream",
          "text": [
            "Cloning into 'WalkRNN'...\n",
            "remote: Enumerating objects: 37, done.\u001b[K\n",
            "remote: Counting objects: 100% (37/37), done.\u001b[K\n",
            "remote: Compressing objects: 100% (37/37), done.\u001b[K\n",
            "remote: Total 363 (delta 18), reused 0 (delta 0), pack-reused 326\u001b[K\n",
            "Receiving objects: 100% (363/363), 1.36 MiB | 16.33 MiB/s, done.\n",
            "Resolving deltas: 100% (198/198), done.\n",
            "/content/WalkRNN\n",
            "AIDS\t\t\t      graphwave\t\t     n2v\n",
            "Cuneiform\t\t      __init__.py\t     OrgChart.ipynb\n",
            "data\t\t\t      LICENSE-3RD-PARTY.txt  README.md\n",
            "Demonstration.ipynb\t      LICENSE.md\t     test.py\n",
            "GraphLM_walk_AIDS.ipynb       module.py\t\t     TODO\n",
            "GraphLM_walk_AIDS.py\t      Motivation.ipynb\t     utilities.py\n",
            "GraphLM_walk_CUNEIFORM.ipynb  MUTAG.ipynb\n"
          ],
          "name": "stdout"
        }
      ]
    },
    {
      "cell_type": "code",
      "metadata": {
        "id": "9l1y-ni-R5NO",
        "colab_type": "code",
        "outputId": "a7a9762b-0afd-4355-eddc-fb507339da8d",
        "colab": {
          "base_uri": "https://localhost:8080/",
          "height": 106
        }
      },
      "source": [
        " !curl https://course-v3.fast.ai/setup/colab | bash"
      ],
      "execution_count": 2,
      "outputs": [
        {
          "output_type": "stream",
          "text": [
            "  % Total    % Received % Xferd  Average Speed   Time    Time     Time  Current\n",
            "                                 Dload  Upload   Total   Spent    Left  Speed\n",
            "\r  0     0    0     0    0     0      0      0 --:--:-- --:--:-- --:--:--     0\r100   287  100   287    0     0   1816      0 --:--:-- --:--:-- --:--:--  1816\n",
            "bash: line 1: syntax error near unexpected token `newline'\n",
            "bash: line 1: `<!DOCTYPE HTML PUBLIC \"-//IETF//DTD HTML 2.0//EN\">'\n"
          ],
          "name": "stdout"
        }
      ]
    },
    {
      "cell_type": "code",
      "metadata": {
        "id": "6_JKMi182dqZ",
        "colab_type": "code",
        "colab": {}
      },
      "source": [
        "import fastai\n",
        "import pandas as pd"
      ],
      "execution_count": 0,
      "outputs": []
    },
    {
      "cell_type": "code",
      "metadata": {
        "id": "SVCw0bb7m2Cj",
        "colab_type": "code",
        "outputId": "6010fa15-5f43-4742-827d-cda13f461f51",
        "colab": {
          "base_uri": "https://localhost:8080/",
          "height": 700
        }
      },
      "source": [
        "from fastai.utils.show_install import *\n",
        "show_install()"
      ],
      "execution_count": 4,
      "outputs": [
        {
          "output_type": "stream",
          "text": [
            "\n",
            "\n",
            "```text\n",
            "=== Software === \n",
            "python        : 3.6.8\n",
            "fastai        : 1.0.57\n",
            "fastprogress  : 0.1.21\n",
            "torch         : 1.1.0\n",
            "nvidia driver : 418.67\n",
            "torch cuda    : 10.0.130 / is available\n",
            "torch cudnn   : 7501 / is enabled\n",
            "\n",
            "=== Hardware === \n",
            "nvidia gpus   : 1\n",
            "torch devices : 1\n",
            "  - gpu0      : 11441MB | Tesla K80\n",
            "\n",
            "=== Environment === \n",
            "platform      : Linux-4.14.137+-x86_64-with-Ubuntu-18.04-bionic\n",
            "distro        : #1 SMP Thu Aug 8 02:47:02 PDT 2019\n",
            "conda env     : Unknown\n",
            "python        : /usr/bin/python3\n",
            "sys.path      : \n",
            "/env/python\n",
            "/usr/lib/python36.zip\n",
            "/usr/lib/python3.6\n",
            "/usr/lib/python3.6/lib-dynload\n",
            "/usr/local/lib/python3.6/dist-packages\n",
            "/usr/lib/python3/dist-packages\n",
            "/usr/local/lib/python3.6/dist-packages/IPython/extensions\n",
            "/root/.ipython\n",
            "```\n",
            "\n",
            "Please make sure to include opening/closing ``` when you paste into forums/github to make the reports appear formatted as code sections.\n",
            "\n",
            "Optional package(s) to enhance the diagnostics can be installed with:\n",
            "pip install distro\n",
            "Once installed, re-run this utility to get the additional information\n"
          ],
          "name": "stdout"
        }
      ]
    },
    {
      "cell_type": "code",
      "metadata": {
        "id": "uFXCHxZwZrpI",
        "colab_type": "code",
        "outputId": "1b57efbc-c739-4a6c-b33b-e1aaafd64969",
        "colab": {
          "base_uri": "https://localhost:8080/",
          "height": 52
        }
      },
      "source": [
        "str(fastai.__dict__['version'])\n",
        "!more /usr/local/lib/python3.6/dist-packages/fastai/version.py"
      ],
      "execution_count": 5,
      "outputs": [
        {
          "output_type": "stream",
          "text": [
            "__all__ = ['__version__']\n",
            "__version__ = '1.0.57'\n"
          ],
          "name": "stdout"
        }
      ]
    },
    {
      "cell_type": "code",
      "metadata": {
        "id": "GGf5xZN9StwG",
        "colab_type": "code",
        "outputId": "95185781-d401-40b6-d610-7d6e9fc61990",
        "colab": {
          "base_uri": "https://localhost:8080/",
          "height": 142
        }
      },
      "source": [
        "!ls"
      ],
      "execution_count": 6,
      "outputs": [
        {
          "output_type": "stream",
          "text": [
            "AIDS\t\t\t      graphwave\t\t     n2v\n",
            "Cuneiform\t\t      __init__.py\t     OrgChart.ipynb\n",
            "data\t\t\t      LICENSE-3RD-PARTY.txt  README.md\n",
            "Demonstration.ipynb\t      LICENSE.md\t     test.py\n",
            "GraphLM_walk_AIDS.ipynb       module.py\t\t     TODO\n",
            "GraphLM_walk_AIDS.py\t      Motivation.ipynb\t     utilities.py\n",
            "GraphLM_walk_CUNEIFORM.ipynb  MUTAG.ipynb\n"
          ],
          "name": "stdout"
        }
      ]
    },
    {
      "cell_type": "code",
      "metadata": {
        "id": "EDz9suwf15gG",
        "colab_type": "code",
        "colab": {}
      },
      "source": [
        "from google.colab import drive"
      ],
      "execution_count": 0,
      "outputs": []
    },
    {
      "cell_type": "code",
      "metadata": {
        "id": "-6FICw3t19b_",
        "colab_type": "code",
        "outputId": "5fb26a93-1f3a-46eb-a1b4-98a72b318a0e",
        "colab": {
          "base_uri": "https://localhost:8080/",
          "height": 126
        }
      },
      "source": [
        "drive.mount(\"/content/drive\")"
      ],
      "execution_count": 8,
      "outputs": [
        {
          "output_type": "stream",
          "text": [
            "Go to this URL in a browser: https://accounts.google.com/o/oauth2/auth?client_id=947318989803-6bn6qk8qdgf4n4g3pfee6491hc0brc4i.apps.googleusercontent.com&redirect_uri=urn%3Aietf%3Awg%3Aoauth%3A2.0%3Aoob&scope=email%20https%3A%2F%2Fwww.googleapis.com%2Fauth%2Fdocs.test%20https%3A%2F%2Fwww.googleapis.com%2Fauth%2Fdrive%20https%3A%2F%2Fwww.googleapis.com%2Fauth%2Fdrive.photos.readonly%20https%3A%2F%2Fwww.googleapis.com%2Fauth%2Fpeopleapi.readonly&response_type=code\n",
            "\n",
            "Enter your authorization code:\n",
            "··········\n",
            "Mounted at /content/drive\n"
          ],
          "name": "stdout"
        }
      ]
    },
    {
      "cell_type": "code",
      "metadata": {
        "id": "E593LDBV2Xcl",
        "colab_type": "code",
        "outputId": "a2ac6db3-562d-4173-84a1-f670b4cba7dc",
        "colab": {
          "base_uri": "https://localhost:8080/",
          "height": 52
        }
      },
      "source": [
        "from utilities import load_graph_kernel_graph, load_graph_kernel_labels\n",
        "\n",
        "node_mappings = [{\n",
        "        0:       \"C\",\n",
        "        1:       \"O\",\n",
        "        2:       \"N\",\n",
        "        3:       \"Cl\",\n",
        "        4:       \"F\",\n",
        "        5:       \"S\",\n",
        "        6:       \"Se\",\n",
        "        7:       \"P\",\n",
        "        8:       \"Na\",\n",
        "        9:       \"I\",\n",
        "        10:      \"Co\",\n",
        "        11:      \"Br\",\n",
        "        12:      \"Li\",\n",
        "        13:      \"Si\",\n",
        "        14:      \"Mg\",\n",
        "        15:      \"Cu\",\n",
        "        16:      \"As\",\n",
        "        17:      \"B\",\n",
        "        18:      \"Pt\",\n",
        "        19:      \"Ru\",\n",
        "        20:      \"K\",\n",
        "        21:      \"Pd\",\n",
        "        22:      \"Au\",\n",
        "        23:      \"Te\",\n",
        "        24:      \"W\",\n",
        "        25:      \"Rh\",\n",
        "        26:      \"Zn\",\n",
        "        27:      \"Bi\",\n",
        "        28:      \"Pb\",\n",
        "        29:      \"Ge\",\n",
        "        30:      \"Sb\",\n",
        "        31:      \"Sn\",\n",
        "        32:      \"Ga\",\n",
        "        33:      \"Hg\",\n",
        "        34:      \"Ho\",\n",
        "        35:      \"Tl\",\n",
        "        36:      \"Ni\",\n",
        "        37:      \"Tb\"\n",
        "}]\n",
        "\n",
        "label_maps={\"node_labels\": node_mappings}\n",
        "\n",
        "G = load_graph_kernel_graph(\"./AIDS\", mappings=label_maps,params={'num_kmeans_clusters': 4, \"num_pca_components\": 6, \"num_batch\":500, 'num_att_kmeans_clusters': 5})\n",
        "y = load_graph_kernel_labels(\"./AIDS\")\n"
      ],
      "execution_count": 9,
      "outputs": [
        {
          "output_type": "stream",
          "text": [
            "finished graphwave_alg batches\n",
            "DONE\n"
          ],
          "name": "stdout"
        }
      ]
    },
    {
      "cell_type": "code",
      "metadata": {
        "id": "bzBaGdbeZxn7",
        "colab_type": "code",
        "colab": {}
      },
      "source": [
        "import matplotlib.pyplot as plt\n",
        "import networkx as nx\n",
        "# create number for each group to allow use of colormap\n",
        "from itertools import count\n",
        "\n",
        "\n",
        "def plotGW(tmpG, comp_no):\n",
        " # get unique groups\n",
        " groups = set(nx.get_node_attributes(tmpG,'structure').values())\n",
        "\n",
        " mapping = dict(zip(sorted(groups),count()))\n",
        "  \n",
        " comp_nodes = [x for x,y in tmpG.nodes(data=True) if y['component']==comp_no]\n",
        " print(len(comp_nodes))\n",
        " subgraph = tmpG.subgraph(comp_nodes)\n",
        " nodes = subgraph.nodes()\n",
        " colors = [mapping[subgraph.node[n]['structure']] for n in nodes]\n",
        "\n",
        " # drawing nodes and edges separately so we can capture collection for colobar\n",
        " pos = nx.spring_layout(subgraph)\n",
        " ec = nx.draw_networkx_edges(subgraph, pos, with_labels=True,alpha=0.2)\n",
        " nc = nx.draw_networkx_nodes(subgraph, pos, nodelist=nodes, node_color=colors, \n",
        "                            with_labels=True, node_size=100, cmap=plt.cm.jet, vmin=0,vmax=3)\n",
        " plt.colorbar(nc)\n",
        " plt.axis('off')\n",
        " plt.show()\n",
        " print(nx.get_node_attributes(subgraph,'structure'))\n",
        " "
      ],
      "execution_count": 0,
      "outputs": []
    },
    {
      "cell_type": "code",
      "metadata": {
        "id": "_u-PlMacGYHK",
        "colab_type": "code",
        "outputId": "4a1ede6c-630d-4465-81cc-591df9fb4a10",
        "colab": {
          "base_uri": "https://localhost:8080/",
          "height": 314
        }
      },
      "source": [
        "\n",
        "plotGW(G,1)"
      ],
      "execution_count": 11,
      "outputs": [
        {
          "output_type": "stream",
          "text": [
            "47\n"
          ],
          "name": "stdout"
        },
        {
          "output_type": "display_data",
          "data": {
            "image/png": "[encoded data removed]",
            "text/plain": [
              "<Figure size 432x288 with 2 Axes>"
            ]
          },
          "metadata": {
            "tags": []
          }
        },
        {
          "output_type": "stream",
          "text": [
            "{1: 52, 2: 53, 3: 53, 4: 52, 5: 53, 6: 53, 7: 53, 8: 50, 9: 52, 10: 52, 11: 53, 12: 53, 13: 53, 14: 53, 15: 52, 16: 52, 17: 53, 18: 50, 19: 50, 20: 50, 21: 50, 22: 53, 23: 52, 24: 52, 25: 53, 26: 53, 27: 52, 28: 52, 29: 52, 30: 53, 31: 50, 32: 50, 33: 50, 34: 50, 35: 53, 36: 50, 37: 52, 38: 53, 39: 52, 40: 50, 41: 50, 42: 52, 43: 53, 44: 53, 45: 50, 46: 53, 47: 50}\n"
          ],
          "name": "stdout"
        }
      ]
    },
    {
      "cell_type": "code",
      "metadata": {
        "id": "pAF7Mu8Tvp4t",
        "colab_type": "code",
        "outputId": "93c4d552-8717-4bf7-f731-97d019d0e681",
        "colab": {
          "base_uri": "https://localhost:8080/",
          "height": 294
        }
      },
      "source": [
        "plotGW(G,2)"
      ],
      "execution_count": 12,
      "outputs": [
        {
          "output_type": "stream",
          "text": [
            "11\n"
          ],
          "name": "stdout"
        },
        {
          "output_type": "display_data",
          "data": {
            "image/png": "[encoded data removed]",
            "text/plain": [
              "<Figure size 432x288 with 2 Axes>"
            ]
          },
          "metadata": {
            "tags": []
          }
        },
        {
          "output_type": "stream",
          "text": [
            "{48: 52, 49: 51, 50: 52, 51: 51, 52: 51, 53: 51, 54: 50, 55: 50, 56: 50, 57: 50, 58: 50}\n"
          ],
          "name": "stdout"
        }
      ]
    },
    {
      "cell_type": "code",
      "metadata": {
        "id": "TUllgenOGfMt",
        "colab_type": "code",
        "outputId": "11b3465d-2d08-4bb0-fff1-2c4d168f783c",
        "colab": {
          "base_uri": "https://localhost:8080/",
          "height": 294
        }
      },
      "source": [
        "plotGW(G,3)"
      ],
      "execution_count": 13,
      "outputs": [
        {
          "output_type": "stream",
          "text": [
            "9\n"
          ],
          "name": "stdout"
        },
        {
          "output_type": "display_data",
          "data": {
            "image/png": "[encoded data removed]",
            "text/plain": [
              "<Figure size 432x288 with 2 Axes>"
            ]
          },
          "metadata": {
            "tags": []
          }
        },
        {
          "output_type": "stream",
          "text": [
            "{64: 50, 65: 53, 66: 51, 67: 50, 59: 51, 60: 51, 61: 50, 62: 53, 63: 51}\n"
          ],
          "name": "stdout"
        }
      ]
    },
    {
      "cell_type": "code",
      "metadata": {
        "id": "XIpyDNCaM5SS",
        "colab_type": "code",
        "outputId": "538d5d5b-884d-4c03-b77d-3e290d10ca88",
        "colab": {
          "base_uri": "https://localhost:8080/",
          "height": 294
        }
      },
      "source": [
        "plotGW(G,251)"
      ],
      "execution_count": 14,
      "outputs": [
        {
          "output_type": "stream",
          "text": [
            "11\n"
          ],
          "name": "stdout"
        },
        {
          "output_type": "display_data",
          "data": {
            "image/png": "[encoded data removed]",
            "text/plain": [
              "<Figure size 432x288 with 2 Axes>"
            ]
          },
          "metadata": {
            "tags": []
          }
        },
        {
          "output_type": "stream",
          "text": [
            "{3717: 53, 3718: 51, 3719: 53, 3720: 50, 3721: 50, 3722: 50, 3723: 53, 3724: 51, 3725: 50, 3726: 50, 3727: 50}\n"
          ],
          "name": "stdout"
        }
      ]
    },
    {
      "cell_type": "code",
      "metadata": {
        "id": "vNY1lkrIRF15",
        "colab_type": "code",
        "outputId": "a258f5f3-10fe-41e9-c80e-cb4124b763f1",
        "colab": {
          "base_uri": "https://localhost:8080/",
          "height": 314
        }
      },
      "source": [
        "plotGW(G,11)"
      ],
      "execution_count": 15,
      "outputs": [
        {
          "output_type": "stream",
          "text": [
            "76\n"
          ],
          "name": "stdout"
        },
        {
          "output_type": "display_data",
          "data": {
            "image/png": "[encoded data removed]",
            "text/plain": [
              "<Figure size 432x288 with 2 Axes>"
            ]
          },
          "metadata": {
            "tags": []
          }
        },
        {
          "output_type": "stream",
          "text": [
            "{150: 53, 151: 53, 152: 52, 153: 52, 154: 53, 155: 53, 156: 52, 157: 53, 158: 52, 159: 52, 160: 52, 161: 53, 162: 50, 163: 53, 164: 52, 165: 53, 166: 52, 167: 53, 168: 50, 169: 52, 170: 53, 171: 50, 172: 53, 173: 53, 174: 52, 175: 53, 176: 52, 177: 52, 178: 53, 179: 50, 180: 51, 181: 50, 182: 50, 183: 50, 184: 51, 185: 50, 186: 50, 187: 50, 188: 50, 189: 53, 190: 53, 191: 52, 192: 52, 193: 53, 194: 53, 195: 52, 196: 53, 197: 52, 198: 52, 199: 52, 200: 53, 201: 50, 202: 53, 203: 52, 204: 53, 205: 52, 206: 53, 207: 50, 208: 52, 209: 53, 210: 50, 211: 53, 212: 53, 213: 52, 214: 53, 215: 52, 216: 52, 217: 51, 218: 50, 219: 50, 220: 50, 221: 51, 222: 50, 223: 50, 224: 50, 225: 50}\n"
          ],
          "name": "stdout"
        }
      ]
    },
    {
      "cell_type": "code",
      "metadata": {
        "id": "atiOOj03RKPJ",
        "colab_type": "code",
        "outputId": "8086c852-b244-42b9-e2f9-20844e837fbc",
        "colab": {
          "base_uri": "https://localhost:8080/",
          "height": 294
        }
      },
      "source": [
        "plotGW(G,260)"
      ],
      "execution_count": 16,
      "outputs": [
        {
          "output_type": "stream",
          "text": [
            "12\n"
          ],
          "name": "stdout"
        },
        {
          "output_type": "display_data",
          "data": {
            "image/png": "[encoded data removed]",
            "text/plain": [
              "<Figure size 432x288 with 2 Axes>"
            ]
          },
          "metadata": {
            "tags": []
          }
        },
        {
          "output_type": "stream",
          "text": [
            "{3823: 53, 3824: 52, 3825: 51, 3826: 52, 3827: 53, 3828: 51, 3829: 50, 3830: 50, 3831: 51, 3832: 50, 3833: 50, 3834: 50}\n"
          ],
          "name": "stdout"
        }
      ]
    },
    {
      "cell_type": "code",
      "metadata": {
        "id": "_-QuZA4MRMri",
        "colab_type": "code",
        "outputId": "fc739796-ef7c-417a-9b52-db853716ce7a",
        "colab": {
          "base_uri": "https://localhost:8080/",
          "height": 294
        }
      },
      "source": [
        "plotGW(G,18)"
      ],
      "execution_count": 17,
      "outputs": [
        {
          "output_type": "stream",
          "text": [
            "9\n"
          ],
          "name": "stdout"
        },
        {
          "output_type": "display_data",
          "data": {
            "image/png": "[encoded data removed]",
            "text/plain": [
              "<Figure size 432x288 with 2 Axes>"
            ]
          },
          "metadata": {
            "tags": []
          }
        },
        {
          "output_type": "stream",
          "text": [
            "{299: 53, 300: 51, 301: 51, 302: 51, 303: 53, 304: 50, 305: 51, 306: 50, 307: 50}\n"
          ],
          "name": "stdout"
        }
      ]
    },
    {
      "cell_type": "code",
      "metadata": {
        "id": "m26A0mUrRPIR",
        "colab_type": "code",
        "outputId": "ced90552-1995-41a8-fce7-7548071e7753",
        "colab": {
          "base_uri": "https://localhost:8080/",
          "height": 294
        }
      },
      "source": [
        "plotGW(G,140)"
      ],
      "execution_count": 18,
      "outputs": [
        {
          "output_type": "stream",
          "text": [
            "24\n"
          ],
          "name": "stdout"
        },
        {
          "output_type": "display_data",
          "data": {
            "image/png": "[encoded data removed]",
            "text/plain": [
              "<Figure size 432x288 with 2 Axes>"
            ]
          },
          "metadata": {
            "tags": []
          }
        },
        {
          "output_type": "stream",
          "text": [
            "{1994: 52, 1995: 52, 1996: 51, 1997: 53, 1998: 52, 1999: 53, 2000: 50, 2001: 52, 2002: 53, 2003: 52, 2004: 53, 2005: 53, 2006: 52, 2007: 52, 2008: 50, 2009: 53, 2010: 50, 2011: 52, 2012: 53, 2013: 52, 2014: 52, 2015: 52, 2016: 52, 2017: 50}\n"
          ],
          "name": "stdout"
        }
      ]
    },
    {
      "cell_type": "code",
      "metadata": {
        "id": "V099nA0W3_Ke",
        "colab_type": "code",
        "colab": {}
      },
      "source": [
        "from module import walk_as_string"
      ],
      "execution_count": 0,
      "outputs": []
    },
    {
      "cell_type": "code",
      "metadata": {
        "id": "ZS0mgPZo4PED",
        "colab_type": "code",
        "outputId": "02dc0f01-ca53-454b-dd80-cc9642ac8ad8",
        "colab": {
          "base_uri": "https://localhost:8080/",
          "height": 484
        }
      },
      "source": [
        "walks = walk_as_string(G, componentLabels = y)"
      ],
      "execution_count": 20,
      "outputs": [
        {
          "output_type": "stream",
          "text": [
            "Walk iteration:\n",
            "('1', '/', '20')\n",
            "('2', '/', '20')\n",
            "('3', '/', '20')\n",
            "('4', '/', '20')\n",
            "('5', '/', '20')\n",
            "('6', '/', '20')\n",
            "('7', '/', '20')\n",
            "('8', '/', '20')\n",
            "('9', '/', '20')\n",
            "('10', '/', '20')\n",
            "('11', '/', '20')\n",
            "('12', '/', '20')\n",
            "('13', '/', '20')\n",
            "('14', '/', '20')\n",
            "('15', '/', '20')\n",
            "('16', '/', '20')\n",
            "('17', '/', '20')\n",
            "('18', '/', '20')\n",
            "('19', '/', '20')\n",
            "('20', '/', '20')\n"
          ],
          "name": "stdout"
        },
        {
          "output_type": "stream",
          "text": [
            "/content/WalkRNN/module.py:140: FutureWarning: Method .as_matrix will be removed in a future version. Use .values instead.\n",
            "  sorted_walks = pd.DataFrame(walks).sort_values(0).as_matrix()\n"
          ],
          "name": "stderr"
        },
        {
          "output_type": "stream",
          "text": [
            "[ 1  6  5  6  5  4  7  4  3  2  1  6  5  4  7  4  7  8  9 46 47 46 47 46  9 46  9 46  9 46]\n",
            "[ 1  2 12 13 27 13 27 13 12 13 14 38 37 38 14 38 37 29 37 39 37 29 34 33 34 29 34 33 36 33]\n",
            "[ 1  6  1  2 12 13 12  2  1  6  5 10  5  4  7  8  9 10  9 46 47 46  9 46 47 46 47 46 47 46]\n"
          ],
          "name": "stdout"
        }
      ]
    },
    {
      "cell_type": "code",
      "metadata": {
        "id": "AVzunvIC1-6B",
        "colab_type": "code",
        "colab": {}
      },
      "source": [
        "from fastai.text import *\n",
        "from sklearn.model_selection import train_test_split\n",
        "import numpy"
      ],
      "execution_count": 0,
      "outputs": []
    },
    {
      "cell_type": "code",
      "metadata": {
        "id": "kwjfuvQZhwmT",
        "colab_type": "code",
        "outputId": "81573efc-3068-4bec-8647-317003b96d80",
        "colab": {
          "base_uri": "https://localhost:8080/",
          "height": 189
        }
      },
      "source": [
        "walks.head()"
      ],
      "execution_count": 22,
      "outputs": [
        {
          "output_type": "execute_result",
          "data": {
            "text/html": [
              "<div>\n",
              "<style scoped>\n",
              "    .dataframe tbody tr th:only-of-type {\n",
              "        vertical-align: middle;\n",
              "    }\n",
              "\n",
              "    .dataframe tbody tr th {\n",
              "        vertical-align: top;\n",
              "    }\n",
              "\n",
              "    .dataframe thead th {\n",
              "        text-align: right;\n",
              "    }\n",
              "</style>\n",
              "<table border=\"1\" class=\"dataframe\">\n",
              "  <thead>\n",
              "    <tr style=\"text-align: right;\">\n",
              "      <th></th>\n",
              "      <th>walk</th>\n",
              "      <th>label</th>\n",
              "      <th>start_node</th>\n",
              "      <th>component</th>\n",
              "    </tr>\n",
              "  </thead>\n",
              "  <tbody>\n",
              "    <tr>\n",
              "      <th>0</th>\n",
              "      <td>4 5 41 45 52 56 60 4 5 41 45 53 56 59 0 5 41 4...</td>\n",
              "      <td>0</td>\n",
              "      <td>1</td>\n",
              "      <td>1</td>\n",
              "    </tr>\n",
              "    <tr>\n",
              "      <th>1</th>\n",
              "      <td>4 5 41 45 52 56 59 4 5 41 45 53 56 59 4 6 41 4...</td>\n",
              "      <td>0</td>\n",
              "      <td>1</td>\n",
              "      <td>1</td>\n",
              "    </tr>\n",
              "    <tr>\n",
              "      <th>2</th>\n",
              "      <td>4 5 41 45 52 56 60 4 5 41 45 53 56 60 4 5 41 4...</td>\n",
              "      <td>0</td>\n",
              "      <td>1</td>\n",
              "      <td>1</td>\n",
              "    </tr>\n",
              "    <tr>\n",
              "      <th>3</th>\n",
              "      <td>4 5 41 45 52 56 59 4 5 41 45 53 56 59 4 5 41 4...</td>\n",
              "      <td>0</td>\n",
              "      <td>1</td>\n",
              "      <td>1</td>\n",
              "    </tr>\n",
              "    <tr>\n",
              "      <th>4</th>\n",
              "      <td>4 5 41 45 52 56 60 4 5 41 45 53 56 60 4 5 41 4...</td>\n",
              "      <td>0</td>\n",
              "      <td>1</td>\n",
              "      <td>1</td>\n",
              "    </tr>\n",
              "  </tbody>\n",
              "</table>\n",
              "</div>"
            ],
            "text/plain": [
              "                                                walk  ...  component\n",
              "0  4 5 41 45 52 56 60 4 5 41 45 53 56 59 0 5 41 4...  ...          1\n",
              "1  4 5 41 45 52 56 59 4 5 41 45 53 56 59 4 6 41 4...  ...          1\n",
              "2  4 5 41 45 52 56 60 4 5 41 45 53 56 60 4 5 41 4...  ...          1\n",
              "3  4 5 41 45 52 56 59 4 5 41 45 53 56 59 4 5 41 4...  ...          1\n",
              "4  4 5 41 45 52 56 60 4 5 41 45 53 56 60 4 5 41 4...  ...          1\n",
              "\n",
              "[5 rows x 4 columns]"
            ]
          },
          "metadata": {
            "tags": []
          },
          "execution_count": 22
        }
      ]
    },
    {
      "cell_type": "code",
      "metadata": {
        "id": "o1VO6MkuiVqB",
        "colab_type": "code",
        "outputId": "1c6bc5dd-e926-4c90-bb53-7d059c4137e0",
        "colab": {
          "base_uri": "https://localhost:8080/",
          "height": 34
        }
      },
      "source": [
        "walks.shape"
      ],
      "execution_count": 23,
      "outputs": [
        {
          "output_type": "execute_result",
          "data": {
            "text/plain": [
              "(623500, 4)"
            ]
          },
          "metadata": {
            "tags": []
          },
          "execution_count": 23
        }
      ]
    },
    {
      "cell_type": "code",
      "metadata": {
        "id": "7wNVf9JKdmfy",
        "colab_type": "code",
        "colab": {}
      },
      "source": [
        "from sklearn.model_selection import train_test_split\n",
        "import numpy\n",
        "data = list(set(walks.component))\n",
        "x_traina ,x_test = train_test_split(data,test_size=0.1)    \n",
        "x_train ,x_val = train_test_split(x_traina,test_size=0.2)  \n"
      ],
      "execution_count": 0,
      "outputs": []
    },
    {
      "cell_type": "code",
      "metadata": {
        "id": "76ro7tvTdxrl",
        "colab_type": "code",
        "outputId": "eaf42373-f428-4e10-a696-dca4b4e65831",
        "colab": {
          "base_uri": "https://localhost:8080/",
          "height": 34
        }
      },
      "source": [
        "train_tmp = pd.DataFrame(x_train)\n",
        "train_tmp.columns = ['component']\n",
        "df_train = pd.merge(walks, train_tmp, on='component', sort=False)\n",
        "df_train.shape"
      ],
      "execution_count": 25,
      "outputs": [
        {
          "output_type": "execute_result",
          "data": {
            "text/plain": [
              "(436740, 4)"
            ]
          },
          "metadata": {
            "tags": []
          },
          "execution_count": 25
        }
      ]
    },
    {
      "cell_type": "code",
      "metadata": {
        "id": "xDBYiP6Hd2Dd",
        "colab_type": "code",
        "outputId": "6f35441c-2383-4f1a-9e1a-ad5c13310c3e",
        "colab": {
          "base_uri": "https://localhost:8080/",
          "height": 34
        }
      },
      "source": [
        "test_tmp = pd.DataFrame(x_test)\n",
        "test_tmp.columns = ['component']\n",
        "df_test = pd.merge(walks, test_tmp, on='component', sort=False)\n",
        "df_test.shape"
      ],
      "execution_count": 26,
      "outputs": [
        {
          "output_type": "execute_result",
          "data": {
            "text/plain": [
              "(69260, 4)"
            ]
          },
          "metadata": {
            "tags": []
          },
          "execution_count": 26
        }
      ]
    },
    {
      "cell_type": "code",
      "metadata": {
        "id": "bjLmYukLeCHq",
        "colab_type": "code",
        "outputId": "cdf2d13e-af0f-42c5-be42-8d16036331cf",
        "colab": {
          "base_uri": "https://localhost:8080/",
          "height": 34
        }
      },
      "source": [
        "val_tmp = pd.DataFrame(x_val)\n",
        "val_tmp.columns = ['component']\n",
        "df_val = pd.merge(walks, val_tmp, on='component', sort=False)\n",
        "df_val.shape"
      ],
      "execution_count": 27,
      "outputs": [
        {
          "output_type": "execute_result",
          "data": {
            "text/plain": [
              "(117500, 4)"
            ]
          },
          "metadata": {
            "tags": []
          },
          "execution_count": 27
        }
      ]
    },
    {
      "cell_type": "code",
      "metadata": {
        "id": "jUebKPZo9j7H",
        "colab_type": "code",
        "colab": {}
      },
      "source": [
        "!mkdir result\n",
        "mypath = './result'"
      ],
      "execution_count": 0,
      "outputs": []
    },
    {
      "cell_type": "code",
      "metadata": {
        "id": "nIiT5y-B6Pbl",
        "colab_type": "code",
        "colab": {}
      },
      "source": [
        "data_lm = TextLMDataBunch.from_df(train_df=df_train[['walk', 'label']], valid_df=df_val[[\n",
        "                                  'walk', 'label']],  path=mypath, text_cols='walk', label_cols='label')\n"
      ],
      "execution_count": 0,
      "outputs": []
    },
    {
      "cell_type": "code",
      "metadata": {
        "id": "PGky3pxO94ym",
        "colab_type": "code",
        "colab": {}
      },
      "source": [
        "data_lm.save('data_lm.pkl')"
      ],
      "execution_count": 0,
      "outputs": []
    },
    {
      "cell_type": "code",
      "metadata": {
        "id": "TMrIxld1OHnu",
        "colab_type": "code",
        "outputId": "621f0ee5-7e53-4785-95b6-e074b87e0bf1",
        "colab": {
          "base_uri": "https://localhost:8080/",
          "height": 52
        }
      },
      "source": [
        "!ls -l ./result"
      ],
      "execution_count": 31,
      "outputs": [
        {
          "output_type": "stream",
          "text": [
            "total 1232412\n",
            "-rw-r--r-- 1 root root 1261984649 Sep 28 03:44 data_lm.pkl\n"
          ],
          "name": "stdout"
        }
      ]
    },
    {
      "cell_type": "code",
      "metadata": {
        "id": "toyh21Rp9_Yn",
        "colab_type": "code",
        "colab": {}
      },
      "source": [
        "bs = 32\n",
        "# load the data (can be used in the future as well to prevent reprocessing)\n",
        "data_lm = load_data(mypath, 'data_lm.pkl', bs=bs)\n"
      ],
      "execution_count": 0,
      "outputs": []
    },
    {
      "cell_type": "code",
      "metadata": {
        "id": "ig9trRhkLccB",
        "colab_type": "code",
        "outputId": "e0e8ac59-8a1c-49ec-ff5a-46ea17669a57",
        "colab": {
          "base_uri": "https://localhost:8080/",
          "height": 189
        }
      },
      "source": [
        "data_lm.show_batch() # take a look at the batch fed into the GPU"
      ],
      "execution_count": 33,
      "outputs": [
        {
          "output_type": "display_data",
          "data": {
            "text/html": [
              "<table border=\"1\" class=\"dataframe\">\n",
              "  <thead>\n",
              "    <tr style=\"text-align: right;\">\n",
              "      <th>idx</th>\n",
              "      <th>text</th>\n",
              "    </tr>\n",
              "  </thead>\n",
              "  <tbody>\n",
              "    <tr>\n",
              "      <td>0</td>\n",
              "      <td>59 4 5 41 45 52 56 60 4 5 41 45 53 56 59 0 5 41 45 53 56 60 0 5 41 45 52 56 59 0 6 41 45 53 56 59 0 5 41 45 52 56 59 0 6 41 45 53 56 59 0 5 41 45 50 56 59 0 5 41 45 52 56 59 0 6 41 45 53 56</td>\n",
              "    </tr>\n",
              "    <tr>\n",
              "      <td>1</td>\n",
              "      <td>53 55 59 1 5 41 45 52 55 59 1 5 41 45 53 55 59 2 5 41 45 51 55 59 1 5 41 45 53 55 59 1 5 41 45 50 55 59 1 5 41 45 53 55 59 1 5 41 45 50 55 59 1 5 41 45 53 55 59 1 5 41 45 50 55 59 1 5 41 45</td>\n",
              "    </tr>\n",
              "    <tr>\n",
              "      <td>2</td>\n",
              "      <td>40 45 52 54 60 0 7 40 45 52 54 60 0 7 40 45 52 54 59 0 5 41 45 53 57 60 0 5 41 45 53 57 59 0 5 41 45 52 57 60 0 7 40 45 52 57 59 0 7 40 45 52 57 60 2 5 41 45 53 57 59 0 5 41 45 53 57 60 0 5</td>\n",
              "    </tr>\n",
              "    <tr>\n",
              "      <td>3</td>\n",
              "      <td>0 10 40 45 51 54 59 0 6 41 45 50 57 59 0 10 40 45 51 54 59 0 6 41 45 50 57 59 0 10 40 45 51 54 60 0 6 41 45 50 54 60 0 10 40 45 51 54 59 0 6 41 45 50 57 59 0 10 40 45 51 54 xxbos 4 6 41 45 50 57 60</td>\n",
              "    </tr>\n",
              "    <tr>\n",
              "      <td>4</td>\n",
              "      <td>60 0 10 40 45 51 57 59 2 5 41 45 53 57 59 0 5 41 45 53 54 59 2 5 41 45 53 57 59 0 10 40 45 51 57 xxbos 2 5 41 45 50 54 59 0 17 42 45 51 54 59 2 5 41 45 53 54 59 0 5 41 45 53 54 59 2 5 41 45 53 57</td>\n",
              "    </tr>\n",
              "  </tbody>\n",
              "</table>"
            ],
            "text/plain": [
              "<IPython.core.display.HTML object>"
            ]
          },
          "metadata": {
            "tags": []
          }
        }
      ]
    },
    {
      "cell_type": "code",
      "metadata": {
        "id": "vCOueJDZXNCJ",
        "colab_type": "code",
        "colab": {}
      },
      "source": [
        "awd_lstm_lm_config = dict(emb_sz=400, n_hid=600, n_layers=1, pad_token=1, qrnn=False, bidir=False, output_p=0.1, hidden_p=0.15, input_p=0.25, embed_p=0.02, weight_p=0.2, tie_weights=True, out_bias=True)\n",
        "awd_lstm_clas_config = dict(emb_sz=400, n_hid=600, n_layers=1, pad_token=1, qrnn=False, bidir=False, output_p=0.4,  hidden_p=0.3, input_p=0.4, embed_p=0.05, weight_p=0.5)"
      ],
      "execution_count": 0,
      "outputs": []
    },
    {
      "cell_type": "code",
      "metadata": {
        "id": "mFr6Dq5d-B6E",
        "colab_type": "code",
        "outputId": "bcfb0b95-1d17-47c6-aaca-5456a171a636",
        "colab": {
          "base_uri": "https://localhost:8080/",
          "height": 877
        }
      },
      "source": [
        "\n",
        "learn = language_model_learner(data_lm,arch=AWD_LSTM,config= awd_lstm_lm_config,drop_mult=1.9, callback_fns=ShowGraph,pretrained=False)\n",
        "learn.lr_find()\n",
        "learn.recorder.plot()\n",
        "learn.fit_one_cycle(1, 1e-2, moms=(0.8,0.7))\n",
        "learn.recorder.plot_losses()\n",
        "learn.save('fit-head')\n",
        "\n"
      ],
      "execution_count": 35,
      "outputs": [
        {
          "output_type": "display_data",
          "data": {
            "text/html": [
              ""
            ],
            "text/plain": [
              "<IPython.core.display.HTML object>"
            ]
          },
          "metadata": {
            "tags": []
          }
        },
        {
          "output_type": "stream",
          "text": [
            "LR Finder is complete, type {learner_name}.recorder.plot() to see the graph.\n"
          ],
          "name": "stdout"
        },
        {
          "output_type": "display_data",
          "data": {
            "text/html": [
              "<table border=\"1\" class=\"dataframe\">\n",
              "  <thead>\n",
              "    <tr style=\"text-align: left;\">\n",
              "      <th>epoch</th>\n",
              "      <th>train_loss</th>\n",
              "      <th>valid_loss</th>\n",
              "      <th>accuracy</th>\n",
              "      <th>time</th>\n",
              "    </tr>\n",
              "  </thead>\n",
              "  <tbody>\n",
              "    <tr>\n",
              "      <td>0</td>\n",
              "      <td>0.368526</td>\n",
              "      <td>0.339708</td>\n",
              "      <td>0.861037</td>\n",
              "      <td>23:11</td>\n",
              "    </tr>\n",
              "  </tbody>\n",
              "</table>"
            ],
            "text/plain": [
              "<IPython.core.display.HTML object>"
            ]
          },
          "metadata": {
            "tags": []
          }
        },
        {
          "output_type": "display_data",
          "data": {
            "image/png": "[encoded data removed]",
            "text/plain": [
              "<Figure size 432x288 with 1 Axes>"
            ]
          },
          "metadata": {
            "tags": []
          }
        },
        {
          "output_type": "display_data",
          "data": {
            "image/png": "[encoded data removed]",
            "text/plain": [
              "<Figure size 432x288 with 1 Axes>"
            ]
          },
          "metadata": {
            "tags": []
          }
        },
        {
          "output_type": "display_data",
          "data": {
            "image/png": "[encoded data removed]",
            "text/plain": [
              "<Figure size 432x288 with 1 Axes>"
            ]
          },
          "metadata": {
            "tags": []
          }
        }
      ]
    },
    {
      "cell_type": "code",
      "metadata": {
        "id": "7LiPMqtHGbIv",
        "colab_type": "code",
        "outputId": "810edf86-967e-46b0-8219-f9677a7e4b67",
        "colab": {
          "base_uri": "https://localhost:8080/",
          "height": 301
        }
      },
      "source": [
        "learn.unfreeze()\n",
        "learn.lr_find()\n",
        "learn.recorder.plot()"
      ],
      "execution_count": 36,
      "outputs": [
        {
          "output_type": "display_data",
          "data": {
            "text/html": [
              ""
            ],
            "text/plain": [
              "<IPython.core.display.HTML object>"
            ]
          },
          "metadata": {
            "tags": []
          }
        },
        {
          "output_type": "stream",
          "text": [
            "LR Finder is complete, type {learner_name}.recorder.plot() to see the graph.\n"
          ],
          "name": "stdout"
        },
        {
          "output_type": "display_data",
          "data": {
            "image/png": "[encoded data removed]",
            "text/plain": [
              "<Figure size 432x288 with 1 Axes>"
            ]
          },
          "metadata": {
            "tags": []
          }
        }
      ]
    },
    {
      "cell_type": "code",
      "metadata": {
        "id": "6TE19CDyHA54",
        "colab_type": "code",
        "outputId": "1ad8eda0-413c-4ec3-b209-b77137cf4e70",
        "colab": {
          "base_uri": "https://localhost:8080/",
          "height": 355
        }
      },
      "source": [
        "learn.fit_one_cycle(2, .01, moms=(0.8,0.7))"
      ],
      "execution_count": 37,
      "outputs": [
        {
          "output_type": "display_data",
          "data": {
            "text/html": [
              "<table border=\"1\" class=\"dataframe\">\n",
              "  <thead>\n",
              "    <tr style=\"text-align: left;\">\n",
              "      <th>epoch</th>\n",
              "      <th>train_loss</th>\n",
              "      <th>valid_loss</th>\n",
              "      <th>accuracy</th>\n",
              "      <th>time</th>\n",
              "    </tr>\n",
              "  </thead>\n",
              "  <tbody>\n",
              "    <tr>\n",
              "      <td>0</td>\n",
              "      <td>0.392921</td>\n",
              "      <td>0.358699</td>\n",
              "      <td>0.856413</td>\n",
              "      <td>23:08</td>\n",
              "    </tr>\n",
              "    <tr>\n",
              "      <td>1</td>\n",
              "      <td>0.345382</td>\n",
              "      <td>0.331959</td>\n",
              "      <td>0.864703</td>\n",
              "      <td>23:12</td>\n",
              "    </tr>\n",
              "  </tbody>\n",
              "</table>"
            ],
            "text/plain": [
              "<IPython.core.display.HTML object>"
            ]
          },
          "metadata": {
            "tags": []
          }
        },
        {
          "output_type": "display_data",
          "data": {
            "image/png": "[encoded data removed]",
            "text/plain": [
              "<Figure size 432x288 with 1 Axes>"
            ]
          },
          "metadata": {
            "tags": []
          }
        }
      ]
    },
    {
      "cell_type": "code",
      "metadata": {
        "id": "NcovqscTHKID",
        "colab_type": "code",
        "colab": {}
      },
      "source": [
        "learn.save('fit-head')"
      ],
      "execution_count": 0,
      "outputs": []
    },
    {
      "cell_type": "code",
      "metadata": {
        "id": "IbxpqRfHJFEG",
        "colab_type": "code",
        "colab": {}
      },
      "source": [
        "learn.save_encoder('fine_tuned_enc3')"
      ],
      "execution_count": 0,
      "outputs": []
    },
    {
      "cell_type": "code",
      "metadata": {
        "id": "GbfYoP9NJ6Ai",
        "colab_type": "code",
        "outputId": "6bfaed58-1083-41bf-bf50-cf1df3a5bcf5",
        "colab": {
          "base_uri": "https://localhost:8080/",
          "height": 189
        }
      },
      "source": [
        "df = walks.sample(frac=1).reset_index(drop=True)\n",
        "df['index1']=df.index\n",
        "\n",
        "g = df.groupby('component')\n",
        "df['RN'] = g['index1'].rank(method='min')\n",
        "\n",
        "df[df['component']==1].head()\n"
      ],
      "execution_count": 40,
      "outputs": [
        {
          "output_type": "execute_result",
          "data": {
            "text/html": [
              "<div>\n",
              "<style scoped>\n",
              "    .dataframe tbody tr th:only-of-type {\n",
              "        vertical-align: middle;\n",
              "    }\n",
              "\n",
              "    .dataframe tbody tr th {\n",
              "        vertical-align: top;\n",
              "    }\n",
              "\n",
              "    .dataframe thead th {\n",
              "        text-align: right;\n",
              "    }\n",
              "</style>\n",
              "<table border=\"1\" class=\"dataframe\">\n",
              "  <thead>\n",
              "    <tr style=\"text-align: right;\">\n",
              "      <th></th>\n",
              "      <th>walk</th>\n",
              "      <th>label</th>\n",
              "      <th>start_node</th>\n",
              "      <th>component</th>\n",
              "      <th>index1</th>\n",
              "      <th>RN</th>\n",
              "    </tr>\n",
              "  </thead>\n",
              "  <tbody>\n",
              "    <tr>\n",
              "      <th>653</th>\n",
              "      <td>0 5 41 45 53 57 59 0 5 41 45 52 54 59 0 5 41 4...</td>\n",
              "      <td>0</td>\n",
              "      <td>35</td>\n",
              "      <td>1</td>\n",
              "      <td>653</td>\n",
              "      <td>1.0</td>\n",
              "    </tr>\n",
              "    <tr>\n",
              "      <th>941</th>\n",
              "      <td>0 6 41 45 53 54 59 0 5 41 45 53 54 59 4 5 41 4...</td>\n",
              "      <td>0</td>\n",
              "      <td>38</td>\n",
              "      <td>1</td>\n",
              "      <td>941</td>\n",
              "      <td>2.0</td>\n",
              "    </tr>\n",
              "    <tr>\n",
              "      <th>1132</th>\n",
              "      <td>0 6 41 45 53 56 59 0 5 41 45 50 55 59 0 6 41 4...</td>\n",
              "      <td>0</td>\n",
              "      <td>46</td>\n",
              "      <td>1</td>\n",
              "      <td>1132</td>\n",
              "      <td>3.0</td>\n",
              "    </tr>\n",
              "    <tr>\n",
              "      <th>1703</th>\n",
              "      <td>2 6 41 45 53 56 60 0 5 41 45 50 56 59 0 5 41 4...</td>\n",
              "      <td>0</td>\n",
              "      <td>11</td>\n",
              "      <td>1</td>\n",
              "      <td>1703</td>\n",
              "      <td>4.0</td>\n",
              "    </tr>\n",
              "    <tr>\n",
              "      <th>1724</th>\n",
              "      <td>0 5 41 45 52 54 59 0 6 41 45 53 56 59 0 5 41 4...</td>\n",
              "      <td>0</td>\n",
              "      <td>24</td>\n",
              "      <td>1</td>\n",
              "      <td>1724</td>\n",
              "      <td>5.0</td>\n",
              "    </tr>\n",
              "  </tbody>\n",
              "</table>\n",
              "</div>"
            ],
            "text/plain": [
              "                                                   walk  label  ...  index1   RN\n",
              "653   0 5 41 45 53 57 59 0 5 41 45 52 54 59 0 5 41 4...      0  ...     653  1.0\n",
              "941   0 6 41 45 53 54 59 0 5 41 45 53 54 59 4 5 41 4...      0  ...     941  2.0\n",
              "1132  0 6 41 45 53 56 59 0 5 41 45 50 55 59 0 6 41 4...      0  ...    1132  3.0\n",
              "1703  2 6 41 45 53 56 60 0 5 41 45 50 56 59 0 5 41 4...      0  ...    1703  4.0\n",
              "1724  0 5 41 45 52 54 59 0 6 41 45 53 56 59 0 5 41 4...      0  ...    1724  5.0\n",
              "\n",
              "[5 rows x 6 columns]"
            ]
          },
          "metadata": {
            "tags": []
          },
          "execution_count": 40
        }
      ]
    },
    {
      "cell_type": "markdown",
      "metadata": {
        "id": "s8b2JK0FxJJJ",
        "colab_type": "text"
      },
      "source": [
        "Choose a path per node and concatenate for entire component"
      ]
    },
    {
      "cell_type": "code",
      "metadata": {
        "id": "nMOusXPKxEaI",
        "colab_type": "code",
        "outputId": "4f72ebe6-af18-459c-97a4-918319a9656e",
        "colab": {
          "base_uri": "https://localhost:8080/",
          "height": 217
        }
      },
      "source": [
        "df.groupby('component')['walk'].apply(lambda x: ', '.join(x))\n",
        "\n",
        "def f(x):\n",
        "     return Series(dict(label = x['label'].min(), text =  ', '.join(x['walk'])))\n",
        "df_text_comp = df[(df['RN']<=9.0)].groupby('component').apply(f)\n",
        "df_text_comp.head()"
      ],
      "execution_count": 41,
      "outputs": [
        {
          "output_type": "execute_result",
          "data": {
            "text/html": [
              "<div>\n",
              "<style scoped>\n",
              "    .dataframe tbody tr th:only-of-type {\n",
              "        vertical-align: middle;\n",
              "    }\n",
              "\n",
              "    .dataframe tbody tr th {\n",
              "        vertical-align: top;\n",
              "    }\n",
              "\n",
              "    .dataframe thead th {\n",
              "        text-align: right;\n",
              "    }\n",
              "</style>\n",
              "<table border=\"1\" class=\"dataframe\">\n",
              "  <thead>\n",
              "    <tr style=\"text-align: right;\">\n",
              "      <th></th>\n",
              "      <th>label</th>\n",
              "      <th>text</th>\n",
              "    </tr>\n",
              "    <tr>\n",
              "      <th>component</th>\n",
              "      <th></th>\n",
              "      <th></th>\n",
              "    </tr>\n",
              "  </thead>\n",
              "  <tbody>\n",
              "    <tr>\n",
              "      <th>1</th>\n",
              "      <td>0</td>\n",
              "      <td>0 5 41 45 53 57 59 0 5 41 45 52 54 59 0 5 41 4...</td>\n",
              "    </tr>\n",
              "    <tr>\n",
              "      <th>2</th>\n",
              "      <td>1</td>\n",
              "      <td>0 7 40 45 52 54 59 2 5 41 45 51 54 59 2 5 41 4...</td>\n",
              "    </tr>\n",
              "    <tr>\n",
              "      <th>3</th>\n",
              "      <td>1</td>\n",
              "      <td>2 5 41 45 50 54 59 2 5 41 45 51 54 59 2 7 40 4...</td>\n",
              "    </tr>\n",
              "    <tr>\n",
              "      <th>4</th>\n",
              "      <td>1</td>\n",
              "      <td>0 5 41 45 51 57 60 0 5 41 45 53 57 60 0 5 41 4...</td>\n",
              "    </tr>\n",
              "    <tr>\n",
              "      <th>5</th>\n",
              "      <td>0</td>\n",
              "      <td>2 6 41 45 52 54 59 2 5 41 45 53 57 59 0 7 40 4...</td>\n",
              "    </tr>\n",
              "  </tbody>\n",
              "</table>\n",
              "</div>"
            ],
            "text/plain": [
              "           label                                               text\n",
              "component                                                          \n",
              "1              0  0 5 41 45 53 57 59 0 5 41 45 52 54 59 0 5 41 4...\n",
              "2              1  0 7 40 45 52 54 59 2 5 41 45 51 54 59 2 5 41 4...\n",
              "3              1  2 5 41 45 50 54 59 2 5 41 45 51 54 59 2 7 40 4...\n",
              "4              1  0 5 41 45 51 57 60 0 5 41 45 53 57 60 0 5 41 4...\n",
              "5              0  2 6 41 45 52 54 59 2 5 41 45 53 57 59 0 7 40 4..."
            ]
          },
          "metadata": {
            "tags": []
          },
          "execution_count": 41
        }
      ]
    },
    {
      "cell_type": "code",
      "metadata": {
        "id": "S0Nmn3qUxR6l",
        "colab_type": "code",
        "outputId": "5932ff96-005a-4984-e128-ad376ce37149",
        "colab": {
          "base_uri": "https://localhost:8080/",
          "height": 217
        }
      },
      "source": [
        "df_text_comp['component']= df_text_comp.index\n",
        "df_text_comp.index.names = ['comp']\n",
        "df_text_comp.head()"
      ],
      "execution_count": 42,
      "outputs": [
        {
          "output_type": "execute_result",
          "data": {
            "text/html": [
              "<div>\n",
              "<style scoped>\n",
              "    .dataframe tbody tr th:only-of-type {\n",
              "        vertical-align: middle;\n",
              "    }\n",
              "\n",
              "    .dataframe tbody tr th {\n",
              "        vertical-align: top;\n",
              "    }\n",
              "\n",
              "    .dataframe thead th {\n",
              "        text-align: right;\n",
              "    }\n",
              "</style>\n",
              "<table border=\"1\" class=\"dataframe\">\n",
              "  <thead>\n",
              "    <tr style=\"text-align: right;\">\n",
              "      <th></th>\n",
              "      <th>label</th>\n",
              "      <th>text</th>\n",
              "      <th>component</th>\n",
              "    </tr>\n",
              "    <tr>\n",
              "      <th>comp</th>\n",
              "      <th></th>\n",
              "      <th></th>\n",
              "      <th></th>\n",
              "    </tr>\n",
              "  </thead>\n",
              "  <tbody>\n",
              "    <tr>\n",
              "      <th>1</th>\n",
              "      <td>0</td>\n",
              "      <td>0 5 41 45 53 57 59 0 5 41 45 52 54 59 0 5 41 4...</td>\n",
              "      <td>1</td>\n",
              "    </tr>\n",
              "    <tr>\n",
              "      <th>2</th>\n",
              "      <td>1</td>\n",
              "      <td>0 7 40 45 52 54 59 2 5 41 45 51 54 59 2 5 41 4...</td>\n",
              "      <td>2</td>\n",
              "    </tr>\n",
              "    <tr>\n",
              "      <th>3</th>\n",
              "      <td>1</td>\n",
              "      <td>2 5 41 45 50 54 59 2 5 41 45 51 54 59 2 7 40 4...</td>\n",
              "      <td>3</td>\n",
              "    </tr>\n",
              "    <tr>\n",
              "      <th>4</th>\n",
              "      <td>1</td>\n",
              "      <td>0 5 41 45 51 57 60 0 5 41 45 53 57 60 0 5 41 4...</td>\n",
              "      <td>4</td>\n",
              "    </tr>\n",
              "    <tr>\n",
              "      <th>5</th>\n",
              "      <td>0</td>\n",
              "      <td>2 6 41 45 52 54 59 2 5 41 45 53 57 59 0 7 40 4...</td>\n",
              "      <td>5</td>\n",
              "    </tr>\n",
              "  </tbody>\n",
              "</table>\n",
              "</div>"
            ],
            "text/plain": [
              "      label                                               text  component\n",
              "comp                                                                     \n",
              "1         0  0 5 41 45 53 57 59 0 5 41 45 52 54 59 0 5 41 4...          1\n",
              "2         1  0 7 40 45 52 54 59 2 5 41 45 51 54 59 2 5 41 4...          2\n",
              "3         1  2 5 41 45 50 54 59 2 5 41 45 51 54 59 2 7 40 4...          3\n",
              "4         1  0 5 41 45 51 57 60 0 5 41 45 53 57 60 0 5 41 4...          4\n",
              "5         0  2 6 41 45 52 54 59 2 5 41 45 53 57 59 0 7 40 4...          5"
            ]
          },
          "metadata": {
            "tags": []
          },
          "execution_count": 42
        }
      ]
    },
    {
      "cell_type": "code",
      "metadata": {
        "id": "rPXVjJv8xcJ1",
        "colab_type": "code",
        "outputId": "ebc4ad68-52e0-468c-8d42-71a486ab9061",
        "colab": {
          "base_uri": "https://localhost:8080/",
          "height": 34
        }
      },
      "source": [
        "train = pd.merge(df_text_comp, train_tmp, on='component', sort=False)\n",
        "test =  pd.merge(df_text_comp, test_tmp, on='component', sort=False)\n",
        "val =  pd.merge(df_text_comp, val_tmp, on='component', sort=False)\n",
        "(train.shape,val.shape, test.shape, train.shape[0]/df_text_comp.shape[0])"
      ],
      "execution_count": 43,
      "outputs": [
        {
          "output_type": "execute_result",
          "data": {
            "text/plain": [
              "((1440, 3), (360, 3), (200, 3), 0.72)"
            ]
          },
          "metadata": {
            "tags": []
          },
          "execution_count": 43
        }
      ]
    },
    {
      "cell_type": "code",
      "metadata": {
        "id": "rvWss3Ai2yTy",
        "colab_type": "code",
        "colab": {}
      },
      "source": [
        "bs=32#48\n",
        "\n",
        "data_clas = TextClasDataBunch.from_df(train_df=train[['text','label']],valid_df=val[['text','label']],  path=mypath, text_cols='text',label_cols = 'label', vocab=data_lm.vocab)\n"
      ],
      "execution_count": 0,
      "outputs": []
    },
    {
      "cell_type": "code",
      "metadata": {
        "id": "3ME-gd6I_zOk",
        "colab_type": "code",
        "colab": {}
      },
      "source": [
        "data_clas.save('tmp_clas')"
      ],
      "execution_count": 0,
      "outputs": []
    },
    {
      "cell_type": "code",
      "metadata": {
        "id": "ecomF0xU_25Q",
        "colab_type": "code",
        "colab": {}
      },
      "source": [
        "data_clas = load_data(mypath, 'tmp_clas', bs=bs)\n"
      ],
      "execution_count": 0,
      "outputs": []
    },
    {
      "cell_type": "code",
      "metadata": {
        "id": "l6dtwG6C_5_d",
        "colab_type": "code",
        "outputId": "eaa5bbb0-4f9e-4060-996a-bf09a7436c37",
        "colab": {
          "base_uri": "https://localhost:8080/",
          "height": 189
        }
      },
      "source": [
        "data_clas.show_batch()"
      ],
      "execution_count": 47,
      "outputs": [
        {
          "output_type": "display_data",
          "data": {
            "text/html": [
              "<table border=\"1\" class=\"dataframe\">\n",
              "  <thead>\n",
              "    <tr style=\"text-align: right;\">\n",
              "      <th>text</th>\n",
              "      <th>target</th>\n",
              "    </tr>\n",
              "  </thead>\n",
              "  <tbody>\n",
              "    <tr>\n",
              "      <td>xxbos 0 5 41 45 51 54 59 0 5 41 45 51 54 59 0 5 41 45 51 54 59 0 5 41 45 51 54 59 2 5 41 45 53 54 59 0 5 41 45 51 54 59 2 5 41 45 53 54 59 0 5 41 45 51 54 59 2 5 41 45 53 54 59 2 5 41 45 53 57</td>\n",
              "      <td>1</td>\n",
              "    </tr>\n",
              "    <tr>\n",
              "      <td>xxbos 0 5 41 45 50 54 59 4 7 40 45 51 54 59 0 5 41 45 50 54 59 4 7 40 45 51 54 59 4 5 41 45 52 56 60 4 5 41 45 52 54 59 4 5 41 45 52 54 60 4 5 41 45 53 54 59 4 5 41 45 53 54 59 4 5 41 45 53 54</td>\n",
              "      <td>0</td>\n",
              "    </tr>\n",
              "    <tr>\n",
              "      <td>xxbos 0 6 41 45 50 57 60 2 5 41 45 51 57 59 2 6 41 45 50 57 59 2 5 41 45 51 57 59 2 6 41 45 50 57 59 2 5 41 45 51 57 60 0 6 41 45 50 57 60 2 5 41 45 51 57 59 2 6 41 45 50 57 59 2 5 41 45 51 57</td>\n",
              "      <td>1</td>\n",
              "    </tr>\n",
              "    <tr>\n",
              "      <td>xxbos 2 5 41 45 51 54 59 2 7 40 45 53 57 59 0 5 41 45 51 57 60 0 6 41 45 50 54 60 0 5 41 45 51 57 59 0 5 41 45 53 57 59 0 5 41 45 53 57 59 0 5 41 45 53 57 59 0 5 41 45 51 57 59 2 7 40 45 53 57</td>\n",
              "      <td>1</td>\n",
              "    </tr>\n",
              "    <tr>\n",
              "      <td>xxbos 2 5 41 45 51 54 59 0 5 41 45 51 54 59 2 7 40 45 52 54 59 0 5 41 45 51 57 59 2 5 41 45 51 57 59 0 5 41 45 50 57 59 2 5 41 45 51 57 59 0 5 41 45 51 57 59 2 7 40 45 52 54 59 0 5 41 45 51 54</td>\n",
              "      <td>1</td>\n",
              "    </tr>\n",
              "  </tbody>\n",
              "</table>"
            ],
            "text/plain": [
              "<IPython.core.display.HTML object>"
            ]
          },
          "metadata": {
            "tags": []
          }
        }
      ]
    },
    {
      "cell_type": "code",
      "metadata": {
        "id": "okrm4fCq_8qy",
        "colab_type": "code",
        "colab": {}
      },
      "source": [
        "learn = text_classifier_learner(data_clas,arch=AWD_LSTM,config = awd_lstm_clas_config, drop_mult=2.0,pretrained=False)\n",
        "learn.load_encoder('fine_tuned_enc3')\n",
        "learn.freeze()"
      ],
      "execution_count": 0,
      "outputs": []
    },
    {
      "cell_type": "code",
      "metadata": {
        "id": "gH1pge_xAFgV",
        "colab_type": "code",
        "colab": {}
      },
      "source": [
        "gc.collect();"
      ],
      "execution_count": 0,
      "outputs": []
    },
    {
      "cell_type": "code",
      "metadata": {
        "id": "HKyJuUtRABmY",
        "colab_type": "code",
        "outputId": "c0bf4f8e-0347-486b-87a3-f396753a0f1a",
        "colab": {
          "base_uri": "https://localhost:8080/",
          "height": 34
        }
      },
      "source": [
        "learn.lr_find()"
      ],
      "execution_count": 50,
      "outputs": [
        {
          "output_type": "display_data",
          "data": {
            "text/html": [
              ""
            ],
            "text/plain": [
              "<IPython.core.display.HTML object>"
            ]
          },
          "metadata": {
            "tags": []
          }
        },
        {
          "output_type": "stream",
          "text": [
            "LR Finder is complete, type {learner_name}.recorder.plot() to see the graph.\n"
          ],
          "name": "stdout"
        }
      ]
    },
    {
      "cell_type": "code",
      "metadata": {
        "id": "_2jcnRSJAJed",
        "colab_type": "code",
        "outputId": "fe881abc-7b0c-4b06-ba20-6d9ddbf94b16",
        "colab": {
          "base_uri": "https://localhost:8080/",
          "height": 283
        }
      },
      "source": [
        "learn.recorder.plot()"
      ],
      "execution_count": 51,
      "outputs": [
        {
          "output_type": "display_data",
          "data": {
            "image/png": "[encoded data removed]",
            "text/plain": [
              "<Figure size 432x288 with 1 Axes>"
            ]
          },
          "metadata": {
            "tags": []
          }
        }
      ]
    },
    {
      "cell_type": "code",
      "metadata": {
        "id": "OX1HOp3tANAB",
        "colab_type": "code",
        "outputId": "06406af6-8e51-4d51-c60d-f7f9705c52e3",
        "colab": {
          "base_uri": "https://localhost:8080/",
          "height": 75
        }
      },
      "source": [
        "learn.fit_one_cycle(1, 5e-02, moms=(0.8,0.7))"
      ],
      "execution_count": 52,
      "outputs": [
        {
          "output_type": "display_data",
          "data": {
            "text/html": [
              "<table border=\"1\" class=\"dataframe\">\n",
              "  <thead>\n",
              "    <tr style=\"text-align: left;\">\n",
              "      <th>epoch</th>\n",
              "      <th>train_loss</th>\n",
              "      <th>valid_loss</th>\n",
              "      <th>accuracy</th>\n",
              "      <th>time</th>\n",
              "    </tr>\n",
              "  </thead>\n",
              "  <tbody>\n",
              "    <tr>\n",
              "      <td>0</td>\n",
              "      <td>0.314921</td>\n",
              "      <td>0.601808</td>\n",
              "      <td>0.766667</td>\n",
              "      <td>00:18</td>\n",
              "    </tr>\n",
              "  </tbody>\n",
              "</table>"
            ],
            "text/plain": [
              "<IPython.core.display.HTML object>"
            ]
          },
          "metadata": {
            "tags": []
          }
        }
      ]
    },
    {
      "cell_type": "code",
      "metadata": {
        "id": "DQGSYD4TAS9b",
        "colab_type": "code",
        "colab": {}
      },
      "source": [
        "def predict(test,learn):\n",
        "  predictions=[]\n",
        "  for index, row in test.iterrows():\n",
        "    p=learn.predict(row['text'])\n",
        "    #print((row['label'],str(p[0])))\n",
        "    predictions.append((row['text'],str(row['label']),str(p[0])))\n",
        "  dfpred = pd.DataFrame(predictions)\n",
        "  dfpred.columns=['text','label','prediction']\n",
        "  match=dfpred[(dfpred['label']==dfpred['prediction'])]\n",
        "  #match.head()\n",
        "  print((dfpred.shape[0], match.shape[0],match.shape[0]/dfpred.shape[0]))"
      ],
      "execution_count": 0,
      "outputs": []
    },
    {
      "cell_type": "code",
      "metadata": {
        "id": "K_qijpQiAW1a",
        "colab_type": "code",
        "outputId": "0ab89636-22bc-41e0-9a53-78e1b94325e6",
        "colab": {
          "base_uri": "https://localhost:8080/",
          "height": 75
        }
      },
      "source": [
        "learn.fit_one_cycle(1, 5e-02, moms=(0.8,0.7))"
      ],
      "execution_count": 54,
      "outputs": [
        {
          "output_type": "display_data",
          "data": {
            "text/html": [
              "<table border=\"1\" class=\"dataframe\">\n",
              "  <thead>\n",
              "    <tr style=\"text-align: left;\">\n",
              "      <th>epoch</th>\n",
              "      <th>train_loss</th>\n",
              "      <th>valid_loss</th>\n",
              "      <th>accuracy</th>\n",
              "      <th>time</th>\n",
              "    </tr>\n",
              "  </thead>\n",
              "  <tbody>\n",
              "    <tr>\n",
              "      <td>0</td>\n",
              "      <td>0.238565</td>\n",
              "      <td>0.324107</td>\n",
              "      <td>0.872222</td>\n",
              "      <td>00:18</td>\n",
              "    </tr>\n",
              "  </tbody>\n",
              "</table>"
            ],
            "text/plain": [
              "<IPython.core.display.HTML object>"
            ]
          },
          "metadata": {
            "tags": []
          }
        }
      ]
    },
    {
      "cell_type": "code",
      "metadata": {
        "id": "mrcF2ywpA7N4",
        "colab_type": "code",
        "outputId": "78eb2baf-a551-4375-a2ea-a3d7ec9ba667",
        "colab": {
          "base_uri": "https://localhost:8080/",
          "height": 274
        }
      },
      "source": [
        "learn.unfreeze()\n",
        "learn.fit_one_cycle(8, slice(5e-3/(2.6**4),5e-03), moms=(0.8,0.7))\n",
        "\n"
      ],
      "execution_count": 55,
      "outputs": [
        {
          "output_type": "display_data",
          "data": {
            "text/html": [
              "<table border=\"1\" class=\"dataframe\">\n",
              "  <thead>\n",
              "    <tr style=\"text-align: left;\">\n",
              "      <th>epoch</th>\n",
              "      <th>train_loss</th>\n",
              "      <th>valid_loss</th>\n",
              "      <th>accuracy</th>\n",
              "      <th>time</th>\n",
              "    </tr>\n",
              "  </thead>\n",
              "  <tbody>\n",
              "    <tr>\n",
              "      <td>0</td>\n",
              "      <td>0.206090</td>\n",
              "      <td>0.255552</td>\n",
              "      <td>0.894444</td>\n",
              "      <td>00:34</td>\n",
              "    </tr>\n",
              "    <tr>\n",
              "      <td>1</td>\n",
              "      <td>0.195511</td>\n",
              "      <td>0.235158</td>\n",
              "      <td>0.913889</td>\n",
              "      <td>00:34</td>\n",
              "    </tr>\n",
              "    <tr>\n",
              "      <td>2</td>\n",
              "      <td>0.189316</td>\n",
              "      <td>0.164206</td>\n",
              "      <td>0.936111</td>\n",
              "      <td>00:34</td>\n",
              "    </tr>\n",
              "    <tr>\n",
              "      <td>3</td>\n",
              "      <td>0.182219</td>\n",
              "      <td>0.162945</td>\n",
              "      <td>0.936111</td>\n",
              "      <td>00:34</td>\n",
              "    </tr>\n",
              "    <tr>\n",
              "      <td>4</td>\n",
              "      <td>0.165859</td>\n",
              "      <td>0.150074</td>\n",
              "      <td>0.944444</td>\n",
              "      <td>00:34</td>\n",
              "    </tr>\n",
              "    <tr>\n",
              "      <td>5</td>\n",
              "      <td>0.151695</td>\n",
              "      <td>0.149489</td>\n",
              "      <td>0.947222</td>\n",
              "      <td>00:34</td>\n",
              "    </tr>\n",
              "    <tr>\n",
              "      <td>6</td>\n",
              "      <td>0.150001</td>\n",
              "      <td>0.136588</td>\n",
              "      <td>0.958333</td>\n",
              "      <td>00:34</td>\n",
              "    </tr>\n",
              "    <tr>\n",
              "      <td>7</td>\n",
              "      <td>0.150121</td>\n",
              "      <td>0.142545</td>\n",
              "      <td>0.950000</td>\n",
              "      <td>00:34</td>\n",
              "    </tr>\n",
              "  </tbody>\n",
              "</table>"
            ],
            "text/plain": [
              "<IPython.core.display.HTML object>"
            ]
          },
          "metadata": {
            "tags": []
          }
        }
      ]
    },
    {
      "cell_type": "code",
      "metadata": {
        "id": "5eJzDroiA-Ls",
        "colab_type": "code",
        "outputId": "9e21e8d1-5d23-4c73-b175-2684992097d7",
        "colab": {
          "base_uri": "https://localhost:8080/",
          "height": 34
        }
      },
      "source": [
        "predict(test,learn)"
      ],
      "execution_count": 56,
      "outputs": [
        {
          "output_type": "stream",
          "text": [
            "(200, 190, 0.95)\n"
          ],
          "name": "stdout"
        }
      ]
    },
    {
      "cell_type": "code",
      "metadata": {
        "id": "OncJ5AWmgDzf",
        "colab_type": "code",
        "outputId": "5854a300-c669-43a1-85bc-fadd59d2e63e",
        "colab": {
          "base_uri": "https://localhost:8080/",
          "height": 502
        }
      },
      "source": [
        "learn.fit_one_cycle(16, slice(5e-3/(2.6**4),5e-3), moms=(0.8,0.7))"
      ],
      "execution_count": 57,
      "outputs": [
        {
          "output_type": "display_data",
          "data": {
            "text/html": [
              "<table border=\"1\" class=\"dataframe\">\n",
              "  <thead>\n",
              "    <tr style=\"text-align: left;\">\n",
              "      <th>epoch</th>\n",
              "      <th>train_loss</th>\n",
              "      <th>valid_loss</th>\n",
              "      <th>accuracy</th>\n",
              "      <th>time</th>\n",
              "    </tr>\n",
              "  </thead>\n",
              "  <tbody>\n",
              "    <tr>\n",
              "      <td>0</td>\n",
              "      <td>0.172106</td>\n",
              "      <td>0.138633</td>\n",
              "      <td>0.955556</td>\n",
              "      <td>00:34</td>\n",
              "    </tr>\n",
              "    <tr>\n",
              "      <td>1</td>\n",
              "      <td>0.149674</td>\n",
              "      <td>0.150126</td>\n",
              "      <td>0.947222</td>\n",
              "      <td>00:34</td>\n",
              "    </tr>\n",
              "    <tr>\n",
              "      <td>2</td>\n",
              "      <td>0.166108</td>\n",
              "      <td>0.133021</td>\n",
              "      <td>0.969444</td>\n",
              "      <td>00:34</td>\n",
              "    </tr>\n",
              "    <tr>\n",
              "      <td>3</td>\n",
              "      <td>0.148738</td>\n",
              "      <td>0.122831</td>\n",
              "      <td>0.972222</td>\n",
              "      <td>00:34</td>\n",
              "    </tr>\n",
              "    <tr>\n",
              "      <td>4</td>\n",
              "      <td>0.150646</td>\n",
              "      <td>0.130273</td>\n",
              "      <td>0.969444</td>\n",
              "      <td>00:34</td>\n",
              "    </tr>\n",
              "    <tr>\n",
              "      <td>5</td>\n",
              "      <td>0.146506</td>\n",
              "      <td>0.121721</td>\n",
              "      <td>0.980556</td>\n",
              "      <td>00:34</td>\n",
              "    </tr>\n",
              "    <tr>\n",
              "      <td>6</td>\n",
              "      <td>0.136150</td>\n",
              "      <td>0.118383</td>\n",
              "      <td>0.980556</td>\n",
              "      <td>00:34</td>\n",
              "    </tr>\n",
              "    <tr>\n",
              "      <td>7</td>\n",
              "      <td>0.118151</td>\n",
              "      <td>0.118907</td>\n",
              "      <td>0.980556</td>\n",
              "      <td>00:34</td>\n",
              "    </tr>\n",
              "    <tr>\n",
              "      <td>8</td>\n",
              "      <td>0.126805</td>\n",
              "      <td>0.117805</td>\n",
              "      <td>0.972222</td>\n",
              "      <td>00:34</td>\n",
              "    </tr>\n",
              "    <tr>\n",
              "      <td>9</td>\n",
              "      <td>0.124446</td>\n",
              "      <td>0.120026</td>\n",
              "      <td>0.980556</td>\n",
              "      <td>00:34</td>\n",
              "    </tr>\n",
              "    <tr>\n",
              "      <td>10</td>\n",
              "      <td>0.126851</td>\n",
              "      <td>0.119249</td>\n",
              "      <td>0.980556</td>\n",
              "      <td>00:34</td>\n",
              "    </tr>\n",
              "    <tr>\n",
              "      <td>11</td>\n",
              "      <td>0.122177</td>\n",
              "      <td>0.124927</td>\n",
              "      <td>0.972222</td>\n",
              "      <td>00:34</td>\n",
              "    </tr>\n",
              "    <tr>\n",
              "      <td>12</td>\n",
              "      <td>0.125984</td>\n",
              "      <td>0.119606</td>\n",
              "      <td>0.980556</td>\n",
              "      <td>00:34</td>\n",
              "    </tr>\n",
              "    <tr>\n",
              "      <td>13</td>\n",
              "      <td>0.125132</td>\n",
              "      <td>0.119774</td>\n",
              "      <td>0.980556</td>\n",
              "      <td>00:34</td>\n",
              "    </tr>\n",
              "    <tr>\n",
              "      <td>14</td>\n",
              "      <td>0.115603</td>\n",
              "      <td>0.119525</td>\n",
              "      <td>0.980556</td>\n",
              "      <td>00:34</td>\n",
              "    </tr>\n",
              "    <tr>\n",
              "      <td>15</td>\n",
              "      <td>0.114942</td>\n",
              "      <td>0.119725</td>\n",
              "      <td>0.980556</td>\n",
              "      <td>00:34</td>\n",
              "    </tr>\n",
              "  </tbody>\n",
              "</table>"
            ],
            "text/plain": [
              "<IPython.core.display.HTML object>"
            ]
          },
          "metadata": {
            "tags": []
          }
        }
      ]
    },
    {
      "cell_type": "code",
      "metadata": {
        "id": "04zsWdlpgFwq",
        "colab_type": "code",
        "outputId": "26ea8bf0-fb2d-413c-f081-8b7aae0daf93",
        "colab": {
          "base_uri": "https://localhost:8080/",
          "height": 34
        }
      },
      "source": [
        "predict(test,learn)"
      ],
      "execution_count": 58,
      "outputs": [
        {
          "output_type": "stream",
          "text": [
            "(200, 192, 0.96)\n"
          ],
          "name": "stdout"
        }
      ]
    },
    {
      "cell_type": "code",
      "metadata": {
        "id": "vkbWeFl5gMg_",
        "colab_type": "code",
        "outputId": "f354f0a7-e48c-4738-ffa0-cdce55889b03",
        "colab": {
          "base_uri": "https://localhost:8080/",
          "height": 502
        }
      },
      "source": [
        "learn.fit_one_cycle(16, slice(5e-3/(2.6**4),5e-3), moms=(0.8,0.7))"
      ],
      "execution_count": 59,
      "outputs": [
        {
          "output_type": "display_data",
          "data": {
            "text/html": [
              "<table border=\"1\" class=\"dataframe\">\n",
              "  <thead>\n",
              "    <tr style=\"text-align: left;\">\n",
              "      <th>epoch</th>\n",
              "      <th>train_loss</th>\n",
              "      <th>valid_loss</th>\n",
              "      <th>accuracy</th>\n",
              "      <th>time</th>\n",
              "    </tr>\n",
              "  </thead>\n",
              "  <tbody>\n",
              "    <tr>\n",
              "      <td>0</td>\n",
              "      <td>0.118121</td>\n",
              "      <td>0.117721</td>\n",
              "      <td>0.980556</td>\n",
              "      <td>00:34</td>\n",
              "    </tr>\n",
              "    <tr>\n",
              "      <td>1</td>\n",
              "      <td>0.126455</td>\n",
              "      <td>0.125232</td>\n",
              "      <td>0.975000</td>\n",
              "      <td>00:34</td>\n",
              "    </tr>\n",
              "    <tr>\n",
              "      <td>2</td>\n",
              "      <td>0.121120</td>\n",
              "      <td>0.117948</td>\n",
              "      <td>0.980556</td>\n",
              "      <td>00:34</td>\n",
              "    </tr>\n",
              "    <tr>\n",
              "      <td>3</td>\n",
              "      <td>0.113152</td>\n",
              "      <td>0.114259</td>\n",
              "      <td>0.980556</td>\n",
              "      <td>00:33</td>\n",
              "    </tr>\n",
              "    <tr>\n",
              "      <td>4</td>\n",
              "      <td>0.111690</td>\n",
              "      <td>0.118980</td>\n",
              "      <td>0.969444</td>\n",
              "      <td>00:34</td>\n",
              "    </tr>\n",
              "    <tr>\n",
              "      <td>5</td>\n",
              "      <td>0.106545</td>\n",
              "      <td>0.113649</td>\n",
              "      <td>0.977778</td>\n",
              "      <td>00:34</td>\n",
              "    </tr>\n",
              "    <tr>\n",
              "      <td>6</td>\n",
              "      <td>0.111157</td>\n",
              "      <td>0.109687</td>\n",
              "      <td>0.972222</td>\n",
              "      <td>00:34</td>\n",
              "    </tr>\n",
              "    <tr>\n",
              "      <td>7</td>\n",
              "      <td>0.113179</td>\n",
              "      <td>0.115343</td>\n",
              "      <td>0.980556</td>\n",
              "      <td>00:34</td>\n",
              "    </tr>\n",
              "    <tr>\n",
              "      <td>8</td>\n",
              "      <td>0.104767</td>\n",
              "      <td>0.113053</td>\n",
              "      <td>0.975000</td>\n",
              "      <td>00:34</td>\n",
              "    </tr>\n",
              "    <tr>\n",
              "      <td>9</td>\n",
              "      <td>0.098531</td>\n",
              "      <td>0.115902</td>\n",
              "      <td>0.969444</td>\n",
              "      <td>00:34</td>\n",
              "    </tr>\n",
              "    <tr>\n",
              "      <td>10</td>\n",
              "      <td>0.098234</td>\n",
              "      <td>0.118416</td>\n",
              "      <td>0.977778</td>\n",
              "      <td>00:34</td>\n",
              "    </tr>\n",
              "    <tr>\n",
              "      <td>11</td>\n",
              "      <td>0.093356</td>\n",
              "      <td>0.124210</td>\n",
              "      <td>0.972222</td>\n",
              "      <td>00:34</td>\n",
              "    </tr>\n",
              "    <tr>\n",
              "      <td>12</td>\n",
              "      <td>0.086895</td>\n",
              "      <td>0.116402</td>\n",
              "      <td>0.977778</td>\n",
              "      <td>00:34</td>\n",
              "    </tr>\n",
              "    <tr>\n",
              "      <td>13</td>\n",
              "      <td>0.086269</td>\n",
              "      <td>0.120115</td>\n",
              "      <td>0.969444</td>\n",
              "      <td>00:34</td>\n",
              "    </tr>\n",
              "    <tr>\n",
              "      <td>14</td>\n",
              "      <td>0.082977</td>\n",
              "      <td>0.115683</td>\n",
              "      <td>0.977778</td>\n",
              "      <td>00:34</td>\n",
              "    </tr>\n",
              "    <tr>\n",
              "      <td>15</td>\n",
              "      <td>0.084497</td>\n",
              "      <td>0.117900</td>\n",
              "      <td>0.977778</td>\n",
              "      <td>00:34</td>\n",
              "    </tr>\n",
              "  </tbody>\n",
              "</table>"
            ],
            "text/plain": [
              "<IPython.core.display.HTML object>"
            ]
          },
          "metadata": {
            "tags": []
          }
        }
      ]
    },
    {
      "cell_type": "code",
      "metadata": {
        "id": "UgNaWWnHgNpW",
        "colab_type": "code",
        "outputId": "a537f10b-1517-4797-9a7f-adc4e8f6c6af",
        "colab": {
          "base_uri": "https://localhost:8080/",
          "height": 34
        }
      },
      "source": [
        "predict(test,learn)"
      ],
      "execution_count": 60,
      "outputs": [
        {
          "output_type": "stream",
          "text": [
            "(200, 195, 0.975)\n"
          ],
          "name": "stdout"
        }
      ]
    },
    {
      "cell_type": "code",
      "metadata": {
        "id": "pRkTF6TFrP4w",
        "colab_type": "code",
        "outputId": "982f7064-5807-4f0c-a743-807addf15654",
        "colab": {
          "base_uri": "https://localhost:8080/",
          "height": 502
        }
      },
      "source": [
        "learn.fit_one_cycle(16, slice(5e-3/(2.6**4),5e-3), moms=(0.8,0.7))"
      ],
      "execution_count": 61,
      "outputs": [
        {
          "output_type": "display_data",
          "data": {
            "text/html": [
              "<table border=\"1\" class=\"dataframe\">\n",
              "  <thead>\n",
              "    <tr style=\"text-align: left;\">\n",
              "      <th>epoch</th>\n",
              "      <th>train_loss</th>\n",
              "      <th>valid_loss</th>\n",
              "      <th>accuracy</th>\n",
              "      <th>time</th>\n",
              "    </tr>\n",
              "  </thead>\n",
              "  <tbody>\n",
              "    <tr>\n",
              "      <td>0</td>\n",
              "      <td>0.105980</td>\n",
              "      <td>0.125903</td>\n",
              "      <td>0.966667</td>\n",
              "      <td>00:34</td>\n",
              "    </tr>\n",
              "    <tr>\n",
              "      <td>1</td>\n",
              "      <td>0.098555</td>\n",
              "      <td>0.123829</td>\n",
              "      <td>0.972222</td>\n",
              "      <td>00:34</td>\n",
              "    </tr>\n",
              "    <tr>\n",
              "      <td>2</td>\n",
              "      <td>0.097534</td>\n",
              "      <td>0.136573</td>\n",
              "      <td>0.972222</td>\n",
              "      <td>00:34</td>\n",
              "    </tr>\n",
              "    <tr>\n",
              "      <td>3</td>\n",
              "      <td>0.084794</td>\n",
              "      <td>0.120455</td>\n",
              "      <td>0.977778</td>\n",
              "      <td>00:34</td>\n",
              "    </tr>\n",
              "    <tr>\n",
              "      <td>4</td>\n",
              "      <td>0.082712</td>\n",
              "      <td>0.135423</td>\n",
              "      <td>0.955556</td>\n",
              "      <td>00:34</td>\n",
              "    </tr>\n",
              "    <tr>\n",
              "      <td>5</td>\n",
              "      <td>0.085116</td>\n",
              "      <td>0.137325</td>\n",
              "      <td>0.961111</td>\n",
              "      <td>00:34</td>\n",
              "    </tr>\n",
              "    <tr>\n",
              "      <td>6</td>\n",
              "      <td>0.079329</td>\n",
              "      <td>0.152948</td>\n",
              "      <td>0.950000</td>\n",
              "      <td>00:34</td>\n",
              "    </tr>\n",
              "    <tr>\n",
              "      <td>7</td>\n",
              "      <td>0.081602</td>\n",
              "      <td>0.150520</td>\n",
              "      <td>0.941667</td>\n",
              "      <td>00:34</td>\n",
              "    </tr>\n",
              "    <tr>\n",
              "      <td>8</td>\n",
              "      <td>0.088679</td>\n",
              "      <td>0.157054</td>\n",
              "      <td>0.947222</td>\n",
              "      <td>00:34</td>\n",
              "    </tr>\n",
              "    <tr>\n",
              "      <td>9</td>\n",
              "      <td>0.084992</td>\n",
              "      <td>0.164828</td>\n",
              "      <td>0.938889</td>\n",
              "      <td>00:34</td>\n",
              "    </tr>\n",
              "    <tr>\n",
              "      <td>10</td>\n",
              "      <td>0.084833</td>\n",
              "      <td>0.144864</td>\n",
              "      <td>0.958333</td>\n",
              "      <td>00:34</td>\n",
              "    </tr>\n",
              "    <tr>\n",
              "      <td>11</td>\n",
              "      <td>0.083553</td>\n",
              "      <td>0.137569</td>\n",
              "      <td>0.963889</td>\n",
              "      <td>00:34</td>\n",
              "    </tr>\n",
              "    <tr>\n",
              "      <td>12</td>\n",
              "      <td>0.081700</td>\n",
              "      <td>0.151314</td>\n",
              "      <td>0.958333</td>\n",
              "      <td>00:34</td>\n",
              "    </tr>\n",
              "    <tr>\n",
              "      <td>13</td>\n",
              "      <td>0.078890</td>\n",
              "      <td>0.139031</td>\n",
              "      <td>0.969444</td>\n",
              "      <td>00:34</td>\n",
              "    </tr>\n",
              "    <tr>\n",
              "      <td>14</td>\n",
              "      <td>0.080868</td>\n",
              "      <td>0.153936</td>\n",
              "      <td>0.955556</td>\n",
              "      <td>00:34</td>\n",
              "    </tr>\n",
              "    <tr>\n",
              "      <td>15</td>\n",
              "      <td>0.075201</td>\n",
              "      <td>0.135090</td>\n",
              "      <td>0.969444</td>\n",
              "      <td>00:34</td>\n",
              "    </tr>\n",
              "  </tbody>\n",
              "</table>"
            ],
            "text/plain": [
              "<IPython.core.display.HTML object>"
            ]
          },
          "metadata": {
            "tags": []
          }
        }
      ]
    },
    {
      "cell_type": "code",
      "metadata": {
        "id": "yCdbebAxrUuk",
        "colab_type": "code",
        "outputId": "aecd9afd-544b-4157-c489-0165dd7b6986",
        "colab": {
          "base_uri": "https://localhost:8080/",
          "height": 34
        }
      },
      "source": [
        "predict(test,learn)"
      ],
      "execution_count": 62,
      "outputs": [
        {
          "output_type": "stream",
          "text": [
            "(200, 197, 0.985)\n"
          ],
          "name": "stdout"
        }
      ]
    },
    {
      "cell_type": "code",
      "metadata": {
        "id": "rgWg8fxpsP-a",
        "colab_type": "code",
        "outputId": "4a68fefd-0d26-4c78-a55b-11df6c41d0a0",
        "colab": {
          "base_uri": "https://localhost:8080/",
          "height": 502
        }
      },
      "source": [
        "learn.fit_one_cycle(16, slice(5e-3/(2.6**4),5e-3), moms=(0.8,0.7))"
      ],
      "execution_count": 63,
      "outputs": [
        {
          "output_type": "display_data",
          "data": {
            "text/html": [
              "<table border=\"1\" class=\"dataframe\">\n",
              "  <thead>\n",
              "    <tr style=\"text-align: left;\">\n",
              "      <th>epoch</th>\n",
              "      <th>train_loss</th>\n",
              "      <th>valid_loss</th>\n",
              "      <th>accuracy</th>\n",
              "      <th>time</th>\n",
              "    </tr>\n",
              "  </thead>\n",
              "  <tbody>\n",
              "    <tr>\n",
              "      <td>0</td>\n",
              "      <td>0.088219</td>\n",
              "      <td>0.152464</td>\n",
              "      <td>0.955556</td>\n",
              "      <td>00:34</td>\n",
              "    </tr>\n",
              "    <tr>\n",
              "      <td>1</td>\n",
              "      <td>0.077734</td>\n",
              "      <td>0.159506</td>\n",
              "      <td>0.947222</td>\n",
              "      <td>00:34</td>\n",
              "    </tr>\n",
              "    <tr>\n",
              "      <td>2</td>\n",
              "      <td>0.078484</td>\n",
              "      <td>0.177975</td>\n",
              "      <td>0.938889</td>\n",
              "      <td>00:34</td>\n",
              "    </tr>\n",
              "    <tr>\n",
              "      <td>3</td>\n",
              "      <td>0.092323</td>\n",
              "      <td>0.195297</td>\n",
              "      <td>0.927778</td>\n",
              "      <td>00:34</td>\n",
              "    </tr>\n",
              "    <tr>\n",
              "      <td>4</td>\n",
              "      <td>0.088257</td>\n",
              "      <td>0.201376</td>\n",
              "      <td>0.911111</td>\n",
              "      <td>00:34</td>\n",
              "    </tr>\n",
              "    <tr>\n",
              "      <td>5</td>\n",
              "      <td>0.074493</td>\n",
              "      <td>0.190406</td>\n",
              "      <td>0.919444</td>\n",
              "      <td>00:34</td>\n",
              "    </tr>\n",
              "    <tr>\n",
              "      <td>6</td>\n",
              "      <td>0.072699</td>\n",
              "      <td>0.154365</td>\n",
              "      <td>0.955556</td>\n",
              "      <td>00:34</td>\n",
              "    </tr>\n",
              "    <tr>\n",
              "      <td>7</td>\n",
              "      <td>0.079162</td>\n",
              "      <td>0.131340</td>\n",
              "      <td>0.975000</td>\n",
              "      <td>00:34</td>\n",
              "    </tr>\n",
              "    <tr>\n",
              "      <td>8</td>\n",
              "      <td>0.081601</td>\n",
              "      <td>0.160498</td>\n",
              "      <td>0.955556</td>\n",
              "      <td>00:34</td>\n",
              "    </tr>\n",
              "    <tr>\n",
              "      <td>9</td>\n",
              "      <td>0.079172</td>\n",
              "      <td>0.147688</td>\n",
              "      <td>0.966667</td>\n",
              "      <td>00:34</td>\n",
              "    </tr>\n",
              "    <tr>\n",
              "      <td>10</td>\n",
              "      <td>0.079970</td>\n",
              "      <td>0.138636</td>\n",
              "      <td>0.975000</td>\n",
              "      <td>00:34</td>\n",
              "    </tr>\n",
              "    <tr>\n",
              "      <td>11</td>\n",
              "      <td>0.079489</td>\n",
              "      <td>0.140600</td>\n",
              "      <td>0.966667</td>\n",
              "      <td>00:34</td>\n",
              "    </tr>\n",
              "    <tr>\n",
              "      <td>12</td>\n",
              "      <td>0.074726</td>\n",
              "      <td>0.142175</td>\n",
              "      <td>0.966667</td>\n",
              "      <td>00:34</td>\n",
              "    </tr>\n",
              "    <tr>\n",
              "      <td>13</td>\n",
              "      <td>0.075010</td>\n",
              "      <td>0.166889</td>\n",
              "      <td>0.947222</td>\n",
              "      <td>00:34</td>\n",
              "    </tr>\n",
              "    <tr>\n",
              "      <td>14</td>\n",
              "      <td>0.067871</td>\n",
              "      <td>0.155776</td>\n",
              "      <td>0.955556</td>\n",
              "      <td>00:34</td>\n",
              "    </tr>\n",
              "    <tr>\n",
              "      <td>15</td>\n",
              "      <td>0.072138</td>\n",
              "      <td>0.148320</td>\n",
              "      <td>0.955556</td>\n",
              "      <td>00:34</td>\n",
              "    </tr>\n",
              "  </tbody>\n",
              "</table>"
            ],
            "text/plain": [
              "<IPython.core.display.HTML object>"
            ]
          },
          "metadata": {
            "tags": []
          }
        }
      ]
    },
    {
      "cell_type": "code",
      "metadata": {
        "id": "sW0JUNvvsTJ8",
        "colab_type": "code",
        "outputId": "3b567e39-cacc-4101-a312-40822de88699",
        "colab": {
          "base_uri": "https://localhost:8080/",
          "height": 34
        }
      },
      "source": [
        "predict(test,learn)"
      ],
      "execution_count": 64,
      "outputs": [
        {
          "output_type": "stream",
          "text": [
            "(200, 196, 0.98)\n"
          ],
          "name": "stdout"
        }
      ]
    },
    {
      "cell_type": "code",
      "metadata": {
        "id": "ZJRBYaAesvDx",
        "colab_type": "code",
        "outputId": "1ca30362-1444-4d99-dc0f-af97e94d74ed",
        "colab": {
          "base_uri": "https://localhost:8080/",
          "height": 502
        }
      },
      "source": [
        "learn.fit_one_cycle(16, slice(5e-3/(2.6**4),5e-3), moms=(0.8,0.7))"
      ],
      "execution_count": 65,
      "outputs": [
        {
          "output_type": "display_data",
          "data": {
            "text/html": [
              "<table border=\"1\" class=\"dataframe\">\n",
              "  <thead>\n",
              "    <tr style=\"text-align: left;\">\n",
              "      <th>epoch</th>\n",
              "      <th>train_loss</th>\n",
              "      <th>valid_loss</th>\n",
              "      <th>accuracy</th>\n",
              "      <th>time</th>\n",
              "    </tr>\n",
              "  </thead>\n",
              "  <tbody>\n",
              "    <tr>\n",
              "      <td>0</td>\n",
              "      <td>0.061611</td>\n",
              "      <td>0.146816</td>\n",
              "      <td>0.961111</td>\n",
              "      <td>00:34</td>\n",
              "    </tr>\n",
              "    <tr>\n",
              "      <td>1</td>\n",
              "      <td>0.064703</td>\n",
              "      <td>0.141978</td>\n",
              "      <td>0.969444</td>\n",
              "      <td>00:34</td>\n",
              "    </tr>\n",
              "    <tr>\n",
              "      <td>2</td>\n",
              "      <td>0.067908</td>\n",
              "      <td>0.148788</td>\n",
              "      <td>0.958333</td>\n",
              "      <td>00:34</td>\n",
              "    </tr>\n",
              "    <tr>\n",
              "      <td>3</td>\n",
              "      <td>0.075566</td>\n",
              "      <td>0.139172</td>\n",
              "      <td>0.969444</td>\n",
              "      <td>00:34</td>\n",
              "    </tr>\n",
              "    <tr>\n",
              "      <td>4</td>\n",
              "      <td>0.070505</td>\n",
              "      <td>0.166067</td>\n",
              "      <td>0.950000</td>\n",
              "      <td>00:34</td>\n",
              "    </tr>\n",
              "    <tr>\n",
              "      <td>5</td>\n",
              "      <td>0.075270</td>\n",
              "      <td>0.201654</td>\n",
              "      <td>0.922222</td>\n",
              "      <td>00:34</td>\n",
              "    </tr>\n",
              "    <tr>\n",
              "      <td>6</td>\n",
              "      <td>0.073915</td>\n",
              "      <td>0.138977</td>\n",
              "      <td>0.972222</td>\n",
              "      <td>00:34</td>\n",
              "    </tr>\n",
              "    <tr>\n",
              "      <td>7</td>\n",
              "      <td>0.071327</td>\n",
              "      <td>0.147902</td>\n",
              "      <td>0.966667</td>\n",
              "      <td>00:34</td>\n",
              "    </tr>\n",
              "    <tr>\n",
              "      <td>8</td>\n",
              "      <td>0.069510</td>\n",
              "      <td>0.127475</td>\n",
              "      <td>0.977778</td>\n",
              "      <td>00:34</td>\n",
              "    </tr>\n",
              "    <tr>\n",
              "      <td>9</td>\n",
              "      <td>0.065762</td>\n",
              "      <td>0.140784</td>\n",
              "      <td>0.972222</td>\n",
              "      <td>00:34</td>\n",
              "    </tr>\n",
              "    <tr>\n",
              "      <td>10</td>\n",
              "      <td>0.067971</td>\n",
              "      <td>0.132982</td>\n",
              "      <td>0.972222</td>\n",
              "      <td>00:34</td>\n",
              "    </tr>\n",
              "    <tr>\n",
              "      <td>11</td>\n",
              "      <td>0.066164</td>\n",
              "      <td>0.129624</td>\n",
              "      <td>0.975000</td>\n",
              "      <td>00:34</td>\n",
              "    </tr>\n",
              "    <tr>\n",
              "      <td>12</td>\n",
              "      <td>0.068230</td>\n",
              "      <td>0.147372</td>\n",
              "      <td>0.963889</td>\n",
              "      <td>00:34</td>\n",
              "    </tr>\n",
              "    <tr>\n",
              "      <td>13</td>\n",
              "      <td>0.067104</td>\n",
              "      <td>0.132745</td>\n",
              "      <td>0.975000</td>\n",
              "      <td>00:34</td>\n",
              "    </tr>\n",
              "    <tr>\n",
              "      <td>14</td>\n",
              "      <td>0.071144</td>\n",
              "      <td>0.133673</td>\n",
              "      <td>0.975000</td>\n",
              "      <td>00:34</td>\n",
              "    </tr>\n",
              "    <tr>\n",
              "      <td>15</td>\n",
              "      <td>0.058138</td>\n",
              "      <td>0.134599</td>\n",
              "      <td>0.975000</td>\n",
              "      <td>00:34</td>\n",
              "    </tr>\n",
              "  </tbody>\n",
              "</table>"
            ],
            "text/plain": [
              "<IPython.core.display.HTML object>"
            ]
          },
          "metadata": {
            "tags": []
          }
        }
      ]
    },
    {
      "cell_type": "code",
      "metadata": {
        "id": "e6aRVcvvsvbZ",
        "colab_type": "code",
        "colab": {
          "base_uri": "https://localhost:8080/",
          "height": 34
        },
        "outputId": "6db62eb0-4b5a-436b-8e6f-204c31682eff"
      },
      "source": [
        "predict(test,learn)"
      ],
      "execution_count": 66,
      "outputs": [
        {
          "output_type": "stream",
          "text": [
            "(200, 196, 0.98)\n"
          ],
          "name": "stdout"
        }
      ]
    },
    {
      "cell_type": "code",
      "metadata": {
        "id": "HzVkknomtUyO",
        "colab_type": "code",
        "colab": {
          "base_uri": "https://localhost:8080/",
          "height": 502
        },
        "outputId": "755ba944-2e6a-44f9-ff5e-6bcfc0776195"
      },
      "source": [
        "learn.fit_one_cycle(16, slice(5e-3/(2.6**4),5e-3), moms=(0.8,0.7))"
      ],
      "execution_count": 67,
      "outputs": [
        {
          "output_type": "display_data",
          "data": {
            "text/html": [
              "<table border=\"1\" class=\"dataframe\">\n",
              "  <thead>\n",
              "    <tr style=\"text-align: left;\">\n",
              "      <th>epoch</th>\n",
              "      <th>train_loss</th>\n",
              "      <th>valid_loss</th>\n",
              "      <th>accuracy</th>\n",
              "      <th>time</th>\n",
              "    </tr>\n",
              "  </thead>\n",
              "  <tbody>\n",
              "    <tr>\n",
              "      <td>0</td>\n",
              "      <td>0.066511</td>\n",
              "      <td>0.139675</td>\n",
              "      <td>0.969444</td>\n",
              "      <td>00:34</td>\n",
              "    </tr>\n",
              "    <tr>\n",
              "      <td>1</td>\n",
              "      <td>0.059532</td>\n",
              "      <td>0.144545</td>\n",
              "      <td>0.963889</td>\n",
              "      <td>00:34</td>\n",
              "    </tr>\n",
              "    <tr>\n",
              "      <td>2</td>\n",
              "      <td>0.057816</td>\n",
              "      <td>0.126000</td>\n",
              "      <td>0.975000</td>\n",
              "      <td>00:34</td>\n",
              "    </tr>\n",
              "    <tr>\n",
              "      <td>3</td>\n",
              "      <td>0.066314</td>\n",
              "      <td>0.165148</td>\n",
              "      <td>0.952778</td>\n",
              "      <td>00:34</td>\n",
              "    </tr>\n",
              "    <tr>\n",
              "      <td>4</td>\n",
              "      <td>0.066282</td>\n",
              "      <td>0.146695</td>\n",
              "      <td>0.975000</td>\n",
              "      <td>00:34</td>\n",
              "    </tr>\n",
              "    <tr>\n",
              "      <td>5</td>\n",
              "      <td>0.070032</td>\n",
              "      <td>0.195907</td>\n",
              "      <td>0.952778</td>\n",
              "      <td>00:34</td>\n",
              "    </tr>\n",
              "    <tr>\n",
              "      <td>6</td>\n",
              "      <td>0.066421</td>\n",
              "      <td>0.161053</td>\n",
              "      <td>0.966667</td>\n",
              "      <td>00:34</td>\n",
              "    </tr>\n",
              "    <tr>\n",
              "      <td>7</td>\n",
              "      <td>0.070677</td>\n",
              "      <td>0.160216</td>\n",
              "      <td>0.966667</td>\n",
              "      <td>00:34</td>\n",
              "    </tr>\n",
              "    <tr>\n",
              "      <td>8</td>\n",
              "      <td>0.066685</td>\n",
              "      <td>0.121603</td>\n",
              "      <td>0.980556</td>\n",
              "      <td>00:34</td>\n",
              "    </tr>\n",
              "    <tr>\n",
              "      <td>9</td>\n",
              "      <td>0.065864</td>\n",
              "      <td>0.128877</td>\n",
              "      <td>0.980556</td>\n",
              "      <td>00:34</td>\n",
              "    </tr>\n",
              "    <tr>\n",
              "      <td>10</td>\n",
              "      <td>0.061818</td>\n",
              "      <td>0.145971</td>\n",
              "      <td>0.972222</td>\n",
              "      <td>00:34</td>\n",
              "    </tr>\n",
              "    <tr>\n",
              "      <td>11</td>\n",
              "      <td>0.073204</td>\n",
              "      <td>0.148223</td>\n",
              "      <td>0.969444</td>\n",
              "      <td>00:34</td>\n",
              "    </tr>\n",
              "    <tr>\n",
              "      <td>12</td>\n",
              "      <td>0.076456</td>\n",
              "      <td>0.140768</td>\n",
              "      <td>0.972222</td>\n",
              "      <td>00:34</td>\n",
              "    </tr>\n",
              "    <tr>\n",
              "      <td>13</td>\n",
              "      <td>0.072330</td>\n",
              "      <td>0.157290</td>\n",
              "      <td>0.963889</td>\n",
              "      <td>00:34</td>\n",
              "    </tr>\n",
              "    <tr>\n",
              "      <td>14</td>\n",
              "      <td>0.059552</td>\n",
              "      <td>0.148581</td>\n",
              "      <td>0.969444</td>\n",
              "      <td>00:34</td>\n",
              "    </tr>\n",
              "    <tr>\n",
              "      <td>15</td>\n",
              "      <td>0.053375</td>\n",
              "      <td>0.141826</td>\n",
              "      <td>0.975000</td>\n",
              "      <td>00:34</td>\n",
              "    </tr>\n",
              "  </tbody>\n",
              "</table>"
            ],
            "text/plain": [
              "<IPython.core.display.HTML object>"
            ]
          },
          "metadata": {
            "tags": []
          }
        }
      ]
    },
    {
      "cell_type": "code",
      "metadata": {
        "id": "67iKejMxtWOH",
        "colab_type": "code",
        "colab": {
          "base_uri": "https://localhost:8080/",
          "height": 34
        },
        "outputId": "ba99b001-6c25-4564-81e4-81d91d1a64fc"
      },
      "source": [
        "predict(test,learn)"
      ],
      "execution_count": 68,
      "outputs": [
        {
          "output_type": "stream",
          "text": [
            "(200, 197, 0.985)\n"
          ],
          "name": "stdout"
        }
      ]
    },
    {
      "cell_type": "code",
      "metadata": {
        "id": "2bmW4f14t3JB",
        "colab_type": "code",
        "colab": {
          "base_uri": "https://localhost:8080/",
          "height": 958
        },
        "outputId": "88a5e6c6-f4dc-4959-d136-d0c6a7b600d6"
      },
      "source": [
        "learn.fit_one_cycle(32, slice(5e-3/(2.6**4),5e-3), moms=(0.8,0.7))"
      ],
      "execution_count": 69,
      "outputs": [
        {
          "output_type": "display_data",
          "data": {
            "text/html": [
              "<table border=\"1\" class=\"dataframe\">\n",
              "  <thead>\n",
              "    <tr style=\"text-align: left;\">\n",
              "      <th>epoch</th>\n",
              "      <th>train_loss</th>\n",
              "      <th>valid_loss</th>\n",
              "      <th>accuracy</th>\n",
              "      <th>time</th>\n",
              "    </tr>\n",
              "  </thead>\n",
              "  <tbody>\n",
              "    <tr>\n",
              "      <td>0</td>\n",
              "      <td>0.059147</td>\n",
              "      <td>0.151267</td>\n",
              "      <td>0.966667</td>\n",
              "      <td>00:34</td>\n",
              "    </tr>\n",
              "    <tr>\n",
              "      <td>1</td>\n",
              "      <td>0.058318</td>\n",
              "      <td>0.155034</td>\n",
              "      <td>0.963889</td>\n",
              "      <td>00:34</td>\n",
              "    </tr>\n",
              "    <tr>\n",
              "      <td>2</td>\n",
              "      <td>0.052385</td>\n",
              "      <td>0.156040</td>\n",
              "      <td>0.963889</td>\n",
              "      <td>00:34</td>\n",
              "    </tr>\n",
              "    <tr>\n",
              "      <td>3</td>\n",
              "      <td>0.056510</td>\n",
              "      <td>0.149714</td>\n",
              "      <td>0.966667</td>\n",
              "      <td>00:34</td>\n",
              "    </tr>\n",
              "    <tr>\n",
              "      <td>4</td>\n",
              "      <td>0.065443</td>\n",
              "      <td>0.147348</td>\n",
              "      <td>0.969444</td>\n",
              "      <td>00:34</td>\n",
              "    </tr>\n",
              "    <tr>\n",
              "      <td>5</td>\n",
              "      <td>0.057042</td>\n",
              "      <td>0.138193</td>\n",
              "      <td>0.972222</td>\n",
              "      <td>00:34</td>\n",
              "    </tr>\n",
              "    <tr>\n",
              "      <td>6</td>\n",
              "      <td>0.063522</td>\n",
              "      <td>0.121567</td>\n",
              "      <td>0.980556</td>\n",
              "      <td>00:34</td>\n",
              "    </tr>\n",
              "    <tr>\n",
              "      <td>7</td>\n",
              "      <td>0.052620</td>\n",
              "      <td>0.128852</td>\n",
              "      <td>0.972222</td>\n",
              "      <td>00:34</td>\n",
              "    </tr>\n",
              "    <tr>\n",
              "      <td>8</td>\n",
              "      <td>0.061132</td>\n",
              "      <td>0.143088</td>\n",
              "      <td>0.966667</td>\n",
              "      <td>00:34</td>\n",
              "    </tr>\n",
              "    <tr>\n",
              "      <td>9</td>\n",
              "      <td>0.064802</td>\n",
              "      <td>0.144926</td>\n",
              "      <td>0.969444</td>\n",
              "      <td>00:34</td>\n",
              "    </tr>\n",
              "    <tr>\n",
              "      <td>10</td>\n",
              "      <td>0.069218</td>\n",
              "      <td>0.148323</td>\n",
              "      <td>0.969444</td>\n",
              "      <td>00:34</td>\n",
              "    </tr>\n",
              "    <tr>\n",
              "      <td>11</td>\n",
              "      <td>0.066881</td>\n",
              "      <td>0.135554</td>\n",
              "      <td>0.972222</td>\n",
              "      <td>00:34</td>\n",
              "    </tr>\n",
              "    <tr>\n",
              "      <td>12</td>\n",
              "      <td>0.071958</td>\n",
              "      <td>0.141570</td>\n",
              "      <td>0.975000</td>\n",
              "      <td>00:34</td>\n",
              "    </tr>\n",
              "    <tr>\n",
              "      <td>13</td>\n",
              "      <td>0.070654</td>\n",
              "      <td>0.133502</td>\n",
              "      <td>0.977778</td>\n",
              "      <td>00:34</td>\n",
              "    </tr>\n",
              "    <tr>\n",
              "      <td>14</td>\n",
              "      <td>0.064178</td>\n",
              "      <td>0.122851</td>\n",
              "      <td>0.975000</td>\n",
              "      <td>00:34</td>\n",
              "    </tr>\n",
              "    <tr>\n",
              "      <td>15</td>\n",
              "      <td>0.063641</td>\n",
              "      <td>0.122118</td>\n",
              "      <td>0.977778</td>\n",
              "      <td>00:34</td>\n",
              "    </tr>\n",
              "    <tr>\n",
              "      <td>16</td>\n",
              "      <td>0.066359</td>\n",
              "      <td>0.117506</td>\n",
              "      <td>0.980556</td>\n",
              "      <td>00:34</td>\n",
              "    </tr>\n",
              "    <tr>\n",
              "      <td>17</td>\n",
              "      <td>0.060883</td>\n",
              "      <td>0.118278</td>\n",
              "      <td>0.972222</td>\n",
              "      <td>00:34</td>\n",
              "    </tr>\n",
              "    <tr>\n",
              "      <td>18</td>\n",
              "      <td>0.060295</td>\n",
              "      <td>0.118332</td>\n",
              "      <td>0.977778</td>\n",
              "      <td>00:34</td>\n",
              "    </tr>\n",
              "    <tr>\n",
              "      <td>19</td>\n",
              "      <td>0.067932</td>\n",
              "      <td>0.113526</td>\n",
              "      <td>0.977778</td>\n",
              "      <td>00:34</td>\n",
              "    </tr>\n",
              "    <tr>\n",
              "      <td>20</td>\n",
              "      <td>0.063400</td>\n",
              "      <td>0.120400</td>\n",
              "      <td>0.980556</td>\n",
              "      <td>00:34</td>\n",
              "    </tr>\n",
              "    <tr>\n",
              "      <td>21</td>\n",
              "      <td>0.058697</td>\n",
              "      <td>0.121027</td>\n",
              "      <td>0.975000</td>\n",
              "      <td>00:34</td>\n",
              "    </tr>\n",
              "    <tr>\n",
              "      <td>22</td>\n",
              "      <td>0.063674</td>\n",
              "      <td>0.118394</td>\n",
              "      <td>0.977778</td>\n",
              "      <td>00:34</td>\n",
              "    </tr>\n",
              "    <tr>\n",
              "      <td>23</td>\n",
              "      <td>0.054910</td>\n",
              "      <td>0.118581</td>\n",
              "      <td>0.977778</td>\n",
              "      <td>00:34</td>\n",
              "    </tr>\n",
              "    <tr>\n",
              "      <td>24</td>\n",
              "      <td>0.052514</td>\n",
              "      <td>0.120824</td>\n",
              "      <td>0.975000</td>\n",
              "      <td>00:34</td>\n",
              "    </tr>\n",
              "    <tr>\n",
              "      <td>25</td>\n",
              "      <td>0.050967</td>\n",
              "      <td>0.126006</td>\n",
              "      <td>0.975000</td>\n",
              "      <td>00:34</td>\n",
              "    </tr>\n",
              "    <tr>\n",
              "      <td>26</td>\n",
              "      <td>0.058599</td>\n",
              "      <td>0.117008</td>\n",
              "      <td>0.980556</td>\n",
              "      <td>00:34</td>\n",
              "    </tr>\n",
              "    <tr>\n",
              "      <td>27</td>\n",
              "      <td>0.049981</td>\n",
              "      <td>0.128039</td>\n",
              "      <td>0.972222</td>\n",
              "      <td>00:34</td>\n",
              "    </tr>\n",
              "    <tr>\n",
              "      <td>28</td>\n",
              "      <td>0.052355</td>\n",
              "      <td>0.117075</td>\n",
              "      <td>0.977778</td>\n",
              "      <td>00:34</td>\n",
              "    </tr>\n",
              "    <tr>\n",
              "      <td>29</td>\n",
              "      <td>0.053290</td>\n",
              "      <td>0.119153</td>\n",
              "      <td>0.975000</td>\n",
              "      <td>00:34</td>\n",
              "    </tr>\n",
              "    <tr>\n",
              "      <td>30</td>\n",
              "      <td>0.046086</td>\n",
              "      <td>0.124379</td>\n",
              "      <td>0.975000</td>\n",
              "      <td>00:34</td>\n",
              "    </tr>\n",
              "    <tr>\n",
              "      <td>31</td>\n",
              "      <td>0.052020</td>\n",
              "      <td>0.117105</td>\n",
              "      <td>0.980556</td>\n",
              "      <td>00:34</td>\n",
              "    </tr>\n",
              "  </tbody>\n",
              "</table>"
            ],
            "text/plain": [
              "<IPython.core.display.HTML object>"
            ]
          },
          "metadata": {
            "tags": []
          }
        }
      ]
    },
    {
      "cell_type": "code",
      "metadata": {
        "id": "Y0_2aQyat3V8",
        "colab_type": "code",
        "colab": {
          "base_uri": "https://localhost:8080/",
          "height": 34
        },
        "outputId": "c2118169-1904-4899-cfdc-fc677d7ac355"
      },
      "source": [
        "predict(test,learn)"
      ],
      "execution_count": 70,
      "outputs": [
        {
          "output_type": "stream",
          "text": [
            "(200, 196, 0.98)\n"
          ],
          "name": "stdout"
        }
      ]
    },
    {
      "cell_type": "code",
      "metadata": {
        "id": "5weh69zluwI0",
        "colab_type": "code",
        "colab": {
          "base_uri": "https://localhost:8080/",
          "height": 958
        },
        "outputId": "b3bd13da-033e-4284-a4b5-2f1a6f5f5416"
      },
      "source": [
        "learn.fit_one_cycle(32, slice(5e-3/(2.6**4),5e-3), moms=(0.8,0.7))"
      ],
      "execution_count": 71,
      "outputs": [
        {
          "output_type": "display_data",
          "data": {
            "text/html": [
              "<table border=\"1\" class=\"dataframe\">\n",
              "  <thead>\n",
              "    <tr style=\"text-align: left;\">\n",
              "      <th>epoch</th>\n",
              "      <th>train_loss</th>\n",
              "      <th>valid_loss</th>\n",
              "      <th>accuracy</th>\n",
              "      <th>time</th>\n",
              "    </tr>\n",
              "  </thead>\n",
              "  <tbody>\n",
              "    <tr>\n",
              "      <td>0</td>\n",
              "      <td>0.045369</td>\n",
              "      <td>0.126681</td>\n",
              "      <td>0.972222</td>\n",
              "      <td>00:34</td>\n",
              "    </tr>\n",
              "    <tr>\n",
              "      <td>1</td>\n",
              "      <td>0.054047</td>\n",
              "      <td>0.118865</td>\n",
              "      <td>0.975000</td>\n",
              "      <td>00:34</td>\n",
              "    </tr>\n",
              "    <tr>\n",
              "      <td>2</td>\n",
              "      <td>0.061559</td>\n",
              "      <td>0.116678</td>\n",
              "      <td>0.980556</td>\n",
              "      <td>00:34</td>\n",
              "    </tr>\n",
              "    <tr>\n",
              "      <td>3</td>\n",
              "      <td>0.057577</td>\n",
              "      <td>0.117014</td>\n",
              "      <td>0.977778</td>\n",
              "      <td>00:34</td>\n",
              "    </tr>\n",
              "    <tr>\n",
              "      <td>4</td>\n",
              "      <td>0.060699</td>\n",
              "      <td>0.114739</td>\n",
              "      <td>0.977778</td>\n",
              "      <td>00:34</td>\n",
              "    </tr>\n",
              "    <tr>\n",
              "      <td>5</td>\n",
              "      <td>0.064683</td>\n",
              "      <td>0.113595</td>\n",
              "      <td>0.977778</td>\n",
              "      <td>00:34</td>\n",
              "    </tr>\n",
              "    <tr>\n",
              "      <td>6</td>\n",
              "      <td>0.061278</td>\n",
              "      <td>0.127906</td>\n",
              "      <td>0.972222</td>\n",
              "      <td>00:34</td>\n",
              "    </tr>\n",
              "    <tr>\n",
              "      <td>7</td>\n",
              "      <td>0.064899</td>\n",
              "      <td>0.123083</td>\n",
              "      <td>0.975000</td>\n",
              "      <td>00:34</td>\n",
              "    </tr>\n",
              "    <tr>\n",
              "      <td>8</td>\n",
              "      <td>0.059612</td>\n",
              "      <td>0.111814</td>\n",
              "      <td>0.977778</td>\n",
              "      <td>00:34</td>\n",
              "    </tr>\n",
              "    <tr>\n",
              "      <td>9</td>\n",
              "      <td>0.055252</td>\n",
              "      <td>0.114957</td>\n",
              "      <td>0.980556</td>\n",
              "      <td>00:34</td>\n",
              "    </tr>\n",
              "    <tr>\n",
              "      <td>10</td>\n",
              "      <td>0.056666</td>\n",
              "      <td>0.111297</td>\n",
              "      <td>0.980556</td>\n",
              "      <td>00:34</td>\n",
              "    </tr>\n",
              "    <tr>\n",
              "      <td>11</td>\n",
              "      <td>0.054283</td>\n",
              "      <td>0.113015</td>\n",
              "      <td>0.975000</td>\n",
              "      <td>00:34</td>\n",
              "    </tr>\n",
              "    <tr>\n",
              "      <td>12</td>\n",
              "      <td>0.057210</td>\n",
              "      <td>0.116895</td>\n",
              "      <td>0.969444</td>\n",
              "      <td>00:34</td>\n",
              "    </tr>\n",
              "    <tr>\n",
              "      <td>13</td>\n",
              "      <td>0.067325</td>\n",
              "      <td>0.111836</td>\n",
              "      <td>0.969444</td>\n",
              "      <td>00:34</td>\n",
              "    </tr>\n",
              "    <tr>\n",
              "      <td>14</td>\n",
              "      <td>0.061048</td>\n",
              "      <td>0.110200</td>\n",
              "      <td>0.975000</td>\n",
              "      <td>00:34</td>\n",
              "    </tr>\n",
              "    <tr>\n",
              "      <td>15</td>\n",
              "      <td>0.065854</td>\n",
              "      <td>0.114119</td>\n",
              "      <td>0.980556</td>\n",
              "      <td>00:34</td>\n",
              "    </tr>\n",
              "    <tr>\n",
              "      <td>16</td>\n",
              "      <td>0.058880</td>\n",
              "      <td>0.107280</td>\n",
              "      <td>0.980556</td>\n",
              "      <td>00:34</td>\n",
              "    </tr>\n",
              "    <tr>\n",
              "      <td>17</td>\n",
              "      <td>0.051575</td>\n",
              "      <td>0.104200</td>\n",
              "      <td>0.980556</td>\n",
              "      <td>00:34</td>\n",
              "    </tr>\n",
              "    <tr>\n",
              "      <td>18</td>\n",
              "      <td>0.052016</td>\n",
              "      <td>0.111776</td>\n",
              "      <td>0.977778</td>\n",
              "      <td>00:34</td>\n",
              "    </tr>\n",
              "    <tr>\n",
              "      <td>19</td>\n",
              "      <td>0.055073</td>\n",
              "      <td>0.121933</td>\n",
              "      <td>0.972222</td>\n",
              "      <td>00:34</td>\n",
              "    </tr>\n",
              "    <tr>\n",
              "      <td>20</td>\n",
              "      <td>0.065494</td>\n",
              "      <td>0.116597</td>\n",
              "      <td>0.977778</td>\n",
              "      <td>00:34</td>\n",
              "    </tr>\n",
              "    <tr>\n",
              "      <td>21</td>\n",
              "      <td>0.052793</td>\n",
              "      <td>0.123994</td>\n",
              "      <td>0.969444</td>\n",
              "      <td>00:34</td>\n",
              "    </tr>\n",
              "    <tr>\n",
              "      <td>22</td>\n",
              "      <td>0.058050</td>\n",
              "      <td>0.112340</td>\n",
              "      <td>0.975000</td>\n",
              "      <td>00:34</td>\n",
              "    </tr>\n",
              "    <tr>\n",
              "      <td>23</td>\n",
              "      <td>0.048666</td>\n",
              "      <td>0.107505</td>\n",
              "      <td>0.980556</td>\n",
              "      <td>00:34</td>\n",
              "    </tr>\n",
              "    <tr>\n",
              "      <td>24</td>\n",
              "      <td>0.051981</td>\n",
              "      <td>0.118123</td>\n",
              "      <td>0.972222</td>\n",
              "      <td>00:34</td>\n",
              "    </tr>\n",
              "    <tr>\n",
              "      <td>25</td>\n",
              "      <td>0.058378</td>\n",
              "      <td>0.112230</td>\n",
              "      <td>0.977778</td>\n",
              "      <td>00:34</td>\n",
              "    </tr>\n",
              "    <tr>\n",
              "      <td>26</td>\n",
              "      <td>0.055663</td>\n",
              "      <td>0.109355</td>\n",
              "      <td>0.977778</td>\n",
              "      <td>00:34</td>\n",
              "    </tr>\n",
              "    <tr>\n",
              "      <td>27</td>\n",
              "      <td>0.049741</td>\n",
              "      <td>0.111541</td>\n",
              "      <td>0.975000</td>\n",
              "      <td>00:34</td>\n",
              "    </tr>\n",
              "    <tr>\n",
              "      <td>28</td>\n",
              "      <td>0.043192</td>\n",
              "      <td>0.108420</td>\n",
              "      <td>0.977778</td>\n",
              "      <td>00:34</td>\n",
              "    </tr>\n",
              "    <tr>\n",
              "      <td>29</td>\n",
              "      <td>0.050876</td>\n",
              "      <td>0.112744</td>\n",
              "      <td>0.975000</td>\n",
              "      <td>00:34</td>\n",
              "    </tr>\n",
              "    <tr>\n",
              "      <td>30</td>\n",
              "      <td>0.045900</td>\n",
              "      <td>0.119288</td>\n",
              "      <td>0.975000</td>\n",
              "      <td>00:34</td>\n",
              "    </tr>\n",
              "    <tr>\n",
              "      <td>31</td>\n",
              "      <td>0.046363</td>\n",
              "      <td>0.117601</td>\n",
              "      <td>0.975000</td>\n",
              "      <td>00:34</td>\n",
              "    </tr>\n",
              "  </tbody>\n",
              "</table>"
            ],
            "text/plain": [
              "<IPython.core.display.HTML object>"
            ]
          },
          "metadata": {
            "tags": []
          }
        }
      ]
    },
    {
      "cell_type": "code",
      "metadata": {
        "id": "EP_wBLlhuwVW",
        "colab_type": "code",
        "colab": {
          "base_uri": "https://localhost:8080/",
          "height": 34
        },
        "outputId": "5eb23820-5357-4eaa-ebac-d8fa103d3aa9"
      },
      "source": [
        "predict(test,learn)"
      ],
      "execution_count": 72,
      "outputs": [
        {
          "output_type": "stream",
          "text": [
            "(200, 196, 0.98)\n"
          ],
          "name": "stdout"
        }
      ]
    },
    {
      "cell_type": "code",
      "metadata": {
        "id": "NrilhcWPv1aK",
        "colab_type": "code",
        "colab": {
          "base_uri": "https://localhost:8080/",
          "height": 958
        },
        "outputId": "f64e1d8e-9cf6-4d1d-f662-681fa78d3168"
      },
      "source": [
        "learn.fit_one_cycle(32, slice(1e-3/(2.6**4),1e-3), moms=(0.8,0.7))"
      ],
      "execution_count": 73,
      "outputs": [
        {
          "output_type": "display_data",
          "data": {
            "text/html": [
              "<table border=\"1\" class=\"dataframe\">\n",
              "  <thead>\n",
              "    <tr style=\"text-align: left;\">\n",
              "      <th>epoch</th>\n",
              "      <th>train_loss</th>\n",
              "      <th>valid_loss</th>\n",
              "      <th>accuracy</th>\n",
              "      <th>time</th>\n",
              "    </tr>\n",
              "  </thead>\n",
              "  <tbody>\n",
              "    <tr>\n",
              "      <td>0</td>\n",
              "      <td>0.047213</td>\n",
              "      <td>0.121982</td>\n",
              "      <td>0.972222</td>\n",
              "      <td>00:34</td>\n",
              "    </tr>\n",
              "    <tr>\n",
              "      <td>1</td>\n",
              "      <td>0.048887</td>\n",
              "      <td>0.108701</td>\n",
              "      <td>0.977778</td>\n",
              "      <td>00:34</td>\n",
              "    </tr>\n",
              "    <tr>\n",
              "      <td>2</td>\n",
              "      <td>0.061063</td>\n",
              "      <td>0.109392</td>\n",
              "      <td>0.977778</td>\n",
              "      <td>00:34</td>\n",
              "    </tr>\n",
              "    <tr>\n",
              "      <td>3</td>\n",
              "      <td>0.056153</td>\n",
              "      <td>0.107902</td>\n",
              "      <td>0.977778</td>\n",
              "      <td>00:34</td>\n",
              "    </tr>\n",
              "    <tr>\n",
              "      <td>4</td>\n",
              "      <td>0.047090</td>\n",
              "      <td>0.110308</td>\n",
              "      <td>0.977778</td>\n",
              "      <td>00:34</td>\n",
              "    </tr>\n",
              "    <tr>\n",
              "      <td>5</td>\n",
              "      <td>0.054735</td>\n",
              "      <td>0.109821</td>\n",
              "      <td>0.977778</td>\n",
              "      <td>00:34</td>\n",
              "    </tr>\n",
              "    <tr>\n",
              "      <td>6</td>\n",
              "      <td>0.058492</td>\n",
              "      <td>0.111487</td>\n",
              "      <td>0.977778</td>\n",
              "      <td>00:34</td>\n",
              "    </tr>\n",
              "    <tr>\n",
              "      <td>7</td>\n",
              "      <td>0.054571</td>\n",
              "      <td>0.109225</td>\n",
              "      <td>0.977778</td>\n",
              "      <td>00:34</td>\n",
              "    </tr>\n",
              "    <tr>\n",
              "      <td>8</td>\n",
              "      <td>0.051773</td>\n",
              "      <td>0.111278</td>\n",
              "      <td>0.975000</td>\n",
              "      <td>00:34</td>\n",
              "    </tr>\n",
              "    <tr>\n",
              "      <td>9</td>\n",
              "      <td>0.051290</td>\n",
              "      <td>0.106607</td>\n",
              "      <td>0.980556</td>\n",
              "      <td>00:34</td>\n",
              "    </tr>\n",
              "    <tr>\n",
              "      <td>10</td>\n",
              "      <td>0.045408</td>\n",
              "      <td>0.113185</td>\n",
              "      <td>0.975000</td>\n",
              "      <td>00:34</td>\n",
              "    </tr>\n",
              "    <tr>\n",
              "      <td>11</td>\n",
              "      <td>0.047734</td>\n",
              "      <td>0.113433</td>\n",
              "      <td>0.975000</td>\n",
              "      <td>00:34</td>\n",
              "    </tr>\n",
              "    <tr>\n",
              "      <td>12</td>\n",
              "      <td>0.049048</td>\n",
              "      <td>0.107051</td>\n",
              "      <td>0.975000</td>\n",
              "      <td>00:34</td>\n",
              "    </tr>\n",
              "    <tr>\n",
              "      <td>13</td>\n",
              "      <td>0.045615</td>\n",
              "      <td>0.120931</td>\n",
              "      <td>0.969444</td>\n",
              "      <td>00:34</td>\n",
              "    </tr>\n",
              "    <tr>\n",
              "      <td>14</td>\n",
              "      <td>0.047093</td>\n",
              "      <td>0.110134</td>\n",
              "      <td>0.975000</td>\n",
              "      <td>00:34</td>\n",
              "    </tr>\n",
              "    <tr>\n",
              "      <td>15</td>\n",
              "      <td>0.046665</td>\n",
              "      <td>0.111313</td>\n",
              "      <td>0.975000</td>\n",
              "      <td>00:34</td>\n",
              "    </tr>\n",
              "    <tr>\n",
              "      <td>16</td>\n",
              "      <td>0.049529</td>\n",
              "      <td>0.109300</td>\n",
              "      <td>0.977778</td>\n",
              "      <td>00:34</td>\n",
              "    </tr>\n",
              "    <tr>\n",
              "      <td>17</td>\n",
              "      <td>0.041371</td>\n",
              "      <td>0.110942</td>\n",
              "      <td>0.977778</td>\n",
              "      <td>00:34</td>\n",
              "    </tr>\n",
              "    <tr>\n",
              "      <td>18</td>\n",
              "      <td>0.044248</td>\n",
              "      <td>0.114587</td>\n",
              "      <td>0.977778</td>\n",
              "      <td>00:34</td>\n",
              "    </tr>\n",
              "    <tr>\n",
              "      <td>19</td>\n",
              "      <td>0.049348</td>\n",
              "      <td>0.117761</td>\n",
              "      <td>0.975000</td>\n",
              "      <td>00:34</td>\n",
              "    </tr>\n",
              "    <tr>\n",
              "      <td>20</td>\n",
              "      <td>0.046503</td>\n",
              "      <td>0.112981</td>\n",
              "      <td>0.977778</td>\n",
              "      <td>00:34</td>\n",
              "    </tr>\n",
              "    <tr>\n",
              "      <td>21</td>\n",
              "      <td>0.043033</td>\n",
              "      <td>0.108425</td>\n",
              "      <td>0.977778</td>\n",
              "      <td>00:34</td>\n",
              "    </tr>\n",
              "    <tr>\n",
              "      <td>22</td>\n",
              "      <td>0.049184</td>\n",
              "      <td>0.114347</td>\n",
              "      <td>0.975000</td>\n",
              "      <td>00:34</td>\n",
              "    </tr>\n",
              "    <tr>\n",
              "      <td>23</td>\n",
              "      <td>0.047354</td>\n",
              "      <td>0.109152</td>\n",
              "      <td>0.977778</td>\n",
              "      <td>00:34</td>\n",
              "    </tr>\n",
              "    <tr>\n",
              "      <td>24</td>\n",
              "      <td>0.043584</td>\n",
              "      <td>0.110049</td>\n",
              "      <td>0.977778</td>\n",
              "      <td>00:34</td>\n",
              "    </tr>\n",
              "    <tr>\n",
              "      <td>25</td>\n",
              "      <td>0.047157</td>\n",
              "      <td>0.107662</td>\n",
              "      <td>0.977778</td>\n",
              "      <td>00:34</td>\n",
              "    </tr>\n",
              "    <tr>\n",
              "      <td>26</td>\n",
              "      <td>0.043036</td>\n",
              "      <td>0.110974</td>\n",
              "      <td>0.975000</td>\n",
              "      <td>00:34</td>\n",
              "    </tr>\n",
              "    <tr>\n",
              "      <td>27</td>\n",
              "      <td>0.045072</td>\n",
              "      <td>0.109363</td>\n",
              "      <td>0.977778</td>\n",
              "      <td>00:34</td>\n",
              "    </tr>\n",
              "    <tr>\n",
              "      <td>28</td>\n",
              "      <td>0.046405</td>\n",
              "      <td>0.111274</td>\n",
              "      <td>0.977778</td>\n",
              "      <td>00:34</td>\n",
              "    </tr>\n",
              "    <tr>\n",
              "      <td>29</td>\n",
              "      <td>0.044201</td>\n",
              "      <td>0.111290</td>\n",
              "      <td>0.977778</td>\n",
              "      <td>00:34</td>\n",
              "    </tr>\n",
              "    <tr>\n",
              "      <td>30</td>\n",
              "      <td>0.039948</td>\n",
              "      <td>0.108407</td>\n",
              "      <td>0.977778</td>\n",
              "      <td>00:34</td>\n",
              "    </tr>\n",
              "    <tr>\n",
              "      <td>31</td>\n",
              "      <td>0.040868</td>\n",
              "      <td>0.110100</td>\n",
              "      <td>0.977778</td>\n",
              "      <td>00:34</td>\n",
              "    </tr>\n",
              "  </tbody>\n",
              "</table>"
            ],
            "text/plain": [
              "<IPython.core.display.HTML object>"
            ]
          },
          "metadata": {
            "tags": []
          }
        }
      ]
    },
    {
      "cell_type": "code",
      "metadata": {
        "id": "XjWJ53xRv5oo",
        "colab_type": "code",
        "colab": {
          "base_uri": "https://localhost:8080/",
          "height": 34
        },
        "outputId": "3735e670-ed73-4930-9c33-5015f1b6543d"
      },
      "source": [
        "predict(test,learn)"
      ],
      "execution_count": 74,
      "outputs": [
        {
          "output_type": "stream",
          "text": [
            "(200, 197, 0.985)\n"
          ],
          "name": "stdout"
        }
      ]
    },
    {
      "cell_type": "code",
      "metadata": {
        "id": "u75jzNXaBIQE",
        "colab_type": "code",
        "colab": {
          "base_uri": "https://localhost:8080/",
          "height": 556
        },
        "outputId": "4b0b062c-59f5-4b8a-9678-54f00fbaef7e"
      },
      "source": [
        "learn.model"
      ],
      "execution_count": 75,
      "outputs": [
        {
          "output_type": "execute_result",
          "data": {
            "text/plain": [
              "SequentialRNN(\n",
              "  (0): MultiBatchEncoder(\n",
              "    (module): AWD_LSTM(\n",
              "      (encoder): Embedding(72, 400, padding_idx=1)\n",
              "      (encoder_dp): EmbeddingDropout(\n",
              "        (emb): Embedding(72, 400, padding_idx=1)\n",
              "      )\n",
              "      (rnns): ModuleList(\n",
              "        (0): WeightDropout(\n",
              "          (module): LSTM(400, 400, batch_first=True)\n",
              "        )\n",
              "      )\n",
              "      (input_dp): RNNDropout()\n",
              "      (hidden_dps): ModuleList(\n",
              "        (0): RNNDropout()\n",
              "      )\n",
              "    )\n",
              "  )\n",
              "  (1): PoolingLinearClassifier(\n",
              "    (layers): Sequential(\n",
              "      (0): BatchNorm1d(1200, eps=1e-05, momentum=0.1, affine=True, track_running_stats=True)\n",
              "      (1): Dropout(p=0.8)\n",
              "      (2): Linear(in_features=1200, out_features=50, bias=True)\n",
              "      (3): ReLU(inplace)\n",
              "      (4): BatchNorm1d(50, eps=1e-05, momentum=0.1, affine=True, track_running_stats=True)\n",
              "      (5): Dropout(p=0.1)\n",
              "      (6): Linear(in_features=50, out_features=2, bias=True)\n",
              "    )\n",
              "  )\n",
              ")"
            ]
          },
          "metadata": {
            "tags": []
          },
          "execution_count": 75
        }
      ]
    }
  ]
}